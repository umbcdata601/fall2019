{
 "cells": [
  {
   "cell_type": "markdown",
   "metadata": {},
   "source": [
    "https://code.activestate.com/recipes/117119-sieve-of-eratosthenes/"
   ]
  },
  {
   "cell_type": "code",
   "execution_count": 13,
   "metadata": {},
   "outputs": [],
   "source": [
    "def eratosthenes():\n",
    "    '''\n",
    "    Yields the sequence of prime numbers via the Sieve of Eratosthenes.\n",
    "    \n",
    "    source: https://code.activestate.com/recipes/117119-sieve-of-eratosthenes/\n",
    "    which I arrived at from \n",
    "    https://stackoverflow.com/questions/567222/simple-prime-generator-in-python\n",
    "    \n",
    "    '''\n",
    "    D = {}  # map composite integers to primes witnessing their compositeness\n",
    "    q = 2   # first integer to test for primality\n",
    "    while 1:\n",
    "        if q not in D:\n",
    "            yield q        # not marked composite, must be prime\n",
    "            D[q*q] = [q]   # first multiple of q not already marked\n",
    "        else:\n",
    "            for p in D[q]: # move each witness to its next multiple\n",
    "                D.setdefault(p+q,[]).append(p)\n",
    "            del D[q]       # no longer need D[q], free memory\n",
    "        q += 1"
   ]
  },
  {
   "cell_type": "code",
   "execution_count": null,
   "metadata": {},
   "outputs": [],
   "source": []
  },
  {
   "cell_type": "code",
   "execution_count": 20,
   "metadata": {},
   "outputs": [],
   "source": [
    "prime_count_list = [10, 100, 1000, 10000]\n",
    "str_len = []\n",
    "for prime_count in prime_count_list:\n",
    "    prim = eratosthenes()\n",
    "    prime_str = \"\"\n",
    "    for indx in range(prime_count):\n",
    "        prime_str += str(next(prim))\n",
    "    str_len.append(len(prime_str))"
   ]
  },
  {
   "cell_type": "code",
   "execution_count": 21,
   "metadata": {},
   "outputs": [
    {
     "data": {
      "text/plain": [
       "[16, 271, 3803, 48982]"
      ]
     },
     "execution_count": 21,
     "metadata": {},
     "output_type": "execute_result"
    }
   ],
   "source": [
    "str_len"
   ]
  },
  {
   "cell_type": "code",
   "execution_count": 22,
   "metadata": {},
   "outputs": [],
   "source": [
    "import matplotlib.pyplot as plt"
   ]
  },
  {
   "cell_type": "code",
   "execution_count": 24,
   "metadata": {},
   "outputs": [
    {
     "data": {
      "image/png": "[encoded data removed]",
      "text/plain": [
       "<Figure size 432x288 with 1 Axes>"
      ]
     },
     "metadata": {
      "needs_background": "light"
     },
     "output_type": "display_data"
    }
   ],
   "source": [
    "plt.scatter(prime_count_list,str_len)\n",
    "plt.xlabel('number of primes')\n",
    "_=plt.ylabel('length of str output')"
   ]
  },
  {
   "cell_type": "code",
   "execution_count": 26,
   "metadata": {},
   "outputs": [],
   "source": [
    "def eratosthenes():\n",
    "    '''\n",
    "    Yields the sequence of prime numbers via the Sieve of Eratosthenes.\n",
    "    \n",
    "    source: https://code.activestate.com/recipes/117119-sieve-of-eratosthenes/\n",
    "    which I arrived at from \n",
    "    https://stackoverflow.com/questions/567222/simple-prime-generator-in-python\n",
    "    \n",
    "    '''\n",
    "    D = {}  # map composite integers to primes witnessing their compositeness\n",
    "    q = 2   # first integer to test for primality\n",
    "    while 1:\n",
    "        if q not in D:\n",
    "            yield q        # not marked composite, must be prime\n",
    "            D[q*q] = [q]   # first multiple of q not already marked\n",
    "        else:\n",
    "            for p in D[q]: # move each witness to its next multiple\n",
    "                D.setdefault(p+q,[]).append(p)\n",
    "            del D[q]       # no longer need D[q], free memory\n",
    "        q += 1\n",
    "\n",
    "def create_prime_str(prime_count=10000):\n",
    "    prim = eratosthenes()\n",
    "    prime_str = \"\"\n",
    "    for indx in range(prime_count):\n",
    "        prime_str += str(next(prim))\n",
    "    return prime_str\n",
    "\n",
    "def solution(indx):\n",
    "    return\n",
    "    "
   ]
  },
  {
   "cell_type": "code",
   "execution_count": 27,
   "metadata": {},
   "outputs": [],
   "source": [
    "prime_str = create_prime_str(prime_count=10000)"
   ]
  },
  {
   "cell_type": "code",
   "execution_count": 28,
   "metadata": {},
   "outputs": [
    {
     "data": {
      "text/plain": [
       "48982"
      ]
     },
     "execution_count": 28,
     "metadata": {},
     "output_type": "execute_result"
    }
   ],
   "source": [
    "len(prime_str)"
   ]
  },
  {
   "cell_type": "code",
   "execution_count": 30,
   "metadata": {},
   "outputs": [
    {
     "data": {
      "text/plain": [
       "'23571'"
      ]
     },
     "execution_count": 30,
     "metadata": {},
     "output_type": "execute_result"
    }
   ],
   "source": [
    "prime_str[0:5]"
   ]
  },
  {
   "cell_type": "code",
   "execution_count": 31,
   "metadata": {},
   "outputs": [
    {
     "data": {
      "text/plain": [
       "'71113'"
      ]
     },
     "execution_count": 31,
     "metadata": {},
     "output_type": "execute_result"
    }
   ],
   "source": [
    "prime_str[3:3+5]"
   ]
  },
  {
   "cell_type": "code",
   "execution_count": null,
   "metadata": {},
   "outputs": [],
   "source": []
  }
 ],
 "metadata": {
  "kernelspec": {
   "display_name": "Python 3",
   "language": "python",
   "name": "python3"
  },
  "language_info": {
   "codemirror_mode": {
    "name": "ipython",
    "version": 3
   },
   "file_extension": ".py",
   "mimetype": "text/x-python",
   "name": "python",
   "nbconvert_exporter": "python",
   "pygments_lexer": "ipython3",
   "version": "3.6.6"
  }
 },
 "nbformat": 4,
 "nbformat_minor": 2
}
