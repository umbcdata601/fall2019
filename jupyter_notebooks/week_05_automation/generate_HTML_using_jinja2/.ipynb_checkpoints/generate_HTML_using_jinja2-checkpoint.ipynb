{
 "cells": [
  {
   "cell_type": "code",
   "execution_count": 1,
   "metadata": {},
   "outputs": [
    {
     "name": "stdout",
     "output_type": "stream",
     "text": [
      "sys.version_info(major=3, minor=6, micro=7, releaselevel='final', serial=0)\n"
     ]
    }
   ],
   "source": [
    "import sys\n",
    "print(sys.version_info)"
   ]
  },
  {
   "cell_type": "code",
   "execution_count": 2,
   "metadata": {},
   "outputs": [
    {
     "name": "stdout",
     "output_type": "stream",
     "text": [
      "4.4.0\n"
     ]
    }
   ],
   "source": [
    "!jupyter --version"
   ]
  },
  {
   "cell_type": "code",
   "execution_count": 3,
   "metadata": {},
   "outputs": [
    {
     "name": "stdout",
     "output_type": "stream",
     "text": [
      "58137052d3ff\n"
     ]
    }
   ],
   "source": [
    "!hostname"
   ]
  },
  {
   "cell_type": "markdown",
   "metadata": {},
   "source": [
    "https://en.wikipedia.org/wiki/Jinja_(template_engine)"
   ]
  },
  {
   "cell_type": "markdown",
   "metadata": {},
   "source": [
    "# Simple example of templating HTML"
   ]
  },
  {
   "cell_type": "markdown",
   "metadata": {},
   "source": [
    "https://gist.github.com/wrunk/1317933/d204be62e6001ea21e99ca0a90594200ade2511e"
   ]
  },
  {
   "cell_type": "code",
   "execution_count": 4,
   "metadata": {},
   "outputs": [],
   "source": [
    "from jinja2 import Environment"
   ]
  },
  {
   "cell_type": "markdown",
   "metadata": {},
   "source": [
    "We can have HTML that contains a variable\n",
    "\n",
    "_(Jinja2 syntax is also used in Ansible)_"
   ]
  },
  {
   "cell_type": "code",
   "execution_count": 5,
   "metadata": {},
   "outputs": [],
   "source": [
    "HTML_page = \"\"\"\n",
    "<html>\n",
    "<head>\n",
    "<title>{{ title }}</title>\n",
    "</head>\n",
    "<body>\n",
    "Hello.\n",
    "</body>\n",
    "</html>\n",
    "\"\"\""
   ]
  },
  {
   "cell_type": "markdown",
   "metadata": {},
   "source": [
    "Given a template, we can substitute a vairable generate HTML"
   ]
  },
  {
   "cell_type": "code",
   "execution_count": 6,
   "metadata": {},
   "outputs": [
    {
     "name": "stdout",
     "output_type": "stream",
     "text": [
      "\n",
      "<html>\n",
      "<head>\n",
      "<title>Hello World</title>\n",
      "</head>\n",
      "<body>\n",
      "Hello.\n",
      "</body>\n",
      "</html>\n"
     ]
    }
   ],
   "source": [
    "print(Environment().from_string(HTML_page).render(title='Hello World'))"
   ]
  },
  {
   "cell_type": "markdown",
   "metadata": {},
   "source": [
    "# more substitution into templates"
   ]
  },
  {
   "cell_type": "markdown",
   "metadata": {},
   "source": [
    "https://medium.com/@jasonrigden/jinja2-templating-engine-tutorial-4bd31fb4aea3"
   ]
  },
  {
   "cell_type": "code",
   "execution_count": 7,
   "metadata": {},
   "outputs": [],
   "source": [
    "from jinja2 import Environment, FileSystemLoader"
   ]
  },
  {
   "cell_type": "markdown",
   "metadata": {},
   "source": [
    "the contents of the file containing the template are"
   ]
  },
  {
   "cell_type": "code",
   "execution_count": 9,
   "metadata": {},
   "outputs": [
    {
     "name": "stdout",
     "output_type": "stream",
     "text": [
      "{{ name }} had a little lamb."
     ]
    }
   ],
   "source": [
    "!cat had_a_lamb.txt"
   ]
  },
  {
   "cell_type": "code",
   "execution_count": 8,
   "metadata": {},
   "outputs": [],
   "source": [
    "file_loader = FileSystemLoader('.') # use the current working directory\n",
    "env = Environment(loader=file_loader)\n",
    "\n",
    "template = env.get_template('had_a_lamb.txt') # read a file which contains the template"
   ]
  },
  {
   "cell_type": "markdown",
   "metadata": {},
   "source": [
    "to use the template, substitute a value for the variable"
   ]
  },
  {
   "cell_type": "code",
   "execution_count": 10,
   "metadata": {},
   "outputs": [
    {
     "name": "stdout",
     "output_type": "stream",
     "text": [
      "Mary had a little lamb.\n"
     ]
    }
   ],
   "source": [
    "output = template.render(name='Mary')\n",
    "print(output)"
   ]
  },
  {
   "cell_type": "markdown",
   "metadata": {},
   "source": [
    "Use a more advanced substitution with dictionaries:"
   ]
  },
  {
   "cell_type": "code",
   "execution_count": 11,
   "metadata": {},
   "outputs": [
    {
     "name": "stdout",
     "output_type": "stream",
     "text": [
      "{{ data.name }} had a little {{ data.animal }}."
     ]
    }
   ],
   "source": [
    "!cat had_lamb_dictionary.txt"
   ]
  },
  {
   "cell_type": "code",
   "execution_count": 12,
   "metadata": {},
   "outputs": [],
   "source": [
    "template = env.get_template('had_lamb_dictionary.txt')"
   ]
  },
  {
   "cell_type": "code",
   "execution_count": 1,
   "metadata": {},
   "outputs": [
    {
     "data": {
      "text/plain": [
       "{'name': 'Frank', 'animal': 'dog'}"
      ]
     },
     "execution_count": 1,
     "metadata": {},
     "output_type": "execute_result"
    }
   ],
   "source": [
    "mydict = {}\n",
    "mydict['name'] = 'Frank'\n",
    "mydict['animal'] = 'dog'\n",
    "mydict"
   ]
  },
  {
   "cell_type": "markdown",
   "metadata": {},
   "source": [
    "send the dictionary to the template"
   ]
  },
  {
   "cell_type": "code",
   "execution_count": 13,
   "metadata": {},
   "outputs": [
    {
     "name": "stdout",
     "output_type": "stream",
     "text": [
      "Frank had a little dog.\n"
     ]
    }
   ],
   "source": [
    "output = template.render(data=mydict)\n",
    "print(output)"
   ]
  },
  {
   "cell_type": "markdown",
   "metadata": {},
   "source": [
    "# Template Inheritance\n",
    "\n",
    "So far we've looked at text files and templates as stand-alone.\n",
    "Here we insert templates into templates"
   ]
  },
  {
   "cell_type": "code",
   "execution_count": 14,
   "metadata": {},
   "outputs": [
    {
     "name": "stdout",
     "output_type": "stream",
     "text": [
      "<HEAD>\n",
      "  <TITLE>{{ title }}</TITLE>\n",
      "</HEAD>"
     ]
    }
   ],
   "source": [
    "!cat header.html"
   ]
  },
  {
   "cell_type": "code",
   "execution_count": 15,
   "metadata": {},
   "outputs": [
    {
     "name": "stdout",
     "output_type": "stream",
     "text": [
      "<HTML>\n",
      "    {% include 'header.html' %}\n",
      "  <BODY>\n",
      "      <P> {{ mytext }}</P>\n",
      "  </BODY>\n",
      "</HTML>"
     ]
    }
   ],
   "source": [
    "!cat base.html"
   ]
  },
  {
   "cell_type": "code",
   "execution_count": 16,
   "metadata": {},
   "outputs": [
    {
     "name": "stdout",
     "output_type": "stream",
     "text": [
      "<HTML>\n",
      "    <HEAD>\n",
      "  <TITLE>My awesome Page</TITLE>\n",
      "</HEAD>\n",
      "  <BODY>\n",
      "      <P> a comment</P>\n",
      "  </BODY>\n",
      "</HTML>\n"
     ]
    }
   ],
   "source": [
    "template = env.get_template('base.html')\n",
    "\n",
    "output = template.render(title='My awesome Page',mytext='a comment')\n",
    "print(output)"
   ]
  },
  {
   "cell_type": "markdown",
   "metadata": {},
   "source": [
    "## what's available from jinja?\n",
    "\n",
    "https://codeburst.io/jinja-2-explained-in-5-minutes-88548486834e"
   ]
  },
  {
   "cell_type": "raw",
   "metadata": {},
   "source": [
    "{%....%} are for statements\n",
    "{{....}} are expressions used to print to template output\n",
    "{#....#} are for comments which are not included in the template output\n",
    "#....##  are used as line statements"
   ]
  },
  {
   "cell_type": "markdown",
   "metadata": {},
   "source": [
    "## using a for loop in a template"
   ]
  },
  {
   "cell_type": "code",
   "execution_count": 17,
   "metadata": {},
   "outputs": [
    {
     "name": "stdout",
     "output_type": "stream",
     "text": [
      "<HTML>\n",
      "    {% include 'header.html' %}\n",
      "  <BODY>\n",
      "      <p>Loop through the list:</p>\n",
      "      <ul>\n",
      "        {% for n in my_list %}\n",
      "        <li>{{n}}</li>\n",
      "        {% endfor %}\n",
      "      </ul>\n",
      "  </BODY>\n",
      "</HTML>\n"
     ]
    }
   ],
   "source": [
    "!cat page_with_list.html"
   ]
  },
  {
   "cell_type": "code",
   "execution_count": 18,
   "metadata": {},
   "outputs": [
    {
     "name": "stdout",
     "output_type": "stream",
     "text": [
      "<HTML>\n",
      "    <HEAD>\n",
      "  <TITLE>My awesome Page</TITLE>\n",
      "</HEAD>\n",
      "  <BODY>\n",
      "      <p>Loop through the list:</p>\n",
      "      <ul>\n",
      "        \n",
      "        <li>0</li>\n",
      "        \n",
      "        <li>1</li>\n",
      "        \n",
      "        <li>2</li>\n",
      "        \n",
      "        <li>3</li>\n",
      "        \n",
      "        <li>4</li>\n",
      "        \n",
      "      </ul>\n",
      "  </BODY>\n",
      "</HTML>\n"
     ]
    }
   ],
   "source": [
    "template = env.get_template('page_with_list.html')\n",
    "\n",
    "output = template.render(title='My awesome Page',my_list=list(range(5)))\n",
    "print(output)"
   ]
  },
  {
   "cell_type": "code",
   "execution_count": null,
   "metadata": {},
   "outputs": [],
   "source": []
  }
 ],
 "metadata": {
  "kernelspec": {
   "display_name": "Python 3",
   "language": "python",
   "name": "python3"
  },
  "language_info": {
   "codemirror_mode": {
    "name": "ipython",
    "version": 3
   },
   "file_extension": ".py",
   "mimetype": "text/x-python",
   "name": "python",
   "nbconvert_exporter": "python",
   "pygments_lexer": "ipython3",
   "version": "3.6.7"
  }
 },
 "nbformat": 4,
 "nbformat_minor": 2
}
