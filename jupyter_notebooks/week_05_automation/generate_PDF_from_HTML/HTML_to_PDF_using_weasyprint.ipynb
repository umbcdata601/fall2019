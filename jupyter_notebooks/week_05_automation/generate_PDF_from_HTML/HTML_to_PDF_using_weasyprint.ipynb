{
 "cells": [
  {
   "cell_type": "code",
   "execution_count": 1,
   "metadata": {},
   "outputs": [
    {
     "name": "stdout",
     "output_type": "stream",
     "text": [
      "51ac59ad0242\n"
     ]
    }
   ],
   "source": [
    "!hostname"
   ]
  },
  {
   "cell_type": "code",
   "execution_count": 2,
   "metadata": {},
   "outputs": [
    {
     "name": "stdout",
     "output_type": "stream",
     "text": [
      "sys.version_info(major=3, minor=6, micro=7, releaselevel='final', serial=0)\n"
     ]
    }
   ],
   "source": [
    "import sys\n",
    "print(sys.version_info)"
   ]
  },
  {
   "cell_type": "code",
   "execution_count": 3,
   "metadata": {},
   "outputs": [
    {
     "name": "stdout",
     "output_type": "stream",
     "text": [
      "4.4.0\n"
     ]
    }
   ],
   "source": [
    "!jupyter --version"
   ]
  },
  {
   "cell_type": "raw",
   "metadata": {},
   "source": [
    "!pip install --upgrade pip"
   ]
  },
  {
   "cell_type": "code",
   "execution_count": 4,
   "metadata": {},
   "outputs": [
    {
     "name": "stdout",
     "output_type": "stream",
     "text": [
      "Collecting WeasyPrint\n",
      "\u001b[?25l  Downloading https://files.pythonhosted.org/packages/ca/1a/1925cf1e39e5526d9c686a31f798523e06ea45f20c958a429317a1110ee4/WeasyPrint-50-py3-none-any.whl (356kB)\n",
      "\u001b[K    100% |████████████████████████████████| 358kB 1.6MB/s \n",
      "\u001b[?25hCollecting cssselect2>=0.1 (from WeasyPrint)\n",
      "  Downloading https://files.pythonhosted.org/packages/c4/a1/1a37602bbcfa2f7c079758f31555776a00a947e43457a3e0110b2165c7d9/cssselect2-0.2.2-py2.py3-none-any.whl\n",
      "Requirement already satisfied: setuptools>=39.2.0 in /opt/conda/lib/python3.6/site-packages (from WeasyPrint) (40.4.3)\n",
      "Collecting CairoSVG>=2.4.0 (from WeasyPrint)\n",
      "\u001b[?25l  Downloading https://files.pythonhosted.org/packages/8e/3a/762f9272c20db092f4d537aaf364dd0770ecf8f7101b58c4e933e99ee2f6/CairoSVG-2.4.2-py3-none-any.whl (50kB)\n",
      "\u001b[K    100% |████████████████████████████████| 51kB 455kB/s \n",
      "\u001b[?25hCollecting html5lib>=0.999999999 (from WeasyPrint)\n",
      "\u001b[?25l  Downloading https://files.pythonhosted.org/packages/a5/62/bbd2be0e7943ec8504b517e62bab011b4946e1258842bc159e5dfde15b96/html5lib-1.0.1-py2.py3-none-any.whl (117kB)\n",
      "\u001b[K    100% |████████████████████████████████| 122kB 1.4MB/s \n",
      "\u001b[?25hCollecting Pyphen>=0.8 (from WeasyPrint)\n",
      "\u001b[?25l  Downloading https://files.pythonhosted.org/packages/15/82/08a3629dce8d1f3d91db843bb36d4d7db6b6269d5067259613a0d5c8a9db/Pyphen-0.9.5-py2.py3-none-any.whl (3.0MB)\n",
      "\u001b[K    100% |████████████████████████████████| 3.0MB 588kB/s \n",
      "\u001b[?25hCollecting cairocffi>=0.9.0 (from WeasyPrint)\n",
      "\u001b[?25l  Downloading https://files.pythonhosted.org/packages/f7/99/b3a2c6393563ccbe081ffcceb359ec27a6227792c5169604c1bd8128031a/cairocffi-1.1.0.tar.gz (68kB)\n",
      "\u001b[K    100% |████████████████████████████████| 71kB 1.2MB/s \n",
      "\u001b[?25hRequirement already satisfied: cffi>=0.6 in /opt/conda/lib/python3.6/site-packages (from WeasyPrint) (1.11.5)\n",
      "Collecting tinycss2>=1.0.0 (from WeasyPrint)\n",
      "\u001b[?25l  Downloading https://files.pythonhosted.org/packages/94/2c/4e501f9c351343c8ba10d70b5a7ca97cdab2690af043a6e52ada65b85b6b/tinycss2-1.0.2-py3-none-any.whl (61kB)\n",
      "\u001b[K    100% |████████████████████████████████| 71kB 893kB/s \n",
      "\u001b[?25hCollecting defusedxml (from CairoSVG>=2.4.0->WeasyPrint)\n",
      "  Downloading https://files.pythonhosted.org/packages/06/74/9b387472866358ebc08732de3da6dc48e44b0aacd2ddaa5cb85ab7e986a2/defusedxml-0.6.0-py2.py3-none-any.whl\n",
      "Requirement already satisfied: pillow in /opt/conda/lib/python3.6/site-packages (from CairoSVG>=2.4.0->WeasyPrint) (5.3.0)\n",
      "Requirement already satisfied: webencodings in /opt/conda/lib/python3.6/site-packages (from html5lib>=0.999999999->WeasyPrint) (0.5.1)\n",
      "Requirement already satisfied: six>=1.9 in /opt/conda/lib/python3.6/site-packages (from html5lib>=0.999999999->WeasyPrint) (1.11.0)\n",
      "Requirement already satisfied: pycparser in /opt/conda/lib/python3.6/site-packages (from cffi>=0.6->WeasyPrint) (2.19)\n",
      "Building wheels for collected packages: cairocffi\n",
      "  Running setup.py bdist_wheel for cairocffi ... \u001b[?25ldone\n",
      "\u001b[?25h  Stored in directory: /home/jovyan/.cache/pip/wheels/11/5e/47/167d9dfd5fa5850dd0cd3db80afe6db46e620edec3419dce5a\n",
      "Successfully built cairocffi\n",
      "Installing collected packages: tinycss2, cssselect2, defusedxml, cairocffi, CairoSVG, html5lib, Pyphen, WeasyPrint\n",
      "Successfully installed CairoSVG-2.4.2 Pyphen-0.9.5 WeasyPrint-50 cairocffi-1.1.0 cssselect2-0.2.2 defusedxml-0.6.0 html5lib-1.0.1 tinycss2-1.0.2\n"
     ]
    }
   ],
   "source": [
    "!pip install WeasyPrint"
   ]
  },
  {
   "cell_type": "code",
   "execution_count": 5,
   "metadata": {},
   "outputs": [],
   "source": [
    "from weasyprint import HTML"
   ]
  },
  {
   "cell_type": "markdown",
   "metadata": {},
   "source": [
    "https://weasyprint.readthedocs.io/en/latest/tutorial.html#as-a-python-library"
   ]
  },
  {
   "cell_type": "code",
   "execution_count": 6,
   "metadata": {},
   "outputs": [],
   "source": [
    "my_html_page=HTML(string='''\n",
    "    <h1>The title</h1>\n",
    "    <p>Content goes here\n",
    "''')"
   ]
  },
  {
   "cell_type": "code",
   "execution_count": 7,
   "metadata": {},
   "outputs": [],
   "source": [
    "my_html_page.write_pdf('report_from_weasyprint.pdf')"
   ]
  },
  {
   "cell_type": "code",
   "execution_count": 8,
   "metadata": {},
   "outputs": [
    {
     "name": "stdout",
     "output_type": "stream",
     "text": [
      "HTML_to_PDF_using_weasyprint.ipynb  my_example.pdf\n",
      "HTML_to_PDF_using_xhtml2pdf.ipynb   report.pdf\n"
     ]
    }
   ],
   "source": [
    "!ls"
   ]
  },
  {
   "cell_type": "code",
   "execution_count": null,
   "metadata": {},
   "outputs": [],
   "source": []
  }
 ],
 "metadata": {
  "kernelspec": {
   "display_name": "Python 3",
   "language": "python",
   "name": "python3"
  },
  "language_info": {
   "codemirror_mode": {
    "name": "ipython",
    "version": 3
   },
   "file_extension": ".py",
   "mimetype": "text/x-python",
   "name": "python",
   "nbconvert_exporter": "python",
   "pygments_lexer": "ipython3",
   "version": "3.6.7"
  }
 },
 "nbformat": 4,
 "nbformat_minor": 2
}
