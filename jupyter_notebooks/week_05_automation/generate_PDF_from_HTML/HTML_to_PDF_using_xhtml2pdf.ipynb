{
 "cells": [
  {
   "cell_type": "code",
   "execution_count": 1,
   "metadata": {},
   "outputs": [
    {
     "name": "stdout",
     "output_type": "stream",
     "text": [
      "Requirement already satisfied: xhtml2pdf in /opt/conda/lib/python3.6/site-packages (0.2.4)\n",
      "Requirement already satisfied: html5lib>=1.0 in /opt/conda/lib/python3.6/site-packages (from xhtml2pdf) (1.0.1)\n",
      "Requirement already satisfied: reportlab>=3.0 in /opt/conda/lib/python3.6/site-packages (from xhtml2pdf) (3.5.34)\n",
      "Requirement already satisfied: six in /opt/conda/lib/python3.6/site-packages (from xhtml2pdf) (1.11.0)\n",
      "Requirement already satisfied: Pillow in /opt/conda/lib/python3.6/site-packages (from xhtml2pdf) (5.3.0)\n",
      "Requirement already satisfied: pyPdf2 in /opt/conda/lib/python3.6/site-packages (from xhtml2pdf) (1.26.0)\n",
      "Requirement already satisfied: webencodings in /opt/conda/lib/python3.6/site-packages (from html5lib>=1.0->xhtml2pdf) (0.5.1)\n"
     ]
    }
   ],
   "source": [
    "!pip install xhtml2pdf"
   ]
  },
  {
   "cell_type": "code",
   "execution_count": 2,
   "metadata": {},
   "outputs": [],
   "source": [
    "import xhtml2pdf"
   ]
  },
  {
   "cell_type": "markdown",
   "metadata": {},
   "source": [
    "https://plot.ly/python/pdf-reports/"
   ]
  },
  {
   "cell_type": "code",
   "execution_count": 3,
   "metadata": {},
   "outputs": [],
   "source": [
    "from IPython.display import display, HTML"
   ]
  },
  {
   "cell_type": "code",
   "execution_count": 4,
   "metadata": {},
   "outputs": [],
   "source": [
    "from xhtml2pdf import pisa             # import python module\n",
    "\n",
    "# from https://xhtml2pdf.readthedocs.io/en/latest/usage.html\n",
    "# Utility function\n",
    "def convert_html_to_pdf(source_html, output_filename):\n",
    "    result_file = open(output_filename, \"w+b\") # open output file for writing (truncated binary)\n",
    "    # convert HTML to PDF\n",
    "    pisa_status = pisa.CreatePDF(\n",
    "            source_html,                # the HTML to convert\n",
    "            dest=result_file)           # file handle to recieve result\n",
    "\n",
    "    result_file.close()                 # close output file\n",
    "    return pisa_status.err              # return True on success and False on errors"
   ]
  },
  {
   "cell_type": "code",
   "execution_count": 5,
   "metadata": {},
   "outputs": [],
   "source": [
    "static_report=\"<HTML><BODY><P>Hello</P></BODY></HTML>\" # we could also read in HTML from a file"
   ]
  },
  {
   "cell_type": "code",
   "execution_count": 6,
   "metadata": {},
   "outputs": [],
   "source": [
    "err_msg = convert_html_to_pdf(static_report, 'report_from_xhtml2pdf.pdf')"
   ]
  },
  {
   "cell_type": "code",
   "execution_count": null,
   "metadata": {},
   "outputs": [],
   "source": [
    "!ls"
   ]
  },
  {
   "cell_type": "code",
   "execution_count": null,
   "metadata": {},
   "outputs": [],
   "source": []
  }
 ],
 "metadata": {
  "kernelspec": {
   "display_name": "Python 3",
   "language": "python",
   "name": "python3"
  },
  "language_info": {
   "codemirror_mode": {
    "name": "ipython",
    "version": 3
   },
   "file_extension": ".py",
   "mimetype": "text/x-python",
   "name": "python",
   "nbconvert_exporter": "python",
   "pygments_lexer": "ipython3",
   "version": "3.6.6"
  }
 },
 "nbformat": 4,
 "nbformat_minor": 2
}
