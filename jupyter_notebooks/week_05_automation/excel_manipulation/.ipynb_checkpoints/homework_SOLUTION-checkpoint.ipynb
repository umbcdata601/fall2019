{
 "cells": [
  {
   "cell_type": "markdown",
   "metadata": {},
   "source": [
    "# how I created the random data"
   ]
  },
  {
   "cell_type": "markdown",
   "metadata": {},
   "source": [
    "Excel file was created manually in Excel\n",
    "I created two sheets, each with different random integers in the first column\n",
    "\n",
    "Then I mixed entries from the second sheet with the values in the first sheet.\n",
    "https://apple.stackexchange.com/questions/142860/install-shuf-on-os-x\n",
    "\n",
    "`jot -r \"$(wc -l FILE)\" 1 |\n",
    "paste - FILE |\n",
    "sort -n |\n",
    "cut -f 2- |\n",
    "head -n 10`"
   ]
  },
  {
   "cell_type": "markdown",
   "metadata": {},
   "source": [
    "# Week 5 Assignment description"
   ]
  },
  {
   "cell_type": "markdown",
   "metadata": {},
   "source": [
    "You get an Excel spreadsheet that has two worksheets, \"patient info\" and \"records\"\n",
    "\n",
    "Each worksheet has data and visualizations and formulas\n",
    "Each row in each worksheet represents information associated with a single person.. \n",
    "Worksheet \"patient info\" has a \"patient id\" column; \n",
    "Worksheet \"records\" has a \"p_id\" column\n",
    "The \"patient id\" values in \"patient info\" tab are the same variable as \"p_id\" in \"records\". Some people have information on both sheets, while other people have information only on one sheet.\n",
    "Use openpyxl to copy information about patients from \"records\" to \"patient info\"​. Submit a notebook that reads the Excel spreadsheet and produces a separate spreadsheet with the following modifications:\n",
    "\n",
    "1. For each patient identified by \"p_id\" listed in the \"records\" sheet that don't exist in \"patient info,\" create a new row in \"patient info\". The row from \"records\" should be copied to the row in \"patient info.\"\n",
    "2. For each patient listed in the \"records\" sheet where \"p_id\" appears \"patient info\" under \"patient id,\" copy the data in the row from records to \"patient info\" sheet\n",
    "3. Make no changes to the visualizations that exist in each worksheet\n",
    "4. Make no changes to the data in the \"records\"sheet\n",
    "5. Write your changes to a new .xlsx file (don't overwrite the original)\n",
    "\n",
    "Observations:\n",
    "\n",
    "1. \"patient info\" worksheet will have new columns (because those new columns exist in the \"records\" worksheet\n",
    "2. \"patient info\" worksheet will have new rows (one new row per patient)\n",
    "3. There will be empty cells in \"patient info\" worksheet\n",
    "4. Use a programmatic (rather than manual) approach to identify which patients appear in both worksheets\n",
    "5. Some cells in both worksheets contain formulas. Copy only values from \"records\" to \"patient info\""
   ]
  },
  {
   "cell_type": "markdown",
   "metadata": {},
   "source": [
    "# Install openpyxl\n",
    "\n",
    "Source : https://openpyxl.readthedocs.io/en/stable/"
   ]
  },
  {
   "cell_type": "code",
   "execution_count": 1,
   "metadata": {},
   "outputs": [
    {
     "name": "stdout",
     "output_type": "stream",
     "text": [
      "Requirement already satisfied: openpyxl in /opt/conda/lib/python3.6/site-packages (3.0.0)\n",
      "Requirement already satisfied: et-xmlfile in /opt/conda/lib/python3.6/site-packages (from openpyxl) (1.0.1)\n",
      "Requirement already satisfied: jdcal in /opt/conda/lib/python3.6/site-packages (from openpyxl) (1.4.1)\n"
     ]
    }
   ],
   "source": [
    "# using pip to install openpyxl in the present instance\n",
    "!pip install openpyxl"
   ]
  },
  {
   "cell_type": "code",
   "execution_count": 2,
   "metadata": {},
   "outputs": [],
   "source": [
    "# importing the openpyxsl module \n",
    "import openpyxl as xsl"
   ]
  },
  {
   "cell_type": "markdown",
   "metadata": {},
   "source": [
    "# load data\n",
    "load_workbook() method load the excel sheet to a temporary workbook. This workbook in in python instance. "
   ]
  },
  {
   "cell_type": "code",
   "execution_count": 3,
   "metadata": {},
   "outputs": [],
   "source": [
    "# The excel file is loaded to wb. \n",
    "# This wb is later modified and saved as file name\n",
    "\n",
    "wb = xsl.load_workbook('week_05_homework_XLSX_openpyxl.xlsx')"
   ]
  },
  {
   "cell_type": "code",
   "execution_count": 4,
   "metadata": {},
   "outputs": [
    {
     "data": {
      "text/plain": [
       "['patient info', 'records']"
      ]
     },
     "execution_count": 4,
     "metadata": {},
     "output_type": "execute_result"
    }
   ],
   "source": [
    "# Printing the sheet names of the excel.\n",
    "# Sheetnames attribute is used to print all the sheet names of the Excel\n",
    "\n",
    "wb.sheetnames"
   ]
  },
  {
   "cell_type": "markdown",
   "metadata": {},
   "source": [
    "The sheets are now loaded to a workbook instance. again, these are only in python instance. "
   ]
  },
  {
   "cell_type": "code",
   "execution_count": 5,
   "metadata": {},
   "outputs": [],
   "source": [
    "# Loading the sheet data into work book instance.\n",
    "# patientinfo and records holds the sheet value of the excel. \n",
    "\n",
    "patientinfo = wb['patient info']\n",
    "records = wb['records']"
   ]
  },
  {
   "cell_type": "markdown",
   "metadata": {},
   "source": [
    "openpyxl enables to count maximum rows and columns. Max_row and max_colum are used to count the rows and column of patient_info sheet"
   ]
  },
  {
   "cell_type": "code",
   "execution_count": 6,
   "metadata": {},
   "outputs": [],
   "source": [
    "# Counting the maximum rows and Columns\n",
    "# here patientinfoRowCount is added to 1 to get the next vacant row index from where the data should be appended. \n",
    "\n",
    "patientinfoRowCount = patientinfo.max_row + 1\n",
    "patientinfoColumnCount = patientinfo.max_column"
   ]
  },
  {
   "cell_type": "markdown",
   "metadata": {},
   "source": [
    "Since the values are being coped from records sheet to patient_info shhet, to make the excel sheet more readable, the column names (headings) are also appended to the patien_info sheet after the maxmim column count index"
   ]
  },
  {
   "cell_type": "code",
   "execution_count": 7,
   "metadata": {},
   "outputs": [],
   "source": [
    "# This loop iterates among the columns of the records Sheet\n",
    "# Since I am appending the column headings, the row index will always be 1 \n",
    "# While the column index of patient info starts from 7(> Column count ) to maximum column count of records sheets\n",
    "# The column index of records sheet will start from 2, since I am not appending p_id heading\n",
    "for j in range(1,records.max_column):\n",
    "    patientinfo.cell(row = 1, column = j + patientinfoColumnCount).value =  records.cell(row = 1, column = j + 1).value "
   ]
  },
  {
   "cell_type": "markdown",
   "metadata": {},
   "source": [
    "Since the Patent_id and p_id are being compared, I copied all the pateint_id values and p_id values to seperate lists"
   ]
  },
  {
   "cell_type": "code",
   "execution_count": 8,
   "metadata": {},
   "outputs": [],
   "source": [
    "# This code will copy all the patent_id values to the list. \n",
    "# The range of excel starts from 1 unlike list which is 0 \n",
    "# to remove the headers, the range is started from 2 to maxmium row count\n",
    "\n",
    "patientinfoList = []\n",
    "for i in range(2,patientinfo.max_row):\n",
    "    patientinfoList.append(patientinfo.cell(row = i, column = 1).value)"
   ]
  },
  {
   "cell_type": "code",
   "execution_count": 9,
   "metadata": {},
   "outputs": [],
   "source": [
    "# This code will copy all the p_id values to the list. \n",
    "# The range of excel starts from 1 unlike list which is 0 \n",
    "# to remove the headers, the range is started from 2 to maxmium row count\n",
    "\n",
    "recordsList = [] \n",
    "for i in range(1,records.max_row):\n",
    "    recordsList.append(records.cell(row = i, column = 1).value)"
   ]
  },
  {
   "cell_type": "markdown",
   "metadata": {},
   "source": [
    "Now that, I have all the row values in seperate list, It's time to compare. In order to get the p_id \n",
    "from records that are also present in the patient_info\n",
    "I will have loop through records sheet and match them with the patient_info list."
   ]
  },
  {
   "cell_type": "code",
   "execution_count": 10,
   "metadata": {},
   "outputs": [],
   "source": [
    "# Declaring am empty list which will hold the matching values from both sheets\n",
    "\n",
    "appendList = []\n",
    "for j in range(2,records.max_row):\n",
    "    if(records.cell(row = j, column = 1).value in patientinfoList): #This condition is used to match each cell of the p_id from records with the patient list\n",
    "            appendList.append(records.cell(row = j, column = 1).value) #if match is found then it is appended to the declared list"
   ]
  },
  {
   "cell_type": "markdown",
   "metadata": {},
   "source": [
    "This logic is used to append the column data of the p_id from records sheet against patient_id in the patient info sheet"
   ]
  },
  {
   "cell_type": "code",
   "execution_count": 11,
   "metadata": {},
   "outputs": [],
   "source": [
    "# This logic contains multiple for loops. it will iterate through rows of patientinfo \n",
    "# if the match is found in the appenlist the it will iterate through the columns of records Sheet and it will append the column values in the patientinfo sheet. \n",
    "# the new colum index will be dynamic starting aftet the existing column indexes. \n",
    "# rowIndexOfRecords hold the index value of the matched p_id value from records sheets\n",
    "# This index is used to retrive the columns where the row index being rowIndexOfRecords constant and column index being dynamic\n",
    "\n",
    "for i in range(1,patientinfo.max_row):\n",
    "    if(patientinfo.cell(row=i, column = 1).value in appendList): \n",
    "        rowIndexOfRecords = recordsList.index(patientinfo.cell(row=i, column = 1).value)\n",
    "        for j in range(1,records.max_column ):\n",
    "            patientinfo.cell(row = i , column = j+patientinfoColumnCount).value = records.cell(row = rowIndexOfRecords + 1, column = j+1).value  "
   ]
  },
  {
   "cell_type": "markdown",
   "metadata": {},
   "source": [
    "The below code is used to append all the the unmatched p_id values with column data from records  sheet to patient info sheet"
   ]
  },
  {
   "cell_type": "code",
   "execution_count": 12,
   "metadata": {},
   "outputs": [],
   "source": [
    "# This list hold the tuples of records, which have the same pid and patient_id. \n",
    "# This list is later used to get the unmatches values \n",
    "sameTuplesList = []\n",
    "for rows in records.iter_rows():\n",
    "    for value in patientinfo.iter_rows():\n",
    "        if(rows[0].value == value[0].value):\n",
    "            sameTuplesList.append(rows)"
   ]
  },
  {
   "cell_type": "code",
   "execution_count": 13,
   "metadata": {},
   "outputs": [],
   "source": [
    "# This list is used to hold the tuples of unmatched p_id values of records sheet \n",
    "# This loop rocrds sheet and checks the data aginst the matched data i.e. sameTuplesList list. If not present it copies the row value to this list \n",
    "differentList = []\n",
    "for row in records.iter_rows():\n",
    "    if(row not in sameTuplesList):\n",
    "        differentList.append(row)"
   ]
  },
  {
   "cell_type": "code",
   "execution_count": 14,
   "metadata": {},
   "outputs": [],
   "source": [
    "# Since the data  comes with the heading, this logic is used to pop it out. \n",
    "# since the values are stored in the list, the headings are stored in the 0th index. \n",
    "heading = differentList.pop(0)"
   ]
  },
  {
   "cell_type": "code",
   "execution_count": 15,
   "metadata": {},
   "outputs": [],
   "source": [
    "# This logic is used to append the row values at the end of patient_info sheet. \n",
    "for value in differentList:\n",
    "    for j in range(2,records.max_column + 1):\n",
    "        patientinfo.cell(row = patientinfoRowCount, column = 1).value = value[0].value\n",
    "        patientinfo.cell(row = patientinfoRowCount, column = j + 5).value = value[j-1].value\n",
    "    patientinfoRowCount = patientinfoRowCount + 1"
   ]
  },
  {
   "cell_type": "code",
   "execution_count": 2,
   "metadata": {},
   "outputs": [
    {
     "ename": "NameError",
     "evalue": "name 'wb' is not defined",
     "output_type": "error",
     "traceback": [
      "\u001b[0;31m---------------------------------------------------------------------------\u001b[0m",
      "\u001b[0;31mNameError\u001b[0m                                 Traceback (most recent call last)",
      "\u001b[0;32m<ipython-input-2-44708580e1b6>\u001b[0m in \u001b[0;36m<module>\u001b[0;34m\u001b[0m\n\u001b[1;32m      1\u001b[0m \u001b[0;31m# saving the working to a new file\u001b[0m\u001b[0;34m\u001b[0m\u001b[0;34m\u001b[0m\u001b[0;34m\u001b[0m\u001b[0m\n\u001b[0;32m----> 2\u001b[0;31m \u001b[0mwb\u001b[0m\u001b[0;34m.\u001b[0m\u001b[0msave\u001b[0m\u001b[0;34m(\u001b[0m\u001b[0;34m'week_05_result.xlsx'\u001b[0m\u001b[0;34m)\u001b[0m\u001b[0;34m\u001b[0m\u001b[0;34m\u001b[0m\u001b[0m\n\u001b[0m",
      "\u001b[0;31mNameError\u001b[0m: name 'wb' is not defined"
     ]
    }
   ],
   "source": [
    "# saving the working to a new file\n",
    "wb.save('week_05_result.xlsx')"
   ]
  },
  {
   "cell_type": "code",
   "execution_count": null,
   "metadata": {},
   "outputs": [],
   "source": []
  }
 ],
 "metadata": {
  "kernelspec": {
   "display_name": "Python 3",
   "language": "python",
   "name": "python3"
  },
  "language_info": {
   "codemirror_mode": {
    "name": "ipython",
    "version": 3
   },
   "file_extension": ".py",
   "mimetype": "text/x-python",
   "name": "python",
   "nbconvert_exporter": "python",
   "pygments_lexer": "ipython3",
   "version": "3.6.7"
  }
 },
 "nbformat": 4,
 "nbformat_minor": 4
}
