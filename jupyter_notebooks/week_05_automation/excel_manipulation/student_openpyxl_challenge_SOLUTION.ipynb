{
 "cells": [
  {
   "cell_type": "code",
   "execution_count": null,
   "metadata": {},
   "outputs": [],
   "source": []
  },
  {
   "cell_type": "markdown",
   "metadata": {},
   "source": [
    "# install library"
   ]
  },
  {
   "cell_type": "raw",
   "metadata": {},
   "source": [
    "!conda install -c anaconda openpyxl"
   ]
  },
  {
   "cell_type": "code",
   "execution_count": 1,
   "metadata": {},
   "outputs": [
    {
     "name": "stdout",
     "output_type": "stream",
     "text": [
      "Requirement already satisfied: openpyxl in /opt/conda/lib/python3.6/site-packages (2.6.3)\n",
      "Requirement already satisfied: jdcal in /opt/conda/lib/python3.6/site-packages (from openpyxl) (1.4.1)\n",
      "Requirement already satisfied: et-xmlfile in /opt/conda/lib/python3.6/site-packages (from openpyxl) (1.0.1)\n"
     ]
    }
   ],
   "source": [
    "!pip install openpyxl"
   ]
  },
  {
   "cell_type": "code",
   "execution_count": 2,
   "metadata": {},
   "outputs": [],
   "source": [
    "import openpyxl"
   ]
  },
  {
   "cell_type": "markdown",
   "metadata": {},
   "source": [
    "# load data"
   ]
  },
  {
   "cell_type": "code",
   "execution_count": 3,
   "metadata": {},
   "outputs": [],
   "source": [
    "wb = openpyxl.load_workbook('week_05_in-class_activity.xlsx')"
   ]
  },
  {
   "cell_type": "code",
   "execution_count": 4,
   "metadata": {},
   "outputs": [],
   "source": [
    "# select the one available sheet; assign to a variable\n",
    "sheet = wb['Sheet1']"
   ]
  },
  {
   "cell_type": "markdown",
   "metadata": {},
   "source": [
    "&nbsp;\n",
    "# objective 1: create a new column that is the sum of the second (B) and third (C) columns"
   ]
  },
  {
   "cell_type": "code",
   "execution_count": 5,
   "metadata": {},
   "outputs": [
    {
     "data": {
      "text/plain": [
       "4"
      ]
     },
     "execution_count": 5,
     "metadata": {},
     "output_type": "execute_result"
    }
   ],
   "source": [
    "sheet.max_column"
   ]
  },
  {
   "cell_type": "code",
   "execution_count": 6,
   "metadata": {},
   "outputs": [
    {
     "data": {
      "text/plain": [
       "38"
      ]
     },
     "execution_count": 6,
     "metadata": {},
     "output_type": "execute_result"
    }
   ],
   "source": [
    "sheet.max_row"
   ]
  },
  {
   "cell_type": "code",
   "execution_count": 7,
   "metadata": {},
   "outputs": [],
   "source": [
    "col_b=sheet['B1':'B'+str(sheet.max_row)]\n",
    "col_c=sheet['C1':'C'+str(sheet.max_row)]"
   ]
  },
  {
   "cell_type": "code",
   "execution_count": 8,
   "metadata": {},
   "outputs": [
    {
     "name": "stdout",
     "output_type": "stream",
     "text": [
      "15 + 2 = 17\n",
      "50 + 2 = 52\n",
      "35 + 1 = 36\n",
      "48 + 1 = 49\n",
      "11 + 1 = 12\n",
      "41 + 2 = 43\n",
      "45 + 2 = 47\n",
      "49 + 2 = 51\n",
      "16 + 2 = 18\n",
      "13 + 1 = 14\n",
      "43 + 2 = 45\n",
      "41 + 2 = 43\n",
      "7 + 1 = 8\n",
      "34 + 1 = 35\n",
      "15 + 1 = 16\n",
      "36 + 1 = 37\n",
      "44 + 1 = 45\n",
      "20 + 1 = 21\n",
      "31 + 2 = 33\n",
      "36 + 1 = 37\n",
      "8 + 1 = 9\n",
      "11 + 1 = 12\n",
      "22 + 2 = 24\n",
      "47 + 1 = 48\n",
      "47 + 2 = 49\n",
      "34 + 1 = 35\n",
      "41 + 1 = 42\n",
      "4 + 1 = 5\n",
      "29 + 2 = 31\n",
      "37 + 2 = 39\n",
      "15 + 1 = 16\n",
      "7 + 1 = 8\n",
      "47 + 1 = 48\n",
      "48 + 1 = 49\n",
      "18 + 2 = 20\n",
      "33 + 1 = 34\n",
      "24 + 2 = 26\n"
     ]
    }
   ],
   "source": [
    "for indx in range(1,len(col_b)):\n",
    "    print(col_b[indx][0].value,'+',col_c[indx][0].value,'=',\n",
    "          col_b[indx][0].value  +  col_c[indx][0].value)\n",
    "    sheet['E'+str(indx+1)]=col_b[indx][0].value  +  col_c[indx][0].value"
   ]
  },
  {
   "cell_type": "code",
   "execution_count": 9,
   "metadata": {},
   "outputs": [],
   "source": [
    "wb.save('tmp_file1.xlsx')"
   ]
  },
  {
   "cell_type": "code",
   "execution_count": null,
   "metadata": {},
   "outputs": [],
   "source": []
  },
  {
   "cell_type": "markdown",
   "metadata": {},
   "source": [
    "&nbsp;\n",
    "# objective 2: create a new row when the value in column 1 is less than 5. In the new row, double the entries of the original row\n",
    "\n",
    "The new row can go at the bottom of the existing sheet"
   ]
  },
  {
   "cell_type": "code",
   "execution_count": 10,
   "metadata": {},
   "outputs": [
    {
     "name": "stdout",
     "output_type": "stream",
     "text": [
      "9\n",
      "7\n",
      "10\n",
      "3\n",
      "val less than 5\n",
      "10\n",
      "8\n",
      "9\n",
      "10\n",
      "7\n",
      "4\n",
      "val less than 5\n",
      "5\n",
      "5\n",
      "10\n",
      "4\n",
      "val less than 5\n",
      "3\n",
      "val less than 5\n",
      "8\n",
      "6\n",
      "7\n",
      "3\n",
      "val less than 5\n",
      "10\n",
      "5\n",
      "8\n",
      "4\n",
      "val less than 5\n",
      "9\n",
      "3\n",
      "val less than 5\n",
      "7\n",
      "7\n",
      "4\n",
      "val less than 5\n",
      "10\n",
      "3\n",
      "val less than 5\n",
      "3\n",
      "val less than 5\n",
      "9\n",
      "6\n",
      "9\n",
      "4\n",
      "val less than 5\n",
      "8\n",
      "5\n"
     ]
    }
   ],
   "source": [
    "for each_cell in sheet['A2':'A'+str(sheet.max_row)]:\n",
    "    print(each_cell[0].value)\n",
    "    if int(each_cell[0].value)<5:\n",
    "        print('val less than 5')"
   ]
  },
  {
   "cell_type": "code",
   "execution_count": 11,
   "metadata": {},
   "outputs": [],
   "source": [
    "list_of_rows_to_edit=[]\n",
    "for row in sheet.iter_rows():\n",
    "    #print(row[0].value)\n",
    "    try:\n",
    "        int(row[0].value)\n",
    "    except:\n",
    "        continue\n",
    "    if int(row[0].value)<5:\n",
    "        list_of_rows_to_edit.append(row)"
   ]
  },
  {
   "cell_type": "code",
   "execution_count": 12,
   "metadata": {},
   "outputs": [
    {
     "data": {
      "text/plain": [
       "(<Cell 'Sheet1'.A5>,\n",
       " <Cell 'Sheet1'.B5>,\n",
       " <Cell 'Sheet1'.C5>,\n",
       " <Cell 'Sheet1'.D5>,\n",
       " <Cell 'Sheet1'.E5>)"
      ]
     },
     "execution_count": 12,
     "metadata": {},
     "output_type": "execute_result"
    }
   ],
   "source": [
    "list_of_rows_to_edit[0]"
   ]
  },
  {
   "cell_type": "code",
   "execution_count": 13,
   "metadata": {},
   "outputs": [],
   "source": [
    "row_indx=sheet.max_row+1\n",
    "for this_row in list_of_rows_to_edit:\n",
    "    #print(this_row)\n",
    "    for col_idx in range(1,sheet.max_column+1):\n",
    "        #print('row',row_indx,'col',col_idx)\n",
    "        sheet.cell(row=row_indx, column=col_idx).value = this_row[col_idx-1].value\n",
    "    row_indx+=1"
   ]
  },
  {
   "cell_type": "code",
   "execution_count": null,
   "metadata": {},
   "outputs": [],
   "source": []
  },
  {
   "cell_type": "markdown",
   "metadata": {},
   "source": [
    "# save our work to a new file"
   ]
  },
  {
   "cell_type": "code",
   "execution_count": 14,
   "metadata": {},
   "outputs": [],
   "source": [
    "wb.save('tmp_file2.xlsx')"
   ]
  },
  {
   "cell_type": "code",
   "execution_count": null,
   "metadata": {},
   "outputs": [],
   "source": []
  }
 ],
 "metadata": {
  "kernelspec": {
   "display_name": "Python 3",
   "language": "python",
   "name": "python3"
  },
  "language_info": {
   "codemirror_mode": {
    "name": "ipython",
    "version": 3
   },
   "file_extension": ".py",
   "mimetype": "text/x-python",
   "name": "python",
   "nbconvert_exporter": "python",
   "pygments_lexer": "ipython3",
   "version": "3.6.6"
  }
 },
 "nbformat": 4,
 "nbformat_minor": 2
}
