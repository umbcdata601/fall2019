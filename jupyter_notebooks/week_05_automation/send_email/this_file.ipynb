hello from
a great file