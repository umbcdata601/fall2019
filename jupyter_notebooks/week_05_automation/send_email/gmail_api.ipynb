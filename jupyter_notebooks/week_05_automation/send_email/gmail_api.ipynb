{
 "cells": [
  {
   "cell_type": "markdown",
   "metadata": {},
   "source": [
    "https://developers.google.com/gmail/api/quickstart/python"
   ]
  },
  {
   "cell_type": "code",
   "execution_count": 1,
   "metadata": {},
   "outputs": [
    {
     "name": "stdout",
     "output_type": "stream",
     "text": [
      "d8fd25e85ef6\n"
     ]
    }
   ],
   "source": [
    "!hostname"
   ]
  },
  {
   "cell_type": "markdown",
   "metadata": {},
   "source": [
    "# install modules"
   ]
  },
  {
   "cell_type": "code",
   "execution_count": 2,
   "metadata": {},
   "outputs": [
    {
     "name": "stdout",
     "output_type": "stream",
     "text": [
      "Collecting google-api-python-client\n",
      "\u001b[?25l  Downloading https://files.pythonhosted.org/packages/9a/b4/a955f393b838bc47cbb6ae4643b9d0f90333d3b4db4dc1e819f36aad18cc/google_api_python_client-1.8.0-py3-none-any.whl (57kB)\n",
      "\u001b[K    100% |████████████████████████████████| 61kB 349kB/s \n",
      "\u001b[?25hRequirement already satisfied, skipping upgrade: six<2dev,>=1.6.1 in /opt/conda/lib/python3.6/site-packages (from google-api-python-client) (1.11.0)\n",
      "Collecting google-api-core<2dev,>=1.13.0 (from google-api-python-client)\n",
      "\u001b[?25l  Downloading https://files.pythonhosted.org/packages/63/7e/a523169b0cc9ce62d56e07571db927286a94b1a5f51ac220bd97db825c77/google_api_core-1.16.0-py2.py3-none-any.whl (70kB)\n",
      "\u001b[K    100% |████████████████████████████████| 71kB 297kB/s \n",
      "\u001b[?25hCollecting google-auth>=1.4.1 (from google-api-python-client)\n",
      "\u001b[?25l  Downloading https://files.pythonhosted.org/packages/05/b0/cc391ebf8ebf7855cdcfe0a9a4cdc8dcd90287c90e1ac22651d104ac6481/google_auth-1.12.0-py2.py3-none-any.whl (83kB)\n",
      "\u001b[K    100% |████████████████████████████████| 92kB 677kB/s \n",
      "\u001b[?25hCollecting uritemplate<4dev,>=3.0.0 (from google-api-python-client)\n",
      "  Downloading https://files.pythonhosted.org/packages/bf/0c/60d82c077998feb631608dca3cc1fe19ac074e772bf0c24cf409b977b815/uritemplate-3.0.1-py2.py3-none-any.whl\n",
      "Collecting google-auth-httplib2>=0.0.3 (from google-api-python-client)\n",
      "  Downloading https://files.pythonhosted.org/packages/33/49/c814d6d438b823441552198f096fcd0377fd6c88714dbed34f1d3c8c4389/google_auth_httplib2-0.0.3-py2.py3-none-any.whl\n",
      "Collecting httplib2<1dev,>=0.9.2 (from google-api-python-client)\n",
      "\u001b[?25l  Downloading https://files.pythonhosted.org/packages/8e/4b/025a7338bb2d4a2c61f0e530b79aafc29d112ed8e61333a6dd9ba48f3bab/httplib2-0.17.0-py3-none-any.whl (95kB)\n",
      "\u001b[K    100% |████████████████████████████████| 102kB 756kB/s \n",
      "\u001b[?25hRequirement already satisfied, skipping upgrade: protobuf>=3.4.0 in /opt/conda/lib/python3.6/site-packages (from google-api-core<2dev,>=1.13.0->google-api-python-client) (3.6.1)\n",
      "Requirement already satisfied, skipping upgrade: requests<3.0.0dev,>=2.18.0 in /opt/conda/lib/python3.6/site-packages (from google-api-core<2dev,>=1.13.0->google-api-python-client) (2.20.0)\n",
      "Collecting googleapis-common-protos<2.0dev,>=1.6.0 (from google-api-core<2dev,>=1.13.0->google-api-python-client)\n",
      "  Downloading https://files.pythonhosted.org/packages/05/46/168fd780f594a4d61122f7f3dc0561686084319ad73b4febbf02ae8b32cf/googleapis-common-protos-1.51.0.tar.gz\n",
      "Requirement already satisfied, skipping upgrade: setuptools>=34.0.0 in /opt/conda/lib/python3.6/site-packages (from google-api-core<2dev,>=1.13.0->google-api-python-client) (40.4.3)\n",
      "Requirement already satisfied, skipping upgrade: pytz in /opt/conda/lib/python3.6/site-packages (from google-api-core<2dev,>=1.13.0->google-api-python-client) (2018.6)\n",
      "Collecting pyasn1-modules>=0.2.1 (from google-auth>=1.4.1->google-api-python-client)\n",
      "\u001b[?25l  Downloading https://files.pythonhosted.org/packages/95/de/214830a981892a3e286c3794f41ae67a4495df1108c3da8a9f62159b9a9d/pyasn1_modules-0.2.8-py2.py3-none-any.whl (155kB)\n",
      "\u001b[K    100% |████████████████████████████████| 163kB 189kB/s \n",
      "\u001b[?25hCollecting cachetools<5.0,>=2.0.0 (from google-auth>=1.4.1->google-api-python-client)\n",
      "  Downloading https://files.pythonhosted.org/packages/08/6a/abf83cb951617793fd49c98cb9456860f5df66ff89883c8660aa0672d425/cachetools-4.0.0-py3-none-any.whl\n",
      "Collecting rsa<4.1,>=3.1.4 (from google-auth>=1.4.1->google-api-python-client)\n",
      "  Downloading https://files.pythonhosted.org/packages/02/e5/38518af393f7c214357079ce67a317307936896e961e35450b70fad2a9cf/rsa-4.0-py2.py3-none-any.whl\n",
      "Requirement already satisfied, skipping upgrade: certifi>=2017.4.17 in /opt/conda/lib/python3.6/site-packages (from requests<3.0.0dev,>=2.18.0->google-api-core<2dev,>=1.13.0->google-api-python-client) (2018.10.15)\n",
      "Requirement already satisfied, skipping upgrade: idna<2.8,>=2.5 in /opt/conda/lib/python3.6/site-packages (from requests<3.0.0dev,>=2.18.0->google-api-core<2dev,>=1.13.0->google-api-python-client) (2.7)\n",
      "Requirement already satisfied, skipping upgrade: chardet<3.1.0,>=3.0.2 in /opt/conda/lib/python3.6/site-packages (from requests<3.0.0dev,>=2.18.0->google-api-core<2dev,>=1.13.0->google-api-python-client) (3.0.4)\n",
      "Requirement already satisfied, skipping upgrade: urllib3<1.25,>=1.21.1 in /opt/conda/lib/python3.6/site-packages (from requests<3.0.0dev,>=2.18.0->google-api-core<2dev,>=1.13.0->google-api-python-client) (1.23)\n",
      "Collecting pyasn1<0.5.0,>=0.4.6 (from pyasn1-modules>=0.2.1->google-auth>=1.4.1->google-api-python-client)\n",
      "\u001b[?25l  Downloading https://files.pythonhosted.org/packages/62/1e/a94a8d635fa3ce4cfc7f506003548d0a2447ae76fd5ca53932970fe3053f/pyasn1-0.4.8-py2.py3-none-any.whl (77kB)\n",
      "\u001b[K    100% |████████████████████████████████| 81kB 254kB/s \n",
      "\u001b[?25hBuilding wheels for collected packages: googleapis-common-protos\n",
      "  Running setup.py bdist_wheel for googleapis-common-protos ... \u001b[?25ldone\n",
      "\u001b[?25h  Stored in directory: /home/jovyan/.cache/pip/wheels/2c/f9/7f/6eb87e636072bf467e25348bbeb96849333e6a080dca78f706\n",
      "Successfully built googleapis-common-protos\n",
      "Installing collected packages: googleapis-common-protos, pyasn1, pyasn1-modules, cachetools, rsa, google-auth, google-api-core, uritemplate, httplib2, google-auth-httplib2, google-api-python-client\n",
      "Successfully installed cachetools-4.0.0 google-api-core-1.16.0 google-api-python-client-1.8.0 google-auth-1.12.0 google-auth-httplib2-0.0.3 googleapis-common-protos-1.51.0 httplib2-0.17.0 pyasn1-0.4.8 pyasn1-modules-0.2.8 rsa-4.0 uritemplate-3.0.1\n"
     ]
    }
   ],
   "source": [
    "!pip install --upgrade google-api-python-client"
   ]
  },
  {
   "cell_type": "code",
   "execution_count": 3,
   "metadata": {},
   "outputs": [
    {
     "name": "stdout",
     "output_type": "stream",
     "text": [
      "Collecting oauth2client\n",
      "\u001b[?25l  Downloading https://files.pythonhosted.org/packages/95/a9/4f25a14d23f0786b64875b91784607c2277eff25d48f915e39ff0cff505a/oauth2client-4.1.3-py2.py3-none-any.whl (98kB)\n",
      "\u001b[K    100% |████████████████████████████████| 102kB 228kB/s \n",
      "\u001b[?25hRequirement already satisfied, skipping upgrade: six>=1.6.1 in /opt/conda/lib/python3.6/site-packages (from oauth2client) (1.11.0)\n",
      "Requirement already satisfied, skipping upgrade: pyasn1-modules>=0.0.5 in /opt/conda/lib/python3.6/site-packages (from oauth2client) (0.2.8)\n",
      "Requirement already satisfied, skipping upgrade: httplib2>=0.9.1 in /opt/conda/lib/python3.6/site-packages (from oauth2client) (0.17.0)\n",
      "Requirement already satisfied, skipping upgrade: rsa>=3.1.4 in /opt/conda/lib/python3.6/site-packages (from oauth2client) (4.0)\n",
      "Requirement already satisfied, skipping upgrade: pyasn1>=0.1.7 in /opt/conda/lib/python3.6/site-packages (from oauth2client) (0.4.8)\n",
      "Installing collected packages: oauth2client\n",
      "Successfully installed oauth2client-4.1.3\n"
     ]
    }
   ],
   "source": [
    "!pip install --upgrade oauth2client"
   ]
  },
  {
   "cell_type": "code",
   "execution_count": 4,
   "metadata": {},
   "outputs": [],
   "source": [
    "from __future__ import print_function\n",
    "from googleapiclient.discovery import build\n",
    "from httplib2 import Http\n",
    "from oauth2client import file, client, tools"
   ]
  },
  {
   "cell_type": "markdown",
   "metadata": {},
   "source": [
    "# authenticate our token"
   ]
  },
  {
   "cell_type": "markdown",
   "metadata": {},
   "source": [
    "The following code cell intentionally prevents the rest of the notebook from automatically executing"
   ]
  },
  {
   "cell_type": "code",
   "execution_count": 5,
   "metadata": {},
   "outputs": [
    {
     "ename": "SyntaxError",
     "evalue": "invalid syntax (<ipython-input-5-5214759fac44>, line 1)",
     "output_type": "error",
     "traceback": [
      "\u001b[0;36m  File \u001b[0;32m\"<ipython-input-5-5214759fac44>\"\u001b[0;36m, line \u001b[0;32m1\u001b[0m\n\u001b[0;31m    stop -- action needed\u001b[0m\n\u001b[0m                        ^\u001b[0m\n\u001b[0;31mSyntaxError\u001b[0m\u001b[0;31m:\u001b[0m invalid syntax\n"
     ]
    }
   ],
   "source": [
    "stop -- action needed"
   ]
  },
  {
   "cell_type": "markdown",
   "metadata": {},
   "source": [
    "the script below must be run as a .py file in order to launch your browser and authenticate"
   ]
  },
  {
   "cell_type": "raw",
   "metadata": {},
   "source": [
    "!python3 authorize_send_gmail.py --noauth_local_webserver"
   ]
  },
  {
   "cell_type": "markdown",
   "metadata": {},
   "source": [
    "The .py file contains"
   ]
  },
  {
   "cell_type": "raw",
   "metadata": {},
   "source": [
    "# If modifying these scopes, delete the file token.json.\n",
    "SCOPES = 'https://www.googleapis.com/auth/gmail.readonly'\n",
    "\n",
    "def main():\n",
    "    \"\"\"Shows basic usage of the Gmail API.\n",
    "    Lists the user's Gmail labels.\n",
    "    \"\"\"\n",
    "\n",
    "    store = file.Storage('token.json')\n",
    "    creds = store.get()\n",
    "    if not creds or creds.invalid:\n",
    "        flow = client.flow_from_clientsecrets('credentials.json', SCOPES)\n",
    "        creds = tools.run_flow(flow, store)\n",
    "    service = build('gmail', 'v1', http=creds.authorize(Http()))\n",
    "\n",
    "    # Call the Gmail API\n",
    "    results = service.users().labels().list(userId='me').execute()\n",
    "    labels = results.get('labels', [])\n",
    "\n",
    "    if not labels:\n",
    "        print('No labels found.')\n",
    "    else:\n",
    "        print('Labels:')\n",
    "        for label in labels:\n",
    "            print(label['name'])\n",
    "\n",
    "if __name__ == '__main__':\n",
    "    main()"
   ]
  },
  {
   "cell_type": "markdown",
   "metadata": {},
   "source": [
    "If the error message is\n",
    "\n",
    "`raise HttpAccessTokenRefreshError(error_msg, status=resp.status)\n",
    "oauth2client.client.HttpAccessTokenRefreshError: invalid_grant: Bad Request`\n",
    "        \n",
    "then delete \"token.json\""
   ]
  },
  {
   "cell_type": "markdown",
   "metadata": {},
   "source": [
    "# now that we've authenticated with our token, we can send email\n",
    "https://developers.google.com/gmail/api/guides/sending"
   ]
  },
  {
   "cell_type": "markdown",
   "metadata": {},
   "source": [
    "## message text needs to be base64 encoded\n",
    "\n",
    "https://en.wikipedia.org/wiki/Base64\n",
    "\n",
    "\"Base64 is a group of binary-to-text encoding schemes that represent binary data in an ASCII string format by translating it into a radix-64 representation.\"\n",
    "\n",
    "Why do we use base64 for SMTP? Answer: SMTP is so old that the number of characters is stricted. To expand the character set, base64 encode. https://www.quora.com/Why-are-MIME-attachments-encoded-in-base64 and https://superuser.com/questions/402193/why-is-base64-needed-aka-why-cant-i-just-email-a-binary-file"
   ]
  },
  {
   "cell_type": "code",
   "execution_count": 6,
   "metadata": {},
   "outputs": [
    {
     "data": {
      "text/plain": [
       "b'eW91ciBzdHJpbmc='"
      ]
     },
     "execution_count": 6,
     "metadata": {},
     "output_type": "execute_result"
    }
   ],
   "source": [
    "import base64\n",
    "base64.b64encode(bytes('your string', 'utf-8'))"
   ]
  },
  {
   "cell_type": "markdown",
   "metadata": {},
   "source": [
    "a function that creates a base64 encoded email"
   ]
  },
  {
   "cell_type": "code",
   "execution_count": 7,
   "metadata": {},
   "outputs": [],
   "source": [
    "#https://docs.python.org/3/library/email.mime.html\n",
    "from email.mime.text import MIMEText\n",
    "from email import encoders\n",
    "    \n",
    "def create_message(sender, to, subject, message_text):\n",
    "    \"\"\"Create a message for an email.\n",
    "\n",
    "    Args:\n",
    "    sender: Email address of the sender.\n",
    "    to: Email address of the receiver.\n",
    "    subject: The subject of the email message.\n",
    "    message_text: The text of the email message.\n",
    "\n",
    "    Returns:\n",
    "    An object containing a base64url encoded email object.\n",
    "    \"\"\"\n",
    "    message = MIMEText(message_text)\n",
    "    message['to'] = to\n",
    "    message['from'] = sender\n",
    "    message['subject'] = subject\n",
    "    \n",
    "    # https://docs.python.org/3/library/base64.html\n",
    "    return {'raw': base64.urlsafe_b64encode(message.as_string().encode('utf-8')).decode(\"utf-8\")}\n",
    "    # https://stackoverflow.com/questions/606191/convert-bytes-to-a-string\n",
    "    \n",
    "    #return {'raw': base64.urlsafe_b64encode(bytes(\"None\",'utf-8'))}\n",
    "    \n",
    "    # https://docs.python.org/3.4/library/email-examples.html\n",
    "    #return {'raw': encoders.encode_base64(message.as_string())} "
   ]
  },
  {
   "cell_type": "code",
   "execution_count": 8,
   "metadata": {},
   "outputs": [
    {
     "data": {
      "text/plain": [
       "{'raw': 'Q29udGVudC1UeXBlOiB0ZXh0L3BsYWluOyBjaGFyc2V0PSJ1cy1hc2NpaSIKTUlNRS1WZXJzaW9uOiAxLjAKQ29udGVudC1UcmFuc2Zlci1FbmNvZGluZzogN2JpdAp0bzogYmVuLmlzLmxvY2F0ZWRAZ21haWwuY29tCmZyb206IGJlbnBheW5lQHVtYmMuZWR1CnN1YmplY3Q6IGEgc3ViamN0Cgptc2cgdGV4dCBmcm9tIFB5dGhvbg=='}"
      ]
     },
     "execution_count": 8,
     "metadata": {},
     "output_type": "execute_result"
    }
   ],
   "source": [
    "msg=create_message(sender=\"benpayne@umbc.edu\", \n",
    "                   to=\"ben.is.located@gmail.com\", \n",
    "                   subject=\"a subjct\", \n",
    "                   message_text=\"msg text from Python\")\n",
    "msg"
   ]
  },
  {
   "cell_type": "code",
   "execution_count": 9,
   "metadata": {},
   "outputs": [],
   "source": [
    "from googleapiclient import errors\n",
    "\n",
    "def send_message(service, user_id, message):\n",
    "    \"\"\"Send an email message.\n",
    "\n",
    "  Args:\n",
    "    service: Authorized Gmail API service instance.\n",
    "    user_id: User's email address. The special value \"me\"\n",
    "    can be used to indicate the authenticated user.\n",
    "    message: Message to be sent.\n",
    "\n",
    "  Returns:\n",
    "    Sent Message.\n",
    "    \"\"\"\n",
    "    try:\n",
    "        message = (service.users().messages().send(userId=user_id, body=message)\n",
    "                   .execute())\n",
    "        print ('Message Id: %s' % message['id'])\n",
    "        return message\n",
    "    # https://stackoverflow.com/questions/42541857/error-using-gmail-api-tuto-using-python-3-except-errors-httperror-error\n",
    "    except errors.HttpError as error:\n",
    "        print ('An error occurred: %s' % error)"
   ]
  },
  {
   "cell_type": "code",
   "execution_count": 10,
   "metadata": {},
   "outputs": [],
   "source": [
    "store = file.Storage('token.json')\n",
    "creds = store.get()\n",
    "service = build('gmail', 'v1', http=creds.authorize(Http()))"
   ]
  },
  {
   "cell_type": "code",
   "execution_count": 11,
   "metadata": {},
   "outputs": [
    {
     "name": "stdout",
     "output_type": "stream",
     "text": [
      "Message Id: 1708480c3b6a5022\n"
     ]
    },
    {
     "data": {
      "text/plain": [
       "{'id': '1708480c3b6a5022',\n",
       " 'threadId': '1708480c3b6a5022',\n",
       " 'labelIds': ['UNREAD', 'SENT', 'INBOX']}"
      ]
     },
     "execution_count": 11,
     "metadata": {},
     "output_type": "execute_result"
    }
   ],
   "source": [
    "send_message(service, \"me\", msg)"
   ]
  },
  {
   "cell_type": "markdown",
   "metadata": {},
   "source": [
    "The following also works"
   ]
  },
  {
   "cell_type": "raw",
   "metadata": {},
   "source": [
    "# https://stackoverflow.com/questions/38965493/error-400-when-sending-a-message-using-python\n",
    "\n",
    "#credentials = get_credentials()\n",
    "credentials=store.get()\n",
    "#http = credentials.authorize(httplib2.Http())\n",
    "http = credentials.authorize(Http())\n",
    "service = build('gmail', 'v1', http=http)\n",
    "message = create_message(\n",
    "    'ben.is.located@gmail.com', \n",
    "    'ben.is.located@gmail.com', \n",
    "    'Subject', \n",
    "    'Message text'\n",
    "  )\n",
    "send_message(service, 'me', message)"
   ]
  },
  {
   "cell_type": "code",
   "execution_count": null,
   "metadata": {},
   "outputs": [],
   "source": []
  }
 ],
 "metadata": {
  "kernelspec": {
   "display_name": "Python 3",
   "language": "python",
   "name": "python3"
  },
  "language_info": {
   "codemirror_mode": {
    "name": "ipython",
    "version": 3
   },
   "file_extension": ".py",
   "mimetype": "text/x-python",
   "name": "python",
   "nbconvert_exporter": "python",
   "pygments_lexer": "ipython3",
   "version": "3.6.6"
  }
 },
 "nbformat": 4,
 "nbformat_minor": 2
}
