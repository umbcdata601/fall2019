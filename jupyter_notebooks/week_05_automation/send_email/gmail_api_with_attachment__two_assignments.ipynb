{
 "cells": [
  {
   "cell_type": "markdown",
   "metadata": {},
   "source": [
    "https://developers.google.com/gmail/api/quickstart/python"
   ]
  },
  {
   "cell_type": "code",
   "execution_count": null,
   "metadata": {},
   "outputs": [],
   "source": [
    "!hostname"
   ]
  },
  {
   "cell_type": "markdown",
   "metadata": {},
   "source": [
    "# install modules"
   ]
  },
  {
   "cell_type": "code",
   "execution_count": null,
   "metadata": {},
   "outputs": [],
   "source": [
    "!pip install --upgrade google-api-python-client"
   ]
  },
  {
   "cell_type": "code",
   "execution_count": null,
   "metadata": {},
   "outputs": [],
   "source": [
    "!pip install --upgrade oauth2client"
   ]
  },
  {
   "cell_type": "code",
   "execution_count": null,
   "metadata": {},
   "outputs": [],
   "source": [
    "from __future__ import print_function\n",
    "from googleapiclient.discovery import build\n",
    "from httplib2 import Http\n",
    "from oauth2client import file, client, tools"
   ]
  },
  {
   "cell_type": "markdown",
   "metadata": {},
   "source": [
    "# authenticate our token"
   ]
  },
  {
   "cell_type": "markdown",
   "metadata": {},
   "source": [
    "The following code cell intentionally prevents the rest of the notebook from automatically executing"
   ]
  },
  {
   "cell_type": "code",
   "execution_count": null,
   "metadata": {},
   "outputs": [],
   "source": [
    "stop -- action needed"
   ]
  },
  {
   "cell_type": "markdown",
   "metadata": {},
   "source": [
    "the script below must be run as a .py file in order to launch your browser and authenticate"
   ]
  },
  {
   "cell_type": "raw",
   "metadata": {},
   "source": [
    "!python3 authorize_send_gmail.py --noauth_local_webserver"
   ]
  },
  {
   "cell_type": "markdown",
   "metadata": {},
   "source": [
    "The .py file contains"
   ]
  },
  {
   "cell_type": "raw",
   "metadata": {},
   "source": [
    "# If modifying these scopes, delete the file token.json.\n",
    "SCOPES = 'https://www.googleapis.com/auth/gmail.readonly'\n",
    "\n",
    "def main():\n",
    "    \"\"\"Shows basic usage of the Gmail API.\n",
    "    Lists the user's Gmail labels.\n",
    "    \"\"\"\n",
    "\n",
    "    store = file.Storage('token.json')\n",
    "    creds = store.get()\n",
    "    if not creds or creds.invalid:\n",
    "        flow = client.flow_from_clientsecrets('credentials.json', SCOPES)\n",
    "        creds = tools.run_flow(flow, store)\n",
    "    service = build('gmail', 'v1', http=creds.authorize(Http()))\n",
    "\n",
    "    # Call the Gmail API\n",
    "    results = service.users().labels().list(userId='me').execute()\n",
    "    labels = results.get('labels', [])\n",
    "\n",
    "    if not labels:\n",
    "        print('No labels found.')\n",
    "    else:\n",
    "        print('Labels:')\n",
    "        for label in labels:\n",
    "            print(label['name'])\n",
    "\n",
    "if __name__ == '__main__':\n",
    "    main()"
   ]
  },
  {
   "cell_type": "markdown",
   "metadata": {},
   "source": [
    "If the error message is\n",
    "\n",
    "`raise HttpAccessTokenRefreshError(error_msg, status=resp.status)\n",
    "oauth2client.client.HttpAccessTokenRefreshError: invalid_grant: Bad Request`\n",
    "        \n",
    "then delete \"token.json\""
   ]
  },
  {
   "cell_type": "markdown",
   "metadata": {},
   "source": [
    "# now that we've authenticated with our token, we can send email\n",
    "https://developers.google.com/gmail/api/guides/sending"
   ]
  },
  {
   "cell_type": "markdown",
   "metadata": {},
   "source": [
    "## message text needs to be base64 encoded\n",
    "\n",
    "https://en.wikipedia.org/wiki/Base64\n",
    "\n",
    "\"Base64 is a group of binary-to-text encoding schemes that represent binary data in an ASCII string format by translating it into a radix-64 representation.\"\n",
    "\n",
    "Why do we use base64 for SMTP? Answer: SMTP is so old that the number of characters is stricted. To expand the character set, base64 encode. https://www.quora.com/Why-are-MIME-attachments-encoded-in-base64 and https://superuser.com/questions/402193/why-is-base64-needed-aka-why-cant-i-just-email-a-binary-file"
   ]
  },
  {
   "cell_type": "code",
   "execution_count": null,
   "metadata": {},
   "outputs": [],
   "source": [
    "import base64\n",
    "base64.b64encode(bytes('your string', 'utf-8'))"
   ]
  },
  {
   "cell_type": "markdown",
   "metadata": {},
   "source": [
    "a function that creates a base64 encoded email"
   ]
  },
  {
   "cell_type": "code",
   "execution_count": null,
   "metadata": {},
   "outputs": [],
   "source": [
    "#https://docs.python.org/3/library/email.mime.html\n",
    "from email.mime.text import MIMEText\n",
    "from email import encoders\n",
    "    \n",
    "def create_message(sender, to, subject, message_text):\n",
    "    \"\"\"Create a message for an email.\n",
    "\n",
    "    Args:\n",
    "    sender: Email address of the sender.\n",
    "    to: Email address of the receiver.\n",
    "    subject: The subject of the email message.\n",
    "    message_text: The text of the email message.\n",
    "\n",
    "    Returns:\n",
    "    An object containing a base64url encoded email object.\n",
    "    \"\"\"\n",
    "    message = MIMEText(message_text)\n",
    "    message['to'] = to\n",
    "    message['from'] = sender\n",
    "    message['subject'] = subject\n",
    "    \n",
    "    # https://docs.python.org/3/library/base64.html\n",
    "    return {'raw': base64.urlsafe_b64encode(message.as_string().encode('utf-8')).decode(\"utf-8\")}\n",
    "    # https://stackoverflow.com/questions/606191/convert-bytes-to-a-string\n",
    "    \n",
    "    #return {'raw': base64.urlsafe_b64encode(bytes(\"None\",'utf-8'))}\n",
    "    \n",
    "    # https://docs.python.org/3.4/library/email-examples.html\n",
    "    #return {'raw': encoders.encode_base64(message.as_string())} "
   ]
  },
  {
   "cell_type": "code",
   "execution_count": null,
   "metadata": {},
   "outputs": [],
   "source": [
    "msg=create_message(sender=\"benpayne@umbc.edu\", \n",
    "                   to=\"ben.is.located@gmail.com\", \n",
    "                   subject=\"a subjct\", \n",
    "                   message_text=\"msg text from Python\")\n",
    "msg"
   ]
  },
  {
   "cell_type": "code",
   "execution_count": null,
   "metadata": {},
   "outputs": [],
   "source": [
    "from googleapiclient import errors\n",
    "\n",
    "def send_message(service, user_id, message):\n",
    "    \"\"\"Send an email message.\n",
    "\n",
    "  Args:\n",
    "    service: Authorized Gmail API service instance.\n",
    "    user_id: User's email address. The special value \"me\"\n",
    "    can be used to indicate the authenticated user.\n",
    "    message: Message to be sent.\n",
    "\n",
    "  Returns:\n",
    "    Sent Message.\n",
    "    \"\"\"\n",
    "    try:\n",
    "        message = (service.users().messages().send(userId=user_id, body=message)\n",
    "                   .execute())\n",
    "        print ('Message Id: %s' % message['id'])\n",
    "        return message\n",
    "    # https://stackoverflow.com/questions/42541857/error-using-gmail-api-tuto-using-python-3-except-errors-httperror-error\n",
    "    except errors.HttpError as error:\n",
    "        print ('An error occurred: %s' % error)"
   ]
  },
  {
   "cell_type": "code",
   "execution_count": null,
   "metadata": {},
   "outputs": [],
   "source": [
    "store = file.Storage('token.json')\n",
    "creds = store.get()\n",
    "service = build('gmail', 'v1', http=creds.authorize(Http()))"
   ]
  },
  {
   "cell_type": "raw",
   "metadata": {},
   "source": [
    "# send email; no attachment\n",
    "send_message(service, \"me\", msg)"
   ]
  },
  {
   "cell_type": "markdown",
   "metadata": {},
   "source": [
    "The following also works"
   ]
  },
  {
   "cell_type": "raw",
   "metadata": {},
   "source": [
    "# https://stackoverflow.com/questions/38965493/error-400-when-sending-a-message-using-python\n",
    "\n",
    "#credentials = get_credentials()\n",
    "credentials=store.get()\n",
    "#http = credentials.authorize(httplib2.Http())\n",
    "http = credentials.authorize(Http())\n",
    "service = build('gmail', 'v1', http=http)\n",
    "message = create_message(\n",
    "    'ben.is.located@gmail.com', \n",
    "    'ben.is.located@gmail.com', \n",
    "    'Subject', \n",
    "    'Message text'\n",
    "  )\n",
    "send_message(service, 'me', message)"
   ]
  },
  {
   "cell_type": "markdown",
   "metadata": {},
   "source": [
    "# with attachment"
   ]
  },
  {
   "cell_type": "code",
   "execution_count": null,
   "metadata": {},
   "outputs": [],
   "source": [
    "from email.mime.audio import MIMEAudio\n",
    "from email.mime.base import MIMEBase\n",
    "from email.mime.image import MIMEImage\n",
    "from email.mime.multipart import MIMEMultipart\n",
    "import mimetypes\n",
    "import os"
   ]
  },
  {
   "cell_type": "code",
   "execution_count": null,
   "metadata": {},
   "outputs": [],
   "source": [
    "# https://developers.google.com/gmail/api/guides/sending#creating_messages_with_attachments\n",
    "def create_message_with_attachment(\n",
    "    sender, to, subject, message_text, file):\n",
    "    \"\"\"Create a message for an email.\n",
    "\n",
    "  Args:\n",
    "    sender: Email address of the sender.\n",
    "    to: Email address of the receiver.\n",
    "    subject: The subject of the email message.\n",
    "    message_text: The text of the email message.\n",
    "    file: The path to the file to be attached.\n",
    "\n",
    "  Returns:\n",
    "    An object containing a base64url encoded email object.\n",
    "    \"\"\"\n",
    "    message = MIMEMultipart()\n",
    "    message['to'] = to\n",
    "    message['from'] = sender\n",
    "    message['subject'] = subject\n",
    "\n",
    "    msg = MIMEText(message_text)\n",
    "    message.attach(msg)\n",
    "\n",
    "    content_type, encoding = mimetypes.guess_type(file)\n",
    "\n",
    "    if content_type is None or encoding is not None:\n",
    "        content_type = 'application/octet-stream'\n",
    "    main_type, sub_type = content_type.split('/', 1)\n",
    "    if main_type == 'text':\n",
    "        fp = open(file, 'rb')\n",
    "        msg = MIMEText(fp.read(), _subtype=sub_type)\n",
    "        fp.close()\n",
    "    elif main_type == 'image':\n",
    "        fp = open(file, 'rb')\n",
    "        msg = MIMEImage(fp.read(), _subtype=sub_type)\n",
    "        fp.close()\n",
    "    elif main_type == 'audio':\n",
    "        fp = open(file, 'rb')\n",
    "        msg = MIMEAudio(fp.read(), _subtype=sub_type)\n",
    "        fp.close()\n",
    "    else:\n",
    "        fp = open(file, 'rb')\n",
    "        msg = MIMEBase(main_type, sub_type)\n",
    "        msg.set_payload(fp.read())\n",
    "        fp.close()\n",
    "    filename = os.path.basename(file)\n",
    "    msg.add_header('Content-Disposition', 'attachment', filename=filename)\n",
    "    message.attach(msg)\n",
    "\n",
    "#    return {'raw': base64.urlsafe_b64encode(message.as_string())}\n",
    "    return {'raw': base64.urlsafe_b64encode(message.as_string().encode('utf-8')).decode(\"utf-8\")}"
   ]
  },
  {
   "cell_type": "raw",
   "metadata": {},
   "source": [
    "msg = create_message_with_attachment(\n",
    "    'ben@com', # sender; doesn't seem to show up in actual email\n",
    "    'ben.is.located@gmail.com', # to\n",
    "    '601 notebook for review', # subject\n",
    "    'Review this notebook\\n'+\n",
    "    'Reply if you have feedback for the notebook author.\\n'+\n",
    "    'Is the documentation sufficient?', # body\n",
    "    'this_file.ipynb')\n",
    "msg"
   ]
  },
  {
   "cell_type": "raw",
   "metadata": {},
   "source": [
    "send_message(service, \"me\", msg)"
   ]
  },
  {
   "cell_type": "markdown",
   "metadata": {},
   "source": [
    "# rename files"
   ]
  },
  {
   "cell_type": "code",
   "execution_count": 1,
   "metadata": {},
   "outputs": [],
   "source": [
    "import glob\n",
    "import hashlib\n",
    "import time\n",
    "import shutil\n",
    "import random"
   ]
  },
  {
   "cell_type": "code",
   "execution_count": 2,
   "metadata": {},
   "outputs": [],
   "source": [
    "list_of_grp1_files = glob.glob('grp1/*.ipynb')"
   ]
  },
  {
   "cell_type": "code",
   "execution_count": 4,
   "metadata": {},
   "outputs": [
    {
     "data": {
      "text/plain": [
       "25"
      ]
     },
     "execution_count": 4,
     "metadata": {},
     "output_type": "execute_result"
    }
   ],
   "source": [
    "len(list_of_grp1_files)"
   ]
  },
  {
   "cell_type": "code",
   "execution_count": 5,
   "metadata": {},
   "outputs": [],
   "source": [
    "list_of_grp2_files = list_of_grp1_files#glob.glob('grp/*.ipynb')"
   ]
  },
  {
   "cell_type": "code",
   "execution_count": 6,
   "metadata": {},
   "outputs": [],
   "source": [
    "#len(list_of_dice_files)"
   ]
  },
  {
   "cell_type": "markdown",
   "metadata": {},
   "source": [
    "### demo of hash from string"
   ]
  },
  {
   "cell_type": "code",
   "execution_count": 7,
   "metadata": {},
   "outputs": [
    {
     "data": {
      "text/plain": [
       "'bb649c83dd1ea5c9d9dec9a18df0ffe9'"
      ]
     },
     "execution_count": 7,
     "metadata": {},
     "output_type": "execute_result"
    }
   ],
   "source": [
    "hashlib.md5(b\"Nobody inspects the spammish repetition\").hexdigest()"
   ]
  },
  {
   "cell_type": "markdown",
   "metadata": {},
   "source": [
    "### we'll need a list of the student IDs later"
   ]
  },
  {
   "cell_type": "code",
   "execution_count": 8,
   "metadata": {},
   "outputs": [],
   "source": [
    "list_of_student_ids = []\n",
    "for file_name in list_of_grp1_files:\n",
    "    user_name = file_name.split('/')[-1].split('.')[0]\n",
    "    list_of_student_ids.append(user_name)"
   ]
  },
  {
   "cell_type": "code",
   "execution_count": 9,
   "metadata": {},
   "outputs": [
    {
     "data": {
      "text/plain": [
       "['pb70051',\n",
       " 'jconroy1',\n",
       " 'cj86416',\n",
       " 'hlaper1',\n",
       " 'jliang5',\n",
       " 'ti83170',\n",
       " 'tev1',\n",
       " 'vjyesta1',\n",
       " 'am27',\n",
       " 'gmoummi1',\n",
       " 'ro30897',\n",
       " 'dbrown8',\n",
       " 'parthms1',\n",
       " 'pmourya1',\n",
       " 'hq16977',\n",
       " 'anudeek1',\n",
       " 'tris1',\n",
       " 'wfrenc1',\n",
       " 'kw35573',\n",
       " 'n98',\n",
       " 'tugcee1',\n",
       " 'zt71691',\n",
       " 'chandus1',\n",
       " 'bsama1',\n",
       " 'vl29331']"
      ]
     },
     "execution_count": 9,
     "metadata": {},
     "output_type": "execute_result"
    }
   ],
   "source": [
    "list_of_student_ids"
   ]
  },
  {
   "cell_type": "code",
   "execution_count": null,
   "metadata": {},
   "outputs": [],
   "source": [
    "store = file.Storage('token.json')\n",
    "creds = store.get()\n",
    "service = build('gmail', 'v1', http=creds.authorize(Http()))"
   ]
  },
  {
   "cell_type": "code",
   "execution_count": null,
   "metadata": {},
   "outputs": [],
   "source": [
    "for which_list in [list_of_fake_files, list_of_dice_files]:\n",
    "    list_of_students = list_of_student_ids.copy()\n",
    "\n",
    "    for file_name in which_list:\n",
    "        #print('file name =',file_name)\n",
    "        #print('len of list of students',len(list_of_students))\n",
    "        folder_name = file_name.split('/')[0]\n",
    "        user_name = file_name.split('/')[-1].split('.')[0] # who wrote the file?\n",
    "        name_hash = hashlib.md5(str.encode(user_name)).hexdigest() # hash of student name\n",
    "        file_hash_name = folder_name + '/' + name_hash + '.ipynb'\n",
    "        #print('file_name=',file_name,'; file_hash_name=',file_hash_name)\n",
    "        shutil.copy(file_name, file_hash_name)\n",
    "        # find another student to send this file to\n",
    "        send_to = user_name\n",
    "        while send_to == user_name:\n",
    "            send_to = random.choice(list_of_students)\n",
    "        list_of_students.remove(send_to)\n",
    "        #print(list_of_students)\n",
    "        print(folder_name,'author:',user_name,':', name_hash,'; reviewer =', send_to+'@umbc.edu')\n",
    "    \n",
    "        msg = create_message_with_attachment(\n",
    "            'ben@com', # sender; doesn't seem to show up in actual email\n",
    "#            'ben.is.located@gmail.com', # to - for testing \n",
    "            send_to+'@umbc.edu',  # MASS MAIL - destination student\n",
    "            '601 notebook for review : '+folder_name+\" \"+name_hash, # subject\n",
    "#            'Task: Review this notebook.\\n'+\n",
    "            'Task: attempt to run this notebook.\\n'+\n",
    "            'Reply to this email by 9pm on April 8 if you have feedback for the notebook author.\\n\\n'+\n",
    "            'What changes (if any) to the code did you need to make?\\n'+\n",
    "#            'For example, is \n",
    "            'Was the documentation sufficient?\\n'+\n",
    "            'Were you able to get the code to run?\\n'+\n",
    "            'If no, where did you get stuck?\\n'+\n",
    "            'Did you encounter any errors?\\n'+\n",
    "            'Was the output correct?\\n'+\n",
    "#            'Are you able to understand the author\\'s intent?\\n'+\n",
    "            'What suggestions do you have for the author?\\n\\n'+\n",
    "            'Do not sign the reply email with your name.\\n'+\n",
    "            'Your comments should be in the email body. \\n'+\n",
    "            'Do not include any attachments in the reply email.', # body\n",
    "            file_hash_name)\n",
    "#        if send_to=='pb70051':\n",
    "        send_message(service, \"me\", msg)  # send all the mails\n",
    "        print('removing',file_hash_name)\n",
    "        os.remove(file_hash_name)"
   ]
  },
  {
   "cell_type": "code",
   "execution_count": null,
   "metadata": {},
   "outputs": [],
   "source": []
  }
 ],
 "metadata": {
  "kernelspec": {
   "display_name": "Python 3",
   "language": "python",
   "name": "python3"
  },
  "language_info": {
   "codemirror_mode": {
    "name": "ipython",
    "version": 3
   },
   "file_extension": ".py",
   "mimetype": "text/x-python",
   "name": "python",
   "nbconvert_exporter": "python",
   "pygments_lexer": "ipython3",
   "version": "3.6.6"
  }
 },
 "nbformat": 4,
 "nbformat_minor": 2
}
