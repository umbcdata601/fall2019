{
 "cells": [
  {
   "cell_type": "markdown",
   "metadata": {},
   "source": [
    "https://developers.google.com/gmail/api/quickstart/python"
   ]
  },
  {
   "cell_type": "code",
   "execution_count": 1,
   "metadata": {},
   "outputs": [
    {
     "name": "stdout",
     "output_type": "stream",
     "text": [
      "9e9eb3710c81\n"
     ]
    }
   ],
   "source": [
    "!hostname"
   ]
  },
  {
   "cell_type": "markdown",
   "metadata": {},
   "source": [
    "# install modules"
   ]
  },
  {
   "cell_type": "code",
   "execution_count": 2,
   "metadata": {},
   "outputs": [
    {
     "name": "stdout",
     "output_type": "stream",
     "text": [
      "Collecting google-api-python-client\n",
      "  Using cached https://files.pythonhosted.org/packages/9a/b4/a955f393b838bc47cbb6ae4643b9d0f90333d3b4db4dc1e819f36aad18cc/google_api_python_client-1.8.0-py3-none-any.whl\n",
      "Requirement already satisfied, skipping upgrade: httplib2<1dev,>=0.9.2 in /opt/conda/lib/python3.6/site-packages (from google-api-python-client) (0.12.0)\n",
      "Requirement already satisfied, skipping upgrade: google-auth-httplib2>=0.0.3 in /opt/conda/lib/python3.6/site-packages (from google-api-python-client) (0.0.3)\n",
      "Requirement already satisfied, skipping upgrade: six<2dev,>=1.6.1 in /opt/conda/lib/python3.6/site-packages (from google-api-python-client) (1.11.0)\n",
      "Requirement already satisfied, skipping upgrade: google-auth>=1.4.1 in /opt/conda/lib/python3.6/site-packages (from google-api-python-client) (1.6.1)\n",
      "Collecting google-api-core<2dev,>=1.13.0 (from google-api-python-client)\n",
      "  Using cached https://files.pythonhosted.org/packages/63/7e/a523169b0cc9ce62d56e07571db927286a94b1a5f51ac220bd97db825c77/google_api_core-1.16.0-py2.py3-none-any.whl\n",
      "Requirement already satisfied, skipping upgrade: uritemplate<4dev,>=3.0.0 in /opt/conda/lib/python3.6/site-packages (from google-api-python-client) (3.0.0)\n",
      "Requirement already satisfied, skipping upgrade: pyasn1-modules>=0.2.1 in /opt/conda/lib/python3.6/site-packages (from google-auth>=1.4.1->google-api-python-client) (0.2.2)\n",
      "Requirement already satisfied, skipping upgrade: rsa>=3.1.4 in /opt/conda/lib/python3.6/site-packages (from google-auth>=1.4.1->google-api-python-client) (3.4.2)\n",
      "Requirement already satisfied, skipping upgrade: cachetools>=2.0.0 in /opt/conda/lib/python3.6/site-packages (from google-auth>=1.4.1->google-api-python-client) (2.1.0)\n",
      "Requirement already satisfied, skipping upgrade: setuptools>=34.0.0 in /opt/conda/lib/python3.6/site-packages (from google-api-core<2dev,>=1.13.0->google-api-python-client) (40.6.2)\n",
      "Collecting googleapis-common-protos<2.0dev,>=1.6.0 (from google-api-core<2dev,>=1.13.0->google-api-python-client)\n",
      "Requirement already satisfied, skipping upgrade: requests<3.0.0dev,>=2.18.0 in /opt/conda/lib/python3.6/site-packages (from google-api-core<2dev,>=1.13.0->google-api-python-client) (2.20.1)\n",
      "Requirement already satisfied, skipping upgrade: protobuf>=3.4.0 in /opt/conda/lib/python3.6/site-packages (from google-api-core<2dev,>=1.13.0->google-api-python-client) (3.6.1)\n",
      "Requirement already satisfied, skipping upgrade: pytz in /opt/conda/lib/python3.6/site-packages (from google-api-core<2dev,>=1.13.0->google-api-python-client) (2018.7)\n",
      "Requirement already satisfied, skipping upgrade: pyasn1<0.5.0,>=0.4.1 in /opt/conda/lib/python3.6/site-packages (from pyasn1-modules>=0.2.1->google-auth>=1.4.1->google-api-python-client) (0.4.4)\n",
      "Requirement already satisfied, skipping upgrade: chardet<3.1.0,>=3.0.2 in /opt/conda/lib/python3.6/site-packages (from requests<3.0.0dev,>=2.18.0->google-api-core<2dev,>=1.13.0->google-api-python-client) (3.0.4)\n",
      "Requirement already satisfied, skipping upgrade: certifi>=2017.4.17 in /opt/conda/lib/python3.6/site-packages (from requests<3.0.0dev,>=2.18.0->google-api-core<2dev,>=1.13.0->google-api-python-client) (2018.11.29)\n",
      "Requirement already satisfied, skipping upgrade: idna<2.8,>=2.5 in /opt/conda/lib/python3.6/site-packages (from requests<3.0.0dev,>=2.18.0->google-api-core<2dev,>=1.13.0->google-api-python-client) (2.7)\n",
      "Requirement already satisfied, skipping upgrade: urllib3<1.25,>=1.21.1 in /opt/conda/lib/python3.6/site-packages (from requests<3.0.0dev,>=2.18.0->google-api-core<2dev,>=1.13.0->google-api-python-client) (1.23)\n",
      "Installing collected packages: googleapis-common-protos, google-api-core, google-api-python-client\n",
      "  Found existing installation: google-api-python-client 1.7.6\n",
      "    Uninstalling google-api-python-client-1.7.6:\n",
      "      Successfully uninstalled google-api-python-client-1.7.6\n",
      "Successfully installed google-api-core-1.16.0 google-api-python-client-1.8.0 googleapis-common-protos-1.51.0\n"
     ]
    }
   ],
   "source": [
    "!pip install --upgrade google-api-python-client"
   ]
  },
  {
   "cell_type": "code",
   "execution_count": 3,
   "metadata": {},
   "outputs": [
    {
     "name": "stdout",
     "output_type": "stream",
     "text": [
      "Collecting oauth2client\n",
      "  Using cached https://files.pythonhosted.org/packages/95/a9/4f25a14d23f0786b64875b91784607c2277eff25d48f915e39ff0cff505a/oauth2client-4.1.3-py2.py3-none-any.whl\n",
      "Requirement already satisfied, skipping upgrade: pyasn1>=0.1.7 in /opt/conda/lib/python3.6/site-packages (from oauth2client) (0.4.4)\n",
      "Requirement already satisfied, skipping upgrade: rsa>=3.1.4 in /opt/conda/lib/python3.6/site-packages (from oauth2client) (3.4.2)\n",
      "Requirement already satisfied, skipping upgrade: pyasn1-modules>=0.0.5 in /opt/conda/lib/python3.6/site-packages (from oauth2client) (0.2.2)\n",
      "Requirement already satisfied, skipping upgrade: six>=1.6.1 in /opt/conda/lib/python3.6/site-packages (from oauth2client) (1.11.0)\n",
      "Requirement already satisfied, skipping upgrade: httplib2>=0.9.1 in /opt/conda/lib/python3.6/site-packages (from oauth2client) (0.12.0)\n",
      "Installing collected packages: oauth2client\n",
      "  Found existing installation: oauth2client 4.1.2\n",
      "    Uninstalling oauth2client-4.1.2:\n",
      "      Successfully uninstalled oauth2client-4.1.2\n",
      "Successfully installed oauth2client-4.1.3\n"
     ]
    }
   ],
   "source": [
    "!pip install --upgrade oauth2client"
   ]
  },
  {
   "cell_type": "code",
   "execution_count": 4,
   "metadata": {},
   "outputs": [],
   "source": [
    "from __future__ import print_function\n",
    "from googleapiclient.discovery import build\n",
    "from httplib2 import Http\n",
    "from oauth2client import file, client, tools"
   ]
  },
  {
   "cell_type": "markdown",
   "metadata": {},
   "source": [
    "# authenticate our token"
   ]
  },
  {
   "cell_type": "markdown",
   "metadata": {},
   "source": [
    "The following code cell intentionally prevents the rest of the notebook from automatically executing"
   ]
  },
  {
   "cell_type": "code",
   "execution_count": null,
   "metadata": {},
   "outputs": [],
   "source": [
    "stop -- action needed"
   ]
  },
  {
   "cell_type": "markdown",
   "metadata": {},
   "source": [
    "the script below must be run as a .py file in order to launch your browser and authenticate"
   ]
  },
  {
   "cell_type": "raw",
   "metadata": {},
   "source": [
    "!python3 authorize_send_gmail.py --noauth_local_webserver"
   ]
  },
  {
   "cell_type": "markdown",
   "metadata": {},
   "source": [
    "The .py file contains"
   ]
  },
  {
   "cell_type": "raw",
   "metadata": {},
   "source": [
    "# If modifying these scopes, delete the file token.json.\n",
    "SCOPES = 'https://www.googleapis.com/auth/gmail.readonly'\n",
    "\n",
    "def main():\n",
    "    \"\"\"Shows basic usage of the Gmail API.\n",
    "    Lists the user's Gmail labels.\n",
    "    \"\"\"\n",
    "\n",
    "    store = file.Storage('token.json')\n",
    "    creds = store.get()\n",
    "    if not creds or creds.invalid:\n",
    "        flow = client.flow_from_clientsecrets('credentials.json', SCOPES)\n",
    "        creds = tools.run_flow(flow, store)\n",
    "    service = build('gmail', 'v1', http=creds.authorize(Http()))\n",
    "\n",
    "    # Call the Gmail API\n",
    "    results = service.users().labels().list(userId='me').execute()\n",
    "    labels = results.get('labels', [])\n",
    "\n",
    "    if not labels:\n",
    "        print('No labels found.')\n",
    "    else:\n",
    "        print('Labels:')\n",
    "        for label in labels:\n",
    "            print(label['name'])\n",
    "\n",
    "if __name__ == '__main__':\n",
    "    main()"
   ]
  },
  {
   "cell_type": "markdown",
   "metadata": {},
   "source": [
    "If the error message is\n",
    "\n",
    "`raise HttpAccessTokenRefreshError(error_msg, status=resp.status)\n",
    "oauth2client.client.HttpAccessTokenRefreshError: invalid_grant: Bad Request`\n",
    "        \n",
    "then delete \"token.json\""
   ]
  },
  {
   "cell_type": "markdown",
   "metadata": {},
   "source": [
    "# now that we've authenticated with our token, we can send email\n",
    "https://developers.google.com/gmail/api/guides/sending"
   ]
  },
  {
   "cell_type": "markdown",
   "metadata": {},
   "source": [
    "## message text needs to be base64 encoded\n",
    "\n",
    "https://en.wikipedia.org/wiki/Base64\n",
    "\n",
    "\"Base64 is a group of binary-to-text encoding schemes that represent binary data in an ASCII string format by translating it into a radix-64 representation.\"\n",
    "\n",
    "Why do we use base64 for SMTP? Answer: SMTP is so old that the number of characters is stricted. To expand the character set, base64 encode. https://www.quora.com/Why-are-MIME-attachments-encoded-in-base64 and https://superuser.com/questions/402193/why-is-base64-needed-aka-why-cant-i-just-email-a-binary-file"
   ]
  },
  {
   "cell_type": "code",
   "execution_count": 5,
   "metadata": {},
   "outputs": [
    {
     "data": {
      "text/plain": [
       "b'eW91ciBzdHJpbmc='"
      ]
     },
     "execution_count": 5,
     "metadata": {},
     "output_type": "execute_result"
    }
   ],
   "source": [
    "import base64\n",
    "base64.b64encode(bytes('your string', 'utf-8'))"
   ]
  },
  {
   "cell_type": "markdown",
   "metadata": {},
   "source": [
    "a function that creates a base64 encoded email"
   ]
  },
  {
   "cell_type": "code",
   "execution_count": 6,
   "metadata": {},
   "outputs": [],
   "source": [
    "#https://docs.python.org/3/library/email.mime.html\n",
    "from email.mime.text import MIMEText\n",
    "from email import encoders\n",
    "    \n",
    "def create_message(sender, to, subject, message_text):\n",
    "    \"\"\"Create a message for an email.\n",
    "\n",
    "    Args:\n",
    "    sender: Email address of the sender.\n",
    "    to: Email address of the receiver.\n",
    "    subject: The subject of the email message.\n",
    "    message_text: The text of the email message.\n",
    "\n",
    "    Returns:\n",
    "    An object containing a base64url encoded email object.\n",
    "    \"\"\"\n",
    "    message = MIMEText(message_text)\n",
    "    message['to'] = to\n",
    "    message['from'] = sender\n",
    "    message['subject'] = subject\n",
    "    \n",
    "    # https://docs.python.org/3/library/base64.html\n",
    "    return {'raw': base64.urlsafe_b64encode(message.as_string().encode('utf-8')).decode(\"utf-8\")}\n",
    "    # https://stackoverflow.com/questions/606191/convert-bytes-to-a-string\n",
    "    \n",
    "    #return {'raw': base64.urlsafe_b64encode(bytes(\"None\",'utf-8'))}\n",
    "    \n",
    "    # https://docs.python.org/3.4/library/email-examples.html\n",
    "    #return {'raw': encoders.encode_base64(message.as_string())} "
   ]
  },
  {
   "cell_type": "code",
   "execution_count": 7,
   "metadata": {},
   "outputs": [
    {
     "data": {
      "text/plain": [
       "{'raw': 'Q29udGVudC1UeXBlOiB0ZXh0L3BsYWluOyBjaGFyc2V0PSJ1cy1hc2NpaSIKTUlNRS1WZXJzaW9uOiAxLjAKQ29udGVudC1UcmFuc2Zlci1FbmNvZGluZzogN2JpdAp0bzogYmVuLmlzLmxvY2F0ZWRAZ21haWwuY29tCmZyb206IGJlbnBheW5lQHVtYmMuZWR1CnN1YmplY3Q6IGEgc3ViamN0Cgptc2cgdGV4dCBmcm9tIFB5dGhvbg=='}"
      ]
     },
     "execution_count": 7,
     "metadata": {},
     "output_type": "execute_result"
    }
   ],
   "source": [
    "msg=create_message(sender=\"benpayne@umbc.edu\", \n",
    "                   to=\"ben.is.located@gmail.com\", \n",
    "                   subject=\"a subjct\", \n",
    "                   message_text=\"msg text from Python\")\n",
    "msg"
   ]
  },
  {
   "cell_type": "code",
   "execution_count": 8,
   "metadata": {},
   "outputs": [],
   "source": [
    "from googleapiclient import errors\n",
    "\n",
    "def send_message(service, user_id, message):\n",
    "    \"\"\"Send an email message.\n",
    "\n",
    "  Args:\n",
    "    service: Authorized Gmail API service instance.\n",
    "    user_id: User's email address. The special value \"me\"\n",
    "    can be used to indicate the authenticated user.\n",
    "    message: Message to be sent.\n",
    "\n",
    "  Returns:\n",
    "    Sent Message.\n",
    "    \"\"\"\n",
    "    try:\n",
    "        message = (service.users().messages().send(userId=user_id, body=message)\n",
    "                   .execute())\n",
    "        print ('Message Id: %s' % message['id'])\n",
    "        return message\n",
    "    # https://stackoverflow.com/questions/42541857/error-using-gmail-api-tuto-using-python-3-except-errors-httperror-error\n",
    "    except errors.HttpError as error:\n",
    "        print ('An error occurred: %s' % error)"
   ]
  },
  {
   "cell_type": "code",
   "execution_count": 9,
   "metadata": {},
   "outputs": [],
   "source": [
    "store = file.Storage('token.json')\n",
    "creds = store.get()\n",
    "service = build('gmail', 'v1', http=creds.authorize(Http()))"
   ]
  },
  {
   "cell_type": "raw",
   "metadata": {},
   "source": [
    "# send email; no attachment\n",
    "send_message(service, \"me\", msg)"
   ]
  },
  {
   "cell_type": "markdown",
   "metadata": {},
   "source": [
    "The following also works"
   ]
  },
  {
   "cell_type": "raw",
   "metadata": {},
   "source": [
    "# https://stackoverflow.com/questions/38965493/error-400-when-sending-a-message-using-python\n",
    "\n",
    "#credentials = get_credentials()\n",
    "credentials=store.get()\n",
    "#http = credentials.authorize(httplib2.Http())\n",
    "http = credentials.authorize(Http())\n",
    "service = build('gmail', 'v1', http=http)\n",
    "message = create_message(\n",
    "    'ben.is.located@gmail.com', \n",
    "    'ben.is.located@gmail.com', \n",
    "    'Subject', \n",
    "    'Message text'\n",
    "  )\n",
    "send_message(service, 'me', message)"
   ]
  },
  {
   "cell_type": "markdown",
   "metadata": {},
   "source": [
    "# with attachment"
   ]
  },
  {
   "cell_type": "code",
   "execution_count": 10,
   "metadata": {},
   "outputs": [],
   "source": [
    "from email.mime.audio import MIMEAudio\n",
    "from email.mime.base import MIMEBase\n",
    "from email.mime.image import MIMEImage\n",
    "from email.mime.multipart import MIMEMultipart\n",
    "import mimetypes\n",
    "import os"
   ]
  },
  {
   "cell_type": "code",
   "execution_count": 11,
   "metadata": {},
   "outputs": [],
   "source": [
    "# https://developers.google.com/gmail/api/guides/sending#creating_messages_with_attachments\n",
    "def create_message_with_attachment(\n",
    "    sender, to, subject, message_text, file):\n",
    "    \"\"\"Create a message for an email.\n",
    "\n",
    "  Args:\n",
    "    sender: Email address of the sender.\n",
    "    to: Email address of the receiver.\n",
    "    subject: The subject of the email message.\n",
    "    message_text: The text of the email message.\n",
    "    file: The path to the file to be attached.\n",
    "\n",
    "  Returns:\n",
    "    An object containing a base64url encoded email object.\n",
    "    \"\"\"\n",
    "    message = MIMEMultipart()\n",
    "    message['to'] = to\n",
    "    message['from'] = sender\n",
    "    message['subject'] = subject\n",
    "\n",
    "    msg = MIMEText(message_text)\n",
    "    message.attach(msg)\n",
    "\n",
    "    content_type, encoding = mimetypes.guess_type(file)\n",
    "\n",
    "    if content_type is None or encoding is not None:\n",
    "        content_type = 'application/octet-stream'\n",
    "    main_type, sub_type = content_type.split('/', 1)\n",
    "    if main_type == 'text':\n",
    "        fp = open(file, 'rb')\n",
    "        msg = MIMEText(fp.read(), _subtype=sub_type)\n",
    "        fp.close()\n",
    "    elif main_type == 'image':\n",
    "        fp = open(file, 'rb')\n",
    "        msg = MIMEImage(fp.read(), _subtype=sub_type)\n",
    "        fp.close()\n",
    "    elif main_type == 'audio':\n",
    "        fp = open(file, 'rb')\n",
    "        msg = MIMEAudio(fp.read(), _subtype=sub_type)\n",
    "        fp.close()\n",
    "    else:\n",
    "        fp = open(file, 'rb')\n",
    "        msg = MIMEBase(main_type, sub_type)\n",
    "        msg.set_payload(fp.read())\n",
    "        fp.close()\n",
    "    filename = os.path.basename(file)\n",
    "    msg.add_header('Content-Disposition', 'attachment', filename=filename)\n",
    "    message.attach(msg)\n",
    "\n",
    "#    return {'raw': base64.urlsafe_b64encode(message.as_string())}\n",
    "    return {'raw': base64.urlsafe_b64encode(message.as_string().encode('utf-8')).decode(\"utf-8\")}"
   ]
  },
  {
   "cell_type": "raw",
   "metadata": {},
   "source": [
    "msg = create_message_with_attachment(\n",
    "    'ben@com', # sender; doesn't seem to show up in actual email\n",
    "    'ben.is.located@gmail.com', # to\n",
    "    '601 notebook for review', # subject\n",
    "    'Review this notebook\\n'+\n",
    "    'Reply if you have feedback for the notebook author.\\n'+\n",
    "    'Is the documentation sufficient?', # body\n",
    "    'this_file.ipynb')\n",
    "msg"
   ]
  },
  {
   "cell_type": "raw",
   "metadata": {},
   "source": [
    "send_message(service, \"me\", msg)"
   ]
  },
  {
   "cell_type": "markdown",
   "metadata": {},
   "source": [
    "# rename files"
   ]
  },
  {
   "cell_type": "code",
   "execution_count": 12,
   "metadata": {},
   "outputs": [],
   "source": [
    "import glob\n",
    "import hashlib\n",
    "import time\n",
    "import shutil\n",
    "import random"
   ]
  },
  {
   "cell_type": "code",
   "execution_count": 13,
   "metadata": {},
   "outputs": [],
   "source": [
    "list_of_grp1_files = glob.glob('grp1/*.ipynb')"
   ]
  },
  {
   "cell_type": "code",
   "execution_count": 14,
   "metadata": {},
   "outputs": [
    {
     "data": {
      "text/plain": [
       "25"
      ]
     },
     "execution_count": 14,
     "metadata": {},
     "output_type": "execute_result"
    }
   ],
   "source": [
    "len(list_of_grp1_files)"
   ]
  },
  {
   "cell_type": "code",
   "execution_count": 15,
   "metadata": {},
   "outputs": [],
   "source": [
    "list_of_grp2_files = list_of_grp1_files#glob.glob('grp/*.ipynb')"
   ]
  },
  {
   "cell_type": "code",
   "execution_count": 16,
   "metadata": {},
   "outputs": [
    {
     "data": {
      "text/plain": [
       "['grp1/pb70051.ipynb',\n",
       " 'grp1/jconroy1.ipynb',\n",
       " 'grp1/cj86416.ipynb',\n",
       " 'grp1/hlaper1.ipynb',\n",
       " 'grp1/jliang5.ipynb',\n",
       " 'grp1/ti83170.ipynb',\n",
       " 'grp1/tev1.ipynb',\n",
       " 'grp1/vjyesta1.ipynb',\n",
       " 'grp1/am27.ipynb',\n",
       " 'grp1/gmoummi1.ipynb',\n",
       " 'grp1/ro30897.ipynb',\n",
       " 'grp1/dbrown8.ipynb',\n",
       " 'grp1/parthms1.ipynb',\n",
       " 'grp1/pmourya1.ipynb',\n",
       " 'grp1/hq16977.ipynb',\n",
       " 'grp1/anudeek1.ipynb',\n",
       " 'grp1/tris1.ipynb',\n",
       " 'grp1/wfrenc1.ipynb',\n",
       " 'grp1/kw35573.ipynb',\n",
       " 'grp1/n98.ipynb',\n",
       " 'grp1/tugcee1.ipynb',\n",
       " 'grp1/zt71691.ipynb',\n",
       " 'grp1/chandus1.ipynb',\n",
       " 'grp1/bsama1.ipynb',\n",
       " 'grp1/vl29331.ipynb']"
      ]
     },
     "execution_count": 16,
     "metadata": {},
     "output_type": "execute_result"
    }
   ],
   "source": [
    "list_of_grp2_files"
   ]
  },
  {
   "cell_type": "code",
   "execution_count": 17,
   "metadata": {},
   "outputs": [],
   "source": [
    "#len(list_of_dice_files)"
   ]
  },
  {
   "cell_type": "markdown",
   "metadata": {},
   "source": [
    "### demo of hash from string"
   ]
  },
  {
   "cell_type": "code",
   "execution_count": 18,
   "metadata": {},
   "outputs": [
    {
     "data": {
      "text/plain": [
       "'bb649c83dd1ea5c9d9dec9a18df0ffe9'"
      ]
     },
     "execution_count": 18,
     "metadata": {},
     "output_type": "execute_result"
    }
   ],
   "source": [
    "hashlib.md5(b\"Nobody inspects the spammish repetition\").hexdigest()"
   ]
  },
  {
   "cell_type": "markdown",
   "metadata": {},
   "source": [
    "### we'll need a list of the student IDs later"
   ]
  },
  {
   "cell_type": "code",
   "execution_count": 19,
   "metadata": {},
   "outputs": [],
   "source": [
    "list_of_student_ids = []\n",
    "for file_name in list_of_grp1_files:\n",
    "    user_name = file_name.split('/')[-1].split('.')[0]\n",
    "    list_of_student_ids.append(user_name)"
   ]
  },
  {
   "cell_type": "code",
   "execution_count": 20,
   "metadata": {},
   "outputs": [
    {
     "data": {
      "text/plain": [
       "['pb70051',\n",
       " 'jconroy1',\n",
       " 'cj86416',\n",
       " 'hlaper1',\n",
       " 'jliang5',\n",
       " 'ti83170',\n",
       " 'tev1',\n",
       " 'vjyesta1',\n",
       " 'am27',\n",
       " 'gmoummi1',\n",
       " 'ro30897',\n",
       " 'dbrown8',\n",
       " 'parthms1',\n",
       " 'pmourya1',\n",
       " 'hq16977',\n",
       " 'anudeek1',\n",
       " 'tris1',\n",
       " 'wfrenc1',\n",
       " 'kw35573',\n",
       " 'n98',\n",
       " 'tugcee1',\n",
       " 'zt71691',\n",
       " 'chandus1',\n",
       " 'bsama1',\n",
       " 'vl29331']"
      ]
     },
     "execution_count": 20,
     "metadata": {},
     "output_type": "execute_result"
    }
   ],
   "source": [
    "list_of_student_ids"
   ]
  },
  {
   "cell_type": "code",
   "execution_count": 21,
   "metadata": {},
   "outputs": [],
   "source": [
    "start_time = time.time()\n",
    "collision = True\n",
    "while collision:\n",
    "    this_attempt = {}\n",
    "    list_of_students1 = list_of_student_ids.copy()\n",
    "    list_of_students2 = list_of_student_ids.copy()\n",
    "    for stu_id in list_of_student_ids:\n",
    "        #print('stu_id=',stu_id)\n",
    "        #print(time.time()-start_time)\n",
    "        author1 = stu_id\n",
    "        while author1 == stu_id:\n",
    "            author1 = random.choice(list_of_students1)\n",
    "        list_of_students1.remove(author1)\n",
    "        author2 = stu_id\n",
    "        while author2 == stu_id:\n",
    "            author2 = random.choice(list_of_students2)\n",
    "        list_of_students2.remove(author2)\n",
    "        if author1 != author2:\n",
    "            collision = False\n",
    "            this_attempt[stu_id] = (author1, author2)\n",
    "        else:\n",
    "            print('collision found',author1, author2)\n",
    "            collision = True\n",
    "            break\n",
    "            "
   ]
  },
  {
   "cell_type": "code",
   "execution_count": 22,
   "metadata": {},
   "outputs": [
    {
     "data": {
      "text/plain": [
       "{'pb70051': ('vl29331', 'tris1'),\n",
       " 'jconroy1': ('bsama1', 'gmoummi1'),\n",
       " 'cj86416': ('hq16977', 'jliang5'),\n",
       " 'hlaper1': ('vjyesta1', 'pb70051'),\n",
       " 'jliang5': ('ti83170', 'zt71691'),\n",
       " 'ti83170': ('tev1', 'dbrown8'),\n",
       " 'tev1': ('zt71691', 'cj86416'),\n",
       " 'vjyesta1': ('wfrenc1', 'hq16977'),\n",
       " 'am27': ('jliang5', 'hlaper1'),\n",
       " 'gmoummi1': ('anudeek1', 'chandus1'),\n",
       " 'ro30897': ('kw35573', 'vl29331'),\n",
       " 'dbrown8': ('ro30897', 'jconroy1'),\n",
       " 'parthms1': ('n98', 'tev1'),\n",
       " 'pmourya1': ('jconroy1', 'kw35573'),\n",
       " 'hq16977': ('pmourya1', 'vjyesta1'),\n",
       " 'anudeek1': ('tris1', 'ti83170'),\n",
       " 'tris1': ('gmoummi1', 'anudeek1'),\n",
       " 'wfrenc1': ('hlaper1', 'tugcee1'),\n",
       " 'kw35573': ('chandus1', 'pmourya1'),\n",
       " 'n98': ('dbrown8', 'am27'),\n",
       " 'tugcee1': ('am27', 'wfrenc1'),\n",
       " 'zt71691': ('tugcee1', 'ro30897'),\n",
       " 'chandus1': ('parthms1', 'bsama1'),\n",
       " 'bsama1': ('pb70051', 'n98'),\n",
       " 'vl29331': ('cj86416', 'parthms1')}"
      ]
     },
     "execution_count": 22,
     "metadata": {},
     "output_type": "execute_result"
    }
   ],
   "source": [
    "this_attempt"
   ]
  },
  {
   "cell_type": "code",
   "execution_count": null,
   "metadata": {},
   "outputs": [],
   "source": []
  },
  {
   "cell_type": "code",
   "execution_count": 23,
   "metadata": {},
   "outputs": [],
   "source": [
    "store = file.Storage('token.json')\n",
    "creds = store.get()\n",
    "service = build('gmail', 'v1', http=creds.authorize(Http()))"
   ]
  },
  {
   "cell_type": "code",
   "execution_count": 26,
   "metadata": {},
   "outputs": [
    {
     "name": "stdout",
     "output_type": "stream",
     "text": [
      "reviewer = pb70051 ; author =  vl29331 ; 31e0a8adba026fc37cba64c1c957a742\n",
      "Message Id: 1715bf9e63350dc9\n",
      "removing grp1/31e0a8adba026fc37cba64c1c957a742.ipynb\n",
      "reviewer = pb70051 ; author =  tris1 ; 18a838e678d31af3c72fb99e35bbf77a\n",
      "Message Id: 1715bf9e83c38a37\n",
      "removing grp1/18a838e678d31af3c72fb99e35bbf77a.ipynb\n",
      "reviewer = jconroy1 ; author =  bsama1 ; 61d9b443c4f1e92ab5c8bb15d5bd654d\n",
      "Message Id: 1715bf9ec110a65a\n",
      "removing grp1/61d9b443c4f1e92ab5c8bb15d5bd654d.ipynb\n",
      "reviewer = jconroy1 ; author =  gmoummi1 ; 43a01e45c1be45b3754953115662f9b7\n",
      "Message Id: 1715bf9ec54d26ec\n",
      "removing grp1/43a01e45c1be45b3754953115662f9b7.ipynb\n",
      "reviewer = cj86416 ; author =  hq16977 ; 73bf30f1531d9f530481ba8be96e12b2\n",
      "Message Id: 1715bf9f028a4c88\n",
      "removing grp1/73bf30f1531d9f530481ba8be96e12b2.ipynb\n",
      "reviewer = cj86416 ; author =  jliang5 ; 508298ab805cc81d0ce915cf25d44573\n",
      "Message Id: 1715bf9f20861fbd\n",
      "removing grp1/508298ab805cc81d0ce915cf25d44573.ipynb\n",
      "reviewer = hlaper1 ; author =  vjyesta1 ; 99a8558b5901d82f6ce48dcedfa64190\n",
      "Message Id: 1715bf9f7f13331f\n",
      "removing grp1/99a8558b5901d82f6ce48dcedfa64190.ipynb\n",
      "reviewer = hlaper1 ; author =  pb70051 ; 981a77fab535dd09b94f969d036bcae8\n",
      "Message Id: 1715bf9f83458b4c\n",
      "removing grp1/981a77fab535dd09b94f969d036bcae8.ipynb\n",
      "reviewer = jliang5 ; author =  ti83170 ; afc25d5c25a1c3fedbe56911c75ed2f7\n",
      "Message Id: 1715bf9fbd565161\n",
      "removing grp1/afc25d5c25a1c3fedbe56911c75ed2f7.ipynb\n",
      "reviewer = jliang5 ; author =  zt71691 ; 89f6259889cdc0abc7fb8ae3b5220c13\n",
      "Message Id: 1715bf9fe5f4a187\n",
      "removing grp1/89f6259889cdc0abc7fb8ae3b5220c13.ipynb\n",
      "reviewer = ti83170 ; author =  tev1 ; acbfb2aba310853b73485c2f82c1b343\n",
      "Message Id: 1715bfa01e4fa193\n",
      "removing grp1/acbfb2aba310853b73485c2f82c1b343.ipynb\n",
      "reviewer = ti83170 ; author =  dbrown8 ; 7a25f9925d7160e40e27a524ea1ac802\n",
      "Message Id: 1715bfa0444bc587\n",
      "removing grp1/7a25f9925d7160e40e27a524ea1ac802.ipynb\n",
      "reviewer = tev1 ; author =  zt71691 ; 506f5a2967a46178184bf03f207a9398\n",
      "Message Id: 1715bfa078fa3c25\n",
      "removing grp1/506f5a2967a46178184bf03f207a9398.ipynb\n",
      "reviewer = tev1 ; author =  cj86416 ; fbcf006f57637238bb9255afc936dcf7\n",
      "Message Id: 1715bfa0b4bc0148\n",
      "removing grp1/fbcf006f57637238bb9255afc936dcf7.ipynb\n",
      "reviewer = vjyesta1 ; author =  wfrenc1 ; fe4ae039ff57586e4ce546a685532b9d\n",
      "Message Id: 1715bfa0f61e4989\n",
      "removing grp1/fe4ae039ff57586e4ce546a685532b9d.ipynb\n",
      "reviewer = vjyesta1 ; author =  hq16977 ; 292e281538974e46c8fa03afe458e636\n",
      "Message Id: 1715bfa0f0dcf653\n",
      "removing grp1/292e281538974e46c8fa03afe458e636.ipynb\n",
      "reviewer = am27 ; author =  jliang5 ; 93c77abc8dd394c4c0270c87a1e00f6e\n",
      "Message Id: 1715bfa109a8e101\n",
      "removing grp1/93c77abc8dd394c4c0270c87a1e00f6e.ipynb\n",
      "reviewer = am27 ; author =  hlaper1 ; 67c4b692f6e39b82c59e2aa8f31477c6\n",
      "Message Id: 1715bfa14af51665\n",
      "removing grp1/67c4b692f6e39b82c59e2aa8f31477c6.ipynb\n",
      "reviewer = gmoummi1 ; author =  anudeek1 ; 7a6cb9c718fb5a57ae55f50062f857f8\n",
      "Message Id: 1715bfa16d523b5f\n",
      "removing grp1/7a6cb9c718fb5a57ae55f50062f857f8.ipynb\n",
      "reviewer = gmoummi1 ; author =  chandus1 ; aee0d1257d8cca4abb4bb01f8786ca3e\n",
      "Message Id: 1715bfa1973dd0d9\n",
      "removing grp1/aee0d1257d8cca4abb4bb01f8786ca3e.ipynb\n",
      "reviewer = ro30897 ; author =  kw35573 ; 4964a38eb119f355706eb5deacb47611\n",
      "Message Id: 1715bfa1bcae0959\n",
      "removing grp1/4964a38eb119f355706eb5deacb47611.ipynb\n",
      "reviewer = ro30897 ; author =  vl29331 ; 5d8b2ee78b030bec84ae63684514d06e\n",
      "Message Id: 1715bfa1ca030841\n",
      "removing grp1/5d8b2ee78b030bec84ae63684514d06e.ipynb\n",
      "reviewer = dbrown8 ; author =  ro30897 ; 19cd691e6cfa730bf5974071478b7aae\n",
      "Message Id: 1715bfa1e5ce0552\n",
      "removing grp1/19cd691e6cfa730bf5974071478b7aae.ipynb\n",
      "reviewer = dbrown8 ; author =  jconroy1 ; 149226049d4c110437c6111dae0bfb0a\n",
      "Message Id: 1715bfa2257c1882\n",
      "removing grp1/149226049d4c110437c6111dae0bfb0a.ipynb\n",
      "reviewer = parthms1 ; author =  n98 ; c5df9af88e5dce3fcd132bc945aff4b1\n",
      "Message Id: 1715bfa242cd324e\n",
      "removing grp1/c5df9af88e5dce3fcd132bc945aff4b1.ipynb\n",
      "reviewer = parthms1 ; author =  tev1 ; 4bea9df2d5e86fa591a18a200531a77c\n",
      "Message Id: 1715bfa270cfc173\n",
      "removing grp1/4bea9df2d5e86fa591a18a200531a77c.ipynb\n",
      "reviewer = pmourya1 ; author =  jconroy1 ; 92266dfe826a77f953c98c3cd421932b\n",
      "Message Id: 1715bfa29711faca\n",
      "removing grp1/92266dfe826a77f953c98c3cd421932b.ipynb\n",
      "reviewer = pmourya1 ; author =  kw35573 ; 67badd9dad1172637abd81c99e55220f\n",
      "Message Id: 1715bfa2add856b2\n",
      "removing grp1/67badd9dad1172637abd81c99e55220f.ipynb\n",
      "reviewer = hq16977 ; author =  pmourya1 ; 68442588c0a15a88873c19db31393894\n",
      "Message Id: 1715bfa2f95b8251\n",
      "removing grp1/68442588c0a15a88873c19db31393894.ipynb\n",
      "reviewer = hq16977 ; author =  vjyesta1 ; 4f3a783b478801749c30bd3a35ddaac2\n",
      "Message Id: 1715bfa2e2b649ea\n",
      "removing grp1/4f3a783b478801749c30bd3a35ddaac2.ipynb\n",
      "reviewer = anudeek1 ; author =  tris1 ; 938570c0d83dd953f558634c4937f0f9\n",
      "Message Id: 1715bfa315fb7883\n",
      "removing grp1/938570c0d83dd953f558634c4937f0f9.ipynb\n",
      "reviewer = anudeek1 ; author =  ti83170 ; 393b1c73045281153fbdabf33745af4c\n",
      "Message Id: 1715bfa32498b0f5\n",
      "removing grp1/393b1c73045281153fbdabf33745af4c.ipynb\n",
      "reviewer = tris1 ; author =  gmoummi1 ; a8c2afc0a21f25695485108ad1da2a11\n",
      "Message Id: 1715bfa37f659c07\n",
      "removing grp1/a8c2afc0a21f25695485108ad1da2a11.ipynb\n",
      "reviewer = tris1 ; author =  anudeek1 ; 6c3610d180330b539ee4bb537c5d18da\n",
      "Message Id: 1715bfa384e1879c\n",
      "removing grp1/6c3610d180330b539ee4bb537c5d18da.ipynb\n",
      "reviewer = wfrenc1 ; author =  hlaper1 ; a32a922506e1e4e22f5d56b516734db9\n",
      "Message Id: 1715bfa3acb427e8\n",
      "removing grp1/a32a922506e1e4e22f5d56b516734db9.ipynb\n",
      "reviewer = wfrenc1 ; author =  tugcee1 ; f9f3030f87d2b55a508ee0a835d97d46\n",
      "Message Id: 1715bfa3cca73f2a\n",
      "removing grp1/f9f3030f87d2b55a508ee0a835d97d46.ipynb\n",
      "reviewer = kw35573 ; author =  chandus1 ; d09086d5d142d6013f2ede520bc0f482\n",
      "Message Id: 1715bfa3e5d552d3\n",
      "removing grp1/d09086d5d142d6013f2ede520bc0f482.ipynb\n",
      "reviewer = kw35573 ; author =  pmourya1 ; 6269726bf941942e6047640934fa2621\n",
      "Message Id: 1715bfa4153dfe8b\n",
      "removing grp1/6269726bf941942e6047640934fa2621.ipynb\n",
      "reviewer = n98 ; author =  dbrown8 ; 5385b60be604d5b0f2cdc835a54a5ce8\n",
      "Message Id: 1715bfa43d2609f2\n",
      "removing grp1/5385b60be604d5b0f2cdc835a54a5ce8.ipynb\n",
      "reviewer = n98 ; author =  am27 ; 72366dadf6e70d57d1d8d1233c2238fe\n",
      "Message Id: 1715bfa47a123ace\n",
      "removing grp1/72366dadf6e70d57d1d8d1233c2238fe.ipynb\n",
      "reviewer = tugcee1 ; author =  am27 ; 999ba81aac5e15034df046faabd57807\n",
      "Message Id: 1715bfa49ed357cc\n",
      "removing grp1/999ba81aac5e15034df046faabd57807.ipynb\n",
      "reviewer = tugcee1 ; author =  wfrenc1 ; 7ba3f57dcced06d139699ff153adce9e\n",
      "Message Id: 1715bfa4a12cf9ee\n",
      "removing grp1/7ba3f57dcced06d139699ff153adce9e.ipynb\n",
      "reviewer = zt71691 ; author =  tugcee1 ; 17310d6a48e61b75d087ff0b1ed8aaf2\n",
      "Message Id: 1715bfa4d25ab2e6\n",
      "removing grp1/17310d6a48e61b75d087ff0b1ed8aaf2.ipynb\n",
      "reviewer = zt71691 ; author =  ro30897 ; dcbc801aca85d08cf0e98af5670b5c2f\n",
      "Message Id: 1715bfa4eb1f6602\n",
      "removing grp1/dcbc801aca85d08cf0e98af5670b5c2f.ipynb\n",
      "reviewer = chandus1 ; author =  parthms1 ; 5bba2c81bc2c9e7463c2d07b31b76402\n",
      "Message Id: 1715bfa515a7b19f\n",
      "removing grp1/5bba2c81bc2c9e7463c2d07b31b76402.ipynb\n",
      "reviewer = chandus1 ; author =  bsama1 ; 7a71af1258d57b272c81c482404bb9a3\n",
      "Message Id: 1715bfa5458df7d1\n",
      "removing grp1/7a71af1258d57b272c81c482404bb9a3.ipynb\n",
      "reviewer = bsama1 ; author =  pb70051 ; a64ce7a7a4dba18162ce9ea37bbcb333\n",
      "Message Id: 1715bfa566783048\n",
      "removing grp1/a64ce7a7a4dba18162ce9ea37bbcb333.ipynb\n",
      "reviewer = bsama1 ; author =  n98 ; 021f26a9f4b2c56c05b6b602b98e5313\n",
      "Message Id: 1715bfa57365e7a4\n",
      "removing grp1/021f26a9f4b2c56c05b6b602b98e5313.ipynb\n",
      "reviewer = vl29331 ; author =  cj86416 ; 6926bf8f4d74a04070e337a4f84f3aa7\n",
      "Message Id: 1715bfa5ba3e621a\n",
      "removing grp1/6926bf8f4d74a04070e337a4f84f3aa7.ipynb\n",
      "reviewer = vl29331 ; author =  parthms1 ; ee8a8ff5fa400abcfffed647e2e941f1\n",
      "Message Id: 1715bfa5cb72e220\n",
      "removing grp1/ee8a8ff5fa400abcfffed647e2e941f1.ipynb\n"
     ]
    }
   ],
   "source": [
    "folder_name = 'grp1'\n",
    "for reviewer, author_tuple in this_attempt.items():\n",
    "    for author in author_tuple:\n",
    "        author_reviewer_hash = hashlib.md5(str.encode(author+reviewer)).hexdigest() # hash of student name\n",
    "        print('reviewer =', reviewer,'; author = ', author,';',author_reviewer_hash)\n",
    "        file_name = folder_name + '/' + author + '.ipynb'\n",
    "        file_hash_name = folder_name + '/' + author_reviewer_hash + '.ipynb'\n",
    "        #print('file_name=',file_name,'; file_hash_name=',file_hash_name)\n",
    "        shutil.copy(file_name, file_hash_name)\n",
    "        msg = create_message_with_attachment(\n",
    "            'ben@com', # sender; doesn't seem to show up in actual email\n",
    "#            'ben.is.located@gmail.com', # to - for testing \n",
    "            reviewer+'@umbc.edu',  # MASS MAIL - destination student\n",
    "            '601 attempt to run this notebook: '+author_reviewer_hash, # subject\n",
    "#            'Task: Review this notebook.\\n'+\n",
    "            'Task: attempt to run this notebook.\\n'+\n",
    "            'Reply to this email by 9:30pm on April 8 if you have feedback for the notebook author.\\n\\n'+\n",
    "            'What changes (if any) to the code did you need to make?\\n'+\n",
    "#            'For example, is \n",
    "            'Was the documentation sufficient?\\n'+\n",
    "            'Were you able to get the code to run?\\n'+\n",
    "            'If no, where did you get stuck?\\n'+\n",
    "            'Did you encounter any errors?\\n'+\n",
    "            'Was the output correct?\\n'+\n",
    "#            'Are you able to understand the author\\'s intent?\\n'+\n",
    "            'What suggestions do you have for the author?\\n\\n'+\n",
    "            'Do not sign the reply email with your name.\\n'+\n",
    "            'Your comments should be in the email body. \\n'+\n",
    "            'Do not include any attachments in the reply email.', # body\n",
    "            file_hash_name)\n",
    "\n",
    "        send_message(service, \"me\", msg)  # send all the mails\n",
    "        print('removing',file_hash_name)\n",
    "        os.remove(file_hash_name)"
   ]
  },
  {
   "cell_type": "code",
   "execution_count": null,
   "metadata": {},
   "outputs": [],
   "source": []
  }
 ],
 "metadata": {
  "kernelspec": {
   "display_name": "Python 3",
   "language": "python",
   "name": "python3"
  },
  "language_info": {
   "codemirror_mode": {
    "name": "ipython",
    "version": 3
   },
   "file_extension": ".py",
   "mimetype": "text/x-python",
   "name": "python",
   "nbconvert_exporter": "python",
   "pygments_lexer": "ipython3",
   "version": "3.6.6"
  }
 },
 "nbformat": 4,
 "nbformat_minor": 2
}
