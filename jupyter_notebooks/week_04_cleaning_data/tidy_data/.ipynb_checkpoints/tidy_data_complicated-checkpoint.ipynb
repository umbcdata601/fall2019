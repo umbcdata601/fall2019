{
 "cells": [
  {
   "cell_type": "markdown",
   "metadata": {},
   "source": [
    "reference: https://vita.had.co.nz/papers/tidy-data.pdf"
   ]
  },
  {
   "cell_type": "code",
   "execution_count": 1,
   "metadata": {},
   "outputs": [
    {
     "name": "stdout",
     "output_type": "stream",
     "text": [
      "pandas 0.23.4\n"
     ]
    }
   ],
   "source": [
    "import pandas\n",
    "print('pandas',pandas.__version__)\n",
    "from matplotlib import pyplot as plt\n",
    "import time"
   ]
  },
  {
   "cell_type": "markdown",
   "metadata": {},
   "source": [
    "# Data: Life expectancy at birth per ward\n",
    "\n",
    "data is from \n",
    "https://data.london.gov.uk/dataset/life-expectancy-birth-and-age-65-ward"
   ]
  },
  {
   "cell_type": "markdown",
   "metadata": {},
   "source": [
    "Tip: Rather than loading from file on disk, read directly from URL"
   ]
  },
  {
   "cell_type": "code",
   "execution_count": 2,
   "metadata": {},
   "outputs": [],
   "source": [
    "df = pandas.read_csv('https://data.london.gov.uk/download/life-expectancy-birth-and-age-65-ward/38b6745f-168a-493d-9ff4-2b3ba63e86f2/life-expectancy-ward-at-Birth.csv')"
   ]
  },
  {
   "cell_type": "markdown",
   "metadata": {},
   "source": [
    "What are the dimensions?"
   ]
  },
  {
   "cell_type": "code",
   "execution_count": 3,
   "metadata": {},
   "outputs": [
    {
     "data": {
      "text/plain": [
       "(669, 77)"
      ]
     },
     "execution_count": 3,
     "metadata": {},
     "output_type": "execute_result"
    }
   ],
   "source": [
    "df.shape"
   ]
  },
  {
   "cell_type": "code",
   "execution_count": 4,
   "metadata": {},
   "outputs": [
    {
     "data": {
      "text/html": [
       "<div>\n",
       "<style scoped>\n",
       "    .dataframe tbody tr th:only-of-type {\n",
       "        vertical-align: middle;\n",
       "    }\n",
       "\n",
       "    .dataframe tbody tr th {\n",
       "        vertical-align: top;\n",
       "    }\n",
       "\n",
       "    .dataframe thead th {\n",
       "        text-align: right;\n",
       "    }\n",
       "</style>\n",
       "<table border=\"1\" class=\"dataframe\">\n",
       "  <thead>\n",
       "    <tr style=\"text-align: right;\">\n",
       "      <th></th>\n",
       "      <th>Ward</th>\n",
       "      <th>Old Ward Code</th>\n",
       "      <th>Local Authority</th>\n",
       "      <th>Ward name</th>\n",
       "      <th>Geography</th>\n",
       "      <th>1999-2003;Male;Life expectancy at birth</th>\n",
       "      <th>1999-2003;Male;95% Lower</th>\n",
       "      <th>1999-2003;Male;95% Upper</th>\n",
       "      <th>1999-2003;Female;Life expectancy at birth</th>\n",
       "      <th>1999-2003;Female;95% Lower</th>\n",
       "      <th>...</th>\n",
       "      <th>2009-13;Male;95% Upper</th>\n",
       "      <th>2009-13;Female;Life expectancy at birth</th>\n",
       "      <th>2009-13;Female;95% Lower</th>\n",
       "      <th>2009-13;Female;95% Upper</th>\n",
       "      <th>2010-14;Male;Life expectancy at birth</th>\n",
       "      <th>2010-14;Male;95% Lower</th>\n",
       "      <th>2010-14;Male;95% Upper</th>\n",
       "      <th>2010-14;Female;Life expectancy at birth</th>\n",
       "      <th>2010-14;Female;95% Lower</th>\n",
       "      <th>2010-14;Female;95% Upper</th>\n",
       "    </tr>\n",
       "  </thead>\n",
       "  <tbody>\n",
       "    <tr>\n",
       "      <th>0</th>\n",
       "      <td>E05000026</td>\n",
       "      <td>00ABFX</td>\n",
       "      <td>Barking and Dagenham</td>\n",
       "      <td>Abbey</td>\n",
       "      <td>Ward</td>\n",
       "      <td>75.9</td>\n",
       "      <td>73.5</td>\n",
       "      <td>78.3</td>\n",
       "      <td>80.3</td>\n",
       "      <td>78.3</td>\n",
       "      <td>...</td>\n",
       "      <td>82.7</td>\n",
       "      <td>83.9</td>\n",
       "      <td>81.3</td>\n",
       "      <td>86.5</td>\n",
       "      <td>80.0</td>\n",
       "      <td>77.5</td>\n",
       "      <td>82.4</td>\n",
       "      <td>83.6</td>\n",
       "      <td>81.0</td>\n",
       "      <td>86.3</td>\n",
       "    </tr>\n",
       "    <tr>\n",
       "      <th>1</th>\n",
       "      <td>E05000027</td>\n",
       "      <td>00ABFY</td>\n",
       "      <td>Barking and Dagenham</td>\n",
       "      <td>Alibon</td>\n",
       "      <td>Ward</td>\n",
       "      <td>73.3</td>\n",
       "      <td>71.3</td>\n",
       "      <td>75.3</td>\n",
       "      <td>78.9</td>\n",
       "      <td>77.3</td>\n",
       "      <td>...</td>\n",
       "      <td>79.2</td>\n",
       "      <td>80.6</td>\n",
       "      <td>78.6</td>\n",
       "      <td>82.6</td>\n",
       "      <td>77.0</td>\n",
       "      <td>74.9</td>\n",
       "      <td>79.1</td>\n",
       "      <td>81.4</td>\n",
       "      <td>79.3</td>\n",
       "      <td>83.6</td>\n",
       "    </tr>\n",
       "    <tr>\n",
       "      <th>2</th>\n",
       "      <td>E05000028</td>\n",
       "      <td>00ABFZ</td>\n",
       "      <td>Barking and Dagenham</td>\n",
       "      <td>Becontree</td>\n",
       "      <td>Ward</td>\n",
       "      <td>74.9</td>\n",
       "      <td>73.2</td>\n",
       "      <td>76.6</td>\n",
       "      <td>81.0</td>\n",
       "      <td>79.1</td>\n",
       "      <td>...</td>\n",
       "      <td>80.8</td>\n",
       "      <td>79.3</td>\n",
       "      <td>77.7</td>\n",
       "      <td>81.0</td>\n",
       "      <td>79.0</td>\n",
       "      <td>77.1</td>\n",
       "      <td>80.8</td>\n",
       "      <td>79.2</td>\n",
       "      <td>77.6</td>\n",
       "      <td>80.8</td>\n",
       "    </tr>\n",
       "  </tbody>\n",
       "</table>\n",
       "<p>3 rows × 77 columns</p>\n",
       "</div>"
      ],
      "text/plain": [
       "        Ward Old Ward Code       Local Authority  Ward name Geography  \\\n",
       "0  E05000026        00ABFX  Barking and Dagenham      Abbey      Ward   \n",
       "1  E05000027        00ABFY  Barking and Dagenham     Alibon      Ward   \n",
       "2  E05000028        00ABFZ  Barking and Dagenham  Becontree      Ward   \n",
       "\n",
       "   1999-2003;Male;Life expectancy at birth  1999-2003;Male;95% Lower  \\\n",
       "0                                     75.9                      73.5   \n",
       "1                                     73.3                      71.3   \n",
       "2                                     74.9                      73.2   \n",
       "\n",
       "   1999-2003;Male;95% Upper  1999-2003;Female;Life expectancy at birth  \\\n",
       "0                      78.3                                       80.3   \n",
       "1                      75.3                                       78.9   \n",
       "2                      76.6                                       81.0   \n",
       "\n",
       "   1999-2003;Female;95% Lower            ...             \\\n",
       "0                        78.3            ...              \n",
       "1                        77.3            ...              \n",
       "2                        79.1            ...              \n",
       "\n",
       "   2009-13;Male;95% Upper  2009-13;Female;Life expectancy at birth  \\\n",
       "0                    82.7                                     83.9   \n",
       "1                    79.2                                     80.6   \n",
       "2                    80.8                                     79.3   \n",
       "\n",
       "   2009-13;Female;95% Lower  2009-13;Female;95% Upper  \\\n",
       "0                      81.3                      86.5   \n",
       "1                      78.6                      82.6   \n",
       "2                      77.7                      81.0   \n",
       "\n",
       "   2010-14;Male;Life expectancy at birth  2010-14;Male;95% Lower  \\\n",
       "0                                   80.0                    77.5   \n",
       "1                                   77.0                    74.9   \n",
       "2                                   79.0                    77.1   \n",
       "\n",
       "   2010-14;Male;95% Upper  2010-14;Female;Life expectancy at birth  \\\n",
       "0                    82.4                                     83.6   \n",
       "1                    79.1                                     81.4   \n",
       "2                    80.8                                     79.2   \n",
       "\n",
       "   2010-14;Female;95% Lower  2010-14;Female;95% Upper  \n",
       "0                      81.0                      86.3  \n",
       "1                      79.3                      83.6  \n",
       "2                      77.6                      80.8  \n",
       "\n",
       "[3 rows x 77 columns]"
      ]
     },
     "execution_count": 4,
     "metadata": {},
     "output_type": "execute_result"
    }
   ],
   "source": [
    "df.head(3)"
   ]
  },
  {
   "cell_type": "markdown",
   "metadata": {},
   "source": [
    "Since there are many columns, here I transpose the head to preview content"
   ]
  },
  {
   "cell_type": "code",
   "execution_count": 5,
   "metadata": {},
   "outputs": [
    {
     "data": {
      "text/html": [
       "<div>\n",
       "<style scoped>\n",
       "    .dataframe tbody tr th:only-of-type {\n",
       "        vertical-align: middle;\n",
       "    }\n",
       "\n",
       "    .dataframe tbody tr th {\n",
       "        vertical-align: top;\n",
       "    }\n",
       "\n",
       "    .dataframe thead th {\n",
       "        text-align: right;\n",
       "    }\n",
       "</style>\n",
       "<table border=\"1\" class=\"dataframe\">\n",
       "  <thead>\n",
       "    <tr style=\"text-align: right;\">\n",
       "      <th></th>\n",
       "      <th>0</th>\n",
       "      <th>1</th>\n",
       "      <th>2</th>\n",
       "    </tr>\n",
       "  </thead>\n",
       "  <tbody>\n",
       "    <tr>\n",
       "      <th>Ward</th>\n",
       "      <td>E05000026</td>\n",
       "      <td>E05000027</td>\n",
       "      <td>E05000028</td>\n",
       "    </tr>\n",
       "    <tr>\n",
       "      <th>Old Ward Code</th>\n",
       "      <td>00ABFX</td>\n",
       "      <td>00ABFY</td>\n",
       "      <td>00ABFZ</td>\n",
       "    </tr>\n",
       "    <tr>\n",
       "      <th>Local Authority</th>\n",
       "      <td>Barking and Dagenham</td>\n",
       "      <td>Barking and Dagenham</td>\n",
       "      <td>Barking and Dagenham</td>\n",
       "    </tr>\n",
       "    <tr>\n",
       "      <th>Ward name</th>\n",
       "      <td>Abbey</td>\n",
       "      <td>Alibon</td>\n",
       "      <td>Becontree</td>\n",
       "    </tr>\n",
       "    <tr>\n",
       "      <th>Geography</th>\n",
       "      <td>Ward</td>\n",
       "      <td>Ward</td>\n",
       "      <td>Ward</td>\n",
       "    </tr>\n",
       "    <tr>\n",
       "      <th>1999-2003;Male;Life expectancy at birth</th>\n",
       "      <td>75.9</td>\n",
       "      <td>73.3</td>\n",
       "      <td>74.9</td>\n",
       "    </tr>\n",
       "    <tr>\n",
       "      <th>1999-2003;Male;95% Lower</th>\n",
       "      <td>73.5</td>\n",
       "      <td>71.3</td>\n",
       "      <td>73.2</td>\n",
       "    </tr>\n",
       "    <tr>\n",
       "      <th>1999-2003;Male;95% Upper</th>\n",
       "      <td>78.3</td>\n",
       "      <td>75.3</td>\n",
       "      <td>76.6</td>\n",
       "    </tr>\n",
       "    <tr>\n",
       "      <th>1999-2003;Female;Life expectancy at birth</th>\n",
       "      <td>80.3</td>\n",
       "      <td>78.9</td>\n",
       "      <td>81</td>\n",
       "    </tr>\n",
       "    <tr>\n",
       "      <th>1999-2003;Female;95% Lower</th>\n",
       "      <td>78.3</td>\n",
       "      <td>77.3</td>\n",
       "      <td>79.1</td>\n",
       "    </tr>\n",
       "    <tr>\n",
       "      <th>1999-2003;Female;95% Upper</th>\n",
       "      <td>82.4</td>\n",
       "      <td>80.6</td>\n",
       "      <td>83</td>\n",
       "    </tr>\n",
       "    <tr>\n",
       "      <th>2000-2004;Male;Life expectancy at birth</th>\n",
       "      <td>74.3</td>\n",
       "      <td>73.3</td>\n",
       "      <td>75.1</td>\n",
       "    </tr>\n",
       "    <tr>\n",
       "      <th>2000-2004;Male;95% Lower</th>\n",
       "      <td>72.2</td>\n",
       "      <td>71.4</td>\n",
       "      <td>73.4</td>\n",
       "    </tr>\n",
       "    <tr>\n",
       "      <th>2000-2004;Male;95% Upper</th>\n",
       "      <td>76.3</td>\n",
       "      <td>75.2</td>\n",
       "      <td>76.8</td>\n",
       "    </tr>\n",
       "    <tr>\n",
       "      <th>2000-2004;Female;Life expectancy at birth</th>\n",
       "      <td>81.1</td>\n",
       "      <td>79.6</td>\n",
       "      <td>82.3</td>\n",
       "    </tr>\n",
       "    <tr>\n",
       "      <th>2000-2004;Female;95% Lower</th>\n",
       "      <td>79</td>\n",
       "      <td>77.9</td>\n",
       "      <td>80.3</td>\n",
       "    </tr>\n",
       "    <tr>\n",
       "      <th>2000-2004;Female;95% Upper</th>\n",
       "      <td>83.2</td>\n",
       "      <td>81.3</td>\n",
       "      <td>84.3</td>\n",
       "    </tr>\n",
       "    <tr>\n",
       "      <th>2001-2005;Male;Life expectancy at birth</th>\n",
       "      <td>75.6</td>\n",
       "      <td>74.3</td>\n",
       "      <td>74.4</td>\n",
       "    </tr>\n",
       "    <tr>\n",
       "      <th>2001-2005;Male;95% Lower</th>\n",
       "      <td>73.4</td>\n",
       "      <td>72.5</td>\n",
       "      <td>72.7</td>\n",
       "    </tr>\n",
       "    <tr>\n",
       "      <th>2001-2005;Male;95% Upper</th>\n",
       "      <td>77.7</td>\n",
       "      <td>76.1</td>\n",
       "      <td>76.1</td>\n",
       "    </tr>\n",
       "    <tr>\n",
       "      <th>2001-2005;Female;Life expectancy at birth</th>\n",
       "      <td>81.2</td>\n",
       "      <td>79.9</td>\n",
       "      <td>82.8</td>\n",
       "    </tr>\n",
       "    <tr>\n",
       "      <th>2001-2005;Female;95% Lower</th>\n",
       "      <td>79.2</td>\n",
       "      <td>78</td>\n",
       "      <td>80.8</td>\n",
       "    </tr>\n",
       "    <tr>\n",
       "      <th>2001-2005;Female;95% Upper</th>\n",
       "      <td>83.3</td>\n",
       "      <td>81.7</td>\n",
       "      <td>84.8</td>\n",
       "    </tr>\n",
       "    <tr>\n",
       "      <th>2002-06;Male;Life expectancy at birth</th>\n",
       "      <td>76.1</td>\n",
       "      <td>74.6</td>\n",
       "      <td>75.6</td>\n",
       "    </tr>\n",
       "    <tr>\n",
       "      <th>2002-06;Male;95% Lower</th>\n",
       "      <td>73.6</td>\n",
       "      <td>72.9</td>\n",
       "      <td>73.5</td>\n",
       "    </tr>\n",
       "    <tr>\n",
       "      <th>2002-06;Male;95% Upper</th>\n",
       "      <td>78.6</td>\n",
       "      <td>76.3</td>\n",
       "      <td>77.7</td>\n",
       "    </tr>\n",
       "    <tr>\n",
       "      <th>2002-06;Female;Life expectancy at birth</th>\n",
       "      <td>80.6</td>\n",
       "      <td>79.8</td>\n",
       "      <td>82.8</td>\n",
       "    </tr>\n",
       "    <tr>\n",
       "      <th>2002-06;Female;95% Lower</th>\n",
       "      <td>78.4</td>\n",
       "      <td>77.8</td>\n",
       "      <td>80.9</td>\n",
       "    </tr>\n",
       "    <tr>\n",
       "      <th>2002-06;Female;95% Upper</th>\n",
       "      <td>82.9</td>\n",
       "      <td>81.7</td>\n",
       "      <td>84.6</td>\n",
       "    </tr>\n",
       "    <tr>\n",
       "      <th>2003-07;Male;Life expectancy at birth</th>\n",
       "      <td>77</td>\n",
       "      <td>75.4</td>\n",
       "      <td>74.8</td>\n",
       "    </tr>\n",
       "    <tr>\n",
       "      <th>...</th>\n",
       "      <td>...</td>\n",
       "      <td>...</td>\n",
       "      <td>...</td>\n",
       "    </tr>\n",
       "    <tr>\n",
       "      <th>2006-10;Male;Life expectancy at birth</th>\n",
       "      <td>80.6</td>\n",
       "      <td>76.3</td>\n",
       "      <td>77.4</td>\n",
       "    </tr>\n",
       "    <tr>\n",
       "      <th>2006-10;Male;95% Lower</th>\n",
       "      <td>77.4</td>\n",
       "      <td>74.5</td>\n",
       "      <td>75.5</td>\n",
       "    </tr>\n",
       "    <tr>\n",
       "      <th>2006-10;Male;95% Upper</th>\n",
       "      <td>83.8</td>\n",
       "      <td>78.1</td>\n",
       "      <td>79.4</td>\n",
       "    </tr>\n",
       "    <tr>\n",
       "      <th>2006-10;Female;Life expectancy at birth</th>\n",
       "      <td>84.1</td>\n",
       "      <td>80.1</td>\n",
       "      <td>80.3</td>\n",
       "    </tr>\n",
       "    <tr>\n",
       "      <th>2006-10;Female;95% Lower</th>\n",
       "      <td>81.2</td>\n",
       "      <td>78.4</td>\n",
       "      <td>78.5</td>\n",
       "    </tr>\n",
       "    <tr>\n",
       "      <th>2006-10;Female;95% Upper</th>\n",
       "      <td>87</td>\n",
       "      <td>81.9</td>\n",
       "      <td>82</td>\n",
       "    </tr>\n",
       "    <tr>\n",
       "      <th>2007-11;Male;Life expectancy at birth</th>\n",
       "      <td>81</td>\n",
       "      <td>76</td>\n",
       "      <td>77.5</td>\n",
       "    </tr>\n",
       "    <tr>\n",
       "      <th>2007-11;Male;95% Lower</th>\n",
       "      <td>78.2</td>\n",
       "      <td>74</td>\n",
       "      <td>75.6</td>\n",
       "    </tr>\n",
       "    <tr>\n",
       "      <th>2007-11;Male;95% Upper</th>\n",
       "      <td>83.8</td>\n",
       "      <td>77.9</td>\n",
       "      <td>79.4</td>\n",
       "    </tr>\n",
       "    <tr>\n",
       "      <th>2007-11;Female;Life expectancy at birth</th>\n",
       "      <td>83.1</td>\n",
       "      <td>80.6</td>\n",
       "      <td>79.8</td>\n",
       "    </tr>\n",
       "    <tr>\n",
       "      <th>2007-11;Female;95% Lower</th>\n",
       "      <td>80.5</td>\n",
       "      <td>78.7</td>\n",
       "      <td>78.1</td>\n",
       "    </tr>\n",
       "    <tr>\n",
       "      <th>2007-11;Female;95% Upper</th>\n",
       "      <td>85.6</td>\n",
       "      <td>82.4</td>\n",
       "      <td>81.5</td>\n",
       "    </tr>\n",
       "    <tr>\n",
       "      <th>2008-12;Male;Life expectancy at birth</th>\n",
       "      <td>80</td>\n",
       "      <td>75.8</td>\n",
       "      <td>78.9</td>\n",
       "    </tr>\n",
       "    <tr>\n",
       "      <th>2008-12;Male;95% Lower</th>\n",
       "      <td>77.6</td>\n",
       "      <td>73.8</td>\n",
       "      <td>77.1</td>\n",
       "    </tr>\n",
       "    <tr>\n",
       "      <th>2008-12;Male;95% Upper</th>\n",
       "      <td>82.5</td>\n",
       "      <td>77.7</td>\n",
       "      <td>80.8</td>\n",
       "    </tr>\n",
       "    <tr>\n",
       "      <th>2008-12;Female;Life expectancy at birth</th>\n",
       "      <td>82.2</td>\n",
       "      <td>80.4</td>\n",
       "      <td>78.9</td>\n",
       "    </tr>\n",
       "    <tr>\n",
       "      <th>2008-12;Female;95% Lower</th>\n",
       "      <td>79.7</td>\n",
       "      <td>78.5</td>\n",
       "      <td>77.2</td>\n",
       "    </tr>\n",
       "    <tr>\n",
       "      <th>2008-12;Female;95% Upper</th>\n",
       "      <td>84.7</td>\n",
       "      <td>82.4</td>\n",
       "      <td>80.6</td>\n",
       "    </tr>\n",
       "    <tr>\n",
       "      <th>2009-13;Male;Life expectancy at birth</th>\n",
       "      <td>80.2</td>\n",
       "      <td>77.2</td>\n",
       "      <td>79</td>\n",
       "    </tr>\n",
       "    <tr>\n",
       "      <th>2009-13;Male;95% Lower</th>\n",
       "      <td>77.6</td>\n",
       "      <td>75.2</td>\n",
       "      <td>77.2</td>\n",
       "    </tr>\n",
       "    <tr>\n",
       "      <th>2009-13;Male;95% Upper</th>\n",
       "      <td>82.7</td>\n",
       "      <td>79.2</td>\n",
       "      <td>80.8</td>\n",
       "    </tr>\n",
       "    <tr>\n",
       "      <th>2009-13;Female;Life expectancy at birth</th>\n",
       "      <td>83.9</td>\n",
       "      <td>80.6</td>\n",
       "      <td>79.3</td>\n",
       "    </tr>\n",
       "    <tr>\n",
       "      <th>2009-13;Female;95% Lower</th>\n",
       "      <td>81.3</td>\n",
       "      <td>78.6</td>\n",
       "      <td>77.7</td>\n",
       "    </tr>\n",
       "    <tr>\n",
       "      <th>2009-13;Female;95% Upper</th>\n",
       "      <td>86.5</td>\n",
       "      <td>82.6</td>\n",
       "      <td>81</td>\n",
       "    </tr>\n",
       "    <tr>\n",
       "      <th>2010-14;Male;Life expectancy at birth</th>\n",
       "      <td>80</td>\n",
       "      <td>77</td>\n",
       "      <td>79</td>\n",
       "    </tr>\n",
       "    <tr>\n",
       "      <th>2010-14;Male;95% Lower</th>\n",
       "      <td>77.5</td>\n",
       "      <td>74.9</td>\n",
       "      <td>77.1</td>\n",
       "    </tr>\n",
       "    <tr>\n",
       "      <th>2010-14;Male;95% Upper</th>\n",
       "      <td>82.4</td>\n",
       "      <td>79.1</td>\n",
       "      <td>80.8</td>\n",
       "    </tr>\n",
       "    <tr>\n",
       "      <th>2010-14;Female;Life expectancy at birth</th>\n",
       "      <td>83.6</td>\n",
       "      <td>81.4</td>\n",
       "      <td>79.2</td>\n",
       "    </tr>\n",
       "    <tr>\n",
       "      <th>2010-14;Female;95% Lower</th>\n",
       "      <td>81</td>\n",
       "      <td>79.3</td>\n",
       "      <td>77.6</td>\n",
       "    </tr>\n",
       "    <tr>\n",
       "      <th>2010-14;Female;95% Upper</th>\n",
       "      <td>86.3</td>\n",
       "      <td>83.6</td>\n",
       "      <td>80.8</td>\n",
       "    </tr>\n",
       "  </tbody>\n",
       "</table>\n",
       "<p>77 rows × 3 columns</p>\n",
       "</div>"
      ],
      "text/plain": [
       "                                                              0  \\\n",
       "Ward                                                  E05000026   \n",
       "Old Ward Code                                            00ABFX   \n",
       "Local Authority                            Barking and Dagenham   \n",
       "Ward name                                                 Abbey   \n",
       "Geography                                                  Ward   \n",
       "1999-2003;Male;Life expectancy at birth                    75.9   \n",
       "1999-2003;Male;95% Lower                                   73.5   \n",
       "1999-2003;Male;95% Upper                                   78.3   \n",
       "1999-2003;Female;Life expectancy at birth                  80.3   \n",
       "1999-2003;Female;95% Lower                                 78.3   \n",
       "1999-2003;Female;95% Upper                                 82.4   \n",
       "2000-2004;Male;Life expectancy at birth                    74.3   \n",
       "2000-2004;Male;95% Lower                                   72.2   \n",
       "2000-2004;Male;95% Upper                                   76.3   \n",
       "2000-2004;Female;Life expectancy at birth                  81.1   \n",
       "2000-2004;Female;95% Lower                                   79   \n",
       "2000-2004;Female;95% Upper                                 83.2   \n",
       "2001-2005;Male;Life expectancy at birth                    75.6   \n",
       "2001-2005;Male;95% Lower                                   73.4   \n",
       "2001-2005;Male;95% Upper                                   77.7   \n",
       "2001-2005;Female;Life expectancy at birth                  81.2   \n",
       "2001-2005;Female;95% Lower                                 79.2   \n",
       "2001-2005;Female;95% Upper                                 83.3   \n",
       "2002-06;Male;Life expectancy at birth                      76.1   \n",
       "2002-06;Male;95% Lower                                     73.6   \n",
       "2002-06;Male;95% Upper                                     78.6   \n",
       "2002-06;Female;Life expectancy at birth                    80.6   \n",
       "2002-06;Female;95% Lower                                   78.4   \n",
       "2002-06;Female;95% Upper                                   82.9   \n",
       "2003-07;Male;Life expectancy at birth                        77   \n",
       "...                                                         ...   \n",
       "2006-10;Male;Life expectancy at birth                      80.6   \n",
       "2006-10;Male;95% Lower                                     77.4   \n",
       "2006-10;Male;95% Upper                                     83.8   \n",
       "2006-10;Female;Life expectancy at birth                    84.1   \n",
       "2006-10;Female;95% Lower                                   81.2   \n",
       "2006-10;Female;95% Upper                                     87   \n",
       "2007-11;Male;Life expectancy at birth                        81   \n",
       "2007-11;Male;95% Lower                                     78.2   \n",
       "2007-11;Male;95% Upper                                     83.8   \n",
       "2007-11;Female;Life expectancy at birth                    83.1   \n",
       "2007-11;Female;95% Lower                                   80.5   \n",
       "2007-11;Female;95% Upper                                   85.6   \n",
       "2008-12;Male;Life expectancy at birth                        80   \n",
       "2008-12;Male;95% Lower                                     77.6   \n",
       "2008-12;Male;95% Upper                                     82.5   \n",
       "2008-12;Female;Life expectancy at birth                    82.2   \n",
       "2008-12;Female;95% Lower                                   79.7   \n",
       "2008-12;Female;95% Upper                                   84.7   \n",
       "2009-13;Male;Life expectancy at birth                      80.2   \n",
       "2009-13;Male;95% Lower                                     77.6   \n",
       "2009-13;Male;95% Upper                                     82.7   \n",
       "2009-13;Female;Life expectancy at birth                    83.9   \n",
       "2009-13;Female;95% Lower                                   81.3   \n",
       "2009-13;Female;95% Upper                                   86.5   \n",
       "2010-14;Male;Life expectancy at birth                        80   \n",
       "2010-14;Male;95% Lower                                     77.5   \n",
       "2010-14;Male;95% Upper                                     82.4   \n",
       "2010-14;Female;Life expectancy at birth                    83.6   \n",
       "2010-14;Female;95% Lower                                     81   \n",
       "2010-14;Female;95% Upper                                   86.3   \n",
       "\n",
       "                                                              1  \\\n",
       "Ward                                                  E05000027   \n",
       "Old Ward Code                                            00ABFY   \n",
       "Local Authority                            Barking and Dagenham   \n",
       "Ward name                                                Alibon   \n",
       "Geography                                                  Ward   \n",
       "1999-2003;Male;Life expectancy at birth                    73.3   \n",
       "1999-2003;Male;95% Lower                                   71.3   \n",
       "1999-2003;Male;95% Upper                                   75.3   \n",
       "1999-2003;Female;Life expectancy at birth                  78.9   \n",
       "1999-2003;Female;95% Lower                                 77.3   \n",
       "1999-2003;Female;95% Upper                                 80.6   \n",
       "2000-2004;Male;Life expectancy at birth                    73.3   \n",
       "2000-2004;Male;95% Lower                                   71.4   \n",
       "2000-2004;Male;95% Upper                                   75.2   \n",
       "2000-2004;Female;Life expectancy at birth                  79.6   \n",
       "2000-2004;Female;95% Lower                                 77.9   \n",
       "2000-2004;Female;95% Upper                                 81.3   \n",
       "2001-2005;Male;Life expectancy at birth                    74.3   \n",
       "2001-2005;Male;95% Lower                                   72.5   \n",
       "2001-2005;Male;95% Upper                                   76.1   \n",
       "2001-2005;Female;Life expectancy at birth                  79.9   \n",
       "2001-2005;Female;95% Lower                                   78   \n",
       "2001-2005;Female;95% Upper                                 81.7   \n",
       "2002-06;Male;Life expectancy at birth                      74.6   \n",
       "2002-06;Male;95% Lower                                     72.9   \n",
       "2002-06;Male;95% Upper                                     76.3   \n",
       "2002-06;Female;Life expectancy at birth                    79.8   \n",
       "2002-06;Female;95% Lower                                   77.8   \n",
       "2002-06;Female;95% Upper                                   81.7   \n",
       "2003-07;Male;Life expectancy at birth                      75.4   \n",
       "...                                                         ...   \n",
       "2006-10;Male;Life expectancy at birth                      76.3   \n",
       "2006-10;Male;95% Lower                                     74.5   \n",
       "2006-10;Male;95% Upper                                     78.1   \n",
       "2006-10;Female;Life expectancy at birth                    80.1   \n",
       "2006-10;Female;95% Lower                                   78.4   \n",
       "2006-10;Female;95% Upper                                   81.9   \n",
       "2007-11;Male;Life expectancy at birth                        76   \n",
       "2007-11;Male;95% Lower                                       74   \n",
       "2007-11;Male;95% Upper                                     77.9   \n",
       "2007-11;Female;Life expectancy at birth                    80.6   \n",
       "2007-11;Female;95% Lower                                   78.7   \n",
       "2007-11;Female;95% Upper                                   82.4   \n",
       "2008-12;Male;Life expectancy at birth                      75.8   \n",
       "2008-12;Male;95% Lower                                     73.8   \n",
       "2008-12;Male;95% Upper                                     77.7   \n",
       "2008-12;Female;Life expectancy at birth                    80.4   \n",
       "2008-12;Female;95% Lower                                   78.5   \n",
       "2008-12;Female;95% Upper                                   82.4   \n",
       "2009-13;Male;Life expectancy at birth                      77.2   \n",
       "2009-13;Male;95% Lower                                     75.2   \n",
       "2009-13;Male;95% Upper                                     79.2   \n",
       "2009-13;Female;Life expectancy at birth                    80.6   \n",
       "2009-13;Female;95% Lower                                   78.6   \n",
       "2009-13;Female;95% Upper                                   82.6   \n",
       "2010-14;Male;Life expectancy at birth                        77   \n",
       "2010-14;Male;95% Lower                                     74.9   \n",
       "2010-14;Male;95% Upper                                     79.1   \n",
       "2010-14;Female;Life expectancy at birth                    81.4   \n",
       "2010-14;Female;95% Lower                                   79.3   \n",
       "2010-14;Female;95% Upper                                   83.6   \n",
       "\n",
       "                                                              2  \n",
       "Ward                                                  E05000028  \n",
       "Old Ward Code                                            00ABFZ  \n",
       "Local Authority                            Barking and Dagenham  \n",
       "Ward name                                             Becontree  \n",
       "Geography                                                  Ward  \n",
       "1999-2003;Male;Life expectancy at birth                    74.9  \n",
       "1999-2003;Male;95% Lower                                   73.2  \n",
       "1999-2003;Male;95% Upper                                   76.6  \n",
       "1999-2003;Female;Life expectancy at birth                    81  \n",
       "1999-2003;Female;95% Lower                                 79.1  \n",
       "1999-2003;Female;95% Upper                                   83  \n",
       "2000-2004;Male;Life expectancy at birth                    75.1  \n",
       "2000-2004;Male;95% Lower                                   73.4  \n",
       "2000-2004;Male;95% Upper                                   76.8  \n",
       "2000-2004;Female;Life expectancy at birth                  82.3  \n",
       "2000-2004;Female;95% Lower                                 80.3  \n",
       "2000-2004;Female;95% Upper                                 84.3  \n",
       "2001-2005;Male;Life expectancy at birth                    74.4  \n",
       "2001-2005;Male;95% Lower                                   72.7  \n",
       "2001-2005;Male;95% Upper                                   76.1  \n",
       "2001-2005;Female;Life expectancy at birth                  82.8  \n",
       "2001-2005;Female;95% Lower                                 80.8  \n",
       "2001-2005;Female;95% Upper                                 84.8  \n",
       "2002-06;Male;Life expectancy at birth                      75.6  \n",
       "2002-06;Male;95% Lower                                     73.5  \n",
       "2002-06;Male;95% Upper                                     77.7  \n",
       "2002-06;Female;Life expectancy at birth                    82.8  \n",
       "2002-06;Female;95% Lower                                   80.9  \n",
       "2002-06;Female;95% Upper                                   84.6  \n",
       "2003-07;Male;Life expectancy at birth                      74.8  \n",
       "...                                                         ...  \n",
       "2006-10;Male;Life expectancy at birth                      77.4  \n",
       "2006-10;Male;95% Lower                                     75.5  \n",
       "2006-10;Male;95% Upper                                     79.4  \n",
       "2006-10;Female;Life expectancy at birth                    80.3  \n",
       "2006-10;Female;95% Lower                                   78.5  \n",
       "2006-10;Female;95% Upper                                     82  \n",
       "2007-11;Male;Life expectancy at birth                      77.5  \n",
       "2007-11;Male;95% Lower                                     75.6  \n",
       "2007-11;Male;95% Upper                                     79.4  \n",
       "2007-11;Female;Life expectancy at birth                    79.8  \n",
       "2007-11;Female;95% Lower                                   78.1  \n",
       "2007-11;Female;95% Upper                                   81.5  \n",
       "2008-12;Male;Life expectancy at birth                      78.9  \n",
       "2008-12;Male;95% Lower                                     77.1  \n",
       "2008-12;Male;95% Upper                                     80.8  \n",
       "2008-12;Female;Life expectancy at birth                    78.9  \n",
       "2008-12;Female;95% Lower                                   77.2  \n",
       "2008-12;Female;95% Upper                                   80.6  \n",
       "2009-13;Male;Life expectancy at birth                        79  \n",
       "2009-13;Male;95% Lower                                     77.2  \n",
       "2009-13;Male;95% Upper                                     80.8  \n",
       "2009-13;Female;Life expectancy at birth                    79.3  \n",
       "2009-13;Female;95% Lower                                   77.7  \n",
       "2009-13;Female;95% Upper                                     81  \n",
       "2010-14;Male;Life expectancy at birth                        79  \n",
       "2010-14;Male;95% Lower                                     77.1  \n",
       "2010-14;Male;95% Upper                                     80.8  \n",
       "2010-14;Female;Life expectancy at birth                    79.2  \n",
       "2010-14;Female;95% Lower                                   77.6  \n",
       "2010-14;Female;95% Upper                                   80.8  \n",
       "\n",
       "[77 rows x 3 columns]"
      ]
     },
     "execution_count": 5,
     "metadata": {},
     "output_type": "execute_result"
    }
   ],
   "source": [
    "df.head(3).T"
   ]
  },
  {
   "cell_type": "markdown",
   "metadata": {},
   "source": [
    "Can we use Ward names as identifiers?"
   ]
  },
  {
   "cell_type": "code",
   "execution_count": 6,
   "metadata": {},
   "outputs": [
    {
     "data": {
      "text/plain": [
       "Village         3\n",
       "Woodside        2\n",
       "Barnhill        2\n",
       "Town            2\n",
       "Regents Park    2\n",
       "Name: Ward name, dtype: int64"
      ]
     },
     "execution_count": 6,
     "metadata": {},
     "output_type": "execute_result"
    }
   ],
   "source": [
    "df[\"Ward name\"].value_counts().head()"
   ]
  },
  {
   "cell_type": "markdown",
   "metadata": {},
   "source": [
    "Ward names are not unique, so that's why there is an alphanumeric identifier (the \"ward\" column)"
   ]
  },
  {
   "cell_type": "code",
   "execution_count": 7,
   "metadata": {},
   "outputs": [
    {
     "data": {
      "text/plain": [
       "E05000379    1\n",
       "E05000289    1\n",
       "E05000301    1\n",
       "E05000203    1\n",
       "E05000302    1\n",
       "Name: Ward, dtype: int64"
      ]
     },
     "execution_count": 7,
     "metadata": {},
     "output_type": "execute_result"
    }
   ],
   "source": [
    "df[\"Ward\"].value_counts().head()"
   ]
  },
  {
   "cell_type": "markdown",
   "metadata": {},
   "source": [
    "Looking at the column names, we see there is structure:\n",
    "* year range (4 years)\n",
    "  * male \n",
    "    * average life expectancy\n",
    "    * lower bound\n",
    "    * upper bound\n",
    "  * female\n",
    "    * average life expectancy\n",
    "    * lower bound\n",
    "    * upper bound"
   ]
  },
  {
   "cell_type": "markdown",
   "metadata": {},
   "source": [
    "We need to separate the columns which are not parameters"
   ]
  },
  {
   "cell_type": "code",
   "execution_count": 8,
   "metadata": {},
   "outputs": [
    {
     "data": {
      "text/plain": [
       "['Ward', 'Old Ward Code', 'Local Authority', 'Ward name', 'Geography']"
      ]
     },
     "execution_count": 8,
     "metadata": {},
     "output_type": "execute_result"
    }
   ],
   "source": [
    "list(df.columns[0:5])"
   ]
  },
  {
   "cell_type": "markdown",
   "metadata": {},
   "source": [
    "In addition to those, we also need to create a new set of columns for the parameters"
   ]
  },
  {
   "cell_type": "code",
   "execution_count": 9,
   "metadata": {},
   "outputs": [],
   "source": [
    "list_of_col = list(df.columns[0:5])+['start year','end year','gender','average life expectancy at birth','lower bound','upper bound']"
   ]
  },
  {
   "cell_type": "markdown",
   "metadata": {},
   "source": [
    "now we have a list of columns to work with"
   ]
  },
  {
   "cell_type": "code",
   "execution_count": 10,
   "metadata": {},
   "outputs": [
    {
     "data": {
      "text/plain": [
       "['Ward',\n",
       " 'Old Ward Code',\n",
       " 'Local Authority',\n",
       " 'Ward name',\n",
       " 'Geography',\n",
       " 'start year',\n",
       " 'end year',\n",
       " 'gender',\n",
       " 'average life expectancy at birth',\n",
       " 'lower bound',\n",
       " 'upper bound']"
      ]
     },
     "execution_count": 10,
     "metadata": {},
     "output_type": "execute_result"
    }
   ],
   "source": [
    "list_of_col"
   ]
  },
  {
   "cell_type": "markdown",
   "metadata": {},
   "source": [
    "we need to populate the dataframe that has those columns\n",
    "\n",
    "Look at the first row of the original data frame:"
   ]
  },
  {
   "cell_type": "code",
   "execution_count": 11,
   "metadata": {},
   "outputs": [
    {
     "data": {
      "text/plain": [
       "Ward                                                    E05000026\n",
       "Old Ward Code                                              00ABFX\n",
       "Local Authority                              Barking and Dagenham\n",
       "Ward name                                                   Abbey\n",
       "Geography                                                    Ward\n",
       "1999-2003;Male;Life expectancy at birth                      75.9\n",
       "1999-2003;Male;95% Lower                                     73.5\n",
       "1999-2003;Male;95% Upper                                     78.3\n",
       "1999-2003;Female;Life expectancy at birth                    80.3\n",
       "1999-2003;Female;95% Lower                                   78.3\n",
       "Name: 0, dtype: object"
      ]
     },
     "execution_count": 11,
     "metadata": {},
     "output_type": "execute_result"
    }
   ],
   "source": [
    "df.loc[0].head(10)"
   ]
  },
  {
   "cell_type": "markdown",
   "metadata": {},
   "source": [
    "we can start by getting only the columns that start with a year  by skipping the first 5 columns"
   ]
  },
  {
   "cell_type": "code",
   "execution_count": 12,
   "metadata": {},
   "outputs": [
    {
     "data": {
      "text/plain": [
       "1999-2003;Male;Life expectancy at birth      75.9\n",
       "1999-2003;Male;95% Lower                     73.5\n",
       "1999-2003;Male;95% Upper                     78.3\n",
       "1999-2003;Female;Life expectancy at birth    80.3\n",
       "1999-2003;Female;95% Lower                   78.3\n",
       "1999-2003;Female;95% Upper                   82.4\n",
       "2000-2004;Male;Life expectancy at birth      74.3\n",
       "2000-2004;Male;95% Lower                     72.2\n",
       "2000-2004;Male;95% Upper                     76.3\n",
       "2000-2004;Female;Life expectancy at birth    81.1\n",
       "Name: 0, dtype: object"
      ]
     },
     "execution_count": 12,
     "metadata": {},
     "output_type": "execute_result"
    }
   ],
   "source": [
    "df.loc[0][5:].head(10)"
   ]
  },
  {
   "cell_type": "markdown",
   "metadata": {},
   "source": [
    "Now that we have the columns which need to be separated as parameters, split the column names inside a loop"
   ]
  },
  {
   "cell_type": "code",
   "execution_count": 13,
   "metadata": {},
   "outputs": [
    {
     "name": "stdout",
     "output_type": "stream",
     "text": [
      "column: ['1999-2003', 'Male', 'Life expectancy at birth'] | value: 75.9\n",
      "column: ['1999-2003', 'Male', '95% Lower'] | value: 73.5\n",
      "column: ['1999-2003', 'Male', '95% Upper'] | value: 78.3\n",
      "column: ['1999-2003', 'Female', 'Life expectancy at birth'] | value: 80.3\n",
      "column: ['1999-2003', 'Female', '95% Lower'] | value: 78.3\n",
      "column: ['1999-2003', 'Female', '95% Upper'] | value: 82.4\n",
      "column: ['2000-2004', 'Male', 'Life expectancy at birth'] | value: 74.3\n",
      "column: ['2000-2004', 'Male', '95% Lower'] | value: 72.2\n",
      "column: ['2000-2004', 'Male', '95% Upper'] | value: 76.3\n",
      "column: ['2000-2004', 'Female', 'Life expectancy at birth'] | value: 81.1\n"
     ]
    }
   ],
   "source": [
    "for col_name, val in df.loc[0][5:].head(10).items():\n",
    "    print('column:',col_name.split(';'),'| value:',val)    "
   ]
  },
  {
   "cell_type": "markdown",
   "metadata": {},
   "source": [
    "additional splitting is needed to access each value"
   ]
  },
  {
   "cell_type": "code",
   "execution_count": 14,
   "metadata": {},
   "outputs": [
    {
     "name": "stdout",
     "output_type": "stream",
     "text": [
      "years: ['1999', '2003'] gender: Male | which: Life expectancy at birth | value: 75.9\n",
      "years: ['1999', '2003'] gender: Male | which: 95% Lower | value: 73.5\n",
      "years: ['1999', '2003'] gender: Male | which: 95% Upper | value: 78.3\n",
      "years: ['1999', '2003'] gender: Female | which: Life expectancy at birth | value: 80.3\n",
      "years: ['1999', '2003'] gender: Female | which: 95% Lower | value: 78.3\n",
      "years: ['1999', '2003'] gender: Female | which: 95% Upper | value: 82.4\n",
      "years: ['2000', '2004'] gender: Male | which: Life expectancy at birth | value: 74.3\n",
      "years: ['2000', '2004'] gender: Male | which: 95% Lower | value: 72.2\n",
      "years: ['2000', '2004'] gender: Male | which: 95% Upper | value: 76.3\n",
      "years: ['2000', '2004'] gender: Female | which: Life expectancy at birth | value: 81.1\n"
     ]
    }
   ],
   "source": [
    "for col_name, val in df.loc[0][5:].head(10).items():\n",
    "    col_name_as_list = col_name.split(';')\n",
    "    print('years:',col_name_as_list[0].split('-'),'gender:',col_name_as_list[1],'| which:',col_name_as_list[2],'| value:',val)    "
   ]
  },
  {
   "cell_type": "markdown",
   "metadata": {},
   "source": [
    "now we have an output that looks similar to what the data structure should be"
   ]
  },
  {
   "cell_type": "code",
   "execution_count": 15,
   "metadata": {},
   "outputs": [
    {
     "name": "stdout",
     "output_type": "stream",
     "text": [
      "start year: 1999 | end year: 2003 | gender: Male | which: Life expectancy at birth | value: 75.9\n",
      "start year: 1999 | end year: 2003 | gender: Male | which: 95% Lower | value: 73.5\n",
      "start year: 1999 | end year: 2003 | gender: Male | which: 95% Upper | value: 78.3\n",
      "start year: 1999 | end year: 2003 | gender: Female | which: Life expectancy at birth | value: 80.3\n",
      "start year: 1999 | end year: 2003 | gender: Female | which: 95% Lower | value: 78.3\n",
      "start year: 1999 | end year: 2003 | gender: Female | which: 95% Upper | value: 82.4\n",
      "start year: 2000 | end year: 2004 | gender: Male | which: Life expectancy at birth | value: 74.3\n",
      "start year: 2000 | end year: 2004 | gender: Male | which: 95% Lower | value: 72.2\n",
      "start year: 2000 | end year: 2004 | gender: Male | which: 95% Upper | value: 76.3\n",
      "start year: 2000 | end year: 2004 | gender: Female | which: Life expectancy at birth | value: 81.1\n"
     ]
    }
   ],
   "source": [
    "for col_name, val in df.loc[0][5:].head(10).items():\n",
    "    col_name_as_list = col_name.split(';')\n",
    "    print('start year:',col_name_as_list[0].split('-')[0],\n",
    "          '| end year:',col_name_as_list[0].split('-')[1],\n",
    "          '| gender:',col_name_as_list[1],\n",
    "          '| which:',col_name_as_list[2],\n",
    "          '| value:',val)"
   ]
  },
  {
   "cell_type": "markdown",
   "metadata": {},
   "source": [
    "need to make average, lower, upper all one row"
   ]
  },
  {
   "cell_type": "code",
   "execution_count": 16,
   "metadata": {},
   "outputs": [
    {
     "name": "stdout",
     "output_type": "stream",
     "text": [
      "{}\n",
      "{'start year': '1999', 'end year': '2003', 'gender': 'Male', 'Life expectancy at birth': 75.900000000000006, '95% Lower': 73.5, '95% Upper': 78.299999999999997}\n",
      "{'start year': '1999', 'end year': '2003', 'gender': 'Female', 'Life expectancy at birth': 80.299999999999997, '95% Lower': 78.299999999999997, '95% Upper': 82.400000000000006}\n",
      "{'start year': '2000', 'end year': '2004', 'gender': 'Male', 'Life expectancy at birth': 74.299999999999997, '95% Lower': 72.200000000000003, '95% Upper': 76.299999999999997}\n"
     ]
    }
   ],
   "source": [
    "locl_dict={}\n",
    "for col_name, val in df.loc[0][5:].head(10).items():\n",
    "    col_name_as_list = col_name.split(';')\n",
    "    if col_name_as_list[2]=='Life expectancy at birth':\n",
    "        print(locl_dict)\n",
    "        locl_dict={}\n",
    "        locl_dict['start year']=col_name_as_list[0].split('-')[0]\n",
    "        locl_dict['end year']=col_name_as_list[0].split('-')[1]\n",
    "        locl_dict['gender']=col_name_as_list[1]\n",
    "    locl_dict[col_name_as_list[2]]=val"
   ]
  },
  {
   "cell_type": "code",
   "execution_count": 17,
   "metadata": {},
   "outputs": [],
   "source": [
    "list_of_df_rows = []\n",
    "\n",
    "locl_dict={}\n",
    "for col_name, val in df.loc[0][5:].items():\n",
    "    col_name_as_list = col_name.split(';')\n",
    "    if col_name_as_list[2]=='Life expectancy at birth':\n",
    "        if len(locl_dict)>0:\n",
    "            list_of_df_rows.append(locl_dict)\n",
    "        locl_dict={}\n",
    "        locl_dict['start year']=col_name_as_list[0].split('-')[0]\n",
    "        locl_dict['end year']=col_name_as_list[0].split('-')[1]\n",
    "        locl_dict['gender']=col_name_as_list[1]\n",
    "    locl_dict[col_name_as_list[2]]=val"
   ]
  },
  {
   "cell_type": "code",
   "execution_count": 18,
   "metadata": {},
   "outputs": [
    {
     "data": {
      "text/html": [
       "<div>\n",
       "<style scoped>\n",
       "    .dataframe tbody tr th:only-of-type {\n",
       "        vertical-align: middle;\n",
       "    }\n",
       "\n",
       "    .dataframe tbody tr th {\n",
       "        vertical-align: top;\n",
       "    }\n",
       "\n",
       "    .dataframe thead th {\n",
       "        text-align: right;\n",
       "    }\n",
       "</style>\n",
       "<table border=\"1\" class=\"dataframe\">\n",
       "  <thead>\n",
       "    <tr style=\"text-align: right;\">\n",
       "      <th></th>\n",
       "      <th>95% Lower</th>\n",
       "      <th>95% Upper</th>\n",
       "      <th>Life expectancy at birth</th>\n",
       "      <th>end year</th>\n",
       "      <th>gender</th>\n",
       "      <th>start year</th>\n",
       "    </tr>\n",
       "  </thead>\n",
       "  <tbody>\n",
       "    <tr>\n",
       "      <th>0</th>\n",
       "      <td>73.5</td>\n",
       "      <td>78.3</td>\n",
       "      <td>75.9</td>\n",
       "      <td>2003</td>\n",
       "      <td>Male</td>\n",
       "      <td>1999</td>\n",
       "    </tr>\n",
       "    <tr>\n",
       "      <th>1</th>\n",
       "      <td>78.3</td>\n",
       "      <td>82.4</td>\n",
       "      <td>80.3</td>\n",
       "      <td>2003</td>\n",
       "      <td>Female</td>\n",
       "      <td>1999</td>\n",
       "    </tr>\n",
       "    <tr>\n",
       "      <th>2</th>\n",
       "      <td>72.2</td>\n",
       "      <td>76.3</td>\n",
       "      <td>74.3</td>\n",
       "      <td>2004</td>\n",
       "      <td>Male</td>\n",
       "      <td>2000</td>\n",
       "    </tr>\n",
       "    <tr>\n",
       "      <th>3</th>\n",
       "      <td>79.0</td>\n",
       "      <td>83.2</td>\n",
       "      <td>81.1</td>\n",
       "      <td>2004</td>\n",
       "      <td>Female</td>\n",
       "      <td>2000</td>\n",
       "    </tr>\n",
       "    <tr>\n",
       "      <th>4</th>\n",
       "      <td>73.4</td>\n",
       "      <td>77.7</td>\n",
       "      <td>75.6</td>\n",
       "      <td>2005</td>\n",
       "      <td>Male</td>\n",
       "      <td>2001</td>\n",
       "    </tr>\n",
       "  </tbody>\n",
       "</table>\n",
       "</div>"
      ],
      "text/plain": [
       "   95% Lower  95% Upper  Life expectancy at birth end year  gender start year\n",
       "0       73.5       78.3                      75.9     2003    Male       1999\n",
       "1       78.3       82.4                      80.3     2003  Female       1999\n",
       "2       72.2       76.3                      74.3     2004    Male       2000\n",
       "3       79.0       83.2                      81.1     2004  Female       2000\n",
       "4       73.4       77.7                      75.6     2005    Male       2001"
      ]
     },
     "execution_count": 18,
     "metadata": {},
     "output_type": "execute_result"
    }
   ],
   "source": [
    "df_corrected = pandas.DataFrame(list_of_df_rows)\n",
    "df_corrected.head()"
   ]
  },
  {
   "cell_type": "markdown",
   "metadata": {},
   "source": [
    "while the above is correct (for only the first row), the ward information is missing"
   ]
  },
  {
   "cell_type": "code",
   "execution_count": 19,
   "metadata": {},
   "outputs": [
    {
     "data": {
      "text/plain": [
       "Ward                          E05000026\n",
       "Old Ward Code                    00ABFX\n",
       "Local Authority    Barking and Dagenham\n",
       "Ward name                         Abbey\n",
       "Name: 0, dtype: object"
      ]
     },
     "execution_count": 19,
     "metadata": {},
     "output_type": "execute_result"
    }
   ],
   "source": [
    "df.loc[0][0:4]"
   ]
  },
  {
   "cell_type": "markdown",
   "metadata": {},
   "source": [
    "below we add the ward information in columns"
   ]
  },
  {
   "cell_type": "code",
   "execution_count": 20,
   "metadata": {},
   "outputs": [],
   "source": [
    "list_of_df_rows = []\n",
    "\n",
    "locl_dict={}\n",
    "for col_name, val in df.loc[0][5:].items():\n",
    "    col_name_as_list = col_name.split(';')\n",
    "    if col_name_as_list[2]=='Life expectancy at birth':\n",
    "        if len(locl_dict)>0:\n",
    "            list_of_df_rows.append(locl_dict)\n",
    "        locl_dict={}\n",
    "        for col,v in df.loc[0][0:4].items():\n",
    "            locl_dict[col]=v\n",
    "        locl_dict['start year']=col_name_as_list[0].split('-')[0]\n",
    "        locl_dict['end year']=col_name_as_list[0].split('-')[1]\n",
    "        locl_dict['gender']=col_name_as_list[1]\n",
    "    locl_dict[col_name_as_list[2]]=val"
   ]
  },
  {
   "cell_type": "markdown",
   "metadata": {},
   "source": [
    "convert the list of dictionaries to a dataframe"
   ]
  },
  {
   "cell_type": "code",
   "execution_count": 21,
   "metadata": {},
   "outputs": [
    {
     "data": {
      "text/html": [
       "<div>\n",
       "<style scoped>\n",
       "    .dataframe tbody tr th:only-of-type {\n",
       "        vertical-align: middle;\n",
       "    }\n",
       "\n",
       "    .dataframe tbody tr th {\n",
       "        vertical-align: top;\n",
       "    }\n",
       "\n",
       "    .dataframe thead th {\n",
       "        text-align: right;\n",
       "    }\n",
       "</style>\n",
       "<table border=\"1\" class=\"dataframe\">\n",
       "  <thead>\n",
       "    <tr style=\"text-align: right;\">\n",
       "      <th></th>\n",
       "      <th>95% Lower</th>\n",
       "      <th>95% Upper</th>\n",
       "      <th>Life expectancy at birth</th>\n",
       "      <th>Local Authority</th>\n",
       "      <th>Old Ward Code</th>\n",
       "      <th>Ward</th>\n",
       "      <th>Ward name</th>\n",
       "      <th>end year</th>\n",
       "      <th>gender</th>\n",
       "      <th>start year</th>\n",
       "    </tr>\n",
       "  </thead>\n",
       "  <tbody>\n",
       "    <tr>\n",
       "      <th>0</th>\n",
       "      <td>73.5</td>\n",
       "      <td>78.3</td>\n",
       "      <td>75.9</td>\n",
       "      <td>Barking and Dagenham</td>\n",
       "      <td>00ABFX</td>\n",
       "      <td>E05000026</td>\n",
       "      <td>Abbey</td>\n",
       "      <td>2003</td>\n",
       "      <td>Male</td>\n",
       "      <td>1999</td>\n",
       "    </tr>\n",
       "    <tr>\n",
       "      <th>1</th>\n",
       "      <td>78.3</td>\n",
       "      <td>82.4</td>\n",
       "      <td>80.3</td>\n",
       "      <td>Barking and Dagenham</td>\n",
       "      <td>00ABFX</td>\n",
       "      <td>E05000026</td>\n",
       "      <td>Abbey</td>\n",
       "      <td>2003</td>\n",
       "      <td>Female</td>\n",
       "      <td>1999</td>\n",
       "    </tr>\n",
       "    <tr>\n",
       "      <th>2</th>\n",
       "      <td>72.2</td>\n",
       "      <td>76.3</td>\n",
       "      <td>74.3</td>\n",
       "      <td>Barking and Dagenham</td>\n",
       "      <td>00ABFX</td>\n",
       "      <td>E05000026</td>\n",
       "      <td>Abbey</td>\n",
       "      <td>2004</td>\n",
       "      <td>Male</td>\n",
       "      <td>2000</td>\n",
       "    </tr>\n",
       "    <tr>\n",
       "      <th>3</th>\n",
       "      <td>79.0</td>\n",
       "      <td>83.2</td>\n",
       "      <td>81.1</td>\n",
       "      <td>Barking and Dagenham</td>\n",
       "      <td>00ABFX</td>\n",
       "      <td>E05000026</td>\n",
       "      <td>Abbey</td>\n",
       "      <td>2004</td>\n",
       "      <td>Female</td>\n",
       "      <td>2000</td>\n",
       "    </tr>\n",
       "    <tr>\n",
       "      <th>4</th>\n",
       "      <td>73.4</td>\n",
       "      <td>77.7</td>\n",
       "      <td>75.6</td>\n",
       "      <td>Barking and Dagenham</td>\n",
       "      <td>00ABFX</td>\n",
       "      <td>E05000026</td>\n",
       "      <td>Abbey</td>\n",
       "      <td>2005</td>\n",
       "      <td>Male</td>\n",
       "      <td>2001</td>\n",
       "    </tr>\n",
       "  </tbody>\n",
       "</table>\n",
       "</div>"
      ],
      "text/plain": [
       "   95% Lower  95% Upper  Life expectancy at birth       Local Authority  \\\n",
       "0       73.5       78.3                      75.9  Barking and Dagenham   \n",
       "1       78.3       82.4                      80.3  Barking and Dagenham   \n",
       "2       72.2       76.3                      74.3  Barking and Dagenham   \n",
       "3       79.0       83.2                      81.1  Barking and Dagenham   \n",
       "4       73.4       77.7                      75.6  Barking and Dagenham   \n",
       "\n",
       "  Old Ward Code       Ward Ward name end year  gender start year  \n",
       "0        00ABFX  E05000026     Abbey     2003    Male       1999  \n",
       "1        00ABFX  E05000026     Abbey     2003  Female       1999  \n",
       "2        00ABFX  E05000026     Abbey     2004    Male       2000  \n",
       "3        00ABFX  E05000026     Abbey     2004  Female       2000  \n",
       "4        00ABFX  E05000026     Abbey     2005    Male       2001  "
      ]
     },
     "execution_count": 21,
     "metadata": {},
     "output_type": "execute_result"
    }
   ],
   "source": [
    "df_corrected = pandas.DataFrame(list_of_df_rows)\n",
    "df_corrected.head()"
   ]
  },
  {
   "cell_type": "markdown",
   "metadata": {},
   "source": [
    "repeat the above sequence for _all_ rows by adding another for loop"
   ]
  },
  {
   "cell_type": "code",
   "execution_count": 22,
   "metadata": {},
   "outputs": [],
   "source": [
    "list_of_df_rows = []\n",
    "\n",
    "locl_dict={}\n",
    "for row_indx in range(df.shape[0]):\n",
    "    for col_name, val in df.loc[row_indx][5:].items():\n",
    "        col_name_as_list = col_name.split(';')\n",
    "        if col_name_as_list[2]=='Life expectancy at birth':\n",
    "            if len(locl_dict)>0:\n",
    "                list_of_df_rows.append(locl_dict)\n",
    "            locl_dict={}\n",
    "            for col,v in df.loc[row_indx][0:4].items():\n",
    "                locl_dict[col]=v\n",
    "            locl_dict['start year']=col_name_as_list[0].split('-')[0]\n",
    "            locl_dict['end year']=col_name_as_list[0].split('-')[1]\n",
    "            locl_dict['gender']=col_name_as_list[1]\n",
    "        locl_dict[col_name_as_list[2]]=val"
   ]
  },
  {
   "cell_type": "code",
   "execution_count": 23,
   "metadata": {},
   "outputs": [
    {
     "data": {
      "text/plain": [
       "(16055, 10)"
      ]
     },
     "execution_count": 23,
     "metadata": {},
     "output_type": "execute_result"
    }
   ],
   "source": [
    "df_corrected = pandas.DataFrame(list_of_df_rows)\n",
    "df_corrected.shape"
   ]
  },
  {
   "cell_type": "markdown",
   "metadata": {},
   "source": [
    "Sanity check: original data frame was (669, 77). Did we preserve all the data?"
   ]
  },
  {
   "cell_type": "code",
   "execution_count": 24,
   "metadata": {},
   "outputs": [
    {
     "data": {
      "text/plain": [
       "160550"
      ]
     },
     "execution_count": 24,
     "metadata": {},
     "output_type": "execute_result"
    }
   ],
   "source": [
    "16055*10"
   ]
  },
  {
   "cell_type": "code",
   "execution_count": 25,
   "metadata": {},
   "outputs": [
    {
     "data": {
      "text/plain": [
       "51513"
      ]
     },
     "execution_count": 25,
     "metadata": {},
     "output_type": "execute_result"
    }
   ],
   "source": [
    "669*77"
   ]
  },
  {
   "cell_type": "markdown",
   "metadata": {},
   "source": [
    "reason for this difference (new df has more data than original df): some of the \"data\" was actually part of the column name (the year)"
   ]
  },
  {
   "cell_type": "markdown",
   "metadata": {},
   "source": [
    "This is the revised dataframe with separate columns per parameter"
   ]
  },
  {
   "cell_type": "code",
   "execution_count": 27,
   "metadata": {},
   "outputs": [
    {
     "data": {
      "text/html": [
       "<div>\n",
       "<style scoped>\n",
       "    .dataframe tbody tr th:only-of-type {\n",
       "        vertical-align: middle;\n",
       "    }\n",
       "\n",
       "    .dataframe tbody tr th {\n",
       "        vertical-align: top;\n",
       "    }\n",
       "\n",
       "    .dataframe thead th {\n",
       "        text-align: right;\n",
       "    }\n",
       "</style>\n",
       "<table border=\"1\" class=\"dataframe\">\n",
       "  <thead>\n",
       "    <tr style=\"text-align: right;\">\n",
       "      <th></th>\n",
       "      <th>95% Lower</th>\n",
       "      <th>95% Upper</th>\n",
       "      <th>Life expectancy at birth</th>\n",
       "      <th>Local Authority</th>\n",
       "      <th>Old Ward Code</th>\n",
       "      <th>Ward</th>\n",
       "      <th>Ward name</th>\n",
       "      <th>end year</th>\n",
       "      <th>gender</th>\n",
       "      <th>start year</th>\n",
       "    </tr>\n",
       "  </thead>\n",
       "  <tbody>\n",
       "    <tr>\n",
       "      <th>0</th>\n",
       "      <td>73.5</td>\n",
       "      <td>78.3</td>\n",
       "      <td>75.9</td>\n",
       "      <td>Barking and Dagenham</td>\n",
       "      <td>00ABFX</td>\n",
       "      <td>E05000026</td>\n",
       "      <td>Abbey</td>\n",
       "      <td>2003</td>\n",
       "      <td>Male</td>\n",
       "      <td>1999</td>\n",
       "    </tr>\n",
       "    <tr>\n",
       "      <th>1</th>\n",
       "      <td>78.3</td>\n",
       "      <td>82.4</td>\n",
       "      <td>80.3</td>\n",
       "      <td>Barking and Dagenham</td>\n",
       "      <td>00ABFX</td>\n",
       "      <td>E05000026</td>\n",
       "      <td>Abbey</td>\n",
       "      <td>2003</td>\n",
       "      <td>Female</td>\n",
       "      <td>1999</td>\n",
       "    </tr>\n",
       "    <tr>\n",
       "      <th>2</th>\n",
       "      <td>72.2</td>\n",
       "      <td>76.3</td>\n",
       "      <td>74.3</td>\n",
       "      <td>Barking and Dagenham</td>\n",
       "      <td>00ABFX</td>\n",
       "      <td>E05000026</td>\n",
       "      <td>Abbey</td>\n",
       "      <td>2004</td>\n",
       "      <td>Male</td>\n",
       "      <td>2000</td>\n",
       "    </tr>\n",
       "    <tr>\n",
       "      <th>3</th>\n",
       "      <td>79.0</td>\n",
       "      <td>83.2</td>\n",
       "      <td>81.1</td>\n",
       "      <td>Barking and Dagenham</td>\n",
       "      <td>00ABFX</td>\n",
       "      <td>E05000026</td>\n",
       "      <td>Abbey</td>\n",
       "      <td>2004</td>\n",
       "      <td>Female</td>\n",
       "      <td>2000</td>\n",
       "    </tr>\n",
       "    <tr>\n",
       "      <th>4</th>\n",
       "      <td>73.4</td>\n",
       "      <td>77.7</td>\n",
       "      <td>75.6</td>\n",
       "      <td>Barking and Dagenham</td>\n",
       "      <td>00ABFX</td>\n",
       "      <td>E05000026</td>\n",
       "      <td>Abbey</td>\n",
       "      <td>2005</td>\n",
       "      <td>Male</td>\n",
       "      <td>2001</td>\n",
       "    </tr>\n",
       "  </tbody>\n",
       "</table>\n",
       "</div>"
      ],
      "text/plain": [
       "   95% Lower  95% Upper  Life expectancy at birth       Local Authority  \\\n",
       "0       73.5       78.3                      75.9  Barking and Dagenham   \n",
       "1       78.3       82.4                      80.3  Barking and Dagenham   \n",
       "2       72.2       76.3                      74.3  Barking and Dagenham   \n",
       "3       79.0       83.2                      81.1  Barking and Dagenham   \n",
       "4       73.4       77.7                      75.6  Barking and Dagenham   \n",
       "\n",
       "  Old Ward Code       Ward Ward name end year  gender start year  \n",
       "0        00ABFX  E05000026     Abbey     2003    Male       1999  \n",
       "1        00ABFX  E05000026     Abbey     2003  Female       1999  \n",
       "2        00ABFX  E05000026     Abbey     2004    Male       2000  \n",
       "3        00ABFX  E05000026     Abbey     2004  Female       2000  \n",
       "4        00ABFX  E05000026     Abbey     2005    Male       2001  "
      ]
     },
     "execution_count": 27,
     "metadata": {},
     "output_type": "execute_result"
    }
   ],
   "source": [
    "df_corrected.head()"
   ]
  },
  {
   "cell_type": "markdown",
   "metadata": {},
   "source": [
    "The consequence is that analyzing this revised structure is much easier"
   ]
  },
  {
   "cell_type": "markdown",
   "metadata": {},
   "source": [
    "<!--\n",
    "I'm not clear here whether I should apply https://pandas.pydata.org/pandas-docs/stable/reference/api/pandas.melt.html (or possibly https://pandas.pydata.org/pandas-docs/stable/reference/api/pandas.pivot_table.html )\n",
    "-->"
   ]
  },
  {
   "cell_type": "code",
   "execution_count": null,
   "metadata": {},
   "outputs": [],
   "source": [
    "for name, group_df in df_corrected.groupby('Ward'):\n",
    "    plt.scatter(group_df['start year'],group_df['Life expectancy at birth'],label=name)\n",
    "plt.ylabel('age')\n",
    "plt.xlabel('year')\n",
    "plt.gca().legend(loc='center left', bbox_to_anchor=(1.0, 0.5),ncol=30)\n",
    "plt.show()"
   ]
  },
  {
   "cell_type": "code",
   "execution_count": null,
   "metadata": {},
   "outputs": [],
   "source": []
  },
  {
   "cell_type": "code",
   "execution_count": null,
   "metadata": {},
   "outputs": [],
   "source": []
  }
 ],
 "metadata": {
  "kernelspec": {
   "display_name": "Python 3",
   "language": "python",
   "name": "python3"
  },
  "language_info": {
   "codemirror_mode": {
    "name": "ipython",
    "version": 3
   },
   "file_extension": ".py",
   "mimetype": "text/x-python",
   "name": "python",
   "nbconvert_exporter": "python",
   "pygments_lexer": "ipython3",
   "version": "3.6.6"
  }
 },
 "nbformat": 4,
 "nbformat_minor": 2
}
