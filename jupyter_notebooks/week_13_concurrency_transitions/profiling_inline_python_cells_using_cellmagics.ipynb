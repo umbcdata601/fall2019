{
 "cells": [
  {
   "cell_type": "markdown",
   "metadata": {},
   "source": [
    "# Profile Python"
   ]
  },
  {
   "cell_type": "markdown",
   "metadata": {},
   "source": [
    "https://jakevdp.github.io/PythonDataScienceHandbook/01.07-timing-and-profiling.html summary:\n",
    "\n",
    "* `%time`: Time the execution of a single statement\n",
    "* `%timeit`: Time repeated execution of a single statement for more accuracy\n",
    "* `%prun`: Run code with the profiler\n",
    "* `%lprun`: Run code with the line-by-line profiler\n",
    "* `%memit`: Measure the memory use of a single statement\n",
    "* `%mprun`: Run code with the line-by-line memory profiler\n",
    "\n",
    "See also <BR>\n",
    "http://codedelish.com/resources/Python/profiling.html<BR>\n",
    "http://pynash.org/2013/03/06/timing-and-profiling/"
   ]
  },
  {
   "cell_type": "code",
   "execution_count": 1,
   "metadata": {},
   "outputs": [
    {
     "name": "stdout",
     "output_type": "stream",
     "text": [
      "3.6.6 | packaged by conda-forge | (default, Oct 12 2018, 14:08:43) \n",
      "[GCC 4.8.2 20140120 (Red Hat 4.8.2-15)]\n"
     ]
    }
   ],
   "source": [
    "import sys\n",
    "print(sys.version)"
   ]
  },
  {
   "cell_type": "code",
   "execution_count": 2,
   "metadata": {},
   "outputs": [
    {
     "name": "stdout",
     "output_type": "stream",
     "text": [
      "Requirement already satisfied: line-profiler in /opt/conda/lib/python3.6/site-packages (2.1.2)\n",
      "Requirement already satisfied: IPython>=0.13 in /opt/conda/lib/python3.6/site-packages (from line-profiler) (7.1.1)\n",
      "Requirement already satisfied: setuptools>=18.5 in /opt/conda/lib/python3.6/site-packages (from IPython>=0.13->line-profiler) (40.6.2)\n",
      "Requirement already satisfied: jedi>=0.10 in /opt/conda/lib/python3.6/site-packages (from IPython>=0.13->line-profiler) (0.13.1)\n",
      "Requirement already satisfied: decorator in /opt/conda/lib/python3.6/site-packages (from IPython>=0.13->line-profiler) (4.3.0)\n",
      "Requirement already satisfied: pickleshare in /opt/conda/lib/python3.6/site-packages (from IPython>=0.13->line-profiler) (0.7.5)\n",
      "Requirement already satisfied: traitlets>=4.2 in /opt/conda/lib/python3.6/site-packages (from IPython>=0.13->line-profiler) (4.3.2)\n",
      "Requirement already satisfied: prompt_toolkit<2.1.0,>=2.0.0 in /opt/conda/lib/python3.6/site-packages (from IPython>=0.13->line-profiler) (2.0.7)\n",
      "Requirement already satisfied: pygments in /opt/conda/lib/python3.6/site-packages (from IPython>=0.13->line-profiler) (2.2.0)\n",
      "Requirement already satisfied: backcall in /opt/conda/lib/python3.6/site-packages (from IPython>=0.13->line-profiler) (0.1.0)\n",
      "Requirement already satisfied: pexpect in /opt/conda/lib/python3.6/site-packages (from IPython>=0.13->line-profiler) (4.6.0)\n",
      "Requirement already satisfied: parso>=0.3.0 in /opt/conda/lib/python3.6/site-packages (from jedi>=0.10->IPython>=0.13->line-profiler) (0.3.1)\n",
      "Requirement already satisfied: ipython_genutils in /opt/conda/lib/python3.6/site-packages (from traitlets>=4.2->IPython>=0.13->line-profiler) (0.2.0)\n",
      "Requirement already satisfied: six in /opt/conda/lib/python3.6/site-packages (from traitlets>=4.2->IPython>=0.13->line-profiler) (1.11.0)\n",
      "Requirement already satisfied: wcwidth in /opt/conda/lib/python3.6/site-packages (from prompt_toolkit<2.1.0,>=2.0.0->IPython>=0.13->line-profiler) (0.1.7)\n",
      "Requirement already satisfied: ptyprocess>=0.5 in /opt/conda/lib/python3.6/site-packages (from pexpect->IPython>=0.13->line-profiler) (0.6.0)\n",
      "Collecting psutil\n",
      "Installing collected packages: psutil\n",
      "Successfully installed psutil-5.7.0\n",
      "Collecting memory_profiler\n",
      "Requirement already satisfied: psutil in /opt/conda/lib/python3.6/site-packages (from memory_profiler) (5.7.0)\n",
      "Installing collected packages: memory-profiler\n",
      "Successfully installed memory-profiler-0.57.0\n"
     ]
    }
   ],
   "source": [
    "!pip install line-profiler\n",
    "!pip install psutil\n",
    "!pip install memory_profiler"
   ]
  },
  {
   "cell_type": "markdown",
   "metadata": {},
   "source": [
    "two functions that we will profile"
   ]
  },
  {
   "cell_type": "code",
   "execution_count": 4,
   "metadata": {},
   "outputs": [],
   "source": [
    "def mult_by(inpt):\n",
    "    \"\"\"\n",
    "    a simple function that is not complicated\n",
    "    \"\"\"\n",
    "    avalu = inpt*2\n",
    "    avalu+=1\n",
    "    return\n",
    "\n",
    "def primes(n=1000): \n",
    "    \"\"\"\n",
    "    A more complicated function to be profiled\n",
    "    \n",
    "    An underdocumented function with an unclear purpose\n",
    "    in-line comments added by Ben\n",
    "    \"\"\"\n",
    "    A = [True] * (n+1) # the name of this array is not descriptive :(\n",
    "    A[0] = False # there is no reasoning provided about why this would be \n",
    "    A[1] = False # no reasoning :(\n",
    "    for i in range(2, int(n**0.5)): # I dislike single-letter variable names\n",
    "        if A[i]: # again, this is difficult to reason about, both in terms of A and i\n",
    "            mult_by(i) # not actually relevant to determining a prime number\n",
    "            for j in range(i**2, n+1, i): # how did the author come up with this?\n",
    "                A[j] = False\n",
    "\n",
    "    return [x for x in range(2, n) if A[x]] # for me this is challenging to reason about"
   ]
  },
  {
   "cell_type": "markdown",
   "metadata": {},
   "source": [
    "# analysis in three parts\n",
    "1. total time\n",
    "1. time per function\n",
    "1. time per line in a specific function"
   ]
  },
  {
   "cell_type": "code",
   "execution_count": null,
   "metadata": {},
   "outputs": [],
   "source": []
  },
  {
   "cell_type": "markdown",
   "metadata": {},
   "source": [
    "# total time spent in execution using `time` magic function \n",
    "\n",
    "see https://ipython.readthedocs.io/en/stable/interactive/magics.html"
   ]
  },
  {
   "cell_type": "markdown",
   "metadata": {},
   "source": [
    "How long does execution of a function take?\n",
    "\n",
    "`%time` applies to a single line of code"
   ]
  },
  {
   "cell_type": "code",
   "execution_count": 5,
   "metadata": {},
   "outputs": [
    {
     "data": {
      "text/plain": [
       "[2, 3, 5, 7, 11, 13, 17, 19]"
      ]
     },
     "execution_count": 5,
     "metadata": {},
     "output_type": "execute_result"
    }
   ],
   "source": [
    "primes(20) "
   ]
  },
  {
   "cell_type": "code",
   "execution_count": 6,
   "metadata": {},
   "outputs": [
    {
     "name": "stdout",
     "output_type": "stream",
     "text": [
      "CPU times: user 38 µs, sys: 10 µs, total: 48 µs\n",
      "Wall time: 109 µs\n"
     ]
    },
    {
     "data": {
      "text/plain": [
       "[2, 3, 5, 7, 11, 13, 17, 19]"
      ]
     },
     "execution_count": 6,
     "metadata": {},
     "output_type": "execute_result"
    }
   ],
   "source": [
    "%time primes(20) # call a function and provide an argument"
   ]
  },
  {
   "cell_type": "markdown",
   "metadata": {},
   "source": [
    "for \"microseconds\" (us, 1E-6) versus \"milliseconds\" (ms, 1E-3), see https://en.wikipedia.org/wiki/Metric_prefix#List_of_SI_prefixes\n",
    "\n",
    "user versus system versus total: see https://en.wikipedia.org/wiki/CPU_time#Subdivision\n",
    "\n",
    "We humans care about \"wall time\"; see https://en.wikipedia.org/wiki/Elapsed_real_time\n",
    "\n",
    "<BR>\n",
    "    \n",
    "Similarly, `%%time` applies to the entire cell"
   ]
  },
  {
   "cell_type": "code",
   "execution_count": 7,
   "metadata": {},
   "outputs": [
    {
     "name": "stdout",
     "output_type": "stream",
     "text": [
      "CPU times: user 1.99 ms, sys: 146 µs, total: 2.14 ms\n",
      "Wall time: 2.16 ms\n"
     ]
    }
   ],
   "source": [
    "%%time \n",
    "primes(20)\n",
    "primes(30)"
   ]
  },
  {
   "cell_type": "markdown",
   "metadata": {},
   "source": [
    "Although the two calls to `primes()` do output text, the display is overwritten by `time`\n",
    "\n",
    "Displaying output skews measurement results for cell execution, so best practice is to store output to a variable"
   ]
  },
  {
   "cell_type": "code",
   "execution_count": 8,
   "metadata": {},
   "outputs": [
    {
     "name": "stdout",
     "output_type": "stream",
     "text": [
      "CPU times: user 41 µs, sys: 11 µs, total: 52 µs\n",
      "Wall time: 63.9 µs\n"
     ]
    }
   ],
   "source": [
    "%time reslt=primes(20)"
   ]
  },
  {
   "cell_type": "markdown",
   "metadata": {},
   "source": [
    "There's not much difference between times for multiple executions, but the variance increases when the duration is longer"
   ]
  },
  {
   "cell_type": "code",
   "execution_count": 9,
   "metadata": {},
   "outputs": [
    {
     "name": "stdout",
     "output_type": "stream",
     "text": [
      "CPU times: user 864 ms, sys: 85.2 ms, total: 949 ms\n",
      "Wall time: 994 ms\n",
      "length of array: 78498\n"
     ]
    }
   ],
   "source": [
    "%time reslt=primes(1000000)\n",
    "\n",
    "print('length of array:',len(reslt))"
   ]
  },
  {
   "cell_type": "markdown",
   "metadata": {},
   "source": [
    "To run multiple timing test, use `%timeit`"
   ]
  },
  {
   "cell_type": "code",
   "execution_count": 10,
   "metadata": {},
   "outputs": [
    {
     "name": "stdout",
     "output_type": "stream",
     "text": [
      "418 ms ± 70.2 ms per loop (mean ± std. dev. of 7 runs, 1 loop each)\n"
     ]
    }
   ],
   "source": [
    "%timeit reslt=primes(1000000)"
   ]
  },
  {
   "cell_type": "markdown",
   "metadata": {},
   "source": [
    "Want to capture the output of `timeit` to a variable? See https://stackoverflow.com/questions/24812253/how-can-i-capture-return-value-with-python-timeit-module"
   ]
  },
  {
   "cell_type": "markdown",
   "metadata": {},
   "source": [
    "# time spent per function using `cProfile`\n",
    "\n",
    "https://docs.python.org/3/library/profile.html"
   ]
  },
  {
   "cell_type": "code",
   "execution_count": 11,
   "metadata": {},
   "outputs": [],
   "source": [
    "import cProfile"
   ]
  },
  {
   "cell_type": "code",
   "execution_count": 12,
   "metadata": {},
   "outputs": [
    {
     "name": "stdout",
     "output_type": "stream",
     "text": [
      "         451 function calls in 7.515 seconds\n",
      "\n",
      "   Ordered by: standard name\n",
      "\n",
      "   ncalls  tottime  percall  cumtime  percall filename:lineno(function)\n",
      "      446    0.001    0.000    0.001    0.000 <ipython-input-4-2fc7f0ed043d>:1(mult_by)\n",
      "        1    1.912    1.912    1.912    1.912 <ipython-input-4-2fc7f0ed043d>:25(<listcomp>)\n",
      "        1    5.425    5.425    7.338    7.338 <ipython-input-4-2fc7f0ed043d>:9(primes)\n",
      "        1    0.176    0.176    7.515    7.515 <string>:1(<module>)\n",
      "        1    0.000    0.000    7.515    7.515 {built-in method builtins.exec}\n",
      "        1    0.000    0.000    0.000    0.000 {method 'disable' of '_lsprof.Profiler' objects}\n",
      "\n",
      "\n"
     ]
    }
   ],
   "source": [
    "cProfile.run('primes(10000000)')"
   ]
  },
  {
   "cell_type": "markdown",
   "metadata": {},
   "source": [
    "* `ncalls`:       How many times it was called\n",
    "* `tottime`:      for the total time spent in the given function (and excluding time made in calls to sub-functions)\n",
    "* `percall`:      is the quotient of tottime divided by ncalls\n",
    "* `cumtime`:      is the cumulative time spent in this and all subfunctions (from invocation till exit). This figure is accurate even for recursive functions.\n",
    "* `percall`:      is the quotient of cumtime divided by primitive calls\n",
    "* `filename:lineno(function)`:    provides the respective data of each function"
   ]
  },
  {
   "cell_type": "markdown",
   "metadata": {},
   "source": [
    "# time spent per line within specified function"
   ]
  },
  {
   "cell_type": "markdown",
   "metadata": {},
   "source": [
    "https://nyu-cds.github.io/python-performance-tuning/03-line_profiler/\n",
    "    \n",
    "https://jakevdp.github.io/PythonDataScienceHandbook/01.07-timing-and-profiling.html"
   ]
  },
  {
   "cell_type": "code",
   "execution_count": 13,
   "metadata": {},
   "outputs": [],
   "source": [
    "%load_ext line_profiler"
   ]
  },
  {
   "cell_type": "code",
   "execution_count": 14,
   "metadata": {},
   "outputs": [
    {
     "data": {
      "text/plain": [
       "\u001b[0;31mDocstring:\u001b[0m\n",
       "Execute a statement under the line-by-line profiler from the\n",
       "line_profiler module.\n",
       "\n",
       "Usage:\n",
       "  %lprun -f func1 -f func2 <statement>\n",
       "\n",
       "The given statement (which doesn't require quote marks) is run via the\n",
       "LineProfiler. Profiling is enabled for the functions specified by the -f\n",
       "options. The statistics will be shown side-by-side with the code through the\n",
       "pager once the statement has completed.\n",
       "\n",
       "Options:\n",
       "\n",
       "-f <function>: LineProfiler only profiles functions and methods it is told\n",
       "to profile.  This option tells the profiler about these functions. Multiple\n",
       "-f options may be used. The argument may be any expression that gives\n",
       "a Python function or method object. However, one must be careful to avoid\n",
       "spaces that may confuse the option parser.\n",
       "\n",
       "-m <module>: Get all the functions/methods in a module\n",
       "\n",
       "One or more -f or -m options are required to get any useful results.\n",
       "\n",
       "-D <filename>: dump the raw statistics out to a pickle file on disk. The\n",
       "usual extension for this is \".lprof\". These statistics may be viewed later\n",
       "by running line_profiler.py as a script.\n",
       "\n",
       "-T <filename>: dump the text-formatted statistics with the code side-by-side\n",
       "out to a text file.\n",
       "\n",
       "-r: return the LineProfiler object after it has completed profiling.\n",
       "\n",
       "-s: strip out all entries from the print-out that have zeros.\n",
       "\n",
       "-u: specify time unit for the print-out in seconds.\n",
       "\u001b[0;31mFile:\u001b[0m      /opt/conda/lib/python3.6/site-packages/line_profiler.py\n"
      ]
     },
     "metadata": {},
     "output_type": "display_data"
    }
   ],
   "source": [
    "%lprun?"
   ]
  },
  {
   "cell_type": "markdown",
   "metadata": {},
   "source": [
    "Profile the lines of the `prime` function"
   ]
  },
  {
   "cell_type": "code",
   "execution_count": 15,
   "metadata": {},
   "outputs": [
    {
     "data": {
      "text/plain": [
       "Timer unit: 1e-06 s\n",
       "\n",
       "Total time: 0.238713 s\n",
       "File: <ipython-input-4-2fc7f0ed043d>\n",
       "Function: primes at line 9\n",
       "\n",
       "Line #      Hits         Time  Per Hit   % Time  Line Contents\n",
       "==============================================================\n",
       "     9                                           def primes(n=1000): \n",
       "    10                                               \"\"\"\n",
       "    11                                               A more complicated function to be profiled\n",
       "    12                                               \n",
       "    13                                               An underdocumented function with an unclear purpose\n",
       "    14                                               in-line comments added by Ben\n",
       "    15                                               \"\"\"\n",
       "    16         1       1199.0   1199.0      0.5      A = [True] * (n+1) # the name of this array is not descriptive :(\n",
       "    17         1          4.0      4.0      0.0      A[0] = False # there is no reasoning provided about why this would be \n",
       "    18         1          2.0      2.0      0.0      A[1] = False # no reasoning :(\n",
       "    19        99        189.0      1.9      0.1      for i in range(2, int(n**0.5)): # I dislike single-letter variable names\n",
       "    20        98        186.0      1.9      0.1          if A[i]: # again, this is difficult to reason about, both in terms of A and i\n",
       "    21        25        520.0     20.8      0.2              mult_by(i) # not actually relevant to determining a prime number\n",
       "    22     17006     102219.0      6.0     42.8              for j in range(i**2, n+1, i): # how did the author come up with this?\n",
       "    23     16981     129517.0      7.6     54.3                  A[j] = False\n",
       "    24                                           \n",
       "    25         1       4877.0   4877.0      2.0      return [x for x in range(2, n) if A[x]] # for me this is challenging to reason about"
      ]
     },
     "metadata": {},
     "output_type": "display_data"
    }
   ],
   "source": [
    "%lprun -f primes primes(10000)"
   ]
  },
  {
   "cell_type": "markdown",
   "metadata": {},
   "source": [
    "profile `mult_by` function when `primes()` is executed"
   ]
  },
  {
   "cell_type": "code",
   "execution_count": null,
   "metadata": {},
   "outputs": [],
   "source": [
    "%lprun -f mult_by primes(10000)"
   ]
  },
  {
   "cell_type": "markdown",
   "metadata": {},
   "source": [
    "* `Line #`: The line number in the code\n",
    "* `Hits`: The number of times that line was executed\n",
    "* `Time`: The total amount of time spent executing the line in the timer’s units\n",
    "* `Per Hit`: The average amount of time spent executing the line once in the timer’s unit\n",
    "* `% Time`: The percentage of time spent on that line relative to the total amount of recorded time spent in the function\n",
    "* `Line Contents`: The actual source code of the line"
   ]
  },
  {
   "cell_type": "markdown",
   "metadata": {},
   "source": [
    "line_profiler generates profiles based on the lines in a program.\n",
    "\n",
    "Line based profiling can provide more information about where a program is performing badly."
   ]
  },
  {
   "cell_type": "code",
   "execution_count": null,
   "metadata": {},
   "outputs": [],
   "source": []
  },
  {
   "cell_type": "code",
   "execution_count": null,
   "metadata": {},
   "outputs": [],
   "source": []
  }
 ],
 "metadata": {
  "kernelspec": {
   "display_name": "Python 3",
   "language": "python",
   "name": "python3"
  },
  "language_info": {
   "codemirror_mode": {
    "name": "ipython",
    "version": 3
   },
   "file_extension": ".py",
   "mimetype": "text/x-python",
   "name": "python",
   "nbconvert_exporter": "python",
   "pygments_lexer": "ipython3",
   "version": "3.6.6"
  }
 },
 "nbformat": 4,
 "nbformat_minor": 2
}
