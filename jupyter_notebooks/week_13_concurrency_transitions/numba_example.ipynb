{
 "cells": [
  {
   "cell_type": "raw",
   "metadata": {},
   "source": [
    "Caveat: this notebook takes 2 minutes to execute according to\n",
    "    \n",
    "time jupyter nbconvert --to notebook --ExecutePreprocessor.timeout=None --ExecutePreprocessor.kernel_name='python3'  --inplace --execute numba_example.ipynb\n",
    "\n",
    "https://nbconvert.readthedocs.io/en/latest/execute_api.html"
   ]
  },
  {
   "cell_type": "markdown",
   "metadata": {},
   "source": [
    "https://stackoverflow.com/questions/51903350/python-vs-matlab-performance-on-algorithm"
   ]
  },
  {
   "cell_type": "markdown",
   "metadata": {},
   "source": [
    "First we measure the scaling of the serial implementation\n",
    "\n",
    "_Performance enhancement 1_: use Numba within a single array"
   ]
  },
  {
   "cell_type": "code",
   "execution_count": 1,
   "metadata": {},
   "outputs": [
    {
     "name": "stdout",
     "output_type": "stream",
     "text": [
      "a1374aaeea07\n"
     ]
    }
   ],
   "source": [
    "!hostname"
   ]
  },
  {
   "cell_type": "code",
   "execution_count": 2,
   "metadata": {},
   "outputs": [],
   "source": [
    "import numpy as np\n",
    "import time\n",
    "import matplotlib.pyplot as plt"
   ]
  },
  {
   "cell_type": "markdown",
   "metadata": {},
   "source": [
    "For Numpy, set how floating-point errors are handled.\n",
    "    \n",
    "https://docs.scipy.org/doc/numpy/reference/generated/numpy.seterr.html"
   ]
  },
  {
   "cell_type": "code",
   "execution_count": 3,
   "metadata": {},
   "outputs": [
    {
     "data": {
      "text/plain": [
       "{'divide': 'warn', 'over': 'warn', 'under': 'ignore', 'invalid': 'warn'}"
      ]
     },
     "execution_count": 3,
     "metadata": {},
     "output_type": "execute_result"
    }
   ],
   "source": [
    "np.seterr(divide='ignore', invalid='ignore')"
   ]
  },
  {
   "cell_type": "markdown",
   "metadata": {},
   "source": [
    "# original code to be profiled optimized\n",
    "The following is merely a computationally expective function"
   ]
  },
  {
   "cell_type": "code",
   "execution_count": 6,
   "metadata": {},
   "outputs": [],
   "source": [
    "# https://github.com/nikdon/pyEntropy\n",
    "def sample_entropy(time_series, sample_length, tolerance=None):\n",
    "    \"\"\"Calculate and return Sample Entropy of the given time series.\n",
    "    Distance between two vectors defined as Euclidean distance and can\n",
    "    be changed in future releases\n",
    "    Args:\n",
    "        time_series: Vector or string of the sample data\n",
    "        sample_length: Number of sequential points of the time series\n",
    "        tolerance: Tolerance (default = 0.1...0.2 * std(time_series))\n",
    "    Returns:\n",
    "        Vector containing Sample Entropy (float)\n",
    "    References:\n",
    "        [1] http://en.wikipedia.org/wiki/Sample_Entropy\n",
    "        [2] http://physionet.incor.usp.br/physiotools/sampen/\n",
    "        [3] Madalena Costa, Ary Goldberger, CK Peng. Multiscale entropy analysis\n",
    "            of biological signals\n",
    "    \"\"\"\n",
    "    if tolerance is None:\n",
    "        tolerance = 0.1 * np.std(time_series)\n",
    "\n",
    "    n = len(time_series)\n",
    "    prev = np.zeros(n)\n",
    "    curr = np.zeros(n)\n",
    "    A = np.zeros((sample_length, 1))  # number of matches for m = [1,...,template_length - 1]\n",
    "    B = np.zeros((sample_length, 1))  # number of matches for m = [1,...,template_length]\n",
    "\n",
    "    for i in range(n - 1):\n",
    "        nj = n - i - 1\n",
    "        ts1 = time_series[i]\n",
    "        for jj in range(nj):\n",
    "            j = jj + i + 1\n",
    "            if abs(time_series[j] - ts1) < tolerance:  # distance between two vectors\n",
    "                curr[jj] = prev[jj] + 1\n",
    "                temp_ts_length = min(sample_length, curr[jj])\n",
    "                for m in range(int(temp_ts_length)):\n",
    "                    A[m] += 1\n",
    "                    if j < n - 1:\n",
    "                        B[m] += 1\n",
    "            else:\n",
    "                curr[jj] = 0\n",
    "        for j in range(nj):\n",
    "            prev[j] = curr[j]\n",
    "\n",
    "    N = n * (n - 1) / 2\n",
    "    B = np.vstack(([N], B[:sample_length - 1]))\n",
    "    similarity_ratio = A / B\n",
    "    se = - np.log(similarity_ratio)\n",
    "    se = np.reshape(se, -1)\n",
    "    return se"
   ]
  },
  {
   "cell_type": "markdown",
   "metadata": {},
   "source": [
    "# profile code\n",
    "\n",
    "In order to optimize effectively, need to understand where hot spots are\n"
   ]
  },
  {
   "cell_type": "markdown",
   "metadata": {},
   "source": [
    "## start with function profiling\n",
    "Conclusion: Most of the time is spent in \"sample_entropy\""
   ]
  },
  {
   "cell_type": "code",
   "execution_count": 7,
   "metadata": {},
   "outputs": [
    {
     "data": {
      "text/plain": [
       "\u001b[0;31mDocstring:\u001b[0m\n",
       "Run a statement through the python code profiler.\n",
       "\n",
       "Usage, in line mode:\n",
       "  %prun [options] statement\n",
       "\n",
       "Usage, in cell mode:\n",
       "  %%prun [options] [statement]\n",
       "  code...\n",
       "  code...\n",
       "\n",
       "In cell mode, the additional code lines are appended to the (possibly\n",
       "empty) statement in the first line.  Cell mode allows you to easily\n",
       "profile multiline blocks without having to put them in a separate\n",
       "function.\n",
       "\n",
       "The given statement (which doesn't require quote marks) is run via the\n",
       "python profiler in a manner similar to the profile.run() function.\n",
       "Namespaces are internally managed to work correctly; profile.run\n",
       "cannot be used in IPython because it makes certain assumptions about\n",
       "namespaces which do not hold under IPython.\n",
       "\n",
       "Options:\n",
       "\n",
       "-l <limit>\n",
       "  you can place restrictions on what or how much of the\n",
       "  profile gets printed. The limit value can be:\n",
       "\n",
       "     * A string: only information for function names containing this string\n",
       "       is printed.\n",
       "\n",
       "     * An integer: only these many lines are printed.\n",
       "\n",
       "     * A float (between 0 and 1): this fraction of the report is printed\n",
       "       (for example, use a limit of 0.4 to see the topmost 40% only).\n",
       "\n",
       "  You can combine several limits with repeated use of the option. For\n",
       "  example, ``-l __init__ -l 5`` will print only the topmost 5 lines of\n",
       "  information about class constructors.\n",
       "\n",
       "-r\n",
       "  return the pstats.Stats object generated by the profiling. This\n",
       "  object has all the information about the profile in it, and you can\n",
       "  later use it for further analysis or in other functions.\n",
       "\n",
       "-s <key>\n",
       "  sort profile by given key. You can provide more than one key\n",
       "  by using the option several times: '-s key1 -s key2 -s key3...'. The\n",
       "  default sorting key is 'time'.\n",
       "\n",
       "  The following is copied verbatim from the profile documentation\n",
       "  referenced below:\n",
       "\n",
       "  When more than one key is provided, additional keys are used as\n",
       "  secondary criteria when the there is equality in all keys selected\n",
       "  before them.\n",
       "\n",
       "  Abbreviations can be used for any key names, as long as the\n",
       "  abbreviation is unambiguous.  The following are the keys currently\n",
       "  defined:\n",
       "\n",
       "  ============  =====================\n",
       "  Valid Arg     Meaning\n",
       "  ============  =====================\n",
       "  \"calls\"       call count\n",
       "  \"cumulative\"  cumulative time\n",
       "  \"file\"        file name\n",
       "  \"module\"      file name\n",
       "  \"pcalls\"      primitive call count\n",
       "  \"line\"        line number\n",
       "  \"name\"        function name\n",
       "  \"nfl\"         name/file/line\n",
       "  \"stdname\"     standard name\n",
       "  \"time\"        internal time\n",
       "  ============  =====================\n",
       "\n",
       "  Note that all sorts on statistics are in descending order (placing\n",
       "  most time consuming items first), where as name, file, and line number\n",
       "  searches are in ascending order (i.e., alphabetical). The subtle\n",
       "  distinction between \"nfl\" and \"stdname\" is that the standard name is a\n",
       "  sort of the name as printed, which means that the embedded line\n",
       "  numbers get compared in an odd way.  For example, lines 3, 20, and 40\n",
       "  would (if the file names were the same) appear in the string order\n",
       "  \"20\" \"3\" and \"40\".  In contrast, \"nfl\" does a numeric compare of the\n",
       "  line numbers.  In fact, sort_stats(\"nfl\") is the same as\n",
       "  sort_stats(\"name\", \"file\", \"line\").\n",
       "\n",
       "-T <filename>\n",
       "  save profile results as shown on screen to a text\n",
       "  file. The profile is still shown on screen.\n",
       "\n",
       "-D <filename>\n",
       "  save (via dump_stats) profile statistics to given\n",
       "  filename. This data is in a format understood by the pstats module, and\n",
       "  is generated by a call to the dump_stats() method of profile\n",
       "  objects. The profile is still shown on screen.\n",
       "\n",
       "-q\n",
       "  suppress output to the pager.  Best used with -T and/or -D above.\n",
       "\n",
       "If you want to run complete programs under the profiler's control, use\n",
       "``%run -p [prof_opts] filename.py [args to program]`` where prof_opts\n",
       "contains profiler specific options as described here.\n",
       "\n",
       "You can read the complete documentation for the profile module with::\n",
       "\n",
       "  In [1]: import profile; profile.help()\n",
       "\u001b[0;31mFile:\u001b[0m      /opt/conda/lib/python3.6/site-packages/IPython/core/magics/execution.py\n"
      ]
     },
     "metadata": {},
     "output_type": "display_data"
    }
   ],
   "source": [
    "%prun?"
   ]
  },
  {
   "cell_type": "code",
   "execution_count": 8,
   "metadata": {},
   "outputs": [
    {
     "name": "stdout",
     "output_type": "stream",
     "text": [
      " "
     ]
    },
    {
     "data": {
      "text/plain": [
       "         5269 function calls in 0.063 seconds\n",
       "\n",
       "   Ordered by: internal time\n",
       "\n",
       "   ncalls  tottime  percall  cumtime  percall filename:lineno(function)\n",
       "        1    0.041    0.041    0.062    0.062 <ipython-input-6-f82a0bee80af>:2(sample_entropy)\n",
       "      274    0.019    0.000    0.019    0.000 {built-in method builtins.min}\n",
       "     4950    0.002    0.000    0.002    0.000 {built-in method builtins.abs}\n",
       "        1    0.000    0.000    0.000    0.000 _methods.py:86(_var)\n",
       "        1    0.000    0.000    0.063    0.063 {built-in method builtins.exec}\n",
       "        4    0.000    0.000    0.000    0.000 {built-in method numpy.core.multiarray.array}\n",
       "        2    0.000    0.000    0.000    0.000 {method 'reduce' of 'numpy.ufunc' objects}\n",
       "        1    0.000    0.000    0.000    0.000 _methods.py:133(_std)\n",
       "        2    0.000    0.000    0.000    0.000 shape_base.py:63(atleast_2d)\n",
       "        1    0.000    0.000    0.000    0.000 _methods.py:43(_count_reduce_items)\n",
       "        1    0.000    0.000    0.000    0.000 {built-in method numpy.core.multiarray.concatenate}\n",
       "        1    0.000    0.000    0.000    0.000 shape_base.py:182(vstack)\n",
       "        4    0.000    0.000    0.000    0.000 {built-in method numpy.core.multiarray.zeros}\n",
       "        4    0.000    0.000    0.000    0.000 numeric.py:534(asanyarray)\n",
       "        1    0.000    0.000    0.000    0.000 fromnumeric.py:2912(std)\n",
       "        1    0.000    0.000    0.062    0.062 <string>:1(<module>)\n",
       "        1    0.000    0.000    0.000    0.000 {method 'reshape' of 'numpy.ndarray' objects}\n",
       "        1    0.000    0.000    0.000    0.000 fromnumeric.py:55(_wrapfunc)\n",
       "        4    0.000    0.000    0.000    0.000 {built-in method builtins.isinstance}\n",
       "        1    0.000    0.000    0.000    0.000 shape_base.py:237(<listcomp>)\n",
       "        1    0.000    0.000    0.000    0.000 fromnumeric.py:138(reshape)\n",
       "        2    0.000    0.000    0.000    0.000 {built-in method builtins.hasattr}\n",
       "        1    0.000    0.000    0.000    0.000 {built-in method builtins.getattr}\n",
       "        3    0.000    0.000    0.000    0.000 {built-in method builtins.len}\n",
       "        2    0.000    0.000    0.000    0.000 {built-in method builtins.issubclass}\n",
       "        1    0.000    0.000    0.000    0.000 {built-in method builtins.max}\n",
       "        1    0.000    0.000    0.000    0.000 {method 'disable' of '_lsprof.Profiler' objects}\n",
       "        2    0.000    0.000    0.000    0.000 {method 'append' of 'list' objects}"
      ]
     },
     "metadata": {},
     "output_type": "display_data"
    }
   ],
   "source": [
    "a = np.random.rand(1, 100)[0]\n",
    "\n",
    "%prun -s tottime sample_entropy(a, 4, 0.1 * np.std(a))"
   ]
  },
  {
   "cell_type": "markdown",
   "metadata": {},
   "source": [
    "## after determining function hot spot, use line profiling\n",
    "\n",
    "Once we know that the majority of time is spent in \"Sample entropy\", investigate which lines are consuming most of the CPU time\n",
    "\n",
    "https://ipython-books.github.io/43-profiling-your-code-line-by-line-with-line_profiler/"
   ]
  },
  {
   "cell_type": "code",
   "execution_count": 7,
   "metadata": {},
   "outputs": [
    {
     "name": "stdout",
     "output_type": "stream",
     "text": [
      "Requirement already satisfied: line_profiler in /opt/conda/lib/python3.6/site-packages (2.1.2)\n",
      "Requirement already satisfied: IPython>=0.13 in /opt/conda/lib/python3.6/site-packages (from line_profiler) (7.1.1)\n",
      "Requirement already satisfied: setuptools>=18.5 in /opt/conda/lib/python3.6/site-packages (from IPython>=0.13->line_profiler) (40.6.2)\n",
      "Requirement already satisfied: jedi>=0.10 in /opt/conda/lib/python3.6/site-packages (from IPython>=0.13->line_profiler) (0.13.1)\n",
      "Requirement already satisfied: decorator in /opt/conda/lib/python3.6/site-packages (from IPython>=0.13->line_profiler) (4.3.0)\n",
      "Requirement already satisfied: pickleshare in /opt/conda/lib/python3.6/site-packages (from IPython>=0.13->line_profiler) (0.7.5)\n",
      "Requirement already satisfied: traitlets>=4.2 in /opt/conda/lib/python3.6/site-packages (from IPython>=0.13->line_profiler) (4.3.2)\n",
      "Requirement already satisfied: prompt_toolkit<2.1.0,>=2.0.0 in /opt/conda/lib/python3.6/site-packages (from IPython>=0.13->line_profiler) (2.0.7)\n",
      "Requirement already satisfied: pygments in /opt/conda/lib/python3.6/site-packages (from IPython>=0.13->line_profiler) (2.2.0)\n",
      "Requirement already satisfied: backcall in /opt/conda/lib/python3.6/site-packages (from IPython>=0.13->line_profiler) (0.1.0)\n",
      "Requirement already satisfied: pexpect in /opt/conda/lib/python3.6/site-packages (from IPython>=0.13->line_profiler) (4.6.0)\n",
      "Requirement already satisfied: parso>=0.3.0 in /opt/conda/lib/python3.6/site-packages (from jedi>=0.10->IPython>=0.13->line_profiler) (0.3.1)\n",
      "Requirement already satisfied: ipython_genutils in /opt/conda/lib/python3.6/site-packages (from traitlets>=4.2->IPython>=0.13->line_profiler) (0.2.0)\n",
      "Requirement already satisfied: six in /opt/conda/lib/python3.6/site-packages (from traitlets>=4.2->IPython>=0.13->line_profiler) (1.11.0)\n",
      "Requirement already satisfied: wcwidth in /opt/conda/lib/python3.6/site-packages (from prompt_toolkit<2.1.0,>=2.0.0->IPython>=0.13->line_profiler) (0.1.7)\n",
      "Requirement already satisfied: ptyprocess>=0.5 in /opt/conda/lib/python3.6/site-packages (from pexpect->IPython>=0.13->line_profiler) (0.6.0)\n"
     ]
    }
   ],
   "source": [
    "!pip install line_profiler"
   ]
  },
  {
   "cell_type": "code",
   "execution_count": 8,
   "metadata": {},
   "outputs": [],
   "source": [
    "%load_ext line_profiler"
   ]
  },
  {
   "cell_type": "code",
   "execution_count": 9,
   "metadata": {},
   "outputs": [
    {
     "data": {
      "text/plain": [
       "Timer unit: 1e-06 s\n",
       "\n",
       "Total time: 0.173882 s\n",
       "File: <ipython-input-4-f82a0bee80af>\n",
       "Function: sample_entropy at line 2\n",
       "\n",
       "Line #      Hits         Time  Per Hit   % Time  Line Contents\n",
       "==============================================================\n",
       "     2                                           def sample_entropy(time_series, sample_length, tolerance=None):\n",
       "     3                                               \"\"\"Calculate and return Sample Entropy of the given time series.\n",
       "     4                                               Distance between two vectors defined as Euclidean distance and can\n",
       "     5                                               be changed in future releases\n",
       "     6                                               Args:\n",
       "     7                                                   time_series: Vector or string of the sample data\n",
       "     8                                                   sample_length: Number of sequential points of the time series\n",
       "     9                                                   tolerance: Tolerance (default = 0.1...0.2 * std(time_series))\n",
       "    10                                               Returns:\n",
       "    11                                                   Vector containing Sample Entropy (float)\n",
       "    12                                               References:\n",
       "    13                                                   [1] http://en.wikipedia.org/wiki/Sample_Entropy\n",
       "    14                                                   [2] http://physionet.incor.usp.br/physiotools/sampen/\n",
       "    15                                                   [3] Madalena Costa, Ary Goldberger, CK Peng. Multiscale entropy analysis\n",
       "    16                                                       of biological signals\n",
       "    17                                               \"\"\"\n",
       "    18         1          5.0      5.0      0.0      if tolerance is None:\n",
       "    19                                                   tolerance = 0.1 * np.std(time_series)\n",
       "    20                                           \n",
       "    21         1          4.0      4.0      0.0      n = len(time_series)\n",
       "    22         1         21.0     21.0      0.0      prev = np.zeros(n)\n",
       "    23         1         27.0     27.0      0.0      curr = np.zeros(n)\n",
       "    24         1         17.0     17.0      0.0      A = np.zeros((sample_length, 1))  # number of matches for m = [1,...,template_length - 1]\n",
       "    25         1         11.0     11.0      0.0      B = np.zeros((sample_length, 1))  # number of matches for m = [1,...,template_length]\n",
       "    26                                           \n",
       "    27       100        236.0      2.4      0.1      for i in range(n - 1):\n",
       "    28        99        264.0      2.7      0.2          nj = n - i - 1\n",
       "    29        99        744.0      7.5      0.4          ts1 = time_series[i]\n",
       "    30      5049      19956.0      4.0     11.5          for jj in range(nj):\n",
       "    31      4950      17649.0      3.6     10.1              j = jj + i + 1\n",
       "    32      4950      36923.0      7.5     21.2              if abs(time_series[j] - ts1) < tolerance:  # distance between two vectors\n",
       "    33       276       3195.0     11.6      1.8                  curr[jj] = prev[jj] + 1\n",
       "    34       276       2779.0     10.1      1.6                  temp_ts_length = min(sample_length, curr[jj])\n",
       "    35       574       3774.0      6.6      2.2                  for m in range(int(temp_ts_length)):\n",
       "    36       298      14821.0     49.7      8.5                      A[m] += 1\n",
       "    37       298       1564.0      5.2      0.9                      if j < n - 1:\n",
       "    38       292       7889.0     27.0      4.5                          B[m] += 1\n",
       "    39                                                       else:\n",
       "    40      4674      21843.0      4.7     12.6                  curr[jj] = 0\n",
       "    41      5049      19263.0      3.8     11.1          for j in range(nj):\n",
       "    42      4950      22574.0      4.6     13.0              prev[j] = curr[j]\n",
       "    43                                           \n",
       "    44         1          3.0      3.0      0.0      N = n * (n - 1) / 2\n",
       "    45         1        230.0    230.0      0.1      B = np.vstack(([N], B[:sample_length - 1]))\n",
       "    46         1         13.0     13.0      0.0      similarity_ratio = A / B\n",
       "    47         1         29.0     29.0      0.0      se = - np.log(similarity_ratio)\n",
       "    48         1         46.0     46.0      0.0      se = np.reshape(se, -1)\n",
       "    49         1          2.0      2.0      0.0      return se"
      ]
     },
     "metadata": {},
     "output_type": "display_data"
    }
   ],
   "source": [
    "a = np.random.rand(1, 100)[0]\n",
    "\n",
    "%lprun -f sample_entropy sample_entropy(a, 4, 0.1 * np.std(a))"
   ]
  },
  {
   "cell_type": "markdown",
   "metadata": {},
   "source": [
    "We can see there are some lines that are taking most of the time (primarily the lines inside the loop). \n",
    "\n",
    "Therefore, when attempting to optimize the implementation, focus on those lines"
   ]
  },
  {
   "cell_type": "markdown",
   "metadata": {},
   "source": [
    "## scaling of serial function\n",
    "\n",
    "Before we try to make the code faster, start by measuring how the code scales as the size of the input increase"
   ]
  },
  {
   "cell_type": "code",
   "execution_count": 10,
   "metadata": {},
   "outputs": [
    {
     "name": "stdout",
     "output_type": "stream",
     "text": [
      "100 : 0.11920642852783203 seconds\n",
      "100 : 0.11010384559631348 seconds\n",
      "100 : 0.0699310302734375 seconds\n",
      "1000 : 4.037002086639404 seconds\n",
      "1000 : 3.6000020503997803 seconds\n",
      "1000 : 5.0666725635528564 seconds\n",
      "2000 : 17.788944244384766 seconds\n",
      "2000 : 23.119106769561768 seconds\n",
      "2000 : 17.112669229507446 seconds\n"
     ]
    }
   ],
   "source": [
    "num_tests=3 # number of measurements for each array size\n",
    "serial_original_timing_dict={}\n",
    "serial_original_reslt_dict={}\n",
    "for arry_size in [100,1000,2000]:#,5000,10000]:  # vary the array size\n",
    "    reslt_ary=[]\n",
    "    for test_indx in range(num_tests): # take multiple measurements for each array size\n",
    "        a = np.random.rand(1, arry_size)[0] # create array of given size\n",
    "        start_time = time.time() # start timer\n",
    "        outp=sample_entropy(a, 4, 0.1 * np.std(a)) # call computationally expensive function\n",
    "        elapsed_time = time.time() - start_time # how long did that take?\n",
    "        serial_original_reslt_dict[(arry_size,test_indx)]=outp\n",
    "        print(arry_size,':',elapsed_time,'seconds')\n",
    "        reslt_ary.append(elapsed_time)\n",
    "    # store the average of the 3 runs\n",
    "    serial_original_timing_dict[arry_size]=sum(reslt_ary)/num_tests"
   ]
  },
  {
   "cell_type": "code",
   "execution_count": 11,
   "metadata": {},
   "outputs": [
    {
     "data": {
      "text/plain": [
       "{100: 0.09974710146586101, 1000: 4.234558900197347, 2000: 19.340240081151325}"
      ]
     },
     "execution_count": 11,
     "metadata": {},
     "output_type": "execute_result"
    }
   ],
   "source": [
    "serial_original_timing_dict"
   ]
  },
  {
   "cell_type": "code",
   "execution_count": 12,
   "metadata": {},
   "outputs": [],
   "source": [
    "# unpacking operator * -- see https://realpython.com/python-kwargs-and-args/#unpacking-with-the-asterisk-operators\n",
    "# see https://realpython.com/python-zip-function/\n",
    "x_orig,y_orig=zip(*serial_original_timing_dict.items())"
   ]
  },
  {
   "cell_type": "code",
   "execution_count": 13,
   "metadata": {},
   "outputs": [
    {
     "data": {
      "text/plain": [
       "(100, 1000, 2000)"
      ]
     },
     "execution_count": 13,
     "metadata": {},
     "output_type": "execute_result"
    }
   ],
   "source": [
    "x_orig # array size"
   ]
  },
  {
   "cell_type": "code",
   "execution_count": 14,
   "metadata": {},
   "outputs": [
    {
     "data": {
      "text/plain": [
       "(0.09974710146586101, 4.234558900197347, 19.340240081151325)"
      ]
     },
     "execution_count": 14,
     "metadata": {},
     "output_type": "execute_result"
    }
   ],
   "source": [
    "y_orig # time in seconds"
   ]
  },
  {
   "cell_type": "code",
   "execution_count": 15,
   "metadata": {},
   "outputs": [
    {
     "data": {
      "text/plain": [
       "array([  5.53233992e-06,  -1.49133858e-03,   1.93557560e-01])"
      ]
     },
     "execution_count": 15,
     "metadata": {},
     "output_type": "execute_result"
    }
   ],
   "source": [
    "z_orig = np.polyfit(x_orig, y_orig, 2) # fit data points with second order polynomial -- https://docs.scipy.org/doc/numpy/reference/generated/numpy.polyfit.html\n",
    "z_orig # coefficients of the second order polynomial"
   ]
  },
  {
   "cell_type": "code",
   "execution_count": 16,
   "metadata": {},
   "outputs": [
    {
     "name": "stdout",
     "output_type": "stream",
     "text": [
      "f =\n",
      "            2\n",
      "5.532e-06 x - 0.001491 x + 0.1936\n"
     ]
    }
   ],
   "source": [
    "f_orig = np.poly1d(z_orig) # convenience function for polynomials -- https://docs.scipy.org/doc/numpy/reference/generated/numpy.poly1d.html\n",
    "print('f =\\n',f_orig)"
   ]
  },
  {
   "cell_type": "code",
   "execution_count": 17,
   "metadata": {},
   "outputs": [],
   "source": [
    "x_orig_filled_in = np.linspace(0, 10000, 50) # https://docs.scipy.org/doc/numpy/reference/generated/numpy.linspace.html\n",
    "y_orig_filled_in = f_orig(x_orig_filled_in)"
   ]
  },
  {
   "cell_type": "code",
   "execution_count": 18,
   "metadata": {},
   "outputs": [
    {
     "data": {
      "image/png": "[encoded data removed]",
      "text/plain": [
       "<Figure size 432x288 with 1 Axes>"
      ]
     },
     "metadata": {
      "needs_background": "light"
     },
     "output_type": "display_data"
    }
   ],
   "source": [
    "_=plt.plot(x_orig,y_orig,'o', x_orig_filled_in, y_orig_filled_in)\n",
    "#plt.scatter(x,y)\n",
    "plt.ylabel('time [seconds]')\n",
    "plt.xlabel('array size')\n",
    "plt.title('serial; original')\n",
    "plt.show()"
   ]
  },
  {
   "cell_type": "markdown",
   "metadata": {},
   "source": [
    "# _optimization attempt_: replace `for` loop with `list comprehension`\n",
    "    \n",
    "According to line profiling, 30% of time is spent in a for loop that could be converted to a lambda function. Let's see what the performance enhancement is due to that change"
   ]
  },
  {
   "cell_type": "code",
   "execution_count": 19,
   "metadata": {},
   "outputs": [],
   "source": [
    "# https://github.com/nikdon/pyEntropy\n",
    "def sample_entropy(time_series, sample_length, tolerance=None):\n",
    "    \"\"\"Calculate and return Sample Entropy of the given time series.\n",
    "    Distance between two vectors defined as Euclidean distance and can\n",
    "    be changed in future releases\n",
    "    Args:\n",
    "        time_series: Vector or string of the sample data\n",
    "        sample_length: Number of sequential points of the time series\n",
    "        tolerance: Tolerance (default = 0.1...0.2 * std(time_series))\n",
    "    Returns:\n",
    "        Vector containing Sample Entropy (float)\n",
    "    References:\n",
    "        [1] http://en.wikipedia.org/wiki/Sample_Entropy\n",
    "        [2] http://physionet.incor.usp.br/physiotools/sampen/\n",
    "        [3] Madalena Costa, Ary Goldberger, CK Peng. Multiscale entropy analysis\n",
    "            of biological signals\n",
    "    \"\"\"\n",
    "    if tolerance is None:\n",
    "        tolerance = 0.1 * np.std(time_series)\n",
    "\n",
    "    n = len(time_series)\n",
    "    prev = np.zeros(n)\n",
    "    curr = np.zeros(n)\n",
    "    A = np.zeros((sample_length, 1))  # number of matches for m = [1,...,template_length - 1]\n",
    "    B = np.zeros((sample_length, 1))  # number of matches for m = [1,...,template_length]\n",
    "\n",
    "    for i in range(n - 1):\n",
    "        nj = n - i - 1\n",
    "        ts1 = time_series[i]\n",
    "        for jj in range(nj):\n",
    "            j = jj + i + 1\n",
    "            if abs(time_series[j] - ts1) < tolerance:  # distance between two vectors\n",
    "                curr[jj] = prev[jj] + 1\n",
    "                temp_ts_length = min(sample_length, curr[jj])\n",
    "                for m in range(int(temp_ts_length)):\n",
    "                    A[m] += 1\n",
    "                    if j < n - 1:\n",
    "                        B[m] += 1\n",
    "            else:\n",
    "                curr[jj] = 0\n",
    "#        for j in range(nj):                  # original\n",
    "#            prev[j] = curr[j]\n",
    "        prev = [curr[j] for j in range(nj)]   # list comprehension\n",
    "\n",
    "    N = n * (n - 1) / 2\n",
    "    B = np.vstack(([N], B[:sample_length - 1]))\n",
    "    similarity_ratio = A / B\n",
    "    se = - np.log(similarity_ratio)\n",
    "    se = np.reshape(se, -1)\n",
    "    return se"
   ]
  },
  {
   "cell_type": "code",
   "execution_count": 20,
   "metadata": {},
   "outputs": [
    {
     "data": {
      "text/plain": [
       "Timer unit: 1e-06 s\n",
       "\n",
       "Total time: 0.142205 s\n",
       "File: <ipython-input-19-b22d432b03f8>\n",
       "Function: sample_entropy at line 2\n",
       "\n",
       "Line #      Hits         Time  Per Hit   % Time  Line Contents\n",
       "==============================================================\n",
       "     2                                           def sample_entropy(time_series, sample_length, tolerance=None):\n",
       "     3                                               \"\"\"Calculate and return Sample Entropy of the given time series.\n",
       "     4                                               Distance between two vectors defined as Euclidean distance and can\n",
       "     5                                               be changed in future releases\n",
       "     6                                               Args:\n",
       "     7                                                   time_series: Vector or string of the sample data\n",
       "     8                                                   sample_length: Number of sequential points of the time series\n",
       "     9                                                   tolerance: Tolerance (default = 0.1...0.2 * std(time_series))\n",
       "    10                                               Returns:\n",
       "    11                                                   Vector containing Sample Entropy (float)\n",
       "    12                                               References:\n",
       "    13                                                   [1] http://en.wikipedia.org/wiki/Sample_Entropy\n",
       "    14                                                   [2] http://physionet.incor.usp.br/physiotools/sampen/\n",
       "    15                                                   [3] Madalena Costa, Ary Goldberger, CK Peng. Multiscale entropy analysis\n",
       "    16                                                       of biological signals\n",
       "    17                                               \"\"\"\n",
       "    18         1          5.0      5.0      0.0      if tolerance is None:\n",
       "    19                                                   tolerance = 0.1 * np.std(time_series)\n",
       "    20                                           \n",
       "    21         1          5.0      5.0      0.0      n = len(time_series)\n",
       "    22         1         13.0     13.0      0.0      prev = np.zeros(n)\n",
       "    23         1         10.0     10.0      0.0      curr = np.zeros(n)\n",
       "    24         1          8.0      8.0      0.0      A = np.zeros((sample_length, 1))  # number of matches for m = [1,...,template_length - 1]\n",
       "    25         1          7.0      7.0      0.0      B = np.zeros((sample_length, 1))  # number of matches for m = [1,...,template_length]\n",
       "    26                                           \n",
       "    27       100        509.0      5.1      0.4      for i in range(n - 1):\n",
       "    28        99        347.0      3.5      0.2          nj = n - i - 1\n",
       "    29        99        501.0      5.1      0.4          ts1 = time_series[i]\n",
       "    30      5049      19652.0      3.9     13.8          for jj in range(nj):\n",
       "    31      4950      18919.0      3.8     13.3              j = jj + i + 1\n",
       "    32      4950      38811.0      7.8     27.3              if abs(time_series[j] - ts1) < tolerance:  # distance between two vectors\n",
       "    33       286       3673.0     12.8      2.6                  curr[jj] = prev[jj] + 1\n",
       "    34       286       3646.0     12.7      2.6                  temp_ts_length = min(sample_length, curr[jj])\n",
       "    35       598       5020.0      8.4      3.5                  for m in range(int(temp_ts_length)):\n",
       "    36       312      10339.0     33.1      7.3                      A[m] += 1\n",
       "    37       312       1576.0      5.1      1.1                      if j < n - 1:\n",
       "    38       304       8145.0     26.8      5.7                          B[m] += 1\n",
       "    39                                                       else:\n",
       "    40      4664      24468.0      5.2     17.2                  curr[jj] = 0\n",
       "    41                                           #        for j in range(nj):                  # original\n",
       "    42                                           #            prev[j] = curr[j]\n",
       "    43        99       6313.0     63.8      4.4          prev = [curr[j] for j in range(nj)]   # list comprehension\n",
       "    44                                           \n",
       "    45         1          5.0      5.0      0.0      N = n * (n - 1) / 2\n",
       "    46         1        156.0    156.0      0.1      B = np.vstack(([N], B[:sample_length - 1]))\n",
       "    47         1         18.0     18.0      0.0      similarity_ratio = A / B\n",
       "    48         1         23.0     23.0      0.0      se = - np.log(similarity_ratio)\n",
       "    49         1         34.0     34.0      0.0      se = np.reshape(se, -1)\n",
       "    50         1          2.0      2.0      0.0      return se"
      ]
     },
     "metadata": {},
     "output_type": "display_data"
    }
   ],
   "source": [
    "a = np.random.rand(1, 100)[0]\n",
    "%lprun -f sample_entropy sample_entropy(a, 4, 0.1 * np.std(a))"
   ]
  },
  {
   "cell_type": "code",
   "execution_count": 21,
   "metadata": {},
   "outputs": [
    {
     "name": "stdout",
     "output_type": "stream",
     "text": [
      "100 : 0.04821133613586426 seconds\n",
      "100 : 0.02359175682067871 seconds\n",
      "100 : 0.022885799407958984 seconds\n",
      "1000 : 2.6392126083374023 seconds\n",
      "1000 : 2.6565957069396973 seconds\n",
      "1000 : 3.1825060844421387 seconds\n",
      "2000 : 11.246560335159302 seconds\n",
      "2000 : 12.602243423461914 seconds\n",
      "2000 : 11.628146171569824 seconds\n"
     ]
    }
   ],
   "source": [
    "num_tests=3\n",
    "serial_lambda_timing_dict={}\n",
    "serial_lambda_reslt_dict={}\n",
    "for arry_size in [100,1000,2000]:#,5000,10000]:\n",
    "    reslt_ary=[]\n",
    "    for test_indx in range(num_tests):\n",
    "        a = np.random.rand(1, arry_size)[0]\n",
    "        start_time = time.time()\n",
    "        outp=sample_entropy(a, 4, 0.1 * np.std(a))\n",
    "        elapsed_time = time.time() - start_time\n",
    "        serial_lambda_reslt_dict[(arry_size,test_indx)]=outp\n",
    "        print(arry_size,':',elapsed_time,'seconds')\n",
    "        reslt_ary.append(elapsed_time)\n",
    "    serial_lambda_timing_dict[arry_size]=sum(reslt_ary)/num_tests"
   ]
  },
  {
   "cell_type": "code",
   "execution_count": 22,
   "metadata": {},
   "outputs": [
    {
     "data": {
      "text/plain": [
       "{100: 0.03156296412150065, 1000: 2.8261047999064126, 2000: 11.825649976730347}"
      ]
     },
     "execution_count": 22,
     "metadata": {},
     "output_type": "execute_result"
    }
   ],
   "source": [
    "serial_lambda_timing_dict"
   ]
  },
  {
   "cell_type": "markdown",
   "metadata": {},
   "source": [
    "--> Slightly faster, but not significant"
   ]
  },
  {
   "cell_type": "code",
   "execution_count": 23,
   "metadata": {},
   "outputs": [],
   "source": [
    "x_lambda,y_lambda=zip(*serial_lambda_timing_dict.items())"
   ]
  },
  {
   "cell_type": "code",
   "execution_count": 24,
   "metadata": {},
   "outputs": [
    {
     "name": "stdout",
     "output_type": "stream",
     "text": [
      "f =\n",
      "            2\n",
      "3.102e-06 x - 0.0003076 x + 0.0313\n"
     ]
    }
   ],
   "source": [
    "z_lambda = np.polyfit(x_lambda, y_lambda, 2)\n",
    "f_lambda = np.poly1d(z_lambda)\n",
    "print('f =\\n',f_lambda)\n",
    "x_lambda_filled_in = np.linspace(0, 10000, 50)\n",
    "y_lambda_filled_in = f_lambda(x_lambda_filled_in)"
   ]
  },
  {
   "cell_type": "code",
   "execution_count": 25,
   "metadata": {},
   "outputs": [
    {
     "data": {
      "image/png": "[encoded data removed]",
      "text/plain": [
       "<Figure size 432x288 with 1 Axes>"
      ]
     },
     "metadata": {
      "needs_background": "light"
     },
     "output_type": "display_data"
    }
   ],
   "source": [
    "_=plt.plot(x_lambda,y_lambda,'o', x_lambda_filled_in, y_lambda_filled_in)\n",
    "#plt.scatter(x,y)\n",
    "plt.ylabel('time [seconds]')\n",
    "plt.xlabel('array size')\n",
    "plt.title('serial; lambda')\n",
    "plt.show()"
   ]
  },
  {
   "cell_type": "code",
   "execution_count": 26,
   "metadata": {},
   "outputs": [
    {
     "data": {
      "image/png": "[encoded data removed]",
      "text/plain": [
       "<Figure size 432x288 with 1 Axes>"
      ]
     },
     "metadata": {
      "needs_background": "light"
     },
     "output_type": "display_data"
    }
   ],
   "source": [
    "_=plt.plot(x_lambda,y_lambda,'o', x_lambda_filled_in, y_lambda_filled_in)\n",
    "_=plt.plot(x_orig,y_orig,'o', x_orig_filled_in, y_orig_filled_in)\n",
    "#plt.scatter(x,y)\n",
    "plt.ylabel('time [seconds]')\n",
    "plt.xlabel('array size')\n",
    "plt.title('serial; lambda')\n",
    "plt.show()"
   ]
  },
  {
   "cell_type": "markdown",
   "metadata": {},
   "source": [
    "_Side note; this path is not explored_:<BR>\n",
    "as far as I understand, in order to use joblib, need to change the for loop to a generator:<BR>\n",
    "https://joblib.readthedocs.io/en/latest/parallel.html#parallel<BR>\n",
    "\"The core idea is to write the code to be executed as a generator expression, and convert it to parallel computing"
   ]
  },
  {
   "cell_type": "markdown",
   "metadata": {},
   "source": [
    "## compare output of original and lambda-based"
   ]
  },
  {
   "cell_type": "markdown",
   "metadata": {},
   "source": [
    "--> I don't know how to interpret the outputs, so I don't know whether the comparisons are acceptable"
   ]
  },
  {
   "cell_type": "code",
   "execution_count": 27,
   "metadata": {},
   "outputs": [
    {
     "data": {
      "text/plain": [
       "{(100, 0): array([ 2.87593107,  2.77625845,  2.14006616,  0.69314718]),\n",
       " (100, 1): array([ 2.80336038,  3.19184715,  2.48490665,         inf]),\n",
       " (100, 2): array([ 3.00181132,  2.78911802,         inf,         nan]),\n",
       " (1000, 0): array([ 2.85288505,  2.85008413,  2.84046413,  3.47609869]),\n",
       " (1000, 1): array([ 2.86156545,  2.8351453 ,  2.76661856,  2.45673577]),\n",
       " (1000, 2): array([ 2.86384387,  2.90907251,  2.85737384,  2.54272622]),\n",
       " (2000, 0): array([ 2.85407119,  2.83388266,  2.76199416,  2.68948818]),\n",
       " (2000, 1): array([ 2.86422143,  2.86014857,  2.86627421,  2.97176308]),\n",
       " (2000, 2): array([ 2.86528342,  2.87702961,  2.91394693,  2.66838494])}"
      ]
     },
     "execution_count": 27,
     "metadata": {},
     "output_type": "execute_result"
    }
   ],
   "source": [
    "serial_original_reslt_dict"
   ]
  },
  {
   "cell_type": "code",
   "execution_count": 28,
   "metadata": {},
   "outputs": [
    {
     "data": {
      "text/plain": [
       "{(100, 0): array([ 2.81004937,  2.74253638,  1.55814462,  0.69314718]),\n",
       " (100, 1): array([ 2.9087209 ,  3.02976202,         inf,         nan]),\n",
       " (100, 2): array([ 2.91243148,  3.50028828,  2.07944154,         inf]),\n",
       " (1000, 0): array([ 2.86419486,  2.85476851,  2.69891772,  1.99243016]),\n",
       " (1000, 1): array([ 2.86458109,  2.84921198,  2.81809361,  3.19867312]),\n",
       " (1000, 2): array([ 2.87826516,  2.87715282,  2.85115104,  3.12456515]),\n",
       " (2000, 0): array([ 2.86815026,  2.86621124,  2.8085661 ,  3.19099062]),\n",
       " (2000, 1): array([ 2.87362532,  2.85988542,  2.88666118,  3.11351531]),\n",
       " (2000, 2): array([ 2.87920176,  2.87222943,  2.89956213,  2.9077635 ])}"
      ]
     },
     "execution_count": 28,
     "metadata": {},
     "output_type": "execute_result"
    }
   ],
   "source": [
    "serial_lambda_reslt_dict"
   ]
  },
  {
   "cell_type": "markdown",
   "metadata": {},
   "source": [
    "# optimization attempt: fine-grain concurrency: Numba\n",
    "### Numba = JIT compiler that translates Python and NumPy code into machine code\n",
    "\n",
    "https://numba.pydata.org/numba-doc/dev/user/performance-tips.html\n",
    "\n",
    "https://numba.pydata.org/numba-doc/latest/user/parallel.html\n",
    "https://numba.pydata.org/numba-doc/latest/user/jit.html#parallel-jit-option"
   ]
  },
  {
   "cell_type": "code",
   "execution_count": 29,
   "metadata": {},
   "outputs": [],
   "source": [
    "import numba as nb"
   ]
  },
  {
   "cell_type": "code",
   "execution_count": 30,
   "metadata": {},
   "outputs": [
    {
     "name": "stdout",
     "output_type": "stream",
     "text": [
      "0.38.1\n"
     ]
    }
   ],
   "source": [
    "print(nb.__version__)"
   ]
  },
  {
   "cell_type": "code",
   "execution_count": 31,
   "metadata": {},
   "outputs": [],
   "source": [
    "# https://numba.pydata.org/numba-doc/dev/reference/envvars.html#numba-envvars\n",
    "import os\n",
    "\n",
    "# If set to non-zero, printout of Numba warnings is enabled, otherwise the warnings are suppressed. The warnings can give insight into the compilation process.\n",
    "os.environ[\"NUMBA_WARNINGS\"] = \"1\"\n"
   ]
  },
  {
   "cell_type": "markdown",
   "metadata": {},
   "source": [
    "I recommend playing around with the various arguments to figure out which combination is best\n",
    "\n",
    "https://realpython.com/primer-on-python-decorators/<BR>\n",
    "https://www.geeksforgeeks.org/decorators-in-python/"
   ]
  },
  {
   "cell_type": "code",
   "execution_count": 32,
   "metadata": {},
   "outputs": [],
   "source": [
    "# this is the only modification to the function -- use of a decorator\n",
    "@nb.jit(fastmath=True,error_model='numpy',parallel=True,nopython=True)\n",
    "def sample_entropy(time_series, sample_length, tolerance=None):\n",
    "    \"\"\"Calculate and return Sample Entropy of the given time series.\n",
    "    Distance between two vectors defined as Euclidean distance and can\n",
    "    be changed in future releases\n",
    "    Args:\n",
    "        time_series: Vector or string of the sample data\n",
    "        sample_length: Number of sequential points of the time series\n",
    "        tolerance: Tolerance (default = 0.1...0.2 * std(time_series))\n",
    "    Returns:\n",
    "        Vector containing Sample Entropy (float)\n",
    "    References:\n",
    "        [1] http://en.wikipedia.org/wiki/Sample_Entropy\n",
    "        [2] http://physionet.incor.usp.br/physiotools/sampen/\n",
    "        [3] Madalena Costa, Ary Goldberger, CK Peng. Multiscale entropy analysis\n",
    "            of biological signals\n",
    "    \"\"\"\n",
    "    if tolerance is None:\n",
    "        tolerance = 0.1 * np.std(time_series)\n",
    "\n",
    "    n = len(time_series)\n",
    "    prev = np.zeros(n)\n",
    "    curr = np.zeros(n)\n",
    "    A = np.zeros((sample_length))  # number of matches for m = [1,...,template_length - 1]\n",
    "    B = np.zeros((sample_length))  # number of matches for m = [1,...,template_length]\n",
    "\n",
    "    for i in range(n - 1):\n",
    "        nj = n - i - 1\n",
    "        ts1 = time_series[i]\n",
    "        for jj in range(nj):\n",
    "            j = jj + i + 1\n",
    "            if abs(time_series[j] - ts1) < tolerance:  # distance between two vectors\n",
    "                curr[jj] = prev[jj] + 1\n",
    "                temp_ts_length = min(sample_length, curr[jj])\n",
    "                for m in range(int(temp_ts_length)):\n",
    "                    A[m] += 1\n",
    "                    if j < n - 1:\n",
    "                        B[m] += 1\n",
    "            else:\n",
    "                curr[jj] = 0\n",
    "        for j in range(nj):\n",
    "            prev[j] = curr[j]\n",
    "\n",
    "    N = n * (n - 1) // 2\n",
    "\n",
    "    B2=np.empty(sample_length)\n",
    "    B2[0]=N\n",
    "    B2[1:]=B[:sample_length - 1]\n",
    "    similarity_ratio = A / B2\n",
    "    se = - np.log(similarity_ratio)\n",
    "    return se"
   ]
  },
  {
   "cell_type": "raw",
   "metadata": {},
   "source": [
    "# https://numba.pydata.org/numba-doc/0.17.0/user/troubleshoot.html#troubleshooting\n",
    "sample_entropy.inspect_types()"
   ]
  },
  {
   "cell_type": "code",
   "execution_count": 33,
   "metadata": {},
   "outputs": [
    {
     "name": "stdout",
     "output_type": "stream",
     "text": [
      "100 : 8.063451290130615 seconds\n",
      "100 : 0.0043010711669921875 seconds\n",
      "100 : 0.003926992416381836 seconds\n",
      "1000 : 0.0073201656341552734 seconds\n",
      "1000 : 0.006922721862792969 seconds\n",
      "1000 : 0.03871631622314453 seconds\n",
      "5000 : 0.06490731239318848 seconds\n",
      "5000 : 0.08184003829956055 seconds\n",
      "5000 : 0.09781551361083984 seconds\n",
      "10000 : 0.34415173530578613 seconds\n",
      "10000 : 0.5292072296142578 seconds\n",
      "10000 : 0.2624332904815674 seconds\n",
      "50000 : 7.044723987579346 seconds\n",
      "50000 : 7.282621622085571 seconds\n",
      "50000 : 7.7911217212677 seconds\n",
      "100000 : 35.770923376083374 seconds\n",
      "100000 : 37.7887237071991 seconds\n",
      "100000 : 51.15878176689148 seconds\n"
     ]
    }
   ],
   "source": [
    "num_tests=3\n",
    "numba_reslt_dict={}\n",
    "for arry_size in [100,1000,5000,10000,50000,100000]:\n",
    "    reslt_ary=[]\n",
    "    for test_indx in range(num_tests):\n",
    "        a = np.random.rand(1, arry_size)[0]\n",
    "        start_time = time.time()\n",
    "        sample_entropy(a, 4, 0.1 * np.std(a))\n",
    "        elapsed_time = time.time() - start_time\n",
    "        print(arry_size,':',elapsed_time,'seconds')\n",
    "        reslt_ary.append(elapsed_time)\n",
    "    numba_reslt_dict[arry_size]=sum(reslt_ary)/num_tests"
   ]
  },
  {
   "cell_type": "code",
   "execution_count": 34,
   "metadata": {},
   "outputs": [
    {
     "data": {
      "image/png": "[encoded data removed]",
      "text/plain": [
       "<Figure size 432x288 with 1 Axes>"
      ]
     },
     "metadata": {
      "needs_background": "light"
     },
     "output_type": "display_data"
    }
   ],
   "source": [
    "x_numba,y_numba=zip(*numba_reslt_dict.items())\n",
    "plt.scatter(x_numba,y_numba)\n",
    "plt.ylabel('time [seconds]')\n",
    "plt.xlabel('array size')\n",
    "plt.show()"
   ]
  },
  {
   "cell_type": "code",
   "execution_count": 35,
   "metadata": {},
   "outputs": [],
   "source": [
    "z_numba = np.polyfit(x_numba, y_numba, 2)"
   ]
  },
  {
   "cell_type": "code",
   "execution_count": 36,
   "metadata": {},
   "outputs": [
    {
     "name": "stdout",
     "output_type": "stream",
     "text": [
      "          2\n",
      "5.66e-09 x - 0.0001629 x + 1.285\n"
     ]
    }
   ],
   "source": [
    "f_numba = np.poly1d(z_numba)\n",
    "print(f_numba)"
   ]
  },
  {
   "cell_type": "code",
   "execution_count": 37,
   "metadata": {},
   "outputs": [],
   "source": [
    "x_numba_filled_in = np.linspace(0, 100000, 50)\n",
    "y_numba_filled_in = f_numba(x_numba_filled_in)"
   ]
  },
  {
   "cell_type": "code",
   "execution_count": 38,
   "metadata": {},
   "outputs": [
    {
     "data": {
      "image/png": "[encoded data removed]",
      "text/plain": [
       "<Figure size 432x288 with 1 Axes>"
      ]
     },
     "metadata": {
      "needs_background": "light"
     },
     "output_type": "display_data"
    }
   ],
   "source": [
    "_=plt.plot(x_numba,y_numba,'o', x_numba_filled_in, y_numba_filled_in)\n",
    "_=plt.ylabel('time [seconds]')\n",
    "_=plt.xlabel('array size')"
   ]
  },
  {
   "cell_type": "code",
   "execution_count": 39,
   "metadata": {},
   "outputs": [
    {
     "data": {
      "image/png": "[encoded data removed]",
      "text/plain": [
       "<Figure size 432x288 with 1 Axes>"
      ]
     },
     "metadata": {
      "needs_background": "light"
     },
     "output_type": "display_data"
    }
   ],
   "source": [
    "_=plt.plot(x_numba,y_numba,'o', x_numba_filled_in, y_numba_filled_in)\n",
    "_=plt.plot(x_lambda,y_lambda,'o', x_lambda_filled_in, y_lambda_filled_in)\n",
    "_=plt.plot(x_orig,y_orig,'o', x_orig_filled_in, y_orig_filled_in)\n",
    "_=plt.ylabel('time [seconds]')\n",
    "_=plt.xlabel('array size')"
   ]
  },
  {
   "cell_type": "code",
   "execution_count": 40,
   "metadata": {},
   "outputs": [
    {
     "name": "stdout",
     "output_type": "stream",
     "text": [
      "677710.7990299999 seconds\n"
     ]
    }
   ],
   "source": [
    "x=18000000 # array size\n",
    "print((2.092e-09*x*x) - (5.401e-06*x) + 0.01703,'seconds')"
   ]
  },
  {
   "cell_type": "markdown",
   "metadata": {},
   "source": [
    "677710.7990299999 seconds = 8 days"
   ]
  },
  {
   "cell_type": "code",
   "execution_count": 41,
   "metadata": {},
   "outputs": [
    {
     "name": "stdout",
     "output_type": "stream",
     "text": [
      "1.7377999999999998 seconds\n"
     ]
    }
   ],
   "source": [
    "x=30000 # array size\n",
    "print((2.092e-09*x*x) - (5.401e-06*x) + 0.01703,'seconds')"
   ]
  },
  {
   "cell_type": "code",
   "execution_count": null,
   "metadata": {},
   "outputs": [],
   "source": []
  }
 ],
 "metadata": {
  "kernelspec": {
   "display_name": "Python 3",
   "language": "python",
   "name": "python3"
  },
  "language_info": {
   "codemirror_mode": {
    "name": "ipython",
    "version": 3
   },
   "file_extension": ".py",
   "mimetype": "text/x-python",
   "name": "python",
   "nbconvert_exporter": "python",
   "pygments_lexer": "ipython3",
   "version": "3.6.6"
  }
 },
 "nbformat": 4,
 "nbformat_minor": 2
}
