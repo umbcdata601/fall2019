{
 "cells": [
  {
   "cell_type": "markdown",
   "metadata": {},
   "source": [
    "# detrending time series data that has seasonality"
   ]
  },
  {
   "cell_type": "markdown",
   "metadata": {},
   "source": [
    "In the notebook below I load the data from a .pkl and reduce the original dataframe `df` to a simpler dataframe `df_spring`\n",
    "\n",
    "Your task is to remove the trend from values in the `EAST` column in `df_spring`. The trend is the upward linear slope of data. After removing the trend, you should end up with flat bumpy data. \n",
    "\n",
    "After removing the trend, plot the de-trended data and place the revised values in `df_spring_detrended` with columns `HOUR_End` and `EAST power detrended`"
   ]
  },
  {
   "cell_type": "markdown",
   "metadata": {},
   "source": [
    "### context for task\n",
    "\n",
    "Q: Why is removing the trend useful?<BR>\n",
    "Answer: because follow-on tasks like determining periodicity and noise depend on the data not having an upward or downward slope.\n",
    "    \n",
    "Q: How should we remove the trend?<BR>\n",
    "Answer: First, determine what the trend is. This means fitting the data with a line of best fit. Key phrases for Googling: linear regression, fit a line to data<BR>\n",
    "Second, once you know what the linear fit is, you'll need to subtract something from each data point such that the slope is flat (slope=0) but the bumps are still present. "
   ]
  },
  {
   "cell_type": "markdown",
   "metadata": {},
   "source": [
    "### context for data\n",
    "\n",
    "\"Electric Reliability Council of Texas (ERCOT) manages the flow of electric power to more than 25 million Texas customers -- representing about 90 percent of the state’s electric load.\" (<a href=\"http://www.ercot.com/about\">source</a>)\n",
    "\n",
    "Example report: http://www.ercot.com/content/wcm/lists/143010/2018_Long-Term_Hourly_Peak_Demand_and_Energy_Forecast_Final.pdf\n",
    "\n",
    "Data source:<BR>\n",
    "http://www.ercot.com/gridinfo/load/load_hist/"
   ]
  },
  {
   "cell_type": "code",
   "execution_count": null,
   "metadata": {},
   "outputs": [],
   "source": [
    "import pandas\n",
    "print('pandas',pandas.__version__)\n",
    "import numpy\n",
    "print('numpy',numpy.__version__)\n",
    "import time\n",
    "import matplotlib.pyplot as plt"
   ]
  },
  {
   "cell_type": "code",
   "execution_count": null,
   "metadata": {},
   "outputs": [],
   "source": [
    "start_time=time.time()\n",
    "df=pandas.read_pickle('power_data.pkl')\n",
    "df.reset_index(inplace=True)\n",
    "print(df.shape)\n",
    "print('elapsed:',time.time()-start_time,'seconds')"
   ]
  },
  {
   "cell_type": "raw",
   "metadata": {},
   "source": [
    "df.head()"
   ]
  },
  {
   "cell_type": "markdown",
   "metadata": {},
   "source": [
    "There are 9 columns, one per region of monitoring\n",
    "\n",
    "<img src=\"http://www.ercot.com/content/wcm/landing_pages/88828/Weather_Map.png\" width=\"300\" align='left'>"
   ]
  },
  {
   "cell_type": "markdown",
   "metadata": {},
   "source": [
    "## visualize data"
   ]
  },
  {
   "cell_type": "markdown",
   "metadata": {},
   "source": [
    "use plot_date to see all the data"
   ]
  },
  {
   "cell_type": "code",
   "execution_count": null,
   "metadata": {},
   "outputs": [],
   "source": [
    "plt.plot_date(x=df['Hour_End'],y=df['EAST'],markersize=2);\n",
    "plt.ylabel('power used');\n",
    "plt.xlabel('year');"
   ]
  },
  {
   "cell_type": "markdown",
   "metadata": {},
   "source": [
    "To get a sense of the data contents, zoom in on the first few data points\n",
    "\n",
    "The sampling is once per hour, so to get 5 days we an look at the first 24*5 data points"
   ]
  },
  {
   "cell_type": "code",
   "execution_count": null,
   "metadata": {},
   "outputs": [],
   "source": [
    "max_ct = 24*5\n",
    "plt.plot_date(x=df['Hour_End'][0:max_ct],y=df['EAST'][0:max_ct],markersize=5);\n",
    "plt.xticks(rotation=60);\n",
    "plt.xlabel('time');\n",
    "plt.ylabel('power used');"
   ]
  },
  {
   "cell_type": "markdown",
   "metadata": {},
   "source": [
    "spring to summer"
   ]
  },
  {
   "cell_type": "code",
   "execution_count": null,
   "metadata": {},
   "outputs": [],
   "source": [
    "start_time = 4*30*24\n",
    "end_time = 4*30*24 + start_time\n",
    "\n",
    "df_spring = pandas.concat([df['Hour_End'][start_time:end_time],  df['EAST'][start_time:end_time]], axis=1)\n",
    "df_spring.reset_index(inplace=True)\n",
    "df_spring.drop('index', axis=1, inplace=True)\n",
    "df_spring.head()"
   ]
  },
  {
   "cell_type": "code",
   "execution_count": null,
   "metadata": {},
   "outputs": [],
   "source": [
    "df_spring.dtypes"
   ]
  },
  {
   "cell_type": "code",
   "execution_count": null,
   "metadata": {},
   "outputs": [],
   "source": [
    "plt.plot_date(x=df_spring['Hour_End'],y=df_spring['EAST'],markersize=3);\n",
    "plt.xticks(rotation=60);\n",
    "plt.xlabel('time');\n",
    "plt.ylabel('power used');"
   ]
  },
  {
   "cell_type": "markdown",
   "metadata": {},
   "source": [
    "# detrend 'EAST' in df_spring to get df_spring_detrended"
   ]
  },
  {
   "cell_type": "code",
   "execution_count": null,
   "metadata": {},
   "outputs": [],
   "source": []
  },
  {
   "cell_type": "code",
   "execution_count": null,
   "metadata": {},
   "outputs": [],
   "source": []
  },
  {
   "cell_type": "code",
   "execution_count": null,
   "metadata": {},
   "outputs": [],
   "source": []
  },
  {
   "cell_type": "code",
   "execution_count": null,
   "metadata": {},
   "outputs": [],
   "source": []
  },
  {
   "cell_type": "code",
   "execution_count": null,
   "metadata": {},
   "outputs": [],
   "source": []
  },
  {
   "cell_type": "code",
   "execution_count": 13,
   "metadata": {},
   "outputs": [
    {
     "data": {
      "text/html": [
       "<div>\n",
       "<style scoped>\n",
       "    .dataframe tbody tr th:only-of-type {\n",
       "        vertical-align: middle;\n",
       "    }\n",
       "\n",
       "    .dataframe tbody tr th {\n",
       "        vertical-align: top;\n",
       "    }\n",
       "\n",
       "    .dataframe thead th {\n",
       "        text-align: right;\n",
       "    }\n",
       "</style>\n",
       "<table border=\"1\" class=\"dataframe\">\n",
       "  <thead>\n",
       "    <tr style=\"text-align: right;\">\n",
       "      <th></th>\n",
       "      <th>Hour_End</th>\n",
       "      <th>EAST power detrended</th>\n",
       "    </tr>\n",
       "  </thead>\n",
       "  <tbody>\n",
       "    <tr>\n",
       "      <th>0</th>\n",
       "      <td>2006-05-01 01:59:59.997</td>\n",
       "      <td>-406.579046</td>\n",
       "    </tr>\n",
       "    <tr>\n",
       "      <th>1</th>\n",
       "      <td>2006-05-01 03:00:00.000</td>\n",
       "      <td>-467.764914</td>\n",
       "    </tr>\n",
       "    <tr>\n",
       "      <th>2</th>\n",
       "      <td>2006-05-01 04:00:00.003</td>\n",
       "      <td>-477.911647</td>\n",
       "    </tr>\n",
       "    <tr>\n",
       "      <th>3</th>\n",
       "      <td>2006-05-01 04:59:59.997</td>\n",
       "      <td>-464.769021</td>\n",
       "    </tr>\n",
       "    <tr>\n",
       "      <th>4</th>\n",
       "      <td>2006-05-01 06:00:00.000</td>\n",
       "      <td>-416.944569</td>\n",
       "    </tr>\n",
       "  </tbody>\n",
       "</table>\n",
       "</div>"
      ],
      "text/plain": [
       "                 Hour_End  EAST power detrended\n",
       "0 2006-05-01 01:59:59.997           -406.579046\n",
       "1 2006-05-01 03:00:00.000           -467.764914\n",
       "2 2006-05-01 04:00:00.003           -477.911647\n",
       "3 2006-05-01 04:59:59.997           -464.769021\n",
       "4 2006-05-01 06:00:00.000           -416.944569"
      ]
     },
     "execution_count": 13,
     "metadata": {},
     "output_type": "execute_result"
    }
   ],
   "source": [
    "df_spring_detrended.head()"
   ]
  },
  {
   "cell_type": "markdown",
   "metadata": {},
   "source": [
    "# optional challenge 1: remove daily oscillations"
   ]
  },
  {
   "cell_type": "markdown",
   "metadata": {},
   "source": [
    "https://machinelearningmastery.com/time-series-seasonality-with-python/"
   ]
  },
  {
   "cell_type": "code",
   "execution_count": 14,
   "metadata": {},
   "outputs": [
    {
     "data": {
      "image/png": "[encoded data removed]",
      "text/plain": [
       "<Figure size 432x288 with 1 Axes>"
      ]
     },
     "metadata": {
      "needs_background": "light"
     },
     "output_type": "display_data"
    }
   ],
   "source": [
    "max_ct = 18*25\n",
    "plt.plot_date(x=df_spring_detrended['Hour_End'][0:max_ct],\n",
    "              y=df_spring_detrended['EAST power detrended'][0:max_ct],markersize=5);\n",
    "plt.xticks(rotation=60);\n",
    "plt.xlabel('time');\n",
    "plt.ylabel('power used');"
   ]
  },
  {
   "cell_type": "code",
   "execution_count": null,
   "metadata": {},
   "outputs": [],
   "source": []
  },
  {
   "cell_type": "code",
   "execution_count": null,
   "metadata": {},
   "outputs": [],
   "source": []
  },
  {
   "cell_type": "code",
   "execution_count": null,
   "metadata": {},
   "outputs": [],
   "source": []
  },
  {
   "cell_type": "markdown",
   "metadata": {},
   "source": [
    "# optional challenge 2: remove weekly oscillations"
   ]
  },
  {
   "cell_type": "code",
   "execution_count": 15,
   "metadata": {},
   "outputs": [
    {
     "data": {
      "image/png": "[encoded data removed]",
      "text/plain": [
       "<Figure size 432x288 with 1 Axes>"
      ]
     },
     "metadata": {
      "needs_background": "light"
     },
     "output_type": "display_data"
    }
   ],
   "source": [
    "max_ct = 18*25\n",
    "plt.plot_date(x=df_spring['Hour_End'][0:max_ct],y=df_spring['EAST'][0:max_ct],markersize=5);\n",
    "plt.xticks(rotation=60);\n",
    "plt.xlabel('time');\n",
    "plt.ylabel('power used');"
   ]
  },
  {
   "cell_type": "code",
   "execution_count": null,
   "metadata": {},
   "outputs": [],
   "source": []
  },
  {
   "cell_type": "code",
   "execution_count": null,
   "metadata": {},
   "outputs": [],
   "source": []
  },
  {
   "cell_type": "code",
   "execution_count": null,
   "metadata": {},
   "outputs": [],
   "source": []
  },
  {
   "cell_type": "code",
   "execution_count": null,
   "metadata": {},
   "outputs": [],
   "source": []
  },
  {
   "cell_type": "code",
   "execution_count": null,
   "metadata": {},
   "outputs": [],
   "source": []
  },
  {
   "cell_type": "code",
   "execution_count": null,
   "metadata": {},
   "outputs": [],
   "source": []
  },
  {
   "cell_type": "code",
   "execution_count": null,
   "metadata": {},
   "outputs": [],
   "source": []
  },
  {
   "cell_type": "code",
   "execution_count": null,
   "metadata": {},
   "outputs": [],
   "source": []
  },
  {
   "cell_type": "markdown",
   "metadata": {},
   "source": [
    "When you complete this notebook, return to the main room in Blackboard Collaborate\n",
    "\n",
    "<BR>\n",
    "\n",
    "<img src=\"https://i.imgur.com/lb2HlD9.png\">"
   ]
  },
  {
   "cell_type": "code",
   "execution_count": null,
   "metadata": {},
   "outputs": [],
   "source": []
  }
 ],
 "metadata": {
  "kernelspec": {
   "display_name": "Python 3",
   "language": "python",
   "name": "python3"
  },
  "language_info": {
   "codemirror_mode": {
    "name": "ipython",
    "version": 3
   },
   "file_extension": ".py",
   "mimetype": "text/x-python",
   "name": "python",
   "nbconvert_exporter": "python",
   "pygments_lexer": "ipython3",
   "version": "3.6.6"
  }
 },
 "nbformat": 4,
 "nbformat_minor": 2
}
