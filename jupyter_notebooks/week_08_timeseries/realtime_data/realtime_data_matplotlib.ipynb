{
 "cells": [
  {
   "cell_type": "code",
   "execution_count": null,
   "metadata": {},
   "outputs": [],
   "source": []
  },
  {
   "cell_type": "markdown",
   "metadata": {},
   "source": [
    "https://matplotlib.org/gallery/specialty_plots/system_monitor.html"
   ]
  },
  {
   "cell_type": "code",
   "execution_count": 65,
   "metadata": {},
   "outputs": [],
   "source": [
    "import time\n",
    "import matplotlib.pyplot as plt\n",
    "import numpy as np"
   ]
  },
  {
   "cell_type": "code",
   "execution_count": 66,
   "metadata": {},
   "outputs": [],
   "source": [
    "def get_memory(t):\n",
    "    \"Simulate a function that returns system memory\"\n",
    "    return 100 * (0.5 + 0.5 * np.sin(0.5 * np.pi * t))\n",
    "\n",
    "\n",
    "def get_cpu(t):\n",
    "    \"Simulate a function that returns cpu usage\"\n",
    "    return 100 * (0.5 + 0.5 * np.sin(0.2 * np.pi * (t - 0.25)))\n",
    "\n",
    "\n",
    "def get_net(t):\n",
    "    \"Simulate a function that returns network bandwidth\"\n",
    "    return 100 * (0.5 + 0.5 * np.sin(0.7 * np.pi * (t - 0.1)))\n",
    "\n",
    "\n",
    "def get_stats(t):\n",
    "    return get_memory(t), get_cpu(t), get_net(t)"
   ]
  },
  {
   "cell_type": "code",
   "execution_count": 69,
   "metadata": {},
   "outputs": [
    {
     "data": {
      "image/png": "[encoded data removed]",
      "text/plain": [
       "<Figure size 432x288 with 1 Axes>"
      ]
     },
     "metadata": {
      "needs_background": "light"
     },
     "output_type": "display_data"
    },
    {
     "data": {
      "image/png": "[encoded data removed]",
      "text/plain": [
       "<Figure size 432x288 with 1 Axes>"
      ]
     },
     "metadata": {
      "needs_background": "light"
     },
     "output_type": "display_data"
    },
    {
     "name": "stdout",
     "output_type": "stream",
     "text": [
      "5.098505258560181 seconds\n",
      "39.2 frames per second\n"
     ]
    }
   ],
   "source": [
    "fig, ax = plt.subplots()\n",
    "ind = np.arange(1, 4)\n",
    "\n",
    "# show the figure, but do not block\n",
    "plt.show(block=False)\n",
    "\n",
    "pm, pc, pn = plt.bar(ind, get_stats(0))\n",
    "pm.set_facecolor('r')\n",
    "pc.set_facecolor('g')\n",
    "pn.set_facecolor('b')\n",
    "ax.set_xticks(ind)\n",
    "ax.set_xticklabels(['Memory', 'CPU', 'Bandwidth'])\n",
    "ax.set_ylim([0, 100])\n",
    "ax.set_ylabel('Percent usage')\n",
    "ax.set_title('System Monitor')\n",
    "\n",
    "start = time.time()\n",
    "for i in range(200):  # run for a little while\n",
    "    m, c, n = get_stats(i / 10.0)\n",
    "\n",
    "    # update the animated artists\n",
    "    pm.set_height(m)\n",
    "    pc.set_height(c)\n",
    "    pn.set_height(n)\n",
    "\n",
    "    # ask the canvas to re-draw itself the next time it\n",
    "    # has a chance.\n",
    "    # For most of the GUI backends this adds an event to the queue\n",
    "    # of the GUI frameworks event loop.\n",
    "    fig.canvas.draw_idle()\n",
    "    try:\n",
    "        # make sure that the GUI framework has a chance to run its event loop\n",
    "        # and clear any GUI events.  This needs to be in a try/except block\n",
    "        # because the default implementation of this method is to raise\n",
    "        # NotImplementedError\n",
    "        fig.canvas.flush_events()\n",
    "    except NotImplementedError:\n",
    "        pass\n",
    "    plt.show()\n",
    "\n",
    "stop = time.time()\n",
    "print(stop-start,'seconds')\n",
    "print(\"{fps:.1f} frames per second\".format(fps=200 / (stop - start)))"
   ]
  },
  {
   "cell_type": "code",
   "execution_count": null,
   "metadata": {},
   "outputs": [],
   "source": [
    "HTML(anim.to_jshtml())\n"
   ]
  }
 ],
 "metadata": {
  "kernelspec": {
   "display_name": "Python 3",
   "language": "python",
   "name": "python3"
  },
  "language_info": {
   "codemirror_mode": {
    "name": "ipython",
    "version": 3
   },
   "file_extension": ".py",
   "mimetype": "text/x-python",
   "name": "python",
   "nbconvert_exporter": "python",
   "pygments_lexer": "ipython3",
   "version": "3.6.7"
  }
 },
 "nbformat": 4,
 "nbformat_minor": 2
}
