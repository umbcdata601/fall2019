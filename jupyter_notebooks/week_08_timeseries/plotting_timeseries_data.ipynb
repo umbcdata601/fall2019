{
 "cells": [
  {
   "cell_type": "markdown",
   "metadata": {},
   "source": [
    "to create numerical time series data, I recorded values from my computer"
   ]
  },
  {
   "cell_type": "markdown",
   "metadata": {},
   "source": [
    "# load data"
   ]
  },
  {
   "cell_type": "code",
   "execution_count": 1,
   "metadata": {},
   "outputs": [],
   "source": [
    "import pandas\n",
    "import pickle\n",
    "import pytz\n",
    "import matplotlib.pyplot as plt\n",
    "import time\n",
    "import datetime"
   ]
  },
  {
   "cell_type": "code",
   "execution_count": 2,
   "metadata": {},
   "outputs": [],
   "source": [
    "with open(\"host_streaming_stats/list_of_df_other_notebooks_1553432207.5549905.pkl\",'rb') as handl:\n",
    "    lst_of_df = pickle.load(handl)"
   ]
  },
  {
   "cell_type": "code",
   "execution_count": 5,
   "metadata": {},
   "outputs": [
    {
     "data": {
      "text/plain": [
       "list"
      ]
     },
     "execution_count": 5,
     "metadata": {},
     "output_type": "execute_result"
    }
   ],
   "source": [
    "type(lst_of_df)"
   ]
  },
  {
   "cell_type": "code",
   "execution_count": 3,
   "metadata": {},
   "outputs": [
    {
     "data": {
      "text/plain": [
       "4"
      ]
     },
     "execution_count": 3,
     "metadata": {},
     "output_type": "execute_result"
    }
   ],
   "source": [
    "len(lst_of_df)"
   ]
  },
  {
   "cell_type": "code",
   "execution_count": 6,
   "metadata": {},
   "outputs": [
    {
     "data": {
      "text/plain": [
       "dict"
      ]
     },
     "execution_count": 6,
     "metadata": {},
     "output_type": "execute_result"
    }
   ],
   "source": [
    "type(lst_of_df[0])"
   ]
  },
  {
   "cell_type": "code",
   "execution_count": 4,
   "metadata": {},
   "outputs": [
    {
     "data": {
      "text/plain": [
       "dict_keys(['id', 'path', 'name', 'type', 'kernel', 'notebook', 'pid', 'df'])"
      ]
     },
     "execution_count": 4,
     "metadata": {},
     "output_type": "execute_result"
    }
   ],
   "source": [
    "lst_of_df[0].keys()"
   ]
  },
  {
   "cell_type": "code",
   "execution_count": 7,
   "metadata": {},
   "outputs": [],
   "source": [
    "df = lst_of_df[0]['df']"
   ]
  },
  {
   "cell_type": "code",
   "execution_count": 8,
   "metadata": {},
   "outputs": [
    {
     "data": {
      "text/plain": [
       "(600, 328)"
      ]
     },
     "execution_count": 8,
     "metadata": {},
     "output_type": "execute_result"
    }
   ],
   "source": [
    "df.shape"
   ]
  },
  {
   "cell_type": "code",
   "execution_count": 10,
   "metadata": {},
   "outputs": [
    {
     "data": {
      "text/plain": [
       "Index(['CPU 1 times guest', 'CPU 1 times guest_nice', 'CPU 1 times idle',\n",
       "       'CPU 1 times iowait', 'CPU 1 times irq', 'CPU 1 times nice',\n",
       "       'CPU 1 times softirq', 'CPU 1 times steal', 'CPU 1 times system',\n",
       "       'CPU 1 times user',\n",
       "       ...\n",
       "       'system virtual memory buffers', 'system virtual memory cached',\n",
       "       'system virtual memory free', 'system virtual memory inactive',\n",
       "       'system virtual memory percent', 'system virtual memory shared',\n",
       "       'system virtual memory slab', 'system virtual memory total',\n",
       "       'system virtual memory used', 'time in unix seconds'],\n",
       "      dtype='object', length=328)"
      ]
     },
     "execution_count": 10,
     "metadata": {},
     "output_type": "execute_result"
    }
   ],
   "source": [
    "df.columns"
   ]
  },
  {
   "cell_type": "code",
   "execution_count": 9,
   "metadata": {},
   "outputs": [
    {
     "data": {
      "text/html": [
       "<div>\n",
       "<style scoped>\n",
       "    .dataframe tbody tr th:only-of-type {\n",
       "        vertical-align: middle;\n",
       "    }\n",
       "\n",
       "    .dataframe tbody tr th {\n",
       "        vertical-align: top;\n",
       "    }\n",
       "\n",
       "    .dataframe thead th {\n",
       "        text-align: right;\n",
       "    }\n",
       "</style>\n",
       "<table border=\"1\" class=\"dataframe\">\n",
       "  <thead>\n",
       "    <tr style=\"text-align: right;\">\n",
       "      <th></th>\n",
       "      <th>CPU 1 times guest</th>\n",
       "      <th>CPU 1 times guest_nice</th>\n",
       "      <th>CPU 1 times idle</th>\n",
       "      <th>CPU 1 times iowait</th>\n",
       "      <th>CPU 1 times irq</th>\n",
       "      <th>CPU 1 times nice</th>\n",
       "      <th>CPU 1 times softirq</th>\n",
       "      <th>CPU 1 times steal</th>\n",
       "      <th>CPU 1 times system</th>\n",
       "      <th>CPU 1 times user</th>\n",
       "      <th>...</th>\n",
       "      <th>system virtual memory buffers</th>\n",
       "      <th>system virtual memory cached</th>\n",
       "      <th>system virtual memory free</th>\n",
       "      <th>system virtual memory inactive</th>\n",
       "      <th>system virtual memory percent</th>\n",
       "      <th>system virtual memory shared</th>\n",
       "      <th>system virtual memory slab</th>\n",
       "      <th>system virtual memory total</th>\n",
       "      <th>system virtual memory used</th>\n",
       "      <th>time in unix seconds</th>\n",
       "    </tr>\n",
       "  </thead>\n",
       "  <tbody>\n",
       "    <tr>\n",
       "      <th>0</th>\n",
       "      <td>0.0</td>\n",
       "      <td>0.0</td>\n",
       "      <td>62.8</td>\n",
       "      <td>0.6</td>\n",
       "      <td>0.0</td>\n",
       "      <td>0.0</td>\n",
       "      <td>0.0</td>\n",
       "      <td>0.0</td>\n",
       "      <td>12.8</td>\n",
       "      <td>23.8</td>\n",
       "      <td>...</td>\n",
       "      <td>17334272</td>\n",
       "      <td>150708224</td>\n",
       "      <td>1696976896</td>\n",
       "      <td>129146880</td>\n",
       "      <td>18.0</td>\n",
       "      <td>4096</td>\n",
       "      <td>44695552</td>\n",
       "      <td>2096164864</td>\n",
       "      <td>231145472</td>\n",
       "      <td>1.553432e+09</td>\n",
       "    </tr>\n",
       "    <tr>\n",
       "      <th>1</th>\n",
       "      <td>0.0</td>\n",
       "      <td>0.0</td>\n",
       "      <td>97.1</td>\n",
       "      <td>0.0</td>\n",
       "      <td>0.0</td>\n",
       "      <td>0.0</td>\n",
       "      <td>0.0</td>\n",
       "      <td>0.0</td>\n",
       "      <td>1.0</td>\n",
       "      <td>2.0</td>\n",
       "      <td>...</td>\n",
       "      <td>17346560</td>\n",
       "      <td>150716416</td>\n",
       "      <td>1696976896</td>\n",
       "      <td>129155072</td>\n",
       "      <td>18.0</td>\n",
       "      <td>4096</td>\n",
       "      <td>44732416</td>\n",
       "      <td>2096164864</td>\n",
       "      <td>231124992</td>\n",
       "      <td>1.553432e+09</td>\n",
       "    </tr>\n",
       "    <tr>\n",
       "      <th>2</th>\n",
       "      <td>0.0</td>\n",
       "      <td>0.0</td>\n",
       "      <td>94.3</td>\n",
       "      <td>0.0</td>\n",
       "      <td>0.0</td>\n",
       "      <td>0.0</td>\n",
       "      <td>0.0</td>\n",
       "      <td>0.0</td>\n",
       "      <td>0.9</td>\n",
       "      <td>4.7</td>\n",
       "      <td>...</td>\n",
       "      <td>17346560</td>\n",
       "      <td>150716416</td>\n",
       "      <td>1696976896</td>\n",
       "      <td>129155072</td>\n",
       "      <td>18.0</td>\n",
       "      <td>4096</td>\n",
       "      <td>44732416</td>\n",
       "      <td>2096164864</td>\n",
       "      <td>231124992</td>\n",
       "      <td>1.553432e+09</td>\n",
       "    </tr>\n",
       "    <tr>\n",
       "      <th>3</th>\n",
       "      <td>0.0</td>\n",
       "      <td>0.0</td>\n",
       "      <td>96.1</td>\n",
       "      <td>0.0</td>\n",
       "      <td>0.0</td>\n",
       "      <td>0.0</td>\n",
       "      <td>0.0</td>\n",
       "      <td>0.0</td>\n",
       "      <td>1.0</td>\n",
       "      <td>2.9</td>\n",
       "      <td>...</td>\n",
       "      <td>17346560</td>\n",
       "      <td>150712320</td>\n",
       "      <td>1697017856</td>\n",
       "      <td>129155072</td>\n",
       "      <td>18.0</td>\n",
       "      <td>4096</td>\n",
       "      <td>44658688</td>\n",
       "      <td>2096164864</td>\n",
       "      <td>231088128</td>\n",
       "      <td>1.553432e+09</td>\n",
       "    </tr>\n",
       "    <tr>\n",
       "      <th>4</th>\n",
       "      <td>0.0</td>\n",
       "      <td>0.0</td>\n",
       "      <td>96.2</td>\n",
       "      <td>0.0</td>\n",
       "      <td>0.0</td>\n",
       "      <td>0.0</td>\n",
       "      <td>0.0</td>\n",
       "      <td>0.0</td>\n",
       "      <td>1.0</td>\n",
       "      <td>2.9</td>\n",
       "      <td>...</td>\n",
       "      <td>17346560</td>\n",
       "      <td>150708224</td>\n",
       "      <td>1696890880</td>\n",
       "      <td>129155072</td>\n",
       "      <td>18.0</td>\n",
       "      <td>4096</td>\n",
       "      <td>44654592</td>\n",
       "      <td>2096164864</td>\n",
       "      <td>231219200</td>\n",
       "      <td>1.553432e+09</td>\n",
       "    </tr>\n",
       "  </tbody>\n",
       "</table>\n",
       "<p>5 rows × 328 columns</p>\n",
       "</div>"
      ],
      "text/plain": [
       "   CPU 1 times guest  CPU 1 times guest_nice  CPU 1 times idle  \\\n",
       "0                0.0                     0.0              62.8   \n",
       "1                0.0                     0.0              97.1   \n",
       "2                0.0                     0.0              94.3   \n",
       "3                0.0                     0.0              96.1   \n",
       "4                0.0                     0.0              96.2   \n",
       "\n",
       "   CPU 1 times iowait  CPU 1 times irq  CPU 1 times nice  CPU 1 times softirq  \\\n",
       "0                 0.6              0.0               0.0                  0.0   \n",
       "1                 0.0              0.0               0.0                  0.0   \n",
       "2                 0.0              0.0               0.0                  0.0   \n",
       "3                 0.0              0.0               0.0                  0.0   \n",
       "4                 0.0              0.0               0.0                  0.0   \n",
       "\n",
       "   CPU 1 times steal  CPU 1 times system  CPU 1 times user  \\\n",
       "0                0.0                12.8              23.8   \n",
       "1                0.0                 1.0               2.0   \n",
       "2                0.0                 0.9               4.7   \n",
       "3                0.0                 1.0               2.9   \n",
       "4                0.0                 1.0               2.9   \n",
       "\n",
       "           ...           system virtual memory buffers  \\\n",
       "0          ...                                17334272   \n",
       "1          ...                                17346560   \n",
       "2          ...                                17346560   \n",
       "3          ...                                17346560   \n",
       "4          ...                                17346560   \n",
       "\n",
       "   system virtual memory cached  system virtual memory free  \\\n",
       "0                     150708224                  1696976896   \n",
       "1                     150716416                  1696976896   \n",
       "2                     150716416                  1696976896   \n",
       "3                     150712320                  1697017856   \n",
       "4                     150708224                  1696890880   \n",
       "\n",
       "   system virtual memory inactive  system virtual memory percent  \\\n",
       "0                       129146880                           18.0   \n",
       "1                       129155072                           18.0   \n",
       "2                       129155072                           18.0   \n",
       "3                       129155072                           18.0   \n",
       "4                       129155072                           18.0   \n",
       "\n",
       "   system virtual memory shared  system virtual memory slab  \\\n",
       "0                          4096                    44695552   \n",
       "1                          4096                    44732416   \n",
       "2                          4096                    44732416   \n",
       "3                          4096                    44658688   \n",
       "4                          4096                    44654592   \n",
       "\n",
       "   system virtual memory total  system virtual memory used  \\\n",
       "0                   2096164864                   231145472   \n",
       "1                   2096164864                   231124992   \n",
       "2                   2096164864                   231124992   \n",
       "3                   2096164864                   231088128   \n",
       "4                   2096164864                   231219200   \n",
       "\n",
       "   time in unix seconds  \n",
       "0          1.553432e+09  \n",
       "1          1.553432e+09  \n",
       "2          1.553432e+09  \n",
       "3          1.553432e+09  \n",
       "4          1.553432e+09  \n",
       "\n",
       "[5 rows x 328 columns]"
      ]
     },
     "execution_count": 9,
     "metadata": {},
     "output_type": "execute_result"
    }
   ],
   "source": [
    "df.head()"
   ]
  },
  {
   "cell_type": "markdown",
   "metadata": {},
   "source": [
    "# plot a single column, explore the x-axis label"
   ]
  },
  {
   "cell_type": "markdown",
   "metadata": {},
   "source": [
    "## by default, Pandas uses a line plot"
   ]
  },
  {
   "cell_type": "code",
   "execution_count": 11,
   "metadata": {},
   "outputs": [
    {
     "data": {
      "text/plain": [
       "Text(0.5,0,'time, but integer indices...')"
      ]
     },
     "execution_count": 11,
     "metadata": {},
     "output_type": "execute_result"
    },
    {
     "data": {
      "image/png": "[encoded data removed]",
      "text/plain": [
       "<Figure size 432x288 with 1 Axes>"
      ]
     },
     "metadata": {
      "needs_background": "light"
     },
     "output_type": "display_data"
    }
   ],
   "source": [
    "plt.plot(df['CPU 1 times user']);\n",
    "plt.ylabel('CPU 1 times user')\n",
    "plt.xlabel('time, but integer indices...')"
   ]
  },
  {
   "cell_type": "markdown",
   "metadata": {},
   "source": [
    "## plot a single column as a scatter plot\n",
    "\n",
    "unlike a line plot, scatter requires two inputs. Here we'll use the index of the series as the x axis"
   ]
  },
  {
   "cell_type": "code",
   "execution_count": 12,
   "metadata": {},
   "outputs": [
    {
     "data": {
      "text/plain": [
       "0    23.8\n",
       "1     2.0\n",
       "2     4.7\n",
       "3     2.9\n",
       "4     2.9\n",
       "Name: CPU 1 times user, dtype: float64"
      ]
     },
     "execution_count": 12,
     "metadata": {},
     "output_type": "execute_result"
    }
   ],
   "source": [
    "df['CPU 1 times user'].head()"
   ]
  },
  {
   "cell_type": "code",
   "execution_count": 13,
   "metadata": {},
   "outputs": [
    {
     "data": {
      "text/plain": [
       "Text(0,0.5,'CPU 1 user time')"
      ]
     },
     "execution_count": 13,
     "metadata": {},
     "output_type": "execute_result"
    },
    {
     "data": {
      "image/png": "[encoded data removed]",
      "text/plain": [
       "<Figure size 432x288 with 1 Axes>"
      ]
     },
     "metadata": {
      "needs_background": "light"
     },
     "output_type": "display_data"
    }
   ],
   "source": [
    "plt.scatter(x=df['CPU 1 times user'].index,y=df['CPU 1 times user'].values);\n",
    "plt.xlabel('time, but integer indices')\n",
    "plt.ylabel('CPU 1 user time')"
   ]
  },
  {
   "cell_type": "markdown",
   "metadata": {},
   "source": [
    "do any of the columns have the word \"seconds\" present?"
   ]
  },
  {
   "cell_type": "code",
   "execution_count": 14,
   "metadata": {},
   "outputs": [
    {
     "name": "stdout",
     "output_type": "stream",
     "text": [
      "time in unix seconds\n"
     ]
    }
   ],
   "source": [
    "for this_col in list(df.columns):\n",
    "    if ('seconds') in this_col:\n",
    "        print(this_col)"
   ]
  },
  {
   "cell_type": "code",
   "execution_count": 15,
   "metadata": {},
   "outputs": [
    {
     "data": {
      "text/plain": [
       "0    1.553432e+09\n",
       "1    1.553432e+09\n",
       "2    1.553432e+09\n",
       "3    1.553432e+09\n",
       "4    1.553432e+09\n",
       "Name: time in unix seconds, dtype: float64"
      ]
     },
     "execution_count": 15,
     "metadata": {},
     "output_type": "execute_result"
    }
   ],
   "source": [
    "df['time in unix seconds'].head()"
   ]
  },
  {
   "cell_type": "markdown",
   "metadata": {},
   "source": [
    "That's number of seconds since Unix Epoch - https://en.wikipedia.org/wiki/Unix_time\n",
    "\n",
    "We can get the current number of seconds using time:"
   ]
  },
  {
   "cell_type": "code",
   "execution_count": 16,
   "metadata": {},
   "outputs": [
    {
     "data": {
      "text/plain": [
       "1584894334.8370929"
      ]
     },
     "execution_count": 16,
     "metadata": {},
     "output_type": "execute_result"
    }
   ],
   "source": [
    "time.time()"
   ]
  },
  {
   "cell_type": "markdown",
   "metadata": {},
   "source": [
    "Rather than use the index as the x-axis label, let's try the unix time stamp"
   ]
  },
  {
   "cell_type": "code",
   "execution_count": 17,
   "metadata": {},
   "outputs": [
    {
     "data": {
      "text/plain": [
       "Text(0.5,0,'epoch seconds')"
      ]
     },
     "execution_count": 17,
     "metadata": {},
     "output_type": "execute_result"
    },
    {
     "data": {
      "image/png": "[encoded data removed]",
      "text/plain": [
       "<Figure size 432x288 with 1 Axes>"
      ]
     },
     "metadata": {
      "needs_background": "light"
     },
     "output_type": "display_data"
    }
   ],
   "source": [
    "plt.plot(df['time in unix seconds'],df['CPU 1 times user']);\n",
    "plt.ylabel('CPU 1 times user')\n",
    "plt.xlabel('epoch seconds')"
   ]
  },
  {
   "cell_type": "markdown",
   "metadata": {},
   "source": [
    "The timestamp is not much more helpful than the integer index, and perhaps more confusing. \n",
    "\n",
    "We can convert the float to a datetime object:<BR>\n",
    "https://stackoverflow.com/questions/3682748/converting-unix-timestamp-string-to-readable-date"
   ]
  },
  {
   "cell_type": "code",
   "execution_count": 19,
   "metadata": {},
   "outputs": [
    {
     "data": {
      "text/plain": [
       "1553431525.2157638"
      ]
     },
     "execution_count": 19,
     "metadata": {},
     "output_type": "execute_result"
    }
   ],
   "source": [
    "df['time in unix seconds'][0]"
   ]
  },
  {
   "cell_type": "code",
   "execution_count": 18,
   "metadata": {},
   "outputs": [
    {
     "data": {
      "text/plain": [
       "datetime.datetime(2019, 3, 24, 12, 45, 25, 215764)"
      ]
     },
     "execution_count": 18,
     "metadata": {},
     "output_type": "execute_result"
    }
   ],
   "source": [
    "datetime.datetime.utcfromtimestamp(df['time in unix seconds'][0])"
   ]
  },
  {
   "cell_type": "markdown",
   "metadata": {},
   "source": [
    "Apply that same transformation to each element in the column using an unnamed function (hence the lambda keyword)"
   ]
  },
  {
   "cell_type": "code",
   "execution_count": 20,
   "metadata": {},
   "outputs": [
    {
     "data": {
      "text/plain": [
       "0   2019-03-24 12:45:25.215764\n",
       "1   2019-03-24 12:45:26.248713\n",
       "2   2019-03-24 12:45:27.315256\n",
       "3   2019-03-24 12:45:28.361020\n",
       "4   2019-03-24 12:45:29.405532\n",
       "Name: datetime, dtype: datetime64[ns]"
      ]
     },
     "execution_count": 20,
     "metadata": {},
     "output_type": "execute_result"
    }
   ],
   "source": [
    "df['datetime'] = df['time in unix seconds'].apply(\n",
    "    lambda x: datetime.datetime.utcfromtimestamp(x))\n",
    "df['datetime'].head()"
   ]
  },
  {
   "cell_type": "markdown",
   "metadata": {},
   "source": [
    "<BR>\n",
    "Now the dataframe has two equivalent columns with different types - a float and a datetime"
   ]
  },
  {
   "cell_type": "code",
   "execution_count": 21,
   "metadata": {},
   "outputs": [
    {
     "name": "stdout",
     "output_type": "stream",
     "text": [
      "datetime\n",
      "time in unix seconds\n"
     ]
    }
   ],
   "source": [
    "for this_col in list(df.columns):\n",
    "    if ('date' in this_col) or ('second' in this_col):\n",
    "        print(this_col)"
   ]
  },
  {
   "cell_type": "markdown",
   "metadata": {},
   "source": [
    "<BR>\n",
    "Let's view these two columns side-by-side"
   ]
  },
  {
   "cell_type": "code",
   "execution_count": 22,
   "metadata": {},
   "outputs": [
    {
     "data": {
      "text/html": [
       "<div>\n",
       "<style scoped>\n",
       "    .dataframe tbody tr th:only-of-type {\n",
       "        vertical-align: middle;\n",
       "    }\n",
       "\n",
       "    .dataframe tbody tr th {\n",
       "        vertical-align: top;\n",
       "    }\n",
       "\n",
       "    .dataframe thead th {\n",
       "        text-align: right;\n",
       "    }\n",
       "</style>\n",
       "<table border=\"1\" class=\"dataframe\">\n",
       "  <thead>\n",
       "    <tr style=\"text-align: right;\">\n",
       "      <th></th>\n",
       "      <th>datetime</th>\n",
       "      <th>time in unix seconds</th>\n",
       "    </tr>\n",
       "  </thead>\n",
       "  <tbody>\n",
       "    <tr>\n",
       "      <th>0</th>\n",
       "      <td>2019-03-24 12:45:25.215764</td>\n",
       "      <td>1.553432e+09</td>\n",
       "    </tr>\n",
       "    <tr>\n",
       "      <th>1</th>\n",
       "      <td>2019-03-24 12:45:26.248713</td>\n",
       "      <td>1.553432e+09</td>\n",
       "    </tr>\n",
       "    <tr>\n",
       "      <th>2</th>\n",
       "      <td>2019-03-24 12:45:27.315256</td>\n",
       "      <td>1.553432e+09</td>\n",
       "    </tr>\n",
       "    <tr>\n",
       "      <th>3</th>\n",
       "      <td>2019-03-24 12:45:28.361020</td>\n",
       "      <td>1.553432e+09</td>\n",
       "    </tr>\n",
       "    <tr>\n",
       "      <th>4</th>\n",
       "      <td>2019-03-24 12:45:29.405532</td>\n",
       "      <td>1.553432e+09</td>\n",
       "    </tr>\n",
       "  </tbody>\n",
       "</table>\n",
       "</div>"
      ],
      "text/plain": [
       "                    datetime  time in unix seconds\n",
       "0 2019-03-24 12:45:25.215764          1.553432e+09\n",
       "1 2019-03-24 12:45:26.248713          1.553432e+09\n",
       "2 2019-03-24 12:45:27.315256          1.553432e+09\n",
       "3 2019-03-24 12:45:28.361020          1.553432e+09\n",
       "4 2019-03-24 12:45:29.405532          1.553432e+09"
      ]
     },
     "execution_count": 22,
     "metadata": {},
     "output_type": "execute_result"
    }
   ],
   "source": [
    "df[['datetime','time in unix seconds']].head()"
   ]
  },
  {
   "cell_type": "markdown",
   "metadata": {},
   "source": [
    "Revisit our previous visualization, but using the datetime object for the x-axis"
   ]
  },
  {
   "cell_type": "code",
   "execution_count": 23,
   "metadata": {},
   "outputs": [
    {
     "data": {
      "text/plain": [
       "Text(0.5,0,'date and time')"
      ]
     },
     "execution_count": 23,
     "metadata": {},
     "output_type": "execute_result"
    },
    {
     "data": {
      "image/png": "[encoded data removed]",
      "text/plain": [
       "<Figure size 432x288 with 1 Axes>"
      ]
     },
     "metadata": {
      "needs_background": "light"
     },
     "output_type": "display_data"
    }
   ],
   "source": [
    "plt.plot(df['datetime'],df['CPU 1 times user']);\n",
    "plt.ylabel('CPU 1 times user')\n",
    "plt.xlabel('date and time')"
   ]
  },
  {
   "cell_type": "markdown",
   "metadata": {},
   "source": [
    "Matlab does some cleanup of the x-axis labels, but the labels overlap. \n",
    "\n",
    "One approach to address this is rotating the labels"
   ]
  },
  {
   "cell_type": "code",
   "execution_count": 24,
   "metadata": {},
   "outputs": [
    {
     "data": {
      "text/plain": [
       "Text(0.5,0,'date and time')"
      ]
     },
     "execution_count": 24,
     "metadata": {},
     "output_type": "execute_result"
    },
    {
     "data": {
      "image/png": "[encoded data removed]",
      "text/plain": [
       "<Figure size 432x288 with 1 Axes>"
      ]
     },
     "metadata": {
      "needs_background": "light"
     },
     "output_type": "display_data"
    }
   ],
   "source": [
    "plt.plot(df['datetime'],df['CPU 1 times user']);\n",
    "plt.xticks(rotation=45); # in degrees\n",
    "plt.ylabel('CPU 1 times user')\n",
    "plt.xlabel('date and time')"
   ]
  },
  {
   "cell_type": "markdown",
   "metadata": {},
   "source": [
    "That's more readable"
   ]
  },
  {
   "cell_type": "markdown",
   "metadata": {},
   "source": [
    "# Switch index from integer to timestamp\n",
    "\n",
    "Since we'll need to refer to the datetime for every column, converting the dataframe index from integers to datetime objects is useful\n",
    "\n",
    "By default, the index is a range of integers"
   ]
  },
  {
   "cell_type": "code",
   "execution_count": 25,
   "metadata": {},
   "outputs": [
    {
     "data": {
      "text/plain": [
       "RangeIndex(start=0, stop=600, step=1)"
      ]
     },
     "execution_count": 25,
     "metadata": {},
     "output_type": "execute_result"
    }
   ],
   "source": [
    "df.index"
   ]
  },
  {
   "cell_type": "markdown",
   "metadata": {},
   "source": [
    "To see the values of the dataframe index, convert the .index to a list"
   ]
  },
  {
   "cell_type": "code",
   "execution_count": 26,
   "metadata": {},
   "outputs": [
    {
     "data": {
      "text/plain": [
       "[0, 1, 2, 3, 4, 5, 6, 7, 8, 9]"
      ]
     },
     "execution_count": 26,
     "metadata": {},
     "output_type": "execute_result"
    }
   ],
   "source": [
    "list(df.index)[0:10]"
   ]
  },
  {
   "cell_type": "markdown",
   "metadata": {},
   "source": [
    "we can set the index to be the values in the 'datetime' column<BR>\n",
    "https://stackoverflow.com/questions/42941310/creating-pandas-dataframe-with-datetime-index-and-random-values-in-column"
   ]
  },
  {
   "cell_type": "code",
   "execution_count": 27,
   "metadata": {},
   "outputs": [],
   "source": [
    "df = df.set_index('datetime')"
   ]
  },
  {
   "cell_type": "code",
   "execution_count": 28,
   "metadata": {},
   "outputs": [
    {
     "data": {
      "text/html": [
       "<div>\n",
       "<style scoped>\n",
       "    .dataframe tbody tr th:only-of-type {\n",
       "        vertical-align: middle;\n",
       "    }\n",
       "\n",
       "    .dataframe tbody tr th {\n",
       "        vertical-align: top;\n",
       "    }\n",
       "\n",
       "    .dataframe thead th {\n",
       "        text-align: right;\n",
       "    }\n",
       "</style>\n",
       "<table border=\"1\" class=\"dataframe\">\n",
       "  <thead>\n",
       "    <tr style=\"text-align: right;\">\n",
       "      <th></th>\n",
       "      <th>CPU 1 times guest</th>\n",
       "      <th>CPU 1 times guest_nice</th>\n",
       "      <th>CPU 1 times idle</th>\n",
       "      <th>CPU 1 times iowait</th>\n",
       "      <th>CPU 1 times irq</th>\n",
       "      <th>CPU 1 times nice</th>\n",
       "      <th>CPU 1 times softirq</th>\n",
       "      <th>CPU 1 times steal</th>\n",
       "      <th>CPU 1 times system</th>\n",
       "      <th>CPU 1 times user</th>\n",
       "      <th>...</th>\n",
       "      <th>system virtual memory buffers</th>\n",
       "      <th>system virtual memory cached</th>\n",
       "      <th>system virtual memory free</th>\n",
       "      <th>system virtual memory inactive</th>\n",
       "      <th>system virtual memory percent</th>\n",
       "      <th>system virtual memory shared</th>\n",
       "      <th>system virtual memory slab</th>\n",
       "      <th>system virtual memory total</th>\n",
       "      <th>system virtual memory used</th>\n",
       "      <th>time in unix seconds</th>\n",
       "    </tr>\n",
       "    <tr>\n",
       "      <th>datetime</th>\n",
       "      <th></th>\n",
       "      <th></th>\n",
       "      <th></th>\n",
       "      <th></th>\n",
       "      <th></th>\n",
       "      <th></th>\n",
       "      <th></th>\n",
       "      <th></th>\n",
       "      <th></th>\n",
       "      <th></th>\n",
       "      <th></th>\n",
       "      <th></th>\n",
       "      <th></th>\n",
       "      <th></th>\n",
       "      <th></th>\n",
       "      <th></th>\n",
       "      <th></th>\n",
       "      <th></th>\n",
       "      <th></th>\n",
       "      <th></th>\n",
       "      <th></th>\n",
       "    </tr>\n",
       "  </thead>\n",
       "  <tbody>\n",
       "    <tr>\n",
       "      <th>2019-03-24 12:45:25.215764</th>\n",
       "      <td>0.0</td>\n",
       "      <td>0.0</td>\n",
       "      <td>62.8</td>\n",
       "      <td>0.6</td>\n",
       "      <td>0.0</td>\n",
       "      <td>0.0</td>\n",
       "      <td>0.0</td>\n",
       "      <td>0.0</td>\n",
       "      <td>12.8</td>\n",
       "      <td>23.8</td>\n",
       "      <td>...</td>\n",
       "      <td>17334272</td>\n",
       "      <td>150708224</td>\n",
       "      <td>1696976896</td>\n",
       "      <td>129146880</td>\n",
       "      <td>18.0</td>\n",
       "      <td>4096</td>\n",
       "      <td>44695552</td>\n",
       "      <td>2096164864</td>\n",
       "      <td>231145472</td>\n",
       "      <td>1.553432e+09</td>\n",
       "    </tr>\n",
       "    <tr>\n",
       "      <th>2019-03-24 12:45:26.248713</th>\n",
       "      <td>0.0</td>\n",
       "      <td>0.0</td>\n",
       "      <td>97.1</td>\n",
       "      <td>0.0</td>\n",
       "      <td>0.0</td>\n",
       "      <td>0.0</td>\n",
       "      <td>0.0</td>\n",
       "      <td>0.0</td>\n",
       "      <td>1.0</td>\n",
       "      <td>2.0</td>\n",
       "      <td>...</td>\n",
       "      <td>17346560</td>\n",
       "      <td>150716416</td>\n",
       "      <td>1696976896</td>\n",
       "      <td>129155072</td>\n",
       "      <td>18.0</td>\n",
       "      <td>4096</td>\n",
       "      <td>44732416</td>\n",
       "      <td>2096164864</td>\n",
       "      <td>231124992</td>\n",
       "      <td>1.553432e+09</td>\n",
       "    </tr>\n",
       "    <tr>\n",
       "      <th>2019-03-24 12:45:27.315256</th>\n",
       "      <td>0.0</td>\n",
       "      <td>0.0</td>\n",
       "      <td>94.3</td>\n",
       "      <td>0.0</td>\n",
       "      <td>0.0</td>\n",
       "      <td>0.0</td>\n",
       "      <td>0.0</td>\n",
       "      <td>0.0</td>\n",
       "      <td>0.9</td>\n",
       "      <td>4.7</td>\n",
       "      <td>...</td>\n",
       "      <td>17346560</td>\n",
       "      <td>150716416</td>\n",
       "      <td>1696976896</td>\n",
       "      <td>129155072</td>\n",
       "      <td>18.0</td>\n",
       "      <td>4096</td>\n",
       "      <td>44732416</td>\n",
       "      <td>2096164864</td>\n",
       "      <td>231124992</td>\n",
       "      <td>1.553432e+09</td>\n",
       "    </tr>\n",
       "    <tr>\n",
       "      <th>2019-03-24 12:45:28.361020</th>\n",
       "      <td>0.0</td>\n",
       "      <td>0.0</td>\n",
       "      <td>96.1</td>\n",
       "      <td>0.0</td>\n",
       "      <td>0.0</td>\n",
       "      <td>0.0</td>\n",
       "      <td>0.0</td>\n",
       "      <td>0.0</td>\n",
       "      <td>1.0</td>\n",
       "      <td>2.9</td>\n",
       "      <td>...</td>\n",
       "      <td>17346560</td>\n",
       "      <td>150712320</td>\n",
       "      <td>1697017856</td>\n",
       "      <td>129155072</td>\n",
       "      <td>18.0</td>\n",
       "      <td>4096</td>\n",
       "      <td>44658688</td>\n",
       "      <td>2096164864</td>\n",
       "      <td>231088128</td>\n",
       "      <td>1.553432e+09</td>\n",
       "    </tr>\n",
       "    <tr>\n",
       "      <th>2019-03-24 12:45:29.405532</th>\n",
       "      <td>0.0</td>\n",
       "      <td>0.0</td>\n",
       "      <td>96.2</td>\n",
       "      <td>0.0</td>\n",
       "      <td>0.0</td>\n",
       "      <td>0.0</td>\n",
       "      <td>0.0</td>\n",
       "      <td>0.0</td>\n",
       "      <td>1.0</td>\n",
       "      <td>2.9</td>\n",
       "      <td>...</td>\n",
       "      <td>17346560</td>\n",
       "      <td>150708224</td>\n",
       "      <td>1696890880</td>\n",
       "      <td>129155072</td>\n",
       "      <td>18.0</td>\n",
       "      <td>4096</td>\n",
       "      <td>44654592</td>\n",
       "      <td>2096164864</td>\n",
       "      <td>231219200</td>\n",
       "      <td>1.553432e+09</td>\n",
       "    </tr>\n",
       "  </tbody>\n",
       "</table>\n",
       "<p>5 rows × 327 columns</p>\n",
       "</div>"
      ],
      "text/plain": [
       "                            CPU 1 times guest  CPU 1 times guest_nice  \\\n",
       "datetime                                                                \n",
       "2019-03-24 12:45:25.215764                0.0                     0.0   \n",
       "2019-03-24 12:45:26.248713                0.0                     0.0   \n",
       "2019-03-24 12:45:27.315256                0.0                     0.0   \n",
       "2019-03-24 12:45:28.361020                0.0                     0.0   \n",
       "2019-03-24 12:45:29.405532                0.0                     0.0   \n",
       "\n",
       "                            CPU 1 times idle  CPU 1 times iowait  \\\n",
       "datetime                                                           \n",
       "2019-03-24 12:45:25.215764              62.8                 0.6   \n",
       "2019-03-24 12:45:26.248713              97.1                 0.0   \n",
       "2019-03-24 12:45:27.315256              94.3                 0.0   \n",
       "2019-03-24 12:45:28.361020              96.1                 0.0   \n",
       "2019-03-24 12:45:29.405532              96.2                 0.0   \n",
       "\n",
       "                            CPU 1 times irq  CPU 1 times nice  \\\n",
       "datetime                                                        \n",
       "2019-03-24 12:45:25.215764              0.0               0.0   \n",
       "2019-03-24 12:45:26.248713              0.0               0.0   \n",
       "2019-03-24 12:45:27.315256              0.0               0.0   \n",
       "2019-03-24 12:45:28.361020              0.0               0.0   \n",
       "2019-03-24 12:45:29.405532              0.0               0.0   \n",
       "\n",
       "                            CPU 1 times softirq  CPU 1 times steal  \\\n",
       "datetime                                                             \n",
       "2019-03-24 12:45:25.215764                  0.0                0.0   \n",
       "2019-03-24 12:45:26.248713                  0.0                0.0   \n",
       "2019-03-24 12:45:27.315256                  0.0                0.0   \n",
       "2019-03-24 12:45:28.361020                  0.0                0.0   \n",
       "2019-03-24 12:45:29.405532                  0.0                0.0   \n",
       "\n",
       "                            CPU 1 times system  CPU 1 times user  \\\n",
       "datetime                                                           \n",
       "2019-03-24 12:45:25.215764                12.8              23.8   \n",
       "2019-03-24 12:45:26.248713                 1.0               2.0   \n",
       "2019-03-24 12:45:27.315256                 0.9               4.7   \n",
       "2019-03-24 12:45:28.361020                 1.0               2.9   \n",
       "2019-03-24 12:45:29.405532                 1.0               2.9   \n",
       "\n",
       "                                    ...           \\\n",
       "datetime                            ...            \n",
       "2019-03-24 12:45:25.215764          ...            \n",
       "2019-03-24 12:45:26.248713          ...            \n",
       "2019-03-24 12:45:27.315256          ...            \n",
       "2019-03-24 12:45:28.361020          ...            \n",
       "2019-03-24 12:45:29.405532          ...            \n",
       "\n",
       "                            system virtual memory buffers  \\\n",
       "datetime                                                    \n",
       "2019-03-24 12:45:25.215764                       17334272   \n",
       "2019-03-24 12:45:26.248713                       17346560   \n",
       "2019-03-24 12:45:27.315256                       17346560   \n",
       "2019-03-24 12:45:28.361020                       17346560   \n",
       "2019-03-24 12:45:29.405532                       17346560   \n",
       "\n",
       "                            system virtual memory cached  \\\n",
       "datetime                                                   \n",
       "2019-03-24 12:45:25.215764                     150708224   \n",
       "2019-03-24 12:45:26.248713                     150716416   \n",
       "2019-03-24 12:45:27.315256                     150716416   \n",
       "2019-03-24 12:45:28.361020                     150712320   \n",
       "2019-03-24 12:45:29.405532                     150708224   \n",
       "\n",
       "                            system virtual memory free  \\\n",
       "datetime                                                 \n",
       "2019-03-24 12:45:25.215764                  1696976896   \n",
       "2019-03-24 12:45:26.248713                  1696976896   \n",
       "2019-03-24 12:45:27.315256                  1696976896   \n",
       "2019-03-24 12:45:28.361020                  1697017856   \n",
       "2019-03-24 12:45:29.405532                  1696890880   \n",
       "\n",
       "                            system virtual memory inactive  \\\n",
       "datetime                                                     \n",
       "2019-03-24 12:45:25.215764                       129146880   \n",
       "2019-03-24 12:45:26.248713                       129155072   \n",
       "2019-03-24 12:45:27.315256                       129155072   \n",
       "2019-03-24 12:45:28.361020                       129155072   \n",
       "2019-03-24 12:45:29.405532                       129155072   \n",
       "\n",
       "                            system virtual memory percent  \\\n",
       "datetime                                                    \n",
       "2019-03-24 12:45:25.215764                           18.0   \n",
       "2019-03-24 12:45:26.248713                           18.0   \n",
       "2019-03-24 12:45:27.315256                           18.0   \n",
       "2019-03-24 12:45:28.361020                           18.0   \n",
       "2019-03-24 12:45:29.405532                           18.0   \n",
       "\n",
       "                            system virtual memory shared  \\\n",
       "datetime                                                   \n",
       "2019-03-24 12:45:25.215764                          4096   \n",
       "2019-03-24 12:45:26.248713                          4096   \n",
       "2019-03-24 12:45:27.315256                          4096   \n",
       "2019-03-24 12:45:28.361020                          4096   \n",
       "2019-03-24 12:45:29.405532                          4096   \n",
       "\n",
       "                            system virtual memory slab  \\\n",
       "datetime                                                 \n",
       "2019-03-24 12:45:25.215764                    44695552   \n",
       "2019-03-24 12:45:26.248713                    44732416   \n",
       "2019-03-24 12:45:27.315256                    44732416   \n",
       "2019-03-24 12:45:28.361020                    44658688   \n",
       "2019-03-24 12:45:29.405532                    44654592   \n",
       "\n",
       "                            system virtual memory total  \\\n",
       "datetime                                                  \n",
       "2019-03-24 12:45:25.215764                   2096164864   \n",
       "2019-03-24 12:45:26.248713                   2096164864   \n",
       "2019-03-24 12:45:27.315256                   2096164864   \n",
       "2019-03-24 12:45:28.361020                   2096164864   \n",
       "2019-03-24 12:45:29.405532                   2096164864   \n",
       "\n",
       "                            system virtual memory used  time in unix seconds  \n",
       "datetime                                                                      \n",
       "2019-03-24 12:45:25.215764                   231145472          1.553432e+09  \n",
       "2019-03-24 12:45:26.248713                   231124992          1.553432e+09  \n",
       "2019-03-24 12:45:27.315256                   231124992          1.553432e+09  \n",
       "2019-03-24 12:45:28.361020                   231088128          1.553432e+09  \n",
       "2019-03-24 12:45:29.405532                   231219200          1.553432e+09  \n",
       "\n",
       "[5 rows x 327 columns]"
      ]
     },
     "execution_count": 28,
     "metadata": {},
     "output_type": "execute_result"
    }
   ],
   "source": [
    "df.head()"
   ]
  },
  {
   "cell_type": "code",
   "execution_count": 33,
   "metadata": {},
   "outputs": [
    {
     "data": {
      "image/png": "[encoded data removed]",
      "text/plain": [
       "<Figure size 432x288 with 1 Axes>"
      ]
     },
     "metadata": {
      "needs_background": "light"
     },
     "output_type": "display_data"
    }
   ],
   "source": [
    "plt.scatter(x=df['CPU 1 times user'].index,y=df['CPU 1 times user'].values);\n",
    "plt.xlabel('time')\n",
    "plt.ylabel('CPU 1 user time')\n",
    "_=plt.xlim(min(df['CPU 1 times user'].index),\n",
    "         max(df['CPU 1 times user'].index))"
   ]
  },
  {
   "cell_type": "code",
   "execution_count": null,
   "metadata": {},
   "outputs": [],
   "source": []
  }
 ],
 "metadata": {
  "kernelspec": {
   "display_name": "Python 3",
   "language": "python",
   "name": "python3"
  },
  "language_info": {
   "codemirror_mode": {
    "name": "ipython",
    "version": 3
   },
   "file_extension": ".py",
   "mimetype": "text/x-python",
   "name": "python",
   "nbconvert_exporter": "python",
   "pygments_lexer": "ipython3",
   "version": "3.6.6"
  }
 },
 "nbformat": 4,
 "nbformat_minor": 2
}
