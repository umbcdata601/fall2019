{
 "cells": [
  {
   "cell_type": "code",
   "execution_count": 1,
   "metadata": {},
   "outputs": [
    {
     "name": "stdout",
     "output_type": "stream",
     "text": [
      "pandas 0.23.4\n"
     ]
    }
   ],
   "source": [
    "import pandas\n",
    "print('pandas',pandas.__version__)"
   ]
  },
  {
   "cell_type": "code",
   "execution_count": 2,
   "metadata": {},
   "outputs": [
    {
     "data": {
      "text/html": [
       "<div>\n",
       "<style scoped>\n",
       "    .dataframe tbody tr th:only-of-type {\n",
       "        vertical-align: middle;\n",
       "    }\n",
       "\n",
       "    .dataframe tbody tr th {\n",
       "        vertical-align: top;\n",
       "    }\n",
       "\n",
       "    .dataframe thead th {\n",
       "        text-align: right;\n",
       "    }\n",
       "</style>\n",
       "<table border=\"1\" class=\"dataframe\">\n",
       "  <thead>\n",
       "    <tr style=\"text-align: right;\">\n",
       "      <th></th>\n",
       "      <th>Name</th>\n",
       "      <th>Team</th>\n",
       "      <th>Position</th>\n",
       "      <th>Height(inches)</th>\n",
       "      <th>Weight(lbs)</th>\n",
       "      <th>Age</th>\n",
       "    </tr>\n",
       "  </thead>\n",
       "  <tbody>\n",
       "    <tr>\n",
       "      <th>0</th>\n",
       "      <td>Adam Donachie</td>\n",
       "      <td>BAL</td>\n",
       "      <td>Catcher</td>\n",
       "      <td>74</td>\n",
       "      <td>180.0</td>\n",
       "      <td>22.99</td>\n",
       "    </tr>\n",
       "    <tr>\n",
       "      <th>1</th>\n",
       "      <td>Paul Bako</td>\n",
       "      <td>BAL</td>\n",
       "      <td>Catcher</td>\n",
       "      <td>74</td>\n",
       "      <td>215.0</td>\n",
       "      <td>34.69</td>\n",
       "    </tr>\n",
       "    <tr>\n",
       "      <th>2</th>\n",
       "      <td>Ramon Hernandez</td>\n",
       "      <td>BAL</td>\n",
       "      <td>Catcher</td>\n",
       "      <td>72</td>\n",
       "      <td>210.0</td>\n",
       "      <td>30.78</td>\n",
       "    </tr>\n",
       "    <tr>\n",
       "      <th>3</th>\n",
       "      <td>Kevin Millar</td>\n",
       "      <td>BAL</td>\n",
       "      <td>First Baseman</td>\n",
       "      <td>72</td>\n",
       "      <td>210.0</td>\n",
       "      <td>35.43</td>\n",
       "    </tr>\n",
       "    <tr>\n",
       "      <th>4</th>\n",
       "      <td>Chris Gomez</td>\n",
       "      <td>BAL</td>\n",
       "      <td>First Baseman</td>\n",
       "      <td>73</td>\n",
       "      <td>188.0</td>\n",
       "      <td>35.71</td>\n",
       "    </tr>\n",
       "  </tbody>\n",
       "</table>\n",
       "</div>"
      ],
      "text/plain": [
       "              Name Team       Position  Height(inches)  Weight(lbs)    Age\n",
       "0    Adam Donachie  BAL        Catcher              74        180.0  22.99\n",
       "1        Paul Bako  BAL        Catcher              74        215.0  34.69\n",
       "2  Ramon Hernandez  BAL        Catcher              72        210.0  30.78\n",
       "3     Kevin Millar  BAL  First Baseman              72        210.0  35.43\n",
       "4      Chris Gomez  BAL  First Baseman              73        188.0  35.71"
      ]
     },
     "execution_count": 2,
     "metadata": {},
     "output_type": "execute_result"
    }
   ],
   "source": [
    "df = pandas.read_csv(\"https://people.sc.fsu.edu/~jburkardt/data/csv/mlb_players.csv\", \n",
    "                     skiprows=[1035],\n",
    "                     skipinitialspace=True)\n",
    "df.head()"
   ]
  },
  {
   "cell_type": "markdown",
   "metadata": {},
   "source": [
    "Here's a function that we may use often to explore a dataframe:"
   ]
  },
  {
   "cell_type": "code",
   "execution_count": 3,
   "metadata": {},
   "outputs": [
    {
     "name": "stdout",
     "output_type": "stream",
     "text": [
      "====  Name has 1032 unique entries ====\n",
      "Chris Young        2\n",
      "Tony Pe?a          2\n",
      "David Shafer       1\n",
      "Scott Kazmir       1\n",
      "David Ortiz        1\n",
      "Victor Martinez    1\n",
      "Jeff DaVanon       1\n",
      "Nick Johnson       1\n",
      "Josh Shortslef     1\n",
      "Scott Podsednik    1\n",
      "Name: Name, dtype: int64\n",
      "====  Team has 30 unique entries ====\n",
      "NYM    38\n",
      "ATL    37\n",
      "OAK    37\n",
      "DET    37\n",
      "BOS    36\n",
      "WAS    36\n",
      "PHI    36\n",
      "CHC    36\n",
      "CIN    36\n",
      "BAL    35\n",
      "Name: Team, dtype: int64\n",
      "====  Position has 9 unique entries ====\n",
      "Relief Pitcher       315\n",
      "Starting Pitcher     221\n",
      "Outfielder           194\n",
      "Catcher               76\n",
      "Second Baseman        58\n",
      "First Baseman         55\n",
      "Shortstop             52\n",
      "Third Baseman         45\n",
      "Designated Hitter     18\n",
      "Name: Position, dtype: int64\n",
      "====  Height(inches) has 17 unique entries ====\n",
      "74    175\n",
      "73    167\n",
      "75    160\n",
      "72    152\n",
      "76    103\n",
      "71     89\n",
      "77     57\n",
      "70     52\n",
      "78     27\n",
      "69     19\n",
      "Name: Height(inches), dtype: int64\n",
      "====  Weight(lbs) has 89 unique entries ====\n",
      "200.0    108\n",
      "190.0     97\n",
      "180.0     81\n",
      "210.0     72\n",
      "220.0     72\n",
      "205.0     55\n",
      "185.0     52\n",
      "195.0     48\n",
      "170.0     40\n",
      "215.0     39\n",
      "Name: Weight(lbs), dtype: int64\n",
      "====  Age has 725 unique entries ====\n",
      "24.94    7\n",
      "27.12    6\n",
      "31.28    5\n",
      "24.63    5\n",
      "29.95    4\n",
      "27.56    4\n",
      "24.02    4\n",
      "28.77    4\n",
      "26.77    4\n",
      "25.08    4\n",
      "Name: Age, dtype: int64\n"
     ]
    }
   ],
   "source": [
    "for this_column in df.columns:\n",
    "    print(\"==== \",this_column,\"has\",df[this_column].nunique(),\"unique entries ====\")\n",
    "    print(df[this_column].value_counts().head(10))"
   ]
  },
  {
   "cell_type": "markdown",
   "metadata": {},
   "source": [
    "Rather than copy-pasting it from notebook to notebook, place the code inside a function in a .py file.\n",
    "\n",
    "To show you the contents of the .py file, I'll use \"cat\" command:"
   ]
  },
  {
   "cell_type": "code",
   "execution_count": 3,
   "metadata": {},
   "outputs": [
    {
     "name": "stdout",
     "output_type": "stream",
     "text": [
      "def unique_entries_in_frame(df,count):\n",
      "    for this_column in df.columns:\n",
      "        print(\"==== \",this_column,\"has\",df[this_column].nunique(),\"unique entries ====\")\n",
      "        print(df[this_column].value_counts().head(count))\n",
      "    return"
     ]
    }
   ],
   "source": [
    "!cat myfunctions.py"
   ]
  },
  {
   "cell_type": "markdown",
   "metadata": {},
   "source": [
    "load this function using `%run` cell magic\n",
    "\n",
    "https://ipython.readthedocs.io/en/stable/interactive/magics.html"
   ]
  },
  {
   "cell_type": "code",
   "execution_count": 4,
   "metadata": {},
   "outputs": [],
   "source": [
    "%run myfunctions.py"
   ]
  },
  {
   "cell_type": "markdown",
   "metadata": {},
   "source": [
    "To use the function, I need to know the name of the function and the arguments"
   ]
  },
  {
   "cell_type": "code",
   "execution_count": 5,
   "metadata": {},
   "outputs": [
    {
     "name": "stdout",
     "output_type": "stream",
     "text": [
      "====  Name has 1032 unique entries ====\n",
      "Chris Young      2\n",
      "Tony Pe?a        2\n",
      "Mark DeRosa      1\n",
      "Merkin Valdez    1\n",
      "Sean Tracey      1\n",
      "Name: Name, dtype: int64\n",
      "====  Team has 30 unique entries ====\n",
      "NYM    38\n",
      "ATL    37\n",
      "DET    37\n",
      "OAK    37\n",
      "CIN    36\n",
      "Name: Team, dtype: int64\n",
      "====  Position has 9 unique entries ====\n",
      "Relief Pitcher      315\n",
      "Starting Pitcher    221\n",
      "Outfielder          194\n",
      "Catcher              76\n",
      "Second Baseman       58\n",
      "Name: Position, dtype: int64\n",
      "====  Height(inches) has 17 unique entries ====\n",
      "74    175\n",
      "73    167\n",
      "75    160\n",
      "72    152\n",
      "76    103\n",
      "Name: Height(inches), dtype: int64\n",
      "====  Weight(lbs) has 89 unique entries ====\n",
      "200.0    108\n",
      "190.0     97\n",
      "180.0     81\n",
      "210.0     72\n",
      "220.0     72\n",
      "Name: Weight(lbs), dtype: int64\n",
      "====  Age has 725 unique entries ====\n",
      "24.94    7\n",
      "27.12    6\n",
      "31.28    5\n",
      "24.63    5\n",
      "29.95    4\n",
      "Name: Age, dtype: int64\n"
     ]
    }
   ],
   "source": [
    "unique_entries_in_frame(df,5)"
   ]
  },
  {
   "cell_type": "markdown",
   "metadata": {},
   "source": [
    "Alternatively, we can use `%load` to show the file content\n",
    "\n",
    "https://stackoverflow.com/questions/21034373/how-to-load-edit-run-save-text-files-py-into-an-ipython-notebook-cell"
   ]
  },
  {
   "cell_type": "code",
   "execution_count": 6,
   "metadata": {},
   "outputs": [],
   "source": [
    "# %load myfunctions.py\n",
    "def unique_entries_in_frame(df,count):\n",
    "    for this_column in df.columns:\n",
    "        print(\"==== \",this_column,\"has\",df[this_column].nunique(),\"unique entries ====\")\n",
    "        print(df[this_column].value_counts().head(count))\n",
    "    return"
   ]
  },
  {
   "cell_type": "markdown",
   "metadata": {},
   "source": [
    "The advantage of `%load` is that the source code is part of the notebook, so we don't need to store the .py source with the .ipynb notebook.\n",
    "\n",
    "That is also a disadvantage: if we update the .py source, the change does not impact the code used by the notebook."
   ]
  },
  {
   "cell_type": "code",
   "execution_count": null,
   "metadata": {},
   "outputs": [],
   "source": []
  }
 ],
 "metadata": {
  "kernelspec": {
   "display_name": "Python 3",
   "language": "python",
   "name": "python3"
  },
  "language_info": {
   "codemirror_mode": {
    "name": "ipython",
    "version": 3
   },
   "file_extension": ".py",
   "mimetype": "text/x-python",
   "name": "python",
   "nbconvert_exporter": "python",
   "pygments_lexer": "ipython3",
   "version": "3.6.7"
  }
 },
 "nbformat": 4,
 "nbformat_minor": 2
}
