{
 "cells": [
  {
   "cell_type": "markdown",
   "metadata": {},
   "source": [
    "https://www.bigendiandata.com/2017-04-18-Jupyter_Customer360/"
   ]
  },
  {
   "cell_type": "code",
   "execution_count": 13,
   "metadata": {},
   "outputs": [],
   "source": [
    "# Initialize plotting library and functions for 3D scatter plots \n",
    "from sklearn.datasets import make_blobs\n",
    "from sklearn.datasets import make_gaussian_quantiles\n",
    "from sklearn.datasets import make_classification, make_regression\n",
    "from sklearn.externals import six\n",
    "import pandas as pd\n",
    "import numpy as np\n",
    "import argparse\n",
    "import json\n",
    "import re\n",
    "import os\n",
    "import sys\n",
    "\n",
    "import matplotlib.pyplot as plt\n",
    "from mpl_toolkits.mplot3d import Axes3D\n",
    "%matplotlib inline\n",
    "\n",
    "#import plotly\n",
    "#import plotly.graph_objs as go\n",
    "#plotly.offline.init_notebook_mode()"
   ]
  },
  {
   "cell_type": "code",
   "execution_count": 14,
   "metadata": {},
   "outputs": [],
   "source": [
    "def rename_columns(df, prefix='x'):\n",
    "    \"\"\"\n",
    "    Rename the columns of a dataframe to have X in front of them\n",
    "\n",
    "    :param df: data frame we're operating on\n",
    "    :param prefix: the prefix string\n",
    "    \"\"\"\n",
    "    df = df.copy()\n",
    "    df.columns = [prefix + str(i) for i in df.columns]\n",
    "    return df"
   ]
  },
  {
   "cell_type": "code",
   "execution_count": 15,
   "metadata": {},
   "outputs": [
    {
     "data": {
      "text/html": [
       "<div>\n",
       "<style scoped>\n",
       "    .dataframe tbody tr th:only-of-type {\n",
       "        vertical-align: middle;\n",
       "    }\n",
       "\n",
       "    .dataframe tbody tr th {\n",
       "        vertical-align: top;\n",
       "    }\n",
       "\n",
       "    .dataframe thead th {\n",
       "        text-align: right;\n",
       "    }\n",
       "</style>\n",
       "<table border=\"1\" class=\"dataframe\">\n",
       "  <thead>\n",
       "    <tr style=\"text-align: right;\">\n",
       "      <th></th>\n",
       "      <th>x0</th>\n",
       "      <th>x1</th>\n",
       "      <th>x2</th>\n",
       "      <th>y</th>\n",
       "    </tr>\n",
       "  </thead>\n",
       "  <tbody>\n",
       "    <tr>\n",
       "      <th>0</th>\n",
       "      <td>497.070498</td>\n",
       "      <td>816.428302</td>\n",
       "      <td>-5.018968</td>\n",
       "      <td>2</td>\n",
       "    </tr>\n",
       "    <tr>\n",
       "      <th>1</th>\n",
       "      <td>-228.800288</td>\n",
       "      <td>-460.603207</td>\n",
       "      <td>-2189.561492</td>\n",
       "      <td>0</td>\n",
       "    </tr>\n",
       "    <tr>\n",
       "      <th>2</th>\n",
       "      <td>1983.810361</td>\n",
       "      <td>424.318306</td>\n",
       "      <td>-937.284538</td>\n",
       "      <td>0</td>\n",
       "    </tr>\n",
       "    <tr>\n",
       "      <th>3</th>\n",
       "      <td>-76.891789</td>\n",
       "      <td>525.289301</td>\n",
       "      <td>-1726.620119</td>\n",
       "      <td>0</td>\n",
       "    </tr>\n",
       "    <tr>\n",
       "      <th>4</th>\n",
       "      <td>-1524.318058</td>\n",
       "      <td>-1835.847025</td>\n",
       "      <td>-1219.150439</td>\n",
       "      <td>1</td>\n",
       "    </tr>\n",
       "    <tr>\n",
       "      <th>5</th>\n",
       "      <td>-333.155918</td>\n",
       "      <td>-443.135018</td>\n",
       "      <td>183.989570</td>\n",
       "      <td>1</td>\n",
       "    </tr>\n",
       "    <tr>\n",
       "      <th>6</th>\n",
       "      <td>-279.039485</td>\n",
       "      <td>149.992838</td>\n",
       "      <td>-1803.132043</td>\n",
       "      <td>0</td>\n",
       "    </tr>\n",
       "    <tr>\n",
       "      <th>7</th>\n",
       "      <td>59.730200</td>\n",
       "      <td>653.541592</td>\n",
       "      <td>-1371.200240</td>\n",
       "      <td>0</td>\n",
       "    </tr>\n",
       "    <tr>\n",
       "      <th>8</th>\n",
       "      <td>1939.068697</td>\n",
       "      <td>2257.907108</td>\n",
       "      <td>7.511019</td>\n",
       "      <td>0</td>\n",
       "    </tr>\n",
       "    <tr>\n",
       "      <th>9</th>\n",
       "      <td>-1257.806599</td>\n",
       "      <td>913.610162</td>\n",
       "      <td>-1192.290825</td>\n",
       "      <td>2</td>\n",
       "    </tr>\n",
       "  </tbody>\n",
       "</table>\n",
       "</div>"
      ],
      "text/plain": [
       "            x0           x1           x2  y\n",
       "0   497.070498   816.428302    -5.018968  2\n",
       "1  -228.800288  -460.603207 -2189.561492  0\n",
       "2  1983.810361   424.318306  -937.284538  0\n",
       "3   -76.891789   525.289301 -1726.620119  0\n",
       "4 -1524.318058 -1835.847025 -1219.150439  1\n",
       "5  -333.155918  -443.135018   183.989570  1\n",
       "6  -279.039485   149.992838 -1803.132043  0\n",
       "7    59.730200   653.541592 -1371.200240  0\n",
       "8  1939.068697  2257.907108     7.511019  0\n",
       "9 -1257.806599   913.610162 -1192.290825  2"
      ]
     },
     "execution_count": 15,
     "metadata": {},
     "output_type": "execute_result"
    }
   ],
   "source": [
    "# Create an artificial dataset with 3 clusters for 3 feature columns\n",
    "X, Y = make_classification(n_samples=100, n_classes=3, n_features=3, n_redundant=0, n_informative=3,\n",
    "                             scale=1000, n_clusters_per_class=1)\n",
    "df = pd.DataFrame(X)\n",
    "# rename X columns\n",
    "df = rename_columns(df)\n",
    "# and add the Y\n",
    "df['y'] = Y\n",
    "df.head(10)"
   ]
  },
  {
   "cell_type": "code",
   "execution_count": 16,
   "metadata": {},
   "outputs": [],
   "source": [
    "# Visualize cluster shapes in 3d.\n",
    "\n",
    "cluster1=df.loc[df['y'] == 0]\n",
    "cluster2=df.loc[df['y'] == 1]\n",
    "cluster3=df.loc[df['y'] == 2]\n",
    "\n",
    "scatter1 = dict(\n",
    "    mode = \"markers\",\n",
    "    name = \"Cluster 1\",\n",
    "    type = \"scatter3d\",    \n",
    "    x = cluster1.values[:,0], y = cluster1.values[:,1], z = cluster1.values[:,2],\n",
    "    marker = dict( size=2, color='green')\n",
    ")\n",
    "scatter2 = dict(\n",
    "    mode = \"markers\",\n",
    "    name = \"Cluster 2\",\n",
    "    type = \"scatter3d\",    \n",
    "    x = cluster2.values[:,0], y = cluster2.values[:,1], z = cluster2.values[:,2],\n",
    "    marker = dict( size=2, color='blue')\n",
    ")\n",
    "scatter3 = dict(\n",
    "    mode = \"markers\",\n",
    "    name = \"Cluster 3\",\n",
    "    type = \"scatter3d\",    \n",
    "    x = cluster3.values[:,0], y = cluster3.values[:,1], z = cluster3.values[:,2],\n",
    "    marker = dict( size=2, color='red')\n",
    ")\n",
    "cluster1 = dict(\n",
    "    alphahull = 5,\n",
    "    name = \"Cluster 1\",\n",
    "    opacity = .1,\n",
    "    type = \"mesh3d\",    \n",
    "    x = cluster1.values[:,0], y = cluster1.values[:,1], z = cluster1.values[:,2],\n",
    "    color='green', showscale = True\n",
    ")\n",
    "cluster2 = dict(\n",
    "    alphahull = 5,\n",
    "    name = \"Cluster 2\",\n",
    "    opacity = .1,\n",
    "    type = \"mesh3d\",    \n",
    "    x = cluster2.values[:,0], y = cluster2.values[:,1], z = cluster2.values[:,2],\n",
    "    color='blue', showscale = True\n",
    ")\n",
    "cluster3 = dict(\n",
    "    alphahull = 5,\n",
    "    name = \"Cluster 3\",\n",
    "    opacity = .1,\n",
    "    type = \"mesh3d\",    \n",
    "    x = cluster3.values[:,0], y = cluster3.values[:,1], z = cluster3.values[:,2],\n",
    "    color='red', showscale = True\n",
    ")\n",
    "layout = dict(\n",
    "    title = 'Interactive Cluster Shapes in 3D',\n",
    "    scene = dict(\n",
    "        xaxis = dict( zeroline=True ),\n",
    "        yaxis = dict( zeroline=True ),\n",
    "        zaxis = dict( zeroline=True ),\n",
    "    )\n",
    ")\n"
   ]
  },
  {
   "cell_type": "code",
   "execution_count": 17,
   "metadata": {},
   "outputs": [],
   "source": [
    "fig = dict( data=[scatter1, scatter2, scatter3, cluster1, cluster2, cluster3], layout=layout )"
   ]
  },
  {
   "cell_type": "code",
   "execution_count": 22,
   "metadata": {},
   "outputs": [
    {
     "data": {
      "text/plain": [
       "{'marker': {'color': 'green', 'size': 2},\n",
       " 'mode': 'markers',\n",
       " 'name': 'Cluster 1',\n",
       " 'type': 'scatter3d',\n",
       " 'x': array([-228.80028818, 1983.81036102,  -76.89178944, -279.03948501,\n",
       "          59.73019999, 1939.06869653, 1490.88128383, 1024.35734282,\n",
       "         397.99626658, 1075.08455552,   15.92452236, -911.36358017,\n",
       "        2011.6374725 , 1226.14849378, 1303.93792904, 2441.95999274,\n",
       "        -480.45553401, 3023.91773584,   17.50128002, 2451.19160585,\n",
       "        -540.46990928, 2004.20608436, -170.90969901, 1332.32230427,\n",
       "        1892.6895586 , 1748.4893021 ,   93.57015847, 2541.84701887,\n",
       "        1624.27060189, 3432.98174603, -466.83480367,   64.2318295 ,\n",
       "         958.97254968]),\n",
       " 'y': array([ -460.60320731,   424.3183059 ,   525.28930114,   149.99283781,\n",
       "          653.54159175,  2257.90710763,  1150.08376585,   839.84439536,\n",
       "         1083.92179328,  1781.88401608,  -532.10749634, -1046.48965144,\n",
       "          340.93083287,  1668.07588961,   700.39378404,  2014.06885849,\n",
       "        -1002.7456946 ,  2324.59008635,  1041.47332613,  2380.94795865,\n",
       "          532.74840836,  -260.85134302,   389.25098656,   -37.85117663,\n",
       "         1082.7742926 ,  1409.57794688,  -143.08543346,  1519.2034443 ,\n",
       "         2017.28650913,  2842.50610645,  -179.11609198,   279.3309162 ,\n",
       "         2241.28068105]),\n",
       " 'z': array([-2189.5614919 ,  -937.28453844, -1726.62011877, -1803.13204284,\n",
       "        -1371.20024022,     7.511019  ,  -769.02511561, -1269.19564447,\n",
       "        -1065.50042667,  -585.81728402, -2075.9493025 , -2761.58957914,\n",
       "         -739.86199002,  -683.5742327 ,  -878.55470966,   -96.56768495,\n",
       "        -2789.12856554,   530.23773501, -1272.93485546,   370.92342707,\n",
       "        -1688.48664673, -1427.9168959 , -1806.83356587, -1494.74123708,\n",
       "         -350.36360985,  -470.85871646, -1873.97843573,  -135.79099102,\n",
       "         -431.6696771 ,  1023.31981488, -2175.81209844, -1814.73578507,\n",
       "         -296.69848563])}"
      ]
     },
     "execution_count": 22,
     "metadata": {},
     "output_type": "execute_result"
    }
   ],
   "source": [
    "scatter1"
   ]
  },
  {
   "cell_type": "code",
   "execution_count": 28,
   "metadata": {},
   "outputs": [
    {
     "data": {
      "image/png": "[encoded data removed]",
      "text/plain": [
       "<Figure size 432x288 with 1 Axes>"
      ]
     },
     "metadata": {},
     "output_type": "display_data"
    }
   ],
   "source": [
    "fig = plt.figure()\n",
    "ax = fig.gca(projection='3d')\n",
    "\n",
    "surf = ax.scatter(xs=scatter1['x'],ys=scatter1['y'])"
   ]
  },
  {
   "cell_type": "code",
   "execution_count": 34,
   "metadata": {},
   "outputs": [
    {
     "name": "stdout",
     "output_type": "stream",
     "text": [
      "Object `a` not found.\n"
     ]
    }
   ],
   "source": [
    "a?"
   ]
  },
  {
   "cell_type": "code",
   "execution_count": null,
   "metadata": {},
   "outputs": [],
   "source": []
  }
 ],
 "metadata": {
  "kernelspec": {
   "display_name": "Python 3",
   "language": "python",
   "name": "python3"
  },
  "language_info": {
   "codemirror_mode": {
    "name": "ipython",
    "version": 3
   },
   "file_extension": ".py",
   "mimetype": "text/x-python",
   "name": "python",
   "nbconvert_exporter": "python",
   "pygments_lexer": "ipython3",
   "version": "3.5.1"
  }
 },
 "nbformat": 4,
 "nbformat_minor": 2
}
