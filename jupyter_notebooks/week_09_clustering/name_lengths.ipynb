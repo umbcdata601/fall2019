{
 "cells": [
  {
   "cell_type": "code",
   "execution_count": 1,
   "metadata": {},
   "outputs": [],
   "source": [
    "list_of_students=[\n",
    "\"Shrimanth\",\n",
    "\"Shreya\",\n",
    "\"Shruthi\",\n",
    "\"Vinay\",\n",
    "\"Srinidhi\",\n",
    "\"Vishnu\",\n",
    "\"Pushyami\",\n",
    "\"Rahul\",\n",
    "\"April\",\n",
    "\"Kam\",\n",
    "\"Mrudula\",\n",
    "\"Abhi\",\n",
    "\"Vamshi\",\n",
    "\"Shouray\",\n",
    "\"Akhil\",\n",
    "\"Ravitej\",\n",
    "\"Srilekha\",\n",
    "\"Atal\",\n",
    "\"Ashreen\",\n",
    "\"shivani\",\n",
    "\"Mahima\",\n",
    "\"Brahmani\",\n",
    "\"Mumtaz\",\n",
    "\"Sai\"]"
   ]
  },
  {
   "cell_type": "code",
   "execution_count": 3,
   "metadata": {},
   "outputs": [
    {
     "data": {
      "text/plain": [
       "24"
      ]
     },
     "execution_count": 3,
     "metadata": {},
     "output_type": "execute_result"
    }
   ],
   "source": [
    "len(list_of_students)"
   ]
  },
  {
   "cell_type": "code",
   "execution_count": 2,
   "metadata": {},
   "outputs": [
    {
     "name": "stdout",
     "output_type": "stream",
     "text": [
      "[3, 4, 5, 6, 7, 8, 9]\n"
     ]
    }
   ],
   "source": [
    "lengths=[]\n",
    "for stu_name in list_of_students:\n",
    "    lengths.append(len(stu_name))\n",
    "    \n",
    "print(list(set(lengths)))"
   ]
  },
  {
   "cell_type": "code",
   "execution_count": null,
   "metadata": {},
   "outputs": [],
   "source": []
  }
 ],
 "metadata": {
  "kernelspec": {
   "display_name": "Python 3",
   "language": "python",
   "name": "python3"
  },
  "language_info": {
   "codemirror_mode": {
    "name": "ipython",
    "version": 3
   },
   "file_extension": ".py",
   "mimetype": "text/x-python",
   "name": "python",
   "nbconvert_exporter": "python",
   "pygments_lexer": "ipython3",
   "version": "3.6.7"
  }
 },
 "nbformat": 4,
 "nbformat_minor": 2
}
