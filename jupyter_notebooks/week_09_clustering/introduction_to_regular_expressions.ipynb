{
 "cells": [
  {
   "cell_type": "markdown",
   "metadata": {},
   "source": [
    "https://docs.python.org/3/library/re.html\n",
    "\n",
    "https://docs.python.org/3/howto/regex.html"
   ]
  },
  {
   "cell_type": "code",
   "execution_count": 1,
   "metadata": {},
   "outputs": [],
   "source": [
    "import re"
   ]
  },
  {
   "cell_type": "markdown",
   "metadata": {},
   "source": [
    "source of text: https://www.bradezone.com/2008/09/13/boring/"
   ]
  },
  {
   "cell_type": "code",
   "execution_count": 2,
   "metadata": {},
   "outputs": [],
   "source": [
    "# %load text.py\n",
    "this_text=\"I go to the store. A car is parked. \\\n",
    "Many cars are parked or moving. Some are blue. \\\n",
    "Some are tan. They have windows. In the store, \\\n",
    "there are items for sale. These include such \\\n",
    "things as soap, detergent, magazines, and lettuce. \\\n",
    "You can enhance your life with these products. \\\n",
    "Soap can be used for bathing, be it in a bathtub \\\n",
    "or in a shower. My email address is myname@sc.edu. \\\n",
    "Apply the soap to your body and rinse. My phone \\\n",
    "number is 452-953-2942. Detergent is used to \\\n",
    "wash clothes. Place your dirty clothes \\\n",
    "into a washing machine and add some detergent \\\n",
    "as directed on the box. Your email is \\\n",
    "aperson@farm.com and your cell is 595-942-2424. \\\n",
    "Select the appropriate settings on your \\\n",
    "Alexs question 953-242 \\\n",
    "washing machine and you should be ready to \\\n",
    "begin. Magazines are stapled reading material \\\n",
    "made with glossy paper, and they cover a wide \\\n",
    "variety of topics, ranging from news and \\\n",
    "politics to business and stock market information.\""
   ]
  },
  {
   "cell_type": "markdown",
   "metadata": {},
   "source": [
    "Look for a number that exists in the text"
   ]
  },
  {
   "cell_type": "code",
   "execution_count": 3,
   "metadata": {},
   "outputs": [
    {
     "data": {
      "text/plain": [
       "['953', '953']"
      ]
     },
     "execution_count": 3,
     "metadata": {},
     "output_type": "execute_result"
    }
   ],
   "source": [
    "re.findall(\"953\",this_text)"
   ]
  },
  {
   "cell_type": "markdown",
   "metadata": {},
   "source": [
    "Look for a set of digits in a specific pattern"
   ]
  },
  {
   "cell_type": "code",
   "execution_count": 4,
   "metadata": {},
   "outputs": [
    {
     "data": {
      "text/plain": [
       "['452-953-2942', '595-942-2424']"
      ]
     },
     "execution_count": 4,
     "metadata": {},
     "output_type": "execute_result"
    }
   ],
   "source": [
    "re.findall(\"\\d\\d\\d-\\d\\d\\d-\\d\\d\\d\\d\",this_text)"
   ]
  },
  {
   "cell_type": "markdown",
   "metadata": {},
   "source": [
    "<BR>\n",
    "<BR>\n",
    "<BR>\n",
    "<BR>\n",
    "<BR>\n",
    "<BR>\n",
    "<BR>\n",
    "<BR>\n",
    "<BR>\n",
    "<BR>\n",
    "<BR>\n",
    "<BR>\n",
    "<BR>\n",
    "<BR>\n",
    "\n",
    "Same goal, but more concisely\n",
    "\n",
    "https://medium.com/factory-mind/regex-tutorial-a-simple-cheatsheet-by-examples-649dc1c3f285"
   ]
  },
  {
   "cell_type": "code",
   "execution_count": 5,
   "metadata": {},
   "outputs": [
    {
     "data": {
      "text/plain": [
       "['452-953-2942', '595-942-2424']"
      ]
     },
     "execution_count": 5,
     "metadata": {},
     "output_type": "execute_result"
    }
   ],
   "source": [
    "re.findall(r\"\\d{3}-\\d{3}-\\d{4}\",this_text)"
   ]
  },
  {
   "cell_type": "markdown",
   "metadata": {},
   "source": [
    "For more patterns, see http://regexlib.com/Search.aspx?k=phone\n",
    "\n",
    "<BR>\n",
    "<BR>\n",
    "\n",
    "Look for an email address"
   ]
  },
  {
   "cell_type": "code",
   "execution_count": 6,
   "metadata": {},
   "outputs": [
    {
     "data": {
      "text/plain": [
       "['@s', '@f']"
      ]
     },
     "execution_count": 6,
     "metadata": {},
     "output_type": "execute_result"
    }
   ],
   "source": [
    "re.findall(r\"@[a-z]\",this_text)"
   ]
  },
  {
   "cell_type": "markdown",
   "metadata": {},
   "source": [
    "To get all the letters in the domain, use +"
   ]
  },
  {
   "cell_type": "code",
   "execution_count": 7,
   "metadata": {},
   "outputs": [
    {
     "data": {
      "text/plain": [
       "['@sc', '@farm']"
      ]
     },
     "execution_count": 7,
     "metadata": {},
     "output_type": "execute_result"
    }
   ],
   "source": [
    "re.findall(r\"@[a-z]+\",this_text)"
   ]
  },
  {
   "cell_type": "markdown",
   "metadata": {},
   "source": [
    "To get the letters proceeding the @, "
   ]
  },
  {
   "cell_type": "code",
   "execution_count": 8,
   "metadata": {},
   "outputs": [
    {
     "data": {
      "text/plain": [
       "['myname@sc', 'aperson@farm']"
      ]
     },
     "execution_count": 8,
     "metadata": {},
     "output_type": "execute_result"
    }
   ],
   "source": [
    "re.findall(r\"[a-z]+@[a-z]+\",this_text)"
   ]
  },
  {
   "cell_type": "markdown",
   "metadata": {},
   "source": [
    "Including the domain requires we escape the . since the period is a special character for regex"
   ]
  },
  {
   "cell_type": "code",
   "execution_count": 9,
   "metadata": {},
   "outputs": [
    {
     "data": {
      "text/plain": [
       "['myname@sc.edu', 'aperson@farm.com']"
      ]
     },
     "execution_count": 9,
     "metadata": {},
     "output_type": "execute_result"
    }
   ],
   "source": [
    "re.findall(r\"[a-z]+@[a-z]+\\.[a-z]+\",this_text)"
   ]
  },
  {
   "cell_type": "markdown",
   "metadata": {},
   "source": [
    "Once a Regular Expression gets complicated, use comments to convey your intention"
   ]
  },
  {
   "cell_type": "code",
   "execution_count": 10,
   "metadata": {},
   "outputs": [
    {
     "data": {
      "text/plain": [
       "['myname@sc.edu', 'aperson@farm.com']"
      ]
     },
     "execution_count": 10,
     "metadata": {},
     "output_type": "execute_result"
    }
   ],
   "source": [
    "re.findall(r\"\"\"[a-z]+  # user name\n",
    "               @\n",
    "               [a-z]+  # domain\n",
    "               \\.\n",
    "               [a-z]+  # TLD, https://en.wikipedia.org/wiki/Top-level_domain\n",
    "               \"\"\",this_text, re.VERBOSE)"
   ]
  },
  {
   "cell_type": "markdown",
   "metadata": {},
   "source": [
    "That pattern for emails is not robust. For better versions, see http://regexlib.com/Search.aspx?k=email"
   ]
  },
  {
   "cell_type": "markdown",
   "metadata": {},
   "source": [
    "# Use of regex for string replacement\n",
    "\n",
    "In this example, we'll anonymize the phone numbers"
   ]
  },
  {
   "cell_type": "code",
   "execution_count": 11,
   "metadata": {},
   "outputs": [
    {
     "data": {
      "text/plain": [
       "'I go to the store. A car is parked. Many cars are parked or moving. Some are blue. Some are tan. They have windows. In the store, there are items for sale. These include such things as soap, detergent, magazines, and lettuce. You can enhance your life with these products. Soap can be used for bathing, be it in a bathtub or in a shower. My email address is myname@sc.edu. Apply the soap to your body and rinse. My phone number is 452-953-XXXX. Detergent is used to wash clothes. Place your dirty clothes into a washing machine and add some detergent as directed on the box. Your email is aperson@farm.com and your cell is 595-942-XXXX. Select the appropriate settings on your Alexs question 953-242 washing machine and you should be ready to begin. Magazines are stapled reading material made with glossy paper, and they cover a wide variety of topics, ranging from news and politics to business and stock market information.'"
      ]
     },
     "execution_count": 11,
     "metadata": {},
     "output_type": "execute_result"
    }
   ],
   "source": [
    "re.sub(r\"\\d{4}\", \"XXXX\", this_text)"
   ]
  },
  {
   "cell_type": "markdown",
   "metadata": {},
   "source": [
    "we can compile a Regular Expression for repeated use"
   ]
  },
  {
   "cell_type": "code",
   "execution_count": 12,
   "metadata": {},
   "outputs": [],
   "source": [
    "list_of_lines = this_text.split('.')"
   ]
  },
  {
   "cell_type": "code",
   "execution_count": 13,
   "metadata": {},
   "outputs": [
    {
     "data": {
      "text/plain": [
       "['I go to the store',\n",
       " ' A car is parked',\n",
       " ' Many cars are parked or moving',\n",
       " ' Some are blue',\n",
       " ' Some are tan',\n",
       " ' They have windows',\n",
       " ' In the store, there are items for sale',\n",
       " ' These include such things as soap, detergent, magazines, and lettuce',\n",
       " ' You can enhance your life with these products',\n",
       " ' Soap can be used for bathing, be it in a bathtub or in a shower',\n",
       " ' My email address is myname@sc',\n",
       " 'edu',\n",
       " ' Apply the soap to your body and rinse',\n",
       " ' My phone number is 452-953-2942',\n",
       " ' Detergent is used to wash clothes',\n",
       " ' Place your dirty clothes into a washing machine and add some detergent as directed on the box',\n",
       " ' Your email is aperson@farm',\n",
       " 'com and your cell is 595-942-2424',\n",
       " ' Select the appropriate settings on your Alexs question 953-242 washing machine and you should be ready to begin',\n",
       " ' Magazines are stapled reading material made with glossy paper, and they cover a wide variety of topics, ranging from news and politics to business and stock market information',\n",
       " '']"
      ]
     },
     "execution_count": 13,
     "metadata": {},
     "output_type": "execute_result"
    }
   ],
   "source": [
    "list_of_lines"
   ]
  },
  {
   "cell_type": "code",
   "execution_count": 14,
   "metadata": {},
   "outputs": [
    {
     "name": "stdout",
     "output_type": "stream",
     "text": [
      "I go to the store\n",
      " A car is parked\n",
      " Many cars are parked or moving\n",
      " Some are blue\n",
      " Some are tan\n",
      " They have windows\n",
      " In the store, there are items for sale\n",
      " These include such things as soap, detergent, magazines, and lettuce\n",
      " You can enhance your life with these products\n",
      " Soap can be used for bathing, be it in a bathtub or in a shower\n",
      " My email address is myname@sc\n",
      "edu\n",
      " Apply the soap to your body and rinse\n",
      " My phone number is 452-953-XXXX\n",
      " Detergent is used to wash clothes\n",
      " Place your dirty clothes into a washing machine and add some detergent as directed on the box\n",
      " Your email is aperson@farm\n",
      "com and your cell is 595-942-XXXX\n",
      " Select the appropriate settings on your Alexs question 953-242 washing machine and you should be ready to begin\n",
      " Magazines are stapled reading material made with glossy paper, and they cover a wide variety of topics, ranging from news and politics to business and stock market information\n",
      "\n"
     ]
    }
   ],
   "source": [
    "myregex = re.compile(r\"\\d{4}\")\n",
    "for line in list_of_lines:\n",
    "    print(myregex.sub(\"XXXX\", line))"
   ]
  },
  {
   "cell_type": "markdown",
   "metadata": {},
   "source": [
    "# Documentation \n",
    "\n",
    "As an example of why documentation matters, try to figure out what this regex does"
   ]
  },
  {
   "cell_type": "code",
   "execution_count": 15,
   "metadata": {},
   "outputs": [],
   "source": [
    "a = re.compile(r\"\\d\\.\\d*\")"
   ]
  },
  {
   "cell_type": "markdown",
   "metadata": {},
   "source": [
    "compared to"
   ]
  },
  {
   "cell_type": "code",
   "execution_count": 16,
   "metadata": {},
   "outputs": [],
   "source": [
    "a = re.compile(r\"\"\"\\d +  # the integer part\n",
    "                   \\.    # the decimal point, aka radix: https://en.wikipedia.org/wiki/Radix\n",
    "                   \\d *  # some fractional digits\"\"\", re.VERBOSE)"
   ]
  },
  {
   "cell_type": "code",
   "execution_count": null,
   "metadata": {},
   "outputs": [],
   "source": []
  }
 ],
 "metadata": {
  "kernelspec": {
   "display_name": "Python 3",
   "language": "python",
   "name": "python3"
  },
  "language_info": {
   "codemirror_mode": {
    "name": "ipython",
    "version": 3
   },
   "file_extension": ".py",
   "mimetype": "text/x-python",
   "name": "python",
   "nbconvert_exporter": "python",
   "pygments_lexer": "ipython3",
   "version": "3.6.6"
  }
 },
 "nbformat": 4,
 "nbformat_minor": 2
}
