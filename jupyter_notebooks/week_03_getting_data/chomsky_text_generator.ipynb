{
 "cells": [
  {
   "cell_type": "markdown",
   "metadata": {},
   "source": [
    "https://code.activestate.com/recipes/440546-chomsky-random-text-generator/"
   ]
  },
  {
   "cell_type": "code",
   "execution_count": 1,
   "metadata": {},
   "outputs": [],
   "source": [
    "import random\n",
    "import itertools\n",
    "import textwrap"
   ]
  },
  {
   "cell_type": "code",
   "execution_count": 2,
   "metadata": {},
   "outputs": [],
   "source": [
    "\"\"\"CHOMSKY is an aid to writing linguistic papers in the style\n",
    "    of the great master.  It is based on selected phrases taken\n",
    "    from actual books and articles written by Noam Chomsky.\n",
    "    Upon request, it assembles the phrases in the elegant\n",
    "    stylistic patterns that Chomsky is noted for.\n",
    "    To generate n sentences of linguistic wisdom, type\n",
    "        (CHOMSKY n)  -- for example\n",
    "        (CHOMSKY 5) generates half a screen of linguistic truth.\"\"\"\n",
    "\n",
    "leadins = \"\"\"To characterize a linguistic level L,\n",
    "    On the other hand,\n",
    "    This suggests that\n",
    "    It appears that\n",
    "    Furthermore,\n",
    "    We will bring evidence in favor of the following thesis:\n",
    "    To provide a constituent structure for T(Z,K),\n",
    "    From C1, it follows that\n",
    "    For any transformation which is sufficiently diversified in application to be of any interest,\n",
    "    Analogously,\n",
    "    Clearly,\n",
    "    Note that\n",
    "    Of course,\n",
    "    Suppose, for instance, that\n",
    "    Thus\n",
    "    With this clarification,\n",
    "    Conversely,\n",
    "    We have already seen that\n",
    "    By combining adjunctions and certain deformations,\n",
    "    I suggested that these results would follow from the assumption that\n",
    "    If the position of the trace in (99c) were only relatively inaccessible to movement,\n",
    "    However, this assumption is not correct, since\n",
    "    Comparing these examples with their parasitic gap counterparts in (96) and (97), we see that\n",
    "    In the discussion of resumptive pronouns following (81),\n",
    "    So far,\n",
    "    Nevertheless,\n",
    "    For one thing,\n",
    "    Summarizing, then, we assume that\n",
    "    A consequence of the approach just outlined is that\n",
    "    Presumably,\n",
    "    On our assumptions,\n",
    "    It may be, then, that\n",
    "    It must be emphasized, once again, that\n",
    "    Let us continue to suppose that\n",
    "    Notice, incidentally, that \"\"\"\n",
    "# List of LEADINs to buy time.\n",
    "\n",
    "subjects = \"\"\" the notion of level of grammaticalness\n",
    "    a case of semigrammaticalness of a different sort\n",
    "    most of the methodological work in modern linguistics\n",
    "    a subset of English sentences interesting on quite independent grounds\n",
    "    the natural general principle that will subsume this case\n",
    "    an important property of these three types of EC\n",
    "    any associated supporting element\n",
    "    the appearance of parasitic gaps in domains relatively inaccessible to ordinary extraction\n",
    "    the speaker-hearer's linguistic intuition\n",
    "    the descriptive power of the base component\n",
    "    the earlier discussion of deviance\n",
    "    this analysis of a formative as a pair of sets of features\n",
    "    this selectionally introduced contextual feature\n",
    "    a descriptively adequate grammar\n",
    "    the fundamental error of regarding functional notions as categorial\n",
    "    relational information\n",
    "    the systematic use of complex symbols\n",
    "    the theory of syntactic features developed earlier\"\"\"\n",
    "# List of SUBJECTs chosen for maximum professorial macho.\n",
    "\n",
    "verbs = \"\"\"can be defined in such a way as to impose\n",
    "    delimits\n",
    "    suffices to account for\n",
    "    cannot be arbitrary in\n",
    "    is not subject to\n",
    "    does not readily tolerate\n",
    "    raises serious doubts about\n",
    "    is not quite equivalent to\n",
    "    does not affect the structure of\n",
    "    may remedy and, at the same time, eliminate\n",
    "    is not to be considered in determining\n",
    "    is to be regarded as\n",
    "    is unspecified with respect to\n",
    "    is, apparently, determined by\n",
    "    is necessary to impose an interpretation on\n",
    "    appears to correlate rather closely with\n",
    "    is rather different from\"\"\"\n",
    "#List of VERBs chosen for autorecursive obfuscation.\n",
    "\n",
    "objects = \"\"\" problems of phonemic and morphological analysis.\n",
    "    a corpus of utterance tokens upon which conformity has been defined by the paired utterance test.\n",
    "    the traditional practice of grammarians.\n",
    "    the levels of acceptability from fairly high (e.g. (99a)) to virtual gibberish (e.g. (98d)).\n",
    "    a stipulation to place the constructions into these various categories.\n",
    "    a descriptive fact.\n",
    "    a parasitic gap construction.\n",
    "    the extended c-command discussed in connection with (34).\n",
    "    the ultimate standard that determines the accuracy of any proposed grammar.\n",
    "    the system of base rules exclusive of the lexicon.\n",
    "    irrelevant intervening contexts in selectional rules.\n",
    "    nondistinctness in the sense of distinctive feature theory.\n",
    "    a general convention regarding the forms of the grammar.\n",
    "    an abstract underlying order.\n",
    "    an important distinction in language use.\n",
    "    the requirement that branching is not tolerated within the dominance scope of a complex symbol.\n",
    "    the strong generative capacity of the theory.\"\"\"\n",
    "# List of OBJECTs selected for profound sententiousness.\n",
    "\n"
   ]
  },
  {
   "cell_type": "code",
   "execution_count": 3,
   "metadata": {},
   "outputs": [],
   "source": [
    "def chomsky(times=1, line_length=72):\n",
    "    parts = []\n",
    "    for part in (leadins, subjects, verbs, objects):\n",
    "        phraselist = list(map(str.strip, part.splitlines()))\n",
    "        random.shuffle(phraselist)\n",
    "        parts.append(phraselist)\n",
    "    output = itertools.chain(*itertools.islice(zip(*parts), 0, times))\n",
    "    return textwrap.fill(' '.join(output), line_length)"
   ]
  },
  {
   "cell_type": "code",
   "execution_count": 4,
   "metadata": {},
   "outputs": [
    {
     "name": "stdout",
     "output_type": "stream",
     "text": [
      "I suggested that these results would follow from the assumption that any\n",
      "associated supporting element is not to be considered in determining the\n",
      "system of base rules exclusive of the lexicon. For one thing, the\n",
      "fundamental error of regarding functional notions as categorial is\n",
      "unspecified with respect to an abstract underlying order. Summarizing,\n",
      "then, we assume that relational information does not affect the\n",
      "structure of the levels of acceptability from fairly high (e.g. (99a))\n",
      "to virtual gibberish (e.g. (98d)).\n"
     ]
    }
   ],
   "source": [
    "print(chomsky(3))"
   ]
  },
  {
   "cell_type": "code",
   "execution_count": null,
   "metadata": {},
   "outputs": [],
   "source": []
  }
 ],
 "metadata": {
  "kernelspec": {
   "display_name": "Python 3",
   "language": "python",
   "name": "python3"
  },
  "language_info": {
   "codemirror_mode": {
    "name": "ipython",
    "version": 3
   },
   "file_extension": ".py",
   "mimetype": "text/x-python",
   "name": "python",
   "nbconvert_exporter": "python",
   "pygments_lexer": "ipython3",
   "version": "3.6.7"
  }
 },
 "nbformat": 4,
 "nbformat_minor": 2
}
