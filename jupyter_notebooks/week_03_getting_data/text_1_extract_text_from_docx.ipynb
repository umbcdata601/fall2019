{
 "cells": [
  {
   "cell_type": "markdown",
   "metadata": {},
   "source": [
    "# extract text from docx files"
   ]
  },
  {
   "cell_type": "markdown",
   "metadata": {},
   "source": [
    "First we find a relevant library for parsing docx files. \n",
    "\n",
    "https://python-docx.readthedocs.io/en/latest/user/documents.html"
   ]
  },
  {
   "cell_type": "markdown",
   "metadata": {},
   "source": [
    "To install packages I use pip\n",
    "\n",
    "For users of Anaconda, see https://anaconda.org/conda-forge/python-docx"
   ]
  },
  {
   "cell_type": "code",
   "execution_count": 1,
   "metadata": {},
   "outputs": [
    {
     "name": "stdout",
     "output_type": "stream",
     "text": [
      "Requirement already satisfied: python-docx in /opt/conda/lib/python3.6/site-packages (0.8.10)\n",
      "Requirement already satisfied: lxml>=2.3.2 in /opt/conda/lib/python3.6/site-packages (from python-docx) (4.5.0)\n"
     ]
    }
   ],
   "source": [
    "!pip install python-docx"
   ]
  },
  {
   "cell_type": "markdown",
   "metadata": {},
   "source": [
    "Once the library is installed, we can load the library into the Python environment"
   ]
  },
  {
   "cell_type": "code",
   "execution_count": 2,
   "metadata": {},
   "outputs": [],
   "source": [
    "from docx import Document"
   ]
  },
  {
   "cell_type": "markdown",
   "metadata": {},
   "source": [
    "What files are available to be parsed?\n",
    "\n",
    "One method is to use `ls` from the command line in Mac or linux. `dir` is the Windows equivalent"
   ]
  },
  {
   "cell_type": "code",
   "execution_count": 3,
   "metadata": {},
   "outputs": [
    {
     "name": "stdout",
     "output_type": "stream",
     "text": [
      "'essays/week1_50 Years Data Science Summary.docx'\n",
      "'essays/week1_a History of Data Science.docx'\n",
      " essays/week1_Assignment1.docx\n",
      "'essays/week1_a Very Short History Of Data Science_1.docx'\n",
      "'essays/week1_A Very Short History Of Data Science.docx'\n",
      "'essays/week1_Data 601- Summary of The History of Data Science .docx'\n",
      "'essays/week1_Data Wrangling Chap 2.docx'\n",
      "'essays/week1_essay_2019-08-30-18-51-59_History of Data Science.docx'\n",
      "'essays/week1_essay_2019-08-30-21-06-35_A very short history on data science.docx'\n",
      "'essays/week1_essay_2019-09-03-17-43-38_50 years of Data Science.docx'\n",
      "'essays/week1_reading Summary.docx'\n",
      "'essays/week1_summary-50 years of data science.docx'\n",
      " essays/week1_summary.docx\n",
      "'essays/week1_ Summary.docx'\n",
      "'essays/week2_Data601-Reading Assignment_2.docx'\n",
      "'essays/week2_Data Wrangling with Python page 17 to 40.docx'\n",
      "'essays/week2_Lists and Dictionaries Summary.docx'\n",
      "'essays/week2_summary-Data Wrangling with Python  ch2 p17 to 40.docx'\n",
      "'essays/week2 summary .docx'\n",
      " essays/Week2_summary.docx\n",
      "'essays/week2_Summary on Chapter 2 of Data Wrangling in Python.docx'\n",
      "'essays/week2_Summary Week 2.docx'\n",
      "'essays/week2_Week 2 Reading Summary.docx'\n",
      "'essays/week2_Week 2 - Summary of DATA WRANGLING WITH PYTHON Chapter 2.docx'\n"
     ]
    }
   ],
   "source": [
    "!ls essays/*.docx"
   ]
  },
  {
   "cell_type": "markdown",
   "metadata": {},
   "source": [
    "Here we will manually specify one file. In later notes we will see how to perform this selection in Python"
   ]
  },
  {
   "cell_type": "code",
   "execution_count": 4,
   "metadata": {},
   "outputs": [],
   "source": [
    "document = Document('essays/week1_50 Years Data Science Summary.docx')"
   ]
  },
  {
   "cell_type": "code",
   "execution_count": 5,
   "metadata": {},
   "outputs": [
    {
     "data": {
      "text/plain": [
       "docx.document.Document"
      ]
     },
     "execution_count": 5,
     "metadata": {},
     "output_type": "execute_result"
    }
   ],
   "source": [
    "type(document)"
   ]
  },
  {
   "cell_type": "code",
   "execution_count": 6,
   "metadata": {},
   "outputs": [
    {
     "data": {
      "text/plain": [
       "[<docx.text.paragraph.Paragraph at 0x7fe18d6212b0>,\n",
       " <docx.text.paragraph.Paragraph at 0x7fe18d6215f8>,\n",
       " <docx.text.paragraph.Paragraph at 0x7fe18d621668>,\n",
       " <docx.text.paragraph.Paragraph at 0x7fe18d621630>,\n",
       " <docx.text.paragraph.Paragraph at 0x7fe18d6216a0>,\n",
       " <docx.text.paragraph.Paragraph at 0x7fe18d6216d8>,\n",
       " <docx.text.paragraph.Paragraph at 0x7fe18d621710>,\n",
       " <docx.text.paragraph.Paragraph at 0x7fe18d621748>,\n",
       " <docx.text.paragraph.Paragraph at 0x7fe18d621780>,\n",
       " <docx.text.paragraph.Paragraph at 0x7fe18d6217b8>]"
      ]
     },
     "execution_count": 6,
     "metadata": {},
     "output_type": "execute_result"
    }
   ],
   "source": [
    "document.paragraphs"
   ]
  },
  {
   "cell_type": "code",
   "execution_count": 7,
   "metadata": {},
   "outputs": [
    {
     "data": {
      "text/plain": [
       "list"
      ]
     },
     "execution_count": 7,
     "metadata": {},
     "output_type": "execute_result"
    }
   ],
   "source": [
    "type(document.paragraphs)"
   ]
  },
  {
   "cell_type": "code",
   "execution_count": 8,
   "metadata": {},
   "outputs": [
    {
     "data": {
      "text/plain": [
       "<docx.text.paragraph.Paragraph at 0x7fe18d621a20>"
      ]
     },
     "execution_count": 8,
     "metadata": {},
     "output_type": "execute_result"
    }
   ],
   "source": [
    "document.paragraphs[0]"
   ]
  },
  {
   "cell_type": "markdown",
   "metadata": {},
   "source": [
    "https://python-docx.readthedocs.io/en/latest/user/text.html"
   ]
  },
  {
   "cell_type": "code",
   "execution_count": 9,
   "metadata": {},
   "outputs": [
    {
     "data": {
      "text/plain": [
       "'Data Science 601'"
      ]
     },
     "execution_count": 9,
     "metadata": {},
     "output_type": "execute_result"
    }
   ],
   "source": [
    "document.paragraphs[0].text"
   ]
  },
  {
   "cell_type": "code",
   "execution_count": 10,
   "metadata": {},
   "outputs": [
    {
     "data": {
      "text/plain": [
       "'In recent years, data science programs have been proliferating. On September 2015, the University of Michigan announced a $100 million Data Science Initiative (DSI). In their definition of DSI they use words, such as “processing”, “analysis”, and “interpretation of vast amount of data”.'"
      ]
     },
     "execution_count": 10,
     "metadata": {},
     "output_type": "execute_result"
    }
   ],
   "source": [
    "document.paragraphs[1].text"
   ]
  },
  {
   "cell_type": "markdown",
   "metadata": {},
   "source": [
    "citation: https://stackoverflow.com/questions/25228106/how-to-extract-text-from-an-existing-docx-file-using-python-docx"
   ]
  },
  {
   "cell_type": "code",
   "execution_count": 11,
   "metadata": {},
   "outputs": [
    {
     "name": "stdout",
     "output_type": "stream",
     "text": [
      "\n",
      "  paragraph 1 is\n",
      "Data Science 601\n",
      "\n",
      "  paragraph 2 is\n",
      "In recent years, data science programs have been proliferating. On September 2015, the University of Michigan announced a $100 million Data Science Initiative (DSI). In their definition of DSI they use words, such as “processing”, “analysis”, and “interpretation of vast amount of data”.\n",
      "\n",
      "  paragraph 3 is\n",
      "Many statisticians are puzzled by this new discipline which seems to claim to do the same tasks that have been part of their daily work for decades. Also, as large as the UM initiative was statisticians had an insignificant presence which left them marginalized and confused. \n",
      "\n",
      "  paragraph 4 is\n",
      "When searching the web definition of data science and statistics; while different words are used they clearly overlap. Also, to the argument of data, statisticians have been using large amounts of data of all types for decades. So, for statisticians their profession is just being nicely package as the new and shining Data Science. Many statistics organizations are asking, among other questions: Aren’t we Data Science? Others are raising questions on the relevancy of statistics in relation to data science by making statements such as: Data Science without Statistics is possible even desirable.\n",
      "\n",
      "  paragraph 5 is\n",
      "For sure, there are many points of views contrasting Data Science and Statistics. Many memes are being repeated. The first one is the need to handle ‘Big Data’. This claim is easily rebutted as statisticians have been handling large datasets very efficiently. The second one is the ‘skill meme’, stating that traditional resources could not accommodate big data; thus, the need of new skills. The third one is the ‘job meme’, which was born with the existence of large global IT organizations; which created a large demand for database and statistics skills.\n",
      "\n",
      "  paragraph 6 is\n",
      "Beside the excitement there is a lot of confusion surrounding the new data science program. One consensus is that there is a real need for a workforce that can explore data, apply statistical analysis techniques, and write computer programs; as well as understand the business aspect of an organization. The challenge is for universities to satisfy the demand by providing programs that train students in data analysis, statistics, and information technology.\n"
     ]
    }
   ],
   "source": [
    "indx=0\n",
    "for para in document.paragraphs:\n",
    "    indx+=1\n",
    "    if (len(para.text)>0):\n",
    "        print(\"\\n  paragraph\",indx,\"is\")\n",
    "        print(para.text)"
   ]
  },
  {
   "cell_type": "markdown",
   "metadata": {},
   "source": [
    "## create a function that gets the text from a document\n",
    "\n",
    "First, summarize what we've done:"
   ]
  },
  {
   "cell_type": "code",
   "execution_count": 12,
   "metadata": {},
   "outputs": [
    {
     "name": "stdout",
     "output_type": "stream",
     "text": [
      "\n",
      "  paragraph 1 is\n",
      "Data Science 601\n",
      "\n",
      "  paragraph 2 is\n",
      "In recent years, data science programs have been proliferating. On September 2015, the University of Michigan announced a $100 million Data Science Initiative (DSI). In their definition of DSI they use words, such as “processing”, “analysis”, and “interpretation of vast amount of data”.\n",
      "\n",
      "  paragraph 3 is\n",
      "Many statisticians are puzzled by this new discipline which seems to claim to do the same tasks that have been part of their daily work for decades. Also, as large as the UM initiative was statisticians had an insignificant presence which left them marginalized and confused. \n",
      "\n",
      "  paragraph 4 is\n",
      "When searching the web definition of data science and statistics; while different words are used they clearly overlap. Also, to the argument of data, statisticians have been using large amounts of data of all types for decades. So, for statisticians their profession is just being nicely package as the new and shining Data Science. Many statistics organizations are asking, among other questions: Aren’t we Data Science? Others are raising questions on the relevancy of statistics in relation to data science by making statements such as: Data Science without Statistics is possible even desirable.\n",
      "\n",
      "  paragraph 5 is\n",
      "For sure, there are many points of views contrasting Data Science and Statistics. Many memes are being repeated. The first one is the need to handle ‘Big Data’. This claim is easily rebutted as statisticians have been handling large datasets very efficiently. The second one is the ‘skill meme’, stating that traditional resources could not accommodate big data; thus, the need of new skills. The third one is the ‘job meme’, which was born with the existence of large global IT organizations; which created a large demand for database and statistics skills.\n",
      "\n",
      "  paragraph 6 is\n",
      "Beside the excitement there is a lot of confusion surrounding the new data science program. One consensus is that there is a real need for a workforce that can explore data, apply statistical analysis techniques, and write computer programs; as well as understand the business aspect of an organization. The challenge is for universities to satisfy the demand by providing programs that train students in data analysis, statistics, and information technology.\n"
     ]
    }
   ],
   "source": [
    "document = Document('essays/week1_50 Years Data Science Summary.docx')\n",
    "indx=0\n",
    "for para in document.paragraphs:\n",
    "    indx+=1\n",
    "    if (len(para.text)>0):\n",
    "        print(\"\\n  paragraph\",indx,\"is\")\n",
    "        print(para.text)"
   ]
  },
  {
   "cell_type": "code",
   "execution_count": 14,
   "metadata": {},
   "outputs": [],
   "source": [
    "def docx_to_dict(name_of_file):\n",
    "    docx_dict = {}\n",
    "    document = Document(name_of_file)\n",
    "    indx=0\n",
    "    for para in document.paragraphs:\n",
    "        indx+=1\n",
    "        if (len(para.text)>0):\n",
    "            #print(\"\\n  paragraph\",indx,\"is\")\n",
    "            #print(para.text)\n",
    "            docx_dict[indx] = para.text\n",
    "    return docx_dict"
   ]
  },
  {
   "cell_type": "code",
   "execution_count": 15,
   "metadata": {},
   "outputs": [
    {
     "data": {
      "text/plain": [
       "{1: 'Data Science 601',\n",
       " 2: 'In recent years, data science programs have been proliferating. On September 2015, the University of Michigan announced a $100 million Data Science Initiative (DSI). In their definition of DSI they use words, such as “processing”, “analysis”, and “interpretation of vast amount of data”.',\n",
       " 3: 'Many statisticians are puzzled by this new discipline which seems to claim to do the same tasks that have been part of their daily work for decades. Also, as large as the UM initiative was statisticians had an insignificant presence which left them marginalized and confused. ',\n",
       " 4: 'When searching the web definition of data science and statistics; while different words are used they clearly overlap. Also, to the argument of data, statisticians have been using large amounts of data of all types for decades. So, for statisticians their profession is just being nicely package as the new and shining Data Science. Many statistics organizations are asking, among other questions: Aren’t we Data Science? Others are raising questions on the relevancy of statistics in relation to data science by making statements such as: Data Science without Statistics is possible even desirable.',\n",
       " 5: 'For sure, there are many points of views contrasting Data Science and Statistics. Many memes are being repeated. The first one is the need to handle ‘Big Data’. This claim is easily rebutted as statisticians have been handling large datasets very efficiently. The second one is the ‘skill meme’, stating that traditional resources could not accommodate big data; thus, the need of new skills. The third one is the ‘job meme’, which was born with the existence of large global IT organizations; which created a large demand for database and statistics skills.',\n",
       " 6: 'Beside the excitement there is a lot of confusion surrounding the new data science program. One consensus is that there is a real need for a workforce that can explore data, apply statistical analysis techniques, and write computer programs; as well as understand the business aspect of an organization. The challenge is for universities to satisfy the demand by providing programs that train students in data analysis, statistics, and information technology.'}"
      ]
     },
     "execution_count": 15,
     "metadata": {},
     "output_type": "execute_result"
    }
   ],
   "source": [
    "docx_to_dict('essays/week1_50 Years Data Science Summary.docx')"
   ]
  },
  {
   "cell_type": "code",
   "execution_count": 16,
   "metadata": {},
   "outputs": [],
   "source": [
    "docx_dict = docx_to_dict('essays/week1_50 Years Data Science Summary.docx')"
   ]
  },
  {
   "cell_type": "code",
   "execution_count": 17,
   "metadata": {},
   "outputs": [
    {
     "data": {
      "text/plain": [
       "{1: 'Data Science 601',\n",
       " 2: 'In recent years, data science programs have been proliferating. On September 2015, the University of Michigan announced a $100 million Data Science Initiative (DSI). In their definition of DSI they use words, such as “processing”, “analysis”, and “interpretation of vast amount of data”.',\n",
       " 3: 'Many statisticians are puzzled by this new discipline which seems to claim to do the same tasks that have been part of their daily work for decades. Also, as large as the UM initiative was statisticians had an insignificant presence which left them marginalized and confused. ',\n",
       " 4: 'When searching the web definition of data science and statistics; while different words are used they clearly overlap. Also, to the argument of data, statisticians have been using large amounts of data of all types for decades. So, for statisticians their profession is just being nicely package as the new and shining Data Science. Many statistics organizations are asking, among other questions: Aren’t we Data Science? Others are raising questions on the relevancy of statistics in relation to data science by making statements such as: Data Science without Statistics is possible even desirable.',\n",
       " 5: 'For sure, there are many points of views contrasting Data Science and Statistics. Many memes are being repeated. The first one is the need to handle ‘Big Data’. This claim is easily rebutted as statisticians have been handling large datasets very efficiently. The second one is the ‘skill meme’, stating that traditional resources could not accommodate big data; thus, the need of new skills. The third one is the ‘job meme’, which was born with the existence of large global IT organizations; which created a large demand for database and statistics skills.',\n",
       " 6: 'Beside the excitement there is a lot of confusion surrounding the new data science program. One consensus is that there is a real need for a workforce that can explore data, apply statistical analysis techniques, and write computer programs; as well as understand the business aspect of an organization. The challenge is for universities to satisfy the demand by providing programs that train students in data analysis, statistics, and information technology.'}"
      ]
     },
     "execution_count": 17,
     "metadata": {},
     "output_type": "execute_result"
    }
   ],
   "source": [
    "docx_dict"
   ]
  },
  {
   "cell_type": "code",
   "execution_count": null,
   "metadata": {},
   "outputs": [],
   "source": []
  }
 ],
 "metadata": {
  "kernelspec": {
   "display_name": "Python 3",
   "language": "python",
   "name": "python3"
  },
  "language_info": {
   "codemirror_mode": {
    "name": "ipython",
    "version": 3
   },
   "file_extension": ".py",
   "mimetype": "text/x-python",
   "name": "python",
   "nbconvert_exporter": "python",
   "pygments_lexer": "ipython3",
   "version": "3.6.6"
  }
 },
 "nbformat": 4,
 "nbformat_minor": 2
}
