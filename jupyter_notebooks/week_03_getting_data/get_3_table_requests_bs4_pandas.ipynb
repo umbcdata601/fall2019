{
 "cells": [
  {
   "cell_type": "code",
   "execution_count": 1,
   "metadata": {},
   "outputs": [
    {
     "data": {
      "text/plain": [
       "'0.23.4'"
      ]
     },
     "execution_count": 1,
     "metadata": {},
     "output_type": "execute_result"
    }
   ],
   "source": [
    "from bs4 import BeautifulSoup\n",
    "import requests\n",
    "import pandas\n",
    "pandas.__version__"
   ]
  },
  {
   "cell_type": "code",
   "execution_count": 21,
   "metadata": {},
   "outputs": [
    {
     "name": "stdout",
     "output_type": "stream",
     "text": [
      "Requirement already satisfied: lxml in /opt/conda/lib/python3.6/site-packages (4.5.0)\n"
     ]
    }
   ],
   "source": [
    "!pip install lxml"
   ]
  },
  {
   "cell_type": "code",
   "execution_count": 2,
   "metadata": {},
   "outputs": [
    {
     "name": "stdout",
     "output_type": "stream",
     "text": [
      "Requirement already satisfied: html5lib in /opt/conda/lib/python3.6/site-packages (1.0.1)\n",
      "Requirement already satisfied: six>=1.9 in /opt/conda/lib/python3.6/site-packages (from html5lib) (1.11.0)\n",
      "Requirement already satisfied: webencodings in /opt/conda/lib/python3.6/site-packages (from html5lib) (0.5.1)\n"
     ]
    }
   ],
   "source": [
    "!pip install html5lib"
   ]
  },
  {
   "cell_type": "markdown",
   "metadata": {},
   "source": [
    "Let's try to get the list of states shown on this page: https://docs.omnisci.com/latest/3_apdx_states.html"
   ]
  },
  {
   "cell_type": "markdown",
   "metadata": {},
   "source": [
    "# requests module"
   ]
  },
  {
   "cell_type": "code",
   "execution_count": 3,
   "metadata": {},
   "outputs": [
    {
     "data": {
      "text/plain": [
       "True"
      ]
     },
     "execution_count": 3,
     "metadata": {},
     "output_type": "execute_result"
    }
   ],
   "source": [
    "response = requests.get(\"https://docs.omnisci.com/latest/3_apdx_states.html\")\n",
    "response.ok"
   ]
  },
  {
   "cell_type": "markdown",
   "metadata": {},
   "source": [
    "Success! \n",
    "\n",
    "Use BeautifulSoup to parse the HTML content returned from the URL"
   ]
  },
  {
   "cell_type": "code",
   "execution_count": 4,
   "metadata": {},
   "outputs": [
    {
     "name": "stdout",
     "output_type": "stream",
     "text": [
      "<!DOCTYPE doctype html>\n",
      "<!-- short description (e.g. \"state-abbrevations\") -->\n",
      "<!-- Persona: Data Steward -->\n",
      "<html>\n",
      " <head>\n",
      "  <meta charset=\"utf-8\"/>\n",
      "  <meta content=\"IE=edge\" http-equiv=\"X-UA-Compatible\"/>\n",
      "  <meta content=\"width=device-width, initial-scale=1\" name=\"viewport\"/>\n",
      "  <meta content=\"noindex\" name=\"robots\"/>\n",
      "  <script src=\"./js/analytics.js\">\n",
      "  </script>\n",
      "  <script src=\"./js/toc.js\">\n",
      "  </script>\n",
      "  <title>\n",
      "   US State Abbreviations\n",
      "  </title>\n",
      "  <link href=\"./css/multiColumnTemplate.css\" rel=\"stylesheet\" type=\"text/css\"/>\n",
      "  <link href=\"./css/bootstrap-3.3.7.css\" rel=\"stylesheet\" type=\"text/css\"/>\n",
      "  <link href=\"./css/omnisci_docs.css\" rel=\"stylesheet\" type=\"text/css\"/>\n",
      "  <link href=\"./images/omnisci-icon.png\" rel=\"icon\" type=\"image/png\">\n",
      "   <link href=\"https://cdn.jsdelivr.net/npm/docsearch.js@2/dist/cdn/docsearch.min.css\" rel=\"stylesheet\">\n",
      "   </link>\n",
      "  </link>\n",
      " </head>\n",
      " <body>\n",
      "  <header>\n",
      "   <div class=\"container\">\n",
      "    <div class=\"primary_header\">\n",
      "     <table class=\"search\">\n",
      "      <tr>\n",
      "       <td class=\"logo\">\n",
      "        <a href=\"./index.html\">\n",
      "         <img align=\"left\" alt=\"OmniSci\" class=\"logo\" min-width=\"50px\" src=\"./images/0_banner.png\"/>\n",
      "        </a>\n",
      "       </td>\n",
      "       <td>\n",
      "        <form class=\"search\">\n",
      "         <input id=\"search-field\" placeholder=\"Search documentation...\" style=\"display: block !important;\" type=\"search\"/>\n",
      "        </form>\n",
      "       </td>\n",
      "      </tr>\n",
      "     </table>\n",
      "    </div>\n",
      "    <nav class=\"secondary_header\" id=\"topmenu\">\n",
      "    </nav>\n",
      "   </div>\n",
      "  </header>\n",
      "  <div class=\"container\">\n",
      "   <section>\n",
      "    <h2 class=\"noDisplay\">\n",
      "     Main Content\n",
      "    </h2>\n",
      "    <aside class=\"left_article\">\n",
      "     <div id=\"toc\">\n",
      "     </div>\n",
      "    </aside>\n",
      "    <div class=\"document\" itemscope=\"itemscope\" itemtype=\"http://schema.org/Article\" role=\"main\">\n",
      "     <article class=\"right_article\">\n",
      "      <div itemprop=\"articleBody\">\n",
      "       <div class=\"section\" id=\"us-state-abbreviations\">\n",
      "        <!-- Start of the content for the page.-->\n",
      "        <h1 class=\"title\">\n",
      "         US State Abbreviations\n",
      "        </h1>\n",
      "        <table border=\"1\" class=\"colwidths-given docutils\">\n",
      "         <colgroup>\n",
      "          <col width=\"90%\"/>\n",
      "          <col width=\"10%\"/>\n",
      "         </colgroup>\n",
      "         <thead valign=\"bottom\">\n",
      "          <tr class=\"row-odd\">\n",
      "           <th class=\"head\">\n",
      "            State\n",
      "           </th>\n",
      "           <th class=\"head\">\n",
      "            Abbreviation\n",
      "           </th>\n",
      "          </tr>\n",
      "         </thead>\n",
      "         <tbody valign=\"top\">\n",
      "          <tr class=\"row-even\">\n",
      "           <td>\n",
      "            Alabama\n",
      "           </td>\n",
      "           <td>\n",
      "            AL\n",
      "           </td>\n",
      "          </tr>\n",
      "          <tr class=\"row-odd\">\n",
      "           <td>\n",
      "            Alaska\n",
      "           </td>\n",
      "           <td>\n",
      "            AK\n",
      "           </td>\n",
      "          </tr>\n",
      "          <tr class=\"row-even\">\n",
      "           <td>\n",
      "            Arizona\n",
      "           </td>\n",
      "           <td>\n",
      "            AZ\n",
      "           </td>\n",
      "          </tr>\n",
      "          <tr class=\"row-odd\">\n",
      "           <td>\n",
      "            Arkansas\n",
      "           </td>\n",
      "           <td>\n",
      "            AR\n",
      "           </td>\n",
      "          </tr>\n",
      "          <tr class=\"row-even\">\n",
      "           <td>\n",
      "            California\n",
      "           </td>\n",
      "           <td>\n",
      "            CA\n",
      "           </td>\n",
      "          </tr>\n",
      "          <tr class=\"row-odd\">\n",
      "           <td>\n",
      "            Colorado\n",
      "           </td>\n",
      "           <td>\n",
      "            CO\n",
      "           </td>\n",
      "          </tr>\n",
      "          <tr class=\"row-even\">\n",
      "           <td>\n",
      "            Connecticut\n",
      "           </td>\n",
      "           <td>\n",
      "            CT\n",
      "           </td>\n",
      "          </tr>\n",
      "          <tr class=\"row-odd\">\n",
      "           <td>\n",
      "            Delaware\n",
      "           </td>\n",
      "           <td>\n",
      "            DE\n",
      "           </td>\n",
      "          </tr>\n",
      "          <tr class=\"row-even\">\n",
      "           <td>\n",
      "            District of Columbia\n",
      "           </td>\n",
      "           <td>\n",
      "            DC\n",
      "           </td>\n",
      "          </tr>\n",
      "          <tr class=\"row-odd\">\n",
      "           <td>\n",
      "            Florida\n",
      "           </td>\n",
      "           <td>\n",
      "            FL\n",
      "           </td>\n",
      "          </tr>\n",
      "          <tr class=\"row-even\">\n",
      "           <td>\n",
      "            Georgia\n",
      "           </td>\n",
      "           <td>\n",
      "            GA\n",
      "           </td>\n",
      "          </tr>\n",
      "          <tr class=\"row-odd\">\n",
      "           <td>\n",
      "            Hawaii\n",
      "           </td>\n",
      "           <td>\n",
      "            HI\n",
      "           </td>\n",
      "          </tr>\n",
      "          <tr class=\"row-even\">\n",
      "           <td>\n",
      "            Idaho\n",
      "           </td>\n",
      "           <td>\n",
      "            ID\n",
      "           </td>\n",
      "          </tr>\n",
      "          <tr class=\"row-odd\">\n",
      "           <td>\n",
      "            Illinois\n",
      "           </td>\n",
      "           <td>\n",
      "            IL\n",
      "           </td>\n",
      "          </tr>\n",
      "          <tr class=\"row-even\">\n",
      "           <td>\n",
      "            Indiana\n",
      "           </td>\n",
      "           <td>\n",
      "            IN\n",
      "           </td>\n",
      "          </tr>\n",
      "          <tr class=\"row-odd\">\n",
      "           <td>\n",
      "            Iowa\n",
      "           </td>\n",
      "           <td>\n",
      "            IA\n",
      "           </td>\n",
      "          </tr>\n",
      "          <tr class=\"row-even\">\n",
      "           <td>\n",
      "            Kansas\n",
      "           </td>\n",
      "           <td>\n",
      "            KS\n",
      "           </td>\n",
      "          </tr>\n",
      "          <tr class=\"row-odd\">\n",
      "           <td>\n",
      "            Kentucky\n",
      "           </td>\n",
      "           <td>\n",
      "            KY\n",
      "           </td>\n",
      "          </tr>\n",
      "          <tr class=\"row-even\">\n",
      "           <td>\n",
      "            Louisiana\n",
      "           </td>\n",
      "           <td>\n",
      "            LA\n",
      "           </td>\n",
      "          </tr>\n",
      "          <tr class=\"row-odd\">\n",
      "           <td>\n",
      "            Maine\n",
      "           </td>\n",
      "           <td>\n",
      "            ME\n",
      "           </td>\n",
      "          </tr>\n",
      "          <tr class=\"row-even\">\n",
      "           <td>\n",
      "            Maryland\n",
      "           </td>\n",
      "           <td>\n",
      "            MD\n",
      "           </td>\n",
      "          </tr>\n",
      "          <tr class=\"row-odd\">\n",
      "           <td>\n",
      "            Massachusetts\n",
      "           </td>\n",
      "           <td>\n",
      "            MA\n",
      "           </td>\n",
      "          </tr>\n",
      "          <tr class=\"row-even\">\n",
      "           <td>\n",
      "            Michigan\n",
      "           </td>\n",
      "           <td>\n",
      "            MI\n",
      "           </td>\n",
      "          </tr>\n",
      "          <tr class=\"row-odd\">\n",
      "           <td>\n",
      "            Minnesota\n",
      "           </td>\n",
      "           <td>\n",
      "            MN\n",
      "           </td>\n",
      "          </tr>\n",
      "          <tr class=\"row-even\">\n",
      "           <td>\n",
      "            Mississippi\n",
      "           </td>\n",
      "           <td>\n",
      "            MS\n",
      "           </td>\n",
      "          </tr>\n",
      "          <tr class=\"row-odd\">\n",
      "           <td>\n",
      "            Missouri\n",
      "           </td>\n",
      "           <td>\n",
      "            MO\n",
      "           </td>\n",
      "          </tr>\n",
      "          <tr class=\"row-even\">\n",
      "           <td>\n",
      "            Montana\n",
      "           </td>\n",
      "           <td>\n",
      "            MT\n",
      "           </td>\n",
      "          </tr>\n",
      "          <tr class=\"row-odd\">\n",
      "           <td>\n",
      "            Nebraska\n",
      "           </td>\n",
      "           <td>\n",
      "            NE\n",
      "           </td>\n",
      "          </tr>\n",
      "          <tr class=\"row-even\">\n",
      "           <td>\n",
      "            Nevada\n",
      "           </td>\n",
      "           <td>\n",
      "            NV\n",
      "           </td>\n",
      "          </tr>\n",
      "          <tr class=\"row-odd\">\n",
      "           <td>\n",
      "            New Hampshire\n",
      "           </td>\n",
      "           <td>\n",
      "            NH\n",
      "           </td>\n",
      "          </tr>\n",
      "          <tr class=\"row-even\">\n",
      "           <td>\n",
      "            New Jersey\n",
      "           </td>\n",
      "           <td>\n",
      "            NJ\n",
      "           </td>\n",
      "          </tr>\n",
      "          <tr class=\"row-odd\">\n",
      "           <td>\n",
      "            New Mexico\n",
      "           </td>\n",
      "           <td>\n",
      "            NM\n",
      "           </td>\n",
      "          </tr>\n",
      "          <tr class=\"row-even\">\n",
      "           <td>\n",
      "            New York\n",
      "           </td>\n",
      "           <td>\n",
      "            NY\n",
      "           </td>\n",
      "          </tr>\n",
      "          <tr class=\"row-odd\">\n",
      "           <td>\n",
      "            North Carolina\n",
      "           </td>\n",
      "           <td>\n",
      "            NC\n",
      "           </td>\n",
      "          </tr>\n",
      "          <tr class=\"row-even\">\n",
      "           <td>\n",
      "            North Dakota\n",
      "           </td>\n",
      "           <td>\n",
      "            ND\n",
      "           </td>\n",
      "          </tr>\n",
      "          <tr class=\"row-odd\">\n",
      "           <td>\n",
      "            Ohio\n",
      "           </td>\n",
      "           <td>\n",
      "            OH\n",
      "           </td>\n",
      "          </tr>\n",
      "          <tr class=\"row-even\">\n",
      "           <td>\n",
      "            Oklahoma\n",
      "           </td>\n",
      "           <td>\n",
      "            OK\n",
      "           </td>\n",
      "          </tr>\n",
      "          <tr class=\"row-odd\">\n",
      "           <td>\n",
      "            Oregon\n",
      "           </td>\n",
      "           <td>\n",
      "            OR\n",
      "           </td>\n",
      "          </tr>\n",
      "          <tr class=\"row-even\">\n",
      "           <td>\n",
      "            Pennsylvania\n",
      "           </td>\n",
      "           <td>\n",
      "            PA\n",
      "           </td>\n",
      "          </tr>\n",
      "          <tr class=\"row-odd\">\n",
      "           <td>\n",
      "            Rhode Island\n",
      "           </td>\n",
      "           <td>\n",
      "            RI\n",
      "           </td>\n",
      "          </tr>\n",
      "          <tr class=\"row-even\">\n",
      "           <td>\n",
      "            South Carolina\n",
      "           </td>\n",
      "           <td>\n",
      "            SC\n",
      "           </td>\n",
      "          </tr>\n",
      "          <tr class=\"row-odd\">\n",
      "           <td>\n",
      "            South Dakota\n",
      "           </td>\n",
      "           <td>\n",
      "            SD\n",
      "           </td>\n",
      "          </tr>\n",
      "          <tr class=\"row-even\">\n",
      "           <td>\n",
      "            Tennessee\n",
      "           </td>\n",
      "           <td>\n",
      "            TN\n",
      "           </td>\n",
      "          </tr>\n",
      "          <tr class=\"row-odd\">\n",
      "           <td>\n",
      "            Texas\n",
      "           </td>\n",
      "           <td>\n",
      "            TX\n",
      "           </td>\n",
      "          </tr>\n",
      "          <tr class=\"row-even\">\n",
      "           <td>\n",
      "            Utah\n",
      "           </td>\n",
      "           <td>\n",
      "            UT\n",
      "           </td>\n",
      "          </tr>\n",
      "          <tr class=\"row-odd\">\n",
      "           <td>\n",
      "            Vermont\n",
      "           </td>\n",
      "           <td>\n",
      "            VT\n",
      "           </td>\n",
      "          </tr>\n",
      "          <tr class=\"row-even\">\n",
      "           <td>\n",
      "            Virginia\n",
      "           </td>\n",
      "           <td>\n",
      "            VA\n",
      "           </td>\n",
      "          </tr>\n",
      "          <tr class=\"row-odd\">\n",
      "           <td>\n",
      "            Washington\n",
      "           </td>\n",
      "           <td>\n",
      "            WA\n",
      "           </td>\n",
      "          </tr>\n",
      "          <tr class=\"row-even\">\n",
      "           <td>\n",
      "            West Virginia\n",
      "           </td>\n",
      "           <td>\n",
      "            WV\n",
      "           </td>\n",
      "          </tr>\n",
      "          <tr class=\"row-odd\">\n",
      "           <td>\n",
      "            Wisconsin\n",
      "           </td>\n",
      "           <td>\n",
      "            WI\n",
      "           </td>\n",
      "          </tr>\n",
      "          <tr class=\"row-even\">\n",
      "           <td>\n",
      "            Wyoming\n",
      "           </td>\n",
      "           <td>\n",
      "            WY\n",
      "           </td>\n",
      "          </tr>\n",
      "          <tr class=\"row-odd\">\n",
      "           <td>\n",
      "            Puerto Rico\n",
      "           </td>\n",
      "           <td>\n",
      "            PR\n",
      "           </td>\n",
      "          </tr>\n",
      "         </tbody>\n",
      "        </table>\n",
      "       </div>\n",
      "       <!-- End of the content for this page. -->\n",
      "      </div>\n",
      "     </article>\n",
      "    </div>\n",
      "   </section>\n",
      "  </div>\n",
      "  <hr/>\n",
      "  <footer class=\"secondary_header footer\">\n",
      "   <div class=\"copyright\" id=\"copyright\">\n",
      "   </div>\n",
      "  </footer>\n",
      "  <script src=\"js/jquery-1.11.3.min.js\">\n",
      "  </script>\n",
      "  <script src=\"js/bootstrap-3.3.7.js\">\n",
      "  </script>\n",
      "  <script src=\"https://cdn.jsdelivr.net/npm/docsearch.js@2/dist/cdn/docsearch.min.js\" type=\"text/javascript\">\n",
      "  </script>\n",
      "  <script src=\"./js/algolia.js\" type=\"text/javascript\">\n",
      "  </script>\n",
      "  <script src=\"./js/anchor.js\" type=\"text/javascript\">\n",
      "  </script>\n",
      "  <script src=\"./js/setup.js\" type=\"text/javascript\">\n",
      "  </script>\n",
      "  <script>\n",
      "   init(3,24);\n",
      "  </script>\n",
      " </body>\n",
      "</html>\n",
      "\n"
     ]
    }
   ],
   "source": [
    "soup = BeautifulSoup(response.text, 'html.parser')\n",
    "print(soup.prettify())"
   ]
  },
  {
   "cell_type": "markdown",
   "metadata": {},
   "source": [
    "We expect that the states is in an HTML table. Search for that tag in the HTML content from the page"
   ]
  },
  {
   "cell_type": "code",
   "execution_count": 5,
   "metadata": {},
   "outputs": [
    {
     "name": "stdout",
     "output_type": "stream",
     "text": [
      "<class 'bs4.element.ResultSet'>\n",
      "2\n"
     ]
    }
   ],
   "source": [
    "every_table = soup.findAll('table')\n",
    "print(type(every_table))\n",
    "print(len(every_table))"
   ]
  },
  {
   "cell_type": "markdown",
   "metadata": {},
   "source": [
    "Apparently there are two tables in the HTML page. \n",
    "\n",
    "Inspect the first table in the list (at list index 0)"
   ]
  },
  {
   "cell_type": "code",
   "execution_count": 6,
   "metadata": {},
   "outputs": [
    {
     "data": {
      "text/plain": [
       "<table class=\"search\"><tr><td class=\"logo\"><a href=\"./index.html\"><img align=\"left\" alt=\"OmniSci\" class=\"logo\" min-width=\"50px\" src=\"./images/0_banner.png\"/></a></td><td><form class=\"search\">\n",
       "<input id=\"search-field\" placeholder=\"Search documentation...\" style=\"display: block !important;\" type=\"search\"/></form></td></tr></table>"
      ]
     },
     "execution_count": 6,
     "metadata": {},
     "output_type": "execute_result"
    }
   ],
   "source": [
    "every_table[0]"
   ]
  },
  {
   "cell_type": "markdown",
   "metadata": {},
   "source": [
    "That's not the table that contains the states. What about the other table?"
   ]
  },
  {
   "cell_type": "code",
   "execution_count": 7,
   "metadata": {},
   "outputs": [
    {
     "data": {
      "text/plain": [
       "<table border=\"1\" class=\"colwidths-given docutils\">\n",
       "<colgroup>\n",
       "<col width=\"90%\"/>\n",
       "<col width=\"10%\"/>\n",
       "</colgroup>\n",
       "<thead valign=\"bottom\">\n",
       "<tr class=\"row-odd\"><th class=\"head\">State</th>\n",
       "<th class=\"head\">Abbreviation</th>\n",
       "</tr>\n",
       "</thead>\n",
       "<tbody valign=\"top\">\n",
       "<tr class=\"row-even\"><td>Alabama</td>\n",
       "<td>AL</td>\n",
       "</tr>\n",
       "<tr class=\"row-odd\"><td>Alaska</td>\n",
       "<td>AK</td>\n",
       "</tr>\n",
       "<tr class=\"row-even\"><td>Arizona</td>\n",
       "<td>AZ</td>\n",
       "</tr>\n",
       "<tr class=\"row-odd\"><td>Arkansas</td>\n",
       "<td>AR</td>\n",
       "</tr>\n",
       "<tr class=\"row-even\"><td>California</td>\n",
       "<td>CA</td>\n",
       "</tr>\n",
       "<tr class=\"row-odd\"><td>Colorado</td>\n",
       "<td>CO</td>\n",
       "</tr>\n",
       "<tr class=\"row-even\"><td>Connecticut</td>\n",
       "<td>CT</td>\n",
       "</tr>\n",
       "<tr class=\"row-odd\"><td>Delaware</td>\n",
       "<td>DE</td>\n",
       "</tr>\n",
       "<tr class=\"row-even\"><td>District of Columbia</td>\n",
       "<td>DC</td>\n",
       "</tr>\n",
       "<tr class=\"row-odd\"><td>Florida</td>\n",
       "<td>FL</td>\n",
       "</tr>\n",
       "<tr class=\"row-even\"><td>Georgia</td>\n",
       "<td>GA</td>\n",
       "</tr>\n",
       "<tr class=\"row-odd\"><td>Hawaii</td>\n",
       "<td>HI</td>\n",
       "</tr>\n",
       "<tr class=\"row-even\"><td>Idaho</td>\n",
       "<td>ID</td>\n",
       "</tr>\n",
       "<tr class=\"row-odd\"><td>Illinois</td>\n",
       "<td>IL</td>\n",
       "</tr>\n",
       "<tr class=\"row-even\"><td>Indiana</td>\n",
       "<td>IN</td>\n",
       "</tr>\n",
       "<tr class=\"row-odd\"><td>Iowa</td>\n",
       "<td>IA</td>\n",
       "</tr>\n",
       "<tr class=\"row-even\"><td>Kansas</td>\n",
       "<td>KS</td>\n",
       "</tr>\n",
       "<tr class=\"row-odd\"><td>Kentucky</td>\n",
       "<td>KY</td>\n",
       "</tr>\n",
       "<tr class=\"row-even\"><td>Louisiana</td>\n",
       "<td>LA</td>\n",
       "</tr>\n",
       "<tr class=\"row-odd\"><td>Maine</td>\n",
       "<td>ME</td>\n",
       "</tr>\n",
       "<tr class=\"row-even\"><td>Maryland</td>\n",
       "<td>MD</td>\n",
       "</tr>\n",
       "<tr class=\"row-odd\"><td>Massachusetts</td>\n",
       "<td>MA</td>\n",
       "</tr>\n",
       "<tr class=\"row-even\"><td>Michigan</td>\n",
       "<td>MI</td>\n",
       "</tr>\n",
       "<tr class=\"row-odd\"><td>Minnesota</td>\n",
       "<td>MN</td>\n",
       "</tr>\n",
       "<tr class=\"row-even\"><td>Mississippi</td>\n",
       "<td>MS</td>\n",
       "</tr>\n",
       "<tr class=\"row-odd\"><td>Missouri</td>\n",
       "<td>MO</td>\n",
       "</tr>\n",
       "<tr class=\"row-even\"><td>Montana</td>\n",
       "<td>MT</td>\n",
       "</tr>\n",
       "<tr class=\"row-odd\"><td>Nebraska</td>\n",
       "<td>NE</td>\n",
       "</tr>\n",
       "<tr class=\"row-even\"><td>Nevada</td>\n",
       "<td>NV</td>\n",
       "</tr>\n",
       "<tr class=\"row-odd\"><td>New Hampshire</td>\n",
       "<td>NH</td>\n",
       "</tr>\n",
       "<tr class=\"row-even\"><td>New Jersey</td>\n",
       "<td>NJ</td>\n",
       "</tr>\n",
       "<tr class=\"row-odd\"><td>New Mexico</td>\n",
       "<td>NM</td>\n",
       "</tr>\n",
       "<tr class=\"row-even\"><td>New York</td>\n",
       "<td>NY</td>\n",
       "</tr>\n",
       "<tr class=\"row-odd\"><td>North Carolina</td>\n",
       "<td>NC</td>\n",
       "</tr>\n",
       "<tr class=\"row-even\"><td>North Dakota</td>\n",
       "<td>ND</td>\n",
       "</tr>\n",
       "<tr class=\"row-odd\"><td>Ohio</td>\n",
       "<td>OH</td>\n",
       "</tr>\n",
       "<tr class=\"row-even\"><td>Oklahoma</td>\n",
       "<td>OK</td>\n",
       "</tr>\n",
       "<tr class=\"row-odd\"><td>Oregon</td>\n",
       "<td>OR</td>\n",
       "</tr>\n",
       "<tr class=\"row-even\"><td>Pennsylvania</td>\n",
       "<td>PA</td>\n",
       "</tr>\n",
       "<tr class=\"row-odd\"><td>Rhode Island</td>\n",
       "<td>RI</td>\n",
       "</tr>\n",
       "<tr class=\"row-even\"><td>South Carolina</td>\n",
       "<td>SC</td>\n",
       "</tr>\n",
       "<tr class=\"row-odd\"><td>South Dakota</td>\n",
       "<td>SD</td>\n",
       "</tr>\n",
       "<tr class=\"row-even\"><td>Tennessee</td>\n",
       "<td>TN</td>\n",
       "</tr>\n",
       "<tr class=\"row-odd\"><td>Texas</td>\n",
       "<td>TX</td>\n",
       "</tr>\n",
       "<tr class=\"row-even\"><td>Utah</td>\n",
       "<td>UT</td>\n",
       "</tr>\n",
       "<tr class=\"row-odd\"><td>Vermont</td>\n",
       "<td>VT</td>\n",
       "</tr>\n",
       "<tr class=\"row-even\"><td>Virginia</td>\n",
       "<td>VA</td>\n",
       "</tr>\n",
       "<tr class=\"row-odd\"><td>Washington</td>\n",
       "<td>WA</td>\n",
       "</tr>\n",
       "<tr class=\"row-even\"><td>West Virginia</td>\n",
       "<td>WV</td>\n",
       "</tr>\n",
       "<tr class=\"row-odd\"><td>Wisconsin</td>\n",
       "<td>WI</td>\n",
       "</tr>\n",
       "<tr class=\"row-even\"><td>Wyoming</td>\n",
       "<td>WY</td>\n",
       "</tr>\n",
       "<tr class=\"row-odd\"><td>Puerto Rico</td>\n",
       "<td>PR</td>\n",
       "</tr>\n",
       "</tbody>\n",
       "</table>"
      ]
     },
     "execution_count": 7,
     "metadata": {},
     "output_type": "execute_result"
    }
   ],
   "source": [
    "every_table[1]"
   ]
  },
  {
   "cell_type": "markdown",
   "metadata": {},
   "source": [
    "The second table in the list (at list index 1) does contain the name of the state and the abbreviation. However, the table isn't in the format needed.\n",
    "\n",
    "HTML tables are separated by the \"table row\" (tr) tag. Take a look at the set of elements returned when I search for \"tr\" as a tag within the table:"
   ]
  },
  {
   "cell_type": "code",
   "execution_count": 8,
   "metadata": {},
   "outputs": [
    {
     "name": "stdout",
     "output_type": "stream",
     "text": [
      "<tr class=\"row-odd\"><th class=\"head\">State</th>\n",
      "<th class=\"head\">Abbreviation</th>\n",
      "</tr>\n"
     ]
    }
   ],
   "source": [
    "table_rows = every_table[1].findAll('tr')\n",
    "print(table_rows[0])"
   ]
  },
  {
   "cell_type": "markdown",
   "metadata": {},
   "source": [
    "That's the table header. We care about the data which happens in the second row of the table."
   ]
  },
  {
   "cell_type": "code",
   "execution_count": 9,
   "metadata": {},
   "outputs": [
    {
     "name": "stdout",
     "output_type": "stream",
     "text": [
      "<tr class=\"row-even\"><td>Alabama</td>\n",
      "<td>AL</td>\n",
      "</tr>\n"
     ]
    }
   ],
   "source": [
    "print(table_rows[1])"
   ]
  },
  {
   "cell_type": "markdown",
   "metadata": {},
   "source": [
    "As a reminder, the HTML table we are currently working with is a BeautifulSoup \"Tag\""
   ]
  },
  {
   "cell_type": "code",
   "execution_count": 10,
   "metadata": {},
   "outputs": [
    {
     "data": {
      "text/plain": [
       "bs4.element.Tag"
      ]
     },
     "execution_count": 10,
     "metadata": {},
     "output_type": "execute_result"
    }
   ],
   "source": [
    "type(every_table[1])"
   ]
  },
  {
   "cell_type": "markdown",
   "metadata": {},
   "source": [
    "Extract the HTML text from the BeautifulSoup Tag"
   ]
  },
  {
   "cell_type": "code",
   "execution_count": 15,
   "metadata": {},
   "outputs": [],
   "source": [
    "html_table_as_text = str(every_table[1])"
   ]
  },
  {
   "cell_type": "markdown",
   "metadata": {},
   "source": [
    "Now we can use BeautifulSoup to parse the HTML text"
   ]
  },
  {
   "cell_type": "code",
   "execution_count": 22,
   "metadata": {},
   "outputs": [
    {
     "ename": "ImportError",
     "evalue": "lxml not found, please install it",
     "output_type": "error",
     "traceback": [
      "\u001b[0;31m---------------------------------------------------------------------------\u001b[0m",
      "\u001b[0;31mImportError\u001b[0m                               Traceback (most recent call last)",
      "\u001b[0;32m<ipython-input-22-c729dc894cb0>\u001b[0m in \u001b[0;36m<module>\u001b[0;34m\u001b[0m\n\u001b[0;32m----> 1\u001b[0;31m \u001b[0mpage_content\u001b[0m \u001b[0;34m=\u001b[0m\u001b[0mpandas\u001b[0m\u001b[0;34m.\u001b[0m\u001b[0mread_html\u001b[0m\u001b[0;34m(\u001b[0m\u001b[0mhtml_table_as_text\u001b[0m\u001b[0;34m)\u001b[0m\u001b[0;34m\u001b[0m\u001b[0m\n\u001b[0m",
      "\u001b[0;32m/opt/conda/lib/python3.6/site-packages/pandas/io/html.py\u001b[0m in \u001b[0;36mread_html\u001b[0;34m(io, match, flavor, header, index_col, skiprows, attrs, parse_dates, tupleize_cols, thousands, encoding, decimal, converters, na_values, keep_default_na, displayed_only)\u001b[0m\n\u001b[1;32m    985\u001b[0m                   \u001b[0mdecimal\u001b[0m\u001b[0;34m=\u001b[0m\u001b[0mdecimal\u001b[0m\u001b[0;34m,\u001b[0m \u001b[0mconverters\u001b[0m\u001b[0;34m=\u001b[0m\u001b[0mconverters\u001b[0m\u001b[0;34m,\u001b[0m \u001b[0mna_values\u001b[0m\u001b[0;34m=\u001b[0m\u001b[0mna_values\u001b[0m\u001b[0;34m,\u001b[0m\u001b[0;34m\u001b[0m\u001b[0m\n\u001b[1;32m    986\u001b[0m                   \u001b[0mkeep_default_na\u001b[0m\u001b[0;34m=\u001b[0m\u001b[0mkeep_default_na\u001b[0m\u001b[0;34m,\u001b[0m\u001b[0;34m\u001b[0m\u001b[0m\n\u001b[0;32m--> 987\u001b[0;31m                   displayed_only=displayed_only)\n\u001b[0m",
      "\u001b[0;32m/opt/conda/lib/python3.6/site-packages/pandas/io/html.py\u001b[0m in \u001b[0;36m_parse\u001b[0;34m(flavor, io, match, attrs, encoding, displayed_only, **kwargs)\u001b[0m\n\u001b[1;32m    791\u001b[0m     \u001b[0mretained\u001b[0m \u001b[0;34m=\u001b[0m \u001b[0;32mNone\u001b[0m\u001b[0;34m\u001b[0m\u001b[0m\n\u001b[1;32m    792\u001b[0m     \u001b[0;32mfor\u001b[0m \u001b[0mflav\u001b[0m \u001b[0;32min\u001b[0m \u001b[0mflavor\u001b[0m\u001b[0;34m:\u001b[0m\u001b[0;34m\u001b[0m\u001b[0m\n\u001b[0;32m--> 793\u001b[0;31m         \u001b[0mparser\u001b[0m \u001b[0;34m=\u001b[0m \u001b[0m_parser_dispatch\u001b[0m\u001b[0;34m(\u001b[0m\u001b[0mflav\u001b[0m\u001b[0;34m)\u001b[0m\u001b[0;34m\u001b[0m\u001b[0m\n\u001b[0m\u001b[1;32m    794\u001b[0m         \u001b[0mp\u001b[0m \u001b[0;34m=\u001b[0m \u001b[0mparser\u001b[0m\u001b[0;34m(\u001b[0m\u001b[0mio\u001b[0m\u001b[0;34m,\u001b[0m \u001b[0mcompiled_match\u001b[0m\u001b[0;34m,\u001b[0m \u001b[0mattrs\u001b[0m\u001b[0;34m,\u001b[0m \u001b[0mencoding\u001b[0m\u001b[0;34m,\u001b[0m \u001b[0mdisplayed_only\u001b[0m\u001b[0;34m)\u001b[0m\u001b[0;34m\u001b[0m\u001b[0m\n\u001b[1;32m    795\u001b[0m \u001b[0;34m\u001b[0m\u001b[0m\n",
      "\u001b[0;32m/opt/conda/lib/python3.6/site-packages/pandas/io/html.py\u001b[0m in \u001b[0;36m_parser_dispatch\u001b[0;34m(flavor)\u001b[0m\n\u001b[1;32m    749\u001b[0m     \u001b[0;32melse\u001b[0m\u001b[0;34m:\u001b[0m\u001b[0;34m\u001b[0m\u001b[0m\n\u001b[1;32m    750\u001b[0m         \u001b[0;32mif\u001b[0m \u001b[0;32mnot\u001b[0m \u001b[0m_HAS_LXML\u001b[0m\u001b[0;34m:\u001b[0m\u001b[0;34m\u001b[0m\u001b[0m\n\u001b[0;32m--> 751\u001b[0;31m             \u001b[0;32mraise\u001b[0m \u001b[0mImportError\u001b[0m\u001b[0;34m(\u001b[0m\u001b[0;34m\"lxml not found, please install it\"\u001b[0m\u001b[0;34m)\u001b[0m\u001b[0;34m\u001b[0m\u001b[0m\n\u001b[0m\u001b[1;32m    752\u001b[0m     \u001b[0;32mreturn\u001b[0m \u001b[0m_valid_parsers\u001b[0m\u001b[0;34m[\u001b[0m\u001b[0mflavor\u001b[0m\u001b[0;34m]\u001b[0m\u001b[0;34m\u001b[0m\u001b[0m\n\u001b[1;32m    753\u001b[0m \u001b[0;34m\u001b[0m\u001b[0m\n",
      "\u001b[0;31mImportError\u001b[0m: lxml not found, please install it"
     ]
    }
   ],
   "source": [
    "page_content =pandas.read_html(html_table_as_text)"
   ]
  },
  {
   "cell_type": "markdown",
   "metadata": {},
   "source": [
    "Pandas returns a list with a single element"
   ]
  },
  {
   "cell_type": "code",
   "execution_count": 14,
   "metadata": {},
   "outputs": [
    {
     "ename": "NameError",
     "evalue": "name 'page_content' is not defined",
     "output_type": "error",
     "traceback": [
      "\u001b[0;31m---------------------------------------------------------------------------\u001b[0m",
      "\u001b[0;31mNameError\u001b[0m                                 Traceback (most recent call last)",
      "\u001b[0;32m<ipython-input-14-671766fc386d>\u001b[0m in \u001b[0;36m<module>\u001b[0;34m\u001b[0m\n\u001b[0;32m----> 1\u001b[0;31m \u001b[0mtype\u001b[0m\u001b[0;34m(\u001b[0m\u001b[0mpage_content\u001b[0m\u001b[0;34m)\u001b[0m\u001b[0;34m\u001b[0m\u001b[0m\n\u001b[0m",
      "\u001b[0;31mNameError\u001b[0m: name 'page_content' is not defined"
     ]
    }
   ],
   "source": [
    "type(page_content)"
   ]
  },
  {
   "cell_type": "code",
   "execution_count": null,
   "metadata": {},
   "outputs": [],
   "source": [
    "len(page_content)"
   ]
  },
  {
   "cell_type": "markdown",
   "metadata": {},
   "source": [
    "In the list is a dataframe containing the information we desire!"
   ]
  },
  {
   "cell_type": "code",
   "execution_count": null,
   "metadata": {},
   "outputs": [],
   "source": [
    "page_content[0]"
   ]
  },
  {
   "cell_type": "markdown",
   "metadata": {},
   "source": [
    "# Pandas"
   ]
  },
  {
   "cell_type": "markdown",
   "metadata": {},
   "source": [
    "Pandas passes the URL to urllib\n",
    "\n",
    "https://pandas.pydata.org/pandas-docs/stable/generated/pandas.read_html.html"
   ]
  },
  {
   "cell_type": "code",
   "execution_count": null,
   "metadata": {},
   "outputs": [],
   "source": [
    "page_content =pandas.read_html(\"https://docs.omnisci.com/latest/3_apdx_states.html\")"
   ]
  },
  {
   "cell_type": "code",
   "execution_count": null,
   "metadata": {},
   "outputs": [],
   "source": [
    "type(page_content)"
   ]
  },
  {
   "cell_type": "code",
   "execution_count": null,
   "metadata": {},
   "outputs": [],
   "source": [
    "len(page_content)"
   ]
  },
  {
   "cell_type": "code",
   "execution_count": null,
   "metadata": {},
   "outputs": [],
   "source": [
    "page_content[0]"
   ]
  },
  {
   "cell_type": "markdown",
   "metadata": {},
   "source": [
    "This not what we were seeking"
   ]
  },
  {
   "cell_type": "code",
   "execution_count": null,
   "metadata": {},
   "outputs": [],
   "source": [
    "page_content[1]"
   ]
  }
 ],
 "metadata": {
  "kernelspec": {
   "display_name": "Python 3",
   "language": "python",
   "name": "python3"
  },
  "language_info": {
   "codemirror_mode": {
    "name": "ipython",
    "version": 3
   },
   "file_extension": ".py",
   "mimetype": "text/x-python",
   "name": "python",
   "nbconvert_exporter": "python",
   "pygments_lexer": "ipython3",
   "version": "3.6.6"
  }
 },
 "nbformat": 4,
 "nbformat_minor": 2
}
