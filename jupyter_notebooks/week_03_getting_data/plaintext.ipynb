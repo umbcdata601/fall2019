{
 "cells": [
  {
   "cell_type": "code",
   "execution_count": 2,
   "metadata": {},
   "outputs": [],
   "source": [
    "import glob"
   ]
  },
  {
   "cell_type": "code",
   "execution_count": 3,
   "metadata": {},
   "outputs": [],
   "source": [
    "list_of_files = glob.glob('essays/*.txt')"
   ]
  },
  {
   "cell_type": "code",
   "execution_count": 4,
   "metadata": {},
   "outputs": [
    {
     "data": {
      "text/plain": [
       "['essays/week1_1.txt',\n",
       " 'essays/week1_essay_2019-08-30-18-51-59.txt',\n",
       " 'essays/week1_essay_2019-09-03-10-08-00.txt',\n",
       " 'essays/week1_essay_2019-09-03-13-14-27.txt',\n",
       " 'essays/week1_essay_2019-09-03-16-16-04.txt',\n",
       " 'essays/week1_essay_2019-09-03-15-47-41.txt',\n",
       " 'essays/week1_essay_2019-09-03-14-49-33.txt',\n",
       " 'essays/week1_essay_2019-09-03-15-41-31.txt',\n",
       " 'essays/week1_essay_2019-09-03-12-34-27.txt',\n",
       " 'essays/week1_essay_2019-09-03-09-09-52.txt',\n",
       " 'essays/week1_essay_2019-09-03-15-30-55.txt',\n",
       " 'essays/week1_essay_2019-09-02-23-00-00_Week 1 Essay.txt',\n",
       " 'essays/week1_essay_2019-08-31-00-12-38.txt',\n",
       " 'essays/week1_essay_2019-09-03-17-43-38.txt',\n",
       " 'essays/week1_essay_2019-09-03-10-08-00_assignment 1 short history.txt',\n",
       " 'essays/week1_essay_2019-09-03-15-04-43.txt',\n",
       " 'essays/week1_essay_2019-09-03-14-14-24.txt',\n",
       " 'essays/week1_essay_2019-09-02-23-00-00.txt',\n",
       " 'essays/week1_essay_2019-09-03-16-28-05.txt',\n",
       " 'essays/week1_essay_2019-09-03-11-08-21.txt',\n",
       " 'essays/file_text.txt',\n",
       " 'essays/week1_essay_2019-09-03-16-19-10.txt',\n",
       " 'essays/week1_essay_2019-09-02-23-40-03.txt',\n",
       " 'essays/week1_essay_2019-09-03-14-04-16.txt',\n",
       " 'essays/week1_essay_2019-09-01-14-15-13.txt',\n",
       " 'essays/week1_essay_2019-08-30-21-06-35.txt',\n",
       " 'essays/week1_essay_2019-09-03-14-50-26.txt',\n",
       " 'essays/week1_essay_2019-09-03-09-09-52_Summary of 50 years of Data Science.txt',\n",
       " 'essays/week1_380.txt',\n",
       " 'essays/week1_essay_2019-09-03-17-47-19.txt']"
      ]
     },
     "execution_count": 4,
     "metadata": {},
     "output_type": "execute_result"
    }
   ],
   "source": [
    "list_of_files"
   ]
  },
  {
   "cell_type": "code",
   "execution_count": 5,
   "metadata": {},
   "outputs": [
    {
     "ename": "UnicodeDecodeError",
     "evalue": "'utf-8' codec can't decode byte 0x93 in position 104: invalid start byte",
     "output_type": "error",
     "traceback": [
      "\u001b[0;31m---------------------------------------------------------------------------\u001b[0m",
      "\u001b[0;31mUnicodeDecodeError\u001b[0m                        Traceback (most recent call last)",
      "\u001b[0;32m<ipython-input-5-8bdbde3c7259>\u001b[0m in \u001b[0;36m<module>\u001b[0;34m\u001b[0m\n\u001b[1;32m      2\u001b[0m \u001b[0;32mfor\u001b[0m \u001b[0mthis_file\u001b[0m \u001b[0;32min\u001b[0m \u001b[0mlist_of_files\u001b[0m\u001b[0;34m:\u001b[0m\u001b[0;34m\u001b[0m\u001b[0;34m\u001b[0m\u001b[0m\n\u001b[1;32m      3\u001b[0m     \u001b[0;32mwith\u001b[0m \u001b[0mopen\u001b[0m\u001b[0;34m(\u001b[0m\u001b[0mthis_file\u001b[0m\u001b[0;34m,\u001b[0m\u001b[0;34m'r'\u001b[0m\u001b[0;34m)\u001b[0m \u001b[0;32mas\u001b[0m \u001b[0mfil\u001b[0m\u001b[0;34m:\u001b[0m\u001b[0;34m\u001b[0m\u001b[0;34m\u001b[0m\u001b[0m\n\u001b[0;32m----> 4\u001b[0;31m         \u001b[0mfile_content\u001b[0m \u001b[0;34m=\u001b[0m \u001b[0mfil\u001b[0m\u001b[0;34m.\u001b[0m\u001b[0mread\u001b[0m\u001b[0;34m(\u001b[0m\u001b[0;34m)\u001b[0m\u001b[0;34m\u001b[0m\u001b[0;34m\u001b[0m\u001b[0m\n\u001b[0m\u001b[1;32m      5\u001b[0m         \u001b[0mmy_results\u001b[0m\u001b[0;34m[\u001b[0m\u001b[0mthis_file\u001b[0m\u001b[0;34m]\u001b[0m \u001b[0;34m=\u001b[0m \u001b[0mfile_content\u001b[0m\u001b[0;34m\u001b[0m\u001b[0;34m\u001b[0m\u001b[0m\n",
      "\u001b[0;32m/opt/conda/lib/python3.6/codecs.py\u001b[0m in \u001b[0;36mdecode\u001b[0;34m(self, input, final)\u001b[0m\n\u001b[1;32m    319\u001b[0m         \u001b[0;31m# decode input (taking the buffer into account)\u001b[0m\u001b[0;34m\u001b[0m\u001b[0;34m\u001b[0m\u001b[0;34m\u001b[0m\u001b[0m\n\u001b[1;32m    320\u001b[0m         \u001b[0mdata\u001b[0m \u001b[0;34m=\u001b[0m \u001b[0mself\u001b[0m\u001b[0;34m.\u001b[0m\u001b[0mbuffer\u001b[0m \u001b[0;34m+\u001b[0m \u001b[0minput\u001b[0m\u001b[0;34m\u001b[0m\u001b[0;34m\u001b[0m\u001b[0m\n\u001b[0;32m--> 321\u001b[0;31m         \u001b[0;34m(\u001b[0m\u001b[0mresult\u001b[0m\u001b[0;34m,\u001b[0m \u001b[0mconsumed\u001b[0m\u001b[0;34m)\u001b[0m \u001b[0;34m=\u001b[0m \u001b[0mself\u001b[0m\u001b[0;34m.\u001b[0m\u001b[0m_buffer_decode\u001b[0m\u001b[0;34m(\u001b[0m\u001b[0mdata\u001b[0m\u001b[0;34m,\u001b[0m \u001b[0mself\u001b[0m\u001b[0;34m.\u001b[0m\u001b[0merrors\u001b[0m\u001b[0;34m,\u001b[0m \u001b[0mfinal\u001b[0m\u001b[0;34m)\u001b[0m\u001b[0;34m\u001b[0m\u001b[0;34m\u001b[0m\u001b[0m\n\u001b[0m\u001b[1;32m    322\u001b[0m         \u001b[0;31m# keep undecoded input until the next call\u001b[0m\u001b[0;34m\u001b[0m\u001b[0;34m\u001b[0m\u001b[0;34m\u001b[0m\u001b[0m\n\u001b[1;32m    323\u001b[0m         \u001b[0mself\u001b[0m\u001b[0;34m.\u001b[0m\u001b[0mbuffer\u001b[0m \u001b[0;34m=\u001b[0m \u001b[0mdata\u001b[0m\u001b[0;34m[\u001b[0m\u001b[0mconsumed\u001b[0m\u001b[0;34m:\u001b[0m\u001b[0;34m]\u001b[0m\u001b[0;34m\u001b[0m\u001b[0;34m\u001b[0m\u001b[0m\n",
      "\u001b[0;31mUnicodeDecodeError\u001b[0m: 'utf-8' codec can't decode byte 0x93 in position 104: invalid start byte"
     ]
    }
   ],
   "source": [
    "my_results={}\n",
    "for this_file in list_of_files:\n",
    "    with open(this_file,'r') as fil:\n",
    "        file_content = fil.read()\n",
    "        my_results[this_file] = file_content"
   ]
  },
  {
   "cell_type": "code",
   "execution_count": null,
   "metadata": {},
   "outputs": [],
   "source": []
  }
 ],
 "metadata": {
  "kernelspec": {
   "display_name": "Python 3",
   "language": "python",
   "name": "python3"
  },
  "language_info": {
   "codemirror_mode": {
    "name": "ipython",
    "version": 3
   },
   "file_extension": ".py",
   "mimetype": "text/x-python",
   "name": "python",
   "nbconvert_exporter": "python",
   "pygments_lexer": "ipython3",
   "version": "3.6.7"
  }
 },
 "nbformat": 4,
 "nbformat_minor": 2
}
