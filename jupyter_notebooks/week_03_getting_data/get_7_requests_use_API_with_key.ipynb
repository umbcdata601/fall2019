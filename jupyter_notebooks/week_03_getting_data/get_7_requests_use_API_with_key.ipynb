{
 "cells": [
  {
   "cell_type": "code",
   "execution_count": 1,
   "metadata": {},
   "outputs": [],
   "source": [
    "import requests\n",
    "import json\n",
    "import random"
   ]
  },
  {
   "cell_type": "markdown",
   "metadata": {},
   "source": [
    "Old: https://api.jh.edu/\n",
    "\n",
    "New for Sept 2019: https://api.hub.jhu.edu/docs"
   ]
  },
  {
   "cell_type": "raw",
   "metadata": {},
   "source": [
    "curl https://api.hub.jhu.edu | python -mjson.tool"
   ]
  },
  {
   "cell_type": "code",
   "execution_count": 2,
   "metadata": {},
   "outputs": [],
   "source": [
    "base_url=\"https://sis.jhu.edu/api/\"\n",
    "with open('mykey','r') as mk:\n",
    "    mykey=mk.readlines()[0].rstrip()"
   ]
  },
  {
   "cell_type": "markdown",
   "metadata": {},
   "source": [
    "https://sis.jhu.edu/api/"
   ]
  },
  {
   "cell_type": "code",
   "execution_count": 5,
   "metadata": {},
   "outputs": [],
   "source": [
    "def get_schools(mykey):\n",
    "    try:\n",
    "        response = requests.get(base_url+\"classes/codes/schools\", params={'key':mykey})\n",
    "        return response.json()\n",
    "    except:\n",
    "        print('Error in getting schools',response)\n",
    "        return None"
   ]
  },
  {
   "cell_type": "code",
   "execution_count": 6,
   "metadata": {},
   "outputs": [
    {
     "data": {
      "text/plain": [
       "[{'Name': 'Bloomberg School of Public Health'},\n",
       " {'Name': 'Bloomberg School of Public Health Non-Credit'},\n",
       " {'Name': 'Carey Business School'},\n",
       " {'Name': 'Krieger School of Arts and Sciences'},\n",
       " {'Name': 'Krieger School of Arts and Sciences'},\n",
       " {'Name': 'Krieger School of Arts and Sciences'},\n",
       " {'Name': 'Krieger School of Arts and Sciences Advanced Academic Programs'},\n",
       " {'Name': 'Nitze School of Advanced International Studies'},\n",
       " {'Name': 'School of Education'},\n",
       " {'Name': 'School of Medicine'},\n",
       " {'Name': 'School of Nursing'},\n",
       " {'Name': 'The Peabody Institute'},\n",
       " {'Name': 'The Peabody Preparatory'},\n",
       " {'Name': 'Whiting School of Engineering'},\n",
       " {'Name': 'Whiting School of Engineering Programs for Professionals'}]"
      ]
     },
     "execution_count": 6,
     "metadata": {},
     "output_type": "execute_result"
    }
   ],
   "source": [
    "list_of_schools=get_schools(mykey)\n",
    "list_of_schools"
   ]
  },
  {
   "cell_type": "code",
   "execution_count": 7,
   "metadata": {},
   "outputs": [],
   "source": [
    "def get_classes(mykey,school):\n",
    "    try:\n",
    "        response = requests.get(base_url+'/classes/'+school, params={'key':mykey})\n",
    "        return response.json()\n",
    "    except:\n",
    "        print('Error in getting classes',response)\n",
    "        return None"
   ]
  },
  {
   "cell_type": "raw",
   "metadata": {},
   "source": [
    "list_of_classes=get_classes(mykey,random.choice(list_of_schools)['Name'])\n",
    "print(len(list_of_classes))"
   ]
  },
  {
   "cell_type": "raw",
   "metadata": {},
   "source": [
    "list_of_classes[0]"
   ]
  },
  {
   "cell_type": "code",
   "execution_count": null,
   "metadata": {},
   "outputs": [],
   "source": []
  }
 ],
 "metadata": {
  "kernelspec": {
   "display_name": "Python 3",
   "language": "python",
   "name": "python3"
  },
  "language_info": {
   "codemirror_mode": {
    "name": "ipython",
    "version": 3
   },
   "file_extension": ".py",
   "mimetype": "text/x-python",
   "name": "python",
   "nbconvert_exporter": "python",
   "pygments_lexer": "ipython3",
   "version": "3.6.6"
  }
 },
 "nbformat": 4,
 "nbformat_minor": 2
}
