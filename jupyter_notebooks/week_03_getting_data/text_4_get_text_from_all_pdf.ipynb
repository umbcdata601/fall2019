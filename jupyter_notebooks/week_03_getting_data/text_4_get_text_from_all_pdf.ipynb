{
 "cells": [
  {
   "cell_type": "markdown",
   "metadata": {},
   "source": [
    "# loop over PDFs\n",
    "\n",
    "Now that we have explored PDF libraries, implmement scraping of text"
   ]
  },
  {
   "cell_type": "code",
   "execution_count": 1,
   "metadata": {},
   "outputs": [
    {
     "name": "stdout",
     "output_type": "stream",
     "text": [
      "Requirement already satisfied: PyPDF2 in /opt/conda/lib/python3.6/site-packages (1.26.0)\r\n"
     ]
    }
   ],
   "source": [
    "!pip install PyPDF2"
   ]
  },
  {
   "cell_type": "code",
   "execution_count": 2,
   "metadata": {},
   "outputs": [
    {
     "name": "stdout",
     "output_type": "stream",
     "text": [
      "Requirement already satisfied: pdfminer.six in /opt/conda/lib/python3.6/site-packages (20181108)\r\n",
      "Requirement already satisfied: sortedcontainers in /opt/conda/lib/python3.6/site-packages (from pdfminer.six) (2.1.0)\r\n",
      "Requirement already satisfied: pycryptodome in /opt/conda/lib/python3.6/site-packages (from pdfminer.six) (3.9.0)\r\n",
      "Requirement already satisfied: six in /opt/conda/lib/python3.6/site-packages (from pdfminer.six) (1.11.0)\r\n"
     ]
    }
   ],
   "source": [
    "!pip install pdfminer.six"
   ]
  },
  {
   "cell_type": "code",
   "execution_count": 3,
   "metadata": {},
   "outputs": [],
   "source": [
    "import os\n",
    "import glob # another way of getting a list of files - https://docs.python.org/3/library/glob.html\n",
    "import PyPDF2"
   ]
  },
  {
   "cell_type": "markdown",
   "metadata": {},
   "source": [
    "As a reminder, here's the way we listed files in the \"docx\" notebook"
   ]
  },
  {
   "cell_type": "code",
   "execution_count": 4,
   "metadata": {},
   "outputs": [
    {
     "name": "stdout",
     "output_type": "stream",
     "text": [
      "essays/week1_50 years of data science v2.pdf\n",
      "essays/week1_assignment 1 Summary.pdf\n"
     ]
    }
   ],
   "source": [
    "directory=\"essays\"\n",
    "for filename in os.listdir(directory):\n",
    "    if filename.endswith(\".pdf\"): \n",
    "        print(os.path.join(directory, filename))"
   ]
  },
  {
   "cell_type": "markdown",
   "metadata": {},
   "source": [
    "`glob` provides a quick way of finding patterns in file names"
   ]
  },
  {
   "cell_type": "code",
   "execution_count": 5,
   "metadata": {},
   "outputs": [
    {
     "data": {
      "text/plain": [
       "['essays/week1_50 years of data science v2.pdf',\n",
       " 'essays/week1_assignment 1 Summary.pdf']"
      ]
     },
     "execution_count": 5,
     "metadata": {},
     "output_type": "execute_result"
    }
   ],
   "source": [
    "list_of_pdfs = glob.glob('essays/*.pdf')\n",
    "list_of_pdfs"
   ]
  },
  {
   "cell_type": "markdown",
   "metadata": {},
   "source": [
    "wrap the code from the previous exploration in a function"
   ]
  },
  {
   "cell_type": "code",
   "execution_count": 6,
   "metadata": {},
   "outputs": [],
   "source": [
    "def get_pdf_content(pdf_filename):\n",
    "    pdf_file = open(pdf_filename, 'rb')\n",
    "    read_pdf = PyPDF2.PdfFileReader(pdf_file)\n",
    "    number_of_pages = read_pdf.getNumPages()\n",
    "    print(number_of_pages,'pages\\n')\n",
    "    for indx in range(number_of_pages):\n",
    "        page = read_pdf.getPage(indx)\n",
    "        page_content = page.extractText()\n",
    "        print(page_content.encode('utf-8'))"
   ]
  },
  {
   "cell_type": "markdown",
   "metadata": {},
   "source": [
    "Apply the function to one of the PDFs"
   ]
  },
  {
   "cell_type": "code",
   "execution_count": 7,
   "metadata": {},
   "outputs": [
    {
     "name": "stdout",
     "output_type": "stream",
     "text": [
      "1 pages\n",
      "\n",
      "b'\\n\\n\\n\\n\\n\\xcb\\x98\\xcb\\x87\\xcb\\x87\\xcb\\x87\\xcb\\x87\\xcb\\x99\\n\\xcb\\x87\\xcb\\x87\\xcb\\x87\\xcb\\x87\\n\\xcb\\x87\\xcb\\x87\\n\\xcb\\x98\\xcb\\x87\\n\\xcb\\x87\\xcb\\x9d\\xcb\\x87\\xcb\\x87\\xcb\\x87\\xcb\\x87\\n\\xcb\\x87\\xcb\\x87\\xcb\\x87\\xcb\\x87\\n\\xcb\\x9d\\xcb\\x87\\xcb\\x87\\n\\xcb\\x87\\xcb\\x87\\xcb\\x86\\n\\xcb\\x87$\\n\\xcb\\x9d\\xcb\\x87\\xcb\\x87\\xcb\\x87\\xcb\\x86\\xcb\\x9d\\n\\xcb\\x9d\\xcb\\x87\\xcb\\x87\\xcb\\x87\\xcb\\x86\\xcb\\x87\\xcb\\x86\\n\\n\\xcb\\x86$\\n\\n/\\n'\n"
     ]
    }
   ],
   "source": [
    "get_pdf_content(list_of_pdfs[0])"
   ]
  },
  {
   "cell_type": "markdown",
   "metadata": {},
   "source": [
    "unfortunately, PyPDF2 doesn't recognize the content as text. \n",
    "\n",
    "Try a different library. (Good thing we explored more than one!)"
   ]
  },
  {
   "cell_type": "code",
   "execution_count": 8,
   "metadata": {},
   "outputs": [],
   "source": [
    "pdf_filename = list_of_pdfs[0]\n",
    "!pdf2txt.py \"$pdf_filename\" > file_text.txt"
   ]
  },
  {
   "cell_type": "code",
   "execution_count": 9,
   "metadata": {},
   "outputs": [],
   "source": [
    "with open('file_text.txt','r') as fil:\n",
    "    fil_content = fil.read()"
   ]
  },
  {
   "cell_type": "markdown",
   "metadata": {},
   "source": [
    "for the same PDF, pdf2txt gets the following"
   ]
  },
  {
   "cell_type": "code",
   "execution_count": 10,
   "metadata": {},
   "outputs": [
    {
     "data": {
      "text/plain": [
       "' 50 years of Data Science\\nSummary of \\n \\n \\n \\n\\nIn recent years many Data Science programs have sprung up at universities across the country.  \\n\\nData Science is described as a field of study that includes collecting, analyzing and interpreting large \\n\\nvolumes of data with applications in many fields.  Many feel that Data Science is just a relabeling of \\n\\nStatistics, while others feel that Statistics is not very important to Data Science.  Many argue that Data \\n\\nScience is necessary for handling larger quantities of data than Statistics is capable of, but Statistics has\\n\\nalways worked with large data sets.  Computer Scientists claim that Data Scientists have special skills \\n\\nnecessary to handle data sets too large to fit on a single processor, but these skills are merely for \\n\\nhandling problems caused by multiple processors and networking, rather than skills to solve interesting \\n\\nscientific problems.  Commercially, prominent successes by large IT companies have highlighted the \\n\\nvalue of “big data” and driven demand for people with training in advanced computing and database \\n\\nknowledge in addition to statistics.  Finally, the author advocates for a new version of Data Science that\\n\\nwould be an extension of statistics driven by intellectual, rather than commercial, needs.\\n\\nReferences\\n\\n[1] Donoho, David, “50 years of Data Science,” Tukey Centennial workshop, Princeton, NJ, Sept. 2015\\n\\n\\x0c'"
      ]
     },
     "execution_count": 10,
     "metadata": {},
     "output_type": "execute_result"
    }
   ],
   "source": [
    "fil_content"
   ]
  },
  {
   "cell_type": "markdown",
   "metadata": {},
   "source": [
    "now we can loop over all PDF files"
   ]
  },
  {
   "cell_type": "code",
   "execution_count": 11,
   "metadata": {},
   "outputs": [
    {
     "name": "stdout",
     "output_type": "stream",
     "text": [
      "essays/week1_50 years of data science v2.pdf\n",
      "essays/week1_assignment 1 Summary.pdf\n"
     ]
    }
   ],
   "source": [
    "pdf_content={}\n",
    "for this_pdf in list_of_pdfs:\n",
    "    print(this_pdf)\n",
    "    !pdf2txt.py \"$this_pdf\" > file_text.txt\n",
    "    with open('file_text.txt','r') as fil:\n",
    "        fil_content = fil.read()\n",
    "    pdf_content[this_pdf]=fil_content"
   ]
  },
  {
   "cell_type": "markdown",
   "metadata": {},
   "source": [
    "check what is in the variable"
   ]
  },
  {
   "cell_type": "code",
   "execution_count": 12,
   "metadata": {},
   "outputs": [
    {
     "data": {
      "text/plain": [
       "dict_keys(['essays/week1_50 years of data science v2.pdf', 'essays/week1_assignment 1 Summary.pdf'])"
      ]
     },
     "execution_count": 12,
     "metadata": {},
     "output_type": "execute_result"
    }
   ],
   "source": [
    "pdf_content.keys()"
   ]
  },
  {
   "cell_type": "code",
   "execution_count": 13,
   "metadata": {},
   "outputs": [
    {
     "data": {
      "text/plain": [
       "'DATA 601\\n\\nSept 6, 2018\\n\\nAssignment 1\\n\\nArticle Summary\\n\\nIn A Very Short History of Data Science, Gil Press presents to us a \\n\\n\\t\\ncomprehensive timeline of the evolution of the interdisciplinary ﬁeld of data science — \\nthe product of the coupling of the age-old discipline of statistics with a relatively new \\none — computer science. Press dates the conception of data science to 1962 when \\nJohn W. Tukey   wrote in The Future of Data Analysis that “data analysis is intrinsically \\nan empirical science.” Readers are then introduced to various seminal works that \\nhelped to engender the birth of data science since then. Through reviewing an array of \\nscholarly endeavors in this new ﬁeld, Press shows us that data science emerges \\namidst the ambivalence and questioning by traditional statistics, even though the \\nstatistician, Dr. C.F. Jeﬀ Wu once advocated renaming statistics as data science and \\nstatisticians as data scientists in 1997. Perhaps, the clear demarkation of the entrance \\nof Data Science into the limelight of professional discourse was in 2001 when William \\nS. Cleveland published Data Science: An Action Plan for Expanding the Technical Areas \\nof the Field of Statistics. The ensuing decade saw the rapid development of data \\nscience as its boundaries and frontiers expanded, gaining public attention and interest, \\nand ultimately leading to the publication of Data Scientist: The Sexist Job of the 21st \\nCentury in the Harvard Business Review in 2012.\\n\\n\\nReferences: Press, Gil, A Short History of Data Science, Forbes Magazine,  28 May 2013.\\n\\nhttps://www.forbes.com/sites/gilpress/2013/05/28/a-very-short-history-of-data-science/#32c00bac55cf  \\n— Accessed Sept 6, 2018\\n\\n\\x0c'"
      ]
     },
     "execution_count": 13,
     "metadata": {},
     "output_type": "execute_result"
    }
   ],
   "source": [
    "pdf_content['essays/week1_assignment 1 Summary.pdf']"
   ]
  },
  {
   "cell_type": "code",
   "execution_count": 14,
   "metadata": {},
   "outputs": [
    {
     "data": {
      "text/plain": [
       "' 50 years of Data Science\\nSummary of \\n \\n \\n \\n\\nIn recent years many Data Science programs have sprung up at universities across the country.  \\n\\nData Science is described as a field of study that includes collecting, analyzing and interpreting large \\n\\nvolumes of data with applications in many fields.  Many feel that Data Science is just a relabeling of \\n\\nStatistics, while others feel that Statistics is not very important to Data Science.  Many argue that Data \\n\\nScience is necessary for handling larger quantities of data than Statistics is capable of, but Statistics has\\n\\nalways worked with large data sets.  Computer Scientists claim that Data Scientists have special skills \\n\\nnecessary to handle data sets too large to fit on a single processor, but these skills are merely for \\n\\nhandling problems caused by multiple processors and networking, rather than skills to solve interesting \\n\\nscientific problems.  Commercially, prominent successes by large IT companies have highlighted the \\n\\nvalue of “big data” and driven demand for people with training in advanced computing and database \\n\\nknowledge in addition to statistics.  Finally, the author advocates for a new version of Data Science that\\n\\nwould be an extension of statistics driven by intellectual, rather than commercial, needs.\\n\\nReferences\\n\\n[1] Donoho, David, “50 years of Data Science,” Tukey Centennial workshop, Princeton, NJ, Sept. 2015\\n\\n\\x0c'"
      ]
     },
     "execution_count": 14,
     "metadata": {},
     "output_type": "execute_result"
    }
   ],
   "source": [
    "pdf_content['essays/week1_50 years of data science v2.pdf']"
   ]
  },
  {
   "cell_type": "code",
   "execution_count": 15,
   "metadata": {},
   "outputs": [],
   "source": []
  }
 ],
 "metadata": {
  "kernelspec": {
   "display_name": "Python 3",
   "language": "python",
   "name": "python3"
  },
  "language_info": {
   "codemirror_mode": {
    "name": "ipython",
    "version": 3
   },
   "file_extension": ".py",
   "mimetype": "text/x-python",
   "name": "python",
   "nbconvert_exporter": "python",
   "pygments_lexer": "ipython3",
   "version": "3.6.7"
  }
 },
 "nbformat": 4,
 "nbformat_minor": 2
}
