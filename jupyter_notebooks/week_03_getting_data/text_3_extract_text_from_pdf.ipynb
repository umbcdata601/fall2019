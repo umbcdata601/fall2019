{
 "cells": [
  {
   "cell_type": "markdown",
   "metadata": {},
   "source": [
    "# exploration of PDF parsing libraries"
   ]
  },
  {
   "cell_type": "markdown",
   "metadata": {},
   "source": [
    "There are a lot of options because PDFs are complex multimedia documents. \n",
    "\n",
    "PDF parsing libraries:\n",
    "* PyPDF2; see https://automatetheboringstuff.com/chapter13/ and https://realpython.com/pdf-python/\n",
    "* PDFMiner; see https://github.com/euske/pdfminer for Python2 and https://github.com/pdfminer/pdfminer.six for Python3\n",
    "* pdfrw; https://github.com/pmaupin/pdfrw\\n and https://stackoverflow.com/questions/42088262/how-to-extract-a-pdfs-text-using-pdfrw\n",
    "* Tabula-py\n",
    "* pdfquery; https://github.com/jcushman/pdfquery\n",
    "* xpdf; https://github.com/ecatkins/xpdf_python\\n and https://pypi.org/project/xpdf-python/\n",
    "\n",
    "Not included here: \n",
    "* not included here: https://en.wikipedia.org/wiki/Pdftotext ; for use see https://stackoverflow.com/a/52683233/1164295\n",
    "* https://pdfgrep.org/download.html and https://gitlab.com/pdfgrep/pdfgrep"
   ]
  },
  {
   "cell_type": "markdown",
   "metadata": {},
   "source": [
    "citation: https://stackoverflow.com/questions/34837707/extracting-text-from-a-pdf-file-using-python\n",
    "\n",
    "https://stackabuse.com/working-with-pdfs-in-python-reading-and-splitting-pages/"
   ]
  },
  {
   "cell_type": "code",
   "execution_count": null,
   "metadata": {},
   "outputs": [],
   "source": [
    "!ls essays/*.pdf"
   ]
  },
  {
   "cell_type": "code",
   "execution_count": null,
   "metadata": {},
   "outputs": [],
   "source": [
    "pdf_filename = 'essays/week1_assignment 1 Summary.pdf'"
   ]
  },
  {
   "cell_type": "markdown",
   "metadata": {},
   "source": [
    "# PyPDF2"
   ]
  },
  {
   "cell_type": "code",
   "execution_count": null,
   "metadata": {},
   "outputs": [],
   "source": [
    "!pip install PyPDF2"
   ]
  },
  {
   "cell_type": "code",
   "execution_count": null,
   "metadata": {},
   "outputs": [],
   "source": [
    "import PyPDF2"
   ]
  },
  {
   "cell_type": "code",
   "execution_count": null,
   "metadata": {},
   "outputs": [],
   "source": [
    "pdf_file = open(pdf_filename, 'rb')\n",
    "read_pdf = PyPDF2.PdfFileReader(pdf_file)\n",
    "number_of_pages = read_pdf.getNumPages()\n",
    "print(number_of_pages,'pages\\n')\n",
    "for indx in range(number_of_pages):\n",
    "    page = read_pdf.getPage(indx)\n",
    "page_content = page.extractText()\n",
    "print(page_content.encode('utf-8'))"
   ]
  },
  {
   "cell_type": "markdown",
   "metadata": {},
   "source": [
    "# PDFminer\n",
    "\n",
    "https://pypi.org/project/pdfminer/\n",
    "\n",
    "https://github.com/pdfminer/pdfminer.six"
   ]
  },
  {
   "cell_type": "code",
   "execution_count": null,
   "metadata": {},
   "outputs": [],
   "source": [
    "!pip install pdfminer.six"
   ]
  },
  {
   "cell_type": "code",
   "execution_count": null,
   "metadata": {},
   "outputs": [],
   "source": [
    "!pdf2txt.py \"$pdf_filename\" > file_text.txt"
   ]
  },
  {
   "cell_type": "code",
   "execution_count": null,
   "metadata": {},
   "outputs": [],
   "source": [
    "with open('file_text.txt','r') as fil:\n",
    "    fil_content = fil.read()"
   ]
  },
  {
   "cell_type": "code",
   "execution_count": null,
   "metadata": {},
   "outputs": [],
   "source": [
    "fil_content"
   ]
  },
  {
   "cell_type": "markdown",
   "metadata": {},
   "source": [
    "# PDFrw\n",
    "\n",
    "https://www.binpress.com/pdfrw-python-pdf-library/\n",
    "\n",
    "https://www.binpress.com/manipulate-pdf-python/"
   ]
  },
  {
   "cell_type": "code",
   "execution_count": null,
   "metadata": {},
   "outputs": [],
   "source": [
    "!pip install pdfrw"
   ]
  },
  {
   "cell_type": "code",
   "execution_count": null,
   "metadata": {},
   "outputs": [],
   "source": [
    "from pdfrw import PdfReader"
   ]
  },
  {
   "cell_type": "code",
   "execution_count": null,
   "metadata": {},
   "outputs": [],
   "source": [
    "x = PdfReader(pdf_filename)\n",
    "x.keys()"
   ]
  },
  {
   "cell_type": "code",
   "execution_count": null,
   "metadata": {},
   "outputs": [],
   "source": [
    "type(x)"
   ]
  },
  {
   "cell_type": "code",
   "execution_count": null,
   "metadata": {},
   "outputs": [],
   "source": [
    "x['/Info']"
   ]
  },
  {
   "cell_type": "code",
   "execution_count": null,
   "metadata": {},
   "outputs": [],
   "source": [
    "x['/Root']['/Pages'].keys()"
   ]
  },
  {
   "cell_type": "code",
   "execution_count": null,
   "metadata": {},
   "outputs": [],
   "source": [
    "len(x['/Root']['/Pages']['/Kids'])"
   ]
  },
  {
   "cell_type": "code",
   "execution_count": null,
   "metadata": {},
   "outputs": [],
   "source": [
    "x['/Root']['/Pages']['/Kids'][0].keys()"
   ]
  },
  {
   "cell_type": "code",
   "execution_count": null,
   "metadata": {},
   "outputs": [],
   "source": [
    "x['/Root']['/Pages']['/Kids'][0]['/Resources'].keys()"
   ]
  },
  {
   "cell_type": "markdown",
   "metadata": {},
   "source": [
    "The following libraries don't work for my environment"
   ]
  },
  {
   "cell_type": "markdown",
   "metadata": {},
   "source": [
    "# Tika\n",
    "\n",
    "I didn't get this to work since I don't have Java 8 installed"
   ]
  },
  {
   "cell_type": "raw",
   "metadata": {},
   "source": [
    "# has an external dependency on http://search.maven.org\n",
    "!pip install tika\n",
    "from tika import parser"
   ]
  },
  {
   "cell_type": "raw",
   "metadata": {},
   "source": [
    "# first run depends on access to \n",
    "# http://search.maven.org/remotecontent?filepath=org/apache/tika/tika-server/1.19/tika-server-1.19.jar.md5\n",
    "# need to have Java installed to support Tika server\n",
    "\n",
    "raw = parser.from_file('essays/week1_assignment 1 Summary.pdf')\n",
    "print(raw['content'])"
   ]
  },
  {
   "cell_type": "markdown",
   "metadata": {},
   "source": [
    "# Tabula\n",
    "\n",
    "needs java"
   ]
  },
  {
   "cell_type": "raw",
   "metadata": {},
   "source": [
    "!pip install tabula-py"
   ]
  },
  {
   "cell_type": "raw",
   "metadata": {},
   "source": [
    "import tabula"
   ]
  },
  {
   "cell_type": "raw",
   "metadata": {},
   "source": [
    "df = tabula.read_pdf(pdf_filename, pages='all')"
   ]
  },
  {
   "cell_type": "markdown",
   "metadata": {},
   "source": [
    "# pdfquery\n",
    "\n",
    "https://github.com/jcushman/pdfquery\n",
    "\n",
    "PDFQuery is a light wrapper around pdfminer, lxml and pyquery.\n",
    "\n",
    "https://www.reddit.com/r/Python/comments/4bnjha/scraping_pdf_files_with_python/d1bsieu?utm_source=share&utm_medium=web2x&context=3"
   ]
  },
  {
   "cell_type": "raw",
   "metadata": {},
   "source": [
    "!pip install pdfquery"
   ]
  },
  {
   "cell_type": "raw",
   "metadata": {},
   "source": [
    "import pdfquery"
   ]
  },
  {
   "cell_type": "raw",
   "metadata": {},
   "source": [
    "pdf = pdfquery.PDFQuery(pdf_filename)"
   ]
  },
  {
   "cell_type": "raw",
   "metadata": {},
   "source": [
    "pdf.extract(searches,tree=None,as_dict=True)"
   ]
  },
  {
   "cell_type": "raw",
   "metadata": {},
   "source": [
    "pdf.load(*page_numbers)"
   ]
  },
  {
   "cell_type": "markdown",
   "metadata": {},
   "source": [
    "# xpdf_python\n",
    "\n",
    "https://pypi.org/project/xpdf-python/\n",
    "\n",
    "https://github.com/ecatkins/xpdf_python\n",
    "\n",
    "Python wrapper for xpdf\n",
    "\n",
    "status: Not maintained"
   ]
  },
  {
   "cell_type": "raw",
   "metadata": {},
   "source": [
    "!pip install xpdf_python"
   ]
  },
  {
   "cell_type": "raw",
   "metadata": {},
   "source": [
    "import xpdf_python"
   ]
  },
  {
   "cell_type": "raw",
   "metadata": {},
   "source": [
    "from xpdf_python import to_text"
   ]
  },
  {
   "cell_type": "raw",
   "metadata": {},
   "source": [
    "text = to_text(pdf_filename)"
   ]
  },
  {
   "cell_type": "code",
   "execution_count": null,
   "metadata": {},
   "outputs": [],
   "source": []
  }
 ],
 "metadata": {
  "kernelspec": {
   "display_name": "Python 3",
   "language": "python",
   "name": "python3"
  },
  "language_info": {
   "codemirror_mode": {
    "name": "ipython",
    "version": 3
   },
   "file_extension": ".py",
   "mimetype": "text/x-python",
   "name": "python",
   "nbconvert_exporter": "python",
   "pygments_lexer": "ipython3",
   "version": "3.8.6"
  }
 },
 "nbformat": 4,
 "nbformat_minor": 4
}
