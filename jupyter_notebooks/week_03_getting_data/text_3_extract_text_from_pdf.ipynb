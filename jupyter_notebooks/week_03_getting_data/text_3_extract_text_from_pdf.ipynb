{
 "cells": [
  {
   "cell_type": "markdown",
   "metadata": {},
   "source": [
    "# exploration of PDF parsing libraries"
   ]
  },
  {
   "cell_type": "markdown",
   "metadata": {},
   "source": [
    "There are a lot of options because PDFs are complex multimedia documents. \n",
    "\n",
    "PDF parsing libraries:\n",
    "* PyPDF2; see https://automatetheboringstuff.com/chapter13/ and https://realpython.com/pdf-python/\n",
    "* PDFMiner; see https://github.com/euske/pdfminer for Python2 and https://github.com/pdfminer/pdfminer.six for Python3\n",
    "* pdfrw; https://github.com/pmaupin/pdfrw\\n and https://stackoverflow.com/questions/42088262/how-to-extract-a-pdfs-text-using-pdfrw\n",
    "* Tabula-py\n",
    "* pdfquery; https://github.com/jcushman/pdfquery\n",
    "* xpdf; https://github.com/ecatkins/xpdf_python\\n and https://pypi.org/project/xpdf-python/"
   ]
  },
  {
   "cell_type": "markdown",
   "metadata": {},
   "source": [
    "citation: https://stackoverflow.com/questions/34837707/extracting-text-from-a-pdf-file-using-python"
   ]
  },
  {
   "cell_type": "code",
   "execution_count": 1,
   "metadata": {},
   "outputs": [
    {
     "name": "stdout",
     "output_type": "stream",
     "text": [
      "'essays/week1_50 years of data science v2.pdf'\n",
      "'essays/week1_assignment 1 Summary.pdf'\n"
     ]
    }
   ],
   "source": [
    "!ls essays/*.pdf"
   ]
  },
  {
   "cell_type": "code",
   "execution_count": 2,
   "metadata": {},
   "outputs": [],
   "source": [
    "pdf_filename = 'essays/week1_assignment 1 Summary.pdf'"
   ]
  },
  {
   "cell_type": "markdown",
   "metadata": {},
   "source": [
    "# PyPDF2"
   ]
  },
  {
   "cell_type": "code",
   "execution_count": 3,
   "metadata": {},
   "outputs": [
    {
     "name": "stdout",
     "output_type": "stream",
     "text": [
      "Collecting PyPDF2\n",
      "Installing collected packages: PyPDF2\n",
      "Successfully installed PyPDF2-1.26.0\n"
     ]
    }
   ],
   "source": [
    "!pip install PyPDF2"
   ]
  },
  {
   "cell_type": "code",
   "execution_count": 4,
   "metadata": {},
   "outputs": [],
   "source": [
    "import PyPDF2"
   ]
  },
  {
   "cell_type": "code",
   "execution_count": 5,
   "metadata": {},
   "outputs": [
    {
     "name": "stdout",
     "output_type": "stream",
     "text": [
      "1 pages\n",
      "\n",
      "b'DATA 601\\n!Sept 6, 2018Assignment 1!Article Summary\"\\nIn A Very Short History of Data Science\\n, Gil Press presents to us a \\ncomprehensive timeline of the evolution of the interdisciplinary \\xc3\\x9eeld of data science \\xc3\\x91 \\nthe product of the coupling of the age-old discipline of statistics with a relatively new \\none \\xc3\\x91 computer science. Press dates the conception of data science to 1962 when \\nJohn W. Tukey   wrote in \\nThe Future of Data Analysis\\n that \\xc3\\x92data analysis is intrinsically an empirical science.\\xc3\\x93 Readers are then introduced to various seminal works that \\nhelped to engender the birth of data science since then. Through reviewing an array of \\nscholarly endeavors in this new \\xc3\\x9eeld, Press shows us that data science emerges \\namidst the ambivalence and questioning by traditional statistics, even though the statistician, Dr. C.F. Je\\n# Wu once advocated renaming statistics as data science and \\nstatisticians as data scientists in 1997. Perhaps, the clear demarkation of the entrance of Data Science into the limelight of professional discourse was in 2001 when William \\nS. Cleveland published Data Science: An Action Plan for Expanding the Technical Areas \\nof the Field of Statistics. The ensuing decade saw the rapid development of data science as its boundaries and frontiers expanded, gaining public attention and interest, \\nand ultimately leading to the publication of Data Scientist: The Sexist Job of the 21st Century in the Harvard Business Review\\n in 2012.!References: Press, Gil, \\nA Short History of Data Science, Forbes Magazine,  28 May 2013.!https://www.forbes.com/sites/gilpress/2013/05/28/a-very-short-history-of-data-science/#32c00bac55cf\\n  \\xc3\\x91 Accessed Sept 6, 2018'\n"
     ]
    }
   ],
   "source": [
    "pdf_file = open(pdf_filename, 'rb')\n",
    "read_pdf = PyPDF2.PdfFileReader(pdf_file)\n",
    "number_of_pages = read_pdf.getNumPages()\n",
    "print(number_of_pages,'pages\\n')\n",
    "for indx in range(number_of_pages):\n",
    "    page = read_pdf.getPage(indx)\n",
    "page_content = page.extractText()\n",
    "print(page_content.encode('utf-8'))"
   ]
  },
  {
   "cell_type": "markdown",
   "metadata": {},
   "source": [
    "# PDFminer"
   ]
  },
  {
   "cell_type": "code",
   "execution_count": 6,
   "metadata": {},
   "outputs": [
    {
     "name": "stdout",
     "output_type": "stream",
     "text": [
      "Collecting pdfminer.six\n",
      "  Using cached https://files.pythonhosted.org/packages/8a/fd/6e8746e6965d1a7ea8e97253e3d79e625da5547e8f376f88de5d024bacb9/pdfminer.six-20181108-py2.py3-none-any.whl\n",
      "Collecting pycryptodome (from pdfminer.six)\n",
      "  Using cached https://files.pythonhosted.org/packages/c1/f1/0ba99559391621280ce24adea245d31bf2eb2f20ac72270eead1813e8d2b/pycryptodome-3.9.0-cp36-cp36m-manylinux1_x86_64.whl\n",
      "Collecting sortedcontainers (from pdfminer.six)\n",
      "  Using cached https://files.pythonhosted.org/packages/13/f3/cf85f7c3a2dbd1a515d51e1f1676d971abe41bba6f4ab5443240d9a78e5b/sortedcontainers-2.1.0-py2.py3-none-any.whl\n",
      "Requirement already satisfied: six in /opt/conda/lib/python3.6/site-packages (from pdfminer.six) (1.11.0)\n",
      "Installing collected packages: pycryptodome, sortedcontainers, pdfminer.six\n",
      "Successfully installed pdfminer.six-20181108 pycryptodome-3.9.0 sortedcontainers-2.1.0\n"
     ]
    }
   ],
   "source": [
    "!pip install pdfminer.six"
   ]
  },
  {
   "cell_type": "code",
   "execution_count": 7,
   "metadata": {},
   "outputs": [],
   "source": [
    "!pdf2txt.py \"$pdf_filename\" > file_text.txt"
   ]
  },
  {
   "cell_type": "code",
   "execution_count": 8,
   "metadata": {},
   "outputs": [],
   "source": [
    "with open('file_text.txt','r') as fil:\n",
    "    fil_content = fil.read()"
   ]
  },
  {
   "cell_type": "code",
   "execution_count": 9,
   "metadata": {},
   "outputs": [
    {
     "data": {
      "text/plain": [
       "'DATA 601\\n\\nSept 6, 2018\\n\\nAssignment 1\\n\\nArticle Summary\\n\\nIn A Very Short History of Data Science, Gil Press presents to us a \\n\\n\\t\\ncomprehensive timeline of the evolution of the interdisciplinary ﬁeld of data science — \\nthe product of the coupling of the age-old discipline of statistics with a relatively new \\none — computer science. Press dates the conception of data science to 1962 when \\nJohn W. Tukey   wrote in The Future of Data Analysis that “data analysis is intrinsically \\nan empirical science.” Readers are then introduced to various seminal works that \\nhelped to engender the birth of data science since then. Through reviewing an array of \\nscholarly endeavors in this new ﬁeld, Press shows us that data science emerges \\namidst the ambivalence and questioning by traditional statistics, even though the \\nstatistician, Dr. C.F. Jeﬀ Wu once advocated renaming statistics as data science and \\nstatisticians as data scientists in 1997. Perhaps, the clear demarkation of the entrance \\nof Data Science into the limelight of professional discourse was in 2001 when William \\nS. Cleveland published Data Science: An Action Plan for Expanding the Technical Areas \\nof the Field of Statistics. The ensuing decade saw the rapid development of data \\nscience as its boundaries and frontiers expanded, gaining public attention and interest, \\nand ultimately leading to the publication of Data Scientist: The Sexist Job of the 21st \\nCentury in the Harvard Business Review in 2012.\\n\\n\\nReferences: Press, Gil, A Short History of Data Science, Forbes Magazine,  28 May 2013.\\n\\nhttps://www.forbes.com/sites/gilpress/2013/05/28/a-very-short-history-of-data-science/#32c00bac55cf  \\n— Accessed Sept 6, 2018\\n\\n\\x0c'"
      ]
     },
     "execution_count": 9,
     "metadata": {},
     "output_type": "execute_result"
    }
   ],
   "source": [
    "fil_content"
   ]
  },
  {
   "cell_type": "markdown",
   "metadata": {},
   "source": [
    "# PDFrw"
   ]
  },
  {
   "cell_type": "code",
   "execution_count": 10,
   "metadata": {},
   "outputs": [
    {
     "name": "stdout",
     "output_type": "stream",
     "text": [
      "Collecting pdfrw\n",
      "  Using cached https://files.pythonhosted.org/packages/c0/84/af442c4458756bb0c0d2424102d1200616f3ff9b82c48aaa130e08549bf6/pdfrw-0.4-py2.py3-none-any.whl\n",
      "Installing collected packages: pdfrw\n",
      "Successfully installed pdfrw-0.4\n"
     ]
    }
   ],
   "source": [
    "!pip install pdfrw"
   ]
  },
  {
   "cell_type": "code",
   "execution_count": 11,
   "metadata": {},
   "outputs": [],
   "source": [
    "from pdfrw import PdfReader"
   ]
  },
  {
   "cell_type": "code",
   "execution_count": 12,
   "metadata": {},
   "outputs": [
    {
     "data": {
      "text/plain": [
       "['/Size', '/Root', '/Info', '/ID']"
      ]
     },
     "execution_count": 12,
     "metadata": {},
     "output_type": "execute_result"
    }
   ],
   "source": [
    "x = PdfReader(pdf_filename)\n",
    "x.keys()"
   ]
  },
  {
   "cell_type": "code",
   "execution_count": 13,
   "metadata": {},
   "outputs": [
    {
     "data": {
      "text/plain": [
       "pdfrw.pdfreader.PdfReader"
      ]
     },
     "execution_count": 13,
     "metadata": {},
     "output_type": "execute_result"
    }
   ],
   "source": [
    "type(x)"
   ]
  },
  {
   "cell_type": "code",
   "execution_count": 14,
   "metadata": {},
   "outputs": [
    {
     "data": {
      "text/plain": [
       "{'/Title': '(DATA 601 Assignment 1 Summary)',\n",
       " '/Producer': '(Mac OS X 10.13.6 Quartz PDFContext)',\n",
       " '/Creator': '(Pages)',\n",
       " '/CreationDate': \"(D:20180906232805Z00'00')\",\n",
       " '/ModDate': \"(D:20180906232805Z00'00')\"}"
      ]
     },
     "execution_count": 14,
     "metadata": {},
     "output_type": "execute_result"
    }
   ],
   "source": [
    "x['/Info']"
   ]
  },
  {
   "cell_type": "code",
   "execution_count": 15,
   "metadata": {},
   "outputs": [
    {
     "data": {
      "text/plain": [
       "['/Type', '/MediaBox', '/Count', '/Kids']"
      ]
     },
     "execution_count": 15,
     "metadata": {},
     "output_type": "execute_result"
    }
   ],
   "source": [
    "x['/Root']['/Pages'].keys()"
   ]
  },
  {
   "cell_type": "code",
   "execution_count": 16,
   "metadata": {},
   "outputs": [
    {
     "data": {
      "text/plain": [
       "1"
      ]
     },
     "execution_count": 16,
     "metadata": {},
     "output_type": "execute_result"
    }
   ],
   "source": [
    "len(x['/Root']['/Pages']['/Kids'])"
   ]
  },
  {
   "cell_type": "code",
   "execution_count": 17,
   "metadata": {},
   "outputs": [
    {
     "data": {
      "text/plain": [
       "['/Type', '/Parent', '/Resources', '/Contents', '/MediaBox', '/Annots']"
      ]
     },
     "execution_count": 17,
     "metadata": {},
     "output_type": "execute_result"
    }
   ],
   "source": [
    "x['/Root']['/Pages']['/Kids'][0].keys()"
   ]
  },
  {
   "cell_type": "code",
   "execution_count": 18,
   "metadata": {},
   "outputs": [
    {
     "data": {
      "text/plain": [
       "['/ProcSet', '/ColorSpace', '/Font']"
      ]
     },
     "execution_count": 18,
     "metadata": {},
     "output_type": "execute_result"
    }
   ],
   "source": [
    "x['/Root']['/Pages']['/Kids'][0]['/Resources'].keys()"
   ]
  },
  {
   "cell_type": "markdown",
   "metadata": {},
   "source": [
    "The following libraries don't work for my environment"
   ]
  },
  {
   "cell_type": "markdown",
   "metadata": {},
   "source": [
    "# Tika\n",
    "\n",
    "I didn't get this to work since I don't have Java 8 installed"
   ]
  },
  {
   "cell_type": "raw",
   "metadata": {},
   "source": [
    "# has an external dependency on http://search.maven.org\n",
    "!pip install tika\n",
    "from tika import parser"
   ]
  },
  {
   "cell_type": "raw",
   "metadata": {},
   "source": [
    "# first run depends on access to \n",
    "# http://search.maven.org/remotecontent?filepath=org/apache/tika/tika-server/1.19/tika-server-1.19.jar.md5\n",
    "# need to have Java installed to support Tika server\n",
    "\n",
    "raw = parser.from_file('essays/week1_assignment 1 Summary.pdf')\n",
    "print(raw['content'])"
   ]
  },
  {
   "cell_type": "markdown",
   "metadata": {},
   "source": [
    "# Tabula\n",
    "\n",
    "needs java"
   ]
  },
  {
   "cell_type": "raw",
   "metadata": {},
   "source": [
    "!pip install tabula-py"
   ]
  },
  {
   "cell_type": "raw",
   "metadata": {},
   "source": [
    "import tabula"
   ]
  },
  {
   "cell_type": "raw",
   "metadata": {},
   "source": [
    "df = tabula.read_pdf(pdf_filename, pages='all')"
   ]
  },
  {
   "cell_type": "markdown",
   "metadata": {},
   "source": [
    "# pdfquery"
   ]
  },
  {
   "cell_type": "raw",
   "metadata": {},
   "source": [
    "!pip install pdfquery"
   ]
  },
  {
   "cell_type": "raw",
   "metadata": {},
   "source": [
    "import pdfquery"
   ]
  },
  {
   "cell_type": "raw",
   "metadata": {},
   "source": [
    "pdf = pdfquery.PDFQuery(pdf_filename)"
   ]
  },
  {
   "cell_type": "raw",
   "metadata": {},
   "source": [
    "pdf.extract(searches,tree=None,as_dict=True)"
   ]
  },
  {
   "cell_type": "raw",
   "metadata": {},
   "source": [
    "pdf.load(*page_numbers)"
   ]
  },
  {
   "cell_type": "markdown",
   "metadata": {},
   "source": [
    "# xpdf_python"
   ]
  },
  {
   "cell_type": "raw",
   "metadata": {},
   "source": [
    "!pip install xpdf_python"
   ]
  },
  {
   "cell_type": "raw",
   "metadata": {},
   "source": [
    "import xpdf_python"
   ]
  },
  {
   "cell_type": "raw",
   "metadata": {},
   "source": [
    "from xpdf_python import to_text"
   ]
  },
  {
   "cell_type": "raw",
   "metadata": {},
   "source": [
    "text = to_text(pdf_filename)"
   ]
  },
  {
   "cell_type": "code",
   "execution_count": null,
   "metadata": {},
   "outputs": [],
   "source": []
  }
 ],
 "metadata": {
  "kernelspec": {
   "display_name": "Python 3",
   "language": "python",
   "name": "python3"
  },
  "language_info": {
   "codemirror_mode": {
    "name": "ipython",
    "version": 3
   },
   "file_extension": ".py",
   "mimetype": "text/x-python",
   "name": "python",
   "nbconvert_exporter": "python",
   "pygments_lexer": "ipython3",
   "version": "3.6.7"
  }
 },
 "nbformat": 4,
 "nbformat_minor": 2
}
