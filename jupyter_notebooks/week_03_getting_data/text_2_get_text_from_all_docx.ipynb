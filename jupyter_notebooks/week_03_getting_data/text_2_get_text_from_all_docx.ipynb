{
 "cells": [
  {
   "cell_type": "markdown",
   "metadata": {},
   "source": [
    "# load text from multiple docx files"
   ]
  },
  {
   "cell_type": "code",
   "execution_count": 2,
   "metadata": {},
   "outputs": [],
   "source": [
    "from docx import Document\n",
    "import os"
   ]
  },
  {
   "cell_type": "markdown",
   "metadata": {},
   "source": [
    "Create a function that gets text in document into a dictionary\n",
    "\n",
    "citation: https://stackoverflow.com/questions/25228106/how-to-extract-text-from-an-existing-docx-file-using-python-docx\n",
    "\n",
    "We are putting the code we previously created into a function so it can be re-used"
   ]
  },
  {
   "cell_type": "code",
   "execution_count": 3,
   "metadata": {},
   "outputs": [],
   "source": [
    "def docx_to_dict(name_of_file):\n",
    "    docx_dict = {}\n",
    "    document = Document(name_of_file)\n",
    "    indx=0\n",
    "    for para in document.paragraphs:\n",
    "        indx+=1\n",
    "        if (len(para.text)>0):\n",
    "            #print(\"\\n  paragraph\",indx,\"is\")\n",
    "            #print(para.text)\n",
    "            docx_dict[indx] = para.text\n",
    "    return docx_dict"
   ]
  },
  {
   "cell_type": "code",
   "execution_count": 4,
   "metadata": {},
   "outputs": [
    {
     "data": {
      "text/plain": [
       "{1: 'Week 1 Reading Assignment ',\n",
       " 2: 'A Very Short History of Data Science ',\n",
       " 3: 'Data science is not just erupting in today’s world, but it has erupted since 1962 we just didn’t know the actual name of the work we were practicing. Things such as statistics, mathematics, and data analytics. Around 1970’s they started thinking about the amount of data that was being stored and how we can convert this data into information and knowledge. The knowledge of using customers preference on the products they buy was called database marketing which started in 1994. The first time that the word data science was used in IFCS at a conference in Japan. IFCS has already known about data analytics and data science publishing several books. There it was given variety of names from knowledge extraction to data pattern processing. As the name got bigger, professor in University of Michigan called statistics to be renamed data science and statisticians to be data scientists. Now that the names were changed people with statistics had to learn computing and data science had to look towards mathematics for both to comply together. In 2007 a research Center for Dataology and Data Science was established at Fudan University, China. In which they stated that it takes data in cyberspace as its project. In 2009 Google’s chief Economist, tells that it will be the sexiest job in the next ten year. Since we have so much data, the ability to understand, to process, to extract, to visualize, and to communicate will be very important to companies in the next decade. In June 2010 Mike Loukides writes what is data science. A data science is someone who can tackle all aspects of a problem, from data collection to drawing conclusions, and even testing accuracy to reach the best conclusion. In September 2010 Drew Conway writes the Data Science Venn diagram which includes data science being in the middle of Hacking Skills, Math and Statistics Knowledge, and Substantive Expertise. Overall the term data science came from many other terms, or simply for those who can use both data and science to create something new. '}"
      ]
     },
     "execution_count": 4,
     "metadata": {},
     "output_type": "execute_result"
    }
   ],
   "source": [
    "docx_to_dict('essays/week1_summary.docx')"
   ]
  },
  {
   "cell_type": "markdown",
   "metadata": {},
   "source": [
    "As mentioned previously, we want to loop over .docx files in the directory\n",
    "\n",
    "The following is a very explicit approach. We will see a different method used for PDFs"
   ]
  },
  {
   "cell_type": "code",
   "execution_count": 5,
   "metadata": {},
   "outputs": [
    {
     "data": {
      "text/plain": [
       "['week1_1.txt',\n",
       " 'week1_essay_2019-08-30-18-51-59.txt',\n",
       " 'week1_essay_2019-09-03-10-08-00.txt',\n",
       " 'week2 summary .docx.dat',\n",
       " 'week1_reading Summary.docx.dat',\n",
       " 'week1_Data 601- Summary of The History of Data Science .docx.dat',\n",
       " 'week1_essay_2019-09-03-13-14-27.txt',\n",
       " 'week1_essay_2019-09-03-16-16-04.txt',\n",
       " 'week1_essay_2019-09-03-15-47-41.txt',\n",
       " 'week1_essay_2019-08-30-18-51-59_History of Data Science.docx',\n",
       " 'week1_essay_2019-09-03-14-49-33.txt',\n",
       " 'week1_summary.docx',\n",
       " 'week1_essay_2019-09-03-15-41-31.txt',\n",
       " 'week1_50 years of data science v2.pdf.dat',\n",
       " 'week1_essay_2019-09-03-12-34-27.txt',\n",
       " 'week1_essay_2019-09-03-09-09-52.txt',\n",
       " 'week2_summary-Data Wrangling with Python  ch2 p17 to 40.docx.dat',\n",
       " 'week2_Summary Week 2.docx',\n",
       " 'week1_essay_2019-09-03-15-30-55.txt',\n",
       " 'week1_essay_2019-09-02-23-00-00_Week 1 Essay.txt',\n",
       " 'week1_essay_2019-08-31-00-12-38.txt',\n",
       " 'week1_a History of Data Science.docx.dat',\n",
       " 'week1_essay.zip',\n",
       " 'week1_Data Wrangling Chap 2.docx',\n",
       " 'week1_essay_2019-09-03-17-43-38.txt',\n",
       " 'week1_Data Wrangling Chap 2.docx.dat',\n",
       " 'week1_a Very Short History Of Data Science_1.docx.dat',\n",
       " 'week2_summary-Data Wrangling with Python  ch2 p17 to 40.docx',\n",
       " 'week1_ Summary.docx.dat',\n",
       " 'week1_essay_2019-09-03-10-08-00_assignment 1 short history.txt',\n",
       " 'week1_essay_2019-09-03-15-04-43.txt',\n",
       " 'week2_Week 2 - Summary of DATA WRANGLING WITH PYTHON Chapter 2.docx',\n",
       " 'week2_Data Wrangling with Python page 17 to 40.docx',\n",
       " 'week1_essay_2019-09-03-14-14-24.txt',\n",
       " 'week1_a Very Short History Of Data Science_1.docx',\n",
       " 'week2_Lists and Dictionaries Summary.docx',\n",
       " 'week2_Data601-Reading Assignment_2.docx',\n",
       " 'week1_a History of Data Science.docx',\n",
       " 'week1_essay_2019-09-02-23-00-00.txt',\n",
       " 'week1_summary.docx.dat',\n",
       " 'week1_essay_2019-09-03-16-28-05.txt',\n",
       " 'week1_Assignment1.docx',\n",
       " 'week1_1.txt.dat',\n",
       " 'week2_Lists and Dictionaries Summary.docx.dat',\n",
       " 'week1_reading Summary.docx',\n",
       " 'week1_essay_2019-09-03-11-08-21.txt',\n",
       " 'week1_A Very Short History Of Data Science.docx',\n",
       " 'file_text.txt',\n",
       " 'week2_Data Wrangling with Python page 17 to 40.docx.dat',\n",
       " 'week2_Week 2 Reading Summary.docx.dat',\n",
       " 'Week2_summary.docx.dat',\n",
       " 'week2_Summary Week 2.docx.dat',\n",
       " 'week1_summary-50 years of data science.docx.dat',\n",
       " 'week1_Data 601- Summary of The History of Data Science .docx',\n",
       " 'week2_Data601-Reading Assignment_2.docx.dat',\n",
       " 'week1_essay_2019-09-03-16-19-10.txt',\n",
       " 'week1_essay_2019-09-02-23-40-03.txt',\n",
       " 'week1_essay_2019-09-03-14-04-16.txt',\n",
       " 'week1_assignment 1 Summary.pdf.dat',\n",
       " 'week1_50 Years Data Science Summary.docx',\n",
       " 'week1_essay_2019-09-03-17-43-38_50 years of Data Science.docx',\n",
       " 'week2_Summary on Chapter 2 of Data Wrangling in Python.docx.dat',\n",
       " 'week2_Summary on Chapter 2 of Data Wrangling in Python.docx',\n",
       " 'week1_essay_2019-09-01-14-15-13.txt',\n",
       " 'week1_essay_2019-08-30-21-06-35_A very short history on data science.docx',\n",
       " 'week1_essay_2019-08-30-21-06-35.txt',\n",
       " 'week2_Week 2 Reading Summary.docx',\n",
       " 'week2_Week 2 - Summary of DATA WRANGLING WITH PYTHON Chapter 2.docx.dat',\n",
       " 'week1_essay_2019-09-03-14-50-26.txt',\n",
       " 'week1_380.txt.dat',\n",
       " 'week1_Assignment1.docx.dat',\n",
       " 'Week2_summary.docx',\n",
       " 'week1_summary-50 years of data science.docx',\n",
       " 'week1_ Summary.docx',\n",
       " 'week2 summary .docx',\n",
       " 'week1_essay_2019-09-03-09-09-52_Summary of 50 years of Data Science.txt',\n",
       " 'week1_A Very Short History Of Data Science.docx.dat',\n",
       " 'week1_50 years of data science v2.pdf',\n",
       " 'week1_380.txt',\n",
       " 'week1_50 Years Data Science Summary.docx.dat',\n",
       " 'week1_essay_2019-09-03-17-47-19.txt',\n",
       " 'week1_assignment 1 Summary.pdf']"
      ]
     },
     "execution_count": 5,
     "metadata": {},
     "output_type": "execute_result"
    }
   ],
   "source": [
    "os.listdir(\"essays\")"
   ]
  },
  {
   "cell_type": "code",
   "execution_count": 6,
   "metadata": {},
   "outputs": [
    {
     "name": "stdout",
     "output_type": "stream",
     "text": [
      "essays/week1_essay_2019-08-30-18-51-59_History of Data Science.docx\n",
      "essays/week1_summary.docx\n",
      "essays/week2_Summary Week 2.docx\n",
      "essays/week1_Data Wrangling Chap 2.docx\n",
      "essays/week2_summary-Data Wrangling with Python  ch2 p17 to 40.docx\n",
      "essays/week2_Week 2 - Summary of DATA WRANGLING WITH PYTHON Chapter 2.docx\n",
      "essays/week2_Data Wrangling with Python page 17 to 40.docx\n",
      "essays/week1_a Very Short History Of Data Science_1.docx\n",
      "essays/week2_Lists and Dictionaries Summary.docx\n",
      "essays/week2_Data601-Reading Assignment_2.docx\n",
      "essays/week1_a History of Data Science.docx\n",
      "essays/week1_Assignment1.docx\n",
      "essays/week1_reading Summary.docx\n",
      "essays/week1_A Very Short History Of Data Science.docx\n",
      "essays/week1_Data 601- Summary of The History of Data Science .docx\n",
      "essays/week1_50 Years Data Science Summary.docx\n",
      "essays/week1_essay_2019-09-03-17-43-38_50 years of Data Science.docx\n",
      "essays/week2_Summary on Chapter 2 of Data Wrangling in Python.docx\n",
      "essays/week1_essay_2019-08-30-21-06-35_A very short history on data science.docx\n",
      "essays/week2_Week 2 Reading Summary.docx\n",
      "essays/Week2_summary.docx\n",
      "essays/week1_summary-50 years of data science.docx\n",
      "essays/week1_ Summary.docx\n",
      "essays/week2 summary .docx\n"
     ]
    }
   ],
   "source": [
    "directory=\"essays\"\n",
    "for filename in os.listdir(directory):\n",
    "    if filename.endswith(\".docx\") or filename.endswith(\".doc\"): \n",
    "        #print('file name is',filename)\n",
    "        print(os.path.join(directory, filename))"
   ]
  },
  {
   "cell_type": "markdown",
   "metadata": {},
   "source": [
    "Now we are confident the loop finds all relevant files\n",
    "\n",
    "Insert the function that gets content of a file"
   ]
  },
  {
   "cell_type": "code",
   "execution_count": 7,
   "metadata": {},
   "outputs": [],
   "source": [
    "directory=\"essays\"\n",
    "docx_content={}\n",
    "for filename in os.listdir(directory):\n",
    "    if filename.endswith(\".docx\") or filename.endswith(\".doc\"): \n",
    "        path_to_docx = os.path.join(directory, filename)\n",
    "        docx_content[path_to_docx] = docx_to_dict(path_to_docx)"
   ]
  },
  {
   "cell_type": "markdown",
   "metadata": {},
   "source": [
    "No output was produced. Let's check the contents of the variable."
   ]
  },
  {
   "cell_type": "code",
   "execution_count": 8,
   "metadata": {},
   "outputs": [
    {
     "data": {
      "text/plain": [
       "dict_keys(['essays/week1_essay_2019-08-30-18-51-59_History of Data Science.docx', 'essays/week1_summary.docx', 'essays/week2_Summary Week 2.docx', 'essays/week1_Data Wrangling Chap 2.docx', 'essays/week2_summary-Data Wrangling with Python  ch2 p17 to 40.docx', 'essays/week2_Week 2 - Summary of DATA WRANGLING WITH PYTHON Chapter 2.docx', 'essays/week2_Data Wrangling with Python page 17 to 40.docx', 'essays/week1_a Very Short History Of Data Science_1.docx', 'essays/week2_Lists and Dictionaries Summary.docx', 'essays/week2_Data601-Reading Assignment_2.docx', 'essays/week1_a History of Data Science.docx', 'essays/week1_Assignment1.docx', 'essays/week1_reading Summary.docx', 'essays/week1_A Very Short History Of Data Science.docx', 'essays/week1_Data 601- Summary of The History of Data Science .docx', 'essays/week1_50 Years Data Science Summary.docx', 'essays/week1_essay_2019-09-03-17-43-38_50 years of Data Science.docx', 'essays/week2_Summary on Chapter 2 of Data Wrangling in Python.docx', 'essays/week1_essay_2019-08-30-21-06-35_A very short history on data science.docx', 'essays/week2_Week 2 Reading Summary.docx', 'essays/Week2_summary.docx', 'essays/week1_summary-50 years of data science.docx', 'essays/week1_ Summary.docx', 'essays/week2 summary .docx'])"
      ]
     },
     "execution_count": 8,
     "metadata": {},
     "output_type": "execute_result"
    }
   ],
   "source": [
    "docx_content.keys()"
   ]
  },
  {
   "cell_type": "markdown",
   "metadata": {},
   "source": [
    "what is the value for one of those keys?"
   ]
  },
  {
   "cell_type": "code",
   "execution_count": 9,
   "metadata": {},
   "outputs": [
    {
     "data": {
      "text/plain": [
       "{1: 'DATA 601',\n",
       " 2: '12 September 2018',\n",
       " 4: 'Learning Python Chapter 8: Lists and Dictionaries',\n",
       " 6: 'This chapter introduces two important Python data types – Lists and Dictionaries – and gives an overview of their use and syntax, their methods and attributes, and some of the ways they have changed in Python 3 from Python 2. ',\n",
       " 8: 'Lists are mutable, ordered, indexed, and heterogeneous. Technically, lists contain references to objects but, unless explicitly asked for, will always access the object itself but not the reference. Lists remind me of arrays of pointers that always access the object. Unlike strings, lists are mutable meaning they can be changed in place rather than creating a new object with every change. Because lists are ordered, they can be accessed by offset. Like strings, lists can be indexed and sliced. Lists are described as highly flexible and useful data types. ',\n",
       " 10: 'Dictionaries are described as similarly flexible and useful but with different characteristics. Dictionaries are sets of key-value pairs. Unlike lists, dictionaries are unordered collections of arbitrary objects. Like lists, dictionaries are variable length, heterogeneous, arbitrarily nest-able, and mutable. Unlike lists, dictionaries are accessed by key and are unordered which means that sequence operations cannot be performed on dictionaries. Each key in a dictionary can have only one value but this is not a one-to-one relationship; the same value may be assigned to multiple keys. Keys can be any immutable type but are often strings. ',\n",
       " 12: 'The chapter also discusses some important changes in how both lists and dictionaries are handled between Python 2 and 3. For example, lists of mixed type can no longer be sorted nor can magnitude comparisons in dictionaries be directly performed in Python 3. Several dictionary methods now return iterable view objects rather and lists but these objects can be forced to be lists if needed. The chapter does mention some reasons why one might choose a list over a dictionary (if order is important) or vice versa (a sparsely populated data structure or for named data where a key makes more sense than an offset). Both lists and dictionaries are powerful data types and have their various strengths.'}"
      ]
     },
     "execution_count": 9,
     "metadata": {},
     "output_type": "execute_result"
    }
   ],
   "source": [
    "docx_content['essays/week2_Lists and Dictionaries Summary.docx']"
   ]
  },
  {
   "cell_type": "code",
   "execution_count": null,
   "metadata": {},
   "outputs": [],
   "source": []
  }
 ],
 "metadata": {
  "kernelspec": {
   "display_name": "Python 3",
   "language": "python",
   "name": "python3"
  },
  "language_info": {
   "codemirror_mode": {
    "name": "ipython",
    "version": 3
   },
   "file_extension": ".py",
   "mimetype": "text/x-python",
   "name": "python",
   "nbconvert_exporter": "python",
   "pygments_lexer": "ipython3",
   "version": "3.6.6"
  }
 },
 "nbformat": 4,
 "nbformat_minor": 2
}
