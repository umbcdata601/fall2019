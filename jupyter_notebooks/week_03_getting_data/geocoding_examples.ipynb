{
 "cells": [
  {
   "cell_type": "markdown",
   "metadata": {},
   "source": [
    "Geocoding (address to lat/long)"
   ]
  },
  {
   "cell_type": "code",
   "execution_count": 46,
   "metadata": {},
   "outputs": [],
   "source": [
    "# load API keys from file so they are not exposed in notebook\n",
    "%run api_keys.py"
   ]
  },
  {
   "cell_type": "code",
   "execution_count": 2,
   "metadata": {},
   "outputs": [],
   "source": [
    "import urllib.parse # https://docs.python.org/3/library/urllib.parse.html\n",
    "# https://www.urlencoder.io/python/"
   ]
  },
  {
   "cell_type": "code",
   "execution_count": 3,
   "metadata": {},
   "outputs": [
    {
     "data": {
      "text/plain": [
       "'1600 Amphitheatre Parkway, Mountain View, CA'"
      ]
     },
     "execution_count": 3,
     "metadata": {},
     "output_type": "execute_result"
    }
   ],
   "source": [
    "addr_goog = '1600 Amphitheatre Parkway, Mountain View, CA'\n",
    "addr_goog"
   ]
  },
  {
   "cell_type": "code",
   "execution_count": 4,
   "metadata": {},
   "outputs": [
    {
     "data": {
      "text/plain": [
       "'1600%20Amphitheatre%20Parkway%2C%20Mountain%20View%2C%20CA'"
      ]
     },
     "execution_count": 4,
     "metadata": {},
     "output_type": "execute_result"
    }
   ],
   "source": [
    "addr_goog_url = urllib.parse.quote(addr_goog)\n",
    "addr_goog_url"
   ]
  },
  {
   "cell_type": "markdown",
   "metadata": {},
   "source": [
    "`quote_plus()`: \"Like `quote()`, but also replace spaces by plus signs, as required for quoting HTML form values when building up a query string to go into a URL.\" <BR><a href=\"https://docs.python.org/3/library/urllib.parse.html\">source</a>"
   ]
  },
  {
   "cell_type": "code",
   "execution_count": 5,
   "metadata": {},
   "outputs": [
    {
     "data": {
      "text/plain": [
       "'1600+Amphitheatre+Parkway%2C+Mountain+View%2C+CA'"
      ]
     },
     "execution_count": 5,
     "metadata": {},
     "output_type": "execute_result"
    }
   ],
   "source": [
    "urllib.parse.quote_plus(addr_goog)"
   ]
  },
  {
   "cell_type": "code",
   "execution_count": 6,
   "metadata": {},
   "outputs": [],
   "source": [
    "addr_arlington_url = '1109+N+Highland+St%2c+Arlington+VA'"
   ]
  },
  {
   "cell_type": "code",
   "execution_count": 7,
   "metadata": {},
   "outputs": [],
   "source": [
    "addr_suitland_url = '4600+Silver+Hill+Rd%2C+Suitland%2C+MD+20746'"
   ]
  },
  {
   "cell_type": "code",
   "execution_count": 8,
   "metadata": {},
   "outputs": [],
   "source": [
    "addr_denver_url = 'Denver%2C+CO'"
   ]
  },
  {
   "cell_type": "markdown",
   "metadata": {},
   "source": [
    "# Google\n",
    "\n",
    "$5 per 1000  for API\n",
    "\n",
    "http://py-googlemaps.sourceforge.net/\n",
    "\n",
    "https://developers.google.com/maps/documentation/geocoding/start"
   ]
  },
  {
   "cell_type": "code",
   "execution_count": 9,
   "metadata": {},
   "outputs": [],
   "source": [
    "import requests\n",
    "\n",
    "#response = requests.get('https://maps.googleapis.com/maps/api/geocode/json?address=1600+Amphitheatre+Parkway,+Mountain+View,+CA&key='+google_key)\n",
    "\n",
    "response = requests.get('https://maps.googleapis.com/maps/api/geocode/json?address='+addr_goog_url+'&key='+google_key)"
   ]
  },
  {
   "cell_type": "code",
   "execution_count": 10,
   "metadata": {},
   "outputs": [
    {
     "data": {
      "text/plain": [
       "{'error_message': 'The provided API key is invalid.',\n",
       " 'results': [],\n",
       " 'status': 'REQUEST_DENIED'}"
      ]
     },
     "execution_count": 10,
     "metadata": {},
     "output_type": "execute_result"
    }
   ],
   "source": [
    "resp_json_payload = response.json()\n",
    "resp_json_payload\n",
    "\n",
    "#print(resp_json_payload['results'][0]['geometry']['location'])"
   ]
  },
  {
   "cell_type": "code",
   "execution_count": 11,
   "metadata": {},
   "outputs": [
    {
     "data": {
      "text/plain": [
       "'not_a_key'"
      ]
     },
     "execution_count": 11,
     "metadata": {},
     "output_type": "execute_result"
    }
   ],
   "source": [
    "google_key"
   ]
  },
  {
   "cell_type": "code",
   "execution_count": 12,
   "metadata": {},
   "outputs": [
    {
     "name": "stdout",
     "output_type": "stream",
     "text": [
      "Requirement already satisfied: googlemaps in /opt/conda/lib/python3.6/site-packages (3.1.3)\n",
      "Requirement already satisfied: requests<3.0,>=2.20.0 in /opt/conda/lib/python3.6/site-packages (from googlemaps) (2.20.0)\n",
      "Requirement already satisfied: idna<2.8,>=2.5 in /opt/conda/lib/python3.6/site-packages (from requests<3.0,>=2.20.0->googlemaps) (2.7)\n",
      "Requirement already satisfied: urllib3<1.25,>=1.21.1 in /opt/conda/lib/python3.6/site-packages (from requests<3.0,>=2.20.0->googlemaps) (1.23)\n",
      "Requirement already satisfied: chardet<3.1.0,>=3.0.2 in /opt/conda/lib/python3.6/site-packages (from requests<3.0,>=2.20.0->googlemaps) (3.0.4)\n",
      "Requirement already satisfied: certifi>=2017.4.17 in /opt/conda/lib/python3.6/site-packages (from requests<3.0,>=2.20.0->googlemaps) (2018.11.29)\n"
     ]
    }
   ],
   "source": [
    "!pip install googlemaps"
   ]
  },
  {
   "cell_type": "code",
   "execution_count": 13,
   "metadata": {},
   "outputs": [
    {
     "name": "stdout",
     "output_type": "stream",
     "text": [
      "ERROR: Invalid API key provided.\n"
     ]
    }
   ],
   "source": [
    "import googlemaps \n",
    "  \n",
    "# Requires API key \n",
    "try:\n",
    "    gmaps = googlemaps.Client(key='Your_API_key') \n",
    "except ValueError as error_msg:\n",
    "    print('ERROR:',error_msg)\n",
    "# https://developers.google.com/maps/documentation/javascript/get-api-key"
   ]
  },
  {
   "cell_type": "code",
   "execution_count": 14,
   "metadata": {},
   "outputs": [
    {
     "data": {
      "text/plain": [
       "{'error_message': 'The provided API key is invalid.',\n",
       " 'results': [],\n",
       " 'status': 'REQUEST_DENIED'}"
      ]
     },
     "execution_count": 14,
     "metadata": {},
     "output_type": "execute_result"
    }
   ],
   "source": [
    "resp_json_payload"
   ]
  },
  {
   "cell_type": "code",
   "execution_count": null,
   "metadata": {},
   "outputs": [],
   "source": []
  },
  {
   "cell_type": "markdown",
   "metadata": {},
   "source": [
    "# geopy"
   ]
  },
  {
   "cell_type": "code",
   "execution_count": 15,
   "metadata": {},
   "outputs": [
    {
     "name": "stdout",
     "output_type": "stream",
     "text": [
      "Requirement already satisfied: geopy in /opt/conda/lib/python3.6/site-packages (1.20.0)\n",
      "Requirement already satisfied: geographiclib<2,>=1.49 in /opt/conda/lib/python3.6/site-packages (from geopy) (1.50)\n"
     ]
    }
   ],
   "source": [
    "!pip install geopy "
   ]
  },
  {
   "cell_type": "code",
   "execution_count": 16,
   "metadata": {},
   "outputs": [],
   "source": [
    "import geopy.distance\n",
    "from geopy.geocoders import Nominatim # get lat/long from address string"
   ]
  },
  {
   "cell_type": "code",
   "execution_count": 17,
   "metadata": {},
   "outputs": [],
   "source": [
    "# https://www.quantbarbie.com/blog/2018/7/11/calculate-the-distance-between-two-places-in-python\n",
    "geolocator = Nominatim(user_agent=\"ben.is.located@gmail.com\")"
   ]
  },
  {
   "cell_type": "code",
   "execution_count": 18,
   "metadata": {},
   "outputs": [
    {
     "name": "stdout",
     "output_type": "stream",
     "text": [
      "(40.7179876, -74.0138420443421)\n"
     ]
    }
   ],
   "source": [
    "location1 = geolocator.geocode(\"345 Chambers Street New York\") # the scrambled data doesn't return a lat/long\n",
    "print((location1.latitude, location1.longitude)) "
   ]
  },
  {
   "cell_type": "code",
   "execution_count": 19,
   "metadata": {},
   "outputs": [
    {
     "name": "stdout",
     "output_type": "stream",
     "text": [
      "(40.1431622, -75.9300435)\n"
     ]
    }
   ],
   "source": [
    "location2 = geolocator.geocode(\"3145 Main St, Morgantown, PA 19543\") # the scrambled data doesn't return a lat/long\n",
    "print((location2.latitude, location2.longitude)) "
   ]
  },
  {
   "cell_type": "code",
   "execution_count": 20,
   "metadata": {},
   "outputs": [
    {
     "data": {
      "text/plain": [
       "108.5376315761684"
      ]
     },
     "execution_count": 20,
     "metadata": {},
     "output_type": "execute_result"
    }
   ],
   "source": [
    "# https://stackoverflow.com/questions/19412462/getting-distance-between-two-points-based-on-latitude-longitude\n",
    "geopy.distance.distance((location1.latitude, location1.longitude),(location2.latitude, location2.longitude)).miles"
   ]
  },
  {
   "cell_type": "markdown",
   "metadata": {},
   "source": [
    "# geocodio\n",
    "\n",
    "Works; free; requires API key. API key requires web form registration with email\n",
    "\n",
    "https://dash.geocod.io/apikey\n",
    "\n",
    "\n",
    "\n",
    "https://www.geocod.io/docs/"
   ]
  },
  {
   "cell_type": "code",
   "execution_count": 21,
   "metadata": {},
   "outputs": [],
   "source": [
    "response = requests.get('https://api.geocod.io/v1.4/geocode?q='+addr_arlington_url+'&api_key='+geocodio_key)"
   ]
  },
  {
   "cell_type": "code",
   "execution_count": 22,
   "metadata": {},
   "outputs": [],
   "source": [
    "resp_json_payload = response.json()"
   ]
  },
  {
   "cell_type": "code",
   "execution_count": 23,
   "metadata": {},
   "outputs": [
    {
     "data": {
      "text/plain": [
       "dict_keys(['input', 'results'])"
      ]
     },
     "execution_count": 23,
     "metadata": {},
     "output_type": "execute_result"
    }
   ],
   "source": [
    "resp_json_payload.keys()"
   ]
  },
  {
   "cell_type": "code",
   "execution_count": 24,
   "metadata": {},
   "outputs": [
    {
     "data": {
      "text/plain": [
       "{'lat': 38.886672, 'lng': -77.094735}"
      ]
     },
     "execution_count": 24,
     "metadata": {},
     "output_type": "execute_result"
    }
   ],
   "source": [
    "resp_json_payload['results'][0]['location']"
   ]
  },
  {
   "cell_type": "code",
   "execution_count": null,
   "metadata": {},
   "outputs": [],
   "source": []
  },
  {
   "cell_type": "markdown",
   "metadata": {},
   "source": [
    "# LocationIQ\n",
    "\n",
    "Works; free; requires API key. API key requires web form registration with email\n",
    "\n",
    "https://pypi.org/project/locationiq/\n",
    "\n",
    "https://geocoder.readthedocs.io/providers/LocationIQ.html"
   ]
  },
  {
   "cell_type": "code",
   "execution_count": 25,
   "metadata": {},
   "outputs": [],
   "source": [
    "response = requests.get('https://us1.locationiq.com/v1/search.php?key='+locationIQ_key+'&q='+addr_goog_url+'&format=json')"
   ]
  },
  {
   "cell_type": "code",
   "execution_count": 26,
   "metadata": {},
   "outputs": [],
   "source": [
    "resp_json_payload = response.json()"
   ]
  },
  {
   "cell_type": "code",
   "execution_count": 28,
   "metadata": {},
   "outputs": [
    {
     "data": {
      "text/plain": [
       "list"
      ]
     },
     "execution_count": 28,
     "metadata": {},
     "output_type": "execute_result"
    }
   ],
   "source": [
    "type(resp_json_payload)"
   ]
  },
  {
   "cell_type": "code",
   "execution_count": 29,
   "metadata": {},
   "outputs": [
    {
     "data": {
      "text/plain": [
       "2"
      ]
     },
     "execution_count": 29,
     "metadata": {},
     "output_type": "execute_result"
    }
   ],
   "source": [
    "len(resp_json_payload)"
   ]
  },
  {
   "cell_type": "code",
   "execution_count": 30,
   "metadata": {},
   "outputs": [
    {
     "data": {
      "text/plain": [
       "{'place_id': '21423228',\n",
       " 'licence': 'https://locationiq.com/attribution',\n",
       " 'osm_type': 'node',\n",
       " 'osm_id': '2192620021',\n",
       " 'boundingbox': ['37.4217136', '37.4218136', '-122.084664', '-122.084564'],\n",
       " 'lat': '37.4217636',\n",
       " 'lon': '-122.084614',\n",
       " 'display_name': 'Google Headquarters, 1600, Amphitheatre Parkway, Mountain View, Santa Clara County, California, 94043, USA',\n",
       " 'class': 'office',\n",
       " 'type': 'commercial',\n",
       " 'importance': 0.611}"
      ]
     },
     "execution_count": 30,
     "metadata": {},
     "output_type": "execute_result"
    }
   ],
   "source": [
    "resp_json_payload[0]"
   ]
  },
  {
   "cell_type": "code",
   "execution_count": 31,
   "metadata": {},
   "outputs": [
    {
     "data": {
      "text/plain": [
       "{'place_id': '87187548',\n",
       " 'licence': 'https://locationiq.com/attribution',\n",
       " 'osm_type': 'way',\n",
       " 'osm_id': '23733659',\n",
       " 'boundingbox': ['37.4221124', '37.4228508', '-122.0859868', '-122.0851511'],\n",
       " 'lat': '37.42248575',\n",
       " 'lon': '-122.085584566136',\n",
       " 'display_name': 'Google Building 41, 1600, Amphitheatre Parkway, Mountain View, Santa Clara County, California, 94043, USA',\n",
       " 'class': 'building',\n",
       " 'type': 'commercial',\n",
       " 'importance': 0.611}"
      ]
     },
     "execution_count": 31,
     "metadata": {},
     "output_type": "execute_result"
    }
   ],
   "source": [
    "resp_json_payload[1]"
   ]
  },
  {
   "cell_type": "markdown",
   "metadata": {},
   "source": [
    "# haversine - distance only"
   ]
  },
  {
   "cell_type": "code",
   "execution_count": 32,
   "metadata": {},
   "outputs": [
    {
     "name": "stdout",
     "output_type": "stream",
     "text": [
      "Requirement already satisfied: haversine in /opt/conda/lib/python3.6/site-packages (2.1.2)\n"
     ]
    }
   ],
   "source": [
    "!pip install haversine"
   ]
  },
  {
   "cell_type": "code",
   "execution_count": 33,
   "metadata": {},
   "outputs": [],
   "source": [
    "from haversine import haversine, Unit\n"
   ]
  },
  {
   "cell_type": "markdown",
   "metadata": {},
   "source": [
    "# census.gov\n",
    "\n",
    "\n",
    "Works; free; no API key needed\n",
    "\n",
    "https://geocoding.geo.census.gov/geocoder/Geocoding_Services_API.pdf"
   ]
  },
  {
   "cell_type": "code",
   "execution_count": 34,
   "metadata": {},
   "outputs": [],
   "source": [
    "response = requests.get('https://geocoding.geo.census.gov/geocoder/locations/onelineaddress?address='+addr_suitland_url+'&benchmark=9&format=json')"
   ]
  },
  {
   "cell_type": "code",
   "execution_count": 35,
   "metadata": {},
   "outputs": [],
   "source": [
    "resp_json_payload = response.json()"
   ]
  },
  {
   "cell_type": "code",
   "execution_count": 36,
   "metadata": {},
   "outputs": [
    {
     "data": {
      "text/plain": [
       "{'x': -76.92691, 'y': 38.846542}"
      ]
     },
     "execution_count": 36,
     "metadata": {},
     "output_type": "execute_result"
    }
   ],
   "source": [
    "resp_json_payload['result']['addressMatches'][0]['coordinates']"
   ]
  },
  {
   "cell_type": "markdown",
   "metadata": {},
   "source": [
    "# tamu.edu (Texas A&M University)\n",
    "\n",
    "Works; free; no API key needed\n",
    "\n",
    "https://geoservices.tamu.edu/Services/Geocode/WebService/"
   ]
  },
  {
   "cell_type": "code",
   "execution_count": 37,
   "metadata": {},
   "outputs": [],
   "source": [
    "addr={}\n",
    "addr['street'] = '9355%20Burton%20Way'\n",
    "addr['city'] = 'Beverly%20Hills'\n",
    "addr['state'] = 'ca'\n",
    "addr['zip'] = '90210'"
   ]
  },
  {
   "cell_type": "code",
   "execution_count": 38,
   "metadata": {},
   "outputs": [],
   "source": [
    "response = requests.get('https://geoservices.tamu.edu/Services/Geocode/WebService/GeocoderWebServiceHttpNonParsed_V04_01.aspx?streetAddress='+addr['street']+'&city='+addr['city']+'&state='+addr['state']+'&zip='+addr['zip']+'&apikey='+tamu_key+'&format=json&census=true&censusYear=2000|2010&notStore=false&version=4.01')"
   ]
  },
  {
   "cell_type": "code",
   "execution_count": 39,
   "metadata": {},
   "outputs": [],
   "source": [
    "resp_json_payload = response.json()"
   ]
  },
  {
   "cell_type": "code",
   "execution_count": 40,
   "metadata": {},
   "outputs": [
    {
     "data": {
      "text/plain": [
       "dict_keys(['version', 'TransactionId', 'Version', 'QueryStatusCodeValue', 'FeatureMatchingResultType', 'FeatureMatchingResultCount', 'TimeTaken', 'ExceptionOccured', 'Exception', 'InputAddress', 'OutputGeocodes'])"
      ]
     },
     "execution_count": 40,
     "metadata": {},
     "output_type": "execute_result"
    }
   ],
   "source": [
    "resp_json_payload.keys()"
   ]
  },
  {
   "cell_type": "code",
   "execution_count": 41,
   "metadata": {},
   "outputs": [
    {
     "data": {
      "text/plain": [
       "{'Latitude': '34.0724312845563',\n",
       " 'Longitude': '-118.397420607361',\n",
       " 'NAACCRGISCoordinateQualityCode': '03',\n",
       " 'NAACCRGISCoordinateQualityType': 'StreetSegmentInterpolation',\n",
       " 'MatchScore': '100',\n",
       " 'MatchType': 'Exact',\n",
       " 'FeatureMatchingResultType': 'Success',\n",
       " 'FeatureMatchingResultCount': '1',\n",
       " 'FeatureMatchingGeographyType': 'StreetSegment',\n",
       " 'RegionSize': '5189.80266814376',\n",
       " 'RegionSizeUnits': 'Meters',\n",
       " 'MatchedLocationType': 'LOCATION_TYPE_STREET_ADDRESS',\n",
       " 'ExceptionOccured': 'False',\n",
       " 'Exception': '',\n",
       " 'ErrorMessage': ''}"
      ]
     },
     "execution_count": 41,
     "metadata": {},
     "output_type": "execute_result"
    }
   ],
   "source": [
    "resp_json_payload['OutputGeocodes'][0]['OutputGeocode']"
   ]
  },
  {
   "cell_type": "markdown",
   "metadata": {},
   "source": [
    "# mapquest\n",
    "\n",
    "https://developer.mapquest.com/user/me/apps\n",
    "\n"
   ]
  },
  {
   "cell_type": "code",
   "execution_count": 42,
   "metadata": {},
   "outputs": [],
   "source": [
    "response = requests.get('https://www.mapquestapi.com/geocoding/v1/address?key='+mapquest_consumer_key+'&inFormat=kvp&outFormat=json&location='+addr_denver_url+'&thumbMaps=false')"
   ]
  },
  {
   "cell_type": "code",
   "execution_count": 43,
   "metadata": {},
   "outputs": [],
   "source": [
    "resp_json_payload = response.json()"
   ]
  },
  {
   "cell_type": "code",
   "execution_count": 44,
   "metadata": {},
   "outputs": [
    {
     "data": {
      "text/plain": [
       "dict_keys(['info', 'options', 'results'])"
      ]
     },
     "execution_count": 44,
     "metadata": {},
     "output_type": "execute_result"
    }
   ],
   "source": [
    "resp_json_payload.keys()"
   ]
  },
  {
   "cell_type": "code",
   "execution_count": 45,
   "metadata": {},
   "outputs": [
    {
     "data": {
      "text/plain": [
       "{'lat': 39.738453, 'lng': -104.984853}"
      ]
     },
     "execution_count": 45,
     "metadata": {},
     "output_type": "execute_result"
    }
   ],
   "source": [
    "resp_json_payload['results'][0]['locations'][0]['latLng']"
   ]
  },
  {
   "cell_type": "code",
   "execution_count": null,
   "metadata": {},
   "outputs": [],
   "source": []
  },
  {
   "cell_type": "code",
   "execution_count": null,
   "metadata": {},
   "outputs": [],
   "source": []
  }
 ],
 "metadata": {
  "kernelspec": {
   "display_name": "Python 3",
   "language": "python",
   "name": "python3"
  },
  "language_info": {
   "codemirror_mode": {
    "name": "ipython",
    "version": 3
   },
   "file_extension": ".py",
   "mimetype": "text/x-python",
   "name": "python",
   "nbconvert_exporter": "python",
   "pygments_lexer": "ipython3",
   "version": "3.6.7"
  }
 },
 "nbformat": 4,
 "nbformat_minor": 2
}
