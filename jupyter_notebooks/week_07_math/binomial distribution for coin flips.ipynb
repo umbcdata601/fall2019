{
 "cells": [
  {
   "cell_type": "code",
   "execution_count": 5,
   "metadata": {},
   "outputs": [
    {
     "name": "stdout",
     "output_type": "stream",
     "text": [
      "pandas 0.23.4\n",
      "numpy 1.13.3\n"
     ]
    }
   ],
   "source": [
    "import random \n",
    "import matplotlib.pyplot as plt\n",
    "import seaborn\n",
    "import pandas\n",
    "print('pandas',pandas.__version__)\n",
    "import numpy\n",
    "print('numpy',numpy.__version__)"
   ]
  },
  {
   "cell_type": "markdown",
   "metadata": {},
   "source": [
    "inspired by http://pi3.sites.sheffield.ac.uk/tutorials/week-9\n",
    "\n",
    "# experiment outline\n",
    "\n",
    "I'm going to flip a fair coin a certain number of times. That trial yields a some number of head (and some number of tails)\n",
    "\n",
    "If I repeat the trials many times, what is the outcome?"
   ]
  },
  {
   "cell_type": "code",
   "execution_count": 6,
   "metadata": {},
   "outputs": [],
   "source": [
    "number_of_coin_tosses_per_trial = 1000    # number of coin tosses in each trial\n",
    "\n",
    "number_of_trials = 1000    # number of trials"
   ]
  },
  {
   "cell_type": "markdown",
   "metadata": {},
   "source": [
    "# single experiment consists of multiple coin flips\n",
    "\n",
    "Let 0=tails; 1=heads\n",
    "\n",
    "To count the number of heads in a single trial, I flip a coin many times"
   ]
  },
  {
   "cell_type": "code",
   "execution_count": 7,
   "metadata": {},
   "outputs": [],
   "source": [
    "number_of_heads=0\n",
    "for this_flip_indx in range(number_of_coin_tosses_per_trial):\n",
    "    coin_result = random.randint(0,1)\n",
    "    number_of_heads+=coin_result"
   ]
  },
  {
   "cell_type": "code",
   "execution_count": 8,
   "metadata": {},
   "outputs": [
    {
     "data": {
      "text/plain": [
       "475"
      ]
     },
     "execution_count": 8,
     "metadata": {},
     "output_type": "execute_result"
    }
   ],
   "source": [
    "number_of_heads"
   ]
  },
  {
   "cell_type": "markdown",
   "metadata": {},
   "source": [
    "# Aside: list comprehensions\n",
    "\n",
    "A more concise version of that trial loop is to use a list comprehension (see <a href=\"https://www.geeksforgeeks.org/comprehensions-in-python/\">1</a> and <a href=\"https://www.pythonforbeginners.com/basics/list-comprehensions-in-python\">2</a> and <a href=\"https://python-3-patterns-idioms-test.readthedocs.io/en/latest/Comprehensions.html\">3</a>).\n",
    "\n",
    "Syntax: \n",
    "\n",
    "`[ expression for item in list if conditional ]`\n",
    "\n",
    "Example:"
   ]
  },
  {
   "cell_type": "code",
   "execution_count": 9,
   "metadata": {},
   "outputs": [
    {
     "data": {
      "text/plain": [
       "['abc', 'abc', 'abc']"
      ]
     },
     "execution_count": 9,
     "metadata": {},
     "output_type": "execute_result"
    }
   ],
   "source": [
    "['abc' for indx in range(3)]"
   ]
  },
  {
   "cell_type": "code",
   "execution_count": 10,
   "metadata": {},
   "outputs": [
    {
     "name": "stdout",
     "output_type": "stream",
     "text": [
      "['abc', 'abc', 'abc']\n"
     ]
    }
   ],
   "source": [
    "example_list = []\n",
    "for indx in range(3):\n",
    "    example_list.append('abc')\n",
    "print(example_list)"
   ]
  },
  {
   "cell_type": "markdown",
   "metadata": {},
   "source": [
    "# Rewrite the for loop as a list comprehension"
   ]
  },
  {
   "cell_type": "code",
   "execution_count": 11,
   "metadata": {},
   "outputs": [
    {
     "data": {
      "text/plain": [
       "[1, 0, 1, 0, 0, 1, 0, 0, 0, 1]"
      ]
     },
     "execution_count": 11,
     "metadata": {},
     "output_type": "execute_result"
    }
   ],
   "source": [
    "[random.randint(0,1) for this_flip_indx in range(10)]"
   ]
  },
  {
   "cell_type": "code",
   "execution_count": 8,
   "metadata": {},
   "outputs": [],
   "source": [
    "number_of_heads = sum([random.randint(0,1) \n",
    "                       for this_flip_indx in range(number_of_coin_tosses_per_trial)])"
   ]
  },
  {
   "cell_type": "markdown",
   "metadata": {},
   "source": [
    "We did the experiment (a single trial) in one line of Python\n",
    "\n",
    "The intention is to run many trials of the same experiment. \n",
    "\n",
    "We could use a loop"
   ]
  },
  {
   "cell_type": "code",
   "execution_count": 12,
   "metadata": {},
   "outputs": [],
   "source": [
    "list_of_trial_results = []\n",
    "for trial_indx in range(number_of_trials):\n",
    "    number_of_heads = sum([random.randint(0,1) for this_flip_indx in range(number_of_coin_tosses_per_trial)])\n",
    "    list_of_trial_results.append(number_of_heads)"
   ]
  },
  {
   "cell_type": "markdown",
   "metadata": {},
   "source": [
    "Or we could use nested list comprehensions"
   ]
  },
  {
   "cell_type": "code",
   "execution_count": 13,
   "metadata": {},
   "outputs": [],
   "source": [
    "list_of_trial_results = [sum([random.randint(0,1) for this_flip_indx in range(number_of_coin_tosses_per_trial)]) \n",
    "          for trial_indx in range(number_of_trials)]"
   ]
  },
  {
   "cell_type": "markdown",
   "metadata": {},
   "source": [
    "list comprehensions can decrease cognitive load if they are simple, but debugging them is harder"
   ]
  },
  {
   "cell_type": "code",
   "execution_count": 14,
   "metadata": {},
   "outputs": [
    {
     "name": "stdout",
     "output_type": "stream",
     "text": [
      "1000\n"
     ]
    }
   ],
   "source": [
    "print(len(list_of_trial_results))"
   ]
  },
  {
   "cell_type": "markdown",
   "metadata": {},
   "source": [
    "Each element in the list_of_trial_results is the count of how many times \"heads\" appeared"
   ]
  },
  {
   "cell_type": "code",
   "execution_count": 13,
   "metadata": {},
   "outputs": [
    {
     "data": {
      "text/plain": [
       "[499, 494, 517, 485, 490, 508, 487, 500, 499, 520]"
      ]
     },
     "execution_count": 13,
     "metadata": {},
     "output_type": "execute_result"
    }
   ],
   "source": [
    "list_of_trial_results[0:10]"
   ]
  },
  {
   "cell_type": "markdown",
   "metadata": {},
   "source": [
    "What is the distribution of that set of outcomes?"
   ]
  },
  {
   "cell_type": "code",
   "execution_count": 14,
   "metadata": {},
   "outputs": [
    {
     "data": {
      "text/plain": [
       "Text(0, 0.5, 'number of trials')"
      ]
     },
     "execution_count": 14,
     "metadata": {},
     "output_type": "execute_result"
    },
    {
     "data": {
      "image/png": "[encoded data removed]",
      "text/plain": [
       "<Figure size 432x288 with 1 Axes>"
      ]
     },
     "metadata": {
      "needs_background": "light"
     },
     "output_type": "display_data"
    }
   ],
   "source": [
    "_=plt.hist(list_of_trial_results)\n",
    "plt.xlabel('number of heads')\n",
    "plt.ylabel('number of trials')"
   ]
  },
  {
   "cell_type": "code",
   "execution_count": 16,
   "metadata": {},
   "outputs": [
    {
     "data": {
      "image/png": "[encoded data removed]",
      "text/plain": [
       "<Figure size 432x288 with 1 Axes>"
      ]
     },
     "metadata": {
      "needs_background": "light"
     },
     "output_type": "display_data"
    }
   ],
   "source": [
    "plt.xlabel('number of heads')\n",
    "plt.ylabel('number of trials')\n",
    "plt.axis([425, 575, 0, 40])\n",
    "#plt.grid(True)\n",
    "_=plt.hist(list_of_trial_results,bins=range(number_of_coin_tosses_per_trial))\n",
    "plt.show()"
   ]
  },
  {
   "cell_type": "markdown",
   "metadata": {},
   "source": [
    "Alternative library: Seaborn\n",
    "\n",
    "Seaborn is a Python data visualization library based on matplotlib.\n",
    "\n",
    "https://seaborn.pydata.org/"
   ]
  },
  {
   "cell_type": "code",
   "execution_count": 12,
   "metadata": {},
   "outputs": [
    {
     "data": {
      "image/png": "[encoded data removed]",
      "text/plain": [
       "<Figure size 432x288 with 1 Axes>"
      ]
     },
     "metadata": {
      "needs_background": "light"
     },
     "output_type": "display_data"
    }
   ],
   "source": [
    "ax=seaborn.distplot(list_of_trial_results)\n",
    "\n",
    "_=ax.set(xlabel='number of heads', ylabel='number of trials')\n",
    "plt.savefig('seaborn_binomial')"
   ]
  },
  {
   "cell_type": "markdown",
   "metadata": {},
   "source": [
    "<BR>\n",
    "<BR>\n",
    "<BR>\n",
    "<BR>\n",
    "<BR>\n",
    "<BR>\n",
    "<BR>\n",
    "<BR>\n",
    "<BR>\n",
    "<BR>\n",
    "<BR>\n",
    "<BR>\n",
    "<BR>\n"
   ]
  },
  {
   "cell_type": "raw",
   "metadata": {},
   "source": [
    "# error bars"
   ]
  },
  {
   "cell_type": "raw",
   "metadata": {},
   "source": [
    "count_heads=0\n",
    "num_flips=50\n",
    "for indx in range(num_flips):\n",
    "    coin = random.randint(1, 2) # random coin flip results in 1 or 2\n",
    "    count_heads += coin-1"
   ]
  },
  {
   "cell_type": "raw",
   "metadata": {},
   "source": [
    "df = pandas.DataFrame([{'head count':count_heads,'tail count':num_flips-count_heads}])\n",
    "df"
   ]
  },
  {
   "cell_type": "raw",
   "metadata": {},
   "source": [
    "_=df.plot.bar()\n",
    "_=plt.xticks([])"
   ]
  },
  {
   "cell_type": "raw",
   "metadata": {},
   "source": [
    "#https://seaborn.pydata.org/generated/seaborn.barplot.html\n",
    "import seaborn as sns\n",
    "sns.set(style=\"whitegrid\")\n",
    "tips = sns.load_dataset(\"tips\")\n",
    "ax = sns.barplot(x=\"day\", y=\"total_bill\", data=tips)"
   ]
  },
  {
   "cell_type": "raw",
   "metadata": {},
   "source": []
  }
 ],
 "metadata": {
  "kernelspec": {
   "display_name": "Python 3",
   "language": "python",
   "name": "python3"
  },
  "language_info": {
   "codemirror_mode": {
    "name": "ipython",
    "version": 3
   },
   "file_extension": ".py",
   "mimetype": "text/x-python",
   "name": "python",
   "nbconvert_exporter": "python",
   "pygments_lexer": "ipython3",
   "version": "3.6.6"
  }
 },
 "nbformat": 4,
 "nbformat_minor": 2
}
