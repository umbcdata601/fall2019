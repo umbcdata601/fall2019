{
 "cells": [
  {
   "cell_type": "markdown",
   "metadata": {},
   "source": [
    "# scaling of search"
   ]
  },
  {
   "cell_type": "code",
   "execution_count": 1,
   "metadata": {},
   "outputs": [],
   "source": [
    "import random\n",
    "import timeit\n",
    "import time"
   ]
  },
  {
   "cell_type": "code",
   "execution_count": 2,
   "metadata": {},
   "outputs": [],
   "source": [
    "def create_sequence_of_interest(length_of_seq):\n",
    "    \"\"\"\n",
    "    create a sequence of given length containing integer values, either 1 or 2\n",
    "\n",
    "    this is intended to represent the outcome of a sequence of coin flips\n",
    "    \"\"\"\n",
    "    list_of_flips=[]\n",
    "    for this_flip in range(length_of_seq):\n",
    "        list_of_flips.append(random.randint(1, 2))\n",
    "    return tuple(list_of_flips)"
   ]
  },
  {
   "cell_type": "code",
   "execution_count": 3,
   "metadata": {},
   "outputs": [
    {
     "data": {
      "text/plain": [
       "(2, 2, 2, 2, 1)"
      ]
     },
     "execution_count": 3,
     "metadata": {},
     "output_type": "execute_result"
    }
   ],
   "source": [
    "create_sequence_of_interest(5)"
   ]
  },
  {
   "cell_type": "code",
   "execution_count": 5,
   "metadata": {},
   "outputs": [],
   "source": [
    "def find_match(sequence_of_interest):\n",
    "    \"\"\"\n",
    "    given a sequence of integers (outcome of either 1 or 2), \n",
    "    flip a coin until that sequence is found\n",
    "    \"\"\"\n",
    "    start_time = timeit.default_timer()\n",
    "    number_of_coin_flips=0\n",
    "    this_run=[]  # store the results of the random coin flips in a list\n",
    "    while True:\n",
    "        coin = random.randint(1, 2) # random coin flip results in 1 or 2\n",
    "        number_of_coin_flips+=1\n",
    "        this_run.append(coin)       # add coin flip result to list\n",
    "        if (len(this_run)==len(sequence_of_interest)):\n",
    "            found_match=False\n",
    "            for flip_indx in range(len(sequence_of_interest)):\n",
    "                if (sequence_of_interest[flip_indx] == this_run[flip_indx]):\n",
    "                    found_match=True\n",
    "                else: # patterns don't match\n",
    "                    found_match=False\n",
    "                    this_run=[]\n",
    "                    break\n",
    "            if (found_match==True):\n",
    "                #print(this_run)\n",
    "                break\n",
    "\n",
    "    #print(\"number of coin flips:\",number_of_coin_flips)\n",
    "    elapsed = timeit.default_timer() - start_time\n",
    "    #print(str(elapsed) + \" seconds\")\n",
    "    return elapsed, number_of_coin_flips"
   ]
  },
  {
   "cell_type": "code",
   "execution_count": 8,
   "metadata": {},
   "outputs": [
    {
     "name": "stdout",
     "output_type": "stream",
     "text": [
      "(2, 2, 1, 2, 2)\n"
     ]
    },
    {
     "data": {
      "text/plain": [
       "(0.0004891549997410038, 75)"
      ]
     },
     "execution_count": 8,
     "metadata": {},
     "output_type": "execute_result"
    }
   ],
   "source": [
    "seq_of_interest = create_sequence_of_interest(5)\n",
    "print(seq_of_interest)\n",
    "find_match(seq_of_interest)"
   ]
  },
  {
   "cell_type": "markdown",
   "metadata": {},
   "source": [
    "parameters for my investigation"
   ]
  },
  {
   "cell_type": "code",
   "execution_count": 9,
   "metadata": {},
   "outputs": [],
   "source": [
    "number_of_experiments_per_loop=1000\n",
    "start_length=3\n",
    "end_length=10"
   ]
  },
  {
   "cell_type": "markdown",
   "metadata": {},
   "source": [
    "\n",
    "<pre>\n",
    "1000 sequences of length 3\n",
    "1000 sequences of length 4\n",
    "1000 sequences of length 5\n",
    "...\n",
    "1000 sequences of length 10\n",
    "</pre>\n",
    "\n",
    "To make that clearer, I'll break out what each experiment is\n",
    "<pre>\n",
    "1000 sequences of length 3:\n",
    "* for a sequence (1,2,1), how many coin flips to find a match?\n",
    "* for a sequence (1,1,1), how many coin flips to find a match?\n",
    "* for a sequence (2,2,1), how many coin flips to find a match?\n",
    "...\n",
    "1000 sequences of length 4\n",
    "* for a sequence (2,1,2,1), how many coin flips to find a match?\n",
    "* for a sequence (1,2,1,1), how many coin flips to find a match?\n",
    "* for a sequence (2,2,1,1), how many coin flips to find a match?\n",
    "...\n",
    "1000 sequences of length 5\n",
    "* for a sequence (1,1,1,2,1), how many coin flips to find a match?\n",
    "* for a sequence (1,1,1,2,1), how many coin flips to find a match?\n",
    "* for a sequence (2,2,1,1,1), how many coin flips to find a match?\n",
    "...\n",
    "1000 sequences of length 10\n",
    "* for a sequence (1,1,1,2,1,2,2,1,2,2), how many coin flips to find a match?\n",
    "* for a sequence (1,1,1,2,1,2,1,2,1,1), how many coin flips to find a match?\n",
    "* for a sequence (2,2,1,1,1,2,1,2,1,1), how many coin flips to find a match?\n",
    "</pre>"
   ]
  },
  {
   "cell_type": "code",
   "execution_count": 10,
   "metadata": {},
   "outputs": [
    {
     "name": "stdout",
     "output_type": "stream",
     "text": [
      "elapsed: 46.4642117023468 seconds\n"
     ]
    }
   ],
   "source": [
    "list_of_result_dicts=[]\n",
    "start_time=time.time()\n",
    "for length_of_seq in range(3,10):\n",
    "    for this_try in range(number_of_experiments_per_loop):\n",
    "        sequence_of_interest = create_sequence_of_interest(length_of_seq)\n",
    "#        print(sequence_of_interest)\n",
    "\n",
    "        elapsed, number_of_coin_flips = find_match(sequence_of_interest)\n",
    "#        print(elapsed,\"seconds\")\n",
    "#        print(number_of_coin_flips)\n",
    "        this_result={}\n",
    "        this_result['elapsed time in seconds'] = elapsed\n",
    "        this_result['number of flips'] = number_of_coin_flips\n",
    "        this_result['sequence length'] = length_of_seq\n",
    "        list_of_result_dicts.append(this_result)\n",
    "        \n",
    "print('elapsed:',time.time()-start_time,'seconds')"
   ]
  },
  {
   "cell_type": "code",
   "execution_count": 11,
   "metadata": {},
   "outputs": [
    {
     "data": {
      "text/plain": [
       "'0.23.4'"
      ]
     },
     "execution_count": 11,
     "metadata": {},
     "output_type": "execute_result"
    }
   ],
   "source": [
    "import pandas\n",
    "pandas.__version__"
   ]
  },
  {
   "cell_type": "code",
   "execution_count": 12,
   "metadata": {},
   "outputs": [
    {
     "data": {
      "text/html": [
       "<div>\n",
       "<style scoped>\n",
       "    .dataframe tbody tr th:only-of-type {\n",
       "        vertical-align: middle;\n",
       "    }\n",
       "\n",
       "    .dataframe tbody tr th {\n",
       "        vertical-align: top;\n",
       "    }\n",
       "\n",
       "    .dataframe thead th {\n",
       "        text-align: right;\n",
       "    }\n",
       "</style>\n",
       "<table border=\"1\" class=\"dataframe\">\n",
       "  <thead>\n",
       "    <tr style=\"text-align: right;\">\n",
       "      <th></th>\n",
       "      <th>elapsed time in seconds</th>\n",
       "      <th>number of flips</th>\n",
       "      <th>sequence length</th>\n",
       "    </tr>\n",
       "  </thead>\n",
       "  <tbody>\n",
       "    <tr>\n",
       "      <th>0</th>\n",
       "      <td>0.000555</td>\n",
       "      <td>75</td>\n",
       "      <td>3</td>\n",
       "    </tr>\n",
       "    <tr>\n",
       "      <th>1</th>\n",
       "      <td>0.000138</td>\n",
       "      <td>30</td>\n",
       "      <td>3</td>\n",
       "    </tr>\n",
       "    <tr>\n",
       "      <th>2</th>\n",
       "      <td>0.001051</td>\n",
       "      <td>72</td>\n",
       "      <td>3</td>\n",
       "    </tr>\n",
       "    <tr>\n",
       "      <th>3</th>\n",
       "      <td>0.000107</td>\n",
       "      <td>6</td>\n",
       "      <td>3</td>\n",
       "    </tr>\n",
       "    <tr>\n",
       "      <th>4</th>\n",
       "      <td>0.000087</td>\n",
       "      <td>15</td>\n",
       "      <td>3</td>\n",
       "    </tr>\n",
       "    <tr>\n",
       "      <th>5</th>\n",
       "      <td>0.000109</td>\n",
       "      <td>18</td>\n",
       "      <td>3</td>\n",
       "    </tr>\n",
       "    <tr>\n",
       "      <th>6</th>\n",
       "      <td>0.000090</td>\n",
       "      <td>15</td>\n",
       "      <td>3</td>\n",
       "    </tr>\n",
       "    <tr>\n",
       "      <th>7</th>\n",
       "      <td>0.000306</td>\n",
       "      <td>33</td>\n",
       "      <td>3</td>\n",
       "    </tr>\n",
       "    <tr>\n",
       "      <th>8</th>\n",
       "      <td>0.000023</td>\n",
       "      <td>3</td>\n",
       "      <td>3</td>\n",
       "    </tr>\n",
       "    <tr>\n",
       "      <th>9</th>\n",
       "      <td>0.000471</td>\n",
       "      <td>51</td>\n",
       "      <td>3</td>\n",
       "    </tr>\n",
       "  </tbody>\n",
       "</table>\n",
       "</div>"
      ],
      "text/plain": [
       "   elapsed time in seconds  number of flips  sequence length\n",
       "0                 0.000555               75                3\n",
       "1                 0.000138               30                3\n",
       "2                 0.001051               72                3\n",
       "3                 0.000107                6                3\n",
       "4                 0.000087               15                3\n",
       "5                 0.000109               18                3\n",
       "6                 0.000090               15                3\n",
       "7                 0.000306               33                3\n",
       "8                 0.000023                3                3\n",
       "9                 0.000471               51                3"
      ]
     },
     "execution_count": 12,
     "metadata": {},
     "output_type": "execute_result"
    }
   ],
   "source": [
    "results_df = pandas.DataFrame(list_of_result_dicts)\n",
    "results_df.head(10)"
   ]
  },
  {
   "cell_type": "code",
   "execution_count": 13,
   "metadata": {},
   "outputs": [
    {
     "data": {
      "text/plain": [
       "(7000, 3)"
      ]
     },
     "execution_count": 13,
     "metadata": {},
     "output_type": "execute_result"
    }
   ],
   "source": [
    "results_df.shape"
   ]
  },
  {
   "cell_type": "code",
   "execution_count": 14,
   "metadata": {},
   "outputs": [
    {
     "data": {
      "text/plain": [
       "'3.0.2'"
      ]
     },
     "execution_count": 14,
     "metadata": {},
     "output_type": "execute_result"
    }
   ],
   "source": [
    "import matplotlib\n",
    "import matplotlib.pyplot as plt\n",
    "matplotlib.__version__"
   ]
  },
  {
   "cell_type": "code",
   "execution_count": 15,
   "metadata": {},
   "outputs": [
    {
     "data": {
      "image/png": "[encoded data removed]",
      "text/plain": [
       "<Figure size 432x288 with 1 Axes>"
      ]
     },
     "metadata": {
      "needs_background": "light"
     },
     "output_type": "display_data"
    }
   ],
   "source": [
    "results_df.plot.scatter(x='sequence length',y='elapsed time in seconds')\n",
    "plt.show()"
   ]
  },
  {
   "cell_type": "code",
   "execution_count": 16,
   "metadata": {},
   "outputs": [
    {
     "data": {
      "image/png": "[encoded data removed]",
      "text/plain": [
       "<Figure size 432x288 with 1 Axes>"
      ]
     },
     "metadata": {
      "needs_background": "light"
     },
     "output_type": "display_data"
    }
   ],
   "source": [
    "results_df.plot.scatter(x='sequence length',y='number of flips')\n",
    "plt.show()"
   ]
  },
  {
   "cell_type": "code",
   "execution_count": 17,
   "metadata": {},
   "outputs": [
    {
     "data": {
      "text/html": [
       "<div>\n",
       "<style scoped>\n",
       "    .dataframe tbody tr th:only-of-type {\n",
       "        vertical-align: middle;\n",
       "    }\n",
       "\n",
       "    .dataframe tbody tr th {\n",
       "        vertical-align: top;\n",
       "    }\n",
       "\n",
       "    .dataframe thead tr th {\n",
       "        text-align: left;\n",
       "    }\n",
       "\n",
       "    .dataframe thead tr:last-of-type th {\n",
       "        text-align: right;\n",
       "    }\n",
       "</style>\n",
       "<table border=\"1\" class=\"dataframe\">\n",
       "  <thead>\n",
       "    <tr>\n",
       "      <th></th>\n",
       "      <th colspan=\"8\" halign=\"left\">elapsed time in seconds</th>\n",
       "      <th colspan=\"8\" halign=\"left\">number of flips</th>\n",
       "    </tr>\n",
       "    <tr>\n",
       "      <th></th>\n",
       "      <th>count</th>\n",
       "      <th>mean</th>\n",
       "      <th>std</th>\n",
       "      <th>min</th>\n",
       "      <th>25%</th>\n",
       "      <th>50%</th>\n",
       "      <th>75%</th>\n",
       "      <th>max</th>\n",
       "      <th>count</th>\n",
       "      <th>mean</th>\n",
       "      <th>std</th>\n",
       "      <th>min</th>\n",
       "      <th>25%</th>\n",
       "      <th>50%</th>\n",
       "      <th>75%</th>\n",
       "      <th>max</th>\n",
       "    </tr>\n",
       "    <tr>\n",
       "      <th>sequence length</th>\n",
       "      <th></th>\n",
       "      <th></th>\n",
       "      <th></th>\n",
       "      <th></th>\n",
       "      <th></th>\n",
       "      <th></th>\n",
       "      <th></th>\n",
       "      <th></th>\n",
       "      <th></th>\n",
       "      <th></th>\n",
       "      <th></th>\n",
       "      <th></th>\n",
       "      <th></th>\n",
       "      <th></th>\n",
       "      <th></th>\n",
       "      <th></th>\n",
       "    </tr>\n",
       "  </thead>\n",
       "  <tbody>\n",
       "    <tr>\n",
       "      <th>3</th>\n",
       "      <td>1000.0</td>\n",
       "      <td>0.000189</td>\n",
       "      <td>0.000920</td>\n",
       "      <td>0.000009</td>\n",
       "      <td>0.000039</td>\n",
       "      <td>0.000081</td>\n",
       "      <td>0.000160</td>\n",
       "      <td>0.025809</td>\n",
       "      <td>1000.0</td>\n",
       "      <td>25.044</td>\n",
       "      <td>22.852227</td>\n",
       "      <td>3.0</td>\n",
       "      <td>9.0</td>\n",
       "      <td>18.0</td>\n",
       "      <td>33.75</td>\n",
       "      <td>150.0</td>\n",
       "    </tr>\n",
       "    <tr>\n",
       "      <th>4</th>\n",
       "      <td>1000.0</td>\n",
       "      <td>0.000265</td>\n",
       "      <td>0.000305</td>\n",
       "      <td>0.000012</td>\n",
       "      <td>0.000072</td>\n",
       "      <td>0.000170</td>\n",
       "      <td>0.000339</td>\n",
       "      <td>0.002309</td>\n",
       "      <td>1000.0</td>\n",
       "      <td>63.516</td>\n",
       "      <td>62.628748</td>\n",
       "      <td>4.0</td>\n",
       "      <td>20.0</td>\n",
       "      <td>44.0</td>\n",
       "      <td>88.00</td>\n",
       "      <td>456.0</td>\n",
       "    </tr>\n",
       "    <tr>\n",
       "      <th>5</th>\n",
       "      <td>1000.0</td>\n",
       "      <td>0.001523</td>\n",
       "      <td>0.003092</td>\n",
       "      <td>0.000016</td>\n",
       "      <td>0.000244</td>\n",
       "      <td>0.000617</td>\n",
       "      <td>0.001482</td>\n",
       "      <td>0.042990</td>\n",
       "      <td>1000.0</td>\n",
       "      <td>160.190</td>\n",
       "      <td>162.034314</td>\n",
       "      <td>5.0</td>\n",
       "      <td>45.0</td>\n",
       "      <td>115.0</td>\n",
       "      <td>215.00</td>\n",
       "      <td>1180.0</td>\n",
       "    </tr>\n",
       "    <tr>\n",
       "      <th>6</th>\n",
       "      <td>1000.0</td>\n",
       "      <td>0.002820</td>\n",
       "      <td>0.003721</td>\n",
       "      <td>0.000021</td>\n",
       "      <td>0.000662</td>\n",
       "      <td>0.001565</td>\n",
       "      <td>0.003588</td>\n",
       "      <td>0.051988</td>\n",
       "      <td>1000.0</td>\n",
       "      <td>380.526</td>\n",
       "      <td>392.306451</td>\n",
       "      <td>6.0</td>\n",
       "      <td>108.0</td>\n",
       "      <td>255.0</td>\n",
       "      <td>523.50</td>\n",
       "      <td>2616.0</td>\n",
       "    </tr>\n",
       "    <tr>\n",
       "      <th>7</th>\n",
       "      <td>1000.0</td>\n",
       "      <td>0.005044</td>\n",
       "      <td>0.005452</td>\n",
       "      <td>0.000025</td>\n",
       "      <td>0.001338</td>\n",
       "      <td>0.003230</td>\n",
       "      <td>0.006971</td>\n",
       "      <td>0.042480</td>\n",
       "      <td>1000.0</td>\n",
       "      <td>929.124</td>\n",
       "      <td>864.421541</td>\n",
       "      <td>7.0</td>\n",
       "      <td>308.0</td>\n",
       "      <td>658.0</td>\n",
       "      <td>1296.75</td>\n",
       "      <td>6167.0</td>\n",
       "    </tr>\n",
       "    <tr>\n",
       "      <th>8</th>\n",
       "      <td>1000.0</td>\n",
       "      <td>0.011076</td>\n",
       "      <td>0.011234</td>\n",
       "      <td>0.000035</td>\n",
       "      <td>0.003165</td>\n",
       "      <td>0.007591</td>\n",
       "      <td>0.014936</td>\n",
       "      <td>0.079331</td>\n",
       "      <td>1000.0</td>\n",
       "      <td>2111.256</td>\n",
       "      <td>2001.083900</td>\n",
       "      <td>8.0</td>\n",
       "      <td>648.0</td>\n",
       "      <td>1576.0</td>\n",
       "      <td>2848.00</td>\n",
       "      <td>13880.0</td>\n",
       "    </tr>\n",
       "    <tr>\n",
       "      <th>9</th>\n",
       "      <td>1000.0</td>\n",
       "      <td>0.025205</td>\n",
       "      <td>0.026688</td>\n",
       "      <td>0.000028</td>\n",
       "      <td>0.006997</td>\n",
       "      <td>0.016802</td>\n",
       "      <td>0.034782</td>\n",
       "      <td>0.237099</td>\n",
       "      <td>1000.0</td>\n",
       "      <td>4802.508</td>\n",
       "      <td>4804.345849</td>\n",
       "      <td>9.0</td>\n",
       "      <td>1417.5</td>\n",
       "      <td>3262.5</td>\n",
       "      <td>6907.50</td>\n",
       "      <td>44397.0</td>\n",
       "    </tr>\n",
       "  </tbody>\n",
       "</table>\n",
       "</div>"
      ],
      "text/plain": [
       "                elapsed time in seconds                                \\\n",
       "                                  count      mean       std       min   \n",
       "sequence length                                                         \n",
       "3                                1000.0  0.000189  0.000920  0.000009   \n",
       "4                                1000.0  0.000265  0.000305  0.000012   \n",
       "5                                1000.0  0.001523  0.003092  0.000016   \n",
       "6                                1000.0  0.002820  0.003721  0.000021   \n",
       "7                                1000.0  0.005044  0.005452  0.000025   \n",
       "8                                1000.0  0.011076  0.011234  0.000035   \n",
       "9                                1000.0  0.025205  0.026688  0.000028   \n",
       "\n",
       "                                                        number of flips  \\\n",
       "                      25%       50%       75%       max           count   \n",
       "sequence length                                                           \n",
       "3                0.000039  0.000081  0.000160  0.025809          1000.0   \n",
       "4                0.000072  0.000170  0.000339  0.002309          1000.0   \n",
       "5                0.000244  0.000617  0.001482  0.042990          1000.0   \n",
       "6                0.000662  0.001565  0.003588  0.051988          1000.0   \n",
       "7                0.001338  0.003230  0.006971  0.042480          1000.0   \n",
       "8                0.003165  0.007591  0.014936  0.079331          1000.0   \n",
       "9                0.006997  0.016802  0.034782  0.237099          1000.0   \n",
       "\n",
       "                                                                               \n",
       "                     mean          std  min     25%     50%      75%      max  \n",
       "sequence length                                                                \n",
       "3                  25.044    22.852227  3.0     9.0    18.0    33.75    150.0  \n",
       "4                  63.516    62.628748  4.0    20.0    44.0    88.00    456.0  \n",
       "5                 160.190   162.034314  5.0    45.0   115.0   215.00   1180.0  \n",
       "6                 380.526   392.306451  6.0   108.0   255.0   523.50   2616.0  \n",
       "7                 929.124   864.421541  7.0   308.0   658.0  1296.75   6167.0  \n",
       "8                2111.256  2001.083900  8.0   648.0  1576.0  2848.00  13880.0  \n",
       "9                4802.508  4804.345849  9.0  1417.5  3262.5  6907.50  44397.0  "
      ]
     },
     "execution_count": 17,
     "metadata": {},
     "output_type": "execute_result"
    }
   ],
   "source": [
    "results_df.groupby('sequence length').describe()"
   ]
  },
  {
   "cell_type": "markdown",
   "metadata": {},
   "source": [
    "We can add error bars to the plot for each sequence length\n",
    "\n",
    "https://matplotlib.org/api/_as_gen/matplotlib.pyplot.errorbar.html\n",
    "\n",
    "https://matplotlib.org/1.2.1/examples/pylab_examples/errorbar_demo.html\n",
    "\n",
    "https://matplotlib.org/gallery/statistics/errorbar_features.html"
   ]
  },
  {
   "cell_type": "code",
   "execution_count": 18,
   "metadata": {},
   "outputs": [
    {
     "name": "stdout",
     "output_type": "stream",
     "text": [
      "seaborn 0.9.0\n"
     ]
    }
   ],
   "source": [
    "import seaborn\n",
    "print('seaborn',seaborn.__version__)"
   ]
  },
  {
   "cell_type": "code",
   "execution_count": 19,
   "metadata": {},
   "outputs": [
    {
     "data": {
      "image/png": "[encoded data removed]",
      "text/plain": [
       "<Figure size 432x288 with 1 Axes>"
      ]
     },
     "metadata": {
      "needs_background": "light"
     },
     "output_type": "display_data"
    }
   ],
   "source": [
    "# https://seaborn.pydata.org/generated/seaborn.stripplot.html\n",
    "_=seaborn.stripplot(x=\"sequence length\", \n",
    "                        y=\"number of flips\", \n",
    "                        data=results_df)"
   ]
  },
  {
   "cell_type": "markdown",
   "metadata": {},
   "source": [
    " The box shows the quartiles of the dataset while the whiskers extend to show the rest of the distribution, except for points that are determined to be “outliers” using a method that is a function of the inter-quartile range. <a href=\"https://seaborn.pydata.org/generated/seaborn.boxplot.html\">source</a>\n",
    " \n",
    "The first quartile (Q1) is defined as the middle number between the smallest number and the median of the data set. The second quartile (Q2) is the median of the data. The third quartile (Q3) is the middle value between the median and the highest value of the data set. <a href=\"https://en.wikipedia.org/wiki/Quartile\">source</a>"
   ]
  },
  {
   "cell_type": "code",
   "execution_count": 20,
   "metadata": {},
   "outputs": [
    {
     "data": {
      "image/png": "[encoded data removed]",
      "text/plain": [
       "<Figure size 432x288 with 1 Axes>"
      ]
     },
     "metadata": {
      "needs_background": "light"
     },
     "output_type": "display_data"
    }
   ],
   "source": [
    "# https://seaborn.pydata.org/generated/seaborn.boxplot.html\n",
    "_=seaborn.boxplot(x=\"sequence length\", \n",
    "                        y=\"number of flips\", \n",
    "                        data=results_df)"
   ]
  },
  {
   "cell_type": "raw",
   "metadata": {},
   "source": [
    "# https://seaborn.pydata.org/generated/seaborn.swarmplot.html#seaborn.swarmplot\n",
    "_=seaborn.swarmplot(x=\"sequence length\", \n",
    "                        y=\"number of flips\", \n",
    "                        data=results_df)"
   ]
  },
  {
   "cell_type": "markdown",
   "metadata": {},
   "source": [
    "the violin plot features a kernel density estimation of the underlying distribution\n",
    "\n",
    "violins for relatively small samples might look misleadingly smooth."
   ]
  },
  {
   "cell_type": "code",
   "execution_count": 21,
   "metadata": {},
   "outputs": [
    {
     "data": {
      "image/png": "[encoded data removed]",
      "text/plain": [
       "<Figure size 432x288 with 1 Axes>"
      ]
     },
     "metadata": {
      "needs_background": "light"
     },
     "output_type": "display_data"
    }
   ],
   "source": [
    "# https://seaborn.pydata.org/generated/seaborn.violinplot.html\n",
    "_ = seaborn.violinplot(x=\"sequence length\", \n",
    "                        y=\"number of flips\", \n",
    "                        data=results_df,\n",
    "                        showmeans=True,\n",
    "                        showextrema=True,\n",
    "                        showmedians=True)"
   ]
  },
  {
   "cell_type": "code",
   "execution_count": null,
   "metadata": {},
   "outputs": [],
   "source": []
  }
 ],
 "metadata": {
  "kernelspec": {
   "display_name": "Python 3",
   "language": "python",
   "name": "python3"
  },
  "language_info": {
   "codemirror_mode": {
    "name": "ipython",
    "version": 3
   },
   "file_extension": ".py",
   "mimetype": "text/x-python",
   "name": "python",
   "nbconvert_exporter": "python",
   "pygments_lexer": "ipython3",
   "version": "3.6.7"
  }
 },
 "nbformat": 4,
 "nbformat_minor": 2
}
