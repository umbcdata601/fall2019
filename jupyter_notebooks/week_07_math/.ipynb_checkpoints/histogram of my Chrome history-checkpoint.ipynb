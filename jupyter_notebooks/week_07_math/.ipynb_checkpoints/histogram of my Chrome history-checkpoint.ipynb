{
 "cells": [
  {
   "cell_type": "markdown",
   "metadata": {},
   "source": [
    "These pages explain how to get your Chrome history on your computer:\n",
    "    \n",
    "https://superuser.com/questions/602252/can-chrome-browser-history-be-exported-to-an-html-file\n",
    "    \n",
    "https://yuji.wordpress.com/2014/03/10/export-chrome-history-as-csv-spreadsheet/\n",
    "\n",
    "Notebook of Chrome history analysis:\n",
    "\n",
    "http://www.isabeldalessandro.com/cs234/google/notebook1.html\n",
    "\n",
    "https://gist.github.com/dropmeaword/9372cbeb29e8390521c2"
   ]
  },
  {
   "cell_type": "code",
   "execution_count": 1,
   "metadata": {},
   "outputs": [],
   "source": [
    "# see \"Profile Path\" on the page chrome://version/\n",
    "\n",
    "#!cp /Users/ben/Library/Application\\ Support/Google/Chrome/Default/History ."
   ]
  },
  {
   "cell_type": "markdown",
   "metadata": {},
   "source": [
    "A good tutorial on how to load SQL into Pandas\n",
    "\n",
    "https://www.dataquest.io/blog/python-pandas-databases/\n",
    "\n",
    "The official documentation is\n",
    "\n",
    "https://pandas.pydata.org/pandas-docs/version/0.23.4/generated/pandas.read_sql.html\n",
    "\n",
    "https://pandas.pydata.org/pandas-docs/stable/io.html#sqlite-fallback"
   ]
  },
  {
   "cell_type": "code",
   "execution_count": 2,
   "metadata": {},
   "outputs": [
    {
     "name": "stdout",
     "output_type": "stream",
     "text": [
      "pandas 0.23.4\n"
     ]
    }
   ],
   "source": [
    "import pandas\n",
    "import sqlite3\n",
    "print('pandas',pandas.__version__)"
   ]
  },
  {
   "cell_type": "code",
   "execution_count": 3,
   "metadata": {},
   "outputs": [
    {
     "data": {
      "text/plain": [
       "sqlite3.Connection"
      ]
     },
     "execution_count": 3,
     "metadata": {},
     "output_type": "execute_result"
    }
   ],
   "source": [
    "conn = sqlite3.connect(\"History\") # connect to the file\n",
    "type(conn)"
   ]
  },
  {
   "cell_type": "markdown",
   "metadata": {},
   "source": [
    "We need to do some math to get the date-time formats to work out.\n",
    "\n",
    "The reason is that the timestamp in Google Chrome, named \"Webkit format\", defines time as the number of microseconds since January, 1601\n",
    "\n",
    "We need to convert from the Webkit format\n",
    "\n",
    "We can use <a href=\"http://strftime.org/\">strftime</a> in <a href=\"https://en.wikipedia.org/wiki/SQL\">SQL</a> to get that date:"
   ]
  },
  {
   "cell_type": "code",
   "execution_count": 4,
   "metadata": {},
   "outputs": [],
   "source": [
    "query_str = \"SELECT strftime('%s', '1601-01-01 00:00');\" \n",
    "\n",
    "curr_time = pandas.read_sql_query(query_str,conn)"
   ]
  },
  {
   "cell_type": "markdown",
   "metadata": {},
   "source": [
    "what do we get back?"
   ]
  },
  {
   "cell_type": "code",
   "execution_count": 5,
   "metadata": {},
   "outputs": [
    {
     "data": {
      "text/plain": [
       "pandas.core.frame.DataFrame"
      ]
     },
     "execution_count": 5,
     "metadata": {},
     "output_type": "execute_result"
    }
   ],
   "source": [
    "type(curr_time)"
   ]
  },
  {
   "cell_type": "markdown",
   "metadata": {},
   "source": [
    "not surprisingly, pandas returns a dataframe.\n",
    "\n",
    "What is the content of the dataframe?"
   ]
  },
  {
   "cell_type": "code",
   "execution_count": 6,
   "metadata": {},
   "outputs": [
    {
     "data": {
      "text/html": [
       "<div>\n",
       "<style scoped>\n",
       "    .dataframe tbody tr th:only-of-type {\n",
       "        vertical-align: middle;\n",
       "    }\n",
       "\n",
       "    .dataframe tbody tr th {\n",
       "        vertical-align: top;\n",
       "    }\n",
       "\n",
       "    .dataframe thead th {\n",
       "        text-align: right;\n",
       "    }\n",
       "</style>\n",
       "<table border=\"1\" class=\"dataframe\">\n",
       "  <thead>\n",
       "    <tr style=\"text-align: right;\">\n",
       "      <th></th>\n",
       "      <th>strftime('%s', '1601-01-01 00:00')</th>\n",
       "    </tr>\n",
       "  </thead>\n",
       "  <tbody>\n",
       "    <tr>\n",
       "      <th>0</th>\n",
       "      <td>-11644473600</td>\n",
       "    </tr>\n",
       "  </tbody>\n",
       "</table>\n",
       "</div>"
      ],
      "text/plain": [
       "  strftime('%s', '1601-01-01 00:00')\n",
       "0                       -11644473600"
      ]
     },
     "execution_count": 6,
     "metadata": {},
     "output_type": "execute_result"
    }
   ],
   "source": [
    "curr_time"
   ]
  },
  {
   "cell_type": "markdown",
   "metadata": {},
   "source": [
    "What we care about is the returned value"
   ]
  },
  {
   "cell_type": "code",
   "execution_count": 7,
   "metadata": {},
   "outputs": [
    {
     "data": {
      "text/plain": [
       "'-11644473600'"
      ]
     },
     "execution_count": 7,
     "metadata": {},
     "output_type": "execute_result"
    }
   ],
   "source": [
    "curr_time.iloc[0][0]"
   ]
  },
  {
   "cell_type": "markdown",
   "metadata": {},
   "source": [
    "now we do a bunch of fancy math to convert times to local"
   ]
  },
  {
   "cell_type": "code",
   "execution_count": 8,
   "metadata": {},
   "outputs": [],
   "source": [
    "query_str = \"\"\"SELECT \n",
    "               datetime(last_visit_time/1000000+strftime('%s', '1601-01-01 00:00:00')-(60*60*4),'unixepoch','localtime'), \n",
    "               url FROM urls ORDER BY last_visit_time DESC;\"\"\""
   ]
  },
  {
   "cell_type": "code",
   "execution_count": 9,
   "metadata": {},
   "outputs": [],
   "source": [
    "conn = sqlite3.connect(\"History\")\n",
    "hist_df = pandas.read_sql_query(query_str, conn)"
   ]
  },
  {
   "cell_type": "code",
   "execution_count": 10,
   "metadata": {},
   "outputs": [
    {
     "data": {
      "text/html": [
       "<div>\n",
       "<style scoped>\n",
       "    .dataframe tbody tr th:only-of-type {\n",
       "        vertical-align: middle;\n",
       "    }\n",
       "\n",
       "    .dataframe tbody tr th {\n",
       "        vertical-align: top;\n",
       "    }\n",
       "\n",
       "    .dataframe thead th {\n",
       "        text-align: right;\n",
       "    }\n",
       "</style>\n",
       "<table border=\"1\" class=\"dataframe\">\n",
       "  <thead>\n",
       "    <tr style=\"text-align: right;\">\n",
       "      <th></th>\n",
       "      <th>date_time</th>\n",
       "      <th>url</th>\n",
       "    </tr>\n",
       "  </thead>\n",
       "  <tbody>\n",
       "    <tr>\n",
       "      <th>0</th>\n",
       "      <td>2019-10-09 17:47:01</td>\n",
       "      <td>https://www.reddit.com/r/chrome/comments/4itgc...</td>\n",
       "    </tr>\n",
       "    <tr>\n",
       "      <th>1</th>\n",
       "      <td>2019-10-09 17:46:57</td>\n",
       "      <td>https://www.google.com/search?sxsrf=ACYBGNQzbT...</td>\n",
       "    </tr>\n",
       "    <tr>\n",
       "      <th>2</th>\n",
       "      <td>2019-10-09 17:46:42</td>\n",
       "      <td>https://www.google.com/search?q=mac+chrome+his...</td>\n",
       "    </tr>\n",
       "    <tr>\n",
       "      <th>3</th>\n",
       "      <td>2019-10-09 17:44:26</td>\n",
       "      <td>https://www.facebook.com/</td>\n",
       "    </tr>\n",
       "    <tr>\n",
       "      <th>4</th>\n",
       "      <td>2019-10-09 17:44:03</td>\n",
       "      <td>http://localhost:8888/</td>\n",
       "    </tr>\n",
       "  </tbody>\n",
       "</table>\n",
       "</div>"
      ],
      "text/plain": [
       "             date_time                                                url\n",
       "0  2019-10-09 17:47:01  https://www.reddit.com/r/chrome/comments/4itgc...\n",
       "1  2019-10-09 17:46:57  https://www.google.com/search?sxsrf=ACYBGNQzbT...\n",
       "2  2019-10-09 17:46:42  https://www.google.com/search?q=mac+chrome+his...\n",
       "3  2019-10-09 17:44:26                          https://www.facebook.com/\n",
       "4  2019-10-09 17:44:03                             http://localhost:8888/"
      ]
     },
     "execution_count": 10,
     "metadata": {},
     "output_type": "execute_result"
    }
   ],
   "source": [
    "hist_df.columns=['date_time','url']\n",
    "hist_df.head()"
   ]
  },
  {
   "cell_type": "code",
   "execution_count": 11,
   "metadata": {},
   "outputs": [
    {
     "data": {
      "text/plain": [
       "(22723, 2)"
      ]
     },
     "execution_count": 11,
     "metadata": {},
     "output_type": "execute_result"
    }
   ],
   "source": [
    "hist_df.shape"
   ]
  },
  {
   "cell_type": "markdown",
   "metadata": {},
   "source": [
    "Just for a check, take a look at the bottom of the dataframe (the oldest entries)"
   ]
  },
  {
   "cell_type": "code",
   "execution_count": 12,
   "metadata": {},
   "outputs": [
    {
     "data": {
      "text/html": [
       "<div>\n",
       "<style scoped>\n",
       "    .dataframe tbody tr th:only-of-type {\n",
       "        vertical-align: middle;\n",
       "    }\n",
       "\n",
       "    .dataframe tbody tr th {\n",
       "        vertical-align: top;\n",
       "    }\n",
       "\n",
       "    .dataframe thead th {\n",
       "        text-align: right;\n",
       "    }\n",
       "</style>\n",
       "<table border=\"1\" class=\"dataframe\">\n",
       "  <thead>\n",
       "    <tr style=\"text-align: right;\">\n",
       "      <th></th>\n",
       "      <th>date_time</th>\n",
       "      <th>url</th>\n",
       "    </tr>\n",
       "  </thead>\n",
       "  <tbody>\n",
       "    <tr>\n",
       "      <th>22718</th>\n",
       "      <td>1600-12-31 20:00:00</td>\n",
       "      <td>https://www.seagate.com/files/staticfiles/supp...</td>\n",
       "    </tr>\n",
       "    <tr>\n",
       "      <th>22719</th>\n",
       "      <td>1600-12-31 20:00:00</td>\n",
       "      <td>https://lkml.org/lkml/2011/3/31/68</td>\n",
       "    </tr>\n",
       "    <tr>\n",
       "      <th>22720</th>\n",
       "      <td>1600-12-31 20:00:00</td>\n",
       "      <td>https://discussions.apple.com/thread/4158054?a...</td>\n",
       "    </tr>\n",
       "    <tr>\n",
       "      <th>22721</th>\n",
       "      <td>1600-12-31 20:00:00</td>\n",
       "      <td>file:///Users/ben/Downloads/vendor_seagate/Sea...</td>\n",
       "    </tr>\n",
       "    <tr>\n",
       "      <th>22722</th>\n",
       "      <td>1600-12-31 20:00:00</td>\n",
       "      <td>https://docs.docker.com/machine/examples/ocean/</td>\n",
       "    </tr>\n",
       "  </tbody>\n",
       "</table>\n",
       "</div>"
      ],
      "text/plain": [
       "                 date_time                                                url\n",
       "22718  1600-12-31 20:00:00  https://www.seagate.com/files/staticfiles/supp...\n",
       "22719  1600-12-31 20:00:00                 https://lkml.org/lkml/2011/3/31/68\n",
       "22720  1600-12-31 20:00:00  https://discussions.apple.com/thread/4158054?a...\n",
       "22721  1600-12-31 20:00:00  file:///Users/ben/Downloads/vendor_seagate/Sea...\n",
       "22722  1600-12-31 20:00:00    https://docs.docker.com/machine/examples/ocean/"
      ]
     },
     "execution_count": 12,
     "metadata": {},
     "output_type": "execute_result"
    }
   ],
   "source": [
    "hist_df.tail()"
   ]
  },
  {
   "cell_type": "markdown",
   "metadata": {},
   "source": [
    "clearly something went wrong, but I don't know what\n",
    "\n",
    "We will revisit later in this notebook how many invalid timestamps there are\n",
    "\n",
    "Prior to plotting, we need to have datetime rather than strings"
   ]
  },
  {
   "cell_type": "code",
   "execution_count": 13,
   "metadata": {},
   "outputs": [
    {
     "data": {
      "text/plain": [
       "date_time    object\n",
       "url          object\n",
       "dtype: object"
      ]
     },
     "execution_count": 13,
     "metadata": {},
     "output_type": "execute_result"
    }
   ],
   "source": [
    "hist_df.dtypes"
   ]
  },
  {
   "cell_type": "markdown",
   "metadata": {},
   "source": [
    "We need to convert the strings to datetime entries\n",
    "\n",
    "For timestamp format, see \n",
    "http://strftime.org/"
   ]
  },
  {
   "cell_type": "code",
   "execution_count": 14,
   "metadata": {},
   "outputs": [],
   "source": [
    "hist_df['date_time'] = pandas.to_datetime(hist_df['date_time'],\n",
    "                                          format='%Y-%m-%d %H:%M:%S',\n",
    "                                          errors='coerce')"
   ]
  },
  {
   "cell_type": "markdown",
   "metadata": {},
   "source": [
    "what did we get?"
   ]
  },
  {
   "cell_type": "code",
   "execution_count": 15,
   "metadata": {},
   "outputs": [
    {
     "data": {
      "text/html": [
       "<div>\n",
       "<style scoped>\n",
       "    .dataframe tbody tr th:only-of-type {\n",
       "        vertical-align: middle;\n",
       "    }\n",
       "\n",
       "    .dataframe tbody tr th {\n",
       "        vertical-align: top;\n",
       "    }\n",
       "\n",
       "    .dataframe thead th {\n",
       "        text-align: right;\n",
       "    }\n",
       "</style>\n",
       "<table border=\"1\" class=\"dataframe\">\n",
       "  <thead>\n",
       "    <tr style=\"text-align: right;\">\n",
       "      <th></th>\n",
       "      <th>date_time</th>\n",
       "      <th>url</th>\n",
       "    </tr>\n",
       "  </thead>\n",
       "  <tbody>\n",
       "    <tr>\n",
       "      <th>0</th>\n",
       "      <td>2019-10-09 17:47:01</td>\n",
       "      <td>https://www.reddit.com/r/chrome/comments/4itgc...</td>\n",
       "    </tr>\n",
       "    <tr>\n",
       "      <th>1</th>\n",
       "      <td>2019-10-09 17:46:57</td>\n",
       "      <td>https://www.google.com/search?sxsrf=ACYBGNQzbT...</td>\n",
       "    </tr>\n",
       "    <tr>\n",
       "      <th>2</th>\n",
       "      <td>2019-10-09 17:46:42</td>\n",
       "      <td>https://www.google.com/search?q=mac+chrome+his...</td>\n",
       "    </tr>\n",
       "    <tr>\n",
       "      <th>3</th>\n",
       "      <td>2019-10-09 17:44:26</td>\n",
       "      <td>https://www.facebook.com/</td>\n",
       "    </tr>\n",
       "    <tr>\n",
       "      <th>4</th>\n",
       "      <td>2019-10-09 17:44:03</td>\n",
       "      <td>http://localhost:8888/</td>\n",
       "    </tr>\n",
       "  </tbody>\n",
       "</table>\n",
       "</div>"
      ],
      "text/plain": [
       "            date_time                                                url\n",
       "0 2019-10-09 17:47:01  https://www.reddit.com/r/chrome/comments/4itgc...\n",
       "1 2019-10-09 17:46:57  https://www.google.com/search?sxsrf=ACYBGNQzbT...\n",
       "2 2019-10-09 17:46:42  https://www.google.com/search?q=mac+chrome+his...\n",
       "3 2019-10-09 17:44:26                          https://www.facebook.com/\n",
       "4 2019-10-09 17:44:03                             http://localhost:8888/"
      ]
     },
     "execution_count": 15,
     "metadata": {},
     "output_type": "execute_result"
    }
   ],
   "source": [
    "hist_df.head()"
   ]
  },
  {
   "cell_type": "code",
   "execution_count": 16,
   "metadata": {},
   "outputs": [
    {
     "data": {
      "text/html": [
       "<div>\n",
       "<style scoped>\n",
       "    .dataframe tbody tr th:only-of-type {\n",
       "        vertical-align: middle;\n",
       "    }\n",
       "\n",
       "    .dataframe tbody tr th {\n",
       "        vertical-align: top;\n",
       "    }\n",
       "\n",
       "    .dataframe thead th {\n",
       "        text-align: right;\n",
       "    }\n",
       "</style>\n",
       "<table border=\"1\" class=\"dataframe\">\n",
       "  <thead>\n",
       "    <tr style=\"text-align: right;\">\n",
       "      <th></th>\n",
       "      <th>date_time</th>\n",
       "      <th>url</th>\n",
       "    </tr>\n",
       "  </thead>\n",
       "  <tbody>\n",
       "    <tr>\n",
       "      <th>22718</th>\n",
       "      <td>NaT</td>\n",
       "      <td>https://www.seagate.com/files/staticfiles/supp...</td>\n",
       "    </tr>\n",
       "    <tr>\n",
       "      <th>22719</th>\n",
       "      <td>NaT</td>\n",
       "      <td>https://lkml.org/lkml/2011/3/31/68</td>\n",
       "    </tr>\n",
       "    <tr>\n",
       "      <th>22720</th>\n",
       "      <td>NaT</td>\n",
       "      <td>https://discussions.apple.com/thread/4158054?a...</td>\n",
       "    </tr>\n",
       "    <tr>\n",
       "      <th>22721</th>\n",
       "      <td>NaT</td>\n",
       "      <td>file:///Users/ben/Downloads/vendor_seagate/Sea...</td>\n",
       "    </tr>\n",
       "    <tr>\n",
       "      <th>22722</th>\n",
       "      <td>NaT</td>\n",
       "      <td>https://docs.docker.com/machine/examples/ocean/</td>\n",
       "    </tr>\n",
       "  </tbody>\n",
       "</table>\n",
       "</div>"
      ],
      "text/plain": [
       "      date_time                                                url\n",
       "22718       NaT  https://www.seagate.com/files/staticfiles/supp...\n",
       "22719       NaT                 https://lkml.org/lkml/2011/3/31/68\n",
       "22720       NaT  https://discussions.apple.com/thread/4158054?a...\n",
       "22721       NaT  file:///Users/ben/Downloads/vendor_seagate/Sea...\n",
       "22722       NaT    https://docs.docker.com/machine/examples/ocean/"
      ]
     },
     "execution_count": 16,
     "metadata": {},
     "output_type": "execute_result"
    }
   ],
   "source": [
    "hist_df.tail()"
   ]
  },
  {
   "cell_type": "code",
   "execution_count": 17,
   "metadata": {},
   "outputs": [
    {
     "data": {
      "text/plain": [
       "Timestamp('2019-10-09 17:47:01')"
      ]
     },
     "execution_count": 17,
     "metadata": {},
     "output_type": "execute_result"
    }
   ],
   "source": [
    "hist_df['date_time'].max()"
   ]
  },
  {
   "cell_type": "code",
   "execution_count": 18,
   "metadata": {},
   "outputs": [
    {
     "data": {
      "text/plain": [
       "Timestamp('2018-10-31 16:51:42')"
      ]
     },
     "execution_count": 18,
     "metadata": {},
     "output_type": "execute_result"
    }
   ],
   "source": [
    "hist_df['date_time'].min()"
   ]
  },
  {
   "cell_type": "markdown",
   "metadata": {},
   "source": [
    "how many entries are missing a timestamp?"
   ]
  },
  {
   "cell_type": "code",
   "execution_count": 19,
   "metadata": {},
   "outputs": [
    {
     "data": {
      "text/plain": [
       "30"
      ]
     },
     "execution_count": 19,
     "metadata": {},
     "output_type": "execute_result"
    }
   ],
   "source": [
    "pandas.isnull(hist_df['date_time']).sum()"
   ]
  },
  {
   "cell_type": "markdown",
   "metadata": {},
   "source": [
    "Let's keep the NaT and see if we can plot the data"
   ]
  },
  {
   "cell_type": "code",
   "execution_count": 20,
   "metadata": {},
   "outputs": [],
   "source": [
    "import matplotlib.pyplot as plt"
   ]
  },
  {
   "cell_type": "markdown",
   "metadata": {},
   "source": [
    "Source:\n",
    "https://stackoverflow.com/questions/27365467/can-pandas-plot-a-histogram-of-dates"
   ]
  },
  {
   "cell_type": "code",
   "execution_count": 21,
   "metadata": {},
   "outputs": [
    {
     "data": {
      "image/png": "[encoded data removed]",
      "text/plain": [
       "<Figure size 432x288 with 1 Axes>"
      ]
     },
     "metadata": {
      "needs_background": "light"
     },
     "output_type": "display_data"
    }
   ],
   "source": [
    "hist_df[\"date_time\"].groupby(hist_df[\"date_time\"].dt.month).count().plot(kind=\"bar\")\n",
    "plt.xlabel('month', fontsize=14)\n",
    "plt.ylabel('URL count', fontsize=14)\n",
    "plt.setp(plt.gca().get_xticklabels(), rotation=20, fontsize=12) # https://stackoverflow.com/questions/6390393/matplotlib-make-tick-labels-font-size-smaller\n",
    "plt.setp(plt.gca().get_yticklabels(), fontsize=12)\n",
    "plt.show()"
   ]
  },
  {
   "cell_type": "code",
   "execution_count": 28,
   "metadata": {},
   "outputs": [
    {
     "data": {
      "text/plain": [
       "283.3333333333333"
      ]
     },
     "execution_count": 28,
     "metadata": {},
     "output_type": "execute_result"
    }
   ],
   "source": [
    "# sanity check:\n",
    "# URLs per day?\n",
    "8500/30"
   ]
  },
  {
   "cell_type": "markdown",
   "metadata": {},
   "source": [
    "In case 1 or more of the months shows up in multiple years, we need to apply multiple groupby operations"
   ]
  },
  {
   "cell_type": "code",
   "execution_count": 22,
   "metadata": {},
   "outputs": [
    {
     "data": {
      "image/png": "[encoded data removed]",
      "text/plain": [
       "<Figure size 432x288 with 1 Axes>"
      ]
     },
     "metadata": {
      "needs_background": "light"
     },
     "output_type": "display_data"
    }
   ],
   "source": [
    "hist_plot = hist_df[\"date_time\"].groupby([hist_df[\"date_time\"].dt.year, \n",
    "                                          hist_df[\"date_time\"].dt.month]).count().plot(kind=\"bar\")\n",
    "plt.xlabel('year,month', fontsize=14)\n",
    "plt.ylabel('URL count', fontsize=14)\n",
    "plt.setp(plt.gca().get_xticklabels(), rotation=45, fontsize=12)\n",
    "plt.setp(plt.gca().get_yticklabels(), fontsize=12)\n",
    "plt.show()"
   ]
  },
  {
   "cell_type": "markdown",
   "metadata": {},
   "source": [
    "What was previously attributed to \"Oct\" we can see is actually \"Oct 2019\" and \"Oct 2018\""
   ]
  },
  {
   "cell_type": "code",
   "execution_count": 23,
   "metadata": {},
   "outputs": [
    {
     "data": {
      "image/png": "[encoded data removed]",
      "text/plain": [
       "<Figure size 720x432 with 1 Axes>"
      ]
     },
     "metadata": {
      "needs_background": "light"
     },
     "output_type": "display_data"
    }
   ],
   "source": [
    "fig = plt.figure(figsize=(10,6))\n",
    "#plt.figure(figsize=(20,20))\n",
    "\n",
    "hist_df[\"date_time\"].groupby(hist_df[\"date_time\"].dt.day).count().plot(kind=\"bar\")\n",
    "\n",
    "plt.xlabel('day of month', fontsize=14)\n",
    "plt.ylabel('URL count', fontsize=14)\n",
    "plt.setp(plt.gca().get_xticklabels(), rotation=45, fontsize=12)\n",
    "plt.setp(plt.gca().get_yticklabels(), fontsize=12)\n",
    "plt.show()"
   ]
  },
  {
   "cell_type": "code",
   "execution_count": 24,
   "metadata": {},
   "outputs": [
    {
     "data": {
      "image/png": "[encoded data removed]",
      "text/plain": [
       "<Figure size 720x432 with 1 Axes>"
      ]
     },
     "metadata": {
      "needs_background": "light"
     },
     "output_type": "display_data"
    }
   ],
   "source": [
    "fig = plt.figure(figsize=(10,6))\n",
    "\n",
    "hist_plot = hist_df[\"date_time\"].groupby([hist_df[\"date_time\"].dt.month, hist_df[\"date_time\"].dt.day]).count().plot(kind=\"bar\")\n",
    "# https://stackoverflow.com/questions/20337664/cleanest-way-to-hide-every-nth-tick-label-in-matplotlib-colorbar\n",
    "for label in hist_plot.xaxis.get_ticklabels()[::2]:\n",
    "    label.set_visible(False)\n",
    "plt.xlabel('day', fontsize=14)\n",
    "plt.ylabel('URL count', fontsize=14)\n",
    "\n",
    "plt.setp(plt.gca().get_xticklabels(), rotation=80, fontsize=12)\n",
    "plt.setp(plt.gca().get_yticklabels(), fontsize=12)\n",
    "\n",
    "plt.show()"
   ]
  },
  {
   "cell_type": "code",
   "execution_count": 25,
   "metadata": {},
   "outputs": [
    {
     "data": {
      "image/png": "[encoded data removed]",
      "text/plain": [
       "<Figure size 720x432 with 1 Axes>"
      ]
     },
     "metadata": {
      "needs_background": "light"
     },
     "output_type": "display_data"
    }
   ],
   "source": [
    "fig = plt.figure(figsize=(10,6))\n",
    "\n",
    "hist_df[\"date_time\"].groupby(hist_df[\"date_time\"].dt.hour).count().plot(kind=\"bar\")\n",
    "plt.xlabel('hour', fontsize=14)\n",
    "plt.ylabel('URL count', fontsize=14)\n",
    "\n",
    "plt.setp(plt.gca().get_xticklabels(), rotation=40, fontsize=12)\n",
    "plt.setp(plt.gca().get_yticklabels(), fontsize=12)\n",
    "\n",
    "\n",
    "plt.show()"
   ]
  },
  {
   "cell_type": "code",
   "execution_count": null,
   "metadata": {},
   "outputs": [],
   "source": []
  },
  {
   "cell_type": "code",
   "execution_count": null,
   "metadata": {},
   "outputs": [],
   "source": []
  }
 ],
 "metadata": {
  "kernelspec": {
   "display_name": "Python 3",
   "language": "python",
   "name": "python3"
  },
  "language_info": {
   "codemirror_mode": {
    "name": "ipython",
    "version": 3
   },
   "file_extension": ".py",
   "mimetype": "text/x-python",
   "name": "python",
   "nbconvert_exporter": "python",
   "pygments_lexer": "ipython3",
   "version": "3.6.7"
  }
 },
 "nbformat": 4,
 "nbformat_minor": 2
}
