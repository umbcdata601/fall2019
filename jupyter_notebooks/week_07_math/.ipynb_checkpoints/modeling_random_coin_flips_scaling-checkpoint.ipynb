{
 "cells": [
  {
   "cell_type": "markdown",
   "metadata": {},
   "source": [
    "# scaling of search"
   ]
  },
  {
   "cell_type": "code",
   "execution_count": null,
   "metadata": {},
   "outputs": [],
   "source": [
    "import random\n",
    "import timeit\n",
    "import time"
   ]
  },
  {
   "cell_type": "code",
   "execution_count": null,
   "metadata": {},
   "outputs": [],
   "source": [
    "def create_sequence_of_interest(length_of_seq):\n",
    "    \"\"\"\n",
    "    create a sequence of given length containing integer values, either 1 or 2\n",
    "\n",
    "    this is intended to represent the outcome of a sequence of coin flips\n",
    "    \"\"\"\n",
    "    list_of_flips=[]\n",
    "    for this_flip in range(length_of_seq):\n",
    "        list_of_flips.append(random.randint(1, 2))\n",
    "    return tuple(list_of_flips)"
   ]
  },
  {
   "cell_type": "code",
   "execution_count": null,
   "metadata": {},
   "outputs": [],
   "source": [
    "create_sequence_of_interest(5)"
   ]
  },
  {
   "cell_type": "code",
   "execution_count": null,
   "metadata": {},
   "outputs": [],
   "source": [
    "def find_match(sequence_of_interest):\n",
    "    \"\"\"\n",
    "    given a sequence of integers (either 1 or 2), flip a coin until that sequence is found\n",
    "    \"\"\"\n",
    "    start_time = timeit.default_timer()\n",
    "    number_of_coin_flips=0\n",
    "    this_run=[]  # store the results of the random coin flips in a list\n",
    "    while True:\n",
    "        coin = random.randint(1, 2) # random coin flip results in 1 or 2\n",
    "        number_of_coin_flips+=1\n",
    "        this_run.append(coin)       # add coin flip result to list\n",
    "        if (len(this_run)==len(sequence_of_interest)):\n",
    "            found_match=False\n",
    "            for flip_indx in range(len(sequence_of_interest)):\n",
    "                if (sequence_of_interest[flip_indx] == this_run[flip_indx]):\n",
    "                    found_match=True\n",
    "                else: # patterns don't match\n",
    "                    found_match=False\n",
    "                    this_run=[]\n",
    "                    break\n",
    "            if (found_match==True):\n",
    "                #print(this_run)\n",
    "                break\n",
    "\n",
    "    #print(\"number of coin flips:\",number_of_coin_flips)\n",
    "    elapsed = timeit.default_timer() - start_time\n",
    "    #print(str(elapsed) + \" seconds\")\n",
    "    return elapsed, number_of_coin_flips"
   ]
  },
  {
   "cell_type": "markdown",
   "metadata": {},
   "source": [
    "parameters for my experiment"
   ]
  },
  {
   "cell_type": "code",
   "execution_count": null,
   "metadata": {},
   "outputs": [],
   "source": [
    "number_of_tries_per_loop=1000\n",
    "start_length=3\n",
    "end_length=10"
   ]
  },
  {
   "cell_type": "code",
   "execution_count": null,
   "metadata": {},
   "outputs": [],
   "source": [
    "list_of_result_dicts=[]\n",
    "start_time=time.time()\n",
    "for length_of_seq in range(3,10):\n",
    "    for this_try in range(number_of_tries_per_loop):\n",
    "        sequence_of_interest = create_sequence_of_interest(length_of_seq)\n",
    "#        print(sequence_of_interest)\n",
    "\n",
    "        elapsed, number_of_coin_flips = find_match(sequence_of_interest)\n",
    "#        print(elapsed,\"seconds\")\n",
    "#        print(number_of_coin_flips)\n",
    "        this_result={}\n",
    "        this_result['elapsed time in seconds'] = elapsed\n",
    "        this_result['number of flips'] = number_of_coin_flips\n",
    "        this_result['sequence length'] = length_of_seq\n",
    "        list_of_result_dicts.append(this_result)\n",
    "        \n",
    "print('elapsed:',time.time()-start_time,'seconds')"
   ]
  },
  {
   "cell_type": "code",
   "execution_count": null,
   "metadata": {},
   "outputs": [],
   "source": [
    "import pandas\n",
    "pandas.__version__"
   ]
  },
  {
   "cell_type": "code",
   "execution_count": null,
   "metadata": {},
   "outputs": [],
   "source": [
    "results_df = pandas.DataFrame(list_of_result_dicts)\n",
    "results_df.head(10)"
   ]
  },
  {
   "cell_type": "code",
   "execution_count": null,
   "metadata": {},
   "outputs": [],
   "source": [
    "import matplotlib\n",
    "import matplotlib.pyplot as plt\n",
    "matplotlib.__version__"
   ]
  },
  {
   "cell_type": "code",
   "execution_count": null,
   "metadata": {},
   "outputs": [],
   "source": [
    "results_df.plot.scatter(x='sequence length',y='elapsed time in seconds')\n",
    "plt.show()"
   ]
  },
  {
   "cell_type": "code",
   "execution_count": null,
   "metadata": {},
   "outputs": [],
   "source": [
    "results_df.plot.scatter(x='sequence length',y='number of flips')\n",
    "plt.show()"
   ]
  },
  {
   "cell_type": "code",
   "execution_count": null,
   "metadata": {},
   "outputs": [],
   "source": [
    "results_df.groupby('sequence length').describe()"
   ]
  },
  {
   "cell_type": "markdown",
   "metadata": {},
   "source": [
    "We can add error bars to the plot for each sequence length\n",
    "\n",
    "https://matplotlib.org/api/_as_gen/matplotlib.pyplot.errorbar.html\n",
    "\n",
    "https://matplotlib.org/1.2.1/examples/pylab_examples/errorbar_demo.html\n",
    "\n",
    "https://matplotlib.org/gallery/statistics/errorbar_features.html"
   ]
  },
  {
   "cell_type": "code",
   "execution_count": null,
   "metadata": {},
   "outputs": [],
   "source": [
    "import seaborn\n",
    "print('seaborn',seaborn.__version__)"
   ]
  },
  {
   "cell_type": "code",
   "execution_count": null,
   "metadata": {},
   "outputs": [],
   "source": [
    "# https://seaborn.pydata.org/generated/seaborn.stripplot.html\n",
    "_=seaborn.stripplot(x=\"sequence length\", \n",
    "                        y=\"number of flips\", \n",
    "                        data=results_df)"
   ]
  },
  {
   "cell_type": "markdown",
   "metadata": {},
   "source": [
    " The box shows the quartiles of the dataset while the whiskers extend to show the rest of the distribution, except for points that are determined to be “outliers” using a method that is a function of the inter-quartile range. <a href=\"https://seaborn.pydata.org/generated/seaborn.boxplot.html\">source</a>\n",
    " \n",
    "The first quartile (Q1) is defined as the middle number between the smallest number and the median of the data set. The second quartile (Q2) is the median of the data. The third quartile (Q3) is the middle value between the median and the highest value of the data set. <a href=\"https://en.wikipedia.org/wiki/Quartile\">source</a>"
   ]
  },
  {
   "cell_type": "code",
   "execution_count": null,
   "metadata": {},
   "outputs": [],
   "source": [
    "# https://seaborn.pydata.org/generated/seaborn.boxplot.html\n",
    "_=seaborn.boxplot(x=\"sequence length\", \n",
    "                        y=\"number of flips\", \n",
    "                        data=results_df)"
   ]
  },
  {
   "cell_type": "raw",
   "metadata": {},
   "source": [
    "# https://seaborn.pydata.org/generated/seaborn.swarmplot.html#seaborn.swarmplot\n",
    "_=seaborn.swarmplot(x=\"sequence length\", \n",
    "                        y=\"number of flips\", \n",
    "                        data=results_df)"
   ]
  },
  {
   "cell_type": "markdown",
   "metadata": {},
   "source": [
    "the violin plot features a kernel density estimation of the underlying distribution\n",
    "\n",
    "violins for relatively small samples might look misleadingly smooth."
   ]
  },
  {
   "cell_type": "code",
   "execution_count": null,
   "metadata": {},
   "outputs": [],
   "source": [
    "# https://seaborn.pydata.org/generated/seaborn.violinplot.html\n",
    "_ = seaborn.violinplot(x=\"sequence length\", \n",
    "                        y=\"number of flips\", \n",
    "                        data=results_df,\n",
    "                        showmeans=True,\n",
    "                        showextrema=True,\n",
    "                        showmedians=True)"
   ]
  },
  {
   "cell_type": "code",
   "execution_count": null,
   "metadata": {},
   "outputs": [],
   "source": []
  }
 ],
 "metadata": {
  "kernelspec": {
   "display_name": "Python 3",
   "language": "python",
   "name": "python3"
  },
  "language_info": {
   "codemirror_mode": {
    "name": "ipython",
    "version": 3
   },
   "file_extension": ".py",
   "mimetype": "text/x-python",
   "name": "python",
   "nbconvert_exporter": "python",
   "pygments_lexer": "ipython3",
   "version": "3.6.7"
  }
 },
 "nbformat": 4,
 "nbformat_minor": 2
}
