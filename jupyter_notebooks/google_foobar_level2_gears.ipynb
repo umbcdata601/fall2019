{
 "cells": [
  {
   "cell_type": "markdown",
   "metadata": {},
   "source": [
    "http://daerospace.com/mechanical-systems/gears-general-gearing-arrangement/\n",
    "\n",
    "https://www.the-warren.org/quiz/gearratios.htm"
   ]
  },
  {
   "cell_type": "code",
   "execution_count": 54,
   "metadata": {},
   "outputs": [],
   "source": [
    "import math\n",
    "\n",
    "def simplify_fraction(numer, denom):\n",
    "    \"\"\"\n",
    "    https://codereview.stackexchange.com/a/66474\n",
    "    \"\"\"\n",
    "\n",
    "    if denom == 0:\n",
    "        return \"Division by 0 - result undefined\"\n",
    "\n",
    "    # Remove greatest common divisor:\n",
    "    common_divisor = math.gcd(numer, denom)\n",
    "    (reduced_num, reduced_den) = (numer / common_divisor, denom / common_divisor)\n",
    "    # Note that reduced_den > 0 as documented in the gcd function.\n",
    "\n",
    "    if reduced_den == 1:\n",
    "        #return \"%d/%d is simplified to %d\" % (numer, denom, reduced_num)\n",
    "        return [int(reduced_num),1]\n",
    "    elif common_divisor == 1:\n",
    "        #return \"%d/%d is already at its most simplified state\" % (numer, denom)\n",
    "        return [int(numer), int(denom)]\n",
    "    else:\n",
    "        #return \"%d/%d is simplified to %d/%d\" % (numer, denom, reduced_num, reduced_den)\n",
    "        return [int(reduced_num), int(reduced_den)]"
   ]
  },
  {
   "cell_type": "code",
   "execution_count": 55,
   "metadata": {},
   "outputs": [
    {
     "data": {
      "text/plain": [
       "[12, 1]"
      ]
     },
     "execution_count": 55,
     "metadata": {},
     "output_type": "execute_result"
    }
   ],
   "source": [
    "simplify_fraction(12,1)"
   ]
  },
  {
   "cell_type": "code",
   "execution_count": 56,
   "metadata": {},
   "outputs": [
    {
     "data": {
      "text/plain": [
       "[4, 1]"
      ]
     },
     "execution_count": 56,
     "metadata": {},
     "output_type": "execute_result"
    }
   ],
   "source": [
    "simplify_fraction(12,3)"
   ]
  },
  {
   "cell_type": "code",
   "execution_count": null,
   "metadata": {},
   "outputs": [],
   "source": []
  },
  {
   "cell_type": "code",
   "execution_count": 59,
   "metadata": {},
   "outputs": [],
   "source": [
    "def solution_first(pegs):\n",
    "    list_of_vals = []\n",
    "    for indx in range(len(pegs)-1):\n",
    "        #print(indx+1,indx)\n",
    "        #print(pegs[indx+1],'-',pegs[indx],'=',pegs[indx+1]-pegs[indx])\n",
    "        if indx % 2 == 0:\n",
    "            val = pegs[indx+1]-pegs[indx]\n",
    "        else:\n",
    "            val = -1*(pegs[indx+1]-pegs[indx])\n",
    "        #print('val =',val)\n",
    "        list_of_vals.append(val)\n",
    "    #print(list_of_vals)\n",
    "    if len(pegs) % 2 == 0: # even\n",
    "        print('prefix = 2/3')\n",
    "        print('numerator =',2 * sum(list_of_vals),'denom =',3)   \n",
    "    else: # odd\n",
    "        #print('prefix = 2')\n",
    "        #print('result =',2 * sum(list_of_vals))   \n",
    "        return [2 * sum(list_of_vals),1]"
   ]
  },
  {
   "cell_type": "code",
   "execution_count": 60,
   "metadata": {},
   "outputs": [
    {
     "data": {
      "text/plain": [
       "[12, 1]"
      ]
     },
     "execution_count": 60,
     "metadata": {},
     "output_type": "execute_result"
    }
   ],
   "source": [
    "solution_first([4,30,50])"
   ]
  },
  {
   "cell_type": "code",
   "execution_count": 61,
   "metadata": {},
   "outputs": [
    {
     "data": {
      "text/plain": [
       "0.8"
      ]
     },
     "execution_count": 61,
     "metadata": {},
     "output_type": "execute_result"
    }
   ],
   "source": [
    "4/5"
   ]
  },
  {
   "cell_type": "code",
   "execution_count": 62,
   "metadata": {},
   "outputs": [
    {
     "data": {
      "text/plain": [
       "6.666666666666667"
      ]
     },
     "execution_count": 62,
     "metadata": {},
     "output_type": "execute_result"
    }
   ],
   "source": [
    "20/3"
   ]
  },
  {
   "cell_type": "code",
   "execution_count": 93,
   "metadata": {},
   "outputs": [],
   "source": [
    "import math\n",
    "\n",
    "def simplify_fraction(numer, denom):\n",
    "    \"\"\"\n",
    "    https://codereview.stackexchange.com/a/66474\n",
    "    \"\"\"\n",
    "\n",
    "    if denom == 0:\n",
    "        return \"Division by 0 - result undefined\"\n",
    "\n",
    "    # Remove greatest common divisor:\n",
    "    common_divisor = math.gcd(numer, denom)\n",
    "    (reduced_num, reduced_den) = (numer / common_divisor, denom / common_divisor)\n",
    "    # Note that reduced_den > 0 as documented in the gcd function.\n",
    "\n",
    "    if reduced_den == 1:\n",
    "        #return \"%d/%d is simplified to %d\" % (numer, denom, reduced_num)\n",
    "        return [int(reduced_num),1]\n",
    "    elif common_divisor == 1:\n",
    "        #return \"%d/%d is already at its most simplified state\" % (numer, denom)\n",
    "        return [int(numer), int(denom)]\n",
    "    else:\n",
    "        #return \"%d/%d is simplified to %d/%d\" % (numer, denom, reduced_num, reduced_den)\n",
    "        return [int(reduced_num), int(reduced_den)]\n",
    "\n",
    "def solution(pegs):\n",
    "    list_of_vals = []\n",
    "    for indx in range(len(pegs)-1):\n",
    "        #print(indx+1,indx)\n",
    "        #print(pegs[indx+1],'-',pegs[indx],'=',pegs[indx+1]-pegs[indx])\n",
    "        if indx % 2 == 0:\n",
    "            val = pegs[indx+1]-pegs[indx]\n",
    "        else:\n",
    "            val = -1*(pegs[indx+1]-pegs[indx])\n",
    "        #print('val =',val)\n",
    "        list_of_vals.append(val)\n",
    "    #print(list_of_vals)\n",
    "    if len(pegs) % 2 == 0: # even\n",
    "        #print('prefix = 2/3')\n",
    "        numerator = 2 * sum(list_of_vals)\n",
    "        print('pre reduction:',numerator,3)\n",
    "        a,b = simplify_fraction(numerator,3)\n",
    "        #a = numerator\n",
    "        #b = 3\n",
    "    else: # odd\n",
    "        #print('prefix = 2')\n",
    "        #print('result =',2 * sum(list_of_vals))   \n",
    "        a = 2 * sum(list_of_vals)\n",
    "        b = 1\n",
    "\n",
    "    if (a/b)>=1:\n",
    "        #a_revised, b_revised = simplify_fraction(a,b)\n",
    "        #return [a_revised,b_revised]\n",
    "        return [a,b]\n",
    "    else: # invalid ratio of a to b\n",
    "        return [-1,-1]\n"
   ]
  },
  {
   "cell_type": "code",
   "execution_count": 94,
   "metadata": {},
   "outputs": [
    {
     "data": {
      "text/plain": [
       "[12, 1]"
      ]
     },
     "execution_count": 94,
     "metadata": {},
     "output_type": "execute_result"
    }
   ],
   "source": [
    "solution([4,30,50])"
   ]
  },
  {
   "cell_type": "code",
   "execution_count": 95,
   "metadata": {},
   "outputs": [
    {
     "data": {
      "text/plain": [
       "[-1, -1]"
      ]
     },
     "execution_count": 95,
     "metadata": {},
     "output_type": "execute_result"
    }
   ],
   "source": [
    "solution([4, 17, 50])"
   ]
  },
  {
   "cell_type": "code",
   "execution_count": 100,
   "metadata": {},
   "outputs": [
    {
     "name": "stdout",
     "output_type": "stream",
     "text": [
      "pre reduction: 6 3\n"
     ]
    },
    {
     "data": {
      "text/plain": [
       "[2, 1]"
      ]
     },
     "execution_count": 100,
     "metadata": {},
     "output_type": "execute_result"
    }
   ],
   "source": [
    "solution([1,4])"
   ]
  },
  {
   "cell_type": "code",
   "execution_count": 97,
   "metadata": {},
   "outputs": [
    {
     "name": "stdout",
     "output_type": "stream",
     "text": [
      "pre reduction: 6072 3\n"
     ]
    },
    {
     "data": {
      "text/plain": [
       "[2024, 1]"
      ]
     },
     "execution_count": 97,
     "metadata": {},
     "output_type": "execute_result"
    }
   ],
   "source": [
    "solution([4, 20, 1000, 5000])"
   ]
  },
  {
   "cell_type": "code",
   "execution_count": 98,
   "metadata": {},
   "outputs": [
    {
     "name": "stdout",
     "output_type": "stream",
     "text": [
      "pre reduction: 72 3\n"
     ]
    },
    {
     "data": {
      "text/plain": [
       "[24, 1]"
      ]
     },
     "execution_count": 98,
     "metadata": {},
     "output_type": "execute_result"
    }
   ],
   "source": [
    "solution([4, 20, 1000, 2000])"
   ]
  },
  {
   "cell_type": "code",
   "execution_count": null,
   "metadata": {},
   "outputs": [],
   "source": []
  }
 ],
 "metadata": {
  "kernelspec": {
   "display_name": "Python 3",
   "language": "python",
   "name": "python3"
  },
  "language_info": {
   "codemirror_mode": {
    "name": "ipython",
    "version": 3
   },
   "file_extension": ".py",
   "mimetype": "text/x-python",
   "name": "python",
   "nbconvert_exporter": "python",
   "pygments_lexer": "ipython3",
   "version": "3.6.6"
  }
 },
 "nbformat": 4,
 "nbformat_minor": 2
}
