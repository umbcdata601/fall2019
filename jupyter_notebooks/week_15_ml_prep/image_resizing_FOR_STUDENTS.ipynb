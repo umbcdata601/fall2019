{
 "cells": [
  {
   "cell_type": "markdown",
   "metadata": {},
   "source": [
    "https://machinelearningmastery.com/how-to-evaluate-pixel-scaling-methods-for-image-classification/\n",
    "    \n",
    "https://opencv-python-tutroals.readthedocs.io/en/latest/py_tutorials/py_core/py_basic_ops/py_basic_ops.html"
   ]
  },
  {
   "cell_type": "code",
   "execution_count": null,
   "metadata": {},
   "outputs": [],
   "source": []
  },
  {
   "cell_type": "code",
   "execution_count": 1,
   "metadata": {},
   "outputs": [
    {
     "name": "stdout",
     "output_type": "stream",
     "text": [
      "cv2 4.1.2\n"
     ]
    }
   ],
   "source": [
    "import time\n",
    "import cv2\n",
    "print('cv2',cv2.__version__)\n",
    "from matplotlib import pyplot as plt\n",
    "import glob"
   ]
  },
  {
   "cell_type": "code",
   "execution_count": 2,
   "metadata": {},
   "outputs": [],
   "source": [
    "list_of_images = glob.glob('images/*.png') + glob.glob('images/*.jpg')"
   ]
  },
  {
   "cell_type": "markdown",
   "metadata": {},
   "source": [
    "# visualization of the image sizes\n",
    "\n",
    "create a scatter plot of the image dimensions for every image\n",
    "\n",
    "This scatter plot shows the range of sizes"
   ]
  },
  {
   "cell_type": "code",
   "execution_count": null,
   "metadata": {},
   "outputs": [],
   "source": []
  },
  {
   "cell_type": "code",
   "execution_count": null,
   "metadata": {},
   "outputs": [],
   "source": []
  },
  {
   "cell_type": "code",
   "execution_count": null,
   "metadata": {},
   "outputs": [],
   "source": []
  },
  {
   "cell_type": "markdown",
   "metadata": {},
   "source": [
    "# resize color images\n",
    "\n",
    "* Convert all images to (64x64). That's `64*64*3 = 12,288` values\n",
    "* Convert all images to (128x128). That's `128*128*3 = 49,152` values\n",
    "* Convert all images to (256x256). That's `256*256*3 = 196,608` values\n",
    "\n",
    "_Which of these three sizes is sufficient to manual recognize relevant aspects of all images?_"
   ]
  },
  {
   "cell_type": "code",
   "execution_count": null,
   "metadata": {},
   "outputs": [],
   "source": []
  },
  {
   "cell_type": "code",
   "execution_count": null,
   "metadata": {},
   "outputs": [],
   "source": []
  },
  {
   "cell_type": "code",
   "execution_count": null,
   "metadata": {},
   "outputs": [],
   "source": []
  },
  {
   "cell_type": "markdown",
   "metadata": {},
   "source": [
    "# resize gray-scale images\n",
    "\n",
    "* Convert all images to (64x64) grayscale. That's `64*64 = 4,096` values\n",
    "* Convert all images to (128x128) grayscale. That's `128*128 = 16,384` values\n",
    "* Convert all images to (256x256) grayscale. That's `256*256 = 65,536` values\n",
    "\n",
    "_Which of these three sizes is sufficient to manual recognize relevant aspects of all images?_"
   ]
  },
  {
   "cell_type": "code",
   "execution_count": null,
   "metadata": {},
   "outputs": [],
   "source": []
  },
  {
   "cell_type": "code",
   "execution_count": null,
   "metadata": {},
   "outputs": [],
   "source": []
  },
  {
   "cell_type": "code",
   "execution_count": null,
   "metadata": {},
   "outputs": [],
   "source": []
  }
 ],
 "metadata": {
  "kernelspec": {
   "display_name": "Python 3",
   "language": "python",
   "name": "python3"
  },
  "language_info": {
   "codemirror_mode": {
    "name": "ipython",
    "version": 3
   },
   "file_extension": ".py",
   "mimetype": "text/x-python",
   "name": "python",
   "nbconvert_exporter": "python",
   "pygments_lexer": "ipython3",
   "version": "3.6.7"
  }
 },
 "nbformat": 4,
 "nbformat_minor": 2
}
