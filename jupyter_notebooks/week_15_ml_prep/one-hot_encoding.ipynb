{
 "cells": [
  {
   "cell_type": "markdown",
   "metadata": {},
   "source": [
    "https://en.wikipedia.org/wiki/One-hot\n",
    "\n",
    "https://hackernoon.com/what-is-one-hot-encoding-why-and-when-do-you-have-to-use-it-e3c6186d008f"
   ]
  },
  {
   "cell_type": "code",
   "execution_count": 7,
   "metadata": {},
   "outputs": [],
   "source": [
    "# https://scikit-learn.org/stable/modules/generated/sklearn.preprocessing.LabelBinarizer.html\n",
    "from sklearn.preprocessing import LabelBinarizer"
   ]
  },
  {
   "cell_type": "code",
   "execution_count": 8,
   "metadata": {},
   "outputs": [],
   "source": [
    "categorical_labels = ['red', 'blue', 'green', 'red', 'blue']"
   ]
  },
  {
   "cell_type": "code",
   "execution_count": 9,
   "metadata": {},
   "outputs": [
    {
     "data": {
      "text/plain": [
       "['green', 'red', 'blue']"
      ]
     },
     "execution_count": 9,
     "metadata": {},
     "output_type": "execute_result"
    }
   ],
   "source": [
    "unique_categories = list(set(categorical_labels))\n",
    "unique_categories"
   ]
  },
  {
   "cell_type": "code",
   "execution_count": 10,
   "metadata": {},
   "outputs": [
    {
     "data": {
      "text/plain": [
       "array([[0, 0, 1],\n",
       "       [1, 0, 0],\n",
       "       [0, 1, 0],\n",
       "       [0, 0, 1],\n",
       "       [1, 0, 0]])"
      ]
     },
     "execution_count": 10,
     "metadata": {},
     "output_type": "execute_result"
    }
   ],
   "source": [
    "binarizer = LabelBinarizer()\n",
    "\n",
    "#  This learns that red will be [0,0,1], blue will be [1, 0, 0], etc.\n",
    "binarizer.fit(unique_categories)\n",
    "\n",
    "#  This takes what it learned and replaces each string with its replacement\n",
    "#  in one-hot encoding\n",
    "binarizer.transform(categorical_labels)"
   ]
  },
  {
   "cell_type": "code",
   "execution_count": 11,
   "metadata": {},
   "outputs": [
    {
     "data": {
      "text/plain": [
       "array(['blue', 'green', 'red'],\n",
       "      dtype='<U5')"
      ]
     },
     "execution_count": 11,
     "metadata": {},
     "output_type": "execute_result"
    }
   ],
   "source": [
    "# The position in this array tells us which column in the output features this element.\n",
    "binarizer.classes_"
   ]
  },
  {
   "cell_type": "markdown",
   "metadata": {},
   "source": [
    "Now we need to merge these values back into our array of features.\n",
    "\n",
    "Note that the positions of the various features need to be the same for each data sample.  That is, color can't be the first three elements of one sample and the last three of the next.\n",
    "\n",
    "Fortunately for us, this is so common that sklearn has a built-in mechanism for taking an existing feature matrix and one-hot encoding some fields but not necessarily all:  The `OneHotEncoder`."
   ]
  },
  {
   "cell_type": "code",
   "execution_count": 13,
   "metadata": {},
   "outputs": [
    {
     "name": "stdout",
     "output_type": "stream",
     "text": [
      "City samples:  [0 2 1 1 1 3]\n",
      "Country samples:  [2 2 2 0 1 1]\n"
     ]
    }
   ],
   "source": [
    "from sklearn.preprocessing import OneHotEncoder, LabelEncoder\n",
    "\n",
    "enc = OneHotEncoder() # https://scikit-learn.org/stable/modules/generated/sklearn.preprocessing.OneHotEncoder.html\n",
    "# OneHotEncoder encodes categorical features\n",
    "# use when there is no order between values\n",
    "\n",
    "city_enc = LabelEncoder()\n",
    "country_enc = LabelEncoder()\n",
    "\n",
    "city_enc.fit(['Atlanta', 'Baltimore',  'Zurich', 'Charlotte'])\n",
    "country_enc.fit(['USA', 'Switzerland', 'Germany'])\n",
    "\n",
    "samples = [['Atlanta', 'USA'],\n",
    "           ['Charlotte', 'USA'],\n",
    "           ['Baltimore', 'USA'],\n",
    "           ['Baltimore', 'Germany'],\n",
    "           ['Baltimore', 'Switzerland'],\n",
    "           ['Zurich', 'Switzerland']]\n",
    "\n",
    "# use list comprehensions to access the 0th element of each pair -- the city\n",
    "city_samples = city_enc.transform([sample[0] for sample in samples])\n",
    "print('City samples: ', city_samples)\n",
    "\n",
    "country_samples = country_enc.transform([sample[1] for sample in samples])\n",
    "print('Country samples: ', country_samples)"
   ]
  },
  {
   "cell_type": "markdown",
   "metadata": {},
   "source": [
    "https://stackoverflow.com/questions/33592034/active-features-attribute-in-onehotencoder"
   ]
  },
  {
   "cell_type": "code",
   "execution_count": 14,
   "metadata": {},
   "outputs": [
    {
     "name": "stdout",
     "output_type": "stream",
     "text": [
      "[(0, 2), (2, 2), (1, 2), (1, 0), (1, 1), (3, 1)]\n"
     ]
    }
   ],
   "source": [
    "transformed_samples = list(zip(city_samples, country_samples))\n",
    "print(transformed_samples)"
   ]
  },
  {
   "cell_type": "code",
   "execution_count": 15,
   "metadata": {},
   "outputs": [
    {
     "name": "stdout",
     "output_type": "stream",
     "text": [
      "[4 3]\n",
      "[0 4 7]\n"
     ]
    }
   ],
   "source": [
    "enc.fit(transformed_samples)  \n",
    "\n",
    "print('number of values:',enc.n_values_)\n",
    "print('',enc.feature_indices_)"
   ]
  },
  {
   "cell_type": "code",
   "execution_count": 16,
   "metadata": {},
   "outputs": [
    {
     "name": "stdout",
     "output_type": "stream",
     "text": [
      "['Atlanta', 'USA'] => [[ 1.  0.  0.  0.  0.  0.  1.]]\n",
      "['Charlotte', 'USA'] => [[ 0.  0.  1.  0.  0.  0.  1.]]\n",
      "['Baltimore', 'USA'] => [[ 0.  1.  0.  0.  0.  0.  1.]]\n",
      "['Baltimore', 'Germany'] => [[ 0.  1.  0.  0.  1.  0.  0.]]\n",
      "['Baltimore', 'Switzerland'] => [[ 0.  1.  0.  0.  0.  1.  0.]]\n",
      "['Zurich', 'Switzerland'] => [[ 0.  0.  0.  1.  0.  1.  0.]]\n"
     ]
    }
   ],
   "source": [
    "for i in range(len(samples)):\n",
    "    feature_vector = enc.transform([transformed_samples[i]]).todense()\n",
    "    print('%s => %s' % (samples[i], feature_vector))\n",
    "#   print('city: %s, country: %s' % (feature_vector[enc.feature_indices_[0]:enc.feature_indices_[1]], \n",
    "#                                    feature_vector[enc.feature_indices_[1]:enc.feature_indices_[2]]))"
   ]
  },
  {
   "cell_type": "code",
   "execution_count": null,
   "metadata": {},
   "outputs": [],
   "source": []
  }
 ],
 "metadata": {
  "kernelspec": {
   "display_name": "Python 3",
   "language": "python",
   "name": "python3"
  },
  "language_info": {
   "codemirror_mode": {
    "name": "ipython",
    "version": 3
   },
   "file_extension": ".py",
   "mimetype": "text/x-python",
   "name": "python",
   "nbconvert_exporter": "python",
   "pygments_lexer": "ipython3",
   "version": "3.6.7"
  }
 },
 "nbformat": 4,
 "nbformat_minor": 2
}
