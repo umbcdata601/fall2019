{
 "cells": [
  {
   "cell_type": "markdown",
   "metadata": {},
   "source": [
    "https://machinelearningmastery.com/how-to-evaluate-pixel-scaling-methods-for-image-classification/"
   ]
  },
  {
   "cell_type": "code",
   "execution_count": 1,
   "metadata": {},
   "outputs": [],
   "source": [
    "!rm images/64x64_color/*\n",
    "!rm images/64x64_gray/*\n",
    "!rm images/128x128_color/*\n",
    "!rm images/128x128_gray/*\n",
    "!rm images/256x256_gray/*\n",
    "!rm images/256x256_color/*"
   ]
  },
  {
   "cell_type": "code",
   "execution_count": 2,
   "metadata": {},
   "outputs": [
    {
     "name": "stdout",
     "output_type": "stream",
     "text": [
      "Requirement already satisfied: opencv-python in /opt/conda/lib/python3.6/site-packages (4.1.2.30)\n",
      "Requirement already satisfied: numpy>=1.11.3 in /opt/conda/lib/python3.6/site-packages (from opencv-python) (1.13.3)\n"
     ]
    }
   ],
   "source": [
    "!pip install opencv-python"
   ]
  },
  {
   "cell_type": "code",
   "execution_count": 3,
   "metadata": {},
   "outputs": [
    {
     "name": "stdout",
     "output_type": "stream",
     "text": [
      "cv2 4.1.2\n"
     ]
    }
   ],
   "source": [
    "import time\n",
    "import cv2\n",
    "print('cv2',cv2.__version__)\n",
    "from matplotlib import pyplot as plt\n",
    "import glob"
   ]
  },
  {
   "cell_type": "code",
   "execution_count": 4,
   "metadata": {},
   "outputs": [],
   "source": [
    "list_of_images = glob.glob('images/*.png') + glob.glob('images/*.jpg')"
   ]
  },
  {
   "cell_type": "code",
   "execution_count": 5,
   "metadata": {},
   "outputs": [
    {
     "name": "stdout",
     "output_type": "stream",
     "text": [
      "elapsed 37.86 seconds\n"
     ]
    }
   ],
   "source": [
    "x = []\n",
    "y = []\n",
    "start_time = time.time()\n",
    "for img_file in list_of_images:\n",
    "    image = cv2.imread(img_file)\n",
    "    x.append(image.shape[0])\n",
    "    y.append(image.shape[1])\n",
    "print('elapsed',round(time.time()-start_time,2),'seconds')"
   ]
  },
  {
   "cell_type": "markdown",
   "metadata": {},
   "source": [
    "# visualization of all image sizes"
   ]
  },
  {
   "cell_type": "code",
   "execution_count": 6,
   "metadata": {},
   "outputs": [
    {
     "data": {
      "text/plain": [
       "Text(0, 0.5, 'y')"
      ]
     },
     "execution_count": 6,
     "metadata": {},
     "output_type": "execute_result"
    },
    {
     "data": {
      "image/png": "[encoded data removed]",
      "text/plain": [
       "<Figure size 432x288 with 1 Axes>"
      ]
     },
     "metadata": {
      "needs_background": "light"
     },
     "output_type": "display_data"
    }
   ],
   "source": [
    "plt.scatter(x,y)\n",
    "plt.title('image size')\n",
    "plt.xlabel('x')\n",
    "plt.ylabel('y')"
   ]
  },
  {
   "cell_type": "code",
   "execution_count": 7,
   "metadata": {},
   "outputs": [
    {
     "data": {
      "image/png": "[encoded data removed]",
      "text/plain": [
       "<Figure size 432x288 with 1 Axes>"
      ]
     },
     "metadata": {
      "needs_background": "light"
     },
     "output_type": "display_data"
    }
   ],
   "source": [
    "_=plt.hist(x)"
   ]
  },
  {
   "cell_type": "code",
   "execution_count": 8,
   "metadata": {},
   "outputs": [
    {
     "data": {
      "image/png": "[encoded data removed]",
      "text/plain": [
       "<Figure size 432x288 with 1 Axes>"
      ]
     },
     "metadata": {
      "needs_background": "light"
     },
     "output_type": "display_data"
    }
   ],
   "source": [
    "_=plt.hist(y)"
   ]
  },
  {
   "cell_type": "markdown",
   "metadata": {},
   "source": [
    "# reshape; color"
   ]
  },
  {
   "cell_type": "code",
   "execution_count": 9,
   "metadata": {},
   "outputs": [
    {
     "name": "stdout",
     "output_type": "stream",
     "text": [
      "elapsed 47.57 seconds\n"
     ]
    }
   ],
   "source": [
    "start_time = time.time()\n",
    "\n",
    "for img_file in list_of_images:\n",
    "    extension = img_file.split('.')[-1]\n",
    "    img_file_sans_extension = img_file.replace('.'+extension,'')\n",
    "    image = cv2.imread(img_file)\n",
    "    dst = cv2.resize(image, (64,64))\n",
    "    cv2.imwrite(img_file_sans_extension+'_64x64_color.'+extension,dst)\n",
    "print('elapsed',round(time.time()-start_time,2),'seconds')"
   ]
  },
  {
   "cell_type": "code",
   "execution_count": 10,
   "metadata": {},
   "outputs": [
    {
     "name": "stdout",
     "output_type": "stream",
     "text": [
      "elapsed 31.88 seconds\n"
     ]
    }
   ],
   "source": [
    "start_time = time.time()\n",
    "\n",
    "for img_file in list_of_images:\n",
    "    extension = img_file.split('.')[-1]\n",
    "    img_file_sans_extension = img_file.replace('.'+extension,'')\n",
    "    image = cv2.imread(img_file)\n",
    "    dst = cv2.resize(image, (128,128))\n",
    "    cv2.imwrite(img_file_sans_extension+'_128x128_color.'+extension,dst)\n",
    "print('elapsed',round(time.time()-start_time,2),'seconds')"
   ]
  },
  {
   "cell_type": "code",
   "execution_count": 11,
   "metadata": {},
   "outputs": [
    {
     "name": "stdout",
     "output_type": "stream",
     "text": [
      "elapsed 34.44 seconds\n"
     ]
    }
   ],
   "source": [
    "start_time = time.time()\n",
    "\n",
    "for img_file in list_of_images:\n",
    "    extension = img_file.split('.')[-1]\n",
    "    img_file_sans_extension = img_file.replace('.'+extension,'')\n",
    "    image = cv2.imread(img_file)\n",
    "    dst = cv2.resize(image, (256,256))\n",
    "    cv2.imwrite(img_file_sans_extension+'_256x256_color.'+extension,dst)\n",
    "print('elapsed',round(time.time()-start_time,2),'seconds')"
   ]
  },
  {
   "cell_type": "code",
   "execution_count": 12,
   "metadata": {},
   "outputs": [],
   "source": [
    "!mv images/*_64x64_color* images/64x64_color/\n",
    "!mv images/*_128x128_color* images/128x128_color/\n",
    "!mv images/*_256x256_color* images/256x256_color/"
   ]
  },
  {
   "cell_type": "markdown",
   "metadata": {},
   "source": [
    "# resize and grayscale"
   ]
  },
  {
   "cell_type": "code",
   "execution_count": 13,
   "metadata": {},
   "outputs": [
    {
     "name": "stdout",
     "output_type": "stream",
     "text": [
      "elapsed 40.1 seconds\n"
     ]
    }
   ],
   "source": [
    "start_time = time.time()\n",
    "\n",
    "for size in [64,128,256]:\n",
    "    for img_file in list_of_images:\n",
    "        extension = img_file.split('.')[-1]\n",
    "        img_file_sans_extension = img_file.replace('.'+extension,'')\n",
    "        image = cv2.imread(img_file, cv2.IMREAD_GRAYSCALE)\n",
    "        dst = cv2.resize(image, (size,size))\n",
    "        cv2.imwrite(img_file_sans_extension+'_'+str(size)+'x'+str(size)+'_gray.'+extension,dst)\n",
    "print('elapsed',round(time.time()-start_time,2),'seconds')"
   ]
  },
  {
   "cell_type": "code",
   "execution_count": 14,
   "metadata": {},
   "outputs": [],
   "source": [
    "!mv images/*_64x64_gray* images/64x64_gray/\n",
    "!mv images/*_128x128_gray* images/128x128_gray/\n",
    "!mv images/*_256x256_gray* images/256x256_gray/"
   ]
  },
  {
   "cell_type": "code",
   "execution_count": null,
   "metadata": {},
   "outputs": [],
   "source": []
  }
 ],
 "metadata": {
  "kernelspec": {
   "display_name": "Python 3",
   "language": "python",
   "name": "python3"
  },
  "language_info": {
   "codemirror_mode": {
    "name": "ipython",
    "version": 3
   },
   "file_extension": ".py",
   "mimetype": "text/x-python",
   "name": "python",
   "nbconvert_exporter": "python",
   "pygments_lexer": "ipython3",
   "version": "3.6.7"
  }
 },
 "nbformat": 4,
 "nbformat_minor": 2
}
