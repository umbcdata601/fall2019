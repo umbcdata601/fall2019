{
 "cells": [
  {
   "cell_type": "code",
   "execution_count": 1,
   "metadata": {},
   "outputs": [
    {
     "name": "stdout",
     "output_type": "stream",
     "text": [
      "Requirement already satisfied: Faker in /opt/conda/lib/python3.6/site-packages (1.0.2)\n",
      "Requirement already satisfied: python-dateutil>=2.4 in /opt/conda/lib/python3.6/site-packages (from Faker) (2.7.4)\n",
      "Requirement already satisfied: six>=1.10 in /opt/conda/lib/python3.6/site-packages (from Faker) (1.11.0)\n",
      "Requirement already satisfied: text-unidecode==1.2 in /opt/conda/lib/python3.6/site-packages (from Faker) (1.2)\n"
     ]
    }
   ],
   "source": [
    "!pip install Faker"
   ]
  },
  {
   "cell_type": "code",
   "execution_count": 8,
   "metadata": {},
   "outputs": [
    {
     "name": "stdout",
     "output_type": "stream",
     "text": [
      "pandas 0.23.4\n"
     ]
    }
   ],
   "source": [
    "import time\n",
    "import pandas\n",
    "print('pandas',pandas.__version__)"
   ]
  },
  {
   "cell_type": "code",
   "execution_count": 2,
   "metadata": {},
   "outputs": [],
   "source": [
    "from faker import Faker\n",
    "fake = Faker()"
   ]
  },
  {
   "cell_type": "code",
   "execution_count": 4,
   "metadata": {},
   "outputs": [],
   "source": [
    "def create_df(num_rows):\n",
    "    \"\"\"\n",
    "    create a dataframe containing fake data\n",
    "    \"\"\"\n",
    "    df = pandas.DataFrame()\n",
    "    for i in range(num_rows):\n",
    "        row_dict={'word':fake.words(1)[0], \n",
    "              'state':fake.state(), \n",
    "              'num':i/10,\n",
    "              'city':fake.city(), \n",
    "              'another word':fake.words(1)[0],\n",
    "              'email':fake.email(),\n",
    "              'name':fake.name(),\n",
    "              'fixed':fake.url(),\n",
    "              'val':fake.latitude(),\n",
    "              'country':fake.country()}\n",
    "        df = df.append(row_dict, ignore_index=True)\n",
    "    return df"
   ]
  },
  {
   "cell_type": "markdown",
   "metadata": {},
   "source": [
    "what does the dataframe look like?"
   ]
  },
  {
   "cell_type": "code",
   "execution_count": 7,
   "metadata": {},
   "outputs": [
    {
     "name": "stdout",
     "output_type": "stream",
     "text": [
      "elapsed 0.14256763458251953 seconds\n"
     ]
    },
    {
     "data": {
      "text/html": [
       "<div>\n",
       "<style scoped>\n",
       "    .dataframe tbody tr th:only-of-type {\n",
       "        vertical-align: middle;\n",
       "    }\n",
       "\n",
       "    .dataframe tbody tr th {\n",
       "        vertical-align: top;\n",
       "    }\n",
       "\n",
       "    .dataframe thead th {\n",
       "        text-align: right;\n",
       "    }\n",
       "</style>\n",
       "<table border=\"1\" class=\"dataframe\">\n",
       "  <thead>\n",
       "    <tr style=\"text-align: right;\">\n",
       "      <th></th>\n",
       "      <th>another word</th>\n",
       "      <th>city</th>\n",
       "      <th>country</th>\n",
       "      <th>email</th>\n",
       "      <th>fixed</th>\n",
       "      <th>name</th>\n",
       "      <th>num</th>\n",
       "      <th>state</th>\n",
       "      <th>val</th>\n",
       "      <th>word</th>\n",
       "    </tr>\n",
       "  </thead>\n",
       "  <tbody>\n",
       "    <tr>\n",
       "      <th>0</th>\n",
       "      <td>parent</td>\n",
       "      <td>North Belinda</td>\n",
       "      <td>Belarus</td>\n",
       "      <td>fware@hotmail.com</td>\n",
       "      <td>https://www.smith.net/</td>\n",
       "      <td>Benjamin Morris</td>\n",
       "      <td>0.0</td>\n",
       "      <td>Georgia</td>\n",
       "      <td>26.665743</td>\n",
       "      <td>pressure</td>\n",
       "    </tr>\n",
       "    <tr>\n",
       "      <th>1</th>\n",
       "      <td>apply</td>\n",
       "      <td>Christophermouth</td>\n",
       "      <td>Wallis and Futuna</td>\n",
       "      <td>browncole@gmail.com</td>\n",
       "      <td>https://osborne.com/</td>\n",
       "      <td>Francis Kirk</td>\n",
       "      <td>0.1</td>\n",
       "      <td>Georgia</td>\n",
       "      <td>-51.9111905</td>\n",
       "      <td>wish</td>\n",
       "    </tr>\n",
       "    <tr>\n",
       "      <th>2</th>\n",
       "      <td>base</td>\n",
       "      <td>Joshuafurt</td>\n",
       "      <td>Luxembourg</td>\n",
       "      <td>kingrobert@gmail.com</td>\n",
       "      <td>https://www.cole.com/</td>\n",
       "      <td>Renee Clark</td>\n",
       "      <td>0.2</td>\n",
       "      <td>Missouri</td>\n",
       "      <td>60.704370</td>\n",
       "      <td>story</td>\n",
       "    </tr>\n",
       "    <tr>\n",
       "      <th>3</th>\n",
       "      <td>source</td>\n",
       "      <td>Millerborough</td>\n",
       "      <td>Madagascar</td>\n",
       "      <td>mgillespie@hotmail.com</td>\n",
       "      <td>https://rodriguez-johnson.biz/</td>\n",
       "      <td>David Nixon</td>\n",
       "      <td>0.3</td>\n",
       "      <td>California</td>\n",
       "      <td>30.1639605</td>\n",
       "      <td>pay</td>\n",
       "    </tr>\n",
       "  </tbody>\n",
       "</table>\n",
       "</div>"
      ],
      "text/plain": [
       "  another word              city            country                   email  \\\n",
       "0       parent     North Belinda            Belarus       fware@hotmail.com   \n",
       "1        apply  Christophermouth  Wallis and Futuna     browncole@gmail.com   \n",
       "2         base        Joshuafurt         Luxembourg    kingrobert@gmail.com   \n",
       "3       source     Millerborough         Madagascar  mgillespie@hotmail.com   \n",
       "\n",
       "                            fixed             name  num       state  \\\n",
       "0          https://www.smith.net/  Benjamin Morris  0.0     Georgia   \n",
       "1            https://osborne.com/     Francis Kirk  0.1     Georgia   \n",
       "2           https://www.cole.com/      Renee Clark  0.2    Missouri   \n",
       "3  https://rodriguez-johnson.biz/      David Nixon  0.3  California   \n",
       "\n",
       "           val      word  \n",
       "0    26.665743  pressure  \n",
       "1  -51.9111905      wish  \n",
       "2    60.704370     story  \n",
       "3   30.1639605       pay  "
      ]
     },
     "execution_count": 7,
     "metadata": {},
     "output_type": "execute_result"
    }
   ],
   "source": [
    "start_time=time.time()\n",
    "df = create_df(4)\n",
    "print('elapsed',time.time()-start_time,'seconds')\n",
    "df.head()"
   ]
  },
  {
   "cell_type": "markdown",
   "metadata": {},
   "source": [
    "how long does creating 1000 rows take?"
   ]
  },
  {
   "cell_type": "code",
   "execution_count": 9,
   "metadata": {},
   "outputs": [
    {
     "name": "stdout",
     "output_type": "stream",
     "text": [
      "elapsed 9.182282447814941 seconds\n"
     ]
    }
   ],
   "source": [
    "start = time.time()\n",
    "df = create_df(1000)\n",
    "print('elapsed',time.time() - start,'seconds')\n",
    "#df"
   ]
  },
  {
   "cell_type": "markdown",
   "metadata": {},
   "source": [
    "generation takes 10 seconds per 1000 rows\n",
    "\n",
    "When writing data we want to create a large dataframe.\n",
    "\n",
    "Extrapolating from (10 seconds per 1000 rows), generating a dataframe with 4,000,000 rows would take 11 hours"
   ]
  },
  {
   "cell_type": "code",
   "execution_count": 10,
   "metadata": {},
   "outputs": [],
   "source": [
    "# a loop to double the size of the dataframe\n",
    "for indx in range(12): \n",
    "    df_copy= df.copy()\n",
    "    df = pandas.concat([df, df_copy], ignore_index=True)"
   ]
  },
  {
   "cell_type": "markdown",
   "metadata": {},
   "source": [
    "1000 rows x 10 gets 1024000 rows which is 133 MB and writes in 20 seconds\n",
    "\n",
    "1000 rows x 11 gets 2048000 rows which is 269 MB and writes in 40 seconds\n",
    "\n",
    "1000 rows x 12 gets 4096000 rows which is 540 MB and writes in 73 seconds\n"
   ]
  },
  {
   "cell_type": "code",
   "execution_count": 63,
   "metadata": {},
   "outputs": [
    {
     "data": {
      "text/plain": [
       "(4096000, 10)"
      ]
     },
     "execution_count": 63,
     "metadata": {},
     "output_type": "execute_result"
    }
   ],
   "source": [
    "df.shape"
   ]
  },
  {
   "cell_type": "markdown",
   "metadata": {},
   "source": [
    "how long does it take to write the dataframe to CSV?"
   ]
  },
  {
   "cell_type": "code",
   "execution_count": 64,
   "metadata": {},
   "outputs": [
    {
     "name": "stdout",
     "output_type": "stream",
     "text": [
      "73.20809578895569 seconds\n"
     ]
    }
   ],
   "source": [
    "start = time.time()\n",
    "df.to_csv('my_file.csv')\n",
    "print('elapsed',round(time.time() - start,2),'seconds')"
   ]
  },
  {
   "cell_type": "markdown",
   "metadata": {},
   "source": [
    "how big is the file on disk once written?"
   ]
  },
  {
   "cell_type": "code",
   "execution_count": 65,
   "metadata": {},
   "outputs": [
    {
     "name": "stdout",
     "output_type": "stream",
     "text": [
      "540.642297 MB\n"
     ]
    }
   ],
   "source": [
    "import os\n",
    "statinfo = os.stat('my_file.csv')\n",
    "print(statinfo.st_size/1000000,'MB')"
   ]
  },
  {
   "cell_type": "markdown",
   "metadata": {},
   "source": [
    "how long does it take to read the file on disk into memory?"
   ]
  },
  {
   "cell_type": "code",
   "execution_count": 66,
   "metadata": {},
   "outputs": [
    {
     "name": "stdout",
     "output_type": "stream",
     "text": [
      "21.775399684906006 seconds\n"
     ]
    }
   ],
   "source": [
    "start = time.time()\n",
    "df_in = pandas.read_csv('my_file.csv')\n",
    "print('elapsed',round(time.time() - start,2),'seconds')"
   ]
  },
  {
   "cell_type": "code",
   "execution_count": null,
   "metadata": {},
   "outputs": [],
   "source": []
  }
 ],
 "metadata": {
  "kernelspec": {
   "display_name": "Python 3",
   "language": "python",
   "name": "python3"
  },
  "language_info": {
   "codemirror_mode": {
    "name": "ipython",
    "version": 3
   },
   "file_extension": ".py",
   "mimetype": "text/x-python",
   "name": "python",
   "nbconvert_exporter": "python",
   "pygments_lexer": "ipython3",
   "version": "3.6.7"
  }
 },
 "nbformat": 4,
 "nbformat_minor": 2
}
