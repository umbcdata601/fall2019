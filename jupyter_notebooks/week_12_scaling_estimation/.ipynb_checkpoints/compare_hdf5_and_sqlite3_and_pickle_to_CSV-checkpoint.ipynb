{
 "cells": [
  {
   "cell_type": "markdown",
   "metadata": {},
   "source": [
    "# saving data to disk\n",
    "\n",
    "In 601 we have focused on get data from plain text files (CSV, JSON, XML) and Excel. There are other file formats capable of holding tables.\n",
    "\n",
    "The purpose of this notebook is to provide illustration of alternative storage formats. We can read data from any of these formats into Pandas. \n",
    "\n",
    "We will not be using SQL or Pickle or HDF5 in 601. <BR>\n",
    "These options are not relevant for your homework or projects."
   ]
  },
  {
   "cell_type": "code",
   "execution_count": 1,
   "metadata": {},
   "outputs": [
    {
     "name": "stdout",
     "output_type": "stream",
     "text": [
      "Requirement already satisfied: tables in /opt/conda/lib/python3.6/site-packages (3.6.1)\n",
      "Requirement already satisfied: numpy>=1.9.3 in /opt/conda/lib/python3.6/site-packages (from tables) (1.13.3)\n",
      "Requirement already satisfied: numexpr>=2.6.2 in /opt/conda/lib/python3.6/site-packages (from tables) (2.6.8)\n"
     ]
    }
   ],
   "source": [
    "# https://stackoverflow.com/questions/25980018/importerror-hdfstore-requires-pytables-no-module-named-tables\n",
    "!pip install tables"
   ]
  },
  {
   "cell_type": "code",
   "execution_count": 2,
   "metadata": {},
   "outputs": [
    {
     "name": "stdout",
     "output_type": "stream",
     "text": [
      "3.6.6 | packaged by conda-forge | (default, Oct 12 2018, 14:08:43) \n",
      "[GCC 4.8.2 20140120 (Red Hat 4.8.2-15)]\n",
      "pandas 0.23.4\n",
      "numpy 1.13.3\n",
      "sqlite3 2.6.0\n"
     ]
    }
   ],
   "source": [
    "import os\n",
    "import sys\n",
    "print(sys.version)\n",
    "import h5py\n",
    "import pandas\n",
    "print('pandas',pandas.__version__)\n",
    "import numpy\n",
    "print('numpy',numpy.__version__)\n",
    "import sqlite3\n",
    "print('sqlite3',sqlite3.version)\n",
    "import pickle\n",
    "from faker import Faker\n",
    "fake = Faker()\n",
    "import time"
   ]
  },
  {
   "cell_type": "markdown",
   "metadata": {},
   "source": [
    "# create a couple dataframes to save"
   ]
  },
  {
   "cell_type": "markdown",
   "metadata": {},
   "source": [
    "## numeric data"
   ]
  },
  {
   "cell_type": "code",
   "execution_count": 3,
   "metadata": {},
   "outputs": [
    {
     "name": "stdout",
     "output_type": "stream",
     "text": [
      "(1000000, 4)\n"
     ]
    },
    {
     "data": {
      "text/html": [
       "<div>\n",
       "<style scoped>\n",
       "    .dataframe tbody tr th:only-of-type {\n",
       "        vertical-align: middle;\n",
       "    }\n",
       "\n",
       "    .dataframe tbody tr th {\n",
       "        vertical-align: top;\n",
       "    }\n",
       "\n",
       "    .dataframe thead th {\n",
       "        text-align: right;\n",
       "    }\n",
       "</style>\n",
       "<table border=\"1\" class=\"dataframe\">\n",
       "  <thead>\n",
       "    <tr style=\"text-align: right;\">\n",
       "      <th></th>\n",
       "      <th>A</th>\n",
       "      <th>B</th>\n",
       "      <th>C</th>\n",
       "      <th>D</th>\n",
       "    </tr>\n",
       "  </thead>\n",
       "  <tbody>\n",
       "    <tr>\n",
       "      <th>0</th>\n",
       "      <td>125</td>\n",
       "      <td>913</td>\n",
       "      <td>2</td>\n",
       "      <td>296</td>\n",
       "    </tr>\n",
       "    <tr>\n",
       "      <th>1</th>\n",
       "      <td>769</td>\n",
       "      <td>2</td>\n",
       "      <td>494</td>\n",
       "      <td>38</td>\n",
       "    </tr>\n",
       "    <tr>\n",
       "      <th>2</th>\n",
       "      <td>201</td>\n",
       "      <td>256</td>\n",
       "      <td>104</td>\n",
       "      <td>347</td>\n",
       "    </tr>\n",
       "    <tr>\n",
       "      <th>3</th>\n",
       "      <td>803</td>\n",
       "      <td>615</td>\n",
       "      <td>682</td>\n",
       "      <td>710</td>\n",
       "    </tr>\n",
       "    <tr>\n",
       "      <th>4</th>\n",
       "      <td>670</td>\n",
       "      <td>704</td>\n",
       "      <td>193</td>\n",
       "      <td>175</td>\n",
       "    </tr>\n",
       "  </tbody>\n",
       "</table>\n",
       "</div>"
      ],
      "text/plain": [
       "     A    B    C    D\n",
       "0  125  913    2  296\n",
       "1  769    2  494   38\n",
       "2  201  256  104  347\n",
       "3  803  615  682  710\n",
       "4  670  704  193  175"
      ]
     },
     "execution_count": 3,
     "metadata": {},
     "output_type": "execute_result"
    }
   ],
   "source": [
    "row_count=1000000\n",
    "df_numeric = pandas.DataFrame(numpy.random.randint(0,1000,\n",
    "                      size=(row_count, 4)), \n",
    "                      columns=list('ABCD'))\n",
    "\n",
    "print(df_numeric.shape)\n",
    "\n",
    "df_numeric.head()"
   ]
  },
  {
   "cell_type": "markdown",
   "metadata": {},
   "source": [
    "### metadata \n",
    "Did you know you can add attributes to a dataframe?\n",
    "\n",
    "<a href=\"https://stackoverflow.com/questions/14688306/adding-meta-information-metadata-to-pandas-dataframe\">source</a>"
   ]
  },
  {
   "cell_type": "code",
   "execution_count": 4,
   "metadata": {},
   "outputs": [],
   "source": [
    "df_numeric.author_name = \"Ben\""
   ]
  },
  {
   "cell_type": "code",
   "execution_count": 5,
   "metadata": {},
   "outputs": [
    {
     "data": {
      "text/plain": [
       "'Ben'"
      ]
     },
     "execution_count": 5,
     "metadata": {},
     "output_type": "execute_result"
    }
   ],
   "source": [
    "df_numeric.author_name"
   ]
  },
  {
   "cell_type": "markdown",
   "metadata": {},
   "source": [
    "## text data"
   ]
  },
  {
   "cell_type": "code",
   "execution_count": 6,
   "metadata": {},
   "outputs": [
    {
     "name": "stdout",
     "output_type": "stream",
     "text": [
      "elapsed 23.31 seconds\n"
     ]
    }
   ],
   "source": [
    "start_time=time.time()\n",
    "list_of_dicts=[]\n",
    "num_rows=8500 # 850 is ~1MB CSV and takes 1.5 seconds; 8500 takes 15 seconds\n",
    "for indx in range(num_rows):\n",
    "    list_of_dicts.append({'name':fake.name(),\n",
    "                    'date':fake.date(),\n",
    "                    'domain name':fake.domain_name(),\n",
    "                    'day of month':fake.day_of_month(),\n",
    "                    'day of week':fake.day_of_week(),\n",
    "                    'country':fake.country(),\n",
    "                    'company':fake.company(),\n",
    "                    'city':fake.city(),\n",
    "                    'email':fake.ascii_email(),\n",
    "                    'bank':fake.bank_country()})\n",
    "    \n",
    "df_text = pandas.DataFrame(list_of_dicts)\n",
    "print('elapsed',round(time.time()-start_time,2),'seconds')"
   ]
  },
  {
   "cell_type": "code",
   "execution_count": 7,
   "metadata": {},
   "outputs": [
    {
     "data": {
      "text/html": [
       "<div>\n",
       "<style scoped>\n",
       "    .dataframe tbody tr th:only-of-type {\n",
       "        vertical-align: middle;\n",
       "    }\n",
       "\n",
       "    .dataframe tbody tr th {\n",
       "        vertical-align: top;\n",
       "    }\n",
       "\n",
       "    .dataframe thead th {\n",
       "        text-align: right;\n",
       "    }\n",
       "</style>\n",
       "<table border=\"1\" class=\"dataframe\">\n",
       "  <thead>\n",
       "    <tr style=\"text-align: right;\">\n",
       "      <th></th>\n",
       "      <th>bank</th>\n",
       "      <th>city</th>\n",
       "      <th>company</th>\n",
       "      <th>country</th>\n",
       "      <th>date</th>\n",
       "      <th>day of month</th>\n",
       "      <th>day of week</th>\n",
       "      <th>domain name</th>\n",
       "      <th>email</th>\n",
       "      <th>name</th>\n",
       "    </tr>\n",
       "  </thead>\n",
       "  <tbody>\n",
       "    <tr>\n",
       "      <th>0</th>\n",
       "      <td>GB</td>\n",
       "      <td>Priceport</td>\n",
       "      <td>Howard PLC</td>\n",
       "      <td>United Arab Emirates</td>\n",
       "      <td>2006-10-29</td>\n",
       "      <td>20</td>\n",
       "      <td>Wednesday</td>\n",
       "      <td>jones.org</td>\n",
       "      <td>kari87@yahoo.com</td>\n",
       "      <td>Leonard Bailey</td>\n",
       "    </tr>\n",
       "    <tr>\n",
       "      <th>1</th>\n",
       "      <td>GB</td>\n",
       "      <td>Jenniferfurt</td>\n",
       "      <td>Hall-Davidson</td>\n",
       "      <td>Lesotho</td>\n",
       "      <td>2010-10-14</td>\n",
       "      <td>24</td>\n",
       "      <td>Tuesday</td>\n",
       "      <td>peters-cardenas.com</td>\n",
       "      <td>martinezdavid@yahoo.com</td>\n",
       "      <td>Michael Coleman</td>\n",
       "    </tr>\n",
       "    <tr>\n",
       "      <th>2</th>\n",
       "      <td>GB</td>\n",
       "      <td>West Andreastad</td>\n",
       "      <td>Wolf-Pratt</td>\n",
       "      <td>Guernsey</td>\n",
       "      <td>1998-02-26</td>\n",
       "      <td>09</td>\n",
       "      <td>Thursday</td>\n",
       "      <td>daniels.biz</td>\n",
       "      <td>jennifer37@gmail.com</td>\n",
       "      <td>Julia Watson</td>\n",
       "    </tr>\n",
       "    <tr>\n",
       "      <th>3</th>\n",
       "      <td>GB</td>\n",
       "      <td>New David</td>\n",
       "      <td>Murphy-Gay</td>\n",
       "      <td>Macedonia</td>\n",
       "      <td>1988-01-30</td>\n",
       "      <td>26</td>\n",
       "      <td>Wednesday</td>\n",
       "      <td>chapman.org</td>\n",
       "      <td>perezjustin@pratt.com</td>\n",
       "      <td>Patrick Jenkins</td>\n",
       "    </tr>\n",
       "    <tr>\n",
       "      <th>4</th>\n",
       "      <td>GB</td>\n",
       "      <td>Michellebury</td>\n",
       "      <td>Logan LLC</td>\n",
       "      <td>Puerto Rico</td>\n",
       "      <td>1982-11-04</td>\n",
       "      <td>13</td>\n",
       "      <td>Thursday</td>\n",
       "      <td>johnston.info</td>\n",
       "      <td>ellensmith@parks-kim.com</td>\n",
       "      <td>Taylor Padilla</td>\n",
       "    </tr>\n",
       "  </tbody>\n",
       "</table>\n",
       "</div>"
      ],
      "text/plain": [
       "  bank             city        company               country        date  \\\n",
       "0   GB        Priceport     Howard PLC  United Arab Emirates  2006-10-29   \n",
       "1   GB     Jenniferfurt  Hall-Davidson               Lesotho  2010-10-14   \n",
       "2   GB  West Andreastad     Wolf-Pratt              Guernsey  1998-02-26   \n",
       "3   GB        New David     Murphy-Gay             Macedonia  1988-01-30   \n",
       "4   GB     Michellebury      Logan LLC           Puerto Rico  1982-11-04   \n",
       "\n",
       "  day of month day of week          domain name                     email  \\\n",
       "0           20   Wednesday            jones.org          kari87@yahoo.com   \n",
       "1           24     Tuesday  peters-cardenas.com   martinezdavid@yahoo.com   \n",
       "2           09    Thursday          daniels.biz      jennifer37@gmail.com   \n",
       "3           26   Wednesday          chapman.org     perezjustin@pratt.com   \n",
       "4           13    Thursday        johnston.info  ellensmith@parks-kim.com   \n",
       "\n",
       "              name  \n",
       "0   Leonard Bailey  \n",
       "1  Michael Coleman  \n",
       "2     Julia Watson  \n",
       "3  Patrick Jenkins  \n",
       "4   Taylor Padilla  "
      ]
     },
     "execution_count": 7,
     "metadata": {},
     "output_type": "execute_result"
    }
   ],
   "source": [
    "df_text.head()"
   ]
  },
  {
   "cell_type": "markdown",
   "metadata": {},
   "source": [
    "# compare size on disk for single dataframe \n",
    "\n",
    "The point of this comparison is not because file size matters.\n",
    "\n",
    "Instead, the objectives are to show \n",
    "1. how to read and write variables to various file formats\n",
    "1. that the file size on disk can be read into Python"
   ]
  },
  {
   "cell_type": "markdown",
   "metadata": {},
   "source": [
    "## HDF5\n",
    "HDF overview:\n",
    "\n",
    "https://en.wikipedia.org/wiki/Hierarchical_Data_Format\n",
    "\n",
    "Python package:\n",
    "\n",
    "https://www.h5py.org/<BR>\n",
    "http://docs.h5py.org/en/stable/\n",
    "\n",
    "Pandas integration:\n",
    "\n",
    "https://glowingpython.blogspot.com/2014/08/quick-hdf5-with-pandas.html<BR>\n",
    "https://stackoverflow.com/questions/28170623/how-to-read-hdf5-files-in-python<BR>\n",
    "https://medium.com/@jerilkuriakose/using-hdf5-with-python-6c5242d08773<BR>\n",
    "https://pandas.pydata.org/pandas-docs/stable/user_guide/io.html\n",
    "    \n",
    "Metadata:\n",
    "    \n",
    "https://support.hdfgroup.org/HDF5/doc/Advanced/HDF5_Metadata/index.html<BR>\n",
    "http://docs.h5py.org/en/stable/high/attr.html"
   ]
  },
  {
   "cell_type": "code",
   "execution_count": 8,
   "metadata": {},
   "outputs": [],
   "source": [
    "# https://stackoverflow.com/questions/41173254/how-should-i-use-h5py-lib-for-storing-time-series-data\n",
    "\n",
    "with pandas.HDFStore('temp.h5', 'w') as h:\n",
    "    df_numeric.to_hdf(h, 'temp') # https://pandas.pydata.org/pandas-docs/stable/reference/api/pandas.DataFrame.to_hdf.html"
   ]
  },
  {
   "cell_type": "code",
   "execution_count": 29,
   "metadata": {},
   "outputs": [
    {
     "name": "stdout",
     "output_type": "stream",
     "text": [
      "48.76 MB file on disk\n"
     ]
    }
   ],
   "source": [
    "print(round(os.path.getsize(\"temp.h5\")/(1024*1024),2),'MB file on disk')"
   ]
  },
  {
   "cell_type": "markdown",
   "metadata": {},
   "source": [
    "to read the content, use"
   ]
  },
  {
   "cell_type": "code",
   "execution_count": 10,
   "metadata": {},
   "outputs": [],
   "source": [
    "df_out = pandas.read_hdf('temp.h5', 'temp')"
   ]
  },
  {
   "cell_type": "markdown",
   "metadata": {},
   "source": [
    "The attribute we added does not get written by \".to_hdf\""
   ]
  },
  {
   "cell_type": "raw",
   "metadata": {},
   "source": [
    "df_out.author_name"
   ]
  },
  {
   "cell_type": "markdown",
   "metadata": {},
   "source": [
    "https://stackoverflow.com/questions/29129095/save-additional-attributes-in-pandas-dataframe/29130146#29130146\n",
    "\n",
    "https://dev.to/epassaro/gsoc-2019-june-ii-fjk\n",
    "\n",
    "https://www.science-emergence.com/Articles/How-to-save-a-large-dataset-in-a-hdf5-file-using-python--Quick-Guide/\n",
    "\n",
    "https://www.science-emergence.com/Articles/How-to-add-metadata-to-a-data-frame-with-pandas-in-python-/"
   ]
  },
  {
   "cell_type": "code",
   "execution_count": 11,
   "metadata": {},
   "outputs": [],
   "source": [
    "with pandas.HDFStore('temp_2.h5', 'w') as stor:\n",
    "    stor.put('mydata', df_numeric)\n",
    "    stor.get_storer('mydata').attrs.metadata = df_numeric.author_name"
   ]
  },
  {
   "cell_type": "code",
   "execution_count": 12,
   "metadata": {},
   "outputs": [],
   "source": [
    "df_out_2 = pandas.read_hdf('temp_2.h5', 'mydata')"
   ]
  },
  {
   "cell_type": "code",
   "execution_count": 30,
   "metadata": {},
   "outputs": [
    {
     "data": {
      "text/html": [
       "<div>\n",
       "<style scoped>\n",
       "    .dataframe tbody tr th:only-of-type {\n",
       "        vertical-align: middle;\n",
       "    }\n",
       "\n",
       "    .dataframe tbody tr th {\n",
       "        vertical-align: top;\n",
       "    }\n",
       "\n",
       "    .dataframe thead th {\n",
       "        text-align: right;\n",
       "    }\n",
       "</style>\n",
       "<table border=\"1\" class=\"dataframe\">\n",
       "  <thead>\n",
       "    <tr style=\"text-align: right;\">\n",
       "      <th></th>\n",
       "      <th>A</th>\n",
       "      <th>B</th>\n",
       "      <th>C</th>\n",
       "      <th>D</th>\n",
       "    </tr>\n",
       "  </thead>\n",
       "  <tbody>\n",
       "    <tr>\n",
       "      <th>0</th>\n",
       "      <td>125</td>\n",
       "      <td>913</td>\n",
       "      <td>2</td>\n",
       "      <td>296</td>\n",
       "    </tr>\n",
       "    <tr>\n",
       "      <th>1</th>\n",
       "      <td>769</td>\n",
       "      <td>2</td>\n",
       "      <td>494</td>\n",
       "      <td>38</td>\n",
       "    </tr>\n",
       "    <tr>\n",
       "      <th>2</th>\n",
       "      <td>201</td>\n",
       "      <td>256</td>\n",
       "      <td>104</td>\n",
       "      <td>347</td>\n",
       "    </tr>\n",
       "    <tr>\n",
       "      <th>3</th>\n",
       "      <td>803</td>\n",
       "      <td>615</td>\n",
       "      <td>682</td>\n",
       "      <td>710</td>\n",
       "    </tr>\n",
       "    <tr>\n",
       "      <th>4</th>\n",
       "      <td>670</td>\n",
       "      <td>704</td>\n",
       "      <td>193</td>\n",
       "      <td>175</td>\n",
       "    </tr>\n",
       "  </tbody>\n",
       "</table>\n",
       "</div>"
      ],
      "text/plain": [
       "     A    B    C    D\n",
       "0  125  913    2  296\n",
       "1  769    2  494   38\n",
       "2  201  256  104  347\n",
       "3  803  615  682  710\n",
       "4  670  704  193  175"
      ]
     },
     "execution_count": 30,
     "metadata": {},
     "output_type": "execute_result"
    }
   ],
   "source": [
    "df_out_2.head()"
   ]
  },
  {
   "cell_type": "markdown",
   "metadata": {},
   "source": [
    "## compare to CSV on disk"
   ]
  },
  {
   "cell_type": "code",
   "execution_count": 14,
   "metadata": {},
   "outputs": [],
   "source": [
    "df_numeric.to_csv('temp.csv')"
   ]
  },
  {
   "cell_type": "code",
   "execution_count": 31,
   "metadata": {},
   "outputs": [
    {
     "name": "stdout",
     "output_type": "stream",
     "text": [
      "21.41 MB file on disk\n"
     ]
    }
   ],
   "source": [
    "print(round(os.path.getsize(\"temp.csv\")/(1024*1024),2),'MB file on disk')"
   ]
  },
  {
   "cell_type": "markdown",
   "metadata": {},
   "source": [
    "## compare to SQLite\n",
    "\n",
    "https://www.dataquest.io/blog/python-pandas-databases/<BR>\n",
    "https://stackoverflow.com/questions/14431646/how-to-write-pandas-dataframe-to-sqlite-with-index<BR>\n",
    "https://pythonspot.com/sqlite-database-with-pandas/<BR>\n",
    "https://datacarpentry.org/python-ecology-lesson/09-working-with-sql/index.html<BR>\n",
    "http://sdsawtelle.github.io/blog/output/large-data-files-pandas-sqlite.html"
   ]
  },
  {
   "cell_type": "code",
   "execution_count": 16,
   "metadata": {},
   "outputs": [],
   "source": [
    "conn = sqlite3.connect(\"temp.db\")\n",
    "cur = conn.cursor() # https://docs.python.org/3/library/sqlite3.html#cursor-objects"
   ]
  },
  {
   "cell_type": "code",
   "execution_count": 17,
   "metadata": {},
   "outputs": [],
   "source": [
    "# https://pandas.pydata.org/pandas-docs/stable/reference/api/pandas.DataFrame.to_sql.html\n",
    "\n",
    "df_numeric.to_sql(name=\"data\", con=conn, if_exists=\"append\", index=False)"
   ]
  },
  {
   "cell_type": "code",
   "execution_count": 18,
   "metadata": {},
   "outputs": [
    {
     "name": "stdout",
     "output_type": "stream",
     "text": [
      "54.08984375 MB file on disk\n"
     ]
    }
   ],
   "source": [
    "print(os.path.getsize(\"temp.db\")/(1024*1024),'MB file on disk')"
   ]
  },
  {
   "cell_type": "markdown",
   "metadata": {},
   "source": [
    "## Python pickle serialization"
   ]
  },
  {
   "cell_type": "code",
   "execution_count": 19,
   "metadata": {},
   "outputs": [],
   "source": [
    "df_numeric.to_pickle(\"temp.pkl\")"
   ]
  },
  {
   "cell_type": "code",
   "execution_count": 20,
   "metadata": {},
   "outputs": [
    {
     "name": "stdout",
     "output_type": "stream",
     "text": [
      "30.518251419067383 MB file on disk\n"
     ]
    }
   ],
   "source": [
    "print(os.path.getsize(\"temp.pkl\")/(1024*1024),'MB file on disk')"
   ]
  },
  {
   "cell_type": "markdown",
   "metadata": {},
   "source": [
    "\n",
    "<BR>\n",
    "<BR>\n",
    "<BR>\n",
    "    \n",
    "# Save two dataframes to file\n",
    "    \n",
    "So far we've shown how to save one variable to one file. \n",
    "\n",
    "Sometimes we want to save more than one table to a single file"
   ]
  },
  {
   "cell_type": "markdown",
   "metadata": {},
   "source": [
    "## two variables to one HDF5 file\n",
    "\n",
    "https://datascience.stackexchange.com/questions/33171/what-s-the-best-way-to-save-many-pandas-dataframes-together"
   ]
  },
  {
   "cell_type": "code",
   "execution_count": 21,
   "metadata": {},
   "outputs": [],
   "source": [
    "h5_fout = h5py.File('temp.h5')\n",
    "\n",
    "h5_fout.create_dataset(\n",
    "        name='numeric',\n",
    "        data=df_numeric,\n",
    "        compression='gzip', compression_opts=4)\n",
    "\n",
    "h5_fout.create_dataset(\n",
    "        name='text',\n",
    "        data=df_text,\n",
    "        compression='gzip', compression_opts=4,\n",
    "        dtype=h5py.special_dtype(vlen=str)) # http://docs.h5py.org/en/stable/special.html\n",
    "\n",
    "h5_fout.create_dataset('description', data='some dataframes')\n",
    "h5_fout.close()"
   ]
  },
  {
   "cell_type": "code",
   "execution_count": null,
   "metadata": {},
   "outputs": [],
   "source": []
  },
  {
   "cell_type": "markdown",
   "metadata": {},
   "source": [
    "## Python pickle serialization"
   ]
  },
  {
   "cell_type": "code",
   "execution_count": 22,
   "metadata": {},
   "outputs": [],
   "source": [
    "with open('temp.pkl', \"wb\") as f:\n",
    "    pickle.dump(df_text, f)\n",
    "    pickle.dump(df_numeric, f)"
   ]
  },
  {
   "cell_type": "code",
   "execution_count": 32,
   "metadata": {},
   "outputs": [
    {
     "name": "stdout",
     "output_type": "stream",
     "text": [
      "32.0 MB file on disk\n"
     ]
    }
   ],
   "source": [
    "print(round(os.path.getsize(\"temp.pkl\")/(1024*1024),2),'MB file on disk')"
   ]
  },
  {
   "cell_type": "code",
   "execution_count": 24,
   "metadata": {},
   "outputs": [],
   "source": [
    "# https://stackoverflow.com/questions/20716812/saving-and-loading-multiple-objects-in-pickle-file\n",
    "def loadall(filename):\n",
    "    with open(filename, \"rb\") as f:\n",
    "        while True:\n",
    "            try:\n",
    "                yield pickle.load(f)\n",
    "            except EOFError:\n",
    "                break"
   ]
  },
  {
   "cell_type": "code",
   "execution_count": 25,
   "metadata": {},
   "outputs": [],
   "source": [
    "items = list(loadall('temp.pkl'))"
   ]
  },
  {
   "cell_type": "code",
   "execution_count": 26,
   "metadata": {},
   "outputs": [
    {
     "data": {
      "text/plain": [
       "2"
      ]
     },
     "execution_count": 26,
     "metadata": {},
     "output_type": "execute_result"
    }
   ],
   "source": [
    "len(items)"
   ]
  },
  {
   "cell_type": "code",
   "execution_count": 27,
   "metadata": {},
   "outputs": [
    {
     "data": {
      "text/html": [
       "<div>\n",
       "<style scoped>\n",
       "    .dataframe tbody tr th:only-of-type {\n",
       "        vertical-align: middle;\n",
       "    }\n",
       "\n",
       "    .dataframe tbody tr th {\n",
       "        vertical-align: top;\n",
       "    }\n",
       "\n",
       "    .dataframe thead th {\n",
       "        text-align: right;\n",
       "    }\n",
       "</style>\n",
       "<table border=\"1\" class=\"dataframe\">\n",
       "  <thead>\n",
       "    <tr style=\"text-align: right;\">\n",
       "      <th></th>\n",
       "      <th>bank</th>\n",
       "      <th>city</th>\n",
       "      <th>company</th>\n",
       "      <th>country</th>\n",
       "      <th>date</th>\n",
       "      <th>day of month</th>\n",
       "      <th>day of week</th>\n",
       "      <th>domain name</th>\n",
       "      <th>email</th>\n",
       "      <th>name</th>\n",
       "    </tr>\n",
       "  </thead>\n",
       "  <tbody>\n",
       "    <tr>\n",
       "      <th>0</th>\n",
       "      <td>GB</td>\n",
       "      <td>Priceport</td>\n",
       "      <td>Howard PLC</td>\n",
       "      <td>United Arab Emirates</td>\n",
       "      <td>2006-10-29</td>\n",
       "      <td>20</td>\n",
       "      <td>Wednesday</td>\n",
       "      <td>jones.org</td>\n",
       "      <td>kari87@yahoo.com</td>\n",
       "      <td>Leonard Bailey</td>\n",
       "    </tr>\n",
       "    <tr>\n",
       "      <th>1</th>\n",
       "      <td>GB</td>\n",
       "      <td>Jenniferfurt</td>\n",
       "      <td>Hall-Davidson</td>\n",
       "      <td>Lesotho</td>\n",
       "      <td>2010-10-14</td>\n",
       "      <td>24</td>\n",
       "      <td>Tuesday</td>\n",
       "      <td>peters-cardenas.com</td>\n",
       "      <td>martinezdavid@yahoo.com</td>\n",
       "      <td>Michael Coleman</td>\n",
       "    </tr>\n",
       "    <tr>\n",
       "      <th>2</th>\n",
       "      <td>GB</td>\n",
       "      <td>West Andreastad</td>\n",
       "      <td>Wolf-Pratt</td>\n",
       "      <td>Guernsey</td>\n",
       "      <td>1998-02-26</td>\n",
       "      <td>09</td>\n",
       "      <td>Thursday</td>\n",
       "      <td>daniels.biz</td>\n",
       "      <td>jennifer37@gmail.com</td>\n",
       "      <td>Julia Watson</td>\n",
       "    </tr>\n",
       "    <tr>\n",
       "      <th>3</th>\n",
       "      <td>GB</td>\n",
       "      <td>New David</td>\n",
       "      <td>Murphy-Gay</td>\n",
       "      <td>Macedonia</td>\n",
       "      <td>1988-01-30</td>\n",
       "      <td>26</td>\n",
       "      <td>Wednesday</td>\n",
       "      <td>chapman.org</td>\n",
       "      <td>perezjustin@pratt.com</td>\n",
       "      <td>Patrick Jenkins</td>\n",
       "    </tr>\n",
       "    <tr>\n",
       "      <th>4</th>\n",
       "      <td>GB</td>\n",
       "      <td>Michellebury</td>\n",
       "      <td>Logan LLC</td>\n",
       "      <td>Puerto Rico</td>\n",
       "      <td>1982-11-04</td>\n",
       "      <td>13</td>\n",
       "      <td>Thursday</td>\n",
       "      <td>johnston.info</td>\n",
       "      <td>ellensmith@parks-kim.com</td>\n",
       "      <td>Taylor Padilla</td>\n",
       "    </tr>\n",
       "  </tbody>\n",
       "</table>\n",
       "</div>"
      ],
      "text/plain": [
       "  bank             city        company               country        date  \\\n",
       "0   GB        Priceport     Howard PLC  United Arab Emirates  2006-10-29   \n",
       "1   GB     Jenniferfurt  Hall-Davidson               Lesotho  2010-10-14   \n",
       "2   GB  West Andreastad     Wolf-Pratt              Guernsey  1998-02-26   \n",
       "3   GB        New David     Murphy-Gay             Macedonia  1988-01-30   \n",
       "4   GB     Michellebury      Logan LLC           Puerto Rico  1982-11-04   \n",
       "\n",
       "  day of month day of week          domain name                     email  \\\n",
       "0           20   Wednesday            jones.org          kari87@yahoo.com   \n",
       "1           24     Tuesday  peters-cardenas.com   martinezdavid@yahoo.com   \n",
       "2           09    Thursday          daniels.biz      jennifer37@gmail.com   \n",
       "3           26   Wednesday          chapman.org     perezjustin@pratt.com   \n",
       "4           13    Thursday        johnston.info  ellensmith@parks-kim.com   \n",
       "\n",
       "              name  \n",
       "0   Leonard Bailey  \n",
       "1  Michael Coleman  \n",
       "2     Julia Watson  \n",
       "3  Patrick Jenkins  \n",
       "4   Taylor Padilla  "
      ]
     },
     "execution_count": 27,
     "metadata": {},
     "output_type": "execute_result"
    }
   ],
   "source": [
    "items[0].head()"
   ]
  },
  {
   "cell_type": "code",
   "execution_count": 28,
   "metadata": {},
   "outputs": [
    {
     "data": {
      "text/html": [
       "<div>\n",
       "<style scoped>\n",
       "    .dataframe tbody tr th:only-of-type {\n",
       "        vertical-align: middle;\n",
       "    }\n",
       "\n",
       "    .dataframe tbody tr th {\n",
       "        vertical-align: top;\n",
       "    }\n",
       "\n",
       "    .dataframe thead th {\n",
       "        text-align: right;\n",
       "    }\n",
       "</style>\n",
       "<table border=\"1\" class=\"dataframe\">\n",
       "  <thead>\n",
       "    <tr style=\"text-align: right;\">\n",
       "      <th></th>\n",
       "      <th>A</th>\n",
       "      <th>B</th>\n",
       "      <th>C</th>\n",
       "      <th>D</th>\n",
       "    </tr>\n",
       "  </thead>\n",
       "  <tbody>\n",
       "    <tr>\n",
       "      <th>0</th>\n",
       "      <td>125</td>\n",
       "      <td>913</td>\n",
       "      <td>2</td>\n",
       "      <td>296</td>\n",
       "    </tr>\n",
       "    <tr>\n",
       "      <th>1</th>\n",
       "      <td>769</td>\n",
       "      <td>2</td>\n",
       "      <td>494</td>\n",
       "      <td>38</td>\n",
       "    </tr>\n",
       "    <tr>\n",
       "      <th>2</th>\n",
       "      <td>201</td>\n",
       "      <td>256</td>\n",
       "      <td>104</td>\n",
       "      <td>347</td>\n",
       "    </tr>\n",
       "    <tr>\n",
       "      <th>3</th>\n",
       "      <td>803</td>\n",
       "      <td>615</td>\n",
       "      <td>682</td>\n",
       "      <td>710</td>\n",
       "    </tr>\n",
       "    <tr>\n",
       "      <th>4</th>\n",
       "      <td>670</td>\n",
       "      <td>704</td>\n",
       "      <td>193</td>\n",
       "      <td>175</td>\n",
       "    </tr>\n",
       "  </tbody>\n",
       "</table>\n",
       "</div>"
      ],
      "text/plain": [
       "     A    B    C    D\n",
       "0  125  913    2  296\n",
       "1  769    2  494   38\n",
       "2  201  256  104  347\n",
       "3  803  615  682  710\n",
       "4  670  704  193  175"
      ]
     },
     "execution_count": 28,
     "metadata": {},
     "output_type": "execute_result"
    }
   ],
   "source": [
    "items[1].head()"
   ]
  },
  {
   "cell_type": "code",
   "execution_count": null,
   "metadata": {},
   "outputs": [],
   "source": []
  }
 ],
 "metadata": {
  "kernelspec": {
   "display_name": "Python 3",
   "language": "python",
   "name": "python3"
  },
  "language_info": {
   "codemirror_mode": {
    "name": "ipython",
    "version": 3
   },
   "file_extension": ".py",
   "mimetype": "text/x-python",
   "name": "python",
   "nbconvert_exporter": "python",
   "pygments_lexer": "ipython3",
   "version": "3.6.6"
  }
 },
 "nbformat": 4,
 "nbformat_minor": 2
}
