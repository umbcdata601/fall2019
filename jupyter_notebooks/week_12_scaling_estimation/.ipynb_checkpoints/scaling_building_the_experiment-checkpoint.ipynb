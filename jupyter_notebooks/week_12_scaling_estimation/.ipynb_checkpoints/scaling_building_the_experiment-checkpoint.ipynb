{
 "cells": [
  {
   "cell_type": "markdown",
   "metadata": {},
   "source": [
    "\n",
    "1. apply a function to dataframes\n",
    "1. vary dataframe size\n",
    "1. measure the scaling various methods"
   ]
  },
  {
   "cell_type": "markdown",
   "metadata": {},
   "source": [
    "import python modules used in this notebook"
   ]
  },
  {
   "cell_type": "code",
   "execution_count": 1,
   "metadata": {},
   "outputs": [],
   "source": [
    "import pandas\n",
    "import numpy\n",
    "import pickle\n",
    "import matplotlib.pyplot as plt\n",
    "import time"
   ]
  },
  {
   "cell_type": "markdown",
   "metadata": {},
   "source": [
    "## before explaining how to measure scaling, start by showing the outcome"
   ]
  },
  {
   "cell_type": "markdown",
   "metadata": {},
   "source": [
    "create a function that doubles the value of column 'A'"
   ]
  },
  {
   "cell_type": "code",
   "execution_count": 37,
   "metadata": {},
   "outputs": [],
   "source": [
    "def double_col_a(row):\n",
    "    \"\"\"\n",
    "    input: the row of a dataframe\n",
    "    task: double the value in column A\n",
    "    this function is fragile since it assumes a bunch of aspects\n",
    "    \"\"\"\n",
    "    row_as_dict=dict(row)\n",
    "    return row_as_dict['A']*2"
   ]
  },
  {
   "cell_type": "markdown",
   "metadata": {},
   "source": [
    "To measure how well this scales, run 5 tests for a dataframe with 100 rows, then run 5 tests for a dataframe with 1000 rows, and finally run 5 tests for a dataframe with 10,000 rows."
   ]
  },
  {
   "cell_type": "code",
   "execution_count": 3,
   "metadata": {},
   "outputs": [],
   "source": [
    "number_of_tests=5 # how many experiments to run per size\n",
    "list_of_row_size=[100, 1000, 10000]"
   ]
  },
  {
   "cell_type": "markdown",
   "metadata": {},
   "source": [
    "These nested loops implement the scaling experiment"
   ]
  },
  {
   "cell_type": "code",
   "execution_count": 4,
   "metadata": {},
   "outputs": [
    {
     "name": "stdout",
     "output_type": "stream",
     "text": [
      "elapsed time: 0.48 for 100\n",
      "elapsed time: 2.1 for 1000\n",
      "elapsed time: 13.75 for 10000\n"
     ]
    }
   ],
   "source": [
    "serial_reslts={}\n",
    "scaling_start=time.time()\n",
    "for row_count in list_of_row_size:\n",
    "    test_reslts=[]\n",
    "    for test_indx in range(number_of_tests): # run the same experiment multiple times \n",
    "        # create a dataframe with random content of a specified size\n",
    "        # this isn't the section relevant to the scaling measurement, so timing isn't performed\n",
    "        df = pandas.DataFrame(\n",
    "                numpy.random.randint(0,1000,\n",
    "                                     size=(row_count, 4)), \n",
    "                                     columns=list('ABCD'))\n",
    "        # wrap the line of the code we are measuring with timing \n",
    "        start_time = time.time()\n",
    "        df['K'] = df.apply(double_col_a,axis=1)\n",
    "        test_reslts.append(time.time() - start_time) # store elapsed time to a list\n",
    "\n",
    "    # after running the experiment multiple times, record the average result to a dictionary\n",
    "    serial_reslts[row_count]=sum(test_reslts)/number_of_tests\n",
    "    \n",
    "    # progress indicator as we scale up\n",
    "    print('elapsed time:',round(time.time() - scaling_start,2),'for',row_count)"
   ]
  },
  {
   "cell_type": "markdown",
   "metadata": {},
   "source": [
    "The results from the experiment are stored in a dictionary. I've already averaged the measurements from the 10 runs."
   ]
  },
  {
   "cell_type": "code",
   "execution_count": 5,
   "metadata": {},
   "outputs": [
    {
     "data": {
      "text/plain": [
       "{100: 0.09173250198364258,\n",
       " 1000: 0.32361459732055664,\n",
       " 10000: 2.3262560844421385}"
      ]
     },
     "execution_count": 5,
     "metadata": {},
     "output_type": "execute_result"
    }
   ],
   "source": [
    "serial_reslts"
   ]
  },
  {
   "cell_type": "markdown",
   "metadata": {},
   "source": [
    "Plot the data to see linear scaling. I've included a linear fit of the data points."
   ]
  },
  {
   "cell_type": "code",
   "execution_count": 6,
   "metadata": {},
   "outputs": [
    {
     "data": {
      "image/png": "[encoded data removed]",
      "text/plain": [
       "<Figure size 432x288 with 1 Axes>"
      ]
     },
     "metadata": {
      "needs_background": "light"
     },
     "output_type": "display_data"
    }
   ],
   "source": [
    "serial_x = list(serial_reslts.keys()) # list_of_row_size\n",
    "serial_y = list(serial_reslts.values())\n",
    "_=plt.scatter(serial_x,serial_y,color='blue')\n",
    "_=plt.ylabel('average time in seconds',fontsize=14)\n",
    "_=plt.xlabel('number of rows in dataframe',fontsize=14)\n",
    "\n",
    "_=plt.plot(numpy.unique(serial_x), numpy.poly1d(numpy.polyfit(serial_x, serial_y, 1))(numpy.unique(serial_x))) # https://stackoverflow.com/questions/22239691/code-for-line-of-best-fit-of-a-scatter-plot-in-python"
   ]
  },
  {
   "cell_type": "markdown",
   "metadata": {},
   "source": [
    "# Now I show how I created that code through iterative development"
   ]
  },
  {
   "cell_type": "markdown",
   "metadata": {},
   "source": [
    "The `time.time()` command show what time it is in seconds since 12:00 am on January 1, 1970. This specific time is called \"epoch.\" For more on that, see \n",
    "\n",
    "https://en.wikipedia.org/wiki/Epoch_(reference_date)#Computing\n",
    "\n",
    "https://en.wikipedia.org/wiki/Unix_time\n",
    "\n",
    "https://stackoverflow.com/questions/2533563/why-are-dates-calculated-from-january-1st-1970/2533567"
   ]
  },
  {
   "cell_type": "code",
   "execution_count": 7,
   "metadata": {},
   "outputs": [
    {
     "data": {
      "text/plain": [
       "1587486980.3571815"
      ]
     },
     "execution_count": 7,
     "metadata": {},
     "output_type": "execute_result"
    }
   ],
   "source": [
    "time.time()"
   ]
  },
  {
   "cell_type": "markdown",
   "metadata": {},
   "source": [
    "Let's create fake data"
   ]
  },
  {
   "cell_type": "code",
   "execution_count": 38,
   "metadata": {},
   "outputs": [
    {
     "data": {
      "text/plain": [
       "151"
      ]
     },
     "execution_count": 38,
     "metadata": {},
     "output_type": "execute_result"
    }
   ],
   "source": [
    "numpy.random.randint(0,1000)"
   ]
  },
  {
   "cell_type": "markdown",
   "metadata": {},
   "source": [
    "actually I need a table of fake data"
   ]
  },
  {
   "cell_type": "code",
   "execution_count": 39,
   "metadata": {},
   "outputs": [
    {
     "data": {
      "text/plain": [
       "array([[177, 181, 726, 224],\n",
       "       [ 67, 348, 144, 261],\n",
       "       [675, 160, 513, 676],\n",
       "       [296, 517,  39, 914],\n",
       "       [990,  78, 154, 943],\n",
       "       [  5, 616, 867, 948],\n",
       "       [396, 454, 317, 377],\n",
       "       [  4, 810, 808, 119],\n",
       "       [141, 793, 729,  28],\n",
       "       [ 26,  37, 142, 308]])"
      ]
     },
     "execution_count": 39,
     "metadata": {},
     "output_type": "execute_result"
    }
   ],
   "source": [
    "numpy.random.randint(0,1000,size=(10, 4))"
   ]
  },
  {
   "cell_type": "markdown",
   "metadata": {},
   "source": [
    "That almost looks like a dataframe"
   ]
  },
  {
   "cell_type": "markdown",
   "metadata": {},
   "source": [
    "create a dataframe with randomly populated integers"
   ]
  },
  {
   "cell_type": "code",
   "execution_count": 42,
   "metadata": {},
   "outputs": [
    {
     "name": "stdout",
     "output_type": "stream",
     "text": [
      "cell elapsed: 0.01491 seconds\n"
     ]
    }
   ],
   "source": [
    "start_time=time.time()\n",
    "row_count=10000\n",
    "df = pandas.DataFrame(numpy.random.randint(0,1000,\n",
    "                                           size=(row_count, 4)), \n",
    "                                           columns=list('ABCD'))\n",
    "print('cell elapsed:',round(time.time()-start_time,5),'seconds')"
   ]
  },
  {
   "cell_type": "code",
   "execution_count": 43,
   "metadata": {},
   "outputs": [
    {
     "data": {
      "text/plain": [
       "(10000, 4)"
      ]
     },
     "execution_count": 43,
     "metadata": {},
     "output_type": "execute_result"
    }
   ],
   "source": [
    "df.shape"
   ]
  },
  {
   "cell_type": "code",
   "execution_count": 44,
   "metadata": {},
   "outputs": [
    {
     "data": {
      "text/html": [
       "<div>\n",
       "<style scoped>\n",
       "    .dataframe tbody tr th:only-of-type {\n",
       "        vertical-align: middle;\n",
       "    }\n",
       "\n",
       "    .dataframe tbody tr th {\n",
       "        vertical-align: top;\n",
       "    }\n",
       "\n",
       "    .dataframe thead th {\n",
       "        text-align: right;\n",
       "    }\n",
       "</style>\n",
       "<table border=\"1\" class=\"dataframe\">\n",
       "  <thead>\n",
       "    <tr style=\"text-align: right;\">\n",
       "      <th></th>\n",
       "      <th>A</th>\n",
       "      <th>B</th>\n",
       "      <th>C</th>\n",
       "      <th>D</th>\n",
       "    </tr>\n",
       "  </thead>\n",
       "  <tbody>\n",
       "    <tr>\n",
       "      <th>0</th>\n",
       "      <td>868</td>\n",
       "      <td>797</td>\n",
       "      <td>749</td>\n",
       "      <td>496</td>\n",
       "    </tr>\n",
       "    <tr>\n",
       "      <th>1</th>\n",
       "      <td>132</td>\n",
       "      <td>627</td>\n",
       "      <td>639</td>\n",
       "      <td>403</td>\n",
       "    </tr>\n",
       "    <tr>\n",
       "      <th>2</th>\n",
       "      <td>894</td>\n",
       "      <td>559</td>\n",
       "      <td>406</td>\n",
       "      <td>213</td>\n",
       "    </tr>\n",
       "    <tr>\n",
       "      <th>3</th>\n",
       "      <td>840</td>\n",
       "      <td>811</td>\n",
       "      <td>399</td>\n",
       "      <td>236</td>\n",
       "    </tr>\n",
       "    <tr>\n",
       "      <th>4</th>\n",
       "      <td>619</td>\n",
       "      <td>632</td>\n",
       "      <td>669</td>\n",
       "      <td>634</td>\n",
       "    </tr>\n",
       "  </tbody>\n",
       "</table>\n",
       "</div>"
      ],
      "text/plain": [
       "     A    B    C    D\n",
       "0  868  797  749  496\n",
       "1  132  627  639  403\n",
       "2  894  559  406  213\n",
       "3  840  811  399  236\n",
       "4  619  632  669  634"
      ]
     },
     "execution_count": 44,
     "metadata": {},
     "output_type": "execute_result"
    }
   ],
   "source": [
    "df.head()"
   ]
  },
  {
   "cell_type": "markdown",
   "metadata": {},
   "source": [
    "Given a dataframe with numeric values, I create a simple function that can operate on the rows"
   ]
  },
  {
   "cell_type": "code",
   "execution_count": 45,
   "metadata": {},
   "outputs": [],
   "source": [
    "def double_col_a(row):\n",
    "    row_as_dict=dict(row)\n",
    "    return row_as_dict['A']*2"
   ]
  },
  {
   "cell_type": "markdown",
   "metadata": {},
   "source": [
    "To use the function, "
   ]
  },
  {
   "cell_type": "code",
   "execution_count": 46,
   "metadata": {},
   "outputs": [],
   "source": [
    "df['K'] = df.apply(double_col_a,axis=1)"
   ]
  },
  {
   "cell_type": "markdown",
   "metadata": {},
   "source": [
    "The shape of the dataframe should be different because a new colum was added"
   ]
  },
  {
   "cell_type": "code",
   "execution_count": 47,
   "metadata": {},
   "outputs": [
    {
     "data": {
      "text/plain": [
       "(10000, 5)"
      ]
     },
     "execution_count": 47,
     "metadata": {},
     "output_type": "execute_result"
    }
   ],
   "source": [
    "df.shape"
   ]
  },
  {
   "cell_type": "code",
   "execution_count": 48,
   "metadata": {},
   "outputs": [
    {
     "data": {
      "text/html": [
       "<div>\n",
       "<style scoped>\n",
       "    .dataframe tbody tr th:only-of-type {\n",
       "        vertical-align: middle;\n",
       "    }\n",
       "\n",
       "    .dataframe tbody tr th {\n",
       "        vertical-align: top;\n",
       "    }\n",
       "\n",
       "    .dataframe thead th {\n",
       "        text-align: right;\n",
       "    }\n",
       "</style>\n",
       "<table border=\"1\" class=\"dataframe\">\n",
       "  <thead>\n",
       "    <tr style=\"text-align: right;\">\n",
       "      <th></th>\n",
       "      <th>A</th>\n",
       "      <th>B</th>\n",
       "      <th>C</th>\n",
       "      <th>D</th>\n",
       "      <th>K</th>\n",
       "    </tr>\n",
       "  </thead>\n",
       "  <tbody>\n",
       "    <tr>\n",
       "      <th>0</th>\n",
       "      <td>868</td>\n",
       "      <td>797</td>\n",
       "      <td>749</td>\n",
       "      <td>496</td>\n",
       "      <td>1736</td>\n",
       "    </tr>\n",
       "    <tr>\n",
       "      <th>1</th>\n",
       "      <td>132</td>\n",
       "      <td>627</td>\n",
       "      <td>639</td>\n",
       "      <td>403</td>\n",
       "      <td>264</td>\n",
       "    </tr>\n",
       "    <tr>\n",
       "      <th>2</th>\n",
       "      <td>894</td>\n",
       "      <td>559</td>\n",
       "      <td>406</td>\n",
       "      <td>213</td>\n",
       "      <td>1788</td>\n",
       "    </tr>\n",
       "    <tr>\n",
       "      <th>3</th>\n",
       "      <td>840</td>\n",
       "      <td>811</td>\n",
       "      <td>399</td>\n",
       "      <td>236</td>\n",
       "      <td>1680</td>\n",
       "    </tr>\n",
       "    <tr>\n",
       "      <th>4</th>\n",
       "      <td>619</td>\n",
       "      <td>632</td>\n",
       "      <td>669</td>\n",
       "      <td>634</td>\n",
       "      <td>1238</td>\n",
       "    </tr>\n",
       "  </tbody>\n",
       "</table>\n",
       "</div>"
      ],
      "text/plain": [
       "     A    B    C    D     K\n",
       "0  868  797  749  496  1736\n",
       "1  132  627  639  403   264\n",
       "2  894  559  406  213  1788\n",
       "3  840  811  399  236  1680\n",
       "4  619  632  669  634  1238"
      ]
     },
     "execution_count": 48,
     "metadata": {},
     "output_type": "execute_result"
    }
   ],
   "source": [
    "df.head()"
   ]
  },
  {
   "cell_type": "markdown",
   "metadata": {},
   "source": [
    "In order to know how the function scales as the number of rows increases, I want to time that operation\n",
    "\n",
    "<BR>\n",
    "<BR>\n",
    "\n",
    "To show the timing, I'll first reset the dataframe"
   ]
  },
  {
   "cell_type": "code",
   "execution_count": 49,
   "metadata": {},
   "outputs": [],
   "source": [
    "df = pandas.DataFrame(numpy.random.randint(0,1000,\n",
    "                                           size=(row_count, 4)), \n",
    "                                           columns=list('ABCD'))"
   ]
  },
  {
   "cell_type": "code",
   "execution_count": 50,
   "metadata": {},
   "outputs": [
    {
     "name": "stdout",
     "output_type": "stream",
     "text": [
      "2.34 seconds\n"
     ]
    }
   ],
   "source": [
    "start_time = time.time()\n",
    "df['K'] = df.apply(double_col_a,axis=1)\n",
    "print(round(time.time() - start_time,5),'seconds')"
   ]
  },
  {
   "cell_type": "markdown",
   "metadata": {},
   "source": [
    "Yay, a data point. Now we want to re-run that same test multiple times. \n",
    "\n",
    "Doing a task repeatedly means using a loop"
   ]
  },
  {
   "cell_type": "code",
   "execution_count": 17,
   "metadata": {},
   "outputs": [
    {
     "name": "stdout",
     "output_type": "stream",
     "text": [
      "2.4426217079162598 seconds\n",
      "2.023491144180298 seconds\n",
      "2.056255578994751 seconds\n",
      "2.020009756088257 seconds\n",
      "2.1275813579559326 seconds\n"
     ]
    }
   ],
   "source": [
    "number_of_tests=5\n",
    "for test_indx in range(number_of_tests):\n",
    "    start_time = time.time()\n",
    "    df['K'] = df.apply(double_col_a,axis=1)\n",
    "    print(round(time.time() - start_time,5),'seconds')"
   ]
  },
  {
   "cell_type": "markdown",
   "metadata": {},
   "source": [
    "To ensure a fair test, reset the dataframe being used in every experiment"
   ]
  },
  {
   "cell_type": "code",
   "execution_count": 18,
   "metadata": {},
   "outputs": [
    {
     "name": "stdout",
     "output_type": "stream",
     "text": [
      "1.7504544258117676 seconds\n",
      "1.7003426551818848 seconds\n",
      "1.7746772766113281 seconds\n",
      "1.8906514644622803 seconds\n",
      "1.6839215755462646 seconds\n"
     ]
    }
   ],
   "source": [
    "number_of_tests=5\n",
    "for test_indx in range(number_of_tests):\n",
    "    df = pandas.DataFrame(numpy.random.randint(0,1000,\n",
    "                                               size=(row_count, 4)), \n",
    "                                               columns=list('ABCD'))\n",
    "    start_time = time.time()\n",
    "    df['K'] = df.apply(double_col_a,axis=1)\n",
    "    print(round(time.time() - start_time,5),'seconds')"
   ]
  },
  {
   "cell_type": "markdown",
   "metadata": {},
   "source": [
    "Rather than print the results of each test to screen, save to a list"
   ]
  },
  {
   "cell_type": "code",
   "execution_count": 19,
   "metadata": {},
   "outputs": [],
   "source": [
    "number_of_tests=5\n",
    "test_reslts=[]\n",
    "for test_indx in range(number_of_tests):\n",
    "    df = pandas.DataFrame(numpy.random.randint(0,1000,\n",
    "                                               size=(row_count, 4)), \n",
    "                                               columns=list('ABCD'))\n",
    "    start_time = time.time()\n",
    "    df['K'] = df.apply(double_col_a,axis=1)\n",
    "    test_reslts.append(time.time() - start_time)"
   ]
  },
  {
   "cell_type": "code",
   "execution_count": 20,
   "metadata": {},
   "outputs": [
    {
     "name": "stdout",
     "output_type": "stream",
     "text": [
      "[1.8717331886291504, 3.2634284496307373, 2.1257009506225586, 1.64292573928833, 2.0205841064453125]\n"
     ]
    }
   ],
   "source": [
    "print(test_reslts)"
   ]
  },
  {
   "cell_type": "markdown",
   "metadata": {},
   "source": [
    "Rather than caring about each outcome, I want to know the average outcome"
   ]
  },
  {
   "cell_type": "code",
   "execution_count": 21,
   "metadata": {},
   "outputs": [],
   "source": [
    "serial_reslts=sum(test_reslts)/number_of_tests"
   ]
  },
  {
   "cell_type": "code",
   "execution_count": 22,
   "metadata": {},
   "outputs": [
    {
     "name": "stdout",
     "output_type": "stream",
     "text": [
      "2.184874486923218 seconds\n"
     ]
    }
   ],
   "source": [
    "print(serial_reslts,'seconds')"
   ]
  },
  {
   "cell_type": "markdown",
   "metadata": {},
   "source": [
    "Put the calculation of the average at the end of the loop"
   ]
  },
  {
   "cell_type": "code",
   "execution_count": 23,
   "metadata": {},
   "outputs": [],
   "source": [
    "number_of_tests=5\n",
    "test_reslts=[]\n",
    "for test_indx in range(number_of_tests):\n",
    "    df = pandas.DataFrame(numpy.random.randint(0,1000,\n",
    "                                               size=(row_count, 4)), \n",
    "                                               columns=list('ABCD'))\n",
    "    start_time = time.time()\n",
    "    df['K'] = df.apply(double_col_a,axis=1)\n",
    "    test_reslts.append(time.time() - start_time)\n",
    "    \n",
    "# after running the experiment multiple times, record the average result to a dictionary\n",
    "serial_reslts=sum(test_reslts)/number_of_tests"
   ]
  },
  {
   "cell_type": "code",
   "execution_count": 24,
   "metadata": {},
   "outputs": [
    {
     "name": "stdout",
     "output_type": "stream",
     "text": [
      "1.9815145015716553 seconds\n"
     ]
    }
   ],
   "source": [
    "print(serial_reslts,'seconds')"
   ]
  },
  {
   "cell_type": "markdown",
   "metadata": {},
   "source": [
    "That was 5 tests of the timing for a dataframe where row_count=10000\n",
    "\n",
    "In order to determine how the `double_col_a` function scales, we need to alter how many rows are in the dataframe"
   ]
  },
  {
   "cell_type": "code",
   "execution_count": 25,
   "metadata": {},
   "outputs": [],
   "source": [
    "number_of_tests=5\n",
    "list_of_row_size=[100, 1000, 10000]"
   ]
  },
  {
   "cell_type": "markdown",
   "metadata": {},
   "source": [
    "Create a loop that runs tests for each of these row counts\n",
    "\n",
    "Rather than store the test results to a scalar, store to a dictionary. The dictionary key is the number of rows in the dataframe."
   ]
  },
  {
   "cell_type": "code",
   "execution_count": 26,
   "metadata": {},
   "outputs": [],
   "source": [
    "serial_reslts={}\n",
    "for row_count in list_of_row_size:\n",
    "    test_reslts=[]\n",
    "    for test_indx in range(number_of_tests):\n",
    "        df = pandas.DataFrame(\n",
    "                numpy.random.randint(0,1000,\n",
    "                                     size=(row_count, 4)), \n",
    "                                     columns=list('ABCD'))\n",
    "        start_time = time.time()\n",
    "        df['K'] = df.apply(double_col_a,axis=1)\n",
    "        test_reslts.append(time.time() - start_time)\n",
    "        \n",
    "    # after running the experiment multiple times, record the average result to a dictionary\n",
    "    serial_reslts[row_count]=sum(test_reslts)/number_of_tests"
   ]
  },
  {
   "cell_type": "code",
   "execution_count": 27,
   "metadata": {},
   "outputs": [
    {
     "name": "stdout",
     "output_type": "stream",
     "text": [
      "{100: 0.02994565963745117, 1000: 0.1821000099182129, 10000: 1.8659278869628906}\n"
     ]
    }
   ],
   "source": [
    "print(serial_reslts)"
   ]
  },
  {
   "cell_type": "markdown",
   "metadata": {},
   "source": [
    "Now we can plot"
   ]
  },
  {
   "cell_type": "code",
   "execution_count": 28,
   "metadata": {},
   "outputs": [
    {
     "data": {
      "text/plain": [
       "Text(0.5,1,'timing a function call')"
      ]
     },
     "execution_count": 28,
     "metadata": {},
     "output_type": "execute_result"
    },
    {
     "data": {
      "image/png": "[encoded data removed]",
      "text/plain": [
       "<Figure size 432x288 with 1 Axes>"
      ]
     },
     "metadata": {
      "needs_background": "light"
     },
     "output_type": "display_data"
    }
   ],
   "source": [
    "serial_x = list(serial_reslts.keys()) \n",
    "serial_y = list(serial_reslts.values())\n",
    "_=plt.scatter(serial_x,serial_y,color='blue')\n",
    "_=plt.ylabel('average time in seconds',fontsize=14)\n",
    "_=plt.xlabel('number of rows in dataframe',fontsize=14)\n",
    "plt.title('timing a function call',fontsize=14)"
   ]
  },
  {
   "cell_type": "markdown",
   "metadata": {},
   "source": [
    "And to provide a guide for the reader's eye, add a linear fit"
   ]
  },
  {
   "cell_type": "code",
   "execution_count": 29,
   "metadata": {},
   "outputs": [
    {
     "data": {
      "image/png": "[encoded data removed]",
      "text/plain": [
       "<Figure size 432x288 with 1 Axes>"
      ]
     },
     "metadata": {
      "needs_background": "light"
     },
     "output_type": "display_data"
    }
   ],
   "source": [
    "serial_x = list(serial_reslts.keys()) # list_of_row_size\n",
    "serial_y = list(serial_reslts.values())\n",
    "plt.scatter(serial_x,serial_y,color='blue')\n",
    "plt.ylabel('average time in seconds',fontsize=14)\n",
    "plt.xlabel('number of rows in dataframe',fontsize=14)\n",
    "plt.title('timing a function call',fontsize=14)\n",
    "\n",
    "plt.plot(numpy.unique(serial_x), numpy.poly1d(numpy.polyfit(serial_x, serial_y, 1))(numpy.unique(serial_x))); # https://stackoverflow.com/questions/22239691/code-for-line-of-best-fit-of-a-scatter-plot-in-python"
   ]
  },
  {
   "cell_type": "markdown",
   "metadata": {},
   "source": [
    "# How to place the results in a dataframe\n",
    "\n",
    "The timing output is currently a dictionary, but a table is desired.\n",
    "\n",
    "First, check out https://pandas.pydata.org/pandas-docs/stable/reference/api/pandas.DataFrame.from_dict.html\n",
    "\n",
    "Because of the way we've set up our dictionary, that method doesn't apply."
   ]
  },
  {
   "cell_type": "code",
   "execution_count": 57,
   "metadata": {},
   "outputs": [
    {
     "data": {
      "text/plain": [
       "{100: 0.02994565963745117, 1000: 0.1821000099182129, 10000: 1.8659278869628906}"
      ]
     },
     "execution_count": 57,
     "metadata": {},
     "output_type": "execute_result"
    }
   ],
   "source": [
    "serial_reslts"
   ]
  },
  {
   "cell_type": "markdown",
   "metadata": {},
   "source": [
    "The following works\n",
    "\n",
    "https://stackoverflow.com/questions/18837262/convert-python-dict-into-a-dataframe"
   ]
  },
  {
   "cell_type": "code",
   "execution_count": 59,
   "metadata": {},
   "outputs": [
    {
     "data": {
      "text/html": [
       "<div>\n",
       "<style scoped>\n",
       "    .dataframe tbody tr th:only-of-type {\n",
       "        vertical-align: middle;\n",
       "    }\n",
       "\n",
       "    .dataframe tbody tr th {\n",
       "        vertical-align: top;\n",
       "    }\n",
       "\n",
       "    .dataframe thead th {\n",
       "        text-align: right;\n",
       "    }\n",
       "</style>\n",
       "<table border=\"1\" class=\"dataframe\">\n",
       "  <thead>\n",
       "    <tr style=\"text-align: right;\">\n",
       "      <th></th>\n",
       "      <th>100</th>\n",
       "      <th>1000</th>\n",
       "      <th>10000</th>\n",
       "    </tr>\n",
       "  </thead>\n",
       "  <tbody>\n",
       "    <tr>\n",
       "      <th>0</th>\n",
       "      <td>0.029946</td>\n",
       "      <td>0.1821</td>\n",
       "      <td>1.865928</td>\n",
       "    </tr>\n",
       "  </tbody>\n",
       "</table>\n",
       "</div>"
      ],
      "text/plain": [
       "      100     1000      10000\n",
       "0  0.029946  0.1821  1.865928"
      ]
     },
     "execution_count": 59,
     "metadata": {},
     "output_type": "execute_result"
    }
   ],
   "source": [
    "pandas.DataFrame([serial_reslts])"
   ]
  },
  {
   "cell_type": "markdown",
   "metadata": {},
   "source": [
    "and we could manipulate it into a better table, but I'm going to use a different method.\n",
    "\n",
    "To review what we are starting with,"
   ]
  },
  {
   "cell_type": "code",
   "execution_count": 51,
   "metadata": {},
   "outputs": [
    {
     "data": {
      "text/plain": [
       "{100: 0.02994565963745117, 1000: 0.1821000099182129, 10000: 1.8659278869628906}"
      ]
     },
     "execution_count": 51,
     "metadata": {},
     "output_type": "execute_result"
    }
   ],
   "source": [
    "serial_reslts"
   ]
  },
  {
   "cell_type": "markdown",
   "metadata": {},
   "source": [
    "That key-value design is not descriptive of the content. Compare that to"
   ]
  },
  {
   "cell_type": "code",
   "execution_count": 31,
   "metadata": {},
   "outputs": [
    {
     "name": "stdout",
     "output_type": "stream",
     "text": [
      "{size: 100 , time: 0.02994565963745117 }\n",
      "{size: 1000 , time: 0.1821000099182129 }\n",
      "{size: 10000 , time: 1.8659278869628906 }\n"
     ]
    }
   ],
   "source": [
    "for k,v in serial_reslts.items():\n",
    "    print('{size:',k,', time:',v,'}')"
   ]
  },
  {
   "cell_type": "markdown",
   "metadata": {},
   "source": [
    "That looks like what we want but it is not a variable -- it merely looks correct."
   ]
  },
  {
   "cell_type": "code",
   "execution_count": 32,
   "metadata": {},
   "outputs": [
    {
     "name": "stdout",
     "output_type": "stream",
     "text": [
      "{'size': 100, 'time': 0.02994565963745117}\n",
      "{'size': 1000, 'time': 0.1821000099182129}\n",
      "{'size': 10000, 'time': 1.8659278869628906}\n"
     ]
    }
   ],
   "source": [
    "for k,v in serial_reslts.items():\n",
    "    my_dict = {}\n",
    "    my_dict['size'] = k\n",
    "    my_dict['time'] = v\n",
    "    print(my_dict)\n",
    "#    print('{size:',k,', time:',v,'}')"
   ]
  },
  {
   "cell_type": "markdown",
   "metadata": {},
   "source": [
    "The difference is that these are actual Python variables printed rather than strings that look like Python variables\n",
    "\n",
    "More work is needed to get the content into a single variable"
   ]
  },
  {
   "cell_type": "code",
   "execution_count": 33,
   "metadata": {},
   "outputs": [],
   "source": [
    "my_list=[]\n",
    "for k,v in serial_reslts.items():\n",
    "    my_dict = {}\n",
    "    my_dict['size'] = k\n",
    "    my_dict['time'] = v\n",
    "    my_list.append(my_dict)"
   ]
  },
  {
   "cell_type": "code",
   "execution_count": 34,
   "metadata": {},
   "outputs": [
    {
     "data": {
      "text/plain": [
       "[{'size': 100, 'time': 0.02994565963745117},\n",
       " {'size': 1000, 'time': 0.1821000099182129},\n",
       " {'size': 10000, 'time': 1.8659278869628906}]"
      ]
     },
     "execution_count": 34,
     "metadata": {},
     "output_type": "execute_result"
    }
   ],
   "source": [
    "my_list"
   ]
  },
  {
   "cell_type": "code",
   "execution_count": 35,
   "metadata": {},
   "outputs": [],
   "source": [
    "df = pandas.DataFrame(my_list)"
   ]
  },
  {
   "cell_type": "code",
   "execution_count": 36,
   "metadata": {},
   "outputs": [
    {
     "data": {
      "text/html": [
       "<div>\n",
       "<style scoped>\n",
       "    .dataframe tbody tr th:only-of-type {\n",
       "        vertical-align: middle;\n",
       "    }\n",
       "\n",
       "    .dataframe tbody tr th {\n",
       "        vertical-align: top;\n",
       "    }\n",
       "\n",
       "    .dataframe thead th {\n",
       "        text-align: right;\n",
       "    }\n",
       "</style>\n",
       "<table border=\"1\" class=\"dataframe\">\n",
       "  <thead>\n",
       "    <tr style=\"text-align: right;\">\n",
       "      <th></th>\n",
       "      <th>size</th>\n",
       "      <th>time</th>\n",
       "    </tr>\n",
       "  </thead>\n",
       "  <tbody>\n",
       "    <tr>\n",
       "      <th>0</th>\n",
       "      <td>100</td>\n",
       "      <td>0.029946</td>\n",
       "    </tr>\n",
       "    <tr>\n",
       "      <th>1</th>\n",
       "      <td>1000</td>\n",
       "      <td>0.182100</td>\n",
       "    </tr>\n",
       "    <tr>\n",
       "      <th>2</th>\n",
       "      <td>10000</td>\n",
       "      <td>1.865928</td>\n",
       "    </tr>\n",
       "  </tbody>\n",
       "</table>\n",
       "</div>"
      ],
      "text/plain": [
       "    size      time\n",
       "0    100  0.029946\n",
       "1   1000  0.182100\n",
       "2  10000  1.865928"
      ]
     },
     "execution_count": 36,
     "metadata": {},
     "output_type": "execute_result"
    }
   ],
   "source": [
    "df"
   ]
  },
  {
   "cell_type": "markdown",
   "metadata": {},
   "source": [
    "Notice that the variable names are the colum headers, and each row is an independent observation\n",
    "\n",
    "How could we alter this dataframe to be even more descriptive?"
   ]
  },
  {
   "cell_type": "code",
   "execution_count": null,
   "metadata": {},
   "outputs": [],
   "source": []
  }
 ],
 "metadata": {
  "kernelspec": {
   "display_name": "Python 3",
   "language": "python",
   "name": "python3"
  },
  "language_info": {
   "codemirror_mode": {
    "name": "ipython",
    "version": 3
   },
   "file_extension": ".py",
   "mimetype": "text/x-python",
   "name": "python",
   "nbconvert_exporter": "python",
   "pygments_lexer": "ipython3",
   "version": "3.6.6"
  }
 },
 "nbformat": 4,
 "nbformat_minor": 2
}
