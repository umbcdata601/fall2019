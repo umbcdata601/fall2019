{
 "cells": [
  {
   "cell_type": "markdown",
   "metadata": {},
   "source": [
    "Warning: this notebook takes 5 minutes to run\n",
    "\n",
    "# Comparison of index vs sequential vs binary search\n",
    "\n",
    "The objective for this notebook is to compare scaling of algorithms. \n",
    "\n",
    "The specific algorithms are not the focus."
   ]
  },
  {
   "cell_type": "code",
   "execution_count": 4,
   "metadata": {},
   "outputs": [],
   "source": [
    "import random\n",
    "import matplotlib.pyplot as plt\n",
    "import time"
   ]
  },
  {
   "cell_type": "markdown",
   "metadata": {},
   "source": [
    "# Example of \"search\"\n",
    "\n",
    "### first, create a list of random integers"
   ]
  },
  {
   "cell_type": "code",
   "execution_count": 5,
   "metadata": {},
   "outputs": [
    {
     "data": {
      "text/plain": [
       "[28, 77, 66, 48, 90, 6, 67]"
      ]
     },
     "execution_count": 5,
     "metadata": {},
     "output_type": "execute_result"
    }
   ],
   "source": [
    "rand_list = random.sample(range(1, 100), 7)\n",
    "rand_list"
   ]
  },
  {
   "cell_type": "markdown",
   "metadata": {},
   "source": [
    "### what are we going to search for?\n",
    "Select a random element from the list"
   ]
  },
  {
   "cell_type": "code",
   "execution_count": 6,
   "metadata": {},
   "outputs": [
    {
     "data": {
      "text/plain": [
       "48"
      ]
     },
     "execution_count": 6,
     "metadata": {},
     "output_type": "execute_result"
    }
   ],
   "source": [
    "find_this_value = random.choice(rand_list)\n",
    "find_this_value"
   ]
  },
  {
   "cell_type": "markdown",
   "metadata": {},
   "source": [
    "### Apply the default search algorithm provided by Python"
   ]
  },
  {
   "cell_type": "code",
   "execution_count": 7,
   "metadata": {},
   "outputs": [
    {
     "name": "stdout",
     "output_type": "stream",
     "text": [
      "3\n"
     ]
    }
   ],
   "source": [
    "print(rand_list.index(find_this_value))"
   ]
  },
  {
   "cell_type": "markdown",
   "metadata": {},
   "source": [
    "To see the implementation, view\n",
    "\n",
    "https://github.com/python/cpython/blob/master/Objects/listobject.c#L2524"
   ]
  },
  {
   "cell_type": "markdown",
   "metadata": {},
   "source": [
    "# A naive algorithm"
   ]
  },
  {
   "cell_type": "code",
   "execution_count": 8,
   "metadata": {},
   "outputs": [],
   "source": [
    "def sequential_search(lst, value):\n",
    "    \"\"\"\n",
    "    Given a list, what is the index of the value?\n",
    "    Caveat: this value is assumed to be in the list\n",
    "    This function is fragile -- it does not handle errors\n",
    "    \"\"\"\n",
    "    for loc,this_entry in enumerate(lst):\n",
    "        if (this_entry==value): return loc"
   ]
  },
  {
   "cell_type": "code",
   "execution_count": 9,
   "metadata": {},
   "outputs": [
    {
     "data": {
      "text/plain": [
       "48"
      ]
     },
     "execution_count": 9,
     "metadata": {},
     "output_type": "execute_result"
    }
   ],
   "source": [
    "rand_list[3]"
   ]
  },
  {
   "cell_type": "code",
   "execution_count": 10,
   "metadata": {},
   "outputs": [
    {
     "data": {
      "text/plain": [
       "3"
      ]
     },
     "execution_count": 10,
     "metadata": {},
     "output_type": "execute_result"
    }
   ],
   "source": [
    "sequential_search(rand_list, rand_list[3])"
   ]
  },
  {
   "cell_type": "markdown",
   "metadata": {},
   "source": [
    "As expected, the location of that value is in third position in the list"
   ]
  },
  {
   "cell_type": "markdown",
   "metadata": {},
   "source": [
    "# binary search, iterative\n",
    "\n",
    "An alternative function that searches a list of integers\n",
    "\n",
    "Don't focus on the algorithm, it's just a thing to compare with other approaches"
   ]
  },
  {
   "cell_type": "code",
   "execution_count": 11,
   "metadata": {},
   "outputs": [],
   "source": [
    "#https://rosettacode.org/wiki/Binary_search#Python\n",
    "def binary_search_iterative(l, value):\n",
    "    low = 0\n",
    "    high = len(l)-1\n",
    "    while low <= high: \n",
    "        mid = (low+high)//2\n",
    "#        print(mid)\n",
    "        if l[mid] > value: high = mid-1\n",
    "        elif l[mid] < value: low = mid+1\n",
    "        else: return mid\n",
    "    return -1"
   ]
  },
  {
   "cell_type": "markdown",
   "metadata": {},
   "source": [
    "verify this algorithm produces the same result"
   ]
  },
  {
   "cell_type": "code",
   "execution_count": 12,
   "metadata": {},
   "outputs": [
    {
     "name": "stdout",
     "output_type": "stream",
     "text": [
      "position of sought value in sorted list is 3\n"
     ]
    }
   ],
   "source": [
    "print(\"position of sought value in sorted list is\",\n",
    "      binary_search_iterative(rand_list, rand_list[3]))"
   ]
  },
  {
   "cell_type": "markdown",
   "metadata": {},
   "source": [
    "# binary search, recursive \n",
    "a fourth, more complicated approach"
   ]
  },
  {
   "cell_type": "code",
   "execution_count": 10,
   "metadata": {},
   "outputs": [],
   "source": [
    "# https://rosettacode.org/wiki/Binary_search#Python\n",
    "def binary_search_recursive(l, value, low = 0, high = -1):\n",
    "    if not l: return -1\n",
    "    if(high == -1): high = len(l)-1\n",
    "    if low >= high:\n",
    "        if l[low] == value: return low\n",
    "        else: return -1\n",
    "    mid = (low+high)//2\n",
    "    if l[mid] > value: return binary_search_recursive(l, value, low, mid-1)\n",
    "    elif l[mid] < value: return binary_search_recursive(l, value, mid+1, high)\n",
    "    else: return mid"
   ]
  },
  {
   "cell_type": "markdown",
   "metadata": {},
   "source": [
    "find the third element in the list"
   ]
  },
  {
   "cell_type": "code",
   "execution_count": 11,
   "metadata": {},
   "outputs": [
    {
     "data": {
      "text/plain": [
       "24"
      ]
     },
     "execution_count": 11,
     "metadata": {},
     "output_type": "execute_result"
    }
   ],
   "source": [
    "value_to_find = rand_list[3]\n",
    "value_to_find"
   ]
  },
  {
   "cell_type": "code",
   "execution_count": 12,
   "metadata": {},
   "outputs": [
    {
     "name": "stdout",
     "output_type": "stream",
     "text": [
      "position of sought value in sorted list is\n"
     ]
    },
    {
     "data": {
      "text/plain": [
       "3"
      ]
     },
     "execution_count": 12,
     "metadata": {},
     "output_type": "execute_result"
    }
   ],
   "source": [
    "print(\"position of sought value in sorted list is\")\n",
    "binary_search_recursive(rand_list, value_to_find)"
   ]
  },
  {
   "cell_type": "markdown",
   "metadata": {},
   "source": [
    "# Search lists of increasing length"
   ]
  },
  {
   "cell_type": "code",
   "execution_count": 13,
   "metadata": {},
   "outputs": [],
   "source": [
    "number_of_tests=3\n",
    "initial_val=10000\n",
    "list_of_list_lengths=[initial_val,\n",
    "                      initial_val*10,\n",
    "                      initial_val*100,\n",
    "                      initial_val*1000]#,\n",
    "#                      initial_val*10000]"
   ]
  },
  {
   "cell_type": "code",
   "execution_count": 14,
   "metadata": {},
   "outputs": [
    {
     "name": "stdout",
     "output_type": "stream",
     "text": [
      "elapsed time: 0.38 seconds for 10000\n",
      "elapsed time: 2.25 seconds for 100000\n",
      "elapsed time: 17.28 seconds for 1000000\n",
      "elapsed time: 314.12 seconds for 10000000\n"
     ]
    }
   ],
   "source": [
    "times_dict_indx={}\n",
    "times_dict_ss={}\n",
    "times_dict_bsi={}\n",
    "times_dict_bsr={}\n",
    "for list_len in list_of_list_lengths:\n",
    "    start_time_iteration=time.time()\n",
    "    times_from_test_indx= []\n",
    "    times_from_test_ss  = []\n",
    "    times_from_test_bsi = []\n",
    "    times_from_test_bsr = []\n",
    "    for test_indx in range(number_of_tests):\n",
    "        rand_list = random.sample(range(1, list_len*10), list_len)\n",
    "        rand_list.sort()\n",
    "        value_to_find = random.choice(rand_list)\n",
    "\n",
    "        start_time_for_search = time.time()        \n",
    "        _=rand_list.index(value_to_find) # don't bother saving the output\n",
    "        times_from_test_indx.append(time.time()-start_time_for_search)        \n",
    "        \n",
    "        start_time_for_search = time.time()        \n",
    "        _=sequential_search(rand_list, value_to_find) # don't bother saving the output\n",
    "        times_from_test_ss.append(time.time()-start_time_for_search)        \n",
    "        \n",
    "        start_time_for_search = time.time()\n",
    "        _=binary_search_iterative(rand_list, value_to_find) # don't bother saving the output\n",
    "        times_from_test_bsi.append(time.time()-start_time_for_search)\n",
    "\n",
    "        start_time_for_search = time.time()\n",
    "        _=binary_search_recursive(rand_list, value_to_find) # don't bother saving the output\n",
    "        times_from_test_bsr.append(time.time()-start_time_for_search)\n",
    "\n",
    "    times_dict_indx[list_len]=sum(times_from_test_indx)/len(times_from_test_indx)\n",
    "    times_dict_ss[list_len] =sum(times_from_test_ss )/len(times_from_test_ss )\n",
    "    times_dict_bsi[list_len]=sum(times_from_test_bsi)/len(times_from_test_bsi)\n",
    "    times_dict_bsr[list_len]=sum(times_from_test_bsr)/len(times_from_test_bsr)\n",
    "    \n",
    "    print('elapsed time:',round(time.time()-start_time_iteration,2),'seconds for',list_len)"
   ]
  },
  {
   "cell_type": "markdown",
   "metadata": {},
   "source": [
    "# what is the average timing result from each list size?"
   ]
  },
  {
   "cell_type": "code",
   "execution_count": 15,
   "metadata": {},
   "outputs": [
    {
     "data": {
      "image/png": "[encoded data removed]",
      "text/plain": [
       "<Figure size 432x288 with 1 Axes>"
      ]
     },
     "metadata": {
      "needs_background": "light"
     },
     "output_type": "display_data"
    }
   ],
   "source": [
    "plt.scatter(times_dict_bsr.keys(),times_dict_bsr.values(),label='binary search recursive',marker='s',s=100)\n",
    "plt.scatter(times_dict_bsi.keys(),times_dict_bsi.values(),label='binary search iterative',marker='*',s=100)\n",
    "plt.scatter(times_dict_ss.keys(),times_dict_ss.values(),label='sequential (naive)',s=15)\n",
    "plt.scatter(times_dict_indx.keys(),times_dict_indx.values(),label='index (default)',marker='P',s=15)\n",
    "ax = plt.gca()\n",
    "ax.set_xscale('log')\n",
    "#ax.set_yscale('log')\n",
    "plt.legend()\n",
    "plt.xlabel('list length',fontsize=14)\n",
    "plt.ylabel('time in seconds',fontsize=14);\n",
    "plt.title('comparison of search algorithm timing');"
   ]
  },
  {
   "cell_type": "markdown",
   "metadata": {},
   "source": [
    "# Is the extra complexity of a recursive function relevant?"
   ]
  },
  {
   "cell_type": "code",
   "execution_count": 16,
   "metadata": {},
   "outputs": [
    {
     "data": {
      "image/png": "[encoded data removed]",
      "text/plain": [
       "<Figure size 432x288 with 1 Axes>"
      ]
     },
     "metadata": {
      "needs_background": "light"
     },
     "output_type": "display_data"
    }
   ],
   "source": [
    "plt.scatter(times_dict_bsr.keys(),times_dict_bsr.values(),label='binary search recursive',marker='s',s=100)\n",
    "plt.scatter(times_dict_bsi.keys(),times_dict_bsi.values(),label='binary search iterative',marker='*',s=100)\n",
    "ax = plt.gca()\n",
    "ax.set_xscale('log')\n",
    "#ax.set_yscale('log')\n",
    "plt.legend()\n",
    "plt.xlabel('list length',fontsize=14)\n",
    "plt.ylabel('time in seconds',fontsize=14);\n",
    "plt.title('comparison of search algorithm timing');"
   ]
  },
  {
   "cell_type": "code",
   "execution_count": null,
   "metadata": {},
   "outputs": [],
   "source": []
  }
 ],
 "metadata": {
  "kernelspec": {
   "display_name": "Python 3",
   "language": "python",
   "name": "python3"
  },
  "language_info": {
   "codemirror_mode": {
    "name": "ipython",
    "version": 3
   },
   "file_extension": ".py",
   "mimetype": "text/x-python",
   "name": "python",
   "nbconvert_exporter": "python",
   "pygments_lexer": "ipython3",
   "version": "3.6.6"
  }
 },
 "nbformat": 4,
 "nbformat_minor": 2
}
