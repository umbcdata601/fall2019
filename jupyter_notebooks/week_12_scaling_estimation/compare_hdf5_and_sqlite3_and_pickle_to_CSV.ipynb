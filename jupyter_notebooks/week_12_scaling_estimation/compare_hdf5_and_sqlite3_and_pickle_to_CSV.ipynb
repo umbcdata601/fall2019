{
 "cells": [
  {
   "cell_type": "markdown",
   "metadata": {},
   "source": [
    "# saving data to disk\n",
    "\n",
    "In 601 we have focused on get data from plain text files (CSV, JSON, XML) and Excel. There are other file formats capable of holding tables.\n",
    "\n",
    "The purpose of this notebook is to provide illustration of alternative storage formats. We can read data from any of these formats into Pandas. \n",
    "\n",
    "We will not be using SQL or Pickle or HDF5 in 601. <BR>\n",
    "These options are not relevant for your homework or projects."
   ]
  },
  {
   "cell_type": "code",
   "execution_count": 1,
   "metadata": {},
   "outputs": [
    {
     "name": "stdout",
     "output_type": "stream",
     "text": [
      "Collecting tables\n",
      "  Using cached https://files.pythonhosted.org/packages/ed/c3/8fd9e3bb21872f9d69eb93b3014c86479864cca94e625fd03713ccacec80/tables-3.6.1-cp36-cp36m-manylinux1_x86_64.whl\n",
      "Requirement already satisfied: numpy>=1.9.3 in /opt/conda/lib/python3.6/site-packages (from tables) (1.13.3)\n",
      "Requirement already satisfied: numexpr>=2.6.2 in /opt/conda/lib/python3.6/site-packages (from tables) (2.6.8)\n",
      "Installing collected packages: tables\n",
      "Successfully installed tables-3.6.1\n"
     ]
    }
   ],
   "source": [
    "# https://stackoverflow.com/questions/25980018/importerror-hdfstore-requires-pytables-no-module-named-tables\n",
    "!pip install tables"
   ]
  },
  {
   "cell_type": "code",
   "execution_count": 2,
   "metadata": {},
   "outputs": [
    {
     "name": "stdout",
     "output_type": "stream",
     "text": [
      "3.6.6 | packaged by conda-forge | (default, Oct 12 2018, 14:08:43) \n",
      "[GCC 4.8.2 20140120 (Red Hat 4.8.2-15)]\n",
      "pandas 0.23.4\n",
      "numpy 1.13.3\n",
      "sqlite3 2.6.0\n"
     ]
    }
   ],
   "source": [
    "import os\n",
    "import sys\n",
    "print(sys.version)\n",
    "import h5py\n",
    "import pandas\n",
    "print('pandas',pandas.__version__)\n",
    "import numpy\n",
    "print('numpy',numpy.__version__)\n",
    "import sqlite3\n",
    "print('sqlite3',sqlite3.version)\n",
    "import pickle\n",
    "from faker import Faker\n",
    "fake = Faker()\n",
    "import time"
   ]
  },
  {
   "cell_type": "markdown",
   "metadata": {},
   "source": [
    "# create a couple dataframes to save"
   ]
  },
  {
   "cell_type": "markdown",
   "metadata": {},
   "source": [
    "## numeric data"
   ]
  },
  {
   "cell_type": "code",
   "execution_count": 3,
   "metadata": {},
   "outputs": [
    {
     "name": "stdout",
     "output_type": "stream",
     "text": [
      "(1000000, 4)\n"
     ]
    },
    {
     "data": {
      "text/html": [
       "<div>\n",
       "<style scoped>\n",
       "    .dataframe tbody tr th:only-of-type {\n",
       "        vertical-align: middle;\n",
       "    }\n",
       "\n",
       "    .dataframe tbody tr th {\n",
       "        vertical-align: top;\n",
       "    }\n",
       "\n",
       "    .dataframe thead th {\n",
       "        text-align: right;\n",
       "    }\n",
       "</style>\n",
       "<table border=\"1\" class=\"dataframe\">\n",
       "  <thead>\n",
       "    <tr style=\"text-align: right;\">\n",
       "      <th></th>\n",
       "      <th>A</th>\n",
       "      <th>B</th>\n",
       "      <th>C</th>\n",
       "      <th>D</th>\n",
       "    </tr>\n",
       "  </thead>\n",
       "  <tbody>\n",
       "    <tr>\n",
       "      <th>0</th>\n",
       "      <td>371</td>\n",
       "      <td>882</td>\n",
       "      <td>816</td>\n",
       "      <td>621</td>\n",
       "    </tr>\n",
       "    <tr>\n",
       "      <th>1</th>\n",
       "      <td>762</td>\n",
       "      <td>731</td>\n",
       "      <td>736</td>\n",
       "      <td>151</td>\n",
       "    </tr>\n",
       "    <tr>\n",
       "      <th>2</th>\n",
       "      <td>969</td>\n",
       "      <td>604</td>\n",
       "      <td>434</td>\n",
       "      <td>257</td>\n",
       "    </tr>\n",
       "    <tr>\n",
       "      <th>3</th>\n",
       "      <td>185</td>\n",
       "      <td>952</td>\n",
       "      <td>561</td>\n",
       "      <td>731</td>\n",
       "    </tr>\n",
       "    <tr>\n",
       "      <th>4</th>\n",
       "      <td>196</td>\n",
       "      <td>734</td>\n",
       "      <td>951</td>\n",
       "      <td>797</td>\n",
       "    </tr>\n",
       "  </tbody>\n",
       "</table>\n",
       "</div>"
      ],
      "text/plain": [
       "     A    B    C    D\n",
       "0  371  882  816  621\n",
       "1  762  731  736  151\n",
       "2  969  604  434  257\n",
       "3  185  952  561  731\n",
       "4  196  734  951  797"
      ]
     },
     "execution_count": 3,
     "metadata": {},
     "output_type": "execute_result"
    }
   ],
   "source": [
    "row_count=1000000\n",
    "df_numeric = pandas.DataFrame(numpy.random.randint(0,1000,\n",
    "                      size=(row_count, 4)), \n",
    "                      columns=list('ABCD'))\n",
    "\n",
    "print(df_numeric.shape)\n",
    "\n",
    "df_numeric.head()"
   ]
  },
  {
   "cell_type": "code",
   "execution_count": 4,
   "metadata": {},
   "outputs": [
    {
     "data": {
      "text/plain": [
       "(1000000, 4)"
      ]
     },
     "execution_count": 4,
     "metadata": {},
     "output_type": "execute_result"
    }
   ],
   "source": [
    "df_numeric.shape"
   ]
  },
  {
   "cell_type": "markdown",
   "metadata": {},
   "source": [
    "### metadata \n",
    "Did you know you can add attributes to a dataframe?\n",
    "\n",
    "<a href=\"https://stackoverflow.com/questions/14688306/adding-meta-information-metadata-to-pandas-dataframe\">source</a>"
   ]
  },
  {
   "cell_type": "code",
   "execution_count": 5,
   "metadata": {},
   "outputs": [],
   "source": [
    "df_numeric.author_name = \"Ben\""
   ]
  },
  {
   "cell_type": "code",
   "execution_count": 6,
   "metadata": {},
   "outputs": [
    {
     "data": {
      "text/plain": [
       "'Ben'"
      ]
     },
     "execution_count": 6,
     "metadata": {},
     "output_type": "execute_result"
    }
   ],
   "source": [
    "df_numeric.author_name"
   ]
  },
  {
   "cell_type": "markdown",
   "metadata": {},
   "source": [
    "## text data"
   ]
  },
  {
   "cell_type": "code",
   "execution_count": 7,
   "metadata": {},
   "outputs": [
    {
     "name": "stdout",
     "output_type": "stream",
     "text": [
      "elapsed 20.72 seconds\n"
     ]
    }
   ],
   "source": [
    "start_time=time.time()\n",
    "list_of_dicts=[]\n",
    "num_rows=8500 # 850 is ~1MB CSV and takes 1.5 seconds; 8500 takes 15 seconds\n",
    "for indx in range(num_rows):\n",
    "    list_of_dicts.append({'name':fake.name(),\n",
    "                    'date':fake.date(),\n",
    "                    'domain name':fake.domain_name(),\n",
    "                    'day of month':fake.day_of_month(),\n",
    "                    'day of week':fake.day_of_week(),\n",
    "                    'country':fake.country(),\n",
    "                    'company':fake.company(),\n",
    "                    'city':fake.city(),\n",
    "                    'email':fake.ascii_email(),\n",
    "                    'bank':fake.bank_country()})\n",
    "    \n",
    "df_text = pandas.DataFrame(list_of_dicts)\n",
    "print('elapsed',round(time.time()-start_time,2),'seconds')"
   ]
  },
  {
   "cell_type": "code",
   "execution_count": 8,
   "metadata": {},
   "outputs": [
    {
     "data": {
      "text/html": [
       "<div>\n",
       "<style scoped>\n",
       "    .dataframe tbody tr th:only-of-type {\n",
       "        vertical-align: middle;\n",
       "    }\n",
       "\n",
       "    .dataframe tbody tr th {\n",
       "        vertical-align: top;\n",
       "    }\n",
       "\n",
       "    .dataframe thead th {\n",
       "        text-align: right;\n",
       "    }\n",
       "</style>\n",
       "<table border=\"1\" class=\"dataframe\">\n",
       "  <thead>\n",
       "    <tr style=\"text-align: right;\">\n",
       "      <th></th>\n",
       "      <th>bank</th>\n",
       "      <th>city</th>\n",
       "      <th>company</th>\n",
       "      <th>country</th>\n",
       "      <th>date</th>\n",
       "      <th>day of month</th>\n",
       "      <th>day of week</th>\n",
       "      <th>domain name</th>\n",
       "      <th>email</th>\n",
       "      <th>name</th>\n",
       "    </tr>\n",
       "  </thead>\n",
       "  <tbody>\n",
       "    <tr>\n",
       "      <th>0</th>\n",
       "      <td>GB</td>\n",
       "      <td>Ronaldview</td>\n",
       "      <td>Frey, Garcia and Jones</td>\n",
       "      <td>Dominican Republic</td>\n",
       "      <td>2015-12-28</td>\n",
       "      <td>10</td>\n",
       "      <td>Tuesday</td>\n",
       "      <td>dennis-dunn.com</td>\n",
       "      <td>annavazquez@yahoo.com</td>\n",
       "      <td>Dr. Hailey Torres DVM</td>\n",
       "    </tr>\n",
       "    <tr>\n",
       "      <th>1</th>\n",
       "      <td>GB</td>\n",
       "      <td>Fraziershire</td>\n",
       "      <td>Cox-Hamilton</td>\n",
       "      <td>New Caledonia</td>\n",
       "      <td>1994-10-11</td>\n",
       "      <td>21</td>\n",
       "      <td>Tuesday</td>\n",
       "      <td>barnes-tran.info</td>\n",
       "      <td>aaron24@mcfarland-rivera.com</td>\n",
       "      <td>Brenda Clark</td>\n",
       "    </tr>\n",
       "    <tr>\n",
       "      <th>2</th>\n",
       "      <td>GB</td>\n",
       "      <td>Huntstad</td>\n",
       "      <td>Anderson-Osborne</td>\n",
       "      <td>Taiwan</td>\n",
       "      <td>1977-07-09</td>\n",
       "      <td>24</td>\n",
       "      <td>Tuesday</td>\n",
       "      <td>flowers.net</td>\n",
       "      <td>foleywilliam@yahoo.com</td>\n",
       "      <td>Paul Benson</td>\n",
       "    </tr>\n",
       "    <tr>\n",
       "      <th>3</th>\n",
       "      <td>GB</td>\n",
       "      <td>Lake Brenda</td>\n",
       "      <td>Whitehead Group</td>\n",
       "      <td>Bahrain</td>\n",
       "      <td>2009-04-01</td>\n",
       "      <td>25</td>\n",
       "      <td>Sunday</td>\n",
       "      <td>washington.com</td>\n",
       "      <td>xortiz@gmail.com</td>\n",
       "      <td>Julia Mueller</td>\n",
       "    </tr>\n",
       "    <tr>\n",
       "      <th>4</th>\n",
       "      <td>GB</td>\n",
       "      <td>Scottborough</td>\n",
       "      <td>Richardson, Huerta and Gonzales</td>\n",
       "      <td>Turkey</td>\n",
       "      <td>1985-08-25</td>\n",
       "      <td>26</td>\n",
       "      <td>Friday</td>\n",
       "      <td>jones.net</td>\n",
       "      <td>charles42@newman-walters.com</td>\n",
       "      <td>Jennifer Lawrence</td>\n",
       "    </tr>\n",
       "  </tbody>\n",
       "</table>\n",
       "</div>"
      ],
      "text/plain": [
       "  bank          city                          company             country  \\\n",
       "0   GB    Ronaldview           Frey, Garcia and Jones  Dominican Republic   \n",
       "1   GB  Fraziershire                     Cox-Hamilton       New Caledonia   \n",
       "2   GB      Huntstad                 Anderson-Osborne              Taiwan   \n",
       "3   GB   Lake Brenda                  Whitehead Group             Bahrain   \n",
       "4   GB  Scottborough  Richardson, Huerta and Gonzales              Turkey   \n",
       "\n",
       "         date day of month day of week       domain name  \\\n",
       "0  2015-12-28           10     Tuesday   dennis-dunn.com   \n",
       "1  1994-10-11           21     Tuesday  barnes-tran.info   \n",
       "2  1977-07-09           24     Tuesday       flowers.net   \n",
       "3  2009-04-01           25      Sunday    washington.com   \n",
       "4  1985-08-25           26      Friday         jones.net   \n",
       "\n",
       "                          email                   name  \n",
       "0         annavazquez@yahoo.com  Dr. Hailey Torres DVM  \n",
       "1  aaron24@mcfarland-rivera.com           Brenda Clark  \n",
       "2        foleywilliam@yahoo.com            Paul Benson  \n",
       "3              xortiz@gmail.com          Julia Mueller  \n",
       "4  charles42@newman-walters.com      Jennifer Lawrence  "
      ]
     },
     "execution_count": 8,
     "metadata": {},
     "output_type": "execute_result"
    }
   ],
   "source": [
    "df_text.head()"
   ]
  },
  {
   "cell_type": "code",
   "execution_count": 9,
   "metadata": {},
   "outputs": [
    {
     "data": {
      "text/plain": [
       "(8500, 10)"
      ]
     },
     "execution_count": 9,
     "metadata": {},
     "output_type": "execute_result"
    }
   ],
   "source": [
    "df_text.shape"
   ]
  },
  {
   "cell_type": "markdown",
   "metadata": {},
   "source": [
    "# compare size on disk for single dataframe \n",
    "\n",
    "The point of this comparison is not because file size matters.\n",
    "\n",
    "Instead, the objectives are to show \n",
    "1. how to read and write variables to various file formats\n",
    "1. that the file size on disk can be read into Python"
   ]
  },
  {
   "cell_type": "markdown",
   "metadata": {},
   "source": [
    "## HDF5\n",
    "HDF overview:\n",
    "\n",
    "https://en.wikipedia.org/wiki/Hierarchical_Data_Format\n",
    "\n",
    "Python package:\n",
    "\n",
    "https://www.h5py.org/<BR>\n",
    "http://docs.h5py.org/en/stable/\n",
    "\n",
    "Pandas integration:\n",
    "\n",
    "https://glowingpython.blogspot.com/2014/08/quick-hdf5-with-pandas.html<BR>\n",
    "https://stackoverflow.com/questions/28170623/how-to-read-hdf5-files-in-python<BR>\n",
    "https://medium.com/@jerilkuriakose/using-hdf5-with-python-6c5242d08773<BR>\n",
    "https://pandas.pydata.org/pandas-docs/stable/user_guide/io.html\n",
    "    \n",
    "Metadata:\n",
    "    \n",
    "https://support.hdfgroup.org/HDF5/doc/Advanced/HDF5_Metadata/index.html<BR>\n",
    "http://docs.h5py.org/en/stable/high/attr.html"
   ]
  },
  {
   "cell_type": "code",
   "execution_count": 10,
   "metadata": {},
   "outputs": [],
   "source": [
    "# https://stackoverflow.com/questions/41173254/how-should-i-use-h5py-lib-for-storing-time-series-data\n",
    "\n",
    "with pandas.HDFStore('temp.h5', 'w') as h:\n",
    "    df_numeric.to_hdf(h, 'temp') # https://pandas.pydata.org/pandas-docs/stable/reference/api/pandas.DataFrame.to_hdf.html"
   ]
  },
  {
   "cell_type": "code",
   "execution_count": 11,
   "metadata": {},
   "outputs": [
    {
     "name": "stdout",
     "output_type": "stream",
     "text": [
      "38.15 MB file on disk\n"
     ]
    }
   ],
   "source": [
    "print(round(os.path.getsize(\"temp.h5\")/(1024*1024),2),'MB file on disk')"
   ]
  },
  {
   "cell_type": "markdown",
   "metadata": {},
   "source": [
    "to read the content, use"
   ]
  },
  {
   "cell_type": "code",
   "execution_count": 12,
   "metadata": {},
   "outputs": [],
   "source": [
    "df_out = pandas.read_hdf('temp.h5', 'temp')"
   ]
  },
  {
   "cell_type": "markdown",
   "metadata": {},
   "source": [
    "The attribute we added does not get written by \".to_hdf\""
   ]
  },
  {
   "cell_type": "raw",
   "metadata": {},
   "source": [
    "df_out.author_name"
   ]
  },
  {
   "cell_type": "markdown",
   "metadata": {},
   "source": [
    "https://stackoverflow.com/questions/29129095/save-additional-attributes-in-pandas-dataframe/29130146#29130146\n",
    "\n",
    "https://dev.to/epassaro/gsoc-2019-june-ii-fjk\n",
    "\n",
    "https://www.science-emergence.com/Articles/How-to-save-a-large-dataset-in-a-hdf5-file-using-python--Quick-Guide/\n",
    "\n",
    "https://www.science-emergence.com/Articles/How-to-add-metadata-to-a-data-frame-with-pandas-in-python-/"
   ]
  },
  {
   "cell_type": "code",
   "execution_count": 14,
   "metadata": {},
   "outputs": [],
   "source": [
    "with pandas.HDFStore('temp_2.h5', 'w') as stor:\n",
    "    stor.put('mydata', df_numeric)\n",
    "    stor.get_storer('mydata').attrs.metadata = df_numeric.author_name"
   ]
  },
  {
   "cell_type": "code",
   "execution_count": 15,
   "metadata": {},
   "outputs": [],
   "source": [
    "df_out_2 = pandas.read_hdf('temp_2.h5', 'mydata')"
   ]
  },
  {
   "cell_type": "code",
   "execution_count": 16,
   "metadata": {},
   "outputs": [
    {
     "data": {
      "text/html": [
       "<div>\n",
       "<style scoped>\n",
       "    .dataframe tbody tr th:only-of-type {\n",
       "        vertical-align: middle;\n",
       "    }\n",
       "\n",
       "    .dataframe tbody tr th {\n",
       "        vertical-align: top;\n",
       "    }\n",
       "\n",
       "    .dataframe thead th {\n",
       "        text-align: right;\n",
       "    }\n",
       "</style>\n",
       "<table border=\"1\" class=\"dataframe\">\n",
       "  <thead>\n",
       "    <tr style=\"text-align: right;\">\n",
       "      <th></th>\n",
       "      <th>A</th>\n",
       "      <th>B</th>\n",
       "      <th>C</th>\n",
       "      <th>D</th>\n",
       "    </tr>\n",
       "  </thead>\n",
       "  <tbody>\n",
       "    <tr>\n",
       "      <th>0</th>\n",
       "      <td>371</td>\n",
       "      <td>882</td>\n",
       "      <td>816</td>\n",
       "      <td>621</td>\n",
       "    </tr>\n",
       "    <tr>\n",
       "      <th>1</th>\n",
       "      <td>762</td>\n",
       "      <td>731</td>\n",
       "      <td>736</td>\n",
       "      <td>151</td>\n",
       "    </tr>\n",
       "    <tr>\n",
       "      <th>2</th>\n",
       "      <td>969</td>\n",
       "      <td>604</td>\n",
       "      <td>434</td>\n",
       "      <td>257</td>\n",
       "    </tr>\n",
       "    <tr>\n",
       "      <th>3</th>\n",
       "      <td>185</td>\n",
       "      <td>952</td>\n",
       "      <td>561</td>\n",
       "      <td>731</td>\n",
       "    </tr>\n",
       "    <tr>\n",
       "      <th>4</th>\n",
       "      <td>196</td>\n",
       "      <td>734</td>\n",
       "      <td>951</td>\n",
       "      <td>797</td>\n",
       "    </tr>\n",
       "  </tbody>\n",
       "</table>\n",
       "</div>"
      ],
      "text/plain": [
       "     A    B    C    D\n",
       "0  371  882  816  621\n",
       "1  762  731  736  151\n",
       "2  969  604  434  257\n",
       "3  185  952  561  731\n",
       "4  196  734  951  797"
      ]
     },
     "execution_count": 16,
     "metadata": {},
     "output_type": "execute_result"
    }
   ],
   "source": [
    "df_out_2.head()"
   ]
  },
  {
   "cell_type": "markdown",
   "metadata": {},
   "source": [
    "## compare to CSV on disk"
   ]
  },
  {
   "cell_type": "code",
   "execution_count": 17,
   "metadata": {},
   "outputs": [],
   "source": [
    "df_numeric.to_csv('temp.csv')"
   ]
  },
  {
   "cell_type": "code",
   "execution_count": 18,
   "metadata": {},
   "outputs": [
    {
     "name": "stdout",
     "output_type": "stream",
     "text": [
      "21.41 MB file on disk\n"
     ]
    }
   ],
   "source": [
    "print(round(os.path.getsize(\"temp.csv\")/(1024*1024),2),'MB file on disk')"
   ]
  },
  {
   "cell_type": "markdown",
   "metadata": {},
   "source": [
    "## compare to SQLite\n",
    "\n",
    "https://www.dataquest.io/blog/python-pandas-databases/<BR>\n",
    "https://stackoverflow.com/questions/14431646/how-to-write-pandas-dataframe-to-sqlite-with-index<BR>\n",
    "https://pythonspot.com/sqlite-database-with-pandas/<BR>\n",
    "https://datacarpentry.org/python-ecology-lesson/09-working-with-sql/index.html<BR>\n",
    "http://sdsawtelle.github.io/blog/output/large-data-files-pandas-sqlite.html"
   ]
  },
  {
   "cell_type": "code",
   "execution_count": 19,
   "metadata": {},
   "outputs": [],
   "source": [
    "conn = sqlite3.connect(\"temp.db\")\n",
    "cur = conn.cursor() # https://docs.python.org/3/library/sqlite3.html#cursor-objects"
   ]
  },
  {
   "cell_type": "code",
   "execution_count": 20,
   "metadata": {},
   "outputs": [],
   "source": [
    "# https://pandas.pydata.org/pandas-docs/stable/reference/api/pandas.DataFrame.to_sql.html\n",
    "\n",
    "df_numeric.to_sql(name=\"data\", con=conn, if_exists=\"append\", index=False)"
   ]
  },
  {
   "cell_type": "code",
   "execution_count": 21,
   "metadata": {},
   "outputs": [
    {
     "name": "stdout",
     "output_type": "stream",
     "text": [
      "72.79296875 MB file on disk\n"
     ]
    }
   ],
   "source": [
    "print(os.path.getsize(\"temp.db\")/(1024*1024),'MB file on disk')"
   ]
  },
  {
   "cell_type": "markdown",
   "metadata": {},
   "source": [
    "## Python pickle serialization"
   ]
  },
  {
   "cell_type": "code",
   "execution_count": 22,
   "metadata": {},
   "outputs": [],
   "source": [
    "df_numeric.to_pickle(\"temp.pkl\")"
   ]
  },
  {
   "cell_type": "code",
   "execution_count": 23,
   "metadata": {},
   "outputs": [
    {
     "name": "stdout",
     "output_type": "stream",
     "text": [
      "30.518251419067383 MB file on disk\n"
     ]
    }
   ],
   "source": [
    "print(os.path.getsize(\"temp.pkl\")/(1024*1024),'MB file on disk')"
   ]
  },
  {
   "cell_type": "markdown",
   "metadata": {},
   "source": [
    "\n",
    "<BR>\n",
    "<BR>\n",
    "<BR>\n",
    "    \n",
    "# Save two dataframes to file\n",
    "    \n",
    "So far we've shown how to save one variable to one file. \n",
    "\n",
    "Sometimes we want to save more than one table to a single file"
   ]
  },
  {
   "cell_type": "markdown",
   "metadata": {},
   "source": [
    "## two variables to one HDF5 file\n",
    "\n",
    "https://datascience.stackexchange.com/questions/33171/what-s-the-best-way-to-save-many-pandas-dataframes-together"
   ]
  },
  {
   "cell_type": "code",
   "execution_count": 24,
   "metadata": {},
   "outputs": [],
   "source": [
    "h5_fout = h5py.File('temp.h5')\n",
    "\n",
    "h5_fout.create_dataset(\n",
    "        name='numeric',\n",
    "        data=df_numeric,\n",
    "        compression='gzip', compression_opts=4)\n",
    "\n",
    "h5_fout.create_dataset(\n",
    "        name='text',\n",
    "        data=df_text,\n",
    "        compression='gzip', compression_opts=4,\n",
    "        dtype=h5py.special_dtype(vlen=str)) # http://docs.h5py.org/en/stable/special.html\n",
    "\n",
    "h5_fout.create_dataset('description', data='some dataframes')\n",
    "h5_fout.close()"
   ]
  },
  {
   "cell_type": "code",
   "execution_count": null,
   "metadata": {},
   "outputs": [],
   "source": []
  },
  {
   "cell_type": "markdown",
   "metadata": {},
   "source": [
    "## Python pickle serialization"
   ]
  },
  {
   "cell_type": "code",
   "execution_count": 25,
   "metadata": {},
   "outputs": [],
   "source": [
    "with open('temp.pkl', \"wb\") as f:\n",
    "    pickle.dump(df_text, f)\n",
    "    pickle.dump(df_numeric, f)"
   ]
  },
  {
   "cell_type": "code",
   "execution_count": 26,
   "metadata": {},
   "outputs": [
    {
     "name": "stdout",
     "output_type": "stream",
     "text": [
      "32.0 MB file on disk\n"
     ]
    }
   ],
   "source": [
    "print(round(os.path.getsize(\"temp.pkl\")/(1024*1024),2),'MB file on disk')"
   ]
  },
  {
   "cell_type": "code",
   "execution_count": 27,
   "metadata": {},
   "outputs": [],
   "source": [
    "# https://stackoverflow.com/questions/20716812/saving-and-loading-multiple-objects-in-pickle-file\n",
    "def loadall(filename):\n",
    "    with open(filename, \"rb\") as f:\n",
    "        while True:\n",
    "            try:\n",
    "                yield pickle.load(f)\n",
    "            except EOFError:\n",
    "                break"
   ]
  },
  {
   "cell_type": "code",
   "execution_count": 28,
   "metadata": {},
   "outputs": [],
   "source": [
    "items = list(loadall('temp.pkl'))"
   ]
  },
  {
   "cell_type": "code",
   "execution_count": 29,
   "metadata": {},
   "outputs": [
    {
     "data": {
      "text/plain": [
       "2"
      ]
     },
     "execution_count": 29,
     "metadata": {},
     "output_type": "execute_result"
    }
   ],
   "source": [
    "len(items)"
   ]
  },
  {
   "cell_type": "code",
   "execution_count": 30,
   "metadata": {},
   "outputs": [
    {
     "data": {
      "text/html": [
       "<div>\n",
       "<style scoped>\n",
       "    .dataframe tbody tr th:only-of-type {\n",
       "        vertical-align: middle;\n",
       "    }\n",
       "\n",
       "    .dataframe tbody tr th {\n",
       "        vertical-align: top;\n",
       "    }\n",
       "\n",
       "    .dataframe thead th {\n",
       "        text-align: right;\n",
       "    }\n",
       "</style>\n",
       "<table border=\"1\" class=\"dataframe\">\n",
       "  <thead>\n",
       "    <tr style=\"text-align: right;\">\n",
       "      <th></th>\n",
       "      <th>bank</th>\n",
       "      <th>city</th>\n",
       "      <th>company</th>\n",
       "      <th>country</th>\n",
       "      <th>date</th>\n",
       "      <th>day of month</th>\n",
       "      <th>day of week</th>\n",
       "      <th>domain name</th>\n",
       "      <th>email</th>\n",
       "      <th>name</th>\n",
       "    </tr>\n",
       "  </thead>\n",
       "  <tbody>\n",
       "    <tr>\n",
       "      <th>0</th>\n",
       "      <td>GB</td>\n",
       "      <td>Ronaldview</td>\n",
       "      <td>Frey, Garcia and Jones</td>\n",
       "      <td>Dominican Republic</td>\n",
       "      <td>2015-12-28</td>\n",
       "      <td>10</td>\n",
       "      <td>Tuesday</td>\n",
       "      <td>dennis-dunn.com</td>\n",
       "      <td>annavazquez@yahoo.com</td>\n",
       "      <td>Dr. Hailey Torres DVM</td>\n",
       "    </tr>\n",
       "    <tr>\n",
       "      <th>1</th>\n",
       "      <td>GB</td>\n",
       "      <td>Fraziershire</td>\n",
       "      <td>Cox-Hamilton</td>\n",
       "      <td>New Caledonia</td>\n",
       "      <td>1994-10-11</td>\n",
       "      <td>21</td>\n",
       "      <td>Tuesday</td>\n",
       "      <td>barnes-tran.info</td>\n",
       "      <td>aaron24@mcfarland-rivera.com</td>\n",
       "      <td>Brenda Clark</td>\n",
       "    </tr>\n",
       "    <tr>\n",
       "      <th>2</th>\n",
       "      <td>GB</td>\n",
       "      <td>Huntstad</td>\n",
       "      <td>Anderson-Osborne</td>\n",
       "      <td>Taiwan</td>\n",
       "      <td>1977-07-09</td>\n",
       "      <td>24</td>\n",
       "      <td>Tuesday</td>\n",
       "      <td>flowers.net</td>\n",
       "      <td>foleywilliam@yahoo.com</td>\n",
       "      <td>Paul Benson</td>\n",
       "    </tr>\n",
       "    <tr>\n",
       "      <th>3</th>\n",
       "      <td>GB</td>\n",
       "      <td>Lake Brenda</td>\n",
       "      <td>Whitehead Group</td>\n",
       "      <td>Bahrain</td>\n",
       "      <td>2009-04-01</td>\n",
       "      <td>25</td>\n",
       "      <td>Sunday</td>\n",
       "      <td>washington.com</td>\n",
       "      <td>xortiz@gmail.com</td>\n",
       "      <td>Julia Mueller</td>\n",
       "    </tr>\n",
       "    <tr>\n",
       "      <th>4</th>\n",
       "      <td>GB</td>\n",
       "      <td>Scottborough</td>\n",
       "      <td>Richardson, Huerta and Gonzales</td>\n",
       "      <td>Turkey</td>\n",
       "      <td>1985-08-25</td>\n",
       "      <td>26</td>\n",
       "      <td>Friday</td>\n",
       "      <td>jones.net</td>\n",
       "      <td>charles42@newman-walters.com</td>\n",
       "      <td>Jennifer Lawrence</td>\n",
       "    </tr>\n",
       "  </tbody>\n",
       "</table>\n",
       "</div>"
      ],
      "text/plain": [
       "  bank          city                          company             country  \\\n",
       "0   GB    Ronaldview           Frey, Garcia and Jones  Dominican Republic   \n",
       "1   GB  Fraziershire                     Cox-Hamilton       New Caledonia   \n",
       "2   GB      Huntstad                 Anderson-Osborne              Taiwan   \n",
       "3   GB   Lake Brenda                  Whitehead Group             Bahrain   \n",
       "4   GB  Scottborough  Richardson, Huerta and Gonzales              Turkey   \n",
       "\n",
       "         date day of month day of week       domain name  \\\n",
       "0  2015-12-28           10     Tuesday   dennis-dunn.com   \n",
       "1  1994-10-11           21     Tuesday  barnes-tran.info   \n",
       "2  1977-07-09           24     Tuesday       flowers.net   \n",
       "3  2009-04-01           25      Sunday    washington.com   \n",
       "4  1985-08-25           26      Friday         jones.net   \n",
       "\n",
       "                          email                   name  \n",
       "0         annavazquez@yahoo.com  Dr. Hailey Torres DVM  \n",
       "1  aaron24@mcfarland-rivera.com           Brenda Clark  \n",
       "2        foleywilliam@yahoo.com            Paul Benson  \n",
       "3              xortiz@gmail.com          Julia Mueller  \n",
       "4  charles42@newman-walters.com      Jennifer Lawrence  "
      ]
     },
     "execution_count": 30,
     "metadata": {},
     "output_type": "execute_result"
    }
   ],
   "source": [
    "items[0].head()"
   ]
  },
  {
   "cell_type": "code",
   "execution_count": 31,
   "metadata": {},
   "outputs": [
    {
     "data": {
      "text/html": [
       "<div>\n",
       "<style scoped>\n",
       "    .dataframe tbody tr th:only-of-type {\n",
       "        vertical-align: middle;\n",
       "    }\n",
       "\n",
       "    .dataframe tbody tr th {\n",
       "        vertical-align: top;\n",
       "    }\n",
       "\n",
       "    .dataframe thead th {\n",
       "        text-align: right;\n",
       "    }\n",
       "</style>\n",
       "<table border=\"1\" class=\"dataframe\">\n",
       "  <thead>\n",
       "    <tr style=\"text-align: right;\">\n",
       "      <th></th>\n",
       "      <th>A</th>\n",
       "      <th>B</th>\n",
       "      <th>C</th>\n",
       "      <th>D</th>\n",
       "    </tr>\n",
       "  </thead>\n",
       "  <tbody>\n",
       "    <tr>\n",
       "      <th>0</th>\n",
       "      <td>371</td>\n",
       "      <td>882</td>\n",
       "      <td>816</td>\n",
       "      <td>621</td>\n",
       "    </tr>\n",
       "    <tr>\n",
       "      <th>1</th>\n",
       "      <td>762</td>\n",
       "      <td>731</td>\n",
       "      <td>736</td>\n",
       "      <td>151</td>\n",
       "    </tr>\n",
       "    <tr>\n",
       "      <th>2</th>\n",
       "      <td>969</td>\n",
       "      <td>604</td>\n",
       "      <td>434</td>\n",
       "      <td>257</td>\n",
       "    </tr>\n",
       "    <tr>\n",
       "      <th>3</th>\n",
       "      <td>185</td>\n",
       "      <td>952</td>\n",
       "      <td>561</td>\n",
       "      <td>731</td>\n",
       "    </tr>\n",
       "    <tr>\n",
       "      <th>4</th>\n",
       "      <td>196</td>\n",
       "      <td>734</td>\n",
       "      <td>951</td>\n",
       "      <td>797</td>\n",
       "    </tr>\n",
       "  </tbody>\n",
       "</table>\n",
       "</div>"
      ],
      "text/plain": [
       "     A    B    C    D\n",
       "0  371  882  816  621\n",
       "1  762  731  736  151\n",
       "2  969  604  434  257\n",
       "3  185  952  561  731\n",
       "4  196  734  951  797"
      ]
     },
     "execution_count": 31,
     "metadata": {},
     "output_type": "execute_result"
    }
   ],
   "source": [
    "items[1].head()"
   ]
  },
  {
   "cell_type": "code",
   "execution_count": null,
   "metadata": {},
   "outputs": [],
   "source": []
  }
 ],
 "metadata": {
  "kernelspec": {
   "display_name": "Python 3",
   "language": "python",
   "name": "python3"
  },
  "language_info": {
   "codemirror_mode": {
    "name": "ipython",
    "version": 3
   },
   "file_extension": ".py",
   "mimetype": "text/x-python",
   "name": "python",
   "nbconvert_exporter": "python",
   "pygments_lexer": "ipython3",
   "version": "3.6.6"
  }
 },
 "nbformat": 4,
 "nbformat_minor": 2
}
