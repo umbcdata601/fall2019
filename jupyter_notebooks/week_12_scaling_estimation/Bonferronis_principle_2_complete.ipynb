{
 "cells": [
  {
   "cell_type": "markdown",
   "metadata": {},
   "source": [
    "# Context\n",
    "Problem: The bigger the data set, the more likely \"rare\" events are to appear<BR>\n",
    "Solution: normalize by likelihood of the event being random <BR>\n",
    "https://www.kdnuggets.com/2016/07/big-data-bible-codes-bonferroni.html    \n",
    "    \n",
    "Collecting data, storing data, and analyzing data has a cost.<BR>\n",
    "The bigger the data set, the higher the cost, the more experiments you are going to run to get value.<BR>\n",
    "Problem: By <a href=\"https://en.wikipedia.org/wiki/Multiple_comparisons_problem\">increasing the number of tests</a>, you're more likely to find what you're looking for due to chance.<BR>\n",
    "Solution: https://en.wikipedia.org/wiki/Bonferroni_correction<BR>\n",
    "https://www.stat.berkeley.edu/~mgoldman/Section0402.pdf\n",
    "    \n"
   ]
  },
  {
   "cell_type": "markdown",
   "metadata": {},
   "source": [
    "# In this notebook\n",
    "\n",
    "We'll generate random data and look for patterns that are rare.\n",
    "\n",
    "As the size of the random data is increased, we find more of these \"rare\" outcomes. \n",
    "\n",
    "We can calculate whether this increase is expected or not."
   ]
  },
  {
   "cell_type": "code",
   "execution_count": 1,
   "metadata": {},
   "outputs": [],
   "source": [
    "import random\n",
    "import string\n",
    "import time\n",
    "import matplotlib.pyplot as plt"
   ]
  },
  {
   "cell_type": "markdown",
   "metadata": {},
   "source": [
    "use the \"string\" module to get a list of characters in the alphabet"
   ]
  },
  {
   "cell_type": "code",
   "execution_count": 2,
   "metadata": {},
   "outputs": [
    {
     "data": {
      "text/plain": [
       "'ABCDEFGHIJKLMNOPQRSTUVWXYZ'"
      ]
     },
     "execution_count": 2,
     "metadata": {},
     "output_type": "execute_result"
    }
   ],
   "source": [
    "string.ascii_uppercase"
   ]
  },
  {
   "cell_type": "markdown",
   "metadata": {},
   "source": [
    "Before we generate a string of size N,"
   ]
  },
  {
   "cell_type": "code",
   "execution_count": 3,
   "metadata": {},
   "outputs": [],
   "source": [
    "N=10"
   ]
  },
  {
   "cell_type": "raw",
   "metadata": {},
   "source": [
    "let's think about how many possible outcomes could be produced.\n",
    "\n",
    "With 26 letters and 10 characters, there are\n",
    "26*26*26*26*26*26*26*26*26*26 = 26^10 = "
   ]
  },
  {
   "cell_type": "code",
   "execution_count": 4,
   "metadata": {},
   "outputs": [
    {
     "data": {
      "text/plain": [
       "141167095653376"
      ]
     },
     "execution_count": 4,
     "metadata": {},
     "output_type": "execute_result"
    }
   ],
   "source": [
    "26**N"
   ]
  },
  {
   "cell_type": "raw",
   "metadata": {},
   "source": [
    "141,167,095,653,376 possible permutations for a 10 character string is a lot.\n",
    "T   B   M   T   H"
   ]
  },
  {
   "cell_type": "markdown",
   "metadata": {},
   "source": [
    "to generate the 10 character random string, we could write a loop:"
   ]
  },
  {
   "cell_type": "code",
   "execution_count": 5,
   "metadata": {},
   "outputs": [
    {
     "name": "stdout",
     "output_type": "stream",
     "text": [
      "IXBGZFQNLC\n",
      "elapsed time: 0.01412 seconds\n"
     ]
    }
   ],
   "source": [
    "start=time.time()\n",
    "this_str=[] # use a list to store the characters\n",
    "for digit_indx in range(N):\n",
    "    a_char=random.choice(string.ascii_uppercase) \n",
    "    this_str.append(a_char)\n",
    "\n",
    "print(''.join(this_str)) # combine the characters in the list into a string with no separators\n",
    "print('elapsed time:',round(time.time()-start,5),'seconds') # how long did that take?"
   ]
  },
  {
   "cell_type": "markdown",
   "metadata": {},
   "source": [
    "A much shorter way to write the same loop is to use a list comprehension.\n",
    "\n",
    "For example,"
   ]
  },
  {
   "cell_type": "code",
   "execution_count": 6,
   "metadata": {},
   "outputs": [
    {
     "data": {
      "text/plain": [
       "['a', 'a', 'a']"
      ]
     },
     "execution_count": 6,
     "metadata": {},
     "output_type": "execute_result"
    }
   ],
   "source": [
    "['a' for digit_indx in range(3)]"
   ]
  },
  {
   "cell_type": "markdown",
   "metadata": {},
   "source": [
    "Instead of `'a'`, use the `random.choice()` function\n",
    "\n",
    "Rather than naming the loop index variable, we can use an unnamed variable"
   ]
  },
  {
   "cell_type": "code",
   "execution_count": 7,
   "metadata": {},
   "outputs": [
    {
     "data": {
      "text/plain": [
       "['A', 'B', 'W', 'W', 'R', 'G', 'D', 'Z', 'P', 'E']"
      ]
     },
     "execution_count": 7,
     "metadata": {},
     "output_type": "execute_result"
    }
   ],
   "source": [
    "[random.choice(string.ascii_uppercase) for _ in range(N)]"
   ]
  },
  {
   "cell_type": "markdown",
   "metadata": {},
   "source": [
    "Lastly, we don't actually need a list, we are just going to combing it into a string:"
   ]
  },
  {
   "cell_type": "code",
   "execution_count": 8,
   "metadata": {},
   "outputs": [
    {
     "name": "stdout",
     "output_type": "stream",
     "text": [
      "elapsed time: 0.00087 seconds\n"
     ]
    }
   ],
   "source": [
    "start=time.time()\n",
    "my_str=''.join(random.choice(string.ascii_uppercase) for _ in range(N)) # select a random character N times\n",
    "print('elapsed time:',round(time.time()-start,5),'seconds') # how long did that take?"
   ]
  },
  {
   "cell_type": "code",
   "execution_count": 9,
   "metadata": {},
   "outputs": [
    {
     "data": {
      "text/plain": [
       "'JDGPOKYXLF'"
      ]
     },
     "execution_count": 9,
     "metadata": {},
     "output_type": "execute_result"
    }
   ],
   "source": [
    "my_str"
   ]
  },
  {
   "cell_type": "markdown",
   "metadata": {},
   "source": [
    "Using a list comprehension is slightly faster than the for loop and more concise, but those are not usually our objectives"
   ]
  },
  {
   "cell_type": "markdown",
   "metadata": {},
   "source": [
    "Find a \"pattern\" in random data:"
   ]
  },
  {
   "cell_type": "code",
   "execution_count": 10,
   "metadata": {},
   "outputs": [],
   "source": [
    "def one_match(str_to_match,\n",
    "              number_of_random_strings_to_inspect,\n",
    "              str_len,prt_bool):\n",
    "    \"\"\"\n",
    "    inputs: \n",
    "       * a string to find within a randomly generated string\n",
    "       * the number of tests to run\n",
    "       * a boolean to either print or not print output\n",
    "    outputs:\n",
    "       * the number of times the input string appears in a random string\n",
    "    \"\"\"\n",
    "    # count the number of matches for the input and the random strings\n",
    "    number_of_results=0\n",
    "    for test_indx in range(number_of_random_strings_to_inspect): # ct = number of test to run\n",
    "        # generate a random string\n",
    "        my_str=''.join(random.choice(string.ascii_uppercase) for _ in range(str_len))\n",
    "        # test to determine whether the input string is in the random string\n",
    "        if (str_to_match in my_str):\n",
    "            # if a match is found, increment the success counter\n",
    "            number_of_results+=1\n",
    "            if prt_bool:\n",
    "                print(my_str)\n",
    "    if prt_bool:\n",
    "        print('number of results:',number_of_results)\n",
    "    return(number_of_results)"
   ]
  },
  {
   "cell_type": "code",
   "execution_count": 11,
   "metadata": {},
   "outputs": [
    {
     "name": "stdout",
     "output_type": "stream",
     "text": [
      "number of results: 0\n"
     ]
    },
    {
     "data": {
      "text/plain": [
       "0"
      ]
     },
     "execution_count": 11,
     "metadata": {},
     "output_type": "execute_result"
    }
   ],
   "source": [
    "one_match('A',10,N,True)"
   ]
  },
  {
   "cell_type": "markdown",
   "metadata": {},
   "source": [
    "The probability of getting \"A\" in the first position of the 10 character string is 1/26.<BR>\n",
    "The probability of getting \"A\" in the second position of the 10 character string is 1/26.<BR>\n",
    "The probability of getting \"A\" in the third position of the 10 character string is 1/26.<BR>\n",
    "Therefore, the probability of getting \"A\" in any of 10 positions is"
   ]
  },
  {
   "cell_type": "code",
   "execution_count": 12,
   "metadata": {},
   "outputs": [
    {
     "data": {
      "text/plain": [
       "0.3846153846153846"
      ]
     },
     "execution_count": 12,
     "metadata": {},
     "output_type": "execute_result"
    }
   ],
   "source": [
    "(1/26)+(1/26)+(1/26)+(1/26)+(1/26)+(1/26)+(1/26)+(1/26)+(1/26)+(1/26)"
   ]
  },
  {
   "cell_type": "code",
   "execution_count": 13,
   "metadata": {},
   "outputs": [
    {
     "name": "stdout",
     "output_type": "stream",
     "text": [
      "number of results: 0\n"
     ]
    },
    {
     "data": {
      "text/plain": [
       "0"
      ]
     },
     "execution_count": 13,
     "metadata": {},
     "output_type": "execute_result"
    }
   ],
   "source": [
    "one_match('AAA',10,N,True)"
   ]
  },
  {
   "cell_type": "markdown",
   "metadata": {},
   "source": [
    "Therfore, the chance of getting \"AAA\" in the first three character is "
   ]
  },
  {
   "cell_type": "code",
   "execution_count": 24,
   "metadata": {},
   "outputs": [
    {
     "data": {
      "text/plain": [
       "5.689576695493856e-05"
      ]
     },
     "execution_count": 24,
     "metadata": {},
     "output_type": "execute_result"
    }
   ],
   "source": [
    "(1/26)*(1/26)*(1/26)"
   ]
  },
  {
   "cell_type": "markdown",
   "metadata": {},
   "source": [
    "I don't care where \"AAA\" shows up in the 10 character string, so the outcome for any of the 3 adjacent letters is"
   ]
  },
  {
   "cell_type": "code",
   "execution_count": 25,
   "metadata": {},
   "outputs": [
    {
     "data": {
      "text/plain": [
       "0.00045516613563950854"
      ]
     },
     "execution_count": 25,
     "metadata": {},
     "output_type": "execute_result"
    }
   ],
   "source": [
    "prob_find_AAA=(\n",
    "# AAA_______\n",
    "((1/26)*(1/26)*(1/26))+\n",
    "# _AAA______\n",
    "((1/26)*(1/26)*(1/26))+\n",
    "# __AAA_____\n",
    "((1/26)*(1/26)*(1/26))+\n",
    "# ___AAA____\n",
    "((1/26)*(1/26)*(1/26))+\n",
    "# ____AAA___\n",
    "((1/26)*(1/26)*(1/26))+\n",
    "# _____AAA__\n",
    "((1/26)*(1/26)*(1/26))+\n",
    "# ______AAA_\n",
    "((1/26)*(1/26)*(1/26))+\n",
    "# _______AAA\n",
    "((1/26)*(1/26)*(1/26))\n",
    ")\n",
    "\n",
    "prob_find_AAA"
   ]
  },
  {
   "cell_type": "code",
   "execution_count": 26,
   "metadata": {},
   "outputs": [],
   "source": [
    "number_of_tests_to_run=10000"
   ]
  },
  {
   "cell_type": "markdown",
   "metadata": {},
   "source": [
    "If we run 10,000 tests, what's the average number of matches?"
   ]
  },
  {
   "cell_type": "code",
   "execution_count": 27,
   "metadata": {},
   "outputs": [
    {
     "data": {
      "text/plain": [
       "4.55"
      ]
     },
     "execution_count": 27,
     "metadata": {},
     "output_type": "execute_result"
    }
   ],
   "source": [
    "round(number_of_tests_to_run*prob_find_AAA,2)"
   ]
  },
  {
   "cell_type": "code",
   "execution_count": 29,
   "metadata": {},
   "outputs": [
    {
     "name": "stdout",
     "output_type": "stream",
     "text": [
      "TAAAERMJMF\n",
      "JNRFAAAFUE\n",
      "DGAAAJEHOL\n",
      "AAAEGBDEKJ\n",
      "number of results: 4\n"
     ]
    },
    {
     "data": {
      "text/plain": [
       "4"
      ]
     },
     "execution_count": 29,
     "metadata": {},
     "output_type": "execute_result"
    }
   ],
   "source": [
    "one_match('AAA',number_of_tests_to_run,N,True)"
   ]
  },
  {
   "cell_type": "markdown",
   "metadata": {},
   "source": [
    "The more \"patterns\" we look for, the more successes we will find. \n",
    "\n",
    "Solution: normalize your \"successes\" count by the number of patterns you're looking for"
   ]
  },
  {
   "cell_type": "code",
   "execution_count": 30,
   "metadata": {},
   "outputs": [],
   "source": [
    "def two_matches(str1_to_match,\n",
    "                str2_to_match,\n",
    "                number_of_random_strings_to_inspect,\n",
    "                str_len,\n",
    "                prt_bool):\n",
    "    number_of_results=0\n",
    "    for test_indx in range(number_of_random_strings_to_inspect):\n",
    "        my_str=''.join(random.choice(string.ascii_uppercase) for _ in range(str_len))\n",
    "        if (str1_to_match in my_str) or (str2_to_match in my_str):\n",
    "            number_of_results+=1\n",
    "            if prt_bool:\n",
    "                print(my_str)\n",
    "    if prt_bool:\n",
    "        print('number of results:',number_of_results)\n",
    "    return(number_of_results)"
   ]
  },
  {
   "cell_type": "code",
   "execution_count": 31,
   "metadata": {},
   "outputs": [
    {
     "name": "stdout",
     "output_type": "stream",
     "text": [
      "MBBBIMRHIX\n",
      "QUAAATCPIY\n",
      "QSCNAAAPXQ\n",
      "EADBBBXHIO\n",
      "BKJZBBBFRF\n",
      "YBBBAOKYQX\n",
      "XXQUZZUAAA\n",
      "BQBBBUTZUY\n",
      "KBBBCQJJYO\n",
      "number of results: 9\n"
     ]
    }
   ],
   "source": [
    "rst_ct=two_matches('AAA','BBB',number_of_tests_to_run,N,True)"
   ]
  },
  {
   "cell_type": "markdown",
   "metadata": {},
   "source": [
    "That's higher than when we searched for only 'AAA'\n",
    "\n",
    "Though we found more results, we need to normalize the count by the number of searches we made:"
   ]
  },
  {
   "cell_type": "code",
   "execution_count": 32,
   "metadata": {},
   "outputs": [
    {
     "data": {
      "text/plain": [
       "4.5"
      ]
     },
     "execution_count": 32,
     "metadata": {},
     "output_type": "execute_result"
    }
   ],
   "source": [
    "rst_ct/2"
   ]
  },
  {
   "cell_type": "markdown",
   "metadata": {},
   "source": [
    "which is close to the original expection"
   ]
  },
  {
   "cell_type": "code",
   "execution_count": 33,
   "metadata": {},
   "outputs": [
    {
     "data": {
      "text/plain": [
       "4.55"
      ]
     },
     "execution_count": 33,
     "metadata": {},
     "output_type": "execute_result"
    }
   ],
   "source": [
    "round(number_of_tests_to_run*prob_find_AAA,2)"
   ]
  },
  {
   "cell_type": "markdown",
   "metadata": {},
   "source": [
    "<!-- # the rest of this content is irrelevant -->"
   ]
  },
  {
   "cell_type": "markdown",
   "metadata": {},
   "source": [
    "<!-- Caveat: the following takes a long time (about 2 minutes) to run -->"
   ]
  },
  {
   "cell_type": "markdown",
   "metadata": {},
   "source": [
    "<!-- \n",
    "start=time.time()\n",
    "list_of_results=[]\n",
    "for indx in range(1000):\n",
    "    rst_ct=two_matches('AAA','BBB',number_of_tests_to_run,N,False)\n",
    "    list_of_results.append(rst_ct)\n",
    "print(time.time()-start)\n",
    "-->"
   ]
  },
  {
   "cell_type": "markdown",
   "metadata": {},
   "source": [
    "<!-- \n",
    "_=plt.hist(list_of_results)\n",
    "_=plt.xlabel('number of matches',fontsize=14)\n",
    "_=plt.ylabel('count',fontsize=14)\n",
    "-->"
   ]
  },
  {
   "cell_type": "markdown",
   "metadata": {},
   "source": [
    "<BR>\n",
    "    <BR>\n",
    "        <BR>\n",
    "            <BR>\n",
    "                <BR>\n",
    "                    <BR>\n",
    "<!-- As we scale up the amount of data we search, we find more successes -->"
   ]
  }
 ],
 "metadata": {
  "kernelspec": {
   "display_name": "Python 3",
   "language": "python",
   "name": "python3"
  },
  "language_info": {
   "codemirror_mode": {
    "name": "ipython",
    "version": 3
   },
   "file_extension": ".py",
   "mimetype": "text/x-python",
   "name": "python",
   "nbconvert_exporter": "python",
   "pygments_lexer": "ipython3",
   "version": "3.6.6"
  }
 },
 "nbformat": 4,
 "nbformat_minor": 2
}
