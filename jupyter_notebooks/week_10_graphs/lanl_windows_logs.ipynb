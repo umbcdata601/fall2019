{
 "cells": [
  {
   "cell_type": "markdown",
   "metadata": {},
   "source": [
    "https://csr.lanl.gov/data/2017.html\n",
    "\n",
    "https://csr.lanl.gov/data-fence/1571548765/1fcFh-bNWqPJuUSQe72Z9N_Nw28=/unified-host-network-dataset-2017/wls.html"
   ]
  },
  {
   "cell_type": "markdown",
   "metadata": {},
   "source": [
    "Compressed, wls_day-01.bz2 is 390MB\n",
    "\n",
    "Extracts to 11GB"
   ]
  },
  {
   "cell_type": "raw",
   "metadata": {},
   "source": [
    "!bzip2 -d wls_day-01.bz2"
   ]
  },
  {
   "cell_type": "code",
   "execution_count": 4,
   "metadata": {},
   "outputs": [
    {
     "name": "stdout",
     "output_type": "stream",
     "text": [
      "pandas 0.23.4\n",
      "networkx 2.2\n"
     ]
    }
   ],
   "source": [
    "import pandas\n",
    "print('pandas',pandas.__version__)\n",
    "import networkx\n",
    "print('networkx',networkx.__version__)\n",
    "from networkx import nx\n",
    "from matplotlib import pyplot as plt\n",
    "import time\n",
    "import pickle"
   ]
  },
  {
   "cell_type": "code",
   "execution_count": 6,
   "metadata": {},
   "outputs": [],
   "source": [
    "df = pandas.read_json('wls_day-01_first100000lines',lines=True)"
   ]
  },
  {
   "cell_type": "code",
   "execution_count": 8,
   "metadata": {},
   "outputs": [
    {
     "data": {
      "text/plain": [
       "(100000, 21)"
      ]
     },
     "execution_count": 8,
     "metadata": {},
     "output_type": "execute_result"
    }
   ],
   "source": [
    "df.shape"
   ]
  },
  {
   "cell_type": "code",
   "execution_count": 9,
   "metadata": {},
   "outputs": [
    {
     "data": {
      "text/html": [
       "<div>\n",
       "<style scoped>\n",
       "    .dataframe tbody tr th:only-of-type {\n",
       "        vertical-align: middle;\n",
       "    }\n",
       "\n",
       "    .dataframe tbody tr th {\n",
       "        vertical-align: top;\n",
       "    }\n",
       "\n",
       "    .dataframe thead th {\n",
       "        text-align: right;\n",
       "    }\n",
       "</style>\n",
       "<table border=\"1\" class=\"dataframe\">\n",
       "  <thead>\n",
       "    <tr style=\"text-align: right;\">\n",
       "      <th></th>\n",
       "      <th>0</th>\n",
       "      <th>1</th>\n",
       "      <th>2</th>\n",
       "      <th>3</th>\n",
       "      <th>4</th>\n",
       "    </tr>\n",
       "  </thead>\n",
       "  <tbody>\n",
       "    <tr>\n",
       "      <th>AuthenticationPackage</th>\n",
       "      <td>NaN</td>\n",
       "      <td>NaN</td>\n",
       "      <td>NaN</td>\n",
       "      <td>NaN</td>\n",
       "      <td>NaN</td>\n",
       "    </tr>\n",
       "    <tr>\n",
       "      <th>Destination</th>\n",
       "      <td>NaN</td>\n",
       "      <td>NaN</td>\n",
       "      <td>NaN</td>\n",
       "      <td>NaN</td>\n",
       "      <td>NaN</td>\n",
       "    </tr>\n",
       "    <tr>\n",
       "      <th>DomainName</th>\n",
       "      <td>Domain001</td>\n",
       "      <td>Domain001</td>\n",
       "      <td>Domain001</td>\n",
       "      <td>Domain001</td>\n",
       "      <td>Domain001</td>\n",
       "    </tr>\n",
       "    <tr>\n",
       "      <th>EventID</th>\n",
       "      <td>4688</td>\n",
       "      <td>4688</td>\n",
       "      <td>4688</td>\n",
       "      <td>4688</td>\n",
       "      <td>4688</td>\n",
       "    </tr>\n",
       "    <tr>\n",
       "      <th>FailureReason</th>\n",
       "      <td>NaN</td>\n",
       "      <td>NaN</td>\n",
       "      <td>NaN</td>\n",
       "      <td>NaN</td>\n",
       "      <td>NaN</td>\n",
       "    </tr>\n",
       "    <tr>\n",
       "      <th>LogHost</th>\n",
       "      <td>Comp607982</td>\n",
       "      <td>Comp991643</td>\n",
       "      <td>Comp736087</td>\n",
       "      <td>Comp093128</td>\n",
       "      <td>Comp006850</td>\n",
       "    </tr>\n",
       "    <tr>\n",
       "      <th>LogonID</th>\n",
       "      <td>0x3e7</td>\n",
       "      <td>0x3e7</td>\n",
       "      <td>0x3e7</td>\n",
       "      <td>0x3e7</td>\n",
       "      <td>0x3e7</td>\n",
       "    </tr>\n",
       "    <tr>\n",
       "      <th>LogonType</th>\n",
       "      <td>NaN</td>\n",
       "      <td>NaN</td>\n",
       "      <td>NaN</td>\n",
       "      <td>NaN</td>\n",
       "      <td>NaN</td>\n",
       "    </tr>\n",
       "    <tr>\n",
       "      <th>LogonTypeDescription</th>\n",
       "      <td>NaN</td>\n",
       "      <td>NaN</td>\n",
       "      <td>NaN</td>\n",
       "      <td>NaN</td>\n",
       "      <td>NaN</td>\n",
       "    </tr>\n",
       "    <tr>\n",
       "      <th>ParentProcessID</th>\n",
       "      <td>0x2ac</td>\n",
       "      <td>0x334</td>\n",
       "      <td>0x2e8</td>\n",
       "      <td>0x2d4</td>\n",
       "      <td>0x278</td>\n",
       "    </tr>\n",
       "    <tr>\n",
       "      <th>ParentProcessName</th>\n",
       "      <td>services</td>\n",
       "      <td>services</td>\n",
       "      <td>services</td>\n",
       "      <td>services</td>\n",
       "      <td>services</td>\n",
       "    </tr>\n",
       "    <tr>\n",
       "      <th>ProcessID</th>\n",
       "      <td>0x1418</td>\n",
       "      <td>0xc0c</td>\n",
       "      <td>0x2074</td>\n",
       "      <td>0x2200</td>\n",
       "      <td>0x498</td>\n",
       "    </tr>\n",
       "    <tr>\n",
       "      <th>ProcessName</th>\n",
       "      <td>svchost.exe</td>\n",
       "      <td>rundll32.exe</td>\n",
       "      <td>svchost.exe</td>\n",
       "      <td>vssvc.exe</td>\n",
       "      <td>svchost.exe</td>\n",
       "    </tr>\n",
       "    <tr>\n",
       "      <th>ServiceName</th>\n",
       "      <td>NaN</td>\n",
       "      <td>NaN</td>\n",
       "      <td>NaN</td>\n",
       "      <td>NaN</td>\n",
       "      <td>NaN</td>\n",
       "    </tr>\n",
       "    <tr>\n",
       "      <th>Source</th>\n",
       "      <td>NaN</td>\n",
       "      <td>NaN</td>\n",
       "      <td>NaN</td>\n",
       "      <td>NaN</td>\n",
       "      <td>NaN</td>\n",
       "    </tr>\n",
       "    <tr>\n",
       "      <th>Status</th>\n",
       "      <td>NaN</td>\n",
       "      <td>NaN</td>\n",
       "      <td>NaN</td>\n",
       "      <td>NaN</td>\n",
       "      <td>NaN</td>\n",
       "    </tr>\n",
       "    <tr>\n",
       "      <th>SubjectDomainName</th>\n",
       "      <td>NaN</td>\n",
       "      <td>NaN</td>\n",
       "      <td>NaN</td>\n",
       "      <td>NaN</td>\n",
       "      <td>NaN</td>\n",
       "    </tr>\n",
       "    <tr>\n",
       "      <th>SubjectLogonID</th>\n",
       "      <td>NaN</td>\n",
       "      <td>NaN</td>\n",
       "      <td>NaN</td>\n",
       "      <td>NaN</td>\n",
       "      <td>NaN</td>\n",
       "    </tr>\n",
       "    <tr>\n",
       "      <th>SubjectUserName</th>\n",
       "      <td>NaN</td>\n",
       "      <td>NaN</td>\n",
       "      <td>NaN</td>\n",
       "      <td>NaN</td>\n",
       "      <td>NaN</td>\n",
       "    </tr>\n",
       "    <tr>\n",
       "      <th>Time</th>\n",
       "      <td>1</td>\n",
       "      <td>1</td>\n",
       "      <td>1</td>\n",
       "      <td>1</td>\n",
       "      <td>1</td>\n",
       "    </tr>\n",
       "    <tr>\n",
       "      <th>UserName</th>\n",
       "      <td>Comp607982$</td>\n",
       "      <td>Comp991643$</td>\n",
       "      <td>Comp736087$</td>\n",
       "      <td>Comp093128$</td>\n",
       "      <td>Comp006850$</td>\n",
       "    </tr>\n",
       "  </tbody>\n",
       "</table>\n",
       "</div>"
      ],
      "text/plain": [
       "                                 0             1            2            3  \\\n",
       "AuthenticationPackage          NaN           NaN          NaN          NaN   \n",
       "Destination                    NaN           NaN          NaN          NaN   \n",
       "DomainName               Domain001     Domain001    Domain001    Domain001   \n",
       "EventID                       4688          4688         4688         4688   \n",
       "FailureReason                  NaN           NaN          NaN          NaN   \n",
       "LogHost                 Comp607982    Comp991643   Comp736087   Comp093128   \n",
       "LogonID                      0x3e7         0x3e7        0x3e7        0x3e7   \n",
       "LogonType                      NaN           NaN          NaN          NaN   \n",
       "LogonTypeDescription           NaN           NaN          NaN          NaN   \n",
       "ParentProcessID              0x2ac         0x334        0x2e8        0x2d4   \n",
       "ParentProcessName         services      services     services     services   \n",
       "ProcessID                   0x1418         0xc0c       0x2074       0x2200   \n",
       "ProcessName            svchost.exe  rundll32.exe  svchost.exe    vssvc.exe   \n",
       "ServiceName                    NaN           NaN          NaN          NaN   \n",
       "Source                         NaN           NaN          NaN          NaN   \n",
       "Status                         NaN           NaN          NaN          NaN   \n",
       "SubjectDomainName              NaN           NaN          NaN          NaN   \n",
       "SubjectLogonID                 NaN           NaN          NaN          NaN   \n",
       "SubjectUserName                NaN           NaN          NaN          NaN   \n",
       "Time                             1             1            1            1   \n",
       "UserName               Comp607982$   Comp991643$  Comp736087$  Comp093128$   \n",
       "\n",
       "                                 4  \n",
       "AuthenticationPackage          NaN  \n",
       "Destination                    NaN  \n",
       "DomainName               Domain001  \n",
       "EventID                       4688  \n",
       "FailureReason                  NaN  \n",
       "LogHost                 Comp006850  \n",
       "LogonID                      0x3e7  \n",
       "LogonType                      NaN  \n",
       "LogonTypeDescription           NaN  \n",
       "ParentProcessID              0x278  \n",
       "ParentProcessName         services  \n",
       "ProcessID                    0x498  \n",
       "ProcessName            svchost.exe  \n",
       "ServiceName                    NaN  \n",
       "Source                         NaN  \n",
       "Status                         NaN  \n",
       "SubjectDomainName              NaN  \n",
       "SubjectLogonID                 NaN  \n",
       "SubjectUserName                NaN  \n",
       "Time                             1  \n",
       "UserName               Comp006850$  "
      ]
     },
     "execution_count": 9,
     "metadata": {},
     "output_type": "execute_result"
    }
   ],
   "source": [
    "df.head().T"
   ]
  },
  {
   "cell_type": "code",
   "execution_count": 24,
   "metadata": {},
   "outputs": [
    {
     "data": {
      "text/plain": [
       "8108"
      ]
     },
     "execution_count": 24,
     "metadata": {},
     "output_type": "execute_result"
    }
   ],
   "source": [
    "df['UserName'].nunique()"
   ]
  },
  {
   "cell_type": "code",
   "execution_count": 12,
   "metadata": {},
   "outputs": [
    {
     "data": {
      "text/plain": [
       "wmiprvse.exe              12315\n",
       "services.exe               7725\n",
       "svchost.exe                4172\n",
       "vssvc.exe                  3688\n",
       "rundll32.exe               2650\n",
       "dllhost.exe                2454\n",
       "searchfilterhost.exe       1871\n",
       "searchprotocolhost.exe     1778\n",
       "conhost.exe                1576\n",
       "Proc746489.exe             1508\n",
       "Name: ProcessName, dtype: int64"
      ]
     },
     "execution_count": 12,
     "metadata": {},
     "output_type": "execute_result"
    }
   ],
   "source": [
    "df['ProcessName'].value_counts().head(10)"
   ]
  },
  {
   "cell_type": "code",
   "execution_count": 23,
   "metadata": {},
   "outputs": [
    {
     "data": {
      "text/plain": [
       "wmiprvse.exe              12315\n",
       "services.exe               7725\n",
       "svchost.exe                4172\n",
       "vssvc.exe                  3688\n",
       "rundll32.exe               2650\n",
       "dllhost.exe                2454\n",
       "searchfilterhost.exe       1871\n",
       "searchprotocolhost.exe     1778\n",
       "conhost.exe                1576\n",
       "taskhost.exe                820\n",
       "cmd.exe                     748\n",
       "cscript.exe                 427\n",
       "taskeng.exe                 401\n",
       "wermgr.exe                  159\n",
       "werfault.exe                157\n",
       "lsass.exe                    85\n",
       "winlogon.exe                  9\n",
       "csrss.exe                     7\n",
       "net.exe                       6\n",
       "net1.exe                      6\n",
       "Name: ProcessName, dtype: int64"
      ]
     },
     "execution_count": 23,
     "metadata": {},
     "output_type": "execute_result"
    }
   ],
   "source": [
    "ser = df['ProcessName'].dropna()\n",
    "\n",
    "ser[~ser.str.contains('Proc')].value_counts()"
   ]
  },
  {
   "cell_type": "code",
   "execution_count": null,
   "metadata": {},
   "outputs": [],
   "source": []
  }
 ],
 "metadata": {
  "kernelspec": {
   "display_name": "Python 3",
   "language": "python",
   "name": "python3"
  },
  "language_info": {
   "codemirror_mode": {
    "name": "ipython",
    "version": 3
   },
   "file_extension": ".py",
   "mimetype": "text/x-python",
   "name": "python",
   "nbconvert_exporter": "python",
   "pygments_lexer": "ipython3",
   "version": "3.6.6"
  }
 },
 "nbformat": 4,
 "nbformat_minor": 2
}
