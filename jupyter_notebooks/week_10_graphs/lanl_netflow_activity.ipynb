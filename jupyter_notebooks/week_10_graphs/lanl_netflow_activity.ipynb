{
 "cells": [
  {
   "cell_type": "markdown",
   "metadata": {},
   "source": [
    "https://csr.lanl.gov/data/2017.html\n",
    "\n",
    "\n",
    "https://csr.lanl.gov/data-fence/1571548765/1fcFh-bNWqPJuUSQe72Z9N_Nw28=/unified-host-network-dataset-2017/netflow.html"
   ]
  },
  {
   "cell_type": "markdown",
   "metadata": {},
   "source": [
    "Compressed, netflow_day-02.bz2 is 1100MB\n",
    "\n",
    "Extracts to 6.7GB; that's 115,949,436 lines"
   ]
  },
  {
   "cell_type": "raw",
   "metadata": {},
   "source": [
    "!bzip2 -d netflow_day-02.bz2 "
   ]
  },
  {
   "cell_type": "code",
   "execution_count": 1,
   "metadata": {},
   "outputs": [
    {
     "name": "stdout",
     "output_type": "stream",
     "text": [
      "pandas 0.23.4\n",
      "networkx 2.2\n"
     ]
    }
   ],
   "source": [
    "import pandas\n",
    "print('pandas',pandas.__version__)\n",
    "import networkx\n",
    "print('networkx',networkx.__version__)\n",
    "from networkx import nx\n",
    "from matplotlib import pyplot as plt\n",
    "import time\n",
    "import pickle"
   ]
  },
  {
   "cell_type": "markdown",
   "metadata": {},
   "source": [
    "# Load data"
   ]
  },
  {
   "cell_type": "markdown",
   "metadata": {},
   "source": [
    "* Time: The start time of the event in epoch time format\n",
    "* Duration: The duration of the event in seconds.\n",
    "* SrcDevice: The device that likely initiated the event.\n",
    "* DstDevice: The receiving device.\n",
    "* Protocol: The protocol number.\n",
    "* SrcPort: The port used by the SrcDevice.\n",
    "* DstPort: The port used by the DstDevice.\n",
    "* SrcPackets: The number of packets the SrcDevice sent during the event.\n",
    "* DstPackets: The number of packets the DstDevice sent during the event.\n",
    "* SrcBytes: The number of bytes the SrcDevice sent during the event.\n",
    "* DstBytes: The number of bytes the DstDevice sent during the event."
   ]
  },
  {
   "cell_type": "raw",
   "metadata": {},
   "source": [
    "start_time = time.time()\n",
    "nfdf = pandas.read_csv('netflow_day-02',\n",
    "                       nrows=1000000, \n",
    "                       names=['Time','Duration','SrcDevice','DstDevice','Protocol','SrcPort','DstPort','SrcPackets','DstPackets','SrcBytes','DstBytes'])\n",
    "print('elapsed',round(time.time()-start_time,2),'seconds')"
   ]
  },
  {
   "cell_type": "markdown",
   "metadata": {},
   "source": [
    "nfdf.to_pickle(\"netflow_day_02_1E6rows.pkl\")"
   ]
  },
  {
   "cell_type": "code",
   "execution_count": 2,
   "metadata": {},
   "outputs": [
    {
     "name": "stdout",
     "output_type": "stream",
     "text": [
      "elapsed 0.8 seconds\n"
     ]
    }
   ],
   "source": [
    "start_time = time.time()\n",
    "nfdf = pandas.read_pickle('netflow_day_02_1E6rows.pkl')\n",
    "print('elapsed',round(time.time()-start_time,2),'seconds')"
   ]
  },
  {
   "cell_type": "markdown",
   "metadata": {},
   "source": [
    "# Exploration, Characterization"
   ]
  },
  {
   "cell_type": "code",
   "execution_count": 3,
   "metadata": {},
   "outputs": [
    {
     "data": {
      "text/plain": [
       "(1000000, 11)"
      ]
     },
     "execution_count": 3,
     "metadata": {},
     "output_type": "execute_result"
    }
   ],
   "source": [
    "nfdf.shape"
   ]
  },
  {
   "cell_type": "code",
   "execution_count": 4,
   "metadata": {},
   "outputs": [
    {
     "data": {
      "text/html": [
       "<div>\n",
       "<style scoped>\n",
       "    .dataframe tbody tr th:only-of-type {\n",
       "        vertical-align: middle;\n",
       "    }\n",
       "\n",
       "    .dataframe tbody tr th {\n",
       "        vertical-align: top;\n",
       "    }\n",
       "\n",
       "    .dataframe thead th {\n",
       "        text-align: right;\n",
       "    }\n",
       "</style>\n",
       "<table border=\"1\" class=\"dataframe\">\n",
       "  <thead>\n",
       "    <tr style=\"text-align: right;\">\n",
       "      <th></th>\n",
       "      <th>Time</th>\n",
       "      <th>Duration</th>\n",
       "      <th>SrcDevice</th>\n",
       "      <th>DstDevice</th>\n",
       "      <th>Protocol</th>\n",
       "      <th>SrcPort</th>\n",
       "      <th>DstPort</th>\n",
       "      <th>SrcPackets</th>\n",
       "      <th>DstPackets</th>\n",
       "      <th>SrcBytes</th>\n",
       "      <th>DstBytes</th>\n",
       "    </tr>\n",
       "  </thead>\n",
       "  <tbody>\n",
       "    <tr>\n",
       "      <th>0</th>\n",
       "      <td>118781</td>\n",
       "      <td>5580</td>\n",
       "      <td>Comp364445</td>\n",
       "      <td>Comp547245</td>\n",
       "      <td>17</td>\n",
       "      <td>Port05507</td>\n",
       "      <td>Port46272</td>\n",
       "      <td>0</td>\n",
       "      <td>755065</td>\n",
       "      <td>0</td>\n",
       "      <td>1042329018</td>\n",
       "    </tr>\n",
       "    <tr>\n",
       "      <th>1</th>\n",
       "      <td>118783</td>\n",
       "      <td>6976</td>\n",
       "      <td>Comp450942</td>\n",
       "      <td>Comp829338</td>\n",
       "      <td>6</td>\n",
       "      <td>Port03137</td>\n",
       "      <td>445</td>\n",
       "      <td>1665</td>\n",
       "      <td>1108</td>\n",
       "      <td>300810</td>\n",
       "      <td>250408</td>\n",
       "    </tr>\n",
       "    <tr>\n",
       "      <th>2</th>\n",
       "      <td>118785</td>\n",
       "      <td>14178</td>\n",
       "      <td>IP564116</td>\n",
       "      <td>Comp141988</td>\n",
       "      <td>17</td>\n",
       "      <td>5060</td>\n",
       "      <td>5060</td>\n",
       "      <td>1866</td>\n",
       "      <td>0</td>\n",
       "      <td>1477041</td>\n",
       "      <td>0</td>\n",
       "    </tr>\n",
       "    <tr>\n",
       "      <th>3</th>\n",
       "      <td>118785</td>\n",
       "      <td>28147</td>\n",
       "      <td>IP564116</td>\n",
       "      <td>Comp141988</td>\n",
       "      <td>17</td>\n",
       "      <td>5060</td>\n",
       "      <td>5060</td>\n",
       "      <td>3326</td>\n",
       "      <td>0</td>\n",
       "      <td>2656305</td>\n",
       "      <td>0</td>\n",
       "    </tr>\n",
       "    <tr>\n",
       "      <th>4</th>\n",
       "      <td>118785</td>\n",
       "      <td>48507</td>\n",
       "      <td>IP564116</td>\n",
       "      <td>Comp141988</td>\n",
       "      <td>17</td>\n",
       "      <td>5060</td>\n",
       "      <td>5060</td>\n",
       "      <td>5423</td>\n",
       "      <td>0</td>\n",
       "      <td>4388449</td>\n",
       "      <td>0</td>\n",
       "    </tr>\n",
       "  </tbody>\n",
       "</table>\n",
       "</div>"
      ],
      "text/plain": [
       "     Time  Duration   SrcDevice   DstDevice  Protocol    SrcPort    DstPort  \\\n",
       "0  118781      5580  Comp364445  Comp547245        17  Port05507  Port46272   \n",
       "1  118783      6976  Comp450942  Comp829338         6  Port03137        445   \n",
       "2  118785     14178    IP564116  Comp141988        17       5060       5060   \n",
       "3  118785     28147    IP564116  Comp141988        17       5060       5060   \n",
       "4  118785     48507    IP564116  Comp141988        17       5060       5060   \n",
       "\n",
       "   SrcPackets  DstPackets  SrcBytes    DstBytes  \n",
       "0           0      755065         0  1042329018  \n",
       "1        1665        1108    300810      250408  \n",
       "2        1866           0   1477041           0  \n",
       "3        3326           0   2656305           0  \n",
       "4        5423           0   4388449           0  "
      ]
     },
     "execution_count": 4,
     "metadata": {},
     "output_type": "execute_result"
    }
   ],
   "source": [
    "nfdf.head()"
   ]
  },
  {
   "cell_type": "markdown",
   "metadata": {},
   "source": [
    "# visualize using Networkx\n",
    "\n",
    "Here I provide code to visualize a graph"
   ]
  },
  {
   "cell_type": "markdown",
   "metadata": {},
   "source": [
    "https://networkx.github.io/documentation/stable/reference/generated/networkx.convert_matrix.from_pandas_edgelist.html#networkx.convert_matrix.from_pandas_edgelist"
   ]
  },
  {
   "cell_type": "code",
   "execution_count": 5,
   "metadata": {},
   "outputs": [],
   "source": [
    "try:\n",
    "    G.clear()\n",
    "except NameError:\n",
    "    pass"
   ]
  },
  {
   "cell_type": "markdown",
   "metadata": {},
   "source": [
    "The following line allows you to select the number of rows used in the graph"
   ]
  },
  {
   "cell_type": "code",
   "execution_count": 6,
   "metadata": {},
   "outputs": [],
   "source": [
    "G = nx.from_pandas_edgelist(nfdf[0:10],'SrcDevice','DstDevice','Duration')"
   ]
  },
  {
   "cell_type": "code",
   "execution_count": 7,
   "metadata": {},
   "outputs": [
    {
     "data": {
      "text/plain": [
       "6"
      ]
     },
     "execution_count": 7,
     "metadata": {},
     "output_type": "execute_result"
    }
   ],
   "source": [
    "G.number_of_nodes()"
   ]
  },
  {
   "cell_type": "markdown",
   "metadata": {},
   "source": [
    "### no labels"
   ]
  },
  {
   "cell_type": "code",
   "execution_count": 8,
   "metadata": {},
   "outputs": [
    {
     "name": "stderr",
     "output_type": "stream",
     "text": [
      "/opt/conda/lib/python3.6/site-packages/networkx/drawing/nx_pylab.py:611: MatplotlibDeprecationWarning: isinstance(..., numbers.Number)\n",
      "  if cb.is_numlike(alpha):\n"
     ]
    },
    {
     "data": {
      "image/png": "[encoded data removed]",
      "text/plain": [
       "<Figure size 432x288 with 1 Axes>"
      ]
     },
     "metadata": {},
     "output_type": "display_data"
    }
   ],
   "source": [
    "nx.draw(G, with_labels = False, node_size = 100)\n",
    "plt.show()"
   ]
  },
  {
   "cell_type": "code",
   "execution_count": 9,
   "metadata": {},
   "outputs": [
    {
     "data": {
      "image/png": "[encoded data removed]",
      "text/plain": [
       "<Figure size 432x288 with 1 Axes>"
      ]
     },
     "metadata": {},
     "output_type": "display_data"
    }
   ],
   "source": [
    "nx.draw(G, with_labels=False,node_size=100,pos = nx.circular_layout(G))\n",
    "plt.show()"
   ]
  },
  {
   "cell_type": "code",
   "execution_count": 10,
   "metadata": {},
   "outputs": [
    {
     "data": {
      "image/png": "[encoded data removed]",
      "text/plain": [
       "<Figure size 432x288 with 1 Axes>"
      ]
     },
     "metadata": {},
     "output_type": "display_data"
    }
   ],
   "source": [
    "pos = nx.spring_layout(G)\n",
    "nx.draw(G,with_labels=True)\n",
    "nx.draw_networkx_edge_labels(G,pos=pos,with_labels=True)\n",
    "_=plt.axis('off')"
   ]
  },
  {
   "cell_type": "markdown",
   "metadata": {},
   "source": [
    "# TASK: what number of nodes makes the visualization unreadable?\n",
    "\n",
    "You have a dataframe with 1,000,000 rows. \n",
    "\n",
    "First, design your experiments. What number of rows will you explore to address the question? \n",
    "\n",
    "At what point does node and/or edge labeling provide value?"
   ]
  },
  {
   "cell_type": "code",
   "execution_count": null,
   "metadata": {},
   "outputs": [],
   "source": []
  },
  {
   "cell_type": "code",
   "execution_count": null,
   "metadata": {},
   "outputs": [],
   "source": []
  }
 ],
 "metadata": {
  "kernelspec": {
   "display_name": "Python 3",
   "language": "python",
   "name": "python3"
  },
  "language_info": {
   "codemirror_mode": {
    "name": "ipython",
    "version": 3
   },
   "file_extension": ".py",
   "mimetype": "text/x-python",
   "name": "python",
   "nbconvert_exporter": "python",
   "pygments_lexer": "ipython3",
   "version": "3.6.6"
  }
 },
 "nbformat": 4,
 "nbformat_minor": 2
}
